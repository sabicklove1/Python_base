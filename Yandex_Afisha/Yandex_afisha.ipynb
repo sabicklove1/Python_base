{
 "cells": [
  {
   "cell_type": "markdown",
   "id": "63abd30e-fcb5-4378-8775-5c9a29ab519a",
   "metadata": {},
   "source": [
    "# Анализ пользовательского спроса и проверка гипотез для Яндекс Афиши\n",
    "\n",
    "## Цели и задачи\n",
    "**Цели:**\n",
    "- Выявить причину общего изменения в пользовательском спросе\n",
    "- Разобраться, какие события стали привлекать больше зрителей, а какие организаторы и площадки выбились в лидеры\n",
    "- Понять, отличаются ли своей активностью пользователи мобильных устройств от клиентов, которые бронируют билеты со стационарного компьютера\n",
    "\n",
    "**Задачи:**\n",
    "- Загрузить данные и познакомиться с их содержимым.\n",
    "- Провести предобработку данных.\n",
    "- Провести исследовательский анализ данных и объединение таблиц.\n",
    "- Провести статистический анализ данных\n",
    "- Сделать общий вывод и рекомендации\n",
    "\n",
    "\n",
    "## Описание данных\n",
    "\n",
    "Для анализа поступили данные о заказах билетов, событиях и площадках проведения мероприятия\n",
    "- `final_tickets_orders_df.csv` - информация обо всех заказах билетов, совершённых с двух типов устройств — мобильных и стационарных;\n",
    "- `final_tickets_events_df` - информация о событиях, включая город и регион события, а также информацию о площадке проведения мероприятия за исключением фильмов (событий такого типа было не так много)\n",
    "- `final_tickets_tenge_df.csv` - информациея о курсе тенге к российскому рублю за 2024 год\n",
    "\n",
    "\n",
    "### Описание датасета `final_tickets_orders_df.csv`\n",
    "- order_id — уникальный идентификатор заказа.\n",
    "- user_id — уникальный идентификатор пользователя.\n",
    "- created_dt_msk — дата создания заказа (московское время).\n",
    "- created_ts_msk — дата и время создания заказа (московское время).\n",
    "- event_id — идентификатор мероприятия из таблицы events.\n",
    "- cinema_circuit — сеть кинотеатров. Если не применимо, то здесь будет значение 'нет'.\n",
    "- age_limit — возрастное ограничение мероприятия.\n",
    "- currency_code — валюта оплаты, например rub для российских рублей.\n",
    "- device_type_canonical — тип устройства, с которого был оформлен заказ, например mobile для мобильных устройств, desktop для стационарных.\n",
    "- revenue — выручка от заказа.\n",
    "- service_name — название билетного оператора.\n",
    "- tickets_count — количество купленных билетов.\n",
    "- total — общая сумма заказа.\n",
    "- days_since_prev - количество дней с предыдущей покупки для каждого пользователя. Если покупки не было, то данные содержат пропуск.\n",
    "\n",
    "\n",
    "### Описание датасета `final_tickets_events_df.csv`\n",
    "- event_id — уникальный идентификатор мероприятия.\n",
    "- event_name — название мероприятия. Аналог поля event_name_code из исходной базы данных.\n",
    "- event_type_description — описание типа мероприятия.\n",
    "- event_type_main — основной тип мероприятия: театральная постановка, концерт и так далее.\n",
    "- organizers — организаторы мероприятия.\n",
    "- region_name — название региона.\n",
    "- city_name — название города.\n",
    "- venue_id — уникальный идентификатор площадки.\n",
    "- venue_name — название площадки.\n",
    "- venue_address — адрес площадки.\n",
    "\n",
    "\n",
    "### Описание датасета `final_tickets_tenge_df.csv`\n",
    "- nominal — номинал (100 тенге).\n",
    "- data — дата.\n",
    "- curs — курс тенге к рублю.\n",
    "- cdx — обозначение валюты (kzt).\n",
    "\n",
    "\n",
    "## Структура проекта\n",
    "1.  Загрузка данных и знакомство с ними\n",
    "- Оценка объема и корректности данных \n",
    "- Предположение шагов для предоработки данных\n",
    "\n",
    "2. Предобработка данных и подготовка их к исследованию\n",
    "- Проверка данных на пропуски\n",
    "- Изучение значения в ключевых столбцах\n",
    "  - Для категориальных значений\n",
    "  - Для количественных значений\n",
    "- Проверка явных и неявных дубликатов\n",
    "- Преобразования типов данных\n",
    "- Создание новых столбцов\n",
    "  - revenue_rub\n",
    "  - one_ticket_revenue_rub\n",
    "  - month\n",
    "  - season\n",
    "\n",
    "3. Исследовательский анализ данных\n",
    "- Анализ распределения заказов по сегментам и их сезонные изменения\n",
    "- Изучение активности пользователей осенью 2024 года\n",
    "- Изучение распределения по популярным событиям и партнёрам\n",
    "\n",
    "4. Статистический анализ данных\n",
    "- Проверка нескольких гипотез относительно активности пользователей мобильных и стационарных устройств\n",
    "\n",
    "5. Общий вывод и рекомендации\n",
    "- Информация о данных\n",
    "- Основные результаты анализа\n",
    "- Комментарии по результатам проверки гипотез\n",
    "\n",
    "\n",
    "---\n"
   ]
  },
  {
   "cell_type": "markdown",
   "id": "65a2931f-ba6c-44dc-ba96-013ae1e97eeb",
   "metadata": {},
   "source": [
    "## 1. Загрузка данных и знакомство с ними"
   ]
  },
  {
   "cell_type": "code",
   "execution_count": 1,
   "id": "f4b74ced-f54a-452c-9ee9-70d3edf95a1f",
   "metadata": {},
   "outputs": [
    {
     "name": "stdout",
     "output_type": "stream",
     "text": [
      "Requirement already satisfied: pandas in ./opt/anaconda3/lib/python3.9/site-packages (2.2.3)\n",
      "Requirement already satisfied: matplotlib in ./opt/anaconda3/lib/python3.9/site-packages (3.9.4)\n",
      "Requirement already satisfied: seaborn in ./opt/anaconda3/lib/python3.9/site-packages (0.13.2)\n",
      "Requirement already satisfied: numpy in ./opt/anaconda3/lib/python3.9/site-packages (2.0.2)\n",
      "Requirement already satisfied: scipy in ./opt/anaconda3/lib/python3.9/site-packages (1.13.1)\n",
      "Requirement already satisfied: python-dateutil>=2.8.2 in ./opt/anaconda3/lib/python3.9/site-packages (from pandas) (2.9.0.post0)\n",
      "Requirement already satisfied: pytz>=2020.1 in ./opt/anaconda3/lib/python3.9/site-packages (from pandas) (2024.1)\n",
      "Requirement already satisfied: tzdata>=2022.7 in ./opt/anaconda3/lib/python3.9/site-packages (from pandas) (2025.1)\n",
      "Requirement already satisfied: contourpy>=1.0.1 in ./opt/anaconda3/lib/python3.9/site-packages (from matplotlib) (1.3.0)\n",
      "Requirement already satisfied: cycler>=0.10 in ./opt/anaconda3/lib/python3.9/site-packages (from matplotlib) (0.12.1)\n",
      "Requirement already satisfied: fonttools>=4.22.0 in ./opt/anaconda3/lib/python3.9/site-packages (from matplotlib) (4.56.0)\n",
      "Requirement already satisfied: kiwisolver>=1.3.1 in ./opt/anaconda3/lib/python3.9/site-packages (from matplotlib) (1.4.7)\n",
      "Requirement already satisfied: packaging>=20.0 in ./opt/anaconda3/lib/python3.9/site-packages (from matplotlib) (24.2)\n",
      "Requirement already satisfied: pillow>=8 in ./opt/anaconda3/lib/python3.9/site-packages (from matplotlib) (11.1.0)\n",
      "Requirement already satisfied: pyparsing>=2.3.1 in ./opt/anaconda3/lib/python3.9/site-packages (from matplotlib) (3.2.1)\n",
      "Requirement already satisfied: importlib-resources>=3.2.0 in ./opt/anaconda3/lib/python3.9/site-packages (from matplotlib) (6.5.2)\n",
      "Requirement already satisfied: zipp>=3.1.0 in ./opt/anaconda3/lib/python3.9/site-packages (from importlib-resources>=3.2.0->matplotlib) (3.21.0)\n",
      "Requirement already satisfied: six>=1.5 in ./opt/anaconda3/lib/python3.9/site-packages (from python-dateutil>=2.8.2->pandas) (1.16.0)\n"
     ]
    }
   ],
   "source": [
    "# Загружаем библиотеки\n",
    "!pip install pandas matplotlib seaborn numpy scipy"
   ]
  },
  {
   "cell_type": "code",
   "execution_count": 2,
   "id": "4f2616c8-27a5-4a6d-bd4a-0d9cfe58f973",
   "metadata": {},
   "outputs": [],
   "source": [
    "# Импортируем библиотеки\n",
    "import pandas as pd\n",
    "import matplotlib.pyplot as plt\n",
    "import seaborn as sns\n",
    "import numpy as np\n",
    "from scipy.stats import shapiro, levene, ttest_ind, mannwhitneyu"
   ]
  },
  {
   "cell_type": "code",
   "execution_count": 3,
   "id": "0daaf56d-eb52-4d2e-bffa-4a4a2625e85d",
   "metadata": {},
   "outputs": [],
   "source": [
    "# Выгружаем данные, называем датафреймы\n",
    "final_tickets_orders_df = pd.read_csv('https://code.s3.yandex.net/datasets/final_tickets_orders_df.csv')\n",
    "final_tickets_events_df = pd.read_csv('https://code.s3.yandex.net/datasets/final_tickets_events_df.csv')\n",
    "final_tickets_tenge_df = pd.read_csv('https://code.s3.yandex.net/datasets/final_tickets_tenge_df.csv')"
   ]
  },
  {
   "cell_type": "code",
   "execution_count": 4,
   "id": "9904e12c-56c4-4546-b3a0-07db7a43eea4",
   "metadata": {},
   "outputs": [
    {
     "name": "stdout",
     "output_type": "stream",
     "text": [
      "Index(['order_id', 'user_id', 'created_dt_msk', 'created_ts_msk', 'event_id',\n",
      "       'cinema_circuit', 'age_limit', 'currency_code', 'device_type_canonical',\n",
      "       'revenue', 'service_name', 'tickets_count', 'total', 'days_since_prev'],\n",
      "      dtype='object')\n",
      "Index(['event_id', 'event_name', 'event_type_description', 'event_type_main',\n",
      "       'organizers', 'region_name', 'city_name', 'city_id', 'venue_id',\n",
      "       'venue_name', 'venue_address'],\n",
      "      dtype='object')\n",
      "Index(['data', 'nominal', 'curs', 'cdx'], dtype='object')\n"
     ]
    }
   ],
   "source": [
    "# Проверим названия столбцов в датасетах с названиями, которые можно изменить для удобства:\n",
    "print(final_tickets_orders_df.columns)\n",
    "print(final_tickets_events_df.columns)\n",
    "print(final_tickets_tenge_df.columns)"
   ]
  },
  {
   "cell_type": "markdown",
   "id": "7d55144d-c73e-4aae-bce1-0d2abdfd85a9",
   "metadata": {},
   "source": [
    "Названия впорядке, с ними удобно работать, повторяющихся значений нет"
   ]
  },
  {
   "cell_type": "code",
   "execution_count": 5,
   "id": "3bcb42c2-0e1d-4974-916a-8fb961ed041d",
   "metadata": {},
   "outputs": [
    {
     "name": "stdout",
     "output_type": "stream",
     "text": [
      "<class 'pandas.core.frame.DataFrame'>\n",
      "RangeIndex: 290849 entries, 0 to 290848\n",
      "Data columns (total 14 columns):\n",
      " #   Column                 Non-Null Count   Dtype  \n",
      "---  ------                 --------------   -----  \n",
      " 0   order_id               290849 non-null  int64  \n",
      " 1   user_id                290849 non-null  object \n",
      " 2   created_dt_msk         290849 non-null  object \n",
      " 3   created_ts_msk         290849 non-null  object \n",
      " 4   event_id               290849 non-null  int64  \n",
      " 5   cinema_circuit         290849 non-null  object \n",
      " 6   age_limit              290849 non-null  int64  \n",
      " 7   currency_code          290849 non-null  object \n",
      " 8   device_type_canonical  290849 non-null  object \n",
      " 9   revenue                290849 non-null  float64\n",
      " 10  service_name           290849 non-null  object \n",
      " 11  tickets_count          290849 non-null  int64  \n",
      " 12  total                  290849 non-null  float64\n",
      " 13  days_since_prev        268909 non-null  float64\n",
      "dtypes: float64(3), int64(4), object(7)\n",
      "memory usage: 31.1+ MB\n",
      "<class 'pandas.core.frame.DataFrame'>\n",
      "RangeIndex: 22427 entries, 0 to 22426\n",
      "Data columns (total 11 columns):\n",
      " #   Column                  Non-Null Count  Dtype \n",
      "---  ------                  --------------  ----- \n",
      " 0   event_id                22427 non-null  int64 \n",
      " 1   event_name              22427 non-null  object\n",
      " 2   event_type_description  22427 non-null  object\n",
      " 3   event_type_main         22427 non-null  object\n",
      " 4   organizers              22427 non-null  object\n",
      " 5   region_name             22427 non-null  object\n",
      " 6   city_name               22427 non-null  object\n",
      " 7   city_id                 22427 non-null  int64 \n",
      " 8   venue_id                22427 non-null  int64 \n",
      " 9   venue_name              22427 non-null  object\n",
      " 10  venue_address           22427 non-null  object\n",
      "dtypes: int64(3), object(8)\n",
      "memory usage: 1.9+ MB\n",
      "<class 'pandas.core.frame.DataFrame'>\n",
      "RangeIndex: 357 entries, 0 to 356\n",
      "Data columns (total 4 columns):\n",
      " #   Column   Non-Null Count  Dtype  \n",
      "---  ------   --------------  -----  \n",
      " 0   data     357 non-null    object \n",
      " 1   nominal  357 non-null    int64  \n",
      " 2   curs     357 non-null    float64\n",
      " 3   cdx      357 non-null    object \n",
      "dtypes: float64(1), int64(1), object(2)\n",
      "memory usage: 11.3+ KB\n"
     ]
    }
   ],
   "source": [
    "# Выведем общую информацию о датафреймах\n",
    "final_tickets_orders_df.info()\n",
    "final_tickets_events_df.info()\n",
    "final_tickets_tenge_df.info()"
   ]
  },
  {
   "cell_type": "markdown",
   "id": "2388f397-76ba-4044-b62f-830893b4bafa",
   "metadata": {},
   "source": [
    "У некоторых данных можно поменять формат, например, в датафрейме `final_tickets_orders_df`: `created_dt_msk` и `created_ts_msk` - тип `object` на `datetime`, над `days_since_prev` тоже можно подумать о переводе `float64` в `datetime`. Также в датафрейме `final_tickets_tenge_df`  нужно будет поменять тип столбца `data` на `datetime` для объединения с датафремом `final_tickets_orders_df`. Тип остальных данных подходит их описанию"
   ]
  },
  {
   "cell_type": "code",
   "execution_count": 6,
   "id": "0fde0478-e2ec-485d-b9e9-6965fc725dec",
   "metadata": {},
   "outputs": [
    {
     "data": {
      "text/html": [
       "<div>\n",
       "<style scoped>\n",
       "    .dataframe tbody tr th:only-of-type {\n",
       "        vertical-align: middle;\n",
       "    }\n",
       "\n",
       "    .dataframe tbody tr th {\n",
       "        vertical-align: top;\n",
       "    }\n",
       "\n",
       "    .dataframe thead th {\n",
       "        text-align: right;\n",
       "    }\n",
       "</style>\n",
       "<table border=\"1\" class=\"dataframe\">\n",
       "  <thead>\n",
       "    <tr style=\"text-align: right;\">\n",
       "      <th></th>\n",
       "      <th>order_id</th>\n",
       "      <th>user_id</th>\n",
       "      <th>created_dt_msk</th>\n",
       "      <th>created_ts_msk</th>\n",
       "      <th>event_id</th>\n",
       "      <th>cinema_circuit</th>\n",
       "      <th>age_limit</th>\n",
       "      <th>currency_code</th>\n",
       "      <th>device_type_canonical</th>\n",
       "      <th>revenue</th>\n",
       "      <th>service_name</th>\n",
       "      <th>tickets_count</th>\n",
       "      <th>total</th>\n",
       "      <th>days_since_prev</th>\n",
       "    </tr>\n",
       "  </thead>\n",
       "  <tbody>\n",
       "    <tr>\n",
       "      <th>0</th>\n",
       "      <td>4359165</td>\n",
       "      <td>0002849b70a3ce2</td>\n",
       "      <td>2024-08-20</td>\n",
       "      <td>2024-08-20 16:08:03</td>\n",
       "      <td>169230</td>\n",
       "      <td>нет</td>\n",
       "      <td>16</td>\n",
       "      <td>rub</td>\n",
       "      <td>mobile</td>\n",
       "      <td>1521.94</td>\n",
       "      <td>Край билетов</td>\n",
       "      <td>4</td>\n",
       "      <td>10870.99</td>\n",
       "      <td>NaN</td>\n",
       "    </tr>\n",
       "    <tr>\n",
       "      <th>1</th>\n",
       "      <td>7965605</td>\n",
       "      <td>0005ca5e93f2cf4</td>\n",
       "      <td>2024-07-23</td>\n",
       "      <td>2024-07-23 18:36:24</td>\n",
       "      <td>237325</td>\n",
       "      <td>нет</td>\n",
       "      <td>0</td>\n",
       "      <td>rub</td>\n",
       "      <td>mobile</td>\n",
       "      <td>289.45</td>\n",
       "      <td>Мой билет</td>\n",
       "      <td>2</td>\n",
       "      <td>2067.51</td>\n",
       "      <td>NaN</td>\n",
       "    </tr>\n",
       "    <tr>\n",
       "      <th>2</th>\n",
       "      <td>7292370</td>\n",
       "      <td>0005ca5e93f2cf4</td>\n",
       "      <td>2024-10-06</td>\n",
       "      <td>2024-10-06 13:56:02</td>\n",
       "      <td>578454</td>\n",
       "      <td>нет</td>\n",
       "      <td>0</td>\n",
       "      <td>rub</td>\n",
       "      <td>mobile</td>\n",
       "      <td>1258.57</td>\n",
       "      <td>За билетом!</td>\n",
       "      <td>4</td>\n",
       "      <td>13984.16</td>\n",
       "      <td>75.0</td>\n",
       "    </tr>\n",
       "    <tr>\n",
       "      <th>3</th>\n",
       "      <td>1139875</td>\n",
       "      <td>000898990054619</td>\n",
       "      <td>2024-07-13</td>\n",
       "      <td>2024-07-13 19:40:48</td>\n",
       "      <td>387271</td>\n",
       "      <td>нет</td>\n",
       "      <td>0</td>\n",
       "      <td>rub</td>\n",
       "      <td>mobile</td>\n",
       "      <td>8.49</td>\n",
       "      <td>Лови билет!</td>\n",
       "      <td>2</td>\n",
       "      <td>212.28</td>\n",
       "      <td>NaN</td>\n",
       "    </tr>\n",
       "    <tr>\n",
       "      <th>4</th>\n",
       "      <td>972400</td>\n",
       "      <td>000898990054619</td>\n",
       "      <td>2024-10-04</td>\n",
       "      <td>2024-10-04 22:33:15</td>\n",
       "      <td>509453</td>\n",
       "      <td>нет</td>\n",
       "      <td>18</td>\n",
       "      <td>rub</td>\n",
       "      <td>mobile</td>\n",
       "      <td>1390.41</td>\n",
       "      <td>Билеты без проблем</td>\n",
       "      <td>3</td>\n",
       "      <td>10695.43</td>\n",
       "      <td>83.0</td>\n",
       "    </tr>\n",
       "  </tbody>\n",
       "</table>\n",
       "</div>"
      ],
      "text/plain": [
       "   order_id          user_id created_dt_msk       created_ts_msk  event_id  \\\n",
       "0   4359165  0002849b70a3ce2     2024-08-20  2024-08-20 16:08:03    169230   \n",
       "1   7965605  0005ca5e93f2cf4     2024-07-23  2024-07-23 18:36:24    237325   \n",
       "2   7292370  0005ca5e93f2cf4     2024-10-06  2024-10-06 13:56:02    578454   \n",
       "3   1139875  000898990054619     2024-07-13  2024-07-13 19:40:48    387271   \n",
       "4    972400  000898990054619     2024-10-04  2024-10-04 22:33:15    509453   \n",
       "\n",
       "  cinema_circuit  age_limit currency_code device_type_canonical  revenue  \\\n",
       "0            нет         16           rub                mobile  1521.94   \n",
       "1            нет          0           rub                mobile   289.45   \n",
       "2            нет          0           rub                mobile  1258.57   \n",
       "3            нет          0           rub                mobile     8.49   \n",
       "4            нет         18           rub                mobile  1390.41   \n",
       "\n",
       "         service_name  tickets_count     total  days_since_prev  \n",
       "0        Край билетов              4  10870.99              NaN  \n",
       "1           Мой билет              2   2067.51              NaN  \n",
       "2         За билетом!              4  13984.16             75.0  \n",
       "3         Лови билет!              2    212.28              NaN  \n",
       "4  Билеты без проблем              3  10695.43             83.0  "
      ]
     },
     "execution_count": 6,
     "metadata": {},
     "output_type": "execute_result"
    }
   ],
   "source": [
    "# Выведем первые строки датафреймов на экран\n",
    "final_tickets_orders_df.head()"
   ]
  },
  {
   "cell_type": "code",
   "execution_count": 7,
   "id": "a5a083bb-fdef-491e-ac70-556f8c165743",
   "metadata": {},
   "outputs": [
    {
     "data": {
      "text/html": [
       "<div>\n",
       "<style scoped>\n",
       "    .dataframe tbody tr th:only-of-type {\n",
       "        vertical-align: middle;\n",
       "    }\n",
       "\n",
       "    .dataframe tbody tr th {\n",
       "        vertical-align: top;\n",
       "    }\n",
       "\n",
       "    .dataframe thead th {\n",
       "        text-align: right;\n",
       "    }\n",
       "</style>\n",
       "<table border=\"1\" class=\"dataframe\">\n",
       "  <thead>\n",
       "    <tr style=\"text-align: right;\">\n",
       "      <th></th>\n",
       "      <th>event_id</th>\n",
       "      <th>event_name</th>\n",
       "      <th>event_type_description</th>\n",
       "      <th>event_type_main</th>\n",
       "      <th>organizers</th>\n",
       "      <th>region_name</th>\n",
       "      <th>city_name</th>\n",
       "      <th>city_id</th>\n",
       "      <th>venue_id</th>\n",
       "      <th>venue_name</th>\n",
       "      <th>venue_address</th>\n",
       "    </tr>\n",
       "  </thead>\n",
       "  <tbody>\n",
       "    <tr>\n",
       "      <th>0</th>\n",
       "      <td>4436</td>\n",
       "      <td>e4f26fba-da77-4c61-928a-6c3e434d793f</td>\n",
       "      <td>спектакль</td>\n",
       "      <td>театр</td>\n",
       "      <td>№4893</td>\n",
       "      <td>Североярская область</td>\n",
       "      <td>Озёрск</td>\n",
       "      <td>2</td>\n",
       "      <td>1600</td>\n",
       "      <td>Кладбище искусств \"Проблема\" и партнеры</td>\n",
       "      <td>наб. Загородная, д. 785</td>\n",
       "    </tr>\n",
       "    <tr>\n",
       "      <th>1</th>\n",
       "      <td>5785</td>\n",
       "      <td>5cc08a60-fdea-4186-9bb2-bffc3603fb77</td>\n",
       "      <td>спектакль</td>\n",
       "      <td>театр</td>\n",
       "      <td>№1931</td>\n",
       "      <td>Светополянский округ</td>\n",
       "      <td>Глиноград</td>\n",
       "      <td>54</td>\n",
       "      <td>2196</td>\n",
       "      <td>Лекции по искусству \"Свет\" Групп</td>\n",
       "      <td>ул. Ягодная, д. 942</td>\n",
       "    </tr>\n",
       "    <tr>\n",
       "      <th>2</th>\n",
       "      <td>8817</td>\n",
       "      <td>8e379a89-3a10-4811-ba06-ec22ebebe989</td>\n",
       "      <td>спектакль</td>\n",
       "      <td>театр</td>\n",
       "      <td>№4896</td>\n",
       "      <td>Североярская область</td>\n",
       "      <td>Озёрск</td>\n",
       "      <td>2</td>\n",
       "      <td>4043</td>\n",
       "      <td>Кинокомитет \"Золотая\" Инк</td>\n",
       "      <td>ш. Коммуны, д. 92 стр. 6</td>\n",
       "    </tr>\n",
       "    <tr>\n",
       "      <th>3</th>\n",
       "      <td>8849</td>\n",
       "      <td>682e3129-6a32-4952-9d8a-ef7f60d4c247</td>\n",
       "      <td>спектакль</td>\n",
       "      <td>театр</td>\n",
       "      <td>№4960</td>\n",
       "      <td>Каменевский регион</td>\n",
       "      <td>Глиногорск</td>\n",
       "      <td>213</td>\n",
       "      <td>1987</td>\n",
       "      <td>Выставка ремесел \"Свет\" Лтд</td>\n",
       "      <td>пер. Набережный, д. 35</td>\n",
       "    </tr>\n",
       "    <tr>\n",
       "      <th>4</th>\n",
       "      <td>8850</td>\n",
       "      <td>d6e99176-c77f-4af0-9222-07c571f6c624</td>\n",
       "      <td>спектакль</td>\n",
       "      <td>театр</td>\n",
       "      <td>№4770</td>\n",
       "      <td>Лесодальний край</td>\n",
       "      <td>Родниковец</td>\n",
       "      <td>55</td>\n",
       "      <td>4230</td>\n",
       "      <td>Фестивальный проект \"Листья\" Групп</td>\n",
       "      <td>пер. Проезжий, д. 9</td>\n",
       "    </tr>\n",
       "  </tbody>\n",
       "</table>\n",
       "</div>"
      ],
      "text/plain": [
       "   event_id                            event_name event_type_description  \\\n",
       "0      4436  e4f26fba-da77-4c61-928a-6c3e434d793f              спектакль   \n",
       "1      5785  5cc08a60-fdea-4186-9bb2-bffc3603fb77              спектакль   \n",
       "2      8817  8e379a89-3a10-4811-ba06-ec22ebebe989              спектакль   \n",
       "3      8849  682e3129-6a32-4952-9d8a-ef7f60d4c247              спектакль   \n",
       "4      8850  d6e99176-c77f-4af0-9222-07c571f6c624              спектакль   \n",
       "\n",
       "  event_type_main organizers           region_name   city_name  city_id  \\\n",
       "0           театр      №4893  Североярская область      Озёрск        2   \n",
       "1           театр      №1931  Светополянский округ   Глиноград       54   \n",
       "2           театр      №4896  Североярская область      Озёрск        2   \n",
       "3           театр      №4960    Каменевский регион  Глиногорск      213   \n",
       "4           театр      №4770      Лесодальний край  Родниковец       55   \n",
       "\n",
       "   venue_id                               venue_name             venue_address  \n",
       "0      1600  Кладбище искусств \"Проблема\" и партнеры   наб. Загородная, д. 785  \n",
       "1      2196         Лекции по искусству \"Свет\" Групп       ул. Ягодная, д. 942  \n",
       "2      4043                Кинокомитет \"Золотая\" Инк  ш. Коммуны, д. 92 стр. 6  \n",
       "3      1987              Выставка ремесел \"Свет\" Лтд    пер. Набережный, д. 35  \n",
       "4      4230       Фестивальный проект \"Листья\" Групп       пер. Проезжий, д. 9  "
      ]
     },
     "execution_count": 7,
     "metadata": {},
     "output_type": "execute_result"
    }
   ],
   "source": [
    "final_tickets_events_df.head()"
   ]
  },
  {
   "cell_type": "code",
   "execution_count": 8,
   "id": "1ac33e30-77b8-459f-befe-316a03a4f42a",
   "metadata": {},
   "outputs": [
    {
     "data": {
      "text/html": [
       "<div>\n",
       "<style scoped>\n",
       "    .dataframe tbody tr th:only-of-type {\n",
       "        vertical-align: middle;\n",
       "    }\n",
       "\n",
       "    .dataframe tbody tr th {\n",
       "        vertical-align: top;\n",
       "    }\n",
       "\n",
       "    .dataframe thead th {\n",
       "        text-align: right;\n",
       "    }\n",
       "</style>\n",
       "<table border=\"1\" class=\"dataframe\">\n",
       "  <thead>\n",
       "    <tr style=\"text-align: right;\">\n",
       "      <th></th>\n",
       "      <th>data</th>\n",
       "      <th>nominal</th>\n",
       "      <th>curs</th>\n",
       "      <th>cdx</th>\n",
       "    </tr>\n",
       "  </thead>\n",
       "  <tbody>\n",
       "    <tr>\n",
       "      <th>0</th>\n",
       "      <td>2024-01-10</td>\n",
       "      <td>100</td>\n",
       "      <td>19.9391</td>\n",
       "      <td>kzt</td>\n",
       "    </tr>\n",
       "    <tr>\n",
       "      <th>1</th>\n",
       "      <td>2024-01-11</td>\n",
       "      <td>100</td>\n",
       "      <td>19.7255</td>\n",
       "      <td>kzt</td>\n",
       "    </tr>\n",
       "    <tr>\n",
       "      <th>2</th>\n",
       "      <td>2024-01-12</td>\n",
       "      <td>100</td>\n",
       "      <td>19.5839</td>\n",
       "      <td>kzt</td>\n",
       "    </tr>\n",
       "    <tr>\n",
       "      <th>3</th>\n",
       "      <td>2024-01-13</td>\n",
       "      <td>100</td>\n",
       "      <td>19.4501</td>\n",
       "      <td>kzt</td>\n",
       "    </tr>\n",
       "    <tr>\n",
       "      <th>4</th>\n",
       "      <td>2024-01-14</td>\n",
       "      <td>100</td>\n",
       "      <td>19.4501</td>\n",
       "      <td>kzt</td>\n",
       "    </tr>\n",
       "  </tbody>\n",
       "</table>\n",
       "</div>"
      ],
      "text/plain": [
       "         data  nominal     curs  cdx\n",
       "0  2024-01-10      100  19.9391  kzt\n",
       "1  2024-01-11      100  19.7255  kzt\n",
       "2  2024-01-12      100  19.5839  kzt\n",
       "3  2024-01-13      100  19.4501  kzt\n",
       "4  2024-01-14      100  19.4501  kzt"
      ]
     },
     "execution_count": 8,
     "metadata": {},
     "output_type": "execute_result"
    }
   ],
   "source": [
    "final_tickets_tenge_df.head()"
   ]
  },
  {
   "cell_type": "markdown",
   "id": "76c921f9-f76d-46bb-93c3-1c5217d454c8",
   "metadata": {},
   "source": [
    "#### Промежуточный вывод\n",
    "Данные в хорошем состоянии, в дальнейшем нужно будет преобразовать некоторые типы данных, проверить датафреймы на пропуски, явные и неявные дубликаты. Для этого совместим датафреймы в один для более быстрой и удобной работы"
   ]
  },
  {
   "cell_type": "markdown",
   "id": "4117231c-fb39-4d99-8303-997ca19f3e1c",
   "metadata": {},
   "source": [
    "## 2. Предобработка данных и подготовка их к исследованию\n",
    "### 2.1 Обединение датафреймов"
   ]
  },
  {
   "cell_type": "code",
   "execution_count": 9,
   "id": "c84c0290-c9b9-4d2c-9cf0-83c359daff4b",
   "metadata": {},
   "outputs": [],
   "source": [
    "# Приведем даты к datetime для объединения с датафреймом курса валют\n",
    "final_tickets_orders_df['created_dt_msk'] = pd.to_datetime(final_tickets_orders_df['created_dt_msk']).dt.date\n",
    "final_tickets_tenge_df['data'] = pd.to_datetime(final_tickets_tenge_df['data']).dt.date"
   ]
  },
  {
   "cell_type": "code",
   "execution_count": 10,
   "id": "6953a953-c359-462b-a3ed-e00af6987a8f",
   "metadata": {},
   "outputs": [],
   "source": [
    "# Присоединим датафрейм с курсов валют по дате и коду валюты\n",
    "orders_with_rates = final_tickets_orders_df.merge(\n",
    "    final_tickets_tenge_df,\n",
    "    left_on=['created_dt_msk', 'currency_code'],\n",
    "    right_on=['data', 'cdx'],\n",
    "    how='left'\n",
    ")"
   ]
  },
  {
   "cell_type": "code",
   "execution_count": 11,
   "id": "9264962c-4c6c-4b91-9b4d-e371b413a2dd",
   "metadata": {},
   "outputs": [],
   "source": [
    "# Объединим все датафреймы\n",
    "merged_df = orders_with_rates.merge(\n",
    "    final_tickets_events_df, on='event_id', how='left'\n",
    ")"
   ]
  },
  {
   "cell_type": "code",
   "execution_count": 12,
   "id": "7c406fc0-440f-4a98-b5c5-9f24d97a58a9",
   "metadata": {},
   "outputs": [
    {
     "name": "stdout",
     "output_type": "stream",
     "text": [
      "<class 'pandas.core.frame.DataFrame'>\n",
      "RangeIndex: 290849 entries, 0 to 290848\n",
      "Data columns (total 28 columns):\n",
      " #   Column                  Non-Null Count   Dtype  \n",
      "---  ------                  --------------   -----  \n",
      " 0   order_id                290849 non-null  int64  \n",
      " 1   user_id                 290849 non-null  object \n",
      " 2   created_dt_msk          290849 non-null  object \n",
      " 3   created_ts_msk          290849 non-null  object \n",
      " 4   event_id                290849 non-null  int64  \n",
      " 5   cinema_circuit          290849 non-null  object \n",
      " 6   age_limit               290849 non-null  int64  \n",
      " 7   currency_code           290849 non-null  object \n",
      " 8   device_type_canonical   290849 non-null  object \n",
      " 9   revenue                 290849 non-null  float64\n",
      " 10  service_name            290849 non-null  object \n",
      " 11  tickets_count           290849 non-null  int64  \n",
      " 12  total                   290849 non-null  float64\n",
      " 13  days_since_prev         268909 non-null  float64\n",
      " 14  data                    5069 non-null    object \n",
      " 15  nominal                 5069 non-null    float64\n",
      " 16  curs                    5069 non-null    float64\n",
      " 17  cdx                     5069 non-null    object \n",
      " 18  event_name              290611 non-null  object \n",
      " 19  event_type_description  290611 non-null  object \n",
      " 20  event_type_main         290611 non-null  object \n",
      " 21  organizers              290611 non-null  object \n",
      " 22  region_name             290611 non-null  object \n",
      " 23  city_name               290611 non-null  object \n",
      " 24  city_id                 290611 non-null  float64\n",
      " 25  venue_id                290611 non-null  float64\n",
      " 26  venue_name              290611 non-null  object \n",
      " 27  venue_address           290611 non-null  object \n",
      "dtypes: float64(7), int64(4), object(17)\n",
      "memory usage: 62.1+ MB\n"
     ]
    }
   ],
   "source": [
    "# Проверим объединение\n",
    "merged_df.info()"
   ]
  },
  {
   "cell_type": "markdown",
   "id": "b3c5250a-ddb8-47bd-b7e2-5114e9933554",
   "metadata": {},
   "source": [
    "Мы объединили 3 датафрейма, теперь перейдем к их предоработке"
   ]
  },
  {
   "cell_type": "markdown",
   "id": "ea4fafa0-4629-472b-8da1-9426d31d8e56",
   "metadata": {},
   "source": [
    "### 2.2 Проверяем пропуски"
   ]
  },
  {
   "cell_type": "code",
   "execution_count": 13,
   "id": "97711a49-858f-42fb-b2bc-6b05d1864814",
   "metadata": {},
   "outputs": [
    {
     "data": {
      "text/plain": [
       "data                      285780\n",
       "nominal                   285780\n",
       "cdx                       285780\n",
       "curs                      285780\n",
       "days_since_prev            21940\n",
       "venue_name                   238\n",
       "venue_id                     238\n",
       "city_id                      238\n",
       "city_name                    238\n",
       "region_name                  238\n",
       "organizers                   238\n",
       "event_type_main              238\n",
       "event_type_description       238\n",
       "event_name                   238\n",
       "venue_address                238\n",
       "user_id                        0\n",
       "total                          0\n",
       "tickets_count                  0\n",
       "service_name                   0\n",
       "revenue                        0\n",
       "device_type_canonical          0\n",
       "currency_code                  0\n",
       "age_limit                      0\n",
       "cinema_circuit                 0\n",
       "event_id                       0\n",
       "created_ts_msk                 0\n",
       "created_dt_msk                 0\n",
       "order_id                       0\n",
       "dtype: int64"
      ]
     },
     "metadata": {},
     "output_type": "display_data"
    }
   ],
   "source": [
    "# Считаем количество пропусков по каждому столбцу\n",
    "missing_values = merged_df.isna().sum().sort_values(ascending=False)\n",
    "display(missing_values)"
   ]
  },
  {
   "cell_type": "markdown",
   "id": "60f70797-7585-4dc1-81ae-08a66d2b630f",
   "metadata": {},
   "source": [
    "Не будем обращать внимание на столбцы из присоединенного датафрейма с курсом валют на этом этапе, чуть позже мы создадим отдельные столбцы и разберемся с этими данными. В остальных столбцах пропуски есть, проверим, можно ли их просто удалить"
   ]
  },
  {
   "cell_type": "code",
   "execution_count": 14,
   "id": "9f390114-047b-4a67-b69d-3416a9b0439f",
   "metadata": {},
   "outputs": [
    {
     "name": "stdout",
     "output_type": "stream",
     "text": [
      "Уникальных потерянных event_id: 19\n"
     ]
    }
   ],
   "source": [
    "# Проверим, сколько уникальных пропусков в event_id\n",
    "missing_events = merged_df[merged_df['event_name'].isna()]['event_id'].nunique()\n",
    "print(f'Уникальных потерянных event_id: {missing_events}')"
   ]
  },
  {
   "cell_type": "code",
   "execution_count": 15,
   "id": "840e3ed9-0775-4f86-a448-172cf19a159f",
   "metadata": {},
   "outputs": [],
   "source": [
    "# Кол-во незначительное, можно удалить\n",
    "merged_df = merged_df[~merged_df['event_name'].isna()]"
   ]
  },
  {
   "cell_type": "code",
   "execution_count": 16,
   "id": "5756adcf-412f-4002-9429-7e4dbf931b59",
   "metadata": {},
   "outputs": [
    {
     "data": {
      "text/plain": [
       "data                      285542\n",
       "nominal                   285542\n",
       "cdx                       285542\n",
       "curs                      285542\n",
       "days_since_prev            21913\n",
       "venue_name                     0\n",
       "venue_id                       0\n",
       "city_id                        0\n",
       "city_name                      0\n",
       "region_name                    0\n",
       "organizers                     0\n",
       "event_type_main                0\n",
       "event_type_description         0\n",
       "event_name                     0\n",
       "order_id                       0\n",
       "user_id                        0\n",
       "total                          0\n",
       "tickets_count                  0\n",
       "service_name                   0\n",
       "revenue                        0\n",
       "device_type_canonical          0\n",
       "currency_code                  0\n",
       "age_limit                      0\n",
       "cinema_circuit                 0\n",
       "event_id                       0\n",
       "created_ts_msk                 0\n",
       "created_dt_msk                 0\n",
       "venue_address                  0\n",
       "dtype: int64"
      ]
     },
     "metadata": {},
     "output_type": "display_data"
    }
   ],
   "source": [
    "# Проверим рузельтат\n",
    "missing_values = merged_df.isna().sum().sort_values(ascending=False)\n",
    "display(missing_values)"
   ]
  },
  {
   "cell_type": "markdown",
   "id": "206e6c3e-c11a-443a-8f32-fe2ac6064af9",
   "metadata": {},
   "source": [
    "Отлично, в нужных нам столбцах пропусков больше нет, теперь изучим значения в ключевых столбцах"
   ]
  },
  {
   "cell_type": "markdown",
   "id": "7669bae3-8c7d-475e-b098-d68837bb2289",
   "metadata": {},
   "source": [
    "### 2.3 Изучаем значения в ключевых столбцах\n",
    "#### 2.3.1 Проверка категориальных значений"
   ]
  },
  {
   "cell_type": "code",
   "execution_count": 17,
   "id": "c25f3d1d-c60f-4172-a7e0-22180ecb198c",
   "metadata": {},
   "outputs": [],
   "source": [
    "# Выведем категориальные столбцы\n",
    "categorical_cols = [\n",
    "    'device_type_canonical', 'service_name', 'cinema_circuit',\n",
    "    'currency_code', 'event_type_main', 'event_type_description',\n",
    "    'region_name', 'city_name'\n",
    "]"
   ]
  },
  {
   "cell_type": "code",
   "execution_count": 18,
   "id": "5419472a-e723-42f8-874b-43e473f090e0",
   "metadata": {},
   "outputs": [
    {
     "name": "stdout",
     "output_type": "stream",
     "text": [
      "\n",
      "device_type_canonical:\n",
      "device_type_canonical\n",
      "mobile     232490\n",
      "desktop     58121\n",
      "Name: count, dtype: int64\n",
      "\n",
      "service_name:\n",
      "service_name\n",
      "Билеты без проблем        63519\n",
      "Лови билет!               41124\n",
      "Билеты в руки             40343\n",
      "Мой билет                 34839\n",
      "Облачко                   26642\n",
      "Лучшие билеты             17774\n",
      "Весь в билетах            16849\n",
      "Прачечная                 10273\n",
      "Край билетов               6207\n",
      "Тебе билет!                5228\n",
      "Яблоко                     5039\n",
      "Дом культуры               4502\n",
      "За билетом!                2865\n",
      "Городской дом культуры     2733\n",
      "Show_ticket                2200\n",
      "Мир касс                   2167\n",
      "Быстробилет                2003\n",
      "Выступления.ру             1616\n",
      "Восьмёрка                  1118\n",
      "Crazy ticket!               790\n",
      "Росбилет                    539\n",
      "Шоу начинается!             499\n",
      "Быстрый кассир              381\n",
      "Радио ticket                376\n",
      "Телебилет                   321\n",
      "КарандашРУ                  133\n",
      "Реестр                      125\n",
      "Билет по телефону            85\n",
      "Вперёд!                      80\n",
      "Дырокол                      74\n",
      "Кино билет                   67\n",
      "Цвет и билет                 61\n",
      "Тех билет                    22\n",
      "Лимоны                        8\n",
      "Зе Бест!                      5\n",
      "Билеты в интернете            4\n",
      "Name: count, dtype: int64\n",
      "\n",
      "cinema_circuit:\n",
      "cinema_circuit\n",
      "нет           289213\n",
      "Другое          1261\n",
      "КиноСити         122\n",
      "Киномакс           7\n",
      "Москино            7\n",
      "ЦентрФильм         1\n",
      "Name: count, dtype: int64\n",
      "\n",
      "currency_code:\n",
      "currency_code\n",
      "rub    285542\n",
      "kzt      5069\n",
      "Name: count, dtype: int64\n",
      "\n",
      "event_type_main:\n",
      "event_type_main\n",
      "концерты    115276\n",
      "театр        67321\n",
      "другое       65867\n",
      "спорт        21911\n",
      "стендап      13393\n",
      "выставки      4854\n",
      "ёлки          1989\n",
      "Name: count, dtype: int64\n",
      "\n",
      "event_type_description:\n",
      "event_type_description\n",
      "концерт                   112049\n",
      "событие                    58605\n",
      "спектакль                  50592\n",
      "шоу                        13626\n",
      "спорт                      12837\n",
      "мюзикл                      9919\n",
      "спортивное мероприятие      9074\n",
      "балет                       5998\n",
      "выставка                    5876\n",
      "цирковое шоу                5327\n",
      "фестиваль                   4273\n",
      "опера                       1314\n",
      "ёлка                         945\n",
      "музыкальный спектакль        140\n",
      "кукольный спектакль           13\n",
      "экскурсия                      8\n",
      "оперетта                       7\n",
      "подарок                        4\n",
      "снегурочка                     3\n",
      "рок-мюзикл                     1\n",
      "Name: count, dtype: int64\n",
      "\n",
      "region_name:\n",
      "region_name\n",
      "Каменевский регион          91058\n",
      "Североярская область        44049\n",
      "Широковская область         16457\n",
      "Медовская область           13901\n",
      "Озернинский край            10476\n",
      "                            ...  \n",
      "Лесноярский край               19\n",
      "Крутоводский регион            18\n",
      "Верхозёрский край              11\n",
      "Сосноводолинская область       10\n",
      "Теплоозёрский округ             7\n",
      "Name: count, Length: 81, dtype: int64\n",
      "\n",
      "city_name:\n",
      "city_name\n",
      "Глиногорск      89446\n",
      "Озёрск          43910\n",
      "Радужсвет       13711\n",
      "Радужнополье     8741\n",
      "Верховино        6579\n",
      "                ...  \n",
      "Крутовичи           1\n",
      "Кристолесье         1\n",
      "Глинополянск        1\n",
      "Голубевск           1\n",
      "Ягодинска           1\n",
      "Name: count, Length: 352, dtype: int64\n"
     ]
    }
   ],
   "source": [
    "# Проверим их уникальные значения\n",
    "for col in categorical_cols:\n",
    "    print(f\"\\n{col}:\")\n",
    "    print(merged_df[col].value_counts(dropna=False))"
   ]
  },
  {
   "cell_type": "code",
   "execution_count": 19,
   "id": "20d00c65-8135-4e9f-821f-df63fff2135c",
   "metadata": {},
   "outputs": [
    {
     "name": "stdout",
     "output_type": "stream",
     "text": [
      "\n",
      "device_type_canonical:\n",
      "['mobile' 'desktop']\n",
      "\n",
      "service_name:\n",
      "['Край билетов' 'Мой билет' 'За билетом!' 'Лови билет!'\n",
      " 'Билеты без проблем' 'Облачко' 'Лучшие билеты' 'Прачечная' 'Быстробилет'\n",
      " 'Дом культуры' 'Весь в билетах' 'Билеты в руки' 'Тебе билет!'\n",
      " 'Show_ticket' 'Городской дом культуры' 'Яблоко' 'Билет по телефону'\n",
      " 'Выступления.ру' 'Росбилет' 'Шоу начинается!' 'Мир касс' 'Восьмёрка'\n",
      " 'Телебилет' 'Crazy ticket!' 'Реестр' 'Быстрый кассир' 'КарандашРУ'\n",
      " 'Радио ticket' 'Дырокол' 'Вперёд!' 'Кино билет' 'Цвет и билет' 'Зе Бест!'\n",
      " 'Тех билет' 'Лимоны' 'Билеты в интернете']\n",
      "\n",
      "cinema_circuit:\n",
      "['нет' 'Другое' 'Киномакс' 'КиноСити' 'Москино' 'ЦентрФильм']\n",
      "\n",
      "currency_code:\n",
      "['rub' 'kzt']\n",
      "\n",
      "event_type_main:\n",
      "['театр' 'выставки' 'другое' 'стендап' 'концерты' 'спорт' 'ёлки']\n",
      "\n",
      "event_type_description:\n",
      "['спектакль' 'событие' 'цирковое шоу' 'выставка' 'шоу' 'концерт' 'спорт'\n",
      " 'мюзикл' 'фестиваль' 'ёлка' 'балет' 'спортивное мероприятие' 'опера'\n",
      " 'музыкальный спектакль' 'кукольный спектакль' 'оперетта' 'снегурочка'\n",
      " 'рок-мюзикл' 'экскурсия' 'подарок']\n",
      "\n",
      "region_name:\n",
      "['Каменевский регион' 'Североярская область' 'Озернинский край'\n",
      " 'Лугоградская область' 'Поленовский край' 'Широковская область'\n",
      " 'Медовская область' 'Златопольский округ' 'Малиновоярский округ'\n",
      " 'Яблоневская область' 'Ветренский регион' 'Боровлянский край'\n",
      " 'Крутоводская область' 'Ягодиновская область' 'Серебряноярский округ'\n",
      " 'Лесодальний край' 'Верхоречная область' 'Горицветская область'\n",
      " 'Речиновская область' 'Травиницкий округ' 'Сосновская область'\n",
      " 'Серебринская область' 'Травяная область' 'Каменноярский край'\n",
      " 'Солнечноземская область' 'Светополянский округ' 'Заречная область'\n",
      " 'Ручейковский край' 'Глиногорская область' 'Тепляковская область'\n",
      " 'Каменноозёрный край' 'Солнечнореченская область' 'Зоринский регион'\n",
      " 'Берёзовская область' 'Лесостепной край' 'Малиновая область'\n",
      " 'Синегорский регион' 'Луговая область' 'Шанырский регион'\n",
      " 'Каменополянский округ' 'Речицкая область' 'Горностепной регион'\n",
      " 'Речицкий регион' 'Золотоключевской край' 'Лесоярская область'\n",
      " 'Зеленоградский округ' 'Миропольская область' 'Дальнеземская область'\n",
      " 'Озернопольская область' 'Берестовский округ' 'Ключеводский округ'\n",
      " 'Нежинская область' 'Дальнезорский край' 'Вишнёвский край'\n",
      " 'Каменичская область' 'Голубевский округ' 'Тихогорская область'\n",
      " 'Крутоводский регион' 'Чистогорская область' 'Североозёрский округ'\n",
      " 'Тихолесский край' 'Кристальная область' 'Горноземский регион'\n",
      " 'Радужнопольский край' 'Белоярская область' 'Островная область'\n",
      " 'Тихореченская область' 'Кристаловская область' 'Яснопольский округ'\n",
      " 'Островогорский округ' 'Радужногорская область' 'Дубравная область'\n",
      " 'Залесский край' 'Североключевской округ' 'Верховинская область'\n",
      " 'Светолесский край' 'Сосноводолинская область' 'Верхозёрский край'\n",
      " 'Лесноярский край' 'Теплоозёрский округ' 'Лесополянская область']\n",
      "\n",
      "city_name:\n",
      "['Глиногорск' 'Озёрск' 'Родниковецк' 'Кристалевск' 'Дальнозолотск'\n",
      " 'Радужнополье' 'Радужсвет' 'Кумсай' 'Верховино' 'Светополье' 'Кокжар'\n",
      " 'Каменский' 'Лесоярич' 'Никольянов' 'Речинцево' 'Лесозолотск'\n",
      " 'Дальнозерск' 'Серебрянка' 'Островецк' 'Родниковец' 'Дальнесветск'\n",
      " 'Луговаярово' 'Ягодиновка' 'Дальнополин' 'Солчелуг' 'Озёрчане'\n",
      " 'Серебровино' 'Лесоярово' 'Глинополье' 'Глиноград' 'Дальнесветин'\n",
      " 'Северополье' 'Теплоозеро' 'Горнодолинск' 'Ордакент' 'Озёрово'\n",
      " 'Луговинск' 'Лугоград' 'Златопольск' 'Крутовинск' 'Сарыжар' 'Сосновечин'\n",
      " 'Тихоярск' 'Яблонецк' 'Жаркентай' 'Широковка' 'Синеводов' 'Синеводск'\n",
      " 'Тихосветск' 'Радужанов' 'Глиногорь' 'Каменосветск' 'Родниковск'\n",
      " 'Травогород' 'Глинянск' 'Радужинск' 'Поляногорье' 'Дальнолесье'\n",
      " 'Ручейник' 'Ключеград' 'Ключеводск' 'Поленовино' 'Речичанск'\n",
      " 'Ключевополье' 'Шаныртау' 'Дальнесоснов' 'Ордасай' 'Теплоозёрск'\n",
      " 'Чистогорье' 'Ручейный' 'Островярово' 'Ягодинск' 'Поленоозёрово'\n",
      " 'Акбасты' 'Медовино' 'Каменёвка' 'Рощино' 'Солнечнёвка' 'Верхозолотск'\n",
      " 'Боровлянск' 'Лугиново' 'Сосноград' 'Радужнояр' 'Кенесар' 'Островенск'\n",
      " 'Горнополец' 'Яблоновец' 'Вишнёво' 'Ясногородин' 'Нежинск' 'Малиноворск'\n",
      " 'Леснойск' 'Озёриново' 'Островополь' 'Тихоречка' 'Поленояр' 'Ручьевино'\n",
      " 'Травяниново' 'Кристаловец' 'Буркиттау' 'Ручейковск' 'Песковино'\n",
      " 'Горнополье' 'Зоревец' 'Акбастау' 'Заречиновка' 'Сосновогорец'\n",
      " 'Лесочистка' 'Лесоводск' 'Каменевовск' 'Сарытау' 'Малиновец' 'Речевинец'\n",
      " 'Кристалинск' 'Верхоозёров' 'Травяночистск' 'Байкуль' 'Светоярчик'\n",
      " 'Зориново' 'Лесореченск' 'Водниково' 'Берестовец' 'Мироярово'\n",
      " 'Медвежанск' 'Тихолесье' 'Каменичи' 'Тихогорово' 'Лесиново'\n",
      " 'Синегориново' 'Зелёнаярово' 'Лесозерск' 'Солнечеполье' 'Солнечеводск'\n",
      " 'Лесогорич' 'Ключевогорск' 'Нивинск' 'Травогорск' 'Лесоярка' 'Шынгысай'\n",
      " 'Луговское' 'Горноставинск' 'Зоречанск' 'Ручейновинск' 'Лесодолинск'\n",
      " 'Поленовец' 'Крутово' 'Зеленополье' 'Тепляковск' 'Желкаин' 'Березиноск'\n",
      " 'Горнополянск' 'Песчанская' 'Светополь' 'Поленоград' 'Вишнёвогорск'\n",
      " 'Северогорск' 'Речное' 'Каменевск' 'Травянский' 'Глинозорь' 'Луговинец'\n",
      " 'Серебровка' 'Горяново' 'Медовецк' 'Каменозолото' 'Желтоксан' 'Ясногорец'\n",
      " 'Горицветск' 'Ясносветск' 'Сосновинск' 'Белоярск' 'Солнечейск' 'Каменояр'\n",
      " 'Зеленолесье' 'Нуртас' 'Светогория' 'Беловодск' 'Малиновинск'\n",
      " 'Серебринск' 'Ключевинск' 'Тихозорин' 'Голубино' 'Долиновка' 'Шалкартау'\n",
      " 'Миросветск' 'Травяниково' 'Ясноград' 'Светочистенск' 'Кумсары'\n",
      " 'Зеленоградовск' 'Поленосветск' 'Каменодолин' 'Вишнёводск'\n",
      " 'Северобережье' 'Светозёринск' 'Каражар' 'Горнополёк' 'Ключезолотск'\n",
      " 'Горнолуг' 'Песчанец' 'Бережанка' 'Соловьёвка' 'Крутоводск' 'Бозарык'\n",
      " 'Родничанск' 'Берёзодальн' 'Озёречин' 'Поленосвет' 'Зоревичск' 'Коксуйск'\n",
      " 'Златоречинск' 'Жетисайск' 'Байтерековск' 'Акжолтау' 'Сереброяр'\n",
      " 'Яблоневое' 'Лесинск' 'Речинск' 'Заречнинск' 'Яснополянск' 'Речиноград'\n",
      " 'Радужнаярова' 'Светозорск' 'Горнополяровск' 'Речепольск' 'Тиходеревск'\n",
      " 'Ягодиноград' 'Желтау' 'Поленовичи' 'Тулебайск' 'Златоозёрово'\n",
      " 'Кристальевка' 'Сарыбулак' 'Сосновогорск' 'Теплоград' 'Яблоневск'\n",
      " 'Реченск' 'Бурьяново' 'Островозёров' 'Солнечёвино' 'Берёзоречье'\n",
      " 'Ветеринск' 'Тихолесьевск' 'Зореполин' 'Тихоозёрск' 'Родинсветск'\n",
      " 'Медвежник' 'Ясновский' 'Заречнаярово' 'Светоярич' 'Ручейницк'\n",
      " 'Лесогорский' 'Зелёново' 'Крутоводинск' 'Яснолесье' 'Солнечелесье'\n",
      " 'Луновка' 'Мироград' 'Светлоярск' 'Североград' 'Медвежиновск' 'Сосновецк'\n",
      " 'Зеленополин' 'Каражол' 'Заречка' 'Глинореч' 'Каменевский' 'Берёзогорск'\n",
      " 'Светозолотск' 'Гореловск' 'Малиновочист' 'Островской' 'Каменогорье'\n",
      " 'Чистояр' 'Ташбулак' 'Бережанск' 'Кристалин' 'Зареченец' 'Талдысай'\n",
      " 'Ягодино' 'Синеполинск' 'Берестяград' 'Алтынсай' 'Заречийск'\n",
      " 'Берёзополье' 'Зеленополец' 'Шынартас' 'Радужновка' 'Поленолесье'\n",
      " 'Златоречье' 'Островсков' 'Тогусжол' 'Светоречин' 'Айкольск'\n",
      " 'Радужовинск' 'Айсуак' 'Заречник' 'Глинолес' 'Зелёнояр' 'Синегорск'\n",
      " 'Каменогорский' 'Полянск' 'Крутовичи' 'Глинозолото' 'Ягодинска'\n",
      " 'Верховка' 'Тепляровск' 'Реченогор' 'Озёроярск' 'Тастай' 'Светоярово'\n",
      " 'Верхозорье' 'Поляноречинск' 'Малиновецк' 'Острововск' 'Светочистка'\n",
      " 'Долиновск' 'Мирополь' 'Озёряновск' 'Златополье' 'Кристаловка'\n",
      " 'Берёзореч' 'Зеленогорье' 'Солнечеград' 'Голубевск' 'Глинополянск'\n",
      " 'Радугорь' 'Кристолесье' 'Березиногорск' 'Миролесье' 'Заречинск'\n",
      " 'Ягодиноск' 'Байсары' 'Берёзиново' 'Солнечегорск' 'Глинополин'\n",
      " 'Озёроград' 'Ягодинец' 'Алтынкала' 'Горнолесье' 'Карасуй' 'Лесополин'\n",
      " 'Дальнеград' 'Горноград' 'Березовцево' 'Берёзовка' 'Дальнозелен'\n",
      " 'Травино' 'Карасуйск' 'Кызылжол' 'Поляновск' 'Лесогорск']\n"
     ]
    }
   ],
   "source": [
    "# Проверим пропуски и странные названия\n",
    "for col in categorical_cols:\n",
    "    print(f\"\\n{col}:\")\n",
    "    print(merged_df[col].unique())"
   ]
  },
  {
   "cell_type": "markdown",
   "id": "23c970e2-1869-45b4-990a-4eb710f914de",
   "metadata": {},
   "source": [
    "Категориальные данные изучены. Встречаются значения, которые могут обозначать пропуски, но лишь одно - в столбце `cinema_circuit` значение `нет`, однако это есть в описании данных и пока что нет необходимости его менять"
   ]
  },
  {
   "cell_type": "markdown",
   "id": "d460a5c7-26c7-429d-b705-733afe29b89a",
   "metadata": {},
   "source": [
    "#### 2.3.2 Проверка количественных значений\n",
    "Для анализа данных важными показателями являются выручка с заказа `revenue` и количество билетов в заказе `tickets_count`, поэтому в первую очередь проверим данные в этих столбцах."
   ]
  },
  {
   "cell_type": "code",
   "execution_count": 20,
   "id": "5fd389b6-f359-421c-970e-fcec6af581a2",
   "metadata": {},
   "outputs": [
    {
     "name": "stdout",
     "output_type": "stream",
     "text": [
      "             revenue  tickets_count\n",
      "count  290611.000000  290611.000000\n",
      "mean      625.584360       2.754311\n",
      "std      1227.693064       1.170620\n",
      "min       -90.760000       1.000000\n",
      "25%       116.850000       2.000000\n",
      "50%       356.010000       3.000000\n",
      "75%       810.130000       4.000000\n",
      "max     81174.540000      57.000000\n"
     ]
    }
   ],
   "source": [
    "# Посмотрим на общую статистику\n",
    "print(merged_df[['revenue', 'tickets_count']].describe())"
   ]
  },
  {
   "cell_type": "code",
   "execution_count": 21,
   "id": "b80dfcc2-a3fa-44cb-a093-951ec6f5c052",
   "metadata": {},
   "outputs": [
    {
     "data": {
      "image/png": "[encoded data removed]",
      "text/plain": [
       "<Figure size 1000x400 with 2 Axes>"
      ]
     },
     "metadata": {},
     "output_type": "display_data"
    }
   ],
   "source": [
    "# Посмтроим гистограммы\n",
    "plt.figure(figsize=(10, 4))\n",
    "\n",
    "# Гистограмма revenue\n",
    "plt.subplot(1, 2, 1)\n",
    "sns.histplot(data=merged_df, x='revenue', bins=100, kde=True)\n",
    "plt.title('Распределение revenue')\n",
    "\n",
    "# Гистограмма tickets_count\n",
    "plt.subplot(1, 2, 2)\n",
    "sns.histplot(data=merged_df, x='tickets_count', bins=30, discrete=True)\n",
    "plt.title('Распределение tickets_count')\n",
    "\n",
    "plt.tight_layout()\n",
    "plt.show()"
   ]
  },
  {
   "cell_type": "markdown",
   "id": "8e6e060f-35b6-43dd-815d-c96c960625be",
   "metadata": {},
   "source": [
    "В столбце `revenue` видны аномальные значения. Проверим этот столбец отдельно по валютам"
   ]
  },
  {
   "cell_type": "code",
   "execution_count": 22,
   "id": "f04befa6",
   "metadata": {},
   "outputs": [],
   "source": [
    "# Проверка выбросов по валютам\n",
    "rub_df = merged_df[merged_df['currency_code'] == 'rub']\n",
    "kzt_df = merged_df[merged_df['currency_code'] == 'kzt']"
   ]
  },
  {
   "cell_type": "code",
   "execution_count": 23,
   "id": "f43bf95d-b639-4750-b6b8-d438a32657f0",
   "metadata": {},
   "outputs": [
    {
     "name": "stdout",
     "output_type": "stream",
     "text": [
      "RUB (revenue):\n",
      "count    285542.000000\n",
      "mean        548.013929\n",
      "std         871.750181\n",
      "min         -90.760000\n",
      "25%         114.170000\n",
      "50%         346.630000\n",
      "75%         793.320000\n",
      "max       81174.540000\n",
      "Name: revenue, dtype: float64\n",
      "\n",
      "KZT (revenue):\n",
      "count     5069.000000\n",
      "mean      4995.206767\n",
      "std       4916.752776\n",
      "min          0.000000\n",
      "25%        518.100000\n",
      "50%       3698.830000\n",
      "75%       7397.660000\n",
      "max      26425.860000\n",
      "Name: revenue, dtype: float64\n"
     ]
    }
   ],
   "source": [
    "print('RUB (revenue):')\n",
    "print(rub_df['revenue'].describe())\n",
    "\n",
    "print('\\nKZT (revenue):')\n",
    "print(kzt_df['revenue'].describe())"
   ]
  },
  {
   "cell_type": "markdown",
   "id": "a5699ad1-eeb2-4f42-a64a-5a1fc197a848",
   "metadata": {},
   "source": [
    "Мы видим странное минимальное значение в рублях = -90. Это не нормально, проверим наличие выбросов на еще одной гистограмме"
   ]
  },
  {
   "cell_type": "code",
   "execution_count": 24,
   "id": "2e0ac3ac-121f-46a4-968f-70319983d73d",
   "metadata": {},
   "outputs": [
    {
     "data": {
      "image/png": "[encoded data removed]",
      "text/plain": [
       "<Figure size 800x400 with 1 Axes>"
      ]
     },
     "metadata": {},
     "output_type": "display_data"
    }
   ],
   "source": [
    "plt.figure(figsize=(8, 4))\n",
    "sns.boxplot(data=merged_df, x='currency_code', y='revenue')\n",
    "plt.yscale('log')\n",
    "plt.xlabel('Currency')\n",
    "plt.ylabel('Revenue')\n",
    "plt.grid(True)\n",
    "plt.tight_layout()\n",
    "plt.show()"
   ]
  },
  {
   "cell_type": "markdown",
   "id": "e24fe1bd-5acd-493f-abf8-f144c6969140",
   "metadata": {},
   "source": [
    "Выбросы есть, их особенно много в валюте рубля, это скорее всего объясняется тем, что большее количество покупов билетов было сделано именно в рублях. Теперь отфильтруем выбросы по 99-му процентилю"
   ]
  },
  {
   "cell_type": "code",
   "execution_count": 25,
   "id": "a08a28f9-df5b-482e-85b9-9749f436e96c",
   "metadata": {},
   "outputs": [],
   "source": [
    "# Отфильтруем выбросы по 99-му процентилю\n",
    "# Получим 99-й перцентиль для каждой валюты\n",
    "rub_99 = rub_df['revenue'].quantile(0.99)\n",
    "kzt_99 = kzt_df['revenue'].quantile(0.99)\n",
    "rub_trimmed = rub_df[rub_df['revenue'] <= rub_99]\n",
    "kzt_trimmed = kzt_df[kzt_df['revenue'] <= kzt_99]"
   ]
  },
  {
   "cell_type": "code",
   "execution_count": 26,
   "id": "323e4086",
   "metadata": {},
   "outputs": [],
   "source": [
    "# Оставим строки других валют без изменений\n",
    "other_df = merged_df[~merged_df['currency_code'].isin(['rub', 'kzt'])]\n",
    "\n",
    "# Объединим всё обратно в merged_df\n",
    "merged_df = pd.concat([rub_trimmed, kzt_trimmed, other_df], ignore_index=True)"
   ]
  },
  {
   "cell_type": "markdown",
   "id": "e269ae4a-f41c-47a3-9b80-f2fb7cfe100b",
   "metadata": {},
   "source": [
    "Выбросы в `revenue` отфильтрованы по 99-му процентилю"
   ]
  },
  {
   "cell_type": "markdown",
   "id": "4268f25e-6b8b-4939-9d72-19d1a58ebedf",
   "metadata": {},
   "source": [
    "### 2.4 Проверяем явные и неявные дубликаты"
   ]
  },
  {
   "cell_type": "code",
   "execution_count": 27,
   "id": "e39ff4c3-ed10-4ab8-b4cd-322b3adb1e77",
   "metadata": {},
   "outputs": [
    {
     "name": "stdout",
     "output_type": "stream",
     "text": [
      "Явных дубликатов: 0\n"
     ]
    }
   ],
   "source": [
    "# Проверим явные дубликаты merged_df\n",
    "duplicates_explicit = merged_df.duplicated()\n",
    "print(\"Явных дубликатов:\", duplicates_explicit.sum())"
   ]
  },
  {
   "cell_type": "markdown",
   "id": "54381bff-7eb1-43c7-9ed8-93c850ae57fe",
   "metadata": {},
   "source": [
    "Явных дубликатов нет, удалять ничего не будем"
   ]
  },
  {
   "cell_type": "code",
   "execution_count": 28,
   "id": "1ece62f4",
   "metadata": {},
   "outputs": [
    {
     "name": "stdout",
     "output_type": "stream",
     "text": [
      "Неявных дубликатов по всем признакам (кроме order_id): 58\n",
      "Доля: 0.02%\n"
     ]
    }
   ],
   "source": [
    "# Список всех колонок, кроме order_id\n",
    "cols_except_order_id = [col for col in merged_df.columns if col != 'order_id']\n",
    "\n",
    "# Найдём неявные дубликаты по всем признакам, кроме order_id\n",
    "duplicates_implicit = merged_df.duplicated(subset=cols_except_order_id, keep=False)\n",
    "\n",
    "# Количество и доля неявных дубликатов\n",
    "num_duplicates = duplicates_implicit.sum()\n",
    "total_orders = len(merged_df)\n",
    "share_duplicates = num_duplicates / total_orders\n",
    "\n",
    "print(f\"Неявных дубликатов по всем признакам (кроме order_id): {num_duplicates}\")\n",
    "print(f\"Доля: {share_duplicates:.2%}\")"
   ]
  },
  {
   "cell_type": "markdown",
   "id": "6c8b5280",
   "metadata": {},
   "source": [
    "Неявных дубликатов: всего 58, что составляет 0.02% от общего числа заказов. Это очень низкая доля, так что применим стратегию «удалить и оставить первое вхождение», что позволит повысить чистоту данных без искажения анализа"
   ]
  },
  {
   "cell_type": "code",
   "execution_count": 29,
   "id": "b923b7c4",
   "metadata": {},
   "outputs": [],
   "source": [
    "merged_df = merged_df.drop_duplicates(subset=cols_except_order_id, keep='first')"
   ]
  },
  {
   "cell_type": "markdown",
   "id": "c93a3d29-d210-47b9-a06e-6ebe592c87fe",
   "metadata": {},
   "source": [
    "Проведена проверка неявных дубликатов по всем признакам, за исключением технического поля order_id.\n",
    "Найдено 58 неявных дубликатов, что составляет лишь 0.02% от общего числа заказов.\n",
    "Поскольку строки совпадают по всем остальным полям, было принято решение удалить дубликаты, оставив по одному представителю каждой группы. Это минимальное вмешательство позволяет повысить чистоту данных без искажения анализа."
   ]
  },
  {
   "cell_type": "markdown",
   "id": "36324f8a-0455-4284-be46-4d94bc14b113",
   "metadata": {},
   "source": [
    "### 2.5 Проверяем преобразование типов данных\n",
    "При первичной проверке данных мы обратили внимание на то, что некоторые столбцы нужно поменять на тип даты и времени, поэтому поменяем их. Также проверим возможность снижения размерности количественных данных"
   ]
  },
  {
   "cell_type": "code",
   "execution_count": 30,
   "id": "7989547a-d8b1-4c96-b082-6090d3e411f2",
   "metadata": {},
   "outputs": [
    {
     "name": "stdout",
     "output_type": "stream",
     "text": [
      "order_id                    int64\n",
      "user_id                    object\n",
      "created_dt_msk             object\n",
      "created_ts_msk             object\n",
      "event_id                    int64\n",
      "cinema_circuit             object\n",
      "age_limit                   int64\n",
      "currency_code              object\n",
      "device_type_canonical      object\n",
      "revenue                   float64\n",
      "service_name               object\n",
      "tickets_count               int64\n",
      "total                     float64\n",
      "days_since_prev           float64\n",
      "data                       object\n",
      "nominal                   float64\n",
      "curs                      float64\n",
      "cdx                        object\n",
      "event_name                 object\n",
      "event_type_description     object\n",
      "event_type_main            object\n",
      "organizers                 object\n",
      "region_name                object\n",
      "city_name                  object\n",
      "city_id                   float64\n",
      "venue_id                  float64\n",
      "venue_name                 object\n",
      "venue_address              object\n",
      "dtype: object\n",
      "<class 'pandas.core.frame.DataFrame'>\n",
      "Index: 287752 entries, 0 to 287781\n",
      "Data columns (total 28 columns):\n",
      " #   Column                  Non-Null Count   Dtype  \n",
      "---  ------                  --------------   -----  \n",
      " 0   order_id                287752 non-null  int64  \n",
      " 1   user_id                 287752 non-null  object \n",
      " 2   created_dt_msk          287752 non-null  object \n",
      " 3   created_ts_msk          287752 non-null  object \n",
      " 4   event_id                287752 non-null  int64  \n",
      " 5   cinema_circuit          287752 non-null  object \n",
      " 6   age_limit               287752 non-null  int64  \n",
      " 7   currency_code           287752 non-null  object \n",
      " 8   device_type_canonical   287752 non-null  object \n",
      " 9   revenue                 287752 non-null  float64\n",
      " 10  service_name            287752 non-null  object \n",
      " 11  tickets_count           287752 non-null  int64  \n",
      " 12  total                   287752 non-null  float64\n",
      " 13  days_since_prev         266040 non-null  float64\n",
      " 14  data                    5040 non-null    object \n",
      " 15  nominal                 5040 non-null    float64\n",
      " 16  curs                    5040 non-null    float64\n",
      " 17  cdx                     5040 non-null    object \n",
      " 18  event_name              287752 non-null  object \n",
      " 19  event_type_description  287752 non-null  object \n",
      " 20  event_type_main         287752 non-null  object \n",
      " 21  organizers              287752 non-null  object \n",
      " 22  region_name             287752 non-null  object \n",
      " 23  city_name               287752 non-null  object \n",
      " 24  city_id                 287752 non-null  float64\n",
      " 25  venue_id                287752 non-null  float64\n",
      " 26  venue_name              287752 non-null  object \n",
      " 27  venue_address           287752 non-null  object \n",
      "dtypes: float64(7), int64(4), object(17)\n",
      "memory usage: 490.5 MB\n"
     ]
    }
   ],
   "source": [
    "# Посмотрим типы данных\n",
    "print(merged_df.dtypes)\n",
    "\n",
    "# Посмотрим использование памяти\n",
    "merged_df.info(memory_usage='deep')"
   ]
  },
  {
   "cell_type": "markdown",
   "id": "65150776-cf4a-42d8-baa9-5ff67aac5ba2",
   "metadata": {},
   "source": [
    "Данные занимают значительную часть памяти - почти 500 мегабайт, посмотрим, что можно сократить и переведем некоторые столбцы в тип даты и времени"
   ]
  },
  {
   "cell_type": "code",
   "execution_count": 31,
   "id": "ed809cf2-94f1-4915-9cd8-596bc80abd9f",
   "metadata": {},
   "outputs": [],
   "source": [
    "# Преобразуем тип даты и времени\n",
    "merged_df['created_dt_msk'] = pd.to_datetime(merged_df['created_dt_msk'], errors='coerce')\n",
    "merged_df['created_ts_msk'] = pd.to_datetime(merged_df['created_ts_msk'], errors='coerce')\n",
    "merged_df['data'] = pd.to_datetime(merged_df['data'], errors='coerce')"
   ]
  },
  {
   "cell_type": "code",
   "execution_count": 32,
   "id": "1ba24af8-8d88-44e1-923d-73ef8ad0882a",
   "metadata": {},
   "outputs": [],
   "source": [
    "# Оптимизируем числовые типы\n",
    "# int64 → int32\n",
    "merged_df['order_id'] = pd.to_numeric(merged_df['order_id'], downcast='integer')\n",
    "merged_df['event_id'] = pd.to_numeric(merged_df['event_id'], downcast='integer')\n",
    "merged_df['age_limit'] = pd.to_numeric(merged_df['age_limit'], downcast='integer')\n",
    "merged_df['tickets_count'] = pd.to_numeric(merged_df['tickets_count'], downcast='integer')"
   ]
  },
  {
   "cell_type": "code",
   "execution_count": 33,
   "id": "81544a6d-a3d6-4efe-9004-793c46b20cc0",
   "metadata": {},
   "outputs": [],
   "source": [
    "# float64 → float32\n",
    "float_cols = ['revenue', 'total', 'days_since_prev', 'nominal', 'curs', 'city_id', 'venue_id']\n",
    "for col in float_cols:\n",
    "    merged_df[col] = pd.to_numeric(merged_df[col], downcast='float')"
   ]
  },
  {
   "cell_type": "code",
   "execution_count": 34,
   "id": "0b5373fe-2821-49f0-b624-9ca9a0480280",
   "metadata": {},
   "outputs": [
    {
     "name": "stdout",
     "output_type": "stream",
     "text": [
      "<class 'pandas.core.frame.DataFrame'>\n",
      "Index: 287752 entries, 0 to 287781\n",
      "Data columns (total 28 columns):\n",
      " #   Column                  Non-Null Count   Dtype         \n",
      "---  ------                  --------------   -----         \n",
      " 0   order_id                287752 non-null  int32         \n",
      " 1   user_id                 287752 non-null  object        \n",
      " 2   created_dt_msk          287752 non-null  datetime64[ns]\n",
      " 3   created_ts_msk          287752 non-null  datetime64[ns]\n",
      " 4   event_id                287752 non-null  int32         \n",
      " 5   cinema_circuit          287752 non-null  object        \n",
      " 6   age_limit               287752 non-null  int8          \n",
      " 7   currency_code           287752 non-null  object        \n",
      " 8   device_type_canonical   287752 non-null  object        \n",
      " 9   revenue                 287752 non-null  float32       \n",
      " 10  service_name            287752 non-null  object        \n",
      " 11  tickets_count           287752 non-null  int8          \n",
      " 12  total                   287752 non-null  float64       \n",
      " 13  days_since_prev         266040 non-null  float32       \n",
      " 14  data                    5040 non-null    datetime64[ns]\n",
      " 15  nominal                 5040 non-null    float32       \n",
      " 16  curs                    5040 non-null    float32       \n",
      " 17  cdx                     5040 non-null    object        \n",
      " 18  event_name              287752 non-null  object        \n",
      " 19  event_type_description  287752 non-null  object        \n",
      " 20  event_type_main         287752 non-null  object        \n",
      " 21  organizers              287752 non-null  object        \n",
      " 22  region_name             287752 non-null  object        \n",
      " 23  city_name               287752 non-null  object        \n",
      " 24  city_id                 287752 non-null  float32       \n",
      " 25  venue_id                287752 non-null  float32       \n",
      " 26  venue_name              287752 non-null  object        \n",
      " 27  venue_address           287752 non-null  object        \n",
      "dtypes: datetime64[ns](3), float32(6), float64(1), int32(2), int8(2), object(14)\n",
      "memory usage: 443.8 MB\n"
     ]
    }
   ],
   "source": [
    "# Проверим, насколько освободилась память\n",
    "merged_df.info(memory_usage='deep')"
   ]
  },
  {
   "cell_type": "markdown",
   "id": "747b9e02-0480-4ece-a206-72ab3e38fbb4",
   "metadata": {},
   "source": [
    "Заметно, что `total` и `revenue` остались с `float64`. Это может значит, что есть значения, которые не помещаются в `float32`, оставим их как есть. \n",
    "В остальных случаях мы поменяли `int64` на `int32`, `float64` на `float32`, а столбцы `created_dt_msk`, `created_ts_msk`, `data` привели к `datetime64`. Таким образом мы освободили память на 50 мегабайт"
   ]
  },
  {
   "cell_type": "markdown",
   "id": "c2837f16-f59e-4277-ad7a-7c8a37e6906e",
   "metadata": {},
   "source": [
    "### 2.6 Создаем новые солбцы\n",
    "- revenue_rub — приведем выручку с заказа к единой валюте — российскому рублю.\n",
    "- one_ticket_revenue_rub — рассчитаем выручку с продажи одного билета на мероприятие.\n",
    "- month — выделим месяц оформления заказа в отдельный столбец.\n",
    "- season — создадим столбец с информацией о сезонности, включая такие категории, как: 'лето', 'осень', 'зима', 'весна'."
   ]
  },
  {
   "cell_type": "code",
   "execution_count": 35,
   "id": "1a1b1456-2cb0-41bb-8def-43d2962c5074",
   "metadata": {},
   "outputs": [],
   "source": [
    "# revenue_rub - выручка в рублях\n",
    "# Переведем тенге в рубли, остальные оставим как есть\n",
    "merged_df['revenue_rub'] = merged_df.apply(\n",
    "    lambda row: row['revenue'] * (row['curs'] / 100) if row['currency_code'] == 'kzt' else row['revenue'],\n",
    "    axis=1\n",
    ")"
   ]
  },
  {
   "cell_type": "code",
   "execution_count": 36,
   "id": "36e83d97-73ed-4627-8bee-b902d85ce593",
   "metadata": {},
   "outputs": [],
   "source": [
    "# one_ticket_revenue_rub — выручка за один билет\n",
    "merged_df['one_ticket_revenue_rub'] = merged_df.apply(\n",
    "    lambda row: row['revenue_rub'] / row['tickets_count'] if row['tickets_count'] > 0 else None,\n",
    "    axis=1\n",
    ")"
   ]
  },
  {
   "cell_type": "code",
   "execution_count": 37,
   "id": "fa503b4c-5610-4aee-97e9-631e4d325d65",
   "metadata": {},
   "outputs": [],
   "source": [
    "# month — месяц оформления заказа\n",
    "merged_df['month'] = merged_df['created_ts_msk'].dt.month"
   ]
  },
  {
   "cell_type": "code",
   "execution_count": 38,
   "id": "565e0293-a740-4513-af7b-d49b6da2bd64",
   "metadata": {},
   "outputs": [],
   "source": [
    "# season — сезон\n",
    "def get_season(month):\n",
    "    if month in [12, 1, 2]:\n",
    "        return 'зима'\n",
    "    elif month in [3, 4, 5]:\n",
    "        return 'весна'\n",
    "    elif month in [6, 7, 8]:\n",
    "        return 'лето'\n",
    "    elif month in [9, 10, 11]:\n",
    "        return 'осень'\n",
    "    return None\n",
    "\n",
    "merged_df['season'] = merged_df['month'].apply(get_season)"
   ]
  },
  {
   "cell_type": "code",
   "execution_count": 39,
   "id": "fa4c6259-7c48-4d5d-81a1-68a0818bd389",
   "metadata": {},
   "outputs": [
    {
     "data": {
      "text/html": [
       "<div>\n",
       "<style scoped>\n",
       "    .dataframe tbody tr th:only-of-type {\n",
       "        vertical-align: middle;\n",
       "    }\n",
       "\n",
       "    .dataframe tbody tr th {\n",
       "        vertical-align: top;\n",
       "    }\n",
       "\n",
       "    .dataframe thead th {\n",
       "        text-align: right;\n",
       "    }\n",
       "</style>\n",
       "<table border=\"1\" class=\"dataframe\">\n",
       "  <thead>\n",
       "    <tr style=\"text-align: right;\">\n",
       "      <th></th>\n",
       "      <th>order_id</th>\n",
       "      <th>user_id</th>\n",
       "      <th>created_dt_msk</th>\n",
       "      <th>created_ts_msk</th>\n",
       "      <th>event_id</th>\n",
       "      <th>cinema_circuit</th>\n",
       "      <th>age_limit</th>\n",
       "      <th>currency_code</th>\n",
       "      <th>device_type_canonical</th>\n",
       "      <th>revenue</th>\n",
       "      <th>...</th>\n",
       "      <th>region_name</th>\n",
       "      <th>city_name</th>\n",
       "      <th>city_id</th>\n",
       "      <th>venue_id</th>\n",
       "      <th>venue_name</th>\n",
       "      <th>venue_address</th>\n",
       "      <th>revenue_rub</th>\n",
       "      <th>one_ticket_revenue_rub</th>\n",
       "      <th>month</th>\n",
       "      <th>season</th>\n",
       "    </tr>\n",
       "  </thead>\n",
       "  <tbody>\n",
       "    <tr>\n",
       "      <th>0</th>\n",
       "      <td>4359165</td>\n",
       "      <td>0002849b70a3ce2</td>\n",
       "      <td>2024-08-20</td>\n",
       "      <td>2024-08-20 16:08:03</td>\n",
       "      <td>169230</td>\n",
       "      <td>нет</td>\n",
       "      <td>16</td>\n",
       "      <td>rub</td>\n",
       "      <td>mobile</td>\n",
       "      <td>1521.939941</td>\n",
       "      <td>...</td>\n",
       "      <td>Каменевский регион</td>\n",
       "      <td>Глиногорск</td>\n",
       "      <td>213.0</td>\n",
       "      <td>3972.0</td>\n",
       "      <td>Сценический центр \"Деталь\" Групп</td>\n",
       "      <td>алл. Машиностроителей, д. 19 стр. 6</td>\n",
       "      <td>1521.939941</td>\n",
       "      <td>380.484985</td>\n",
       "      <td>8</td>\n",
       "      <td>лето</td>\n",
       "    </tr>\n",
       "    <tr>\n",
       "      <th>1</th>\n",
       "      <td>7965605</td>\n",
       "      <td>0005ca5e93f2cf4</td>\n",
       "      <td>2024-07-23</td>\n",
       "      <td>2024-07-23 18:36:24</td>\n",
       "      <td>237325</td>\n",
       "      <td>нет</td>\n",
       "      <td>0</td>\n",
       "      <td>rub</td>\n",
       "      <td>mobile</td>\n",
       "      <td>289.450012</td>\n",
       "      <td>...</td>\n",
       "      <td>Каменевский регион</td>\n",
       "      <td>Глиногорск</td>\n",
       "      <td>213.0</td>\n",
       "      <td>2941.0</td>\n",
       "      <td>Музыкальная школа для детей \"Аккаунт\" Лтд</td>\n",
       "      <td>алл. Шмидта, д. 9 стр. 4</td>\n",
       "      <td>289.450012</td>\n",
       "      <td>144.725006</td>\n",
       "      <td>7</td>\n",
       "      <td>лето</td>\n",
       "    </tr>\n",
       "    <tr>\n",
       "      <th>2</th>\n",
       "      <td>7292370</td>\n",
       "      <td>0005ca5e93f2cf4</td>\n",
       "      <td>2024-10-06</td>\n",
       "      <td>2024-10-06 13:56:02</td>\n",
       "      <td>578454</td>\n",
       "      <td>нет</td>\n",
       "      <td>0</td>\n",
       "      <td>rub</td>\n",
       "      <td>mobile</td>\n",
       "      <td>1258.569946</td>\n",
       "      <td>...</td>\n",
       "      <td>Каменевский регион</td>\n",
       "      <td>Глиногорск</td>\n",
       "      <td>213.0</td>\n",
       "      <td>4507.0</td>\n",
       "      <td>Училище искусств \"Нирвана\" Инк</td>\n",
       "      <td>алл. Юбилейная, д. 5/6</td>\n",
       "      <td>1258.569946</td>\n",
       "      <td>314.642487</td>\n",
       "      <td>10</td>\n",
       "      <td>осень</td>\n",
       "    </tr>\n",
       "    <tr>\n",
       "      <th>3</th>\n",
       "      <td>1139875</td>\n",
       "      <td>000898990054619</td>\n",
       "      <td>2024-07-13</td>\n",
       "      <td>2024-07-13 19:40:48</td>\n",
       "      <td>387271</td>\n",
       "      <td>нет</td>\n",
       "      <td>0</td>\n",
       "      <td>rub</td>\n",
       "      <td>mobile</td>\n",
       "      <td>8.490000</td>\n",
       "      <td>...</td>\n",
       "      <td>Североярская область</td>\n",
       "      <td>Озёрск</td>\n",
       "      <td>2.0</td>\n",
       "      <td>3574.0</td>\n",
       "      <td>Театр альтернативного искусства \"Ода\" Лимитед</td>\n",
       "      <td>алл. Есенина, д. 243 к. 3/8</td>\n",
       "      <td>8.490000</td>\n",
       "      <td>4.245000</td>\n",
       "      <td>7</td>\n",
       "      <td>лето</td>\n",
       "    </tr>\n",
       "    <tr>\n",
       "      <th>4</th>\n",
       "      <td>972400</td>\n",
       "      <td>000898990054619</td>\n",
       "      <td>2024-10-04</td>\n",
       "      <td>2024-10-04 22:33:15</td>\n",
       "      <td>509453</td>\n",
       "      <td>нет</td>\n",
       "      <td>18</td>\n",
       "      <td>rub</td>\n",
       "      <td>mobile</td>\n",
       "      <td>1390.410034</td>\n",
       "      <td>...</td>\n",
       "      <td>Озернинский край</td>\n",
       "      <td>Родниковецк</td>\n",
       "      <td>240.0</td>\n",
       "      <td>1896.0</td>\n",
       "      <td>Театр кукол \"Огни\" Инкорпорэйтед</td>\n",
       "      <td>ш. Набережное, д. 595 стр. 8</td>\n",
       "      <td>1390.410034</td>\n",
       "      <td>463.470011</td>\n",
       "      <td>10</td>\n",
       "      <td>осень</td>\n",
       "    </tr>\n",
       "  </tbody>\n",
       "</table>\n",
       "<p>5 rows × 32 columns</p>\n",
       "</div>"
      ],
      "text/plain": [
       "   order_id          user_id created_dt_msk      created_ts_msk  event_id  \\\n",
       "0   4359165  0002849b70a3ce2     2024-08-20 2024-08-20 16:08:03    169230   \n",
       "1   7965605  0005ca5e93f2cf4     2024-07-23 2024-07-23 18:36:24    237325   \n",
       "2   7292370  0005ca5e93f2cf4     2024-10-06 2024-10-06 13:56:02    578454   \n",
       "3   1139875  000898990054619     2024-07-13 2024-07-13 19:40:48    387271   \n",
       "4    972400  000898990054619     2024-10-04 2024-10-04 22:33:15    509453   \n",
       "\n",
       "  cinema_circuit  age_limit currency_code device_type_canonical      revenue  \\\n",
       "0            нет         16           rub                mobile  1521.939941   \n",
       "1            нет          0           rub                mobile   289.450012   \n",
       "2            нет          0           rub                mobile  1258.569946   \n",
       "3            нет          0           rub                mobile     8.490000   \n",
       "4            нет         18           rub                mobile  1390.410034   \n",
       "\n",
       "   ...           region_name    city_name  city_id  venue_id  \\\n",
       "0  ...    Каменевский регион   Глиногорск    213.0    3972.0   \n",
       "1  ...    Каменевский регион   Глиногорск    213.0    2941.0   \n",
       "2  ...    Каменевский регион   Глиногорск    213.0    4507.0   \n",
       "3  ...  Североярская область       Озёрск      2.0    3574.0   \n",
       "4  ...      Озернинский край  Родниковецк    240.0    1896.0   \n",
       "\n",
       "                                      venue_name  \\\n",
       "0               Сценический центр \"Деталь\" Групп   \n",
       "1      Музыкальная школа для детей \"Аккаунт\" Лтд   \n",
       "2                 Училище искусств \"Нирвана\" Инк   \n",
       "3  Театр альтернативного искусства \"Ода\" Лимитед   \n",
       "4               Театр кукол \"Огни\" Инкорпорэйтед   \n",
       "\n",
       "                         venue_address  revenue_rub one_ticket_revenue_rub  \\\n",
       "0  алл. Машиностроителей, д. 19 стр. 6  1521.939941             380.484985   \n",
       "1             алл. Шмидта, д. 9 стр. 4   289.450012             144.725006   \n",
       "2               алл. Юбилейная, д. 5/6  1258.569946             314.642487   \n",
       "3          алл. Есенина, д. 243 к. 3/8     8.490000               4.245000   \n",
       "4         ш. Набережное, д. 595 стр. 8  1390.410034             463.470011   \n",
       "\n",
       "  month season  \n",
       "0     8   лето  \n",
       "1     7   лето  \n",
       "2    10  осень  \n",
       "3     7   лето  \n",
       "4    10  осень  \n",
       "\n",
       "[5 rows x 32 columns]"
      ]
     },
     "execution_count": 39,
     "metadata": {},
     "output_type": "execute_result"
    }
   ],
   "source": [
    "# Проверим результат\n",
    "merged_df.head()"
   ]
  },
  {
   "cell_type": "markdown",
   "id": "ba359083-b396-4f08-8ab8-6c4d7d8f0c5e",
   "metadata": {},
   "source": [
    "Все получилось, мы создали новые столбцы"
   ]
  },
  {
   "cell_type": "markdown",
   "id": "74b28d67-03aa-4401-9094-862bde445560",
   "metadata": {},
   "source": [
    "#### Промежуточный вывод\n",
    "- Объединены датфреймы для удобства предоработки\n",
    "- Проверены данные на пропуски\n",
    "    - Их было 238, уникальных из них было 19 - незначительное количество, мы их удалили по столбцу `event_name`.  В столбце `days_since_prev` было 21940 пропусков, и, хоть с ними можно было ничего не делать, на всякий случай мы заменили их на 0.\n",
    "- Изучены значения в ключевых столбцах\n",
    "    - Были проверены категориальные значениях, критичных замечаний не было, ничего не заменили;\n",
    "    - В количественных значениях были найдены выбросы в столбце `revenue`, мы отфильтровали их по 99-му процентилю.\n",
    "- Проверены явные и неявные дубликаты\n",
    "    - Явных дубликатов не выявлено;\n",
    "    - Неявных дубликатов по бронированию билета без учёта идентификаторов заказа было выявлено 85, это 0,03% - незначительное кол-во. Был оставлен каждый первый дубликат в группе, остальные удалены.\n",
    "- Проведено преобразование типов данных\n",
    "    - Поменяли тип данных для столбцов с типом даты и времени;\n",
    "    - Сократили память на 50 мегабайт, поменяв `int64` и `float64` на размер в 32. \n",
    "- Создано 4 новых столбца:\n",
    "    - revenue_rub — выручка в рублях\n",
    "    - one_ticket_revenue_rub — выручка за билет\n",
    "    - month — номер месяца\n",
    "    - season — сезон по месяцу\n"
   ]
  },
  {
   "cell_type": "markdown",
   "id": "5cd5f9db-3b29-455a-b8f5-067fe3c3d647",
   "metadata": {},
   "source": [
    "## 3. Исследовательский анализ данных\n",
    "### 3.1 Анализ распределения заказов по сегментам и их сезонные изменения\n",
    "- Для каждого месяца найдем количество заказов\n",
    "- Для осеннего и летнего периодов сравним распределение заказов билетов\n",
    "- Изучим изменение выручки с продажи одного билета в зависимости от типа мероприятия летом и осенью"
   ]
  },
  {
   "cell_type": "markdown",
   "id": "485fca67-9e36-4f10-9de9-854001c31e4f",
   "metadata": {},
   "source": [
    "#### 3.1.1 Кол-во заказов по месяцам (в целом)"
   ]
  },
  {
   "cell_type": "code",
   "execution_count": 40,
   "id": "e61f2cbf-730c-4313-ab2a-356a87ed5e4f",
   "metadata": {},
   "outputs": [
    {
     "name": "stdout",
     "output_type": "stream",
     "text": [
      "   month  order_id\n",
      "0      6     34164\n",
      "1      7     40407\n",
      "2      8     44550\n",
      "3      9     69352\n",
      "4     10     99279\n"
     ]
    }
   ],
   "source": [
    "# Считаем уникальные заказы по месяцам\n",
    "orders_by_month = (\n",
    "    merged_df\n",
    "    .groupby('month')['order_id']\n",
    "    .nunique()\n",
    "    .reset_index()\n",
    "    .sort_values('month')\n",
    ")\n",
    "print(orders_by_month)"
   ]
  },
  {
   "cell_type": "code",
   "execution_count": 41,
   "id": "22b8b22a-d63a-49ff-ba8f-b3377b4d0954",
   "metadata": {},
   "outputs": [
    {
     "data": {
      "image/png": "[encoded data removed]",
      "text/plain": [
       "<Figure size 800x400 with 1 Axes>"
      ]
     },
     "metadata": {},
     "output_type": "display_data"
    }
   ],
   "source": [
    "# Визуализация\n",
    "plt.figure(figsize=(8, 4))\n",
    "sns.lineplot(data=orders_by_month, x='month', y='order_id', marker='o')\n",
    "plt.title('Количество заказов по месяцам в 2024 году')\n",
    "plt.xlabel('Месяц')\n",
    "plt.ylabel('Число заказов')\n",
    "plt.xticks(range(6, 11))\n",
    "plt.grid(True)\n",
    "plt.show()"
   ]
  },
  {
   "cell_type": "markdown",
   "id": "4ab1e841-7834-4023-9d30-6090dd505443",
   "metadata": {},
   "source": [
    "Увеличение кол-ва заказов отчетливо видно: общее кол-во заказов увеличилось более чем в 2 раза с июня (34504) по ноябрь (100210). Теперь посмотрим кол-во заказов для каждого месяца по сегментам:"
   ]
  },
  {
   "cell_type": "markdown",
   "id": "d689a7b7-8a7a-40a9-bed6-8307684da987",
   "metadata": {},
   "source": [
    "#### 3.1.2 Кол-во заказов для каждого месяца по типу мероприятия (event_type_main)"
   ]
  },
  {
   "cell_type": "code",
   "execution_count": 42,
   "id": "84471ba1-63eb-4aee-83fd-165a389eeb24",
   "metadata": {},
   "outputs": [
    {
     "data": {
      "text/html": [
       "<div>\n",
       "<style scoped>\n",
       "    .dataframe tbody tr th:only-of-type {\n",
       "        vertical-align: middle;\n",
       "    }\n",
       "\n",
       "    .dataframe tbody tr th {\n",
       "        vertical-align: top;\n",
       "    }\n",
       "\n",
       "    .dataframe thead th {\n",
       "        text-align: right;\n",
       "    }\n",
       "</style>\n",
       "<table border=\"1\" class=\"dataframe\">\n",
       "  <thead>\n",
       "    <tr style=\"text-align: right;\">\n",
       "      <th></th>\n",
       "      <th>month</th>\n",
       "      <th>event_type_main</th>\n",
       "      <th>order_id</th>\n",
       "    </tr>\n",
       "  </thead>\n",
       "  <tbody>\n",
       "    <tr>\n",
       "      <th>2</th>\n",
       "      <td>6</td>\n",
       "      <td>концерты</td>\n",
       "      <td>15489</td>\n",
       "    </tr>\n",
       "    <tr>\n",
       "      <th>1</th>\n",
       "      <td>6</td>\n",
       "      <td>другое</td>\n",
       "      <td>8864</td>\n",
       "    </tr>\n",
       "    <tr>\n",
       "      <th>5</th>\n",
       "      <td>6</td>\n",
       "      <td>театр</td>\n",
       "      <td>7354</td>\n",
       "    </tr>\n",
       "    <tr>\n",
       "      <th>4</th>\n",
       "      <td>6</td>\n",
       "      <td>стендап</td>\n",
       "      <td>1516</td>\n",
       "    </tr>\n",
       "    <tr>\n",
       "      <th>0</th>\n",
       "      <td>6</td>\n",
       "      <td>выставки</td>\n",
       "      <td>614</td>\n",
       "    </tr>\n",
       "    <tr>\n",
       "      <th>3</th>\n",
       "      <td>6</td>\n",
       "      <td>спорт</td>\n",
       "      <td>261</td>\n",
       "    </tr>\n",
       "    <tr>\n",
       "      <th>6</th>\n",
       "      <td>6</td>\n",
       "      <td>ёлки</td>\n",
       "      <td>66</td>\n",
       "    </tr>\n",
       "    <tr>\n",
       "      <th>9</th>\n",
       "      <td>7</td>\n",
       "      <td>концерты</td>\n",
       "      <td>16761</td>\n",
       "    </tr>\n",
       "    <tr>\n",
       "      <th>8</th>\n",
       "      <td>7</td>\n",
       "      <td>другое</td>\n",
       "      <td>11469</td>\n",
       "    </tr>\n",
       "    <tr>\n",
       "      <th>12</th>\n",
       "      <td>7</td>\n",
       "      <td>театр</td>\n",
       "      <td>8235</td>\n",
       "    </tr>\n",
       "    <tr>\n",
       "      <th>11</th>\n",
       "      <td>7</td>\n",
       "      <td>стендап</td>\n",
       "      <td>2144</td>\n",
       "    </tr>\n",
       "    <tr>\n",
       "      <th>7</th>\n",
       "      <td>7</td>\n",
       "      <td>выставки</td>\n",
       "      <td>1017</td>\n",
       "    </tr>\n",
       "    <tr>\n",
       "      <th>10</th>\n",
       "      <td>7</td>\n",
       "      <td>спорт</td>\n",
       "      <td>714</td>\n",
       "    </tr>\n",
       "    <tr>\n",
       "      <th>13</th>\n",
       "      <td>7</td>\n",
       "      <td>ёлки</td>\n",
       "      <td>67</td>\n",
       "    </tr>\n",
       "    <tr>\n",
       "      <th>16</th>\n",
       "      <td>8</td>\n",
       "      <td>концерты</td>\n",
       "      <td>18518</td>\n",
       "    </tr>\n",
       "    <tr>\n",
       "      <th>15</th>\n",
       "      <td>8</td>\n",
       "      <td>другое</td>\n",
       "      <td>12036</td>\n",
       "    </tr>\n",
       "    <tr>\n",
       "      <th>19</th>\n",
       "      <td>8</td>\n",
       "      <td>театр</td>\n",
       "      <td>8354</td>\n",
       "    </tr>\n",
       "    <tr>\n",
       "      <th>18</th>\n",
       "      <td>8</td>\n",
       "      <td>стендап</td>\n",
       "      <td>2686</td>\n",
       "    </tr>\n",
       "    <tr>\n",
       "      <th>17</th>\n",
       "      <td>8</td>\n",
       "      <td>спорт</td>\n",
       "      <td>2031</td>\n",
       "    </tr>\n",
       "    <tr>\n",
       "      <th>14</th>\n",
       "      <td>8</td>\n",
       "      <td>выставки</td>\n",
       "      <td>785</td>\n",
       "    </tr>\n",
       "    <tr>\n",
       "      <th>20</th>\n",
       "      <td>8</td>\n",
       "      <td>ёлки</td>\n",
       "      <td>140</td>\n",
       "    </tr>\n",
       "    <tr>\n",
       "      <th>23</th>\n",
       "      <td>9</td>\n",
       "      <td>концерты</td>\n",
       "      <td>24949</td>\n",
       "    </tr>\n",
       "    <tr>\n",
       "      <th>26</th>\n",
       "      <td>9</td>\n",
       "      <td>театр</td>\n",
       "      <td>17637</td>\n",
       "    </tr>\n",
       "    <tr>\n",
       "      <th>22</th>\n",
       "      <td>9</td>\n",
       "      <td>другое</td>\n",
       "      <td>14556</td>\n",
       "    </tr>\n",
       "    <tr>\n",
       "      <th>24</th>\n",
       "      <td>9</td>\n",
       "      <td>спорт</td>\n",
       "      <td>7974</td>\n",
       "    </tr>\n",
       "    <tr>\n",
       "      <th>25</th>\n",
       "      <td>9</td>\n",
       "      <td>стендап</td>\n",
       "      <td>3047</td>\n",
       "    </tr>\n",
       "    <tr>\n",
       "      <th>21</th>\n",
       "      <td>9</td>\n",
       "      <td>выставки</td>\n",
       "      <td>847</td>\n",
       "    </tr>\n",
       "    <tr>\n",
       "      <th>27</th>\n",
       "      <td>9</td>\n",
       "      <td>ёлки</td>\n",
       "      <td>342</td>\n",
       "    </tr>\n",
       "    <tr>\n",
       "      <th>30</th>\n",
       "      <td>10</td>\n",
       "      <td>концерты</td>\n",
       "      <td>37791</td>\n",
       "    </tr>\n",
       "    <tr>\n",
       "      <th>33</th>\n",
       "      <td>10</td>\n",
       "      <td>театр</td>\n",
       "      <td>25098</td>\n",
       "    </tr>\n",
       "    <tr>\n",
       "      <th>29</th>\n",
       "      <td>10</td>\n",
       "      <td>другое</td>\n",
       "      <td>18669</td>\n",
       "    </tr>\n",
       "    <tr>\n",
       "      <th>31</th>\n",
       "      <td>10</td>\n",
       "      <td>спорт</td>\n",
       "      <td>10907</td>\n",
       "    </tr>\n",
       "    <tr>\n",
       "      <th>32</th>\n",
       "      <td>10</td>\n",
       "      <td>стендап</td>\n",
       "      <td>3876</td>\n",
       "    </tr>\n",
       "    <tr>\n",
       "      <th>28</th>\n",
       "      <td>10</td>\n",
       "      <td>выставки</td>\n",
       "      <td>1589</td>\n",
       "    </tr>\n",
       "    <tr>\n",
       "      <th>34</th>\n",
       "      <td>10</td>\n",
       "      <td>ёлки</td>\n",
       "      <td>1349</td>\n",
       "    </tr>\n",
       "  </tbody>\n",
       "</table>\n",
       "</div>"
      ],
      "text/plain": [
       "    month event_type_main  order_id\n",
       "2       6        концерты     15489\n",
       "1       6          другое      8864\n",
       "5       6           театр      7354\n",
       "4       6         стендап      1516\n",
       "0       6        выставки       614\n",
       "3       6           спорт       261\n",
       "6       6            ёлки        66\n",
       "9       7        концерты     16761\n",
       "8       7          другое     11469\n",
       "12      7           театр      8235\n",
       "11      7         стендап      2144\n",
       "7       7        выставки      1017\n",
       "10      7           спорт       714\n",
       "13      7            ёлки        67\n",
       "16      8        концерты     18518\n",
       "15      8          другое     12036\n",
       "19      8           театр      8354\n",
       "18      8         стендап      2686\n",
       "17      8           спорт      2031\n",
       "14      8        выставки       785\n",
       "20      8            ёлки       140\n",
       "23      9        концерты     24949\n",
       "26      9           театр     17637\n",
       "22      9          другое     14556\n",
       "24      9           спорт      7974\n",
       "25      9         стендап      3047\n",
       "21      9        выставки       847\n",
       "27      9            ёлки       342\n",
       "30     10        концерты     37791\n",
       "33     10           театр     25098\n",
       "29     10          другое     18669\n",
       "31     10           спорт     10907\n",
       "32     10         стендап      3876\n",
       "28     10        выставки      1589\n",
       "34     10            ёлки      1349"
      ]
     },
     "metadata": {},
     "output_type": "display_data"
    }
   ],
   "source": [
    "orders_by_event_type_month = (\n",
    "    merged_df\n",
    "    .groupby(['month', 'event_type_main'])['order_id']\n",
    "    .nunique()\n",
    "    .reset_index()\n",
    "    .sort_values(['month', 'order_id'], ascending=[True, False])\n",
    ")\n",
    "\n",
    "display(orders_by_event_type_month)"
   ]
  },
  {
   "cell_type": "code",
   "execution_count": 43,
   "id": "74e86b47-21dc-458b-8ab6-dcc609e5eb14",
   "metadata": {},
   "outputs": [
    {
     "data": {
      "image/png": "[encoded data removed]",
      "text/plain": [
       "<Figure size 1000x400 with 1 Axes>"
      ]
     },
     "metadata": {},
     "output_type": "display_data"
    }
   ],
   "source": [
    "plt.figure(figsize=(10, 4))\n",
    "sns.lineplot(\n",
    "    data=orders_by_event_type_month,\n",
    "    x='month',\n",
    "    y='order_id',\n",
    "    hue='event_type_main',\n",
    "    marker='o'\n",
    ")\n",
    "\n",
    "plt.title('Количество заказов по типу мероприятия по месяцам (июнь — октябрь 2024)', fontsize=14)\n",
    "plt.xlabel('Месяц')\n",
    "plt.ylabel('Число заказов')\n",
    "plt.xticks([6, 7, 8, 9, 10])  # Только доступные месяцы\n",
    "plt.legend(title='Тип мероприятия', bbox_to_anchor=(1.05, 1), loc='upper left')\n",
    "plt.grid(True)\n",
    "plt.tight_layout()\n",
    "plt.show()"
   ]
  },
  {
   "cell_type": "markdown",
   "id": "a1153172-ae76-40e4-bfc5-d933bcb2bfae",
   "metadata": {},
   "source": [
    "Концерты - безусловный лидер среди кол-ва заказов. Также можно отметить, что с августа по ноябрь возрасла популярность театров и заказов в категории спорт"
   ]
  },
  {
   "cell_type": "markdown",
   "id": "fe42faf4-0ac8-4cdf-ba2f-3ea70e931c80",
   "metadata": {},
   "source": [
    "#### 3.1.3 Кол-во заказов для каждого месяца по типу устройства (device_type_canonical)"
   ]
  },
  {
   "cell_type": "code",
   "execution_count": 44,
   "id": "e852f039-f72b-43ea-ac06-6af6111aab8d",
   "metadata": {},
   "outputs": [
    {
     "data": {
      "text/html": [
       "<div>\n",
       "<style scoped>\n",
       "    .dataframe tbody tr th:only-of-type {\n",
       "        vertical-align: middle;\n",
       "    }\n",
       "\n",
       "    .dataframe tbody tr th {\n",
       "        vertical-align: top;\n",
       "    }\n",
       "\n",
       "    .dataframe thead th {\n",
       "        text-align: right;\n",
       "    }\n",
       "</style>\n",
       "<table border=\"1\" class=\"dataframe\">\n",
       "  <thead>\n",
       "    <tr style=\"text-align: right;\">\n",
       "      <th></th>\n",
       "      <th>month</th>\n",
       "      <th>device_type_canonical</th>\n",
       "      <th>order_id</th>\n",
       "    </tr>\n",
       "  </thead>\n",
       "  <tbody>\n",
       "    <tr>\n",
       "      <th>0</th>\n",
       "      <td>6</td>\n",
       "      <td>desktop</td>\n",
       "      <td>6860</td>\n",
       "    </tr>\n",
       "    <tr>\n",
       "      <th>1</th>\n",
       "      <td>6</td>\n",
       "      <td>mobile</td>\n",
       "      <td>27304</td>\n",
       "    </tr>\n",
       "    <tr>\n",
       "      <th>2</th>\n",
       "      <td>7</td>\n",
       "      <td>desktop</td>\n",
       "      <td>7899</td>\n",
       "    </tr>\n",
       "    <tr>\n",
       "      <th>3</th>\n",
       "      <td>7</td>\n",
       "      <td>mobile</td>\n",
       "      <td>32508</td>\n",
       "    </tr>\n",
       "    <tr>\n",
       "      <th>4</th>\n",
       "      <td>8</td>\n",
       "      <td>desktop</td>\n",
       "      <td>8301</td>\n",
       "    </tr>\n",
       "    <tr>\n",
       "      <th>5</th>\n",
       "      <td>8</td>\n",
       "      <td>mobile</td>\n",
       "      <td>36249</td>\n",
       "    </tr>\n",
       "    <tr>\n",
       "      <th>6</th>\n",
       "      <td>9</td>\n",
       "      <td>desktop</td>\n",
       "      <td>13389</td>\n",
       "    </tr>\n",
       "    <tr>\n",
       "      <th>7</th>\n",
       "      <td>9</td>\n",
       "      <td>mobile</td>\n",
       "      <td>55963</td>\n",
       "    </tr>\n",
       "    <tr>\n",
       "      <th>8</th>\n",
       "      <td>10</td>\n",
       "      <td>desktop</td>\n",
       "      <td>20914</td>\n",
       "    </tr>\n",
       "    <tr>\n",
       "      <th>9</th>\n",
       "      <td>10</td>\n",
       "      <td>mobile</td>\n",
       "      <td>78365</td>\n",
       "    </tr>\n",
       "  </tbody>\n",
       "</table>\n",
       "</div>"
      ],
      "text/plain": [
       "   month device_type_canonical  order_id\n",
       "0      6               desktop      6860\n",
       "1      6                mobile     27304\n",
       "2      7               desktop      7899\n",
       "3      7                mobile     32508\n",
       "4      8               desktop      8301\n",
       "5      8                mobile     36249\n",
       "6      9               desktop     13389\n",
       "7      9                mobile     55963\n",
       "8     10               desktop     20914\n",
       "9     10                mobile     78365"
      ]
     },
     "metadata": {},
     "output_type": "display_data"
    }
   ],
   "source": [
    "orders_by_device_month = (\n",
    "    merged_df\n",
    "    .groupby(['month', 'device_type_canonical'])['order_id']\n",
    "    .nunique()\n",
    "    .reset_index()\n",
    "    .sort_values(['month', 'order_id'])\n",
    ")\n",
    "\n",
    "display(orders_by_device_month)"
   ]
  },
  {
   "cell_type": "code",
   "execution_count": 45,
   "id": "af4f1601-943f-4d56-a36b-2fa9ff92773e",
   "metadata": {},
   "outputs": [
    {
     "data": {
      "image/png": "[encoded data removed]",
      "text/plain": [
       "<Figure size 800x400 with 1 Axes>"
      ]
     },
     "metadata": {},
     "output_type": "display_data"
    }
   ],
   "source": [
    "plt.figure(figsize=(8, 4))\n",
    "sns.lineplot(\n",
    "    data=orders_by_device_month,\n",
    "    x='month',\n",
    "    y='order_id',\n",
    "    hue='device_type_canonical',\n",
    "    marker='o'\n",
    ")\n",
    "\n",
    "plt.title('Количество заказов по типу устройства по месяцам (июнь — октябрь 2024)', fontsize=14)\n",
    "plt.xlabel('Месяц')\n",
    "plt.ylabel('Число заказов')\n",
    "plt.xticks([6, 7, 8, 9, 10])\n",
    "plt.legend(title='Тип устройства', bbox_to_anchor=(1.05, 1), loc='upper left')\n",
    "plt.grid(True)\n",
    "plt.tight_layout()\n",
    "plt.show()"
   ]
  },
  {
   "cell_type": "markdown",
   "id": "b126260f-6a68-4cc8-93c5-fdc56317f370",
   "metadata": {},
   "source": [
    "Оформление заказа с помощью телефона намного популярнее, чем с компьютера. Можно заметить, что в обоих случаях кол-во заказов такде возросло с августа по ноябрь, однако заказы, сделанные при помощи телефона показывают значительно лучшую динамику - они возрасли примерно с 28000 до 80000, в то время как заказы с комьютера лишь с примерно 8000 до 210000"
   ]
  },
  {
   "cell_type": "markdown",
   "id": "af0d3737-1e08-447e-8964-660439bce759",
   "metadata": {},
   "source": [
    "#### 3.1.4 Кол-во заказов для каждого месяца по возрастному рейтингу (age_limit)"
   ]
  },
  {
   "cell_type": "code",
   "execution_count": 46,
   "id": "fa812720-3a4d-4a99-873f-d7038d0e8c09",
   "metadata": {},
   "outputs": [
    {
     "data": {
      "text/html": [
       "<div>\n",
       "<style scoped>\n",
       "    .dataframe tbody tr th:only-of-type {\n",
       "        vertical-align: middle;\n",
       "    }\n",
       "\n",
       "    .dataframe tbody tr th {\n",
       "        vertical-align: top;\n",
       "    }\n",
       "\n",
       "    .dataframe thead th {\n",
       "        text-align: right;\n",
       "    }\n",
       "</style>\n",
       "<table border=\"1\" class=\"dataframe\">\n",
       "  <thead>\n",
       "    <tr style=\"text-align: right;\">\n",
       "      <th></th>\n",
       "      <th>month</th>\n",
       "      <th>age_limit</th>\n",
       "      <th>order_id</th>\n",
       "    </tr>\n",
       "  </thead>\n",
       "  <tbody>\n",
       "    <tr>\n",
       "      <th>4</th>\n",
       "      <td>6</td>\n",
       "      <td>18</td>\n",
       "      <td>4606</td>\n",
       "    </tr>\n",
       "    <tr>\n",
       "      <th>0</th>\n",
       "      <td>6</td>\n",
       "      <td>0</td>\n",
       "      <td>5636</td>\n",
       "    </tr>\n",
       "    <tr>\n",
       "      <th>1</th>\n",
       "      <td>6</td>\n",
       "      <td>6</td>\n",
       "      <td>5986</td>\n",
       "    </tr>\n",
       "    <tr>\n",
       "      <th>2</th>\n",
       "      <td>6</td>\n",
       "      <td>12</td>\n",
       "      <td>8055</td>\n",
       "    </tr>\n",
       "    <tr>\n",
       "      <th>3</th>\n",
       "      <td>6</td>\n",
       "      <td>16</td>\n",
       "      <td>9881</td>\n",
       "    </tr>\n",
       "    <tr>\n",
       "      <th>5</th>\n",
       "      <td>7</td>\n",
       "      <td>0</td>\n",
       "      <td>6560</td>\n",
       "    </tr>\n",
       "    <tr>\n",
       "      <th>9</th>\n",
       "      <td>7</td>\n",
       "      <td>18</td>\n",
       "      <td>6592</td>\n",
       "    </tr>\n",
       "    <tr>\n",
       "      <th>7</th>\n",
       "      <td>7</td>\n",
       "      <td>12</td>\n",
       "      <td>7645</td>\n",
       "    </tr>\n",
       "    <tr>\n",
       "      <th>6</th>\n",
       "      <td>7</td>\n",
       "      <td>6</td>\n",
       "      <td>7831</td>\n",
       "    </tr>\n",
       "    <tr>\n",
       "      <th>8</th>\n",
       "      <td>7</td>\n",
       "      <td>16</td>\n",
       "      <td>11779</td>\n",
       "    </tr>\n",
       "    <tr>\n",
       "      <th>14</th>\n",
       "      <td>8</td>\n",
       "      <td>18</td>\n",
       "      <td>6626</td>\n",
       "    </tr>\n",
       "    <tr>\n",
       "      <th>11</th>\n",
       "      <td>8</td>\n",
       "      <td>6</td>\n",
       "      <td>7856</td>\n",
       "    </tr>\n",
       "    <tr>\n",
       "      <th>12</th>\n",
       "      <td>8</td>\n",
       "      <td>12</td>\n",
       "      <td>8764</td>\n",
       "    </tr>\n",
       "    <tr>\n",
       "      <th>10</th>\n",
       "      <td>8</td>\n",
       "      <td>0</td>\n",
       "      <td>9208</td>\n",
       "    </tr>\n",
       "    <tr>\n",
       "      <th>13</th>\n",
       "      <td>8</td>\n",
       "      <td>16</td>\n",
       "      <td>12096</td>\n",
       "    </tr>\n",
       "    <tr>\n",
       "      <th>19</th>\n",
       "      <td>9</td>\n",
       "      <td>18</td>\n",
       "      <td>7150</td>\n",
       "    </tr>\n",
       "    <tr>\n",
       "      <th>16</th>\n",
       "      <td>9</td>\n",
       "      <td>6</td>\n",
       "      <td>12785</td>\n",
       "    </tr>\n",
       "    <tr>\n",
       "      <th>17</th>\n",
       "      <td>9</td>\n",
       "      <td>12</td>\n",
       "      <td>15837</td>\n",
       "    </tr>\n",
       "    <tr>\n",
       "      <th>15</th>\n",
       "      <td>9</td>\n",
       "      <td>0</td>\n",
       "      <td>15922</td>\n",
       "    </tr>\n",
       "    <tr>\n",
       "      <th>18</th>\n",
       "      <td>9</td>\n",
       "      <td>16</td>\n",
       "      <td>17658</td>\n",
       "    </tr>\n",
       "    <tr>\n",
       "      <th>24</th>\n",
       "      <td>10</td>\n",
       "      <td>18</td>\n",
       "      <td>10453</td>\n",
       "    </tr>\n",
       "    <tr>\n",
       "      <th>21</th>\n",
       "      <td>10</td>\n",
       "      <td>6</td>\n",
       "      <td>16935</td>\n",
       "    </tr>\n",
       "    <tr>\n",
       "      <th>22</th>\n",
       "      <td>10</td>\n",
       "      <td>12</td>\n",
       "      <td>21426</td>\n",
       "    </tr>\n",
       "    <tr>\n",
       "      <th>20</th>\n",
       "      <td>10</td>\n",
       "      <td>0</td>\n",
       "      <td>23906</td>\n",
       "    </tr>\n",
       "    <tr>\n",
       "      <th>23</th>\n",
       "      <td>10</td>\n",
       "      <td>16</td>\n",
       "      <td>26559</td>\n",
       "    </tr>\n",
       "  </tbody>\n",
       "</table>\n",
       "</div>"
      ],
      "text/plain": [
       "    month  age_limit  order_id\n",
       "4       6         18      4606\n",
       "0       6          0      5636\n",
       "1       6          6      5986\n",
       "2       6         12      8055\n",
       "3       6         16      9881\n",
       "5       7          0      6560\n",
       "9       7         18      6592\n",
       "7       7         12      7645\n",
       "6       7          6      7831\n",
       "8       7         16     11779\n",
       "14      8         18      6626\n",
       "11      8          6      7856\n",
       "12      8         12      8764\n",
       "10      8          0      9208\n",
       "13      8         16     12096\n",
       "19      9         18      7150\n",
       "16      9          6     12785\n",
       "17      9         12     15837\n",
       "15      9          0     15922\n",
       "18      9         16     17658\n",
       "24     10         18     10453\n",
       "21     10          6     16935\n",
       "22     10         12     21426\n",
       "20     10          0     23906\n",
       "23     10         16     26559"
      ]
     },
     "metadata": {},
     "output_type": "display_data"
    }
   ],
   "source": [
    "orders_by_age_limit_month = (\n",
    "    merged_df\n",
    "    .groupby(['month', 'age_limit'])['order_id']\n",
    "    .nunique()\n",
    "    .reset_index()\n",
    "    .sort_values(['month', 'order_id'])\n",
    ")\n",
    "\n",
    "display(orders_by_age_limit_month)"
   ]
  },
  {
   "cell_type": "code",
   "execution_count": 47,
   "id": "c5185bb9-4012-4b6f-b1f6-9bdc075c4113",
   "metadata": {},
   "outputs": [
    {
     "data": {
      "image/png": "[encoded data removed]",
      "text/plain": [
       "<Figure size 1000x400 with 1 Axes>"
      ]
     },
     "metadata": {},
     "output_type": "display_data"
    }
   ],
   "source": [
    "plt.figure(figsize=(10, 4))\n",
    "sns.lineplot(\n",
    "    data=orders_by_age_limit_month,\n",
    "    x='month',\n",
    "    y='order_id',\n",
    "    hue='age_limit',\n",
    "    palette='Dark2',\n",
    "    marker='o'\n",
    ")\n",
    "\n",
    "plt.title('Количество заказов по возрастному ограничению по месяцам (июнь — октябрь 2024)', fontsize=14)\n",
    "plt.xlabel('Месяц')\n",
    "plt.ylabel('Число заказов')\n",
    "plt.xticks([6, 7, 8, 9, 10])\n",
    "plt.legend(title='Возрастное ограничение', bbox_to_anchor=(1.05, 1), loc='upper left')\n",
    "plt.grid(True)\n",
    "plt.tight_layout()\n",
    "plt.show()"
   ]
  },
  {
   "cell_type": "markdown",
   "id": "ad6163d9-3cca-47d0-8364-0dc41497f743",
   "metadata": {},
   "source": [
    "На этом графике встречается интересная тенденция: возрастной рейтинг 0+ обгоняет 12+ c сентября по октябрь. Лидер заказов - рейтинг 16+"
   ]
  },
  {
   "cell_type": "markdown",
   "id": "1a07ebbd-c263-49d9-9a80-91cdf43d1b11",
   "metadata": {},
   "source": [
    "#### 3.1.5 Сравнение распределения заказов билетов по разным категориям для осеннего и летнего периодов "
   ]
  },
  {
   "cell_type": "code",
   "execution_count": 48,
   "id": "94932764-40e6-4810-a878-8874be821c2d",
   "metadata": {},
   "outputs": [],
   "source": [
    "# Функция для подсчёта долей заказов\n",
    "def compute_share(df, column):\n",
    "    count_df = (\n",
    "        df.groupby(['season', column])\n",
    "        .size()\n",
    "        .reset_index(name='count')\n",
    "    )\n",
    "    # Добавляем долю от общего числа заказов в сезоне\n",
    "    count_df['share'] = count_df.groupby('season')['count'].transform(lambda x: x / x.sum())\n",
    "    return count_df"
   ]
  },
  {
   "cell_type": "code",
   "execution_count": 49,
   "id": "bb10e38f-7a80-449e-a37c-1a9ca4879570",
   "metadata": {},
   "outputs": [],
   "source": [
    "# Применим функцию к каждому разрезу\n",
    "event_type_share = compute_share(merged_df, 'event_type_main')\n",
    "device_type_share = compute_share(merged_df, 'device_type_canonical')\n",
    "age_limit_share = compute_share(merged_df, 'age_limit')"
   ]
  },
  {
   "cell_type": "code",
   "execution_count": 50,
   "id": "cfe68d8a-03d6-4018-8408-199c9f42c420",
   "metadata": {},
   "outputs": [
    {
     "data": {
      "text/html": [
       "<div>\n",
       "<style scoped>\n",
       "    .dataframe tbody tr th:only-of-type {\n",
       "        vertical-align: middle;\n",
       "    }\n",
       "\n",
       "    .dataframe tbody tr th {\n",
       "        vertical-align: top;\n",
       "    }\n",
       "\n",
       "    .dataframe thead th {\n",
       "        text-align: right;\n",
       "    }\n",
       "</style>\n",
       "<table border=\"1\" class=\"dataframe\">\n",
       "  <thead>\n",
       "    <tr style=\"text-align: right;\">\n",
       "      <th></th>\n",
       "      <th>season</th>\n",
       "      <th>event_type_main</th>\n",
       "      <th>count</th>\n",
       "      <th>share</th>\n",
       "    </tr>\n",
       "  </thead>\n",
       "  <tbody>\n",
       "    <tr>\n",
       "      <th>0</th>\n",
       "      <td>лето</td>\n",
       "      <td>выставки</td>\n",
       "      <td>2416</td>\n",
       "      <td>0.020282</td>\n",
       "    </tr>\n",
       "    <tr>\n",
       "      <th>1</th>\n",
       "      <td>лето</td>\n",
       "      <td>другое</td>\n",
       "      <td>32369</td>\n",
       "      <td>0.271732</td>\n",
       "    </tr>\n",
       "    <tr>\n",
       "      <th>2</th>\n",
       "      <td>лето</td>\n",
       "      <td>концерты</td>\n",
       "      <td>50768</td>\n",
       "      <td>0.426188</td>\n",
       "    </tr>\n",
       "    <tr>\n",
       "      <th>3</th>\n",
       "      <td>лето</td>\n",
       "      <td>спорт</td>\n",
       "      <td>3006</td>\n",
       "      <td>0.025235</td>\n",
       "    </tr>\n",
       "    <tr>\n",
       "      <th>4</th>\n",
       "      <td>лето</td>\n",
       "      <td>стендап</td>\n",
       "      <td>6346</td>\n",
       "      <td>0.053274</td>\n",
       "    </tr>\n",
       "    <tr>\n",
       "      <th>5</th>\n",
       "      <td>лето</td>\n",
       "      <td>театр</td>\n",
       "      <td>23943</td>\n",
       "      <td>0.200997</td>\n",
       "    </tr>\n",
       "    <tr>\n",
       "      <th>6</th>\n",
       "      <td>лето</td>\n",
       "      <td>ёлки</td>\n",
       "      <td>273</td>\n",
       "      <td>0.002292</td>\n",
       "    </tr>\n",
       "    <tr>\n",
       "      <th>7</th>\n",
       "      <td>осень</td>\n",
       "      <td>выставки</td>\n",
       "      <td>2436</td>\n",
       "      <td>0.014446</td>\n",
       "    </tr>\n",
       "    <tr>\n",
       "      <th>8</th>\n",
       "      <td>осень</td>\n",
       "      <td>другое</td>\n",
       "      <td>33225</td>\n",
       "      <td>0.197028</td>\n",
       "    </tr>\n",
       "    <tr>\n",
       "      <th>9</th>\n",
       "      <td>осень</td>\n",
       "      <td>концерты</td>\n",
       "      <td>62740</td>\n",
       "      <td>0.372055</td>\n",
       "    </tr>\n",
       "    <tr>\n",
       "      <th>10</th>\n",
       "      <td>осень</td>\n",
       "      <td>спорт</td>\n",
       "      <td>18881</td>\n",
       "      <td>0.111966</td>\n",
       "    </tr>\n",
       "    <tr>\n",
       "      <th>11</th>\n",
       "      <td>осень</td>\n",
       "      <td>стендап</td>\n",
       "      <td>6923</td>\n",
       "      <td>0.041054</td>\n",
       "    </tr>\n",
       "    <tr>\n",
       "      <th>12</th>\n",
       "      <td>осень</td>\n",
       "      <td>театр</td>\n",
       "      <td>42735</td>\n",
       "      <td>0.253423</td>\n",
       "    </tr>\n",
       "    <tr>\n",
       "      <th>13</th>\n",
       "      <td>осень</td>\n",
       "      <td>ёлки</td>\n",
       "      <td>1691</td>\n",
       "      <td>0.010028</td>\n",
       "    </tr>\n",
       "  </tbody>\n",
       "</table>\n",
       "</div>"
      ],
      "text/plain": [
       "   season event_type_main  count     share\n",
       "0    лето        выставки   2416  0.020282\n",
       "1    лето          другое  32369  0.271732\n",
       "2    лето        концерты  50768  0.426188\n",
       "3    лето           спорт   3006  0.025235\n",
       "4    лето         стендап   6346  0.053274\n",
       "5    лето           театр  23943  0.200997\n",
       "6    лето            ёлки    273  0.002292\n",
       "7   осень        выставки   2436  0.014446\n",
       "8   осень          другое  33225  0.197028\n",
       "9   осень        концерты  62740  0.372055\n",
       "10  осень           спорт  18881  0.111966\n",
       "11  осень         стендап   6923  0.041054\n",
       "12  осень           театр  42735  0.253423\n",
       "13  осень            ёлки   1691  0.010028"
      ]
     },
     "metadata": {},
     "output_type": "display_data"
    },
    {
     "data": {
      "text/html": [
       "<div>\n",
       "<style scoped>\n",
       "    .dataframe tbody tr th:only-of-type {\n",
       "        vertical-align: middle;\n",
       "    }\n",
       "\n",
       "    .dataframe tbody tr th {\n",
       "        vertical-align: top;\n",
       "    }\n",
       "\n",
       "    .dataframe thead th {\n",
       "        text-align: right;\n",
       "    }\n",
       "</style>\n",
       "<table border=\"1\" class=\"dataframe\">\n",
       "  <thead>\n",
       "    <tr style=\"text-align: right;\">\n",
       "      <th></th>\n",
       "      <th>season</th>\n",
       "      <th>device_type_canonical</th>\n",
       "      <th>count</th>\n",
       "      <th>share</th>\n",
       "    </tr>\n",
       "  </thead>\n",
       "  <tbody>\n",
       "    <tr>\n",
       "      <th>0</th>\n",
       "      <td>лето</td>\n",
       "      <td>desktop</td>\n",
       "      <td>23060</td>\n",
       "      <td>0.193585</td>\n",
       "    </tr>\n",
       "    <tr>\n",
       "      <th>1</th>\n",
       "      <td>лето</td>\n",
       "      <td>mobile</td>\n",
       "      <td>96061</td>\n",
       "      <td>0.806415</td>\n",
       "    </tr>\n",
       "    <tr>\n",
       "      <th>2</th>\n",
       "      <td>осень</td>\n",
       "      <td>desktop</td>\n",
       "      <td>34303</td>\n",
       "      <td>0.203420</td>\n",
       "    </tr>\n",
       "    <tr>\n",
       "      <th>3</th>\n",
       "      <td>осень</td>\n",
       "      <td>mobile</td>\n",
       "      <td>134328</td>\n",
       "      <td>0.796580</td>\n",
       "    </tr>\n",
       "  </tbody>\n",
       "</table>\n",
       "</div>"
      ],
      "text/plain": [
       "  season device_type_canonical   count     share\n",
       "0   лето               desktop   23060  0.193585\n",
       "1   лето                mobile   96061  0.806415\n",
       "2  осень               desktop   34303  0.203420\n",
       "3  осень                mobile  134328  0.796580"
      ]
     },
     "metadata": {},
     "output_type": "display_data"
    },
    {
     "data": {
      "text/html": [
       "<div>\n",
       "<style scoped>\n",
       "    .dataframe tbody tr th:only-of-type {\n",
       "        vertical-align: middle;\n",
       "    }\n",
       "\n",
       "    .dataframe tbody tr th {\n",
       "        vertical-align: top;\n",
       "    }\n",
       "\n",
       "    .dataframe thead th {\n",
       "        text-align: right;\n",
       "    }\n",
       "</style>\n",
       "<table border=\"1\" class=\"dataframe\">\n",
       "  <thead>\n",
       "    <tr style=\"text-align: right;\">\n",
       "      <th></th>\n",
       "      <th>season</th>\n",
       "      <th>age_limit</th>\n",
       "      <th>count</th>\n",
       "      <th>share</th>\n",
       "    </tr>\n",
       "  </thead>\n",
       "  <tbody>\n",
       "    <tr>\n",
       "      <th>0</th>\n",
       "      <td>лето</td>\n",
       "      <td>0</td>\n",
       "      <td>21404</td>\n",
       "      <td>0.179683</td>\n",
       "    </tr>\n",
       "    <tr>\n",
       "      <th>1</th>\n",
       "      <td>лето</td>\n",
       "      <td>6</td>\n",
       "      <td>21673</td>\n",
       "      <td>0.181941</td>\n",
       "    </tr>\n",
       "    <tr>\n",
       "      <th>2</th>\n",
       "      <td>лето</td>\n",
       "      <td>12</td>\n",
       "      <td>24464</td>\n",
       "      <td>0.205371</td>\n",
       "    </tr>\n",
       "    <tr>\n",
       "      <th>3</th>\n",
       "      <td>лето</td>\n",
       "      <td>16</td>\n",
       "      <td>33756</td>\n",
       "      <td>0.283376</td>\n",
       "    </tr>\n",
       "    <tr>\n",
       "      <th>4</th>\n",
       "      <td>лето</td>\n",
       "      <td>18</td>\n",
       "      <td>17824</td>\n",
       "      <td>0.149629</td>\n",
       "    </tr>\n",
       "    <tr>\n",
       "      <th>5</th>\n",
       "      <td>осень</td>\n",
       "      <td>0</td>\n",
       "      <td>39828</td>\n",
       "      <td>0.236184</td>\n",
       "    </tr>\n",
       "    <tr>\n",
       "      <th>6</th>\n",
       "      <td>осень</td>\n",
       "      <td>6</td>\n",
       "      <td>29720</td>\n",
       "      <td>0.176243</td>\n",
       "    </tr>\n",
       "    <tr>\n",
       "      <th>7</th>\n",
       "      <td>осень</td>\n",
       "      <td>12</td>\n",
       "      <td>37263</td>\n",
       "      <td>0.220974</td>\n",
       "    </tr>\n",
       "    <tr>\n",
       "      <th>8</th>\n",
       "      <td>осень</td>\n",
       "      <td>16</td>\n",
       "      <td>44217</td>\n",
       "      <td>0.262212</td>\n",
       "    </tr>\n",
       "    <tr>\n",
       "      <th>9</th>\n",
       "      <td>осень</td>\n",
       "      <td>18</td>\n",
       "      <td>17603</td>\n",
       "      <td>0.104388</td>\n",
       "    </tr>\n",
       "  </tbody>\n",
       "</table>\n",
       "</div>"
      ],
      "text/plain": [
       "  season  age_limit  count     share\n",
       "0   лето          0  21404  0.179683\n",
       "1   лето          6  21673  0.181941\n",
       "2   лето         12  24464  0.205371\n",
       "3   лето         16  33756  0.283376\n",
       "4   лето         18  17824  0.149629\n",
       "5  осень          0  39828  0.236184\n",
       "6  осень          6  29720  0.176243\n",
       "7  осень         12  37263  0.220974\n",
       "8  осень         16  44217  0.262212\n",
       "9  осень         18  17603  0.104388"
      ]
     },
     "metadata": {},
     "output_type": "display_data"
    }
   ],
   "source": [
    "display(event_type_share)\n",
    "display(device_type_share)\n",
    "display(age_limit_share)"
   ]
  },
  {
   "cell_type": "code",
   "execution_count": 51,
   "id": "320d8263-2422-4bc9-af4f-eb580f93ad74",
   "metadata": {},
   "outputs": [
    {
     "data": {
      "image/png": "[encoded data removed]",
      "text/plain": [
       "<Figure size 800x400 with 1 Axes>"
      ]
     },
     "metadata": {},
     "output_type": "display_data"
    },
    {
     "data": {
      "image/png": "[encoded data removed]",
      "text/plain": [
       "<Figure size 800x400 with 1 Axes>"
      ]
     },
     "metadata": {},
     "output_type": "display_data"
    },
    {
     "data": {
      "image/png": "[encoded data removed]",
      "text/plain": [
       "<Figure size 800x400 with 1 Axes>"
      ]
     },
     "metadata": {},
     "output_type": "display_data"
    }
   ],
   "source": [
    "def plot_share(df, category_col, title):\n",
    "    plt.figure(figsize=(8, 4))\n",
    "    sns.barplot(data=df, x=category_col, y='share', hue='season')\n",
    "    plt.title(title)\n",
    "    plt.ylabel('Доля заказов')\n",
    "    plt.xticks(rotation=45)\n",
    "    plt.tight_layout()\n",
    "    plt.show()\n",
    "\n",
    "plot_share(event_type_share, 'event_type_main', 'Распределение заказов по типам мероприятий (лето vs осень)')\n",
    "plot_share(device_type_share, 'device_type_canonical', 'Распределение заказов по типу устройства (лето vs осень)')\n",
    "plot_share(age_limit_share, 'age_limit', 'Распределение заказов по возрастному рейтингу (лето vs осень)')"
   ]
  },
  {
   "cell_type": "markdown",
   "id": "68c54f90-990e-4da1-b79b-2ae8b6818ac0",
   "metadata": {},
   "source": [
    "- В распределении заказов по типам мероприятий мы видим, что люди ходят на концерты чаще летом (40%), чем осенью (35%), также на следап и выставки. Однако в театр или на спорт покупатели предпочитают ходить осенью больше, чем летом. Осенью в театр ходят на 5% больше людей, чем летом;\n",
    "- В распределении заказов по типу устройства почти незаметна разница между летом и осенью (около 2%), однако есть небольшие различия: клиенты, покупают билеты через компьютер, больше покупают осенью, а клиенты, покупающие билеты через телефон - летом. Это может говорить о том, что молодое поколение (пользующееся больше телефонами), активнее покупают билеты летом;\n",
    "- В распределении заказов по типу устройства возрастному рейтингу больше всего билетов преобретают летом в рейтинге 16+ (28%), в остальных рейтингах покупки билетов летом относительно стабильны - около 25%. Осенью большиство билетов покупают с рейтингом 0+ и 12+."
   ]
  },
  {
   "cell_type": "markdown",
   "id": "e4440706-5efc-4246-a514-835b75f1e8c8",
   "metadata": {},
   "source": [
    "#### 3.1.6 Изучение изменения выручки с продажи одного билета в зависимости от типа мероприятия летом и осенью\n",
    "Считаем по столбцу `one_ticket_revenue_rub`"
   ]
  },
  {
   "cell_type": "code",
   "execution_count": 52,
   "id": "7f8abdd8-9f4e-494f-bce5-ca73ae579e32",
   "metadata": {},
   "outputs": [],
   "source": [
    "# Отфильтруем лето и осень\n",
    "df_season = merged_df[merged_df['season'].isin(['лето', 'осень'])]"
   ]
  },
  {
   "cell_type": "code",
   "execution_count": 53,
   "id": "c071ba2b-afc9-4d6d-936b-a4b93fc98bee",
   "metadata": {},
   "outputs": [],
   "source": [
    "# Посчитаем среднюю выручку с одного билета по типу мероприятия и сезону\n",
    "# Группируем по сезону и типу мероприятия\n",
    "agg_df = (\n",
    "    df_season\n",
    "    .groupby(['season', 'event_type_main'])\n",
    "    .agg({'one_ticket_revenue_rub': 'mean'})\n",
    "    .reset_index()\n",
    ")"
   ]
  },
  {
   "cell_type": "code",
   "execution_count": 54,
   "id": "eecdbe12-3a86-4cc4-b518-6882e6089f99",
   "metadata": {},
   "outputs": [],
   "source": [
    "# Сделаем сводную табличку\n",
    "pivot_df = agg_df.pivot(index='event_type_main', columns='season', values='one_ticket_revenue_rub').reset_index()"
   ]
  },
  {
   "cell_type": "code",
   "execution_count": 55,
   "id": "06c498b7-babc-4eb6-95b2-cb2af4dba153",
   "metadata": {},
   "outputs": [],
   "source": [
    "# Посчитаем относительное изменение \n",
    "pivot_df['relative_change_%'] = ((pivot_df['осень'] - pivot_df['лето']) / pivot_df['лето']) * 100"
   ]
  },
  {
   "cell_type": "code",
   "execution_count": 56,
   "id": "7769aa6d-ece6-40d1-88cc-f3692255dca3",
   "metadata": {},
   "outputs": [
    {
     "data": {
      "text/html": [
       "<div>\n",
       "<style scoped>\n",
       "    .dataframe tbody tr th:only-of-type {\n",
       "        vertical-align: middle;\n",
       "    }\n",
       "\n",
       "    .dataframe tbody tr th {\n",
       "        vertical-align: top;\n",
       "    }\n",
       "\n",
       "    .dataframe thead th {\n",
       "        text-align: right;\n",
       "    }\n",
       "</style>\n",
       "<table border=\"1\" class=\"dataframe\">\n",
       "  <thead>\n",
       "    <tr style=\"text-align: right;\">\n",
       "      <th>season</th>\n",
       "      <th>event_type_main</th>\n",
       "      <th>лето</th>\n",
       "      <th>осень</th>\n",
       "      <th>relative_change_%</th>\n",
       "    </tr>\n",
       "  </thead>\n",
       "  <tbody>\n",
       "    <tr>\n",
       "      <th>0</th>\n",
       "      <td>выставки</td>\n",
       "      <td>86.416197</td>\n",
       "      <td>90.603609</td>\n",
       "      <td>4.845633</td>\n",
       "    </tr>\n",
       "    <tr>\n",
       "      <th>1</th>\n",
       "      <td>другое</td>\n",
       "      <td>77.433968</td>\n",
       "      <td>76.115333</td>\n",
       "      <td>-1.702914</td>\n",
       "    </tr>\n",
       "    <tr>\n",
       "      <th>2</th>\n",
       "      <td>концерты</td>\n",
       "      <td>304.790309</td>\n",
       "      <td>268.358737</td>\n",
       "      <td>-11.952995</td>\n",
       "    </tr>\n",
       "    <tr>\n",
       "      <th>3</th>\n",
       "      <td>спорт</td>\n",
       "      <td>50.761831</td>\n",
       "      <td>49.969733</td>\n",
       "      <td>-1.560421</td>\n",
       "    </tr>\n",
       "    <tr>\n",
       "      <th>4</th>\n",
       "      <td>стендап</td>\n",
       "      <td>218.518107</td>\n",
       "      <td>231.124973</td>\n",
       "      <td>5.769255</td>\n",
       "    </tr>\n",
       "    <tr>\n",
       "      <th>5</th>\n",
       "      <td>театр</td>\n",
       "      <td>214.138855</td>\n",
       "      <td>175.969508</td>\n",
       "      <td>-17.824578</td>\n",
       "    </tr>\n",
       "    <tr>\n",
       "      <th>6</th>\n",
       "      <td>ёлки</td>\n",
       "      <td>271.436177</td>\n",
       "      <td>229.585590</td>\n",
       "      <td>-15.418205</td>\n",
       "    </tr>\n",
       "  </tbody>\n",
       "</table>\n",
       "</div>"
      ],
      "text/plain": [
       "season event_type_main        лето       осень  relative_change_%\n",
       "0             выставки   86.416197   90.603609           4.845633\n",
       "1               другое   77.433968   76.115333          -1.702914\n",
       "2             концерты  304.790309  268.358737         -11.952995\n",
       "3                спорт   50.761831   49.969733          -1.560421\n",
       "4              стендап  218.518107  231.124973           5.769255\n",
       "5                театр  214.138855  175.969508         -17.824578\n",
       "6                 ёлки  271.436177  229.585590         -15.418205"
      ]
     },
     "metadata": {},
     "output_type": "display_data"
    }
   ],
   "source": [
    "display(pivot_df)"
   ]
  },
  {
   "cell_type": "code",
   "execution_count": 57,
   "id": "7e3454ea-d995-43a8-baee-d5aee7936dde",
   "metadata": {},
   "outputs": [
    {
     "data": {
      "image/png": "[encoded data removed]",
      "text/plain": [
       "<Figure size 800x400 with 1 Axes>"
      ]
     },
     "metadata": {},
     "output_type": "display_data"
    }
   ],
   "source": [
    "# Упорядочим по убыванию изменения\n",
    "pivot_df = pivot_df.sort_values('relative_change_%', ascending=False)\n",
    "\n",
    "plt.figure(figsize=(8, 4))\n",
    "sns.barplot(data=pivot_df, x='relative_change_%', y='event_type_main')\n",
    "plt.title('Изменение средней выручки за билет (осень vs лето), %')\n",
    "plt.xlabel('Изменение, %')\n",
    "plt.ylabel('Тип мероприятия')\n",
    "plt.axvline(0, color='gray', linestyle='--')  # линия нуля\n",
    "plt.tight_layout()\n",
    "plt.show()"
   ]
  },
  {
   "cell_type": "markdown",
   "id": "e349048d-3d6d-4062-b5a5-ab8b3db440ed",
   "metadata": {},
   "source": [
    "На графике можно хорошо заметить, что осенью продажи билетов в театр упали на 17% относительно этих же продаж летом. Также упали продажи на ёлки (15%), концерты (10%), спорт (4%). Однако осенью увеличились продажи билетов на стендап (10%) и выставки (5%)"
   ]
  },
  {
   "cell_type": "code",
   "execution_count": 58,
   "id": "4232d22f-91dd-49be-aa4a-8d7150aa0ea6",
   "metadata": {},
   "outputs": [
    {
     "data": {
      "image/png": "[encoded data removed]",
      "text/plain": [
       "<Figure size 800x400 with 1 Axes>"
      ]
     },
     "metadata": {},
     "output_type": "display_data"
    }
   ],
   "source": [
    "plt.figure(figsize=(8, 4))\n",
    "sns.barplot(\n",
    "    data=agg_df,\n",
    "    x='event_type_main',\n",
    "    y='one_ticket_revenue_rub',\n",
    "    hue='season',\n",
    "    palette='Set2'\n",
    ")\n",
    "\n",
    "plt.title('Средняя выручка с одного билета по типам мероприятий (лето vs осень)')\n",
    "plt.xlabel('Тип мероприятия')\n",
    "plt.ylabel('Средняя выручка за билет')\n",
    "plt.xticks(rotation=45)\n",
    "plt.tight_layout()\n",
    "plt.show()"
   ]
  },
  {
   "cell_type": "markdown",
   "id": "aab3689d-7005-4fe6-b690-1eb967e3c846",
   "metadata": {},
   "source": [
    "Средняя выручка с билетов на концерты выше летом (300), чем осенью(270), на ёлки тоже - летом 270, осенью 235. На остальные мероприятия сообтношение относительно одинаковое, но средняя выручка с билетов на стендап осенью больше, чем летом, а в театр наоборот - летом чуть больше, чем осенью. Выставки и спорт показывают почти одинаковый показатель в оба времени года"
   ]
  },
  {
   "cell_type": "markdown",
   "id": "248b0a99-fb68-4406-ac4a-768dc406e3d7",
   "metadata": {},
   "source": [
    "#### Промежуточный вывод\n",
    "- Общая сезонная динамика заказов: С июня по ноябрь общее количество заказов выросло почти в 3 раза: с 34 504 до 100 210 заказов. Особенно активный рост начинается с августа, достигая пика в ноябре.\n",
    "- Изменения по типам мероприятий (event_type_main):\n",
    "    - Концерты остаются лидером по количеству заказов, но их доля снижается с 40% летом до 35% осенью. При этом средняя стоимость билета снижается на 10% — с 300₽ летом до 270₽ осенью.\n",
    "    - Театр показывает снижение количества заказов осенью на 17%, а также снижение средней цены билета на 16%.\n",
    "    - Спорт демонстрирует небольшой спад — около 4% по объему заказов и практически стабильную среднюю цену билета.\n",
    "    - Стендап наоборот, осенью увеличивает как количество заказов, так и среднюю выручку на билет — примерно на 10%.\n",
    "    - Выставки сохраняют стабильные показатели по заказам и средней стоимости билетов в оба сезона.\n",
    "    - Ёлки теряют популярность и в количестве заказов, и в средней цене билета — снижение примерно на 15–17%.\n",
    "- Изменения по типу устройства (device_type_canonical): Пользователи чаще оформляют заказы через телефон, чем через компьютер. Доля заказов с телефона остаётся высокой в обоих сезонах, но летом немного выше. Осенью заметнее рост заказов с компьютеров, что может отражать поведение старшей аудитории или корпоративные покупки.\n",
    "- Изменения по возрастному рейтингу (age_limit): Лидирует категория 16+, особенно летом. Осенью увеличивается доля заказов с возрастным рейтингом 0+ и 12+ — это может быть связано с началом учебного года и семейными мероприятиями. Категория 0+ обгоняет 12+ с сентября по октябрь, особенно в осенние месяцы.\n",
    "\n",
    "Таким образом, сезонность заметно влияет как на активность пользователей, так и на структуру спроса по категориям мероприятий.\n",
    "Осенью покупатели меняют поведение: увеличивается интерес к театру, спорту и детским мероприятиям."
   ]
  },
  {
   "cell_type": "markdown",
   "id": "ad471618-d489-4aa1-89b4-4bfc1da6c8c9",
   "metadata": {},
   "source": [
    "### 3.2 Осенняя активность пользователей\n",
    "- Будем анализировать данные за Сентябрь и Октябрь\n",
    "- Проанализируем динамику изменений по дням\n",
    "- Изучим недельную цикличность"
   ]
  },
  {
   "cell_type": "markdown",
   "id": "eaf441ae-919d-4516-b7be-b8888e9d17e8",
   "metadata": {},
   "source": [
    "#### 3.2.1 Анализ динамики изменений по дням\n",
    "Создадим сводную таблицу и сделаем линейный график по ее результатам"
   ]
  },
  {
   "cell_type": "code",
   "execution_count": 59,
   "id": "1c51b796-6e7b-477f-83a7-7f81988c6ba9",
   "metadata": {},
   "outputs": [],
   "source": [
    "# Фильтруем сентябрь и октябрь 2024\n",
    "fall_df = merged_df[\n",
    "    (merged_df['created_dt_msk'].dt.year == 2024) &\n",
    "    (merged_df['created_dt_msk'].dt.month.isin([9, 10]))\n",
    "]"
   ]
  },
  {
   "cell_type": "code",
   "execution_count": 60,
   "id": "7233ea15-ffc5-4fd3-8fe8-774db10f395c",
   "metadata": {},
   "outputs": [],
   "source": [
    "# Группировка по дате\n",
    "daily_metrics = fall_df.groupby(fall_df['created_dt_msk'].dt.date).agg(\n",
    "    orders=('user_id', 'count'),\n",
    "    dau=('user_id', 'nunique'),\n",
    "    avg_ticket_price=('one_ticket_revenue_rub', 'mean')\n",
    ").reset_index()"
   ]
  },
  {
   "cell_type": "code",
   "execution_count": 61,
   "id": "cf05a84c-d9b0-43ec-9eec-aff87f814c54",
   "metadata": {},
   "outputs": [],
   "source": [
    "# Вычисляем производные показатели\n",
    "daily_metrics['avg_orders_per_user'] = daily_metrics['orders'] / daily_metrics['dau']\n",
    "daily_metrics = daily_metrics.rename(columns={'created_dt_msk': 'date'})"
   ]
  },
  {
   "cell_type": "code",
   "execution_count": 62,
   "id": "abf18ce5-abff-433e-a332-d16cdddcac97",
   "metadata": {},
   "outputs": [
    {
     "data": {
      "text/html": [
       "<div>\n",
       "<style scoped>\n",
       "    .dataframe tbody tr th:only-of-type {\n",
       "        vertical-align: middle;\n",
       "    }\n",
       "\n",
       "    .dataframe tbody tr th {\n",
       "        vertical-align: top;\n",
       "    }\n",
       "\n",
       "    .dataframe thead th {\n",
       "        text-align: right;\n",
       "    }\n",
       "</style>\n",
       "<table border=\"1\" class=\"dataframe\">\n",
       "  <thead>\n",
       "    <tr style=\"text-align: right;\">\n",
       "      <th></th>\n",
       "      <th>date</th>\n",
       "      <th>orders</th>\n",
       "      <th>dau</th>\n",
       "      <th>avg_ticket_price</th>\n",
       "      <th>avg_orders_per_user</th>\n",
       "    </tr>\n",
       "  </thead>\n",
       "  <tbody>\n",
       "    <tr>\n",
       "      <th>0</th>\n",
       "      <td>2024-09-01</td>\n",
       "      <td>1327</td>\n",
       "      <td>564</td>\n",
       "      <td>200.168708</td>\n",
       "      <td>2.352837</td>\n",
       "    </tr>\n",
       "    <tr>\n",
       "      <th>1</th>\n",
       "      <td>2024-09-02</td>\n",
       "      <td>1380</td>\n",
       "      <td>574</td>\n",
       "      <td>189.464640</td>\n",
       "      <td>2.404181</td>\n",
       "    </tr>\n",
       "    <tr>\n",
       "      <th>2</th>\n",
       "      <td>2024-09-03</td>\n",
       "      <td>5113</td>\n",
       "      <td>778</td>\n",
       "      <td>80.350151</td>\n",
       "      <td>6.571979</td>\n",
       "    </tr>\n",
       "    <tr>\n",
       "      <th>3</th>\n",
       "      <td>2024-09-04</td>\n",
       "      <td>1773</td>\n",
       "      <td>686</td>\n",
       "      <td>178.048069</td>\n",
       "      <td>2.584548</td>\n",
       "    </tr>\n",
       "    <tr>\n",
       "      <th>4</th>\n",
       "      <td>2024-09-05</td>\n",
       "      <td>1944</td>\n",
       "      <td>739</td>\n",
       "      <td>189.510156</td>\n",
       "      <td>2.630582</td>\n",
       "    </tr>\n",
       "  </tbody>\n",
       "</table>\n",
       "</div>"
      ],
      "text/plain": [
       "         date  orders  dau  avg_ticket_price  avg_orders_per_user\n",
       "0  2024-09-01    1327  564        200.168708             2.352837\n",
       "1  2024-09-02    1380  574        189.464640             2.404181\n",
       "2  2024-09-03    5113  778         80.350151             6.571979\n",
       "3  2024-09-04    1773  686        178.048069             2.584548\n",
       "4  2024-09-05    1944  739        189.510156             2.630582"
      ]
     },
     "execution_count": 62,
     "metadata": {},
     "output_type": "execute_result"
    }
   ],
   "source": [
    "daily_metrics.head()"
   ]
  },
  {
   "cell_type": "code",
   "execution_count": 63,
   "id": "ab144be0-4856-4c0e-b476-9ac6275a8434",
   "metadata": {},
   "outputs": [
    {
     "data": {
      "image/png": "[encoded data removed]",
      "text/plain": [
       "<Figure size 1600x1000 with 4 Axes>"
      ]
     },
     "metadata": {},
     "output_type": "display_data"
    }
   ],
   "source": [
    "plt.figure(figsize=(16, 10))\n",
    "\n",
    "# 1. Кол-во заказов\n",
    "plt.subplot(2, 2, 1)\n",
    "sns.lineplot(data=daily_metrics, x='date', y='orders', marker='o')\n",
    "plt.title('Общее число заказов по дням')\n",
    "plt.xticks(rotation=45)\n",
    "\n",
    "# 2. DAU\n",
    "plt.subplot(2, 2, 2)\n",
    "sns.lineplot(data=daily_metrics, x='date', y='dau', marker='o', color='orange')\n",
    "plt.title('DAU — активные пользователи по дням')\n",
    "plt.xticks(rotation=45)\n",
    "\n",
    "# 3. Среднее число заказов на пользователя\n",
    "plt.subplot(2, 2, 3)\n",
    "sns.lineplot(data=daily_metrics, x='date', y='avg_orders_per_user', marker='o', color='green')\n",
    "plt.title('Среднее число заказов на одного пользователя')\n",
    "plt.xticks(rotation=45)\n",
    "\n",
    "# 4. Средняя стоимость билета\n",
    "plt.subplot(2, 2, 4)\n",
    "sns.lineplot(data=daily_metrics, x='date', y='avg_ticket_price', marker='o', color='red')\n",
    "plt.title('Средняя стоимость одного билета')\n",
    "plt.xticks(rotation=45)\n",
    "\n",
    "plt.tight_layout()\n",
    "plt.show()"
   ]
  },
  {
   "cell_type": "markdown",
   "id": "5e882d45-a08f-4ab8-9216-e08c401732ef",
   "metadata": {},
   "source": [
    "Сильно выделяются 1 Сентября и 1 Октября - скорее всего в начале месяца были скидки на билетв, поэтому средння стоимость упала вниз, а общее число заказов и среднее на одного пользователя сильно поднялись вверх в эти дни. Также можно заметить, что число активных пользователей увеличивается за 3-5 дней, а затем резко падает. Это может быть связано с большой покупкой билетов в выходные дни и снижением спроса в будние дни, проверим это:"
   ]
  },
  {
   "cell_type": "markdown",
   "id": "e7329c3b-9fc0-4720-80d5-ad7c4f572846",
   "metadata": {},
   "source": [
    "#### 3.2.2 Анализ недельной цикличности\n",
    "Выделим день недели и сравним пользовательскую активность в будни и выходные."
   ]
  },
  {
   "cell_type": "code",
   "execution_count": 64,
   "id": "8298bac2-41c9-4dca-b354-233886c4894d",
   "metadata": {},
   "outputs": [
    {
     "name": "stderr",
     "output_type": "stream",
     "text": [
      "/var/folders/ln/5hrdkhmx4nbgh8sd99qbvx0m0000gn/T/ipykernel_2955/2358773572.py:2: SettingWithCopyWarning: \n",
      "A value is trying to be set on a copy of a slice from a DataFrame.\n",
      "Try using .loc[row_indexer,col_indexer] = value instead\n",
      "\n",
      "See the caveats in the documentation: https://pandas.pydata.org/pandas-docs/stable/user_guide/indexing.html#returning-a-view-versus-a-copy\n",
      "  fall_df['weekday'] = fall_df['created_dt_msk'].dt.weekday\n",
      "/var/folders/ln/5hrdkhmx4nbgh8sd99qbvx0m0000gn/T/ipykernel_2955/2358773572.py:3: SettingWithCopyWarning: \n",
      "A value is trying to be set on a copy of a slice from a DataFrame.\n",
      "Try using .loc[row_indexer,col_indexer] = value instead\n",
      "\n",
      "See the caveats in the documentation: https://pandas.pydata.org/pandas-docs/stable/user_guide/indexing.html#returning-a-view-versus-a-copy\n",
      "  fall_df['weekday_name'] = fall_df['created_dt_msk'].dt.day_name()\n",
      "/var/folders/ln/5hrdkhmx4nbgh8sd99qbvx0m0000gn/T/ipykernel_2955/2358773572.py:6: SettingWithCopyWarning: \n",
      "A value is trying to be set on a copy of a slice from a DataFrame.\n",
      "Try using .loc[row_indexer,col_indexer] = value instead\n",
      "\n",
      "See the caveats in the documentation: https://pandas.pydata.org/pandas-docs/stable/user_guide/indexing.html#returning-a-view-versus-a-copy\n",
      "  fall_df['day_type'] = fall_df['weekday'].apply(lambda x: 'weekend' if x >= 5 else 'weekday')\n"
     ]
    }
   ],
   "source": [
    "# Добавим столбец с днем недели (0 — понедельник, 6 — воскресенье)\n",
    "fall_df['weekday'] = fall_df['created_dt_msk'].dt.weekday\n",
    "fall_df['weekday_name'] = fall_df['created_dt_msk'].dt.day_name()\n",
    "\n",
    "# Добавим категорию: будни или выходные\n",
    "fall_df['day_type'] = fall_df['weekday'].apply(lambda x: 'weekend' if x >= 5 else 'weekday')"
   ]
  },
  {
   "cell_type": "code",
   "execution_count": 65,
   "id": "da5656ed-c8f7-46a9-9904-c07497d33147",
   "metadata": {},
   "outputs": [
    {
     "name": "stdout",
     "output_type": "stream",
     "text": [
      "weekday_name\n",
      "Monday       21515\n",
      "Tuesday      31490\n",
      "Wednesday    22891\n",
      "Thursday     27167\n",
      "Friday       24835\n",
      "Saturday     21342\n",
      "Sunday       19391\n",
      "Name: order_id, dtype: int64\n"
     ]
    }
   ],
   "source": [
    "orders_by_weekday = (\n",
    "    fall_df.groupby('weekday_name')['order_id']\n",
    "    .nunique()\n",
    "    .reindex(['Monday', 'Tuesday', 'Wednesday', 'Thursday', 'Friday', 'Saturday', 'Sunday'])  # для порядка\n",
    ")\n",
    "\n",
    "print(orders_by_weekday)"
   ]
  },
  {
   "cell_type": "code",
   "execution_count": 66,
   "id": "4b9d1a28-f8ff-45a6-bb4e-07f38bf49570",
   "metadata": {},
   "outputs": [
    {
     "name": "stderr",
     "output_type": "stream",
     "text": [
      "/var/folders/ln/5hrdkhmx4nbgh8sd99qbvx0m0000gn/T/ipykernel_2955/1285022018.py:3: FutureWarning: \n",
      "\n",
      "Passing `palette` without assigning `hue` is deprecated and will be removed in v0.14.0. Assign the `x` variable to `hue` and set `legend=False` for the same effect.\n",
      "\n",
      "  sns.barplot(x=orders_by_weekday.index, y=orders_by_weekday.values, palette=\"Set2\")\n"
     ]
    },
    {
     "data": {
      "image/png": "[encoded data removed]",
      "text/plain": [
       "<Figure size 800x400 with 1 Axes>"
      ]
     },
     "metadata": {},
     "output_type": "display_data"
    }
   ],
   "source": [
    "sns.set(style=\"whitegrid\")\n",
    "plt.figure(figsize=(8, 4))\n",
    "sns.barplot(x=orders_by_weekday.index, y=orders_by_weekday.values, palette=\"Set2\")\n",
    "plt.title('Число уникальных заказов по дням недели (осень 2024)')\n",
    "plt.ylabel('Количество заказов')\n",
    "plt.xlabel('День недели')\n",
    "plt.xticks(rotation=45)\n",
    "plt.tight_layout()\n",
    "plt.show()"
   ]
  },
  {
   "cell_type": "markdown",
   "id": "a510d84b-fc1c-47d1-a073-1ad0de20fa6d",
   "metadata": {},
   "source": [
    "Пользователи делают больше заказов билетов во вторник (32тыс), потом идут четверг и пятница (около 27тыс). В выходные, как оказалось, пользовательская активность самая маленькая, как и по понедельникам (примерно 20тыс заказов). Сравним отдельные параменты по будним дням и вызодным:"
   ]
  },
  {
   "cell_type": "code",
   "execution_count": 67,
   "id": "92274efc-4942-418a-bc88-846ac5f5f159",
   "metadata": {},
   "outputs": [
    {
     "name": "stdout",
     "output_type": "stream",
     "text": [
      "day_type\n",
      "weekday    127898\n",
      "weekend     40733\n",
      "Name: order_id, dtype: int64\n"
     ]
    }
   ],
   "source": [
    "# Количество заказов\n",
    "orders_by_day_type = fall_df.groupby('day_type')['order_id'].nunique()\n",
    "print(orders_by_day_type)"
   ]
  },
  {
   "cell_type": "code",
   "execution_count": 68,
   "id": "d1de2f86-aff3-41f9-886f-db6a3cbe5e37",
   "metadata": {},
   "outputs": [
    {
     "name": "stdout",
     "output_type": "stream",
     "text": [
      "day_type\n",
      "weekday    172.754279\n",
      "weekend    195.011063\n",
      "Name: one_ticket_revenue_rub, dtype: float64\n"
     ]
    }
   ],
   "source": [
    "# Средняя выручка на одного пользователя\n",
    "avg_revenue_by_day_type = fall_df.groupby('day_type')['one_ticket_revenue_rub'].mean()\n",
    "print(avg_revenue_by_day_type)"
   ]
  },
  {
   "cell_type": "code",
   "execution_count": 69,
   "id": "50a199c5-c165-4d9f-99b4-65f94e744442",
   "metadata": {},
   "outputs": [
    {
     "name": "stdout",
     "output_type": "stream",
     "text": [
      "day_type\n",
      "weekday    13217\n",
      "weekend     7167\n",
      "Name: user_id, dtype: int64\n"
     ]
    }
   ],
   "source": [
    "# Количество уникальных пользователей\n",
    "users_by_day_type = fall_df.groupby('day_type')['user_id'].nunique()\n",
    "print(users_by_day_type)"
   ]
  },
  {
   "cell_type": "markdown",
   "id": "694989a2-c874-4d3a-b879-c466a39d6ef7",
   "metadata": {},
   "source": [
    "#### Промежуточный вывод\n",
    "- В выходные количетво заказов меньше, чем в будни\n",
    "- Больше всего заказов приходится на Четверг (около 32тыс)\n",
    "- Средняя выручка на одного пользователя в выходные больше, чем в будни (204руб vs 183руб)\n",
    "- Пользователи более активны в будние дни\n",
    "\n",
    "Несмотря на то что активность полльзователей и число заказов больше в будние дни, средний чек на пользователя больше в выходные дни. Также стоит отметить, что за 2 месяца осени количество активных пользователей увеличивается с каждым днем, число заказов тоже идет вверх, стоимость одного билета относительно стабильна, иногда сильно падает вниз"
   ]
  },
  {
   "cell_type": "markdown",
   "id": "2d38932b-58d7-45c5-9540-184f8b767cf5",
   "metadata": {},
   "source": [
    "### 3.3 Популярные события и партнёры\n",
    "- Для каждого региона посчитаем уникальное количество мероприятий и общее число заказов\n",
    "- Для каждого билетного партнёра посчитаем общее число уникальных мероприятий, обработанных заказов и суммарную выручку с заказов билетов"
   ]
  },
  {
   "cell_type": "markdown",
   "id": "75533291-9b51-4916-b4e5-6bdc3ae677df",
   "metadata": {},
   "source": [
    "#### 3.3.1 Уникальное количество мероприятий и общее число заказов для каждого региона"
   ]
  },
  {
   "cell_type": "code",
   "execution_count": 70,
   "id": "c2d0c2ee-8d8a-4375-ab95-3fce2d1d68ea",
   "metadata": {},
   "outputs": [],
   "source": [
    "# Группировка по региону: число мероприятий и заказов\n",
    "region_stats = (\n",
    "    fall_df\n",
    "    .groupby('region_name')\n",
    "    .agg(\n",
    "        unique_events=('event_id', 'nunique'),\n",
    "        total_orders=('order_id', 'nunique')\n",
    "    )\n",
    "    .reset_index()\n",
    ")"
   ]
  },
  {
   "cell_type": "code",
   "execution_count": 71,
   "id": "432eed4d-b046-49e3-8c9c-868bc53c93fc",
   "metadata": {},
   "outputs": [],
   "source": [
    "# Общие суммы по всем регионам\n",
    "total_events_all = fall_df['event_id'].nunique()\n",
    "total_orders_all = fall_df['order_id'].nunique()"
   ]
  },
  {
   "cell_type": "code",
   "execution_count": 72,
   "id": "68bbc363-37c4-4143-b97c-afe8b6ee14f9",
   "metadata": {},
   "outputs": [],
   "source": [
    "# Доли\n",
    "region_stats['event_share_%'] = (region_stats['unique_events'] / total_events_all * 100).round(2)\n",
    "region_stats['order_share_%'] = (region_stats['total_orders'] / total_orders_all * 100).round(2)"
   ]
  },
  {
   "cell_type": "code",
   "execution_count": 73,
   "id": "0f08dc0b-8370-42ca-85b3-ec3bb41d96fd",
   "metadata": {},
   "outputs": [],
   "source": [
    "# Сортировка по количеству уникальных мероприятий\n",
    "region_stats = region_stats.sort_values('unique_events', ascending=False)"
   ]
  },
  {
   "cell_type": "code",
   "execution_count": 74,
   "id": "d6373edc-b57f-4741-a2b3-3a45bf8c37c9",
   "metadata": {},
   "outputs": [
    {
     "data": {
      "text/html": [
       "<div>\n",
       "<style scoped>\n",
       "    .dataframe tbody tr th:only-of-type {\n",
       "        vertical-align: middle;\n",
       "    }\n",
       "\n",
       "    .dataframe tbody tr th {\n",
       "        vertical-align: top;\n",
       "    }\n",
       "\n",
       "    .dataframe thead th {\n",
       "        text-align: right;\n",
       "    }\n",
       "</style>\n",
       "<table border=\"1\" class=\"dataframe\">\n",
       "  <thead>\n",
       "    <tr style=\"text-align: right;\">\n",
       "      <th></th>\n",
       "      <th>region_name</th>\n",
       "      <th>unique_events</th>\n",
       "      <th>total_orders</th>\n",
       "      <th>event_share_%</th>\n",
       "      <th>order_share_%</th>\n",
       "    </tr>\n",
       "  </thead>\n",
       "  <tbody>\n",
       "    <tr>\n",
       "      <th>23</th>\n",
       "      <td>Каменевский регион</td>\n",
       "      <td>3910</td>\n",
       "      <td>46684</td>\n",
       "      <td>24.63</td>\n",
       "      <td>27.68</td>\n",
       "    </tr>\n",
       "    <tr>\n",
       "      <th>59</th>\n",
       "      <td>Североярская область</td>\n",
       "      <td>2613</td>\n",
       "      <td>20718</td>\n",
       "      <td>16.46</td>\n",
       "      <td>12.29</td>\n",
       "    </tr>\n",
       "    <tr>\n",
       "      <th>75</th>\n",
       "      <td>Широковская область</td>\n",
       "      <td>803</td>\n",
       "      <td>8715</td>\n",
       "      <td>5.06</td>\n",
       "      <td>5.17</td>\n",
       "    </tr>\n",
       "    <tr>\n",
       "      <th>56</th>\n",
       "      <td>Светополянский округ</td>\n",
       "      <td>764</td>\n",
       "      <td>4779</td>\n",
       "      <td>4.81</td>\n",
       "      <td>2.83</td>\n",
       "    </tr>\n",
       "    <tr>\n",
       "      <th>51</th>\n",
       "      <td>Речиновская область</td>\n",
       "      <td>529</td>\n",
       "      <td>3565</td>\n",
       "      <td>3.33</td>\n",
       "      <td>2.11</td>\n",
       "    </tr>\n",
       "    <tr>\n",
       "      <th>60</th>\n",
       "      <td>Серебринская область</td>\n",
       "      <td>456</td>\n",
       "      <td>4467</td>\n",
       "      <td>2.87</td>\n",
       "      <td>2.65</td>\n",
       "    </tr>\n",
       "    <tr>\n",
       "      <th>76</th>\n",
       "      <td>Яблоневская область</td>\n",
       "      <td>432</td>\n",
       "      <td>4199</td>\n",
       "      <td>2.72</td>\n",
       "      <td>2.49</td>\n",
       "    </tr>\n",
       "    <tr>\n",
       "      <th>67</th>\n",
       "      <td>Тепляковская область</td>\n",
       "      <td>419</td>\n",
       "      <td>2485</td>\n",
       "      <td>2.64</td>\n",
       "      <td>1.47</td>\n",
       "    </tr>\n",
       "    <tr>\n",
       "      <th>11</th>\n",
       "      <td>Горицветская область</td>\n",
       "      <td>406</td>\n",
       "      <td>3230</td>\n",
       "      <td>2.56</td>\n",
       "      <td>1.92</td>\n",
       "    </tr>\n",
       "    <tr>\n",
       "      <th>63</th>\n",
       "      <td>Солнечноземская область</td>\n",
       "      <td>403</td>\n",
       "      <td>4228</td>\n",
       "      <td>2.54</td>\n",
       "      <td>2.51</td>\n",
       "    </tr>\n",
       "  </tbody>\n",
       "</table>\n",
       "</div>"
      ],
      "text/plain": [
       "                region_name  unique_events  total_orders  event_share_%  \\\n",
       "23       Каменевский регион           3910         46684          24.63   \n",
       "59     Североярская область           2613         20718          16.46   \n",
       "75      Широковская область            803          8715           5.06   \n",
       "56     Светополянский округ            764          4779           4.81   \n",
       "51      Речиновская область            529          3565           3.33   \n",
       "60     Серебринская область            456          4467           2.87   \n",
       "76      Яблоневская область            432          4199           2.72   \n",
       "67     Тепляковская область            419          2485           2.64   \n",
       "11     Горицветская область            406          3230           2.56   \n",
       "63  Солнечноземская область            403          4228           2.54   \n",
       "\n",
       "    order_share_%  \n",
       "23          27.68  \n",
       "59          12.29  \n",
       "75           5.17  \n",
       "56           2.83  \n",
       "51           2.11  \n",
       "60           2.65  \n",
       "76           2.49  \n",
       "67           1.47  \n",
       "11           1.92  \n",
       "63           2.51  "
      ]
     },
     "execution_count": 74,
     "metadata": {},
     "output_type": "execute_result"
    }
   ],
   "source": [
    "region_stats.head(10)"
   ]
  },
  {
   "cell_type": "markdown",
   "id": "245ea18c-b245-412d-aca3-7d654ea3b843",
   "metadata": {},
   "source": [
    "Наибольшее разнообразие мероприятий предлагается в Каменевском регионе (24,6%) и в Североярской области (16%). Также на эти регионы приходится большая доля заказов - 27% и 12% соотвественно"
   ]
  },
  {
   "cell_type": "markdown",
   "id": "82abd450-ed65-46e9-bb59-0ed53ed1bf07",
   "metadata": {},
   "source": [
    "#### 3.3.2 Число уникальных мероприятий, обработанных заказов и суммарную выручку с заказов билетов на каждого партнера"
   ]
  },
  {
   "cell_type": "code",
   "execution_count": 75,
   "id": "8308dc55-ed6e-437a-a6f9-681559df15e9",
   "metadata": {},
   "outputs": [],
   "source": [
    "# Группировка по партнёрам\n",
    "partners_df = (\n",
    "    fall_df\n",
    "    .groupby('service_name')\n",
    "    .agg(\n",
    "        unique_events=('event_id', 'nunique'),           # Сколько уникальных мероприятий\n",
    "        total_orders=('order_id', 'count'),              # Сколько заказов\n",
    "        total_revenue_rub=('revenue_rub', 'sum')         # Суммарная выручка\n",
    "    )\n",
    "    .reset_index()\n",
    ")"
   ]
  },
  {
   "cell_type": "code",
   "execution_count": 76,
   "id": "cb14a49e",
   "metadata": {},
   "outputs": [],
   "source": [
    "# Значение выручки приведем к обычной форме записи из экспоненциальной с помощью round\n",
    "partners_df['total_revenue_rub'] = partners_df['total_revenue_rub'].round(0)"
   ]
  },
  {
   "cell_type": "code",
   "execution_count": 77,
   "id": "4bdece52-1dc4-4983-90f2-b601a44507f1",
   "metadata": {},
   "outputs": [],
   "source": [
    "# Общие суммы по всем партнёрам\n",
    "total_events = partners_df['unique_events'].sum()\n",
    "total_orders = partners_df['total_orders'].sum()\n",
    "total_revenue = partners_df['total_revenue_rub'].sum()"
   ]
  },
  {
   "cell_type": "code",
   "execution_count": 78,
   "id": "b3ebea5b-e465-4b83-bf21-0794676fd98e",
   "metadata": {},
   "outputs": [],
   "source": [
    "# Доли\n",
    "partners_df['event_share_%'] = (partners_df['unique_events'] / total_events * 100).round(2)\n",
    "partners_df['order_share_%'] = (partners_df['total_orders'] / total_orders * 100).round(2)\n",
    "partners_df['revenue_share_%'] = (partners_df['total_revenue_rub'] / total_revenue * 100).round(2)"
   ]
  },
  {
   "cell_type": "code",
   "execution_count": 79,
   "id": "d56a154b-59ab-464f-9993-3936bf068bd1",
   "metadata": {},
   "outputs": [],
   "source": [
    "# Сортируем по событиям\n",
    "partners_df = partners_df.sort_values(by='unique_events', ascending=False)"
   ]
  },
  {
   "cell_type": "code",
   "execution_count": 80,
   "id": "4ec395ef-b1e9-407b-a182-c7e4099f3f5a",
   "metadata": {},
   "outputs": [
    {
     "data": {
      "text/html": [
       "<div>\n",
       "<style scoped>\n",
       "    .dataframe tbody tr th:only-of-type {\n",
       "        vertical-align: middle;\n",
       "    }\n",
       "\n",
       "    .dataframe tbody tr th {\n",
       "        vertical-align: top;\n",
       "    }\n",
       "\n",
       "    .dataframe thead th {\n",
       "        text-align: right;\n",
       "    }\n",
       "</style>\n",
       "<table border=\"1\" class=\"dataframe\">\n",
       "  <thead>\n",
       "    <tr style=\"text-align: right;\">\n",
       "      <th></th>\n",
       "      <th>service_name</th>\n",
       "      <th>unique_events</th>\n",
       "      <th>total_orders</th>\n",
       "      <th>total_revenue_rub</th>\n",
       "      <th>event_share_%</th>\n",
       "      <th>order_share_%</th>\n",
       "      <th>revenue_share_%</th>\n",
       "    </tr>\n",
       "  </thead>\n",
       "  <tbody>\n",
       "    <tr>\n",
       "      <th>21</th>\n",
       "      <td>Лови билет!</td>\n",
       "      <td>3616</td>\n",
       "      <td>25794</td>\n",
       "      <td>10381935.0</td>\n",
       "      <td>20.90</td>\n",
       "      <td>15.30</td>\n",
       "      <td>12.68</td>\n",
       "    </tr>\n",
       "    <tr>\n",
       "      <th>3</th>\n",
       "      <td>Билеты без проблем</td>\n",
       "      <td>2847</td>\n",
       "      <td>32405</td>\n",
       "      <td>12172563.0</td>\n",
       "      <td>16.46</td>\n",
       "      <td>19.22</td>\n",
       "      <td>14.86</td>\n",
       "    </tr>\n",
       "    <tr>\n",
       "      <th>5</th>\n",
       "      <td>Билеты в руки</td>\n",
       "      <td>2469</td>\n",
       "      <td>25728</td>\n",
       "      <td>7613383.0</td>\n",
       "      <td>14.27</td>\n",
       "      <td>15.26</td>\n",
       "      <td>9.30</td>\n",
       "    </tr>\n",
       "    <tr>\n",
       "      <th>25</th>\n",
       "      <td>Облачко</td>\n",
       "      <td>1409</td>\n",
       "      <td>15478</td>\n",
       "      <td>10611052.0</td>\n",
       "      <td>8.15</td>\n",
       "      <td>9.18</td>\n",
       "      <td>12.96</td>\n",
       "    </tr>\n",
       "    <tr>\n",
       "      <th>22</th>\n",
       "      <td>Лучшие билеты</td>\n",
       "      <td>1396</td>\n",
       "      <td>12432</td>\n",
       "      <td>1676010.0</td>\n",
       "      <td>8.07</td>\n",
       "      <td>7.37</td>\n",
       "      <td>2.05</td>\n",
       "    </tr>\n",
       "    <tr>\n",
       "      <th>24</th>\n",
       "      <td>Мой билет</td>\n",
       "      <td>1005</td>\n",
       "      <td>19416</td>\n",
       "      <td>10850676.0</td>\n",
       "      <td>5.81</td>\n",
       "      <td>11.51</td>\n",
       "      <td>13.25</td>\n",
       "    </tr>\n",
       "    <tr>\n",
       "      <th>30</th>\n",
       "      <td>Тебе билет!</td>\n",
       "      <td>859</td>\n",
       "      <td>3760</td>\n",
       "      <td>2166179.0</td>\n",
       "      <td>4.97</td>\n",
       "      <td>2.23</td>\n",
       "      <td>2.65</td>\n",
       "    </tr>\n",
       "    <tr>\n",
       "      <th>26</th>\n",
       "      <td>Прачечная</td>\n",
       "      <td>728</td>\n",
       "      <td>5798</td>\n",
       "      <td>2548310.0</td>\n",
       "      <td>4.21</td>\n",
       "      <td>3.44</td>\n",
       "      <td>3.11</td>\n",
       "    </tr>\n",
       "    <tr>\n",
       "      <th>8</th>\n",
       "      <td>Весь в билетах</td>\n",
       "      <td>599</td>\n",
       "      <td>9416</td>\n",
       "      <td>9351279.0</td>\n",
       "      <td>3.46</td>\n",
       "      <td>5.58</td>\n",
       "      <td>11.42</td>\n",
       "    </tr>\n",
       "    <tr>\n",
       "      <th>34</th>\n",
       "      <td>Яблоко</td>\n",
       "      <td>537</td>\n",
       "      <td>3473</td>\n",
       "      <td>2763332.0</td>\n",
       "      <td>3.10</td>\n",
       "      <td>2.06</td>\n",
       "      <td>3.37</td>\n",
       "    </tr>\n",
       "  </tbody>\n",
       "</table>\n",
       "</div>"
      ],
      "text/plain": [
       "          service_name  unique_events  total_orders  total_revenue_rub  \\\n",
       "21         Лови билет!           3616         25794         10381935.0   \n",
       "3   Билеты без проблем           2847         32405         12172563.0   \n",
       "5        Билеты в руки           2469         25728          7613383.0   \n",
       "25             Облачко           1409         15478         10611052.0   \n",
       "22       Лучшие билеты           1396         12432          1676010.0   \n",
       "24           Мой билет           1005         19416         10850676.0   \n",
       "30         Тебе билет!            859          3760          2166179.0   \n",
       "26           Прачечная            728          5798          2548310.0   \n",
       "8       Весь в билетах            599          9416          9351279.0   \n",
       "34              Яблоко            537          3473          2763332.0   \n",
       "\n",
       "    event_share_%  order_share_%  revenue_share_%  \n",
       "21          20.90          15.30            12.68  \n",
       "3           16.46          19.22            14.86  \n",
       "5           14.27          15.26             9.30  \n",
       "25           8.15           9.18            12.96  \n",
       "22           8.07           7.37             2.05  \n",
       "24           5.81          11.51            13.25  \n",
       "30           4.97           2.23             2.65  \n",
       "26           4.21           3.44             3.11  \n",
       "8            3.46           5.58            11.42  \n",
       "34           3.10           2.06             3.37  "
      ]
     },
     "execution_count": 80,
     "metadata": {},
     "output_type": "execute_result"
    }
   ],
   "source": [
    "partners_df.head(10)"
   ]
  },
  {
   "cell_type": "markdown",
   "id": "57b96d01-44d8-45ba-b573-4f57cc2a4177",
   "metadata": {},
   "source": [
    "Самый активный партнер - `Лови билет!` с 21% мероприятий, затем идет `Билеты без проблем` (16%) и `Билеты в руки` (14%). Однако по доле заказов лидирует партнер `Билеты без проблем` (19%). В топе по выручке можно заметить еще одного партнера - `Мой билет`, который не так активен (доля мероприятий лишь 5%), однако доля заказов и выручки хорошие - 11% и 13% соответственно"
   ]
  },
  {
   "cell_type": "markdown",
   "id": "871ce959-a279-4b23-bc59-f8fa3805fe68",
   "metadata": {},
   "source": [
    "#### Промежуточный вывод\n",
    "\n",
    "Регионы\n",
    "- Каменевский регион — уверенный лидер как по числу уникальных мероприятий (24.6% от всех), так и по числу заказов (27%). Это говорит не только о большом культурном разнообразии, но и о высокой вовлечённости аудитории.\n",
    "- Североярская область — вторая по значимости, обеспечивая 16% мероприятий и 12% заказов. Здесь наблюдается более скромное соотношение событий и заказов, что может указывать на менее плотное посещение отдельных мероприятий.\n",
    "- Широковская область и Светополянский округ занимают третье и четвёртое места соответственно, но уже с заметно меньшими показателями: около 5% по обоим метрикам.\n",
    "- Оставшиеся регионы из топ-10 дают от 2 до 3% всех мероприятий и заказов каждый. Это указывает на существенную концентрацию активности в нескольких регионах, при этом большинство остальных территорий показывают умеренные значения, что открывает возможности для развития новых локаций.\n",
    "\n",
    "Партнёры по билетам\n",
    "- Лови билет! и Билеты без проблем — два лидера по числу мероприятий (21% и 16%) и заказов (15% и 19%). Однако \"Билеты без проблем\" опережает по выручке, заняв 15% от всех продаж, несмотря на схожее число мероприятий.\n",
    "- Облачко — выделяется высоким вкладом в выручку (13%) при сравнительно небольшом количестве заказов (9%) и событий (8%), что указывает на продажу более дорогих билетов или работу с эксклюзивными мероприятиями.\n",
    "- Мой билет также интересен: лишь 6% событий, но почти 12% заказов и 13% выручки. Это может говорить о высокой повторной активности пользователей или удачном партнёрском позиционировании.\n",
    "- Весь в билетах имеет умеренную долю заказов (5.6%), но сравнительно высокую выручку (11%), что может также указывать на более дорогие мероприятия в портфеле.\n",
    "- Прочие партнёры занимают небольшие доли, а доля выручки у большинства из них не превышает 2–3%, что подчёркивает доминирование 3–4 ключевых игроков на рынке.\n",
    "\n",
    "Распределение активности по регионам и партнёрам неоднородно. Чётко выражены ключевые центры активности (Каменевский и Североярская регионы) и лидирующие партнёры — такие как Билеты без проблем, Облачко, Мой билет. Эти категории обеспечивают основной объём заказов и выручки, в то время как остальные регионы и компании имеют заметно меньший вклад."
   ]
  },
  {
   "cell_type": "markdown",
   "id": "6aa80521-3294-46c1-90ae-30605c8d38de",
   "metadata": {},
   "source": [
    "## 4. Статистический анализ данных\n",
    "Проверим две гипотезы, которые предполагают большую активность пользователей мобильных устройств:\n",
    "- Среднее количество заказов на одного пользователя мобильного приложения выше по сравнению с пользователями стационарных устройств\n",
    "- Среднее время между заказами пользователей мобильных приложений выше по сравнению с пользователями стационарных устройств\n",
    "Будем использоать данные только за осенний период."
   ]
  },
  {
   "cell_type": "markdown",
   "id": "9476123c-d058-4a76-b210-7908a4dec715",
   "metadata": {},
   "source": [
    "### 4.1 Гипотеза 1\n",
    "- Нулевая гипотеза H0: Среднее количество заказов на одного пользователя мобильных устройств равно среднему количеству заказов на одного пользователя стационарных устройств.\n",
    "- Альтернативная гипотеза H1: Среднее количество заказов на одного пользователя мобильных устройств больше, чем у стационарных."
   ]
  },
  {
   "cell_type": "markdown",
   "id": "0de15635",
   "metadata": {},
   "source": [
    "В обоих случаях (для гипотез о количестве заказов и интервале между заказами) были выбраны непараметрические тесты Манна-Уитни, так как:\n",
    "\n",
    "- Распределения имеют значительное количество выбросов и выраженную асимметрию. Это видно на распределениях (например, через boxplot), и в таких ситуациях среднее значение может быть неустойчиво к экстремальным значениям.\n",
    "- Мы сравниваем две независимые выборки (пользователи мобильных и стационарных устройств), при этом данные не агрегированы в сбалансированные группы, а разброс значений и наличие \"тяжёлого хвоста\" может искажать результат параметрических тестов.\n",
    "- Манна-Уитни более устойчив к выбросам и асимметрии и позволяет сравнивать не столько средние, сколько положение распределений относительно друг друга, что в контексте пользовательской активности (кол-во заказов, время между ними) даёт более надёжный результат.\n",
    "\n",
    "Использование параметрических тестов вроде t-test с поправкой Уэлча теоретически допустимо, но в данном случае данные не соответствуют условиям его корректной работы из-за наличия выбросов и нарушенной симметрии."
   ]
  },
  {
   "cell_type": "code",
   "execution_count": 81,
   "id": "300d7be4-2d2f-4d20-96f9-fb7fd7c988eb",
   "metadata": {},
   "outputs": [],
   "source": [
    "# Считаем количество заказов на пользователя и устройство\n",
    "orders_per_user_device = fall_df.groupby(['user_id', 'device_type_canonical'])['order_id'].count().reset_index(name='order_count')"
   ]
  },
  {
   "cell_type": "code",
   "execution_count": 82,
   "id": "f6101937-b788-493e-b842-2a747133c0a8",
   "metadata": {},
   "outputs": [],
   "source": [
    "# Разделяем на две группы\n",
    "mobile_orders = orders_per_user_device[orders_per_user_device['device_type_canonical'] == 'mobile']['order_count']\n",
    "desktop_orders = orders_per_user_device[orders_per_user_device['device_type_canonical'] == 'desktop']['order_count']"
   ]
  },
  {
   "cell_type": "code",
   "execution_count": 83,
   "id": "1769f1aa-a5fc-4073-a7fe-e695365d6bb3",
   "metadata": {},
   "outputs": [
    {
     "name": "stdout",
     "output_type": "stream",
     "text": [
      "Mann-Whitney U statistic: 36111903.0\n",
      "P-value (alternative='greater'): 0.0000\n",
      "Отвергаем H0: среднее количество заказов у мобильных пользователей статистически выше.\n"
     ]
    }
   ],
   "source": [
    "# Выполним тест Манна-Уитни\n",
    "stat_u, p_value = mannwhitneyu(mobile_orders, desktop_orders, alternative='greater')\n",
    "\n",
    "print(f\"Mann-Whitney U statistic: {stat_u}\")\n",
    "print(f\"P-value (alternative='greater'): {p_value:.4f}\")\n",
    "\n",
    "if p_value < 0.05:\n",
    "    print(\"Отвергаем H0: среднее количество заказов у мобильных пользователей статистически выше.\")\n",
    "else:\n",
    "    print(\"Нет оснований отвергать H0: статистически значимой разницы нет.\")"
   ]
  },
  {
   "cell_type": "markdown",
   "id": "0b4d079b-bd6d-41ae-ae94-6ee52bfdd486",
   "metadata": {},
   "source": [
    "Отвергаем нулевую гипотезу, потому что Среднее количество заказов на одного пользователя мобильного приложения выше по сравнению с пользователями стационарных устройств. Вывод: Первая гипотеза, которую нужно было проверить по заданию, верна"
   ]
  },
  {
   "cell_type": "markdown",
   "id": "d0675085-8a2c-4f8f-beaa-7209e8374796",
   "metadata": {},
   "source": [
    "### 4.2 Гипотеза 2\n",
    "- Нулевая гипотеза Н0: Среднее время между заказами у мобильных пользователей равно среднему времени у пользователей стационарных утройств.\n",
    "- Альтернативная гипотеза Н1: Среднее время между заказами у мобильных пользователей больше, чем у пользователей стационарных устройств."
   ]
  },
  {
   "cell_type": "code",
   "execution_count": 84,
   "id": "402ca92f-a4d7-4eba-94e7-04a26a2ebc34",
   "metadata": {},
   "outputs": [],
   "source": [
    "# Берём значения days_since_prev для мобильных и стационарных утройств\n",
    "mobile_days = fall_df[(fall_df['device_type_canonical'] == 'mobile')]['days_since_prev'].dropna()\n",
    "desktop_days = fall_df[(fall_df['device_type_canonical'] == 'desktop')]['days_since_prev'].dropna()"
   ]
  },
  {
   "cell_type": "code",
   "execution_count": 85,
   "id": "6653737b-e14f-4401-bfb8-b74cd57e0e66",
   "metadata": {},
   "outputs": [
    {
     "name": "stdout",
     "output_type": "stream",
     "text": [
      "Mann-Whitney U statistic: 2220608137.0\n",
      "P-value (alternative='greater'): 0.0000\n",
      "Отвергаем нулевую гипотезу: время между заказами у мобильных пользователей статистически больше.\n"
     ]
    }
   ],
   "source": [
    "stat_u, p_value = mannwhitneyu(mobile_days, desktop_days, alternative='greater')\n",
    "\n",
    "print(f\"Mann-Whitney U statistic: {stat_u}\")\n",
    "print(f\"P-value (alternative='greater'): {p_value:.4f}\")\n",
    "\n",
    "if p_value < 0.05:\n",
    "    print(\"Отвергаем нулевую гипотезу: время между заказами у мобильных пользователей статистически больше.\")\n",
    "else:\n",
    "    print(\"Нет оснований отвергать нулевую гипотезу: статистически значимой разницы нет.\")"
   ]
  },
  {
   "cell_type": "markdown",
   "id": "03eb1c53-b5a6-4725-ac2c-f02bcc2ab1c4",
   "metadata": {},
   "source": [
    "Отвергаем нулевую гипотезу, потому что среднее время между заказами пользователей мобильных приложений выше по сравнению с пользователями стационарных устройств. Вывод: Вторая гипотеза, которую нужно было проверить по заданию, верна"
   ]
  },
  {
   "cell_type": "markdown",
   "id": "beae99e3-7ea8-4179-8430-601ebaec050a",
   "metadata": {},
   "source": [
    "#### Промежуточный вывод\n",
    "Первая гипотеза:\n",
    "- Среднее количество заказов на одного пользователя мобильного приложения значительно выше, чем у пользователей стационарных устройств.\n",
    "- Статистический тест Манна-Уитни дал p-value = 0.0000 (значительно меньше 0.05).\n",
    "- Это означает, что нулевая гипотеза отвергается — различия статистически значимы.\n",
    "- Следовательно, мобильные пользователи действительно делают в среднем больше заказов.\n",
    "\n",
    "Вторая гипотеза:\n",
    "- Среднее время между заказами пользователей мобильных приложений выше, чем у пользователей стационарных устройств.\n",
    "- Результаты теста Манна-Уитни также показывают p-value = 0.0000.\n",
    "- Нулевая гипотеза отвергается — мобильные пользователи в среднем дольше ждут между заказами, чем десктопные.\n",
    "- Это может указывать на специфику поведения мобильных пользователей: они делают больше заказов, но с более длительными интервалами.\n",
    "\n",
    "Обе гипотезы подтверждены статистически значимыми результатами тестов Манна-Уитни. Это говорит о различиях в поведении мобильных и десктопных пользователей — мобильные делают больше заказов, но при этом с большим средним временем между ними."
   ]
  },
  {
   "cell_type": "markdown",
   "id": "75d0a6f9-9799-4ec4-982d-7bc136c59c1b",
   "metadata": {},
   "source": [
    "## 5. Общий вывод и рекомендации\n",
    "**Данные**\n",
    "- В работе использованы объединённые данные по заказам билетов на мероприятия за 2024 год с различной дополнительной информацией: тип устройства пользователя, сезонность, возрастные ограничения, регион, партнёры по билетам, выручка в рублях и другие параметры. Данные предварительно очищены от пропусков и дубликатов, приведены к корректным типам, рассчитаны новые показатели для удобства анализа.\n",
    "\n",
    "**Основные результаты анализа**\n",
    "- Популярность мероприятий: Концерты сохраняют лидерство по количеству заказов, но с осенним снижением доли и средней стоимости билета. Театр и спорт демонстрируют умеренный спад, тогда как стендап и детские мероприятия осенью набирают популярность. Ёлки и праздничные мероприятия теряют интерес аудитории.\n",
    "- Сезонные изменения: Количество заказов выросло почти в 3 раза с июня по ноябрь, что отражает сильную сезонность и активность осеннего периода. В выходные дни активность ниже, но средний чек выше, что указывает на более дорогие покупки.\n",
    "- Региональная и партнёрская активность: Каменевский регион и Североярская область — ключевые регионы по количеству заказов и мероприятий. Среди партнёров лидируют «Билеты без проблем», «Лови билет!» и «Облачко», обеспечивающие значительную долю выручки и заказов.\n",
    "- Поведение пользователей: Пользователи мобильных устройств делают больше заказов, но с более длительными интервалами между ними по сравнению с десктопными пользователями. Это указывает на различия в привычках и, возможно, разные сценарии использования приложений.\n",
    "\n",
    "**Результаты проверки гипотез**\n",
    "- Гипотеза 1: Среднее количество заказов у мобильных пользователей статистически выше, чем у пользователей стационарных устройств — подтверждена.\n",
    "- Гипотеза 2: Среднее время между заказами у мобильных пользователей статистически выше, чем у десктопных — также подтверждена.\n",
    "- Обе гипотезы подтверждают значимые различия в пользовательском поведении между мобильными и стационарными устройствами.\n",
    "\n",
    "**Рекомендации**\n",
    "- Фокус на мобильных пользователях: поскольку они более активны в количестве заказов, стоит продолжать улучшать мобильный опыт, стимулировать частоту покупок (например, через персонализированные предложения и уведомления).\n",
    "- Исследовать причины долгих интервалов между заказами у мобильных пользователей: возможно, полезно изучить, какие факторы влияют на паузы и как их сократить.\n",
    "- Сезонные маркетинговые кампании: активировать промо в пиковые осенние месяцы, с акцентом на растущие категории — стендап и детские мероприятия.\n",
    "- Региональная сегментация: развивать предложения в ключевых регионах с большим потенциалом (Каменевский и Североярская), а также рассмотреть возможности расширения в менее активных регионах.\n",
    "- Работа с партнёрами: усилить сотрудничество с ведущими билетными операторами, оптимизировать цены и ассортимент билетов, учитывая их вклад в выручку.\n",
    "- Анализ поведения по дням недели: учесть разницу в активности и среднем чеке между буднями и выходными при планировании акций и событий."
   ]
  }
 ],
 "metadata": {
  "ExecuteTimeLog": [
   {
    "duration": 2835,
    "start_time": "2025-06-19T12:27:34.443Z"
   },
   {
    "duration": 1325,
    "start_time": "2025-06-19T12:27:37.281Z"
   },
   {
    "duration": 1500,
    "start_time": "2025-06-19T12:27:38.607Z"
   },
   {
    "duration": 4,
    "start_time": "2025-06-19T12:27:40.109Z"
   },
   {
    "duration": 160,
    "start_time": "2025-06-19T12:27:40.115Z"
   },
   {
    "duration": 16,
    "start_time": "2025-06-19T12:27:40.277Z"
   },
   {
    "duration": 11,
    "start_time": "2025-06-19T12:27:40.294Z"
   },
   {
    "duration": 8,
    "start_time": "2025-06-19T12:27:40.307Z"
   },
   {
    "duration": 161,
    "start_time": "2025-06-19T12:27:40.316Z"
   },
   {
    "duration": 236,
    "start_time": "2025-06-19T12:27:40.480Z"
   },
   {
    "duration": 197,
    "start_time": "2025-06-19T12:27:40.717Z"
   },
   {
    "duration": 225,
    "start_time": "2025-06-19T12:27:40.916Z"
   },
   {
    "duration": 216,
    "start_time": "2025-06-19T12:27:41.142Z"
   },
   {
    "duration": 204,
    "start_time": "2025-06-19T12:27:41.360Z"
   },
   {
    "duration": 77,
    "start_time": "2025-06-19T12:27:41.566Z"
   },
   {
    "duration": 211,
    "start_time": "2025-06-19T12:27:41.644Z"
   },
   {
    "duration": 2,
    "start_time": "2025-06-19T12:27:41.857Z"
   },
   {
    "duration": 346,
    "start_time": "2025-06-19T12:27:41.861Z"
   },
   {
    "duration": 146,
    "start_time": "2025-06-19T12:27:42.209Z"
   },
   {
    "duration": 41,
    "start_time": "2025-06-19T12:27:42.357Z"
   },
   {
    "duration": 1741,
    "start_time": "2025-06-19T12:27:42.399Z"
   },
   {
    "duration": 111,
    "start_time": "2025-06-19T12:27:44.141Z"
   },
   {
    "duration": 27,
    "start_time": "2025-06-19T12:27:44.254Z"
   },
   {
    "duration": 767,
    "start_time": "2025-06-19T12:27:44.283Z"
   },
   {
    "duration": 81,
    "start_time": "2025-06-19T12:27:45.052Z"
   },
   {
    "duration": 199,
    "start_time": "2025-06-19T12:27:45.135Z"
   },
   {
    "duration": 609,
    "start_time": "2025-06-19T12:27:45.335Z"
   },
   {
    "duration": 159,
    "start_time": "2025-06-19T12:27:45.949Z"
   },
   {
    "duration": 4,
    "start_time": "2025-06-19T12:27:46.110Z"
   },
   {
    "duration": 366,
    "start_time": "2025-06-19T12:27:46.116Z"
   },
   {
    "duration": 5,
    "start_time": "2025-06-19T12:27:46.484Z"
   },
   {
    "duration": 663,
    "start_time": "2025-06-19T12:27:46.491Z"
   },
   {
    "duration": 342,
    "start_time": "2025-06-19T12:27:47.156Z"
   },
   {
    "duration": 30,
    "start_time": "2025-06-19T12:27:47.500Z"
   },
   {
    "duration": 19,
    "start_time": "2025-06-19T12:27:47.532Z"
   },
   {
    "duration": 552,
    "start_time": "2025-06-19T12:27:47.553Z"
   },
   {
    "duration": 4773,
    "start_time": "2025-06-19T12:27:48.107Z"
   },
   {
    "duration": 5503,
    "start_time": "2025-06-19T12:27:52.882Z"
   },
   {
    "duration": 26,
    "start_time": "2025-06-19T12:27:58.387Z"
   },
   {
    "duration": 83,
    "start_time": "2025-06-19T12:27:58.415Z"
   },
   {
    "duration": 24,
    "start_time": "2025-06-19T12:27:58.500Z"
   },
   {
    "duration": 53,
    "start_time": "2025-06-19T12:27:58.526Z"
   },
   {
    "duration": 163,
    "start_time": "2025-06-19T12:27:58.581Z"
   },
   {
    "duration": 76,
    "start_time": "2025-06-19T12:27:58.746Z"
   },
   {
    "duration": 439,
    "start_time": "2025-06-19T12:27:58.823Z"
   },
   {
    "duration": 73,
    "start_time": "2025-06-19T12:27:59.263Z"
   },
   {
    "duration": 313,
    "start_time": "2025-06-19T12:27:59.337Z"
   },
   {
    "duration": 65,
    "start_time": "2025-06-19T12:27:59.651Z"
   },
   {
    "duration": 351,
    "start_time": "2025-06-19T12:27:59.718Z"
   },
   {
    "duration": 4,
    "start_time": "2025-06-19T12:28:00.076Z"
   },
   {
    "duration": 134,
    "start_time": "2025-06-19T12:28:00.081Z"
   },
   {
    "duration": 19,
    "start_time": "2025-06-19T12:28:00.217Z"
   },
   {
    "duration": 1004,
    "start_time": "2025-06-19T12:28:00.237Z"
   },
   {
    "duration": 208,
    "start_time": "2025-06-19T12:28:01.243Z"
   },
   {
    "duration": 69,
    "start_time": "2025-06-19T12:28:01.453Z"
   },
   {
    "duration": 49,
    "start_time": "2025-06-19T12:28:01.524Z"
   },
   {
    "duration": 46,
    "start_time": "2025-06-19T12:28:01.574Z"
   },
   {
    "duration": 63,
    "start_time": "2025-06-19T12:28:01.622Z"
   },
   {
    "duration": 339,
    "start_time": "2025-06-19T12:28:01.687Z"
   },
   {
    "duration": 355,
    "start_time": "2025-06-19T12:28:02.028Z"
   },
   {
    "duration": 78,
    "start_time": "2025-06-19T12:28:02.385Z"
   },
   {
    "duration": 128,
    "start_time": "2025-06-19T12:28:02.465Z"
   },
   {
    "duration": 4,
    "start_time": "2025-06-19T12:28:02.595Z"
   },
   {
    "duration": 116,
    "start_time": "2025-06-19T12:28:02.601Z"
   },
   {
    "duration": 974,
    "start_time": "2025-06-19T12:28:02.719Z"
   },
   {
    "duration": 98,
    "start_time": "2025-06-19T12:28:03.695Z"
   },
   {
    "duration": 36,
    "start_time": "2025-06-19T12:28:03.795Z"
   },
   {
    "duration": 299,
    "start_time": "2025-06-19T12:28:03.833Z"
   },
   {
    "duration": 27,
    "start_time": "2025-06-19T12:28:04.134Z"
   },
   {
    "duration": 14,
    "start_time": "2025-06-19T12:28:04.177Z"
   },
   {
    "duration": 29,
    "start_time": "2025-06-19T12:28:04.193Z"
   },
   {
    "duration": 137,
    "start_time": "2025-06-19T12:28:04.224Z"
   },
   {
    "duration": 23,
    "start_time": "2025-06-19T12:28:04.363Z"
   },
   {
    "duration": 5,
    "start_time": "2025-06-19T12:28:04.388Z"
   },
   {
    "duration": 19,
    "start_time": "2025-06-19T12:28:04.394Z"
   },
   {
    "duration": 34,
    "start_time": "2025-06-19T12:28:04.415Z"
   },
   {
    "duration": 87,
    "start_time": "2025-06-19T12:28:04.450Z"
   },
   {
    "duration": 4,
    "start_time": "2025-06-19T12:28:04.538Z"
   },
   {
    "duration": 16,
    "start_time": "2025-06-19T12:28:04.544Z"
   },
   {
    "duration": 4,
    "start_time": "2025-06-19T12:28:04.562Z"
   },
   {
    "duration": 12,
    "start_time": "2025-06-19T12:28:04.576Z"
   },
   {
    "duration": 121,
    "start_time": "2025-06-19T12:28:04.594Z"
   },
   {
    "duration": 9,
    "start_time": "2025-06-19T12:28:04.717Z"
   },
   {
    "duration": 33,
    "start_time": "2025-06-19T12:28:04.728Z"
   },
   {
    "duration": 9,
    "start_time": "2025-06-19T12:28:04.763Z"
   },
   {
    "duration": 16,
    "start_time": "2025-06-19T12:28:04.774Z"
   },
   {
    "duration": 145,
    "start_time": "2025-06-19T12:28:04.791Z"
   },
   {
    "duration": 11,
    "start_time": "2025-06-19T12:28:04.937Z"
   },
   {
    "duration": 12,
    "start_time": "2025-06-19T12:28:04.950Z"
   },
   {
    "duration": 113,
    "start_time": "2025-06-19T12:28:04.964Z"
   },
   {
    "duration": 197,
    "start_time": "2025-06-19T12:29:11.819Z"
   },
   {
    "duration": 2537,
    "start_time": "2025-06-19T12:31:16.301Z"
   },
   {
    "duration": 1208,
    "start_time": "2025-06-19T12:31:18.841Z"
   },
   {
    "duration": 1463,
    "start_time": "2025-06-19T12:31:20.051Z"
   },
   {
    "duration": 5,
    "start_time": "2025-06-19T12:31:21.517Z"
   },
   {
    "duration": 148,
    "start_time": "2025-06-19T12:31:21.524Z"
   },
   {
    "duration": 19,
    "start_time": "2025-06-19T12:31:21.677Z"
   },
   {
    "duration": 25,
    "start_time": "2025-06-19T12:31:21.698Z"
   },
   {
    "duration": 11,
    "start_time": "2025-06-19T12:31:21.725Z"
   },
   {
    "duration": 170,
    "start_time": "2025-06-19T12:31:21.738Z"
   },
   {
    "duration": 252,
    "start_time": "2025-06-19T12:31:21.911Z"
   },
   {
    "duration": 184,
    "start_time": "2025-06-19T12:31:22.166Z"
   },
   {
    "duration": 232,
    "start_time": "2025-06-19T12:31:22.352Z"
   },
   {
    "duration": 228,
    "start_time": "2025-06-19T12:31:22.586Z"
   },
   {
    "duration": 198,
    "start_time": "2025-06-19T12:31:22.816Z"
   },
   {
    "duration": 82,
    "start_time": "2025-06-19T12:31:23.015Z"
   },
   {
    "duration": 224,
    "start_time": "2025-06-19T12:31:23.099Z"
   },
   {
    "duration": 3,
    "start_time": "2025-06-19T12:31:23.325Z"
   },
   {
    "duration": 235,
    "start_time": "2025-06-19T12:31:23.329Z"
   },
   {
    "duration": 156,
    "start_time": "2025-06-19T12:31:23.566Z"
   },
   {
    "duration": 35,
    "start_time": "2025-06-19T12:31:23.724Z"
   },
   {
    "duration": 1770,
    "start_time": "2025-06-19T12:31:23.777Z"
   },
   {
    "duration": 105,
    "start_time": "2025-06-19T12:31:25.549Z"
   },
   {
    "duration": 37,
    "start_time": "2025-06-19T12:31:25.656Z"
   },
   {
    "duration": 726,
    "start_time": "2025-06-19T12:31:25.695Z"
   },
   {
    "duration": 86,
    "start_time": "2025-06-19T12:31:26.422Z"
   },
   {
    "duration": 201,
    "start_time": "2025-06-19T12:31:26.510Z"
   },
   {
    "duration": 614,
    "start_time": "2025-06-19T12:31:26.713Z"
   },
   {
    "duration": 147,
    "start_time": "2025-06-19T12:31:27.414Z"
   },
   {
    "duration": 4,
    "start_time": "2025-06-19T12:31:27.563Z"
   },
   {
    "duration": 361,
    "start_time": "2025-06-19T12:31:27.576Z"
   },
   {
    "duration": 4,
    "start_time": "2025-06-19T12:31:27.939Z"
   },
   {
    "duration": 694,
    "start_time": "2025-06-19T12:31:27.944Z"
   },
   {
    "duration": 347,
    "start_time": "2025-06-19T12:31:28.640Z"
   },
   {
    "duration": 29,
    "start_time": "2025-06-19T12:31:28.989Z"
   },
   {
    "duration": 67,
    "start_time": "2025-06-19T12:31:29.020Z"
   },
   {
    "duration": 529,
    "start_time": "2025-06-19T12:31:29.089Z"
   },
   {
    "duration": 4975,
    "start_time": "2025-06-19T12:31:29.620Z"
   },
   {
    "duration": 5633,
    "start_time": "2025-06-19T12:31:34.597Z"
   },
   {
    "duration": 26,
    "start_time": "2025-06-19T12:31:40.232Z"
   },
   {
    "duration": 81,
    "start_time": "2025-06-19T12:31:40.260Z"
   },
   {
    "duration": 38,
    "start_time": "2025-06-19T12:31:40.342Z"
   },
   {
    "duration": 71,
    "start_time": "2025-06-19T12:31:40.382Z"
   },
   {
    "duration": 151,
    "start_time": "2025-06-19T12:31:40.455Z"
   },
   {
    "duration": 75,
    "start_time": "2025-06-19T12:31:40.608Z"
   },
   {
    "duration": 407,
    "start_time": "2025-06-19T12:31:40.685Z"
   },
   {
    "duration": 61,
    "start_time": "2025-06-19T12:31:41.094Z"
   },
   {
    "duration": 372,
    "start_time": "2025-06-19T12:31:41.157Z"
   },
   {
    "duration": 61,
    "start_time": "2025-06-19T12:31:41.530Z"
   },
   {
    "duration": 368,
    "start_time": "2025-06-19T12:31:41.592Z"
   },
   {
    "duration": 18,
    "start_time": "2025-06-19T12:31:41.962Z"
   },
   {
    "duration": 263,
    "start_time": "2025-06-19T12:31:41.982Z"
   },
   {
    "duration": 19,
    "start_time": "2025-06-19T12:31:42.247Z"
   },
   {
    "duration": 968,
    "start_time": "2025-06-19T12:31:42.267Z"
   },
   {
    "duration": 204,
    "start_time": "2025-06-19T12:31:43.237Z"
   },
   {
    "duration": 51,
    "start_time": "2025-06-19T12:31:43.442Z"
   },
   {
    "duration": 51,
    "start_time": "2025-06-19T12:31:43.494Z"
   },
   {
    "duration": 29,
    "start_time": "2025-06-19T12:31:43.546Z"
   },
   {
    "duration": 42,
    "start_time": "2025-06-19T12:31:43.577Z"
   },
   {
    "duration": 310,
    "start_time": "2025-06-19T12:31:43.621Z"
   },
   {
    "duration": 354,
    "start_time": "2025-06-19T12:31:43.933Z"
   },
   {
    "duration": 88,
    "start_time": "2025-06-19T12:31:44.289Z"
   },
   {
    "duration": 129,
    "start_time": "2025-06-19T12:31:44.379Z"
   },
   {
    "duration": 6,
    "start_time": "2025-06-19T12:31:44.510Z"
   },
   {
    "duration": 21,
    "start_time": "2025-06-19T12:31:44.518Z"
   },
   {
    "duration": 1046,
    "start_time": "2025-06-19T12:31:44.540Z"
   },
   {
    "duration": 102,
    "start_time": "2025-06-19T12:31:45.588Z"
   },
   {
    "duration": 40,
    "start_time": "2025-06-19T12:31:45.692Z"
   },
   {
    "duration": 330,
    "start_time": "2025-06-19T12:31:45.734Z"
   },
   {
    "duration": 39,
    "start_time": "2025-06-19T12:31:46.066Z"
   },
   {
    "duration": 16,
    "start_time": "2025-06-19T12:31:46.107Z"
   },
   {
    "duration": 55,
    "start_time": "2025-06-19T12:31:46.125Z"
   },
   {
    "duration": 131,
    "start_time": "2025-06-19T12:31:46.182Z"
   },
   {
    "duration": 20,
    "start_time": "2025-06-19T12:31:46.314Z"
   },
   {
    "duration": 31,
    "start_time": "2025-06-19T12:31:46.336Z"
   },
   {
    "duration": 44,
    "start_time": "2025-06-19T12:31:46.369Z"
   },
   {
    "duration": 14,
    "start_time": "2025-06-19T12:31:46.415Z"
   },
   {
    "duration": 82,
    "start_time": "2025-06-19T12:31:46.431Z"
   },
   {
    "duration": 4,
    "start_time": "2025-06-19T12:31:46.515Z"
   },
   {
    "duration": 40,
    "start_time": "2025-06-19T12:31:46.520Z"
   },
   {
    "duration": 13,
    "start_time": "2025-06-19T12:31:46.562Z"
   },
   {
    "duration": 39,
    "start_time": "2025-06-19T12:31:46.577Z"
   },
   {
    "duration": 110,
    "start_time": "2025-06-19T12:31:46.624Z"
   },
   {
    "duration": 9,
    "start_time": "2025-06-19T12:31:46.735Z"
   },
   {
    "duration": 24,
    "start_time": "2025-06-19T12:31:46.745Z"
   },
   {
    "duration": 17,
    "start_time": "2025-06-19T12:31:46.771Z"
   },
   {
    "duration": 21,
    "start_time": "2025-06-19T12:31:46.789Z"
   },
   {
    "duration": 156,
    "start_time": "2025-06-19T12:31:46.812Z"
   },
   {
    "duration": 11,
    "start_time": "2025-06-19T12:31:46.970Z"
   },
   {
    "duration": 79,
    "start_time": "2025-06-19T12:31:46.983Z"
   },
   {
    "duration": 124,
    "start_time": "2025-06-19T12:31:47.064Z"
   },
   {
    "duration": 560,
    "start_time": "2025-06-19T12:36:23.563Z"
   },
   {
    "duration": 2535,
    "start_time": "2025-06-19T12:37:52.117Z"
   },
   {
    "duration": 1294,
    "start_time": "2025-06-19T12:37:54.655Z"
   },
   {
    "duration": 1881,
    "start_time": "2025-06-19T12:37:55.951Z"
   },
   {
    "duration": 5,
    "start_time": "2025-06-19T12:37:57.834Z"
   },
   {
    "duration": 125,
    "start_time": "2025-06-19T12:37:57.840Z"
   },
   {
    "duration": 21,
    "start_time": "2025-06-19T12:37:57.967Z"
   },
   {
    "duration": 51,
    "start_time": "2025-06-19T12:37:57.990Z"
   },
   {
    "duration": 16,
    "start_time": "2025-06-19T12:37:58.043Z"
   },
   {
    "duration": 148,
    "start_time": "2025-06-19T12:37:58.061Z"
   },
   {
    "duration": 221,
    "start_time": "2025-06-19T12:37:58.211Z"
   },
   {
    "duration": 196,
    "start_time": "2025-06-19T12:37:58.434Z"
   },
   {
    "duration": 223,
    "start_time": "2025-06-19T12:37:58.632Z"
   },
   {
    "duration": 229,
    "start_time": "2025-06-19T12:37:58.857Z"
   },
   {
    "duration": 204,
    "start_time": "2025-06-19T12:37:59.088Z"
   },
   {
    "duration": 89,
    "start_time": "2025-06-19T12:37:59.294Z"
   },
   {
    "duration": 223,
    "start_time": "2025-06-19T12:37:59.385Z"
   },
   {
    "duration": 2,
    "start_time": "2025-06-19T12:37:59.610Z"
   },
   {
    "duration": 230,
    "start_time": "2025-06-19T12:37:59.614Z"
   },
   {
    "duration": 158,
    "start_time": "2025-06-19T12:37:59.846Z"
   },
   {
    "duration": 37,
    "start_time": "2025-06-19T12:38:00.006Z"
   },
   {
    "duration": 1811,
    "start_time": "2025-06-19T12:38:00.044Z"
   },
   {
    "duration": 108,
    "start_time": "2025-06-19T12:38:01.857Z"
   },
   {
    "duration": 37,
    "start_time": "2025-06-19T12:38:01.967Z"
   },
   {
    "duration": 725,
    "start_time": "2025-06-19T12:38:02.006Z"
   },
   {
    "duration": 81,
    "start_time": "2025-06-19T12:38:02.733Z"
   },
   {
    "duration": 195,
    "start_time": "2025-06-19T12:38:02.815Z"
   },
   {
    "duration": 586,
    "start_time": "2025-06-19T12:38:03.012Z"
   },
   {
    "duration": 551,
    "start_time": "2025-06-19T12:38:03.686Z"
   },
   {
    "duration": 765,
    "start_time": "2025-06-19T12:38:04.238Z"
   },
   {
    "duration": 107,
    "start_time": "2025-06-19T12:38:05.005Z"
   },
   {
    "duration": 0,
    "start_time": "2025-06-19T12:38:05.114Z"
   },
   {
    "duration": 0,
    "start_time": "2025-06-19T12:38:05.115Z"
   },
   {
    "duration": 1,
    "start_time": "2025-06-19T12:38:05.116Z"
   },
   {
    "duration": 0,
    "start_time": "2025-06-19T12:38:05.117Z"
   },
   {
    "duration": 0,
    "start_time": "2025-06-19T12:38:05.119Z"
   },
   {
    "duration": 0,
    "start_time": "2025-06-19T12:38:05.120Z"
   },
   {
    "duration": 0,
    "start_time": "2025-06-19T12:38:05.121Z"
   },
   {
    "duration": 0,
    "start_time": "2025-06-19T12:38:05.122Z"
   },
   {
    "duration": 0,
    "start_time": "2025-06-19T12:38:05.123Z"
   },
   {
    "duration": 0,
    "start_time": "2025-06-19T12:38:05.124Z"
   },
   {
    "duration": 0,
    "start_time": "2025-06-19T12:38:05.125Z"
   },
   {
    "duration": 0,
    "start_time": "2025-06-19T12:38:05.126Z"
   },
   {
    "duration": 0,
    "start_time": "2025-06-19T12:38:05.127Z"
   },
   {
    "duration": 0,
    "start_time": "2025-06-19T12:38:05.128Z"
   },
   {
    "duration": 0,
    "start_time": "2025-06-19T12:38:05.129Z"
   },
   {
    "duration": 0,
    "start_time": "2025-06-19T12:38:05.131Z"
   },
   {
    "duration": 0,
    "start_time": "2025-06-19T12:38:05.132Z"
   },
   {
    "duration": 0,
    "start_time": "2025-06-19T12:38:05.132Z"
   },
   {
    "duration": 0,
    "start_time": "2025-06-19T12:38:05.134Z"
   },
   {
    "duration": 0,
    "start_time": "2025-06-19T12:38:05.135Z"
   },
   {
    "duration": 0,
    "start_time": "2025-06-19T12:38:05.136Z"
   },
   {
    "duration": 0,
    "start_time": "2025-06-19T12:38:05.137Z"
   },
   {
    "duration": 0,
    "start_time": "2025-06-19T12:38:05.176Z"
   },
   {
    "duration": 0,
    "start_time": "2025-06-19T12:38:05.178Z"
   },
   {
    "duration": 0,
    "start_time": "2025-06-19T12:38:05.179Z"
   },
   {
    "duration": 0,
    "start_time": "2025-06-19T12:38:05.180Z"
   },
   {
    "duration": 0,
    "start_time": "2025-06-19T12:38:05.181Z"
   },
   {
    "duration": 0,
    "start_time": "2025-06-19T12:38:05.182Z"
   },
   {
    "duration": 0,
    "start_time": "2025-06-19T12:38:05.183Z"
   },
   {
    "duration": 0,
    "start_time": "2025-06-19T12:38:05.184Z"
   },
   {
    "duration": 0,
    "start_time": "2025-06-19T12:38:05.184Z"
   },
   {
    "duration": 0,
    "start_time": "2025-06-19T12:38:05.185Z"
   },
   {
    "duration": 0,
    "start_time": "2025-06-19T12:38:05.186Z"
   },
   {
    "duration": 0,
    "start_time": "2025-06-19T12:38:05.187Z"
   },
   {
    "duration": 0,
    "start_time": "2025-06-19T12:38:05.188Z"
   },
   {
    "duration": 0,
    "start_time": "2025-06-19T12:38:05.189Z"
   },
   {
    "duration": 0,
    "start_time": "2025-06-19T12:38:05.190Z"
   },
   {
    "duration": 0,
    "start_time": "2025-06-19T12:38:05.191Z"
   },
   {
    "duration": 0,
    "start_time": "2025-06-19T12:38:05.192Z"
   },
   {
    "duration": 0,
    "start_time": "2025-06-19T12:38:05.193Z"
   },
   {
    "duration": 0,
    "start_time": "2025-06-19T12:38:05.194Z"
   },
   {
    "duration": 0,
    "start_time": "2025-06-19T12:38:05.195Z"
   },
   {
    "duration": 0,
    "start_time": "2025-06-19T12:38:05.197Z"
   },
   {
    "duration": 0,
    "start_time": "2025-06-19T12:38:05.198Z"
   },
   {
    "duration": 0,
    "start_time": "2025-06-19T12:38:05.199Z"
   },
   {
    "duration": 0,
    "start_time": "2025-06-19T12:38:05.200Z"
   },
   {
    "duration": 0,
    "start_time": "2025-06-19T12:38:05.201Z"
   },
   {
    "duration": 0,
    "start_time": "2025-06-19T12:38:05.202Z"
   },
   {
    "duration": 0,
    "start_time": "2025-06-19T12:38:05.203Z"
   },
   {
    "duration": 0,
    "start_time": "2025-06-19T12:38:05.204Z"
   },
   {
    "duration": 0,
    "start_time": "2025-06-19T12:38:05.205Z"
   },
   {
    "duration": 0,
    "start_time": "2025-06-19T12:38:05.206Z"
   },
   {
    "duration": 0,
    "start_time": "2025-06-19T12:38:05.207Z"
   },
   {
    "duration": 0,
    "start_time": "2025-06-19T12:38:05.208Z"
   },
   {
    "duration": 0,
    "start_time": "2025-06-19T12:38:05.209Z"
   },
   {
    "duration": 0,
    "start_time": "2025-06-19T12:38:05.210Z"
   },
   {
    "duration": 0,
    "start_time": "2025-06-19T12:38:05.211Z"
   },
   {
    "duration": 0,
    "start_time": "2025-06-19T12:38:05.212Z"
   },
   {
    "duration": 0,
    "start_time": "2025-06-19T12:38:05.277Z"
   },
   {
    "duration": 74,
    "start_time": "2025-06-19T12:42:00.247Z"
   },
   {
    "duration": 2472,
    "start_time": "2025-06-19T12:42:18.154Z"
   },
   {
    "duration": 1196,
    "start_time": "2025-06-19T12:42:20.628Z"
   },
   {
    "duration": 1692,
    "start_time": "2025-06-19T12:42:21.826Z"
   },
   {
    "duration": 4,
    "start_time": "2025-06-19T12:42:23.520Z"
   },
   {
    "duration": 214,
    "start_time": "2025-06-19T12:42:23.526Z"
   },
   {
    "duration": 19,
    "start_time": "2025-06-19T12:42:23.742Z"
   },
   {
    "duration": 26,
    "start_time": "2025-06-19T12:42:23.762Z"
   },
   {
    "duration": 16,
    "start_time": "2025-06-19T12:42:23.790Z"
   },
   {
    "duration": 152,
    "start_time": "2025-06-19T12:42:23.808Z"
   },
   {
    "duration": 224,
    "start_time": "2025-06-19T12:42:23.963Z"
   },
   {
    "duration": 184,
    "start_time": "2025-06-19T12:42:24.189Z"
   },
   {
    "duration": 220,
    "start_time": "2025-06-19T12:42:24.375Z"
   },
   {
    "duration": 219,
    "start_time": "2025-06-19T12:42:24.597Z"
   },
   {
    "duration": 200,
    "start_time": "2025-06-19T12:42:24.818Z"
   },
   {
    "duration": 81,
    "start_time": "2025-06-19T12:42:25.020Z"
   },
   {
    "duration": 222,
    "start_time": "2025-06-19T12:42:25.102Z"
   },
   {
    "duration": 3,
    "start_time": "2025-06-19T12:42:25.326Z"
   },
   {
    "duration": 267,
    "start_time": "2025-06-19T12:42:25.331Z"
   },
   {
    "duration": 150,
    "start_time": "2025-06-19T12:42:25.600Z"
   },
   {
    "duration": 48,
    "start_time": "2025-06-19T12:42:25.752Z"
   },
   {
    "duration": 1763,
    "start_time": "2025-06-19T12:42:25.802Z"
   },
   {
    "duration": 111,
    "start_time": "2025-06-19T12:42:27.567Z"
   },
   {
    "duration": 25,
    "start_time": "2025-06-19T12:42:27.680Z"
   },
   {
    "duration": 717,
    "start_time": "2025-06-19T12:42:27.707Z"
   },
   {
    "duration": 76,
    "start_time": "2025-06-19T12:42:28.425Z"
   },
   {
    "duration": 198,
    "start_time": "2025-06-19T12:42:28.503Z"
   },
   {
    "duration": 579,
    "start_time": "2025-06-19T12:42:28.702Z"
   },
   {
    "duration": 534,
    "start_time": "2025-06-19T12:42:29.363Z"
   },
   {
    "duration": 789,
    "start_time": "2025-06-19T12:42:29.898Z"
   },
   {
    "duration": 676,
    "start_time": "2025-06-19T12:42:30.689Z"
   },
   {
    "duration": 372,
    "start_time": "2025-06-19T12:42:31.367Z"
   },
   {
    "duration": 40,
    "start_time": "2025-06-19T12:42:31.741Z"
   },
   {
    "duration": 21,
    "start_time": "2025-06-19T12:42:31.783Z"
   },
   {
    "duration": 594,
    "start_time": "2025-06-19T12:42:31.806Z"
   },
   {
    "duration": 4916,
    "start_time": "2025-06-19T12:42:32.402Z"
   },
   {
    "duration": 5723,
    "start_time": "2025-06-19T12:42:37.320Z"
   },
   {
    "duration": 40,
    "start_time": "2025-06-19T12:42:43.045Z"
   },
   {
    "duration": 96,
    "start_time": "2025-06-19T12:42:43.087Z"
   },
   {
    "duration": 25,
    "start_time": "2025-06-19T12:42:43.185Z"
   },
   {
    "duration": 39,
    "start_time": "2025-06-19T12:42:43.212Z"
   },
   {
    "duration": 173,
    "start_time": "2025-06-19T12:42:43.253Z"
   },
   {
    "duration": 77,
    "start_time": "2025-06-19T12:42:43.428Z"
   },
   {
    "duration": 425,
    "start_time": "2025-06-19T12:42:43.507Z"
   },
   {
    "duration": 69,
    "start_time": "2025-06-19T12:42:43.934Z"
   },
   {
    "duration": 355,
    "start_time": "2025-06-19T12:42:44.004Z"
   },
   {
    "duration": 61,
    "start_time": "2025-06-19T12:42:44.361Z"
   },
   {
    "duration": 366,
    "start_time": "2025-06-19T12:42:44.423Z"
   },
   {
    "duration": 3,
    "start_time": "2025-06-19T12:42:44.791Z"
   },
   {
    "duration": 142,
    "start_time": "2025-06-19T12:42:44.796Z"
   },
   {
    "duration": 19,
    "start_time": "2025-06-19T12:42:44.940Z"
   },
   {
    "duration": 995,
    "start_time": "2025-06-19T12:42:44.961Z"
   },
   {
    "duration": 207,
    "start_time": "2025-06-19T12:42:45.957Z"
   },
   {
    "duration": 51,
    "start_time": "2025-06-19T12:42:46.165Z"
   },
   {
    "duration": 7,
    "start_time": "2025-06-19T12:42:46.218Z"
   },
   {
    "duration": 9,
    "start_time": "2025-06-19T12:42:46.226Z"
   },
   {
    "duration": 28,
    "start_time": "2025-06-19T12:42:46.237Z"
   },
   {
    "duration": 382,
    "start_time": "2025-06-19T12:42:46.266Z"
   },
   {
    "duration": 362,
    "start_time": "2025-06-19T12:42:46.649Z"
   },
   {
    "duration": 92,
    "start_time": "2025-06-19T12:42:47.013Z"
   },
   {
    "duration": 119,
    "start_time": "2025-06-19T12:42:47.107Z"
   },
   {
    "duration": 5,
    "start_time": "2025-06-19T12:42:47.227Z"
   },
   {
    "duration": 23,
    "start_time": "2025-06-19T12:42:47.234Z"
   },
   {
    "duration": 1242,
    "start_time": "2025-06-19T12:42:47.259Z"
   },
   {
    "duration": 108,
    "start_time": "2025-06-19T12:42:48.504Z"
   },
   {
    "duration": 36,
    "start_time": "2025-06-19T12:42:48.614Z"
   },
   {
    "duration": 407,
    "start_time": "2025-06-19T12:42:48.652Z"
   },
   {
    "duration": 34,
    "start_time": "2025-06-19T12:42:49.061Z"
   },
   {
    "duration": 15,
    "start_time": "2025-06-19T12:42:49.097Z"
   },
   {
    "duration": 43,
    "start_time": "2025-06-19T12:42:49.114Z"
   },
   {
    "duration": 157,
    "start_time": "2025-06-19T12:42:49.159Z"
   },
   {
    "duration": 17,
    "start_time": "2025-06-19T12:42:49.318Z"
   },
   {
    "duration": 46,
    "start_time": "2025-06-19T12:42:49.337Z"
   },
   {
    "duration": 5,
    "start_time": "2025-06-19T12:42:49.385Z"
   },
   {
    "duration": 27,
    "start_time": "2025-06-19T12:42:49.391Z"
   },
   {
    "duration": 78,
    "start_time": "2025-06-19T12:42:49.420Z"
   },
   {
    "duration": 4,
    "start_time": "2025-06-19T12:42:49.500Z"
   },
   {
    "duration": 94,
    "start_time": "2025-06-19T12:42:49.505Z"
   },
   {
    "duration": 21,
    "start_time": "2025-06-19T12:42:49.600Z"
   },
   {
    "duration": 17,
    "start_time": "2025-06-19T12:42:49.622Z"
   },
   {
    "duration": 53,
    "start_time": "2025-06-19T12:42:49.641Z"
   },
   {
    "duration": 8,
    "start_time": "2025-06-19T12:42:49.696Z"
   },
   {
    "duration": 6,
    "start_time": "2025-06-19T12:42:49.709Z"
   },
   {
    "duration": 26,
    "start_time": "2025-06-19T12:42:49.717Z"
   },
   {
    "duration": 19,
    "start_time": "2025-06-19T12:42:49.745Z"
   },
   {
    "duration": 145,
    "start_time": "2025-06-19T12:42:49.776Z"
   },
   {
    "duration": 11,
    "start_time": "2025-06-19T12:42:49.923Z"
   },
   {
    "duration": 145,
    "start_time": "2025-06-19T12:42:49.937Z"
   },
   {
    "duration": 108,
    "start_time": "2025-06-19T12:42:50.083Z"
   },
   {
    "duration": 62,
    "start_time": "2025-06-19T12:45:55.311Z"
   },
   {
    "duration": 13,
    "start_time": "2025-06-19T12:46:05.864Z"
   },
   {
    "duration": 6,
    "start_time": "2025-06-19T12:46:06.700Z"
   },
   {
    "duration": 4,
    "start_time": "2025-06-19T12:46:10.086Z"
   },
   {
    "duration": 11,
    "start_time": "2025-06-19T12:46:11.160Z"
   },
   {
    "duration": 51,
    "start_time": "2025-06-19T12:48:01.747Z"
   },
   {
    "duration": 5,
    "start_time": "2025-06-19T12:48:14.145Z"
   },
   {
    "duration": 7,
    "start_time": "2025-06-19T12:48:15.660Z"
   },
   {
    "duration": 4,
    "start_time": "2025-06-19T12:48:17.261Z"
   },
   {
    "duration": 12,
    "start_time": "2025-06-19T12:48:18.544Z"
   },
   {
    "duration": 108,
    "start_time": "2025-06-19T12:49:01.132Z"
   },
   {
    "duration": 49,
    "start_time": "2025-06-19T12:50:06.165Z"
   },
   {
    "duration": 3,
    "start_time": "2025-06-19T12:50:23.500Z"
   },
   {
    "duration": 5,
    "start_time": "2025-06-19T12:50:24.666Z"
   },
   {
    "duration": 9,
    "start_time": "2025-06-19T12:50:25.076Z"
   },
   {
    "duration": 5,
    "start_time": "2025-06-19T12:50:25.506Z"
   },
   {
    "duration": 12,
    "start_time": "2025-06-19T12:50:26.603Z"
   },
   {
    "duration": 2464,
    "start_time": "2025-06-19T13:13:33.421Z"
   },
   {
    "duration": 1200,
    "start_time": "2025-06-19T13:13:35.888Z"
   },
   {
    "duration": 2297,
    "start_time": "2025-06-19T13:13:37.089Z"
   },
   {
    "duration": 4,
    "start_time": "2025-06-19T13:13:39.389Z"
   },
   {
    "duration": 184,
    "start_time": "2025-06-19T13:13:39.395Z"
   },
   {
    "duration": 17,
    "start_time": "2025-06-19T13:13:39.581Z"
   },
   {
    "duration": 32,
    "start_time": "2025-06-19T13:13:39.600Z"
   },
   {
    "duration": 98,
    "start_time": "2025-06-19T13:13:39.634Z"
   },
   {
    "duration": 177,
    "start_time": "2025-06-19T13:13:39.734Z"
   },
   {
    "duration": 223,
    "start_time": "2025-06-19T13:13:39.914Z"
   },
   {
    "duration": 188,
    "start_time": "2025-06-19T13:13:40.139Z"
   },
   {
    "duration": 254,
    "start_time": "2025-06-19T13:13:40.329Z"
   },
   {
    "duration": 223,
    "start_time": "2025-06-19T13:13:40.584Z"
   },
   {
    "duration": 204,
    "start_time": "2025-06-19T13:13:40.809Z"
   },
   {
    "duration": 99,
    "start_time": "2025-06-19T13:13:41.015Z"
   },
   {
    "duration": 217,
    "start_time": "2025-06-19T13:13:41.116Z"
   },
   {
    "duration": 3,
    "start_time": "2025-06-19T13:13:41.335Z"
   },
   {
    "duration": 226,
    "start_time": "2025-06-19T13:13:41.339Z"
   },
   {
    "duration": 148,
    "start_time": "2025-06-19T13:13:41.567Z"
   },
   {
    "duration": 32,
    "start_time": "2025-06-19T13:13:41.717Z"
   },
   {
    "duration": 1787,
    "start_time": "2025-06-19T13:13:41.751Z"
   },
   {
    "duration": 111,
    "start_time": "2025-06-19T13:13:43.540Z"
   },
   {
    "duration": 35,
    "start_time": "2025-06-19T13:13:43.652Z"
   },
   {
    "duration": 725,
    "start_time": "2025-06-19T13:13:43.689Z"
   },
   {
    "duration": 83,
    "start_time": "2025-06-19T13:13:44.416Z"
   },
   {
    "duration": 204,
    "start_time": "2025-06-19T13:13:44.501Z"
   },
   {
    "duration": 594,
    "start_time": "2025-06-19T13:13:44.707Z"
   },
   {
    "duration": 563,
    "start_time": "2025-06-19T13:13:45.390Z"
   },
   {
    "duration": 805,
    "start_time": "2025-06-19T13:13:45.955Z"
   },
   {
    "duration": 648,
    "start_time": "2025-06-19T13:13:46.762Z"
   },
   {
    "duration": 347,
    "start_time": "2025-06-19T13:13:47.412Z"
   },
   {
    "duration": 37,
    "start_time": "2025-06-19T13:13:47.761Z"
   },
   {
    "duration": 20,
    "start_time": "2025-06-19T13:13:47.800Z"
   },
   {
    "duration": 536,
    "start_time": "2025-06-19T13:13:47.821Z"
   },
   {
    "duration": 4900,
    "start_time": "2025-06-19T13:13:48.359Z"
   },
   {
    "duration": 5659,
    "start_time": "2025-06-19T13:13:53.260Z"
   },
   {
    "duration": 27,
    "start_time": "2025-06-19T13:13:58.920Z"
   },
   {
    "duration": 93,
    "start_time": "2025-06-19T13:13:58.948Z"
   },
   {
    "duration": 33,
    "start_time": "2025-06-19T13:13:59.043Z"
   },
   {
    "duration": 36,
    "start_time": "2025-06-19T13:13:59.078Z"
   },
   {
    "duration": 166,
    "start_time": "2025-06-19T13:13:59.116Z"
   },
   {
    "duration": 68,
    "start_time": "2025-06-19T13:13:59.284Z"
   },
   {
    "duration": 423,
    "start_time": "2025-06-19T13:13:59.353Z"
   },
   {
    "duration": 62,
    "start_time": "2025-06-19T13:13:59.778Z"
   },
   {
    "duration": 313,
    "start_time": "2025-06-19T13:13:59.842Z"
   },
   {
    "duration": 65,
    "start_time": "2025-06-19T13:14:00.156Z"
   },
   {
    "duration": 371,
    "start_time": "2025-06-19T13:14:00.223Z"
   },
   {
    "duration": 3,
    "start_time": "2025-06-19T13:14:00.596Z"
   },
   {
    "duration": 333,
    "start_time": "2025-06-19T13:14:00.601Z"
   },
   {
    "duration": 19,
    "start_time": "2025-06-19T13:14:00.936Z"
   },
   {
    "duration": 1006,
    "start_time": "2025-06-19T13:14:00.956Z"
   },
   {
    "duration": 215,
    "start_time": "2025-06-19T13:14:01.964Z"
   },
   {
    "duration": 46,
    "start_time": "2025-06-19T13:14:02.181Z"
   },
   {
    "duration": 7,
    "start_time": "2025-06-19T13:14:02.228Z"
   },
   {
    "duration": 46,
    "start_time": "2025-06-19T13:14:02.237Z"
   },
   {
    "duration": 12,
    "start_time": "2025-06-19T13:14:02.285Z"
   },
   {
    "duration": 324,
    "start_time": "2025-06-19T13:14:02.298Z"
   },
   {
    "duration": 356,
    "start_time": "2025-06-19T13:14:02.624Z"
   },
   {
    "duration": 79,
    "start_time": "2025-06-19T13:14:02.982Z"
   },
   {
    "duration": 129,
    "start_time": "2025-06-19T13:14:03.063Z"
   },
   {
    "duration": 15,
    "start_time": "2025-06-19T13:14:03.194Z"
   },
   {
    "duration": 42,
    "start_time": "2025-06-19T13:14:03.210Z"
   },
   {
    "duration": 968,
    "start_time": "2025-06-19T13:14:03.254Z"
   },
   {
    "duration": 98,
    "start_time": "2025-06-19T13:14:04.224Z"
   },
   {
    "duration": 36,
    "start_time": "2025-06-19T13:14:04.324Z"
   },
   {
    "duration": 303,
    "start_time": "2025-06-19T13:14:04.362Z"
   },
   {
    "duration": 28,
    "start_time": "2025-06-19T13:14:04.667Z"
   },
   {
    "duration": 15,
    "start_time": "2025-06-19T13:14:04.697Z"
   },
   {
    "duration": 123,
    "start_time": "2025-06-19T13:14:04.714Z"
   },
   {
    "duration": 61,
    "start_time": "2025-06-19T13:14:04.839Z"
   },
   {
    "duration": 11,
    "start_time": "2025-06-19T13:14:04.902Z"
   },
   {
    "duration": 28,
    "start_time": "2025-06-19T13:14:04.914Z"
   },
   {
    "duration": 14,
    "start_time": "2025-06-19T13:14:04.944Z"
   },
   {
    "duration": 12,
    "start_time": "2025-06-19T13:14:04.960Z"
   },
   {
    "duration": 62,
    "start_time": "2025-06-19T13:14:04.973Z"
   },
   {
    "duration": 3,
    "start_time": "2025-06-19T13:14:05.037Z"
   },
   {
    "duration": 19,
    "start_time": "2025-06-19T13:14:05.041Z"
   },
   {
    "duration": 7,
    "start_time": "2025-06-19T13:14:05.062Z"
   },
   {
    "duration": 19,
    "start_time": "2025-06-19T13:14:05.071Z"
   },
   {
    "duration": 18,
    "start_time": "2025-06-19T13:14:05.092Z"
   },
   {
    "duration": 177,
    "start_time": "2025-06-19T13:14:05.111Z"
   },
   {
    "duration": 10,
    "start_time": "2025-06-19T13:14:05.293Z"
   },
   {
    "duration": 27,
    "start_time": "2025-06-19T13:14:05.304Z"
   },
   {
    "duration": 152,
    "start_time": "2025-06-19T13:14:05.333Z"
   },
   {
    "duration": 101,
    "start_time": "2025-06-19T13:14:05.488Z"
   },
   {
    "duration": 2714,
    "start_time": "2025-06-20T11:52:35.099Z"
   },
   {
    "duration": 1267,
    "start_time": "2025-06-20T11:52:37.816Z"
   },
   {
    "duration": 2209,
    "start_time": "2025-06-20T11:52:39.085Z"
   },
   {
    "duration": 4,
    "start_time": "2025-06-20T11:52:41.296Z"
   },
   {
    "duration": 126,
    "start_time": "2025-06-20T11:52:41.302Z"
   },
   {
    "duration": 18,
    "start_time": "2025-06-20T11:52:41.430Z"
   },
   {
    "duration": 16,
    "start_time": "2025-06-20T11:52:41.449Z"
   },
   {
    "duration": 82,
    "start_time": "2025-06-20T11:52:41.467Z"
   },
   {
    "duration": 146,
    "start_time": "2025-06-20T11:52:41.551Z"
   },
   {
    "duration": 229,
    "start_time": "2025-06-20T11:52:41.699Z"
   },
   {
    "duration": 184,
    "start_time": "2025-06-20T11:52:41.930Z"
   },
   {
    "duration": 222,
    "start_time": "2025-06-20T11:52:42.116Z"
   },
   {
    "duration": 206,
    "start_time": "2025-06-20T11:52:42.339Z"
   },
   {
    "duration": 199,
    "start_time": "2025-06-20T11:52:42.548Z"
   },
   {
    "duration": 76,
    "start_time": "2025-06-20T11:52:42.749Z"
   },
   {
    "duration": 218,
    "start_time": "2025-06-20T11:52:42.826Z"
   },
   {
    "duration": 2,
    "start_time": "2025-06-20T11:52:43.046Z"
   },
   {
    "duration": 207,
    "start_time": "2025-06-20T11:52:43.058Z"
   },
   {
    "duration": 141,
    "start_time": "2025-06-20T11:52:43.267Z"
   },
   {
    "duration": 33,
    "start_time": "2025-06-20T11:52:43.410Z"
   },
   {
    "duration": 1777,
    "start_time": "2025-06-20T11:52:43.458Z"
   },
   {
    "duration": 105,
    "start_time": "2025-06-20T11:52:45.237Z"
   },
   {
    "duration": 45,
    "start_time": "2025-06-20T11:52:45.344Z"
   },
   {
    "duration": 707,
    "start_time": "2025-06-20T11:52:45.391Z"
   },
   {
    "duration": 78,
    "start_time": "2025-06-20T11:52:46.100Z"
   },
   {
    "duration": 676,
    "start_time": "2025-06-20T11:52:50.260Z"
   },
   {
    "duration": 98,
    "start_time": "2025-06-20T11:52:54.939Z"
   },
   {
    "duration": 12,
    "start_time": "2025-06-20T11:53:11.661Z"
   },
   {
    "duration": 670,
    "start_time": "2025-06-20T11:53:13.851Z"
   }
  ],
  "kernelspec": {
   "display_name": "Python 3 (ipykernel)",
   "language": "python",
   "name": "python3"
  },
  "language_info": {
   "codemirror_mode": {
    "name": "ipython",
    "version": 3
   },
   "file_extension": ".py",
   "mimetype": "text/x-python",
   "name": "python",
   "nbconvert_exporter": "python",
   "pygments_lexer": "ipython3",
   "version": "3.9.13"
  },
  "toc": {
   "base_numbering": 1,
   "nav_menu": {},
   "number_sections": true,
   "sideBar": true,
   "skip_h1_title": true,
   "title_cell": "Table of Contents",
   "title_sidebar": "Contents",
   "toc_cell": false,
   "toc_position": {},
   "toc_section_display": true,
   "toc_window_display": false
  }
 },
 "nbformat": 4,
 "nbformat_minor": 5
}
