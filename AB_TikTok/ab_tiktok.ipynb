{
 "cells": [
  {
   "cell_type": "markdown",
   "metadata": {
    "id": "u98L9TgH0eMk"
   },
   "source": [
    "# Разработка A/B-тестирования и анализ результатов для приложения с бесконечной лентой"
   ]
  },
  {
   "cell_type": "markdown",
   "metadata": {
    "id": "LJBRALHs0eMf"
   },
   "source": [
    "## Описание данных\n",
    "\n",
    "Таблицы:\n",
    "\n",
    "- `sessions_project_history.csv` — таблица с историческими данными по сессиям пользователей на период с 2025-08-15 по 2025-09-23. Путь к файлу: `/datasets/sessions_project_history.csv`.\n",
    "\n",
    "- `sessions_project_test_part.csv` — таблица с данными за первый день проведения A/B-теста, то есть за 2025-10-14. Путь к файлу: `/datasets/sessions_project_test_part.csv`.\n",
    "\n",
    "- `sessions_project_test.csv` — таблица с данными за весь период проведения A/B-теста, то есть с 2025-10-14 по 2025-11-02. Путь к файлу: `/datasets/sessions_project_test.csv`.\n",
    "\n",
    "\n",
    "\n",
    "Поля таблиц `sessions_project_history.csv`, `sessions_project_test.csv`, `sessions_project_test_part.csv`:\n",
    "\n",
    "- `user_id` — идентификатор пользователя;\n",
    "\n",
    "- `session_id` — идентификатор сессии в приложении;\n",
    "\n",
    "- `session_date` — дата сессии;\n",
    "\n",
    "- `session_start_ts` — дата и время начала сессии;\n",
    "\n",
    "- `install_date` — дата установки приложения;\n",
    "\n",
    "- `session_number` — порядковый номер сессии для конкретного пользователя;\n",
    "\n",
    "- `registration_flag` — является ли пользователь зарегистрированным;\n",
    "\n",
    "- `page_counter` — количество просмотренных страниц во время сессии;\n",
    "\n",
    "- `region` — регион пользователя;\n",
    "\n",
    "- `device` — тип устройства пользователя;\n",
    "\n",
    "- `test_group` — тестовая группа (в таблице с историческими данными этого столбца нет).\n"
   ]
  },
  {
   "cell_type": "markdown",
   "metadata": {},
   "source": [
    "### Цель и план работы\n",
    "- Цель проекта: оценить новый алгоритм рекомендаций\n",
    "- План проекта:\n",
    "  - Изучение и предварительная обработка данных\n",
    "  - Проверка корректности сплитования\n",
    "  - Анализ ключевой метрики\n",
    "  - Выводы и рекоммендаци"
   ]
  },
  {
   "cell_type": "markdown",
   "metadata": {
    "id": "UpOucjID0eMl"
   },
   "source": [
    "### 1. Работа с историческими данными (EDA)"
   ]
  },
  {
   "cell_type": "markdown",
   "metadata": {
    "id": "8iJMtL-30eMl"
   },
   "source": [
    "#### 1.1. Загрузка исторических данных"
   ]
  },
  {
   "cell_type": "code",
   "execution_count": null,
   "metadata": {
    "id": "6TPR2-1RPboT"
   },
   "outputs": [],
   "source": [
    "import pandas as pd"
   ]
  },
  {
   "cell_type": "code",
   "execution_count": null,
   "metadata": {},
   "outputs": [],
   "source": [
    "sessions_history = pd.read_csv('https://code.s3.yandex.net/datasets/sessions_project_history.csv')"
   ]
  },
  {
   "cell_type": "code",
   "execution_count": null,
   "metadata": {},
   "outputs": [
    {
     "data": {
      "text/html": [
       "<div>\n",
       "<style scoped>\n",
       "    .dataframe tbody tr th:only-of-type {\n",
       "        vertical-align: middle;\n",
       "    }\n",
       "\n",
       "    .dataframe tbody tr th {\n",
       "        vertical-align: top;\n",
       "    }\n",
       "\n",
       "    .dataframe thead th {\n",
       "        text-align: right;\n",
       "    }\n",
       "</style>\n",
       "<table border=\"1\" class=\"dataframe\">\n",
       "  <thead>\n",
       "    <tr style=\"text-align: right;\">\n",
       "      <th></th>\n",
       "      <th>user_id</th>\n",
       "      <th>session_id</th>\n",
       "      <th>session_date</th>\n",
       "      <th>session_start_ts</th>\n",
       "      <th>install_date</th>\n",
       "      <th>session_number</th>\n",
       "      <th>registration_flag</th>\n",
       "      <th>page_counter</th>\n",
       "      <th>region</th>\n",
       "      <th>device</th>\n",
       "    </tr>\n",
       "  </thead>\n",
       "  <tbody>\n",
       "    <tr>\n",
       "      <th>0</th>\n",
       "      <td>E302123B7000BFE4</td>\n",
       "      <td>F9AF61A0C2023832</td>\n",
       "      <td>2025-08-15</td>\n",
       "      <td>2025-08-15 17:47:35</td>\n",
       "      <td>2025-08-15</td>\n",
       "      <td>1</td>\n",
       "      <td>0</td>\n",
       "      <td>3</td>\n",
       "      <td>CIS</td>\n",
       "      <td>iPhone</td>\n",
       "    </tr>\n",
       "    <tr>\n",
       "      <th>1</th>\n",
       "      <td>2530F72E221829FB</td>\n",
       "      <td>85003A206CBDAC6F</td>\n",
       "      <td>2025-08-15</td>\n",
       "      <td>2025-08-15 16:42:14</td>\n",
       "      <td>2025-08-15</td>\n",
       "      <td>1</td>\n",
       "      <td>0</td>\n",
       "      <td>4</td>\n",
       "      <td>MENA</td>\n",
       "      <td>Android</td>\n",
       "    </tr>\n",
       "    <tr>\n",
       "      <th>2</th>\n",
       "      <td>876E020A4FC512F5</td>\n",
       "      <td>3677423E49D72DEE</td>\n",
       "      <td>2025-08-15</td>\n",
       "      <td>2025-08-15 12:30:00</td>\n",
       "      <td>2025-08-15</td>\n",
       "      <td>1</td>\n",
       "      <td>0</td>\n",
       "      <td>4</td>\n",
       "      <td>EU</td>\n",
       "      <td>PC</td>\n",
       "    </tr>\n",
       "    <tr>\n",
       "      <th>3</th>\n",
       "      <td>2640B349E1D81584</td>\n",
       "      <td>956B45F5915CA225</td>\n",
       "      <td>2025-08-15</td>\n",
       "      <td>2025-08-15 15:31:31</td>\n",
       "      <td>2025-08-15</td>\n",
       "      <td>1</td>\n",
       "      <td>0</td>\n",
       "      <td>4</td>\n",
       "      <td>CIS</td>\n",
       "      <td>Android</td>\n",
       "    </tr>\n",
       "    <tr>\n",
       "      <th>4</th>\n",
       "      <td>94E1CBFAEF1F5EE9</td>\n",
       "      <td>83BF0DA35F9F1F40</td>\n",
       "      <td>2025-08-15</td>\n",
       "      <td>2025-08-15 21:33:53</td>\n",
       "      <td>2025-08-15</td>\n",
       "      <td>1</td>\n",
       "      <td>0</td>\n",
       "      <td>3</td>\n",
       "      <td>CIS</td>\n",
       "      <td>Android</td>\n",
       "    </tr>\n",
       "  </tbody>\n",
       "</table>\n",
       "</div>"
      ],
      "text/plain": [
       "            user_id        session_id session_date     session_start_ts  \\\n",
       "0  E302123B7000BFE4  F9AF61A0C2023832   2025-08-15  2025-08-15 17:47:35   \n",
       "1  2530F72E221829FB  85003A206CBDAC6F   2025-08-15  2025-08-15 16:42:14   \n",
       "2  876E020A4FC512F5  3677423E49D72DEE   2025-08-15  2025-08-15 12:30:00   \n",
       "3  2640B349E1D81584  956B45F5915CA225   2025-08-15  2025-08-15 15:31:31   \n",
       "4  94E1CBFAEF1F5EE9  83BF0DA35F9F1F40   2025-08-15  2025-08-15 21:33:53   \n",
       "\n",
       "  install_date  session_number  registration_flag  page_counter region  \\\n",
       "0   2025-08-15               1                  0             3    CIS   \n",
       "1   2025-08-15               1                  0             4   MENA   \n",
       "2   2025-08-15               1                  0             4     EU   \n",
       "3   2025-08-15               1                  0             4    CIS   \n",
       "4   2025-08-15               1                  0             3    CIS   \n",
       "\n",
       "    device  \n",
       "0   iPhone  \n",
       "1  Android  \n",
       "2       PC  \n",
       "3  Android  \n",
       "4  Android  "
      ]
     },
     "execution_count": 3,
     "metadata": {},
     "output_type": "execute_result"
    }
   ],
   "source": [
    "sessions_history.head(5)"
   ]
  },
  {
   "cell_type": "markdown",
   "metadata": {
    "id": "qTDoiODz0eMo"
   },
   "source": [
    "#### 1.2. Знакомство с данными\n",
    "\n",
    "\n"
   ]
  },
  {
   "cell_type": "code",
   "execution_count": null,
   "metadata": {
    "id": "PWZO9vTIPbPN"
   },
   "outputs": [
    {
     "name": "stdout",
     "output_type": "stream",
     "text": [
      "user_id\n",
      "00005FB6A13A6FBE    2\n",
      "0000B15A18D77ED9    3\n",
      "0000C4E3A4A571A9    2\n",
      "000293FAF9E67A81    4\n",
      "00029C5AE889A6C3    2\n",
      "                   ..\n",
      "FFFCDE7746148710    4\n",
      "FFFDD413285E753F    3\n",
      "FFFECBA0F2578AB0    2\n",
      "FFFEDB68228B5F21    5\n",
      "FFFF4228DF580C3B    3\n",
      "Name: session_id, Length: 134039, dtype: int64\n"
     ]
    }
   ],
   "source": [
    "unique_sessions_per_user = sessions_history.groupby('user_id')['session_id'].nunique()\n",
    "print(unique_sessions_per_user)"
   ]
  },
  {
   "cell_type": "code",
   "execution_count": null,
   "metadata": {},
   "outputs": [
    {
     "name": "stdout",
     "output_type": "stream",
     "text": [
      "Пользователь с наибольшим числом сессий: 10E0DEFC1ABDBBE0\n"
     ]
    },
    {
     "data": {
      "text/html": [
       "<div>\n",
       "<style scoped>\n",
       "    .dataframe tbody tr th:only-of-type {\n",
       "        vertical-align: middle;\n",
       "    }\n",
       "\n",
       "    .dataframe tbody tr th {\n",
       "        vertical-align: top;\n",
       "    }\n",
       "\n",
       "    .dataframe thead th {\n",
       "        text-align: right;\n",
       "    }\n",
       "</style>\n",
       "<table border=\"1\" class=\"dataframe\">\n",
       "  <thead>\n",
       "    <tr style=\"text-align: right;\">\n",
       "      <th></th>\n",
       "      <th>user_id</th>\n",
       "      <th>session_id</th>\n",
       "      <th>session_date</th>\n",
       "      <th>session_start_ts</th>\n",
       "      <th>install_date</th>\n",
       "      <th>session_number</th>\n",
       "      <th>registration_flag</th>\n",
       "      <th>page_counter</th>\n",
       "      <th>region</th>\n",
       "      <th>device</th>\n",
       "    </tr>\n",
       "  </thead>\n",
       "  <tbody>\n",
       "    <tr>\n",
       "      <th>115558</th>\n",
       "      <td>10E0DEFC1ABDBBE0</td>\n",
       "      <td>B8F0423BBFFCF5DC</td>\n",
       "      <td>2025-08-14</td>\n",
       "      <td>2025-08-14 13:57:39</td>\n",
       "      <td>2025-08-14</td>\n",
       "      <td>1</td>\n",
       "      <td>0</td>\n",
       "      <td>4</td>\n",
       "      <td>CIS</td>\n",
       "      <td>Android</td>\n",
       "    </tr>\n",
       "    <tr>\n",
       "      <th>191751</th>\n",
       "      <td>10E0DEFC1ABDBBE0</td>\n",
       "      <td>87CA2FA549473837</td>\n",
       "      <td>2025-08-15</td>\n",
       "      <td>2025-08-15 16:42:10</td>\n",
       "      <td>2025-08-14</td>\n",
       "      <td>2</td>\n",
       "      <td>0</td>\n",
       "      <td>3</td>\n",
       "      <td>CIS</td>\n",
       "      <td>Android</td>\n",
       "    </tr>\n",
       "    <tr>\n",
       "      <th>239370</th>\n",
       "      <td>10E0DEFC1ABDBBE0</td>\n",
       "      <td>4ADD8011DCDCE318</td>\n",
       "      <td>2025-08-16</td>\n",
       "      <td>2025-08-16 19:53:21</td>\n",
       "      <td>2025-08-14</td>\n",
       "      <td>3</td>\n",
       "      <td>0</td>\n",
       "      <td>3</td>\n",
       "      <td>CIS</td>\n",
       "      <td>Android</td>\n",
       "    </tr>\n",
       "    <tr>\n",
       "      <th>274629</th>\n",
       "      <td>10E0DEFC1ABDBBE0</td>\n",
       "      <td>DF0FD0E09BF1F3D7</td>\n",
       "      <td>2025-08-17</td>\n",
       "      <td>2025-08-17 15:03:43</td>\n",
       "      <td>2025-08-14</td>\n",
       "      <td>4</td>\n",
       "      <td>0</td>\n",
       "      <td>1</td>\n",
       "      <td>CIS</td>\n",
       "      <td>Android</td>\n",
       "    </tr>\n",
       "    <tr>\n",
       "      <th>302501</th>\n",
       "      <td>10E0DEFC1ABDBBE0</td>\n",
       "      <td>3C221774B4DE6885</td>\n",
       "      <td>2025-08-18</td>\n",
       "      <td>2025-08-18 17:29:14</td>\n",
       "      <td>2025-08-14</td>\n",
       "      <td>5</td>\n",
       "      <td>0</td>\n",
       "      <td>4</td>\n",
       "      <td>CIS</td>\n",
       "      <td>Android</td>\n",
       "    </tr>\n",
       "    <tr>\n",
       "      <th>325557</th>\n",
       "      <td>10E0DEFC1ABDBBE0</td>\n",
       "      <td>031BD7A67048105B</td>\n",
       "      <td>2025-08-19</td>\n",
       "      <td>2025-08-19 13:23:55</td>\n",
       "      <td>2025-08-14</td>\n",
       "      <td>6</td>\n",
       "      <td>0</td>\n",
       "      <td>2</td>\n",
       "      <td>CIS</td>\n",
       "      <td>Android</td>\n",
       "    </tr>\n",
       "    <tr>\n",
       "      <th>345336</th>\n",
       "      <td>10E0DEFC1ABDBBE0</td>\n",
       "      <td>FF4315CF4AD4B100</td>\n",
       "      <td>2025-08-20</td>\n",
       "      <td>2025-08-20 19:31:54</td>\n",
       "      <td>2025-08-14</td>\n",
       "      <td>7</td>\n",
       "      <td>0</td>\n",
       "      <td>2</td>\n",
       "      <td>CIS</td>\n",
       "      <td>Android</td>\n",
       "    </tr>\n",
       "    <tr>\n",
       "      <th>377532</th>\n",
       "      <td>10E0DEFC1ABDBBE0</td>\n",
       "      <td>4045FEA0747203B4</td>\n",
       "      <td>2025-08-22</td>\n",
       "      <td>2025-08-22 17:54:13</td>\n",
       "      <td>2025-08-14</td>\n",
       "      <td>8</td>\n",
       "      <td>0</td>\n",
       "      <td>2</td>\n",
       "      <td>CIS</td>\n",
       "      <td>Android</td>\n",
       "    </tr>\n",
       "    <tr>\n",
       "      <th>403538</th>\n",
       "      <td>10E0DEFC1ABDBBE0</td>\n",
       "      <td>344B086C421C7F37</td>\n",
       "      <td>2025-08-24</td>\n",
       "      <td>2025-08-24 14:46:13</td>\n",
       "      <td>2025-08-14</td>\n",
       "      <td>9</td>\n",
       "      <td>0</td>\n",
       "      <td>2</td>\n",
       "      <td>CIS</td>\n",
       "      <td>Android</td>\n",
       "    </tr>\n",
       "    <tr>\n",
       "      <th>414743</th>\n",
       "      <td>10E0DEFC1ABDBBE0</td>\n",
       "      <td>054F20BA371E4C9D</td>\n",
       "      <td>2025-08-25</td>\n",
       "      <td>2025-08-25 18:36:41</td>\n",
       "      <td>2025-08-14</td>\n",
       "      <td>10</td>\n",
       "      <td>0</td>\n",
       "      <td>3</td>\n",
       "      <td>CIS</td>\n",
       "      <td>Android</td>\n",
       "    </tr>\n",
       "  </tbody>\n",
       "</table>\n",
       "</div>"
      ],
      "text/plain": [
       "                 user_id        session_id session_date     session_start_ts  \\\n",
       "115558  10E0DEFC1ABDBBE0  B8F0423BBFFCF5DC   2025-08-14  2025-08-14 13:57:39   \n",
       "191751  10E0DEFC1ABDBBE0  87CA2FA549473837   2025-08-15  2025-08-15 16:42:10   \n",
       "239370  10E0DEFC1ABDBBE0  4ADD8011DCDCE318   2025-08-16  2025-08-16 19:53:21   \n",
       "274629  10E0DEFC1ABDBBE0  DF0FD0E09BF1F3D7   2025-08-17  2025-08-17 15:03:43   \n",
       "302501  10E0DEFC1ABDBBE0  3C221774B4DE6885   2025-08-18  2025-08-18 17:29:14   \n",
       "325557  10E0DEFC1ABDBBE0  031BD7A67048105B   2025-08-19  2025-08-19 13:23:55   \n",
       "345336  10E0DEFC1ABDBBE0  FF4315CF4AD4B100   2025-08-20  2025-08-20 19:31:54   \n",
       "377532  10E0DEFC1ABDBBE0  4045FEA0747203B4   2025-08-22  2025-08-22 17:54:13   \n",
       "403538  10E0DEFC1ABDBBE0  344B086C421C7F37   2025-08-24  2025-08-24 14:46:13   \n",
       "414743  10E0DEFC1ABDBBE0  054F20BA371E4C9D   2025-08-25  2025-08-25 18:36:41   \n",
       "\n",
       "       install_date  session_number  registration_flag  page_counter region  \\\n",
       "115558   2025-08-14               1                  0             4    CIS   \n",
       "191751   2025-08-14               2                  0             3    CIS   \n",
       "239370   2025-08-14               3                  0             3    CIS   \n",
       "274629   2025-08-14               4                  0             1    CIS   \n",
       "302501   2025-08-14               5                  0             4    CIS   \n",
       "325557   2025-08-14               6                  0             2    CIS   \n",
       "345336   2025-08-14               7                  0             2    CIS   \n",
       "377532   2025-08-14               8                  0             2    CIS   \n",
       "403538   2025-08-14               9                  0             2    CIS   \n",
       "414743   2025-08-14              10                  0             3    CIS   \n",
       "\n",
       "         device  \n",
       "115558  Android  \n",
       "191751  Android  \n",
       "239370  Android  \n",
       "274629  Android  \n",
       "302501  Android  \n",
       "325557  Android  \n",
       "345336  Android  \n",
       "377532  Android  \n",
       "403538  Android  \n",
       "414743  Android  "
      ]
     },
     "metadata": {},
     "output_type": "display_data"
    }
   ],
   "source": [
    "top_user_id = unique_sessions_per_user.idxmax()\n",
    "top_user_data = sessions_history[sessions_history['user_id'] == top_user_id]\n",
    "\n",
    "print(f\"Пользователь с наибольшим числом сессий: {top_user_id}\")\n",
    "display(top_user_data)"
   ]
  },
  {
   "cell_type": "markdown",
   "metadata": {},
   "source": [
    "- По данным об одном пользователе с наибольшим количеством сессий мы видим, что он посещает приложение только раз в день, иногда через день. Время посещения обычно дневное или вечернее. Также пользователь не является зарегистрированным. Количество просмотренных страниц немного меньше спустя время, чем в день установки приложения."
   ]
  },
  {
   "cell_type": "markdown",
   "metadata": {
    "id": "CmcGpJTP0eMq"
   },
   "source": [
    "#### 1.3. Анализ числа регистраций"
   ]
  },
  {
   "cell_type": "code",
   "execution_count": null,
   "metadata": {},
   "outputs": [],
   "source": [
    "# Устанавливаем библиотеку для дальнейших графиков\n",
    "import matplotlib.pyplot as plt"
   ]
  },
  {
   "cell_type": "code",
   "execution_count": null,
   "metadata": {
    "id": "tN_6Ml3EPatS"
   },
   "outputs": [
    {
     "name": "stdout",
     "output_type": "stream",
     "text": [
      "   session_date  unique_users  registered_users\n",
      "0    2025-08-11          3919               169\n",
      "1    2025-08-12          6056               336\n",
      "2    2025-08-13          8489               464\n",
      "3    2025-08-14         10321               625\n",
      "4    2025-08-15         14065               840\n",
      "5    2025-08-16         12205               916\n",
      "6    2025-08-17         11200               833\n",
      "7    2025-08-18         10839               860\n",
      "8    2025-08-19         12118               831\n",
      "9    2025-08-20         13514              1008\n",
      "10   2025-08-21         15051              1063\n",
      "11   2025-08-22         17563              1251\n",
      "12   2025-08-23         16082              1253\n",
      "13   2025-08-24         13683              1181\n",
      "14   2025-08-25         13635              1060\n",
      "15   2025-08-26         13289              1050\n",
      "16   2025-08-27         14766              1076\n",
      "17   2025-08-28         15388              1175\n",
      "18   2025-08-29         16873              1174\n",
      "19   2025-08-30         14891              1165\n",
      "20   2025-08-31         13266              1105\n",
      "21   2025-09-01         12685              1028\n",
      "22   2025-09-02         12672              1039\n",
      "23   2025-09-03         12777              1035\n",
      "24   2025-09-04         13683              1007\n",
      "25   2025-09-05         15324              1030\n",
      "26   2025-09-06         13078              1023\n",
      "27   2025-09-07         12367              1069\n",
      "28   2025-09-08         11826              1009\n",
      "29   2025-09-09         11780               980\n",
      "30   2025-09-10         12526              1015\n",
      "31   2025-09-11          8623               824\n",
      "32   2025-09-12          6436               669\n",
      "33   2025-09-13          5183               537\n",
      "34   2025-09-14          4364               440\n",
      "35   2025-09-15          3698               383\n",
      "36   2025-09-16          3032               286\n",
      "37   2025-09-17          2548               272\n",
      "38   2025-09-18          1952               201\n",
      "39   2025-09-19          1418               132\n",
      "40   2025-09-20          1100               107\n",
      "41   2025-09-21           776                87\n",
      "42   2025-09-22           546                68\n",
      "43   2025-09-23           317                32\n"
     ]
    }
   ],
   "source": [
    "# Сгруппируем по дате\n",
    "agg_sessions_history = sessions_history.groupby('session_date').agg(\n",
    "    unique_users=('user_id', 'nunique'),\n",
    "    registered_users=('registration_flag', 'sum')\n",
    ").reset_index()\n",
    "\n",
    "print(agg_sessions_history)"
   ]
  },
  {
   "cell_type": "code",
   "execution_count": null,
   "metadata": {},
   "outputs": [
    {
     "data": {
      "image/png": "[encoded data removed]",
      "text/plain": [
       "<Figure size 720x360 with 1 Axes>"
      ]
     },
     "metadata": {
      "needs_background": "light"
     },
     "output_type": "display_data"
    }
   ],
   "source": [
    "# Строим график общего числа пользователей и общего числа зарегистрированных пользователей по дням\n",
    "plt.figure(figsize=(10, 5))\n",
    "plt.plot(agg_sessions_history['session_date'], agg_sessions_history['unique_users'], marker='o', label='Все пользователи')\n",
    "plt.plot(agg_sessions_history['session_date'], agg_sessions_history['registered_users'], marker='s', label='Зарегистрированные пользователи')\n",
    "\n",
    "plt.title('Динамика пользователей по дням')\n",
    "plt.xlabel('Дата сессии')\n",
    "plt.ylabel('Количество пользователей')\n",
    "plt.legend()\n",
    "plt.grid(True)\n",
    "plt.xticks(rotation=45)\n",
    "\n",
    "plt.tight_layout()\n",
    "plt.show()"
   ]
  },
  {
   "cell_type": "code",
   "execution_count": null,
   "metadata": {},
   "outputs": [
    {
     "data": {
      "image/png": "[encoded data removed]",
      "text/plain": [
       "<Figure size 720x360 with 1 Axes>"
      ]
     },
     "metadata": {
      "needs_background": "light"
     },
     "output_type": "display_data"
    }
   ],
   "source": [
    "# Построим отдельный график доли зарегистрированных пользователей от всех пользователей по дням\n",
    "# Рассчитаем долю зарегистрированных пользователей\n",
    "agg_sessions_history['registered_share'] = agg_sessions_history['registered_users'] / agg_sessions_history['unique_users']\n",
    "\n",
    "# График\n",
    "plt.figure(figsize=(10, 5))\n",
    "plt.plot(agg_sessions_history['session_date'], agg_sessions_history['registered_share'], marker='o', color='green', label='Доля зарегистрированных')\n",
    "\n",
    "\n",
    "plt.title('Доля зарегистрированных пользователей по дням')\n",
    "plt.xlabel('Дата сессии')\n",
    "plt.ylabel('Доля зарегистрированных')\n",
    "plt.ylim(0, 1.05)  # ограничим ось Y от 0 до 1\n",
    "plt.grid(True)\n",
    "plt.xticks(rotation=45)\n",
    "plt.legend()\n",
    "\n",
    "plt.tight_layout()\n",
    "plt.show()"
   ]
  },
  {
   "cell_type": "markdown",
   "metadata": {},
   "source": [
    "- Зарегистрированных пользователей намного меньше, чем незарегистрированных, более того, их количество не растет со временем, а снижается."
   ]
  },
  {
   "cell_type": "markdown",
   "metadata": {
    "id": "UR7D7RhF0eMr"
   },
   "source": [
    "#### 1.4. Анализ числа просмотренных страниц\n"
   ]
  },
  {
   "cell_type": "code",
   "execution_count": null,
   "metadata": {
    "id": "cb6hPlVzPaSf"
   },
   "outputs": [
    {
     "name": "stdout",
     "output_type": "stream",
     "text": [
      "   page_counter  session_id\n",
      "0             1       29160\n",
      "1             2      105536\n",
      "2             3      166690\n",
      "3             4      105569\n",
      "4             5       26288\n",
      "5             6        2589\n",
      "6             7          92\n"
     ]
    }
   ],
   "source": [
    "#Найдем количество сессий для каждого значения количества просмотренных страниц\n",
    "sessions_count = sessions_history.groupby('page_counter')['session_id'].count().reset_index()\n",
    "print(sessions_count)"
   ]
  },
  {
   "cell_type": "code",
   "execution_count": null,
   "metadata": {},
   "outputs": [
    {
     "data": {
      "text/plain": [
       "<function matplotlib.pyplot.show(close=None, block=None)>"
      ]
     },
     "execution_count": 11,
     "metadata": {},
     "output_type": "execute_result"
    },
    {
     "data": {
      "image/png": "[encoded data removed]",
      "text/plain": [
       "<Figure size 720x360 with 1 Axes>"
      ]
     },
     "metadata": {
      "needs_background": "light"
     },
     "output_type": "display_data"
    }
   ],
   "source": [
    "plt.figure(figsize=(10,5))\n",
    "plt.bar(sessions_count['page_counter'], sessions_count['session_id'])\n",
    "plt.xlabel('Число просмотренных страниц')\n",
    "plt.ylabel('Количество сессий')\n",
    "plt.title('Распределение количества сессий по числу просмотренных страниц')\n",
    "plt.show"
   ]
  },
  {
   "cell_type": "markdown",
   "metadata": {},
   "source": [
    "- Страница номер 3 - лидер по просмотрам страниц, а страницы 2 и 4 имеют одинаковое распределение."
   ]
  },
  {
   "cell_type": "markdown",
   "metadata": {
    "id": "xDltSpVP0eMr"
   },
   "source": [
    "#### 1.5. Доля пользователей, просмотревших более четырёх страниц"
   ]
  },
  {
   "cell_type": "code",
   "execution_count": null,
   "metadata": {
    "id": "iygaPfixPYMW"
   },
   "outputs": [],
   "source": [
    "#Создадим столбец good_session\n",
    "# Успешная сессия — 1, если просмотрено ≥ 4 страниц, иначе 0\n",
    "sessions_history['good_session'] = (sessions_history['page_counter'] >= 4).astype(int)"
   ]
  },
  {
   "cell_type": "code",
   "execution_count": null,
   "metadata": {},
   "outputs": [],
   "source": [
    "# Группировка по дате и расчёт средней доли good_session\n",
    "daily_good_sessions = sessions_history.groupby('session_date').agg(\n",
    "    good_share=('good_session', 'mean')\n",
    ").reset_index()"
   ]
  },
  {
   "cell_type": "code",
   "execution_count": null,
   "metadata": {},
   "outputs": [
    {
     "data": {
      "image/png": "[encoded data removed]",
      "text/plain": [
       "<Figure size 720x360 with 1 Axes>"
      ]
     },
     "metadata": {
      "needs_background": "light"
     },
     "output_type": "display_data"
    }
   ],
   "source": [
    "plt.figure(figsize=(10, 5))\n",
    "plt.plot(daily_good_sessions['session_date'], daily_good_sessions['good_share'])\n",
    "\n",
    "plt.title('Доля успешных сессий по дням')\n",
    "plt.xlabel('Дата сессии')\n",
    "plt.ylabel('Доля успешных сессий')\n",
    "plt.grid(False)\n",
    "\n",
    "plt.tight_layout()\n",
    "plt.show()"
   ]
  },
  {
   "cell_type": "markdown",
   "metadata": {},
   "source": [
    "- График хорошо показывает, что доля успешных сессий стремительно сокращается в последнее время"
   ]
  },
  {
   "cell_type": "markdown",
   "metadata": {},
   "source": [
    "### 1) Промежуточные выводы\n",
    "- Пользователи чаще всего пользуются приложением, не регистрируясь в нем. \n",
    "- Доля активных пользователей относительна стабильна, однако доля пользователей, которые просмотрели 4 или более страниц за одну сессию стремительно уменьшается. \n",
    "- В среднем пользователи смотрят 3 страницы за сессию, это так же подтверждает то, что при подсчете количества сессий для каждого значения количества просмотренных страниц - 166690 самое большое число (3 страницы)."
   ]
  },
  {
   "cell_type": "markdown",
   "metadata": {
    "id": "21JcG77Y0eMt"
   },
   "source": [
    "### 2. Подготовка к тесту"
   ]
  },
  {
   "cell_type": "markdown",
   "metadata": {
    "id": "uzaeln270eMt"
   },
   "source": [
    "#### 2.1. Расчёт размера выборки"
   ]
  },
  {
   "cell_type": "code",
   "execution_count": null,
   "metadata": {
    "id": "zSxJyPGPNdaI"
   },
   "outputs": [
    {
     "name": "stdout",
     "output_type": "stream",
     "text": [
      "Необходимый размер выборки для каждой группы: 17441\n"
     ]
    }
   ],
   "source": [
    "from statsmodels.stats.power import NormalIndPower\n",
    "\n",
    "# Задаём параметры\n",
    "alpha = 0.05  # Уровень значимости\n",
    "beta = 0.2  # Ошибка второго рода, часто 1 - мощность\n",
    "power = 0.8  # Мощность теста\n",
    "mde = 0.03  # Минимальный детектируемый эффект\n",
    "\n",
    "# Инициализируем класс NormalIndPower\n",
    "power_analysis = NormalIndPower()\n",
    "\n",
    "# Рассчитываем размер выборки\n",
    "sample_size = power_analysis.solve_power(\n",
    "    effect_size = mde,\n",
    "    power = power,\n",
    "    alpha = alpha,\n",
    "    ratio = 1 # Равномерное распределение выборок\n",
    ")\n",
    "\n",
    "print(f\"Необходимый размер выборки для каждой группы: {int(sample_size)}\")"
   ]
  },
  {
   "cell_type": "markdown",
   "metadata": {
    "id": "qLEv4RoV0eMu"
   },
   "source": [
    "#### 2.1. Расчёт длительности A/B-теста"
   ]
  },
  {
   "cell_type": "code",
   "execution_count": null,
   "metadata": {
    "id": "KZDRbryDOGHa"
   },
   "outputs": [
    {
     "name": "stdout",
     "output_type": "stream",
     "text": [
      "Рассчитанная длительность A/B-теста при текущем уровене трафика в 9908 пользователей в день составит 2 дней\n"
     ]
    }
   ],
   "source": [
    "from math import ceil\n",
    "\n",
    "# Среднее количество пользователей приложения в день по историческим данным\n",
    "avg_daily_users = ceil(sessions_history.groupby('session_date')['user_id'].nunique().mean()) #ceil для округления в бОльшую сторону, потому что для рассчета людей нужно целое\n",
    "\n",
    "# Рассчитываем длительность теста в днях как отношение размера выборки к среднему числу пользователей\n",
    "test_duration = ceil((sample_size / avg_daily_users))\n",
    "\n",
    "print(f\"Рассчитанная длительность A/B-теста при текущем уровене трафика в {avg_daily_users} пользователей в день составит {test_duration} дней\")"
   ]
  },
  {
   "cell_type": "markdown",
   "metadata": {},
   "source": [
    "### 2) Промежуточные выводы\n",
    "- Необходимый размер выборки для каждой группы: 17441\n",
    "- Длительность теста составит 2 дня\n",
    "- Будут протестированы 9908 пользователей в день"
   ]
  },
  {
   "cell_type": "markdown",
   "metadata": {
    "id": "ZuvtAdha0eMv"
   },
   "source": [
    "### 3. Мониторинг А/В-теста"
   ]
  },
  {
   "cell_type": "markdown",
   "metadata": {
    "id": "jq5sE3Ya0eMv"
   },
   "source": [
    "#### 3.1. Проверка распределения пользователей\n",
    "\n",
    "Формула для расчёта процентной разницы:\n",
    "$$P = 100 \\cdot  \\frac{|A − B|}{A}$$"
   ]
  },
  {
   "cell_type": "code",
   "execution_count": null,
   "metadata": {
    "id": "G1bqIzDJOUiz"
   },
   "outputs": [],
   "source": [
    "sessions_test_part = pd.read_csv('https://code.s3.yandex.net/datasets/sessions_project_test_part.csv')"
   ]
  },
  {
   "cell_type": "code",
   "execution_count": null,
   "metadata": {},
   "outputs": [
    {
     "name": "stdout",
     "output_type": "stream",
     "text": [
      "Количество уникальных пользователей по экспериментальным группам за 2025-10-14:\n",
      "  test_group  user_id\n",
      "0          A     1477\n",
      "1          B     1466\n"
     ]
    }
   ],
   "source": [
    "# Рассчиатем количество уникальных пользователей в каждой из экспериментальных групп для одного дня наблюдения\n",
    "unique_users_per_group = sessions_test_part.groupby('test_group')['user_id'].nunique().reset_index()\n",
    "\n",
    "print(\"Количество уникальных пользователей по экспериментальным группам за 2025-10-14:\")\n",
    "print(unique_users_per_group)"
   ]
  },
  {
   "cell_type": "code",
   "execution_count": null,
   "metadata": {},
   "outputs": [
    {
     "name": "stdout",
     "output_type": "stream",
     "text": [
      "Процентная разница в количестве пользователей между группами A и B: 0.74%\n"
     ]
    }
   ],
   "source": [
    "# Получим количество пользователей в группах A и B\n",
    "users_A = unique_users_per_group.loc[unique_users_per_group['test_group'] == 'A', 'user_id'].values[0]\n",
    "users_B = unique_users_per_group.loc[unique_users_per_group['test_group'] == 'B', 'user_id'].values[0]\n",
    "\n",
    "# Рассчитаем процентную разницу по формуле\n",
    "P = 100 * (abs(users_A - users_B) / users_A) #abs для модуля в формуле\n",
    "\n",
    "print(f\"Процентная разница в количестве пользователей между группами A и B: {P:.2f}%\")"
   ]
  },
  {
   "cell_type": "markdown",
   "metadata": {
    "id": "sgpNY5bv0eM0"
   },
   "source": [
    "#### 3.2. Проверка пересечений пользователей"
   ]
  },
  {
   "cell_type": "code",
   "execution_count": null,
   "metadata": {
    "id": "E72ozN9FOX1u"
   },
   "outputs": [
    {
     "name": "stdout",
     "output_type": "stream",
     "text": [
      "Пользователи в группах A и B не пересекаются — группы независимы.\n"
     ]
    }
   ],
   "source": [
    "# Получаем множества пользователей каждой группы\n",
    "users_A = set(sessions_test_part.loc[sessions_test_part['test_group'] == 'A', 'user_id'])\n",
    "users_B = set(sessions_test_part.loc[sessions_test_part['test_group'] == 'B', 'user_id'])\n",
    "\n",
    "# Находим пересечение множеств — пользователей в обеих группах\n",
    "common_users = users_A.intersection(users_B)\n",
    "\n",
    "# Выводим результат\n",
    "if len(common_users) == 0:\n",
    "    print(\"Пользователи в группах A и B не пересекаются — группы независимы.\")\n",
    "else:\n",
    "    print(f\"В группах A и B одновременно встречаются {len(common_users)} пользователей:\")\n",
    "    print(common_users)"
   ]
  },
  {
   "cell_type": "markdown",
   "metadata": {
    "id": "6RvkNLrg0eM1"
   },
   "source": [
    "#### 3.3. Равномерность разделения пользователей по устройствам\n",
    "\n"
   ]
  },
  {
   "cell_type": "code",
   "execution_count": null,
   "metadata": {
    "id": "x_IP6PUNPWHC"
   },
   "outputs": [],
   "source": [
    "group_A = sessions_test_part[sessions_test_part['test_group'] == 'A']\n",
    "group_B = sessions_test_part[sessions_test_part['test_group'] == 'B']"
   ]
  },
  {
   "cell_type": "code",
   "execution_count": null,
   "metadata": {},
   "outputs": [],
   "source": [
    "# Доли типов устройств\n",
    "device_share_A = group_A['device'].value_counts(normalize=True).sort_values(ascending=False)\n",
    "device_share_B = group_B['device'].value_counts(normalize=True).sort_values(ascending=False)"
   ]
  },
  {
   "cell_type": "code",
   "execution_count": null,
   "metadata": {
    "id": "3hAq-FG4OdYM"
   },
   "outputs": [
    {
     "data": {
      "image/png": "[encoded data removed]",
      "text/plain": [
       "<Figure size 864x360 with 2 Axes>"
      ]
     },
     "metadata": {
      "needs_background": "light"
     },
     "output_type": "display_data"
    }
   ],
   "source": [
    "fig, axes = plt.subplots(1, 2, figsize=(12, 5), sharey=True)\n",
    "\n",
    "device_share_A.plot(kind='bar', ax=axes[0], color='skyblue')\n",
    "axes[0].set_title('Группа A: Доля типов устройств')\n",
    "axes[0].set_ylabel('Доля пользователей')\n",
    "axes[0].set_ylim(0, 1)\n",
    "\n",
    "device_share_B.plot(kind='bar', ax=axes[1], color='green')\n",
    "axes[1].set_title('Группа B: Доля типов устройств')\n",
    "axes[1].set_ylim(0, 1)\n",
    "\n",
    "plt.suptitle('Распределение типов устройств в группах A и B')\n",
    "plt.tight_layout()\n",
    "plt.show()"
   ]
  },
  {
   "cell_type": "code",
   "execution_count": null,
   "metadata": {},
   "outputs": [
    {
     "name": "stdout",
     "output_type": "stream",
     "text": [
      "Доли устройств в группе A:\n",
      "Android    0.436751\n",
      "PC         0.252330\n",
      "iPhone     0.204394\n",
      "Mac        0.106525\n",
      "Name: device, dtype: float64\n",
      "\n",
      "Доли устройств в группе B:\n",
      "Android    0.444103\n",
      "PC         0.246929\n",
      "iPhone     0.187961\n",
      "Mac        0.121007\n",
      "Name: device, dtype: float64\n"
     ]
    }
   ],
   "source": [
    "# Графики получились почти одинаковыми, проверим, правильно ли они составлены на числах\n",
    "print(\"Доли устройств в группе A:\")\n",
    "print(device_share_A)\n",
    "\n",
    "print(\"\\nДоли устройств в группе B:\")\n",
    "print(device_share_B)"
   ]
  },
  {
   "cell_type": "markdown",
   "metadata": {},
   "source": [
    "- На графиках мы видим, что доли почти одинаковы, однако если смотреть на числа, то можно увидеть небольшую разницу"
   ]
  },
  {
   "cell_type": "markdown",
   "metadata": {
    "id": "X2WSZ-sDrSUi"
   },
   "source": [
    "#### 3.5. Вывод после проверки A/B-теста\n"
   ]
  },
  {
   "cell_type": "markdown",
   "metadata": {
    "id": "dDELHlAcOi8d"
   },
   "source": [
    "### 3) Промежуточные выводы\n",
    "- Процентная разница в количестве пользователей между группами A и B составила 0.74%. В группе А было на 11 пользователей больше,\n",
    "- Пользователи в группах A и B не пересекаются — группы независимы,\n",
    "- Равномерное распределение пользователей тестовой и контрольной групп по категориальным переменным сохраняется, значительные различия не наблюдаются.\n",
    "\n",
    "A/B-тест проходит корректно, потому что группы разделены равномерно и пользователи двух групп не пересекаются."
   ]
  },
  {
   "cell_type": "markdown",
   "metadata": {
    "id": "nudRr_BQ0eM2"
   },
   "source": [
    "### 4. Проверка результатов A/B-теста\n"
   ]
  },
  {
   "cell_type": "markdown",
   "metadata": {
    "id": "JVve-YBB0eM2"
   },
   "source": [
    "#### 4.1. Получение результатов теста и подсчёт основной метрики\n"
   ]
  },
  {
   "cell_type": "code",
   "execution_count": null,
   "metadata": {
    "id": "EqRlwMtKPTir"
   },
   "outputs": [],
   "source": [
    "sessions_test = pd.read_csv('https://code.s3.yandex.net/datasets/sessions_project_test.csv')"
   ]
  },
  {
   "cell_type": "code",
   "execution_count": null,
   "metadata": {},
   "outputs": [],
   "source": [
    "#Создадим столбец good_session\n",
    "# Успешная сессия — 1, если просмотрено ≥ 4 страниц, иначе 0\n",
    "sessions_test['good_session'] = (sessions_test['page_counter'] >= 4).astype(int)"
   ]
  },
  {
   "cell_type": "code",
   "execution_count": null,
   "metadata": {},
   "outputs": [
    {
     "data": {
      "text/html": [
       "<div>\n",
       "<style scoped>\n",
       "    .dataframe tbody tr th:only-of-type {\n",
       "        vertical-align: middle;\n",
       "    }\n",
       "\n",
       "    .dataframe tbody tr th {\n",
       "        vertical-align: top;\n",
       "    }\n",
       "\n",
       "    .dataframe thead th {\n",
       "        text-align: right;\n",
       "    }\n",
       "</style>\n",
       "<table border=\"1\" class=\"dataframe\">\n",
       "  <thead>\n",
       "    <tr style=\"text-align: right;\">\n",
       "      <th></th>\n",
       "      <th>user_id</th>\n",
       "      <th>session_id</th>\n",
       "      <th>session_date</th>\n",
       "      <th>session_start_ts</th>\n",
       "      <th>install_date</th>\n",
       "      <th>session_number</th>\n",
       "      <th>registration_flag</th>\n",
       "      <th>page_counter</th>\n",
       "      <th>region</th>\n",
       "      <th>device</th>\n",
       "      <th>test_group</th>\n",
       "      <th>good_session</th>\n",
       "    </tr>\n",
       "  </thead>\n",
       "  <tbody>\n",
       "    <tr>\n",
       "      <th>0</th>\n",
       "      <td>6DAE3B3654DA738E</td>\n",
       "      <td>C69249E26E58F6E2</td>\n",
       "      <td>2025-10-26</td>\n",
       "      <td>2025-10-26 18:15:05</td>\n",
       "      <td>2025-10-16</td>\n",
       "      <td>3</td>\n",
       "      <td>0</td>\n",
       "      <td>3</td>\n",
       "      <td>MENA</td>\n",
       "      <td>Android</td>\n",
       "      <td>A</td>\n",
       "      <td>0</td>\n",
       "    </tr>\n",
       "    <tr>\n",
       "      <th>1</th>\n",
       "      <td>0A3FE5D1DD59110A</td>\n",
       "      <td>66D66D7C9F5181B7</td>\n",
       "      <td>2025-10-21</td>\n",
       "      <td>2025-10-21 17:04:53</td>\n",
       "      <td>2025-10-15</td>\n",
       "      <td>2</td>\n",
       "      <td>1</td>\n",
       "      <td>2</td>\n",
       "      <td>CIS</td>\n",
       "      <td>Android</td>\n",
       "      <td>B</td>\n",
       "      <td>0</td>\n",
       "    </tr>\n",
       "    <tr>\n",
       "      <th>2</th>\n",
       "      <td>2041F1D7AA740B88</td>\n",
       "      <td>50DE51D42215E74C</td>\n",
       "      <td>2025-10-23</td>\n",
       "      <td>2025-10-23 17:39:29</td>\n",
       "      <td>2025-10-19</td>\n",
       "      <td>3</td>\n",
       "      <td>0</td>\n",
       "      <td>2</td>\n",
       "      <td>MENA</td>\n",
       "      <td>Android</td>\n",
       "      <td>A</td>\n",
       "      <td>0</td>\n",
       "    </tr>\n",
       "    <tr>\n",
       "      <th>3</th>\n",
       "      <td>43D7585009168086</td>\n",
       "      <td>5763C0C353C22263</td>\n",
       "      <td>2025-10-24</td>\n",
       "      <td>2025-10-24 15:01:57</td>\n",
       "      <td>2025-10-18</td>\n",
       "      <td>4</td>\n",
       "      <td>0</td>\n",
       "      <td>1</td>\n",
       "      <td>CIS</td>\n",
       "      <td>iPhone</td>\n",
       "      <td>B</td>\n",
       "      <td>0</td>\n",
       "    </tr>\n",
       "    <tr>\n",
       "      <th>4</th>\n",
       "      <td>15AD68B14D62D88C</td>\n",
       "      <td>B1AD09F93C1053BC</td>\n",
       "      <td>2025-10-17</td>\n",
       "      <td>2025-10-17 17:34:39</td>\n",
       "      <td>2025-10-17</td>\n",
       "      <td>1</td>\n",
       "      <td>0</td>\n",
       "      <td>2</td>\n",
       "      <td>MENA</td>\n",
       "      <td>Android</td>\n",
       "      <td>B</td>\n",
       "      <td>0</td>\n",
       "    </tr>\n",
       "  </tbody>\n",
       "</table>\n",
       "</div>"
      ],
      "text/plain": [
       "            user_id        session_id session_date     session_start_ts  \\\n",
       "0  6DAE3B3654DA738E  C69249E26E58F6E2   2025-10-26  2025-10-26 18:15:05   \n",
       "1  0A3FE5D1DD59110A  66D66D7C9F5181B7   2025-10-21  2025-10-21 17:04:53   \n",
       "2  2041F1D7AA740B88  50DE51D42215E74C   2025-10-23  2025-10-23 17:39:29   \n",
       "3  43D7585009168086  5763C0C353C22263   2025-10-24  2025-10-24 15:01:57   \n",
       "4  15AD68B14D62D88C  B1AD09F93C1053BC   2025-10-17  2025-10-17 17:34:39   \n",
       "\n",
       "  install_date  session_number  registration_flag  page_counter region  \\\n",
       "0   2025-10-16               3                  0             3   MENA   \n",
       "1   2025-10-15               2                  1             2    CIS   \n",
       "2   2025-10-19               3                  0             2   MENA   \n",
       "3   2025-10-18               4                  0             1    CIS   \n",
       "4   2025-10-17               1                  0             2   MENA   \n",
       "\n",
       "    device test_group  good_session  \n",
       "0  Android          A             0  \n",
       "1  Android          B             0  \n",
       "2  Android          A             0  \n",
       "3   iPhone          B             0  \n",
       "4  Android          B             0  "
      ]
     },
     "execution_count": 27,
     "metadata": {},
     "output_type": "execute_result"
    }
   ],
   "source": [
    "sessions_test.head()"
   ]
  },
  {
   "cell_type": "markdown",
   "metadata": {
    "id": "aeYhrMYy0eM2"
   },
   "source": [
    "#### 4.2. Проверка корректности результатов теста\n"
   ]
  },
  {
   "cell_type": "code",
   "execution_count": null,
   "metadata": {
    "id": "5NUlcltkTTSU"
   },
   "outputs": [
    {
     "name": "stdout",
     "output_type": "stream",
     "text": [
      "   session_date test_group  session_id\n",
      "0    2025-10-14          A        1502\n",
      "1    2025-10-14          B        1628\n",
      "2    2025-10-15          A        2235\n",
      "3    2025-10-15          B        2283\n",
      "4    2025-10-16          A        3280\n",
      "5    2025-10-16          B        3241\n",
      "6    2025-10-17          A        4089\n",
      "7    2025-10-17          B        4054\n",
      "8    2025-10-18          A        5013\n",
      "9    2025-10-18          B        5059\n",
      "10   2025-10-19          A        6535\n",
      "11   2025-10-19          B        6779\n",
      "12   2025-10-20          A        5837\n",
      "13   2025-10-20          B        6089\n",
      "14   2025-10-21          A        3927\n",
      "15   2025-10-21          B        3981\n",
      "16   2025-10-22          A        3083\n",
      "17   2025-10-22          B        3111\n",
      "18   2025-10-23          A        2470\n",
      "19   2025-10-23          B        2548\n",
      "20   2025-10-24          A        2090\n",
      "21   2025-10-24          B        2068\n",
      "22   2025-10-25          A        1897\n",
      "23   2025-10-25          B        1814\n",
      "24   2025-10-26          A        1669\n",
      "25   2025-10-26          B        1692\n",
      "26   2025-10-27          A        1454\n",
      "27   2025-10-27          B        1517\n",
      "28   2025-10-28          A        1279\n",
      "29   2025-10-28          B        1289\n",
      "30   2025-10-29          A        1068\n",
      "31   2025-10-29          B        1131\n",
      "32   2025-10-30          A         887\n",
      "33   2025-10-30          B         876\n",
      "34   2025-10-31          A         644\n",
      "35   2025-10-31          B         669\n",
      "36   2025-11-01          A         434\n",
      "37   2025-11-01          B         465\n",
      "38   2025-11-02          A         158\n",
      "39   2025-11-02          B         160\n"
     ]
    }
   ],
   "source": [
    "users_per_group = sessions_test.groupby(['session_date','test_group'])['session_id'].nunique().reset_index()\n",
    "print(users_per_group)"
   ]
  },
  {
   "cell_type": "code",
   "execution_count": null,
   "metadata": {},
   "outputs": [
    {
     "name": "stdout",
     "output_type": "stream",
     "text": [
      "pvalue=0.8817307917391243>0.05\n",
      "Количество уникальных дневных сессий в двух выборках не различается или различия не статистически значимы\n"
     ]
    }
   ],
   "source": [
    "#Применим тест Манна-Уитни\n",
    "#Нулевая гипотеза: Различий нет, Альтернативная гипотеза: различия есть\n",
    "from scipy.stats import mannwhitneyu\n",
    "\n",
    "a = users_per_group[users_per_group['test_group'] == 'A']['session_id']\n",
    "b = users_per_group[users_per_group['test_group'] == 'B']['session_id']\n",
    "\n",
    "alpha = 0.05\n",
    "mw_test = mannwhitneyu(\n",
    "    a,\n",
    "    b,\n",
    "    alternative ='two-sided')\n",
    "\n",
    "if mw_test.pvalue > alpha:\n",
    "    print(f'pvalue={mw_test.pvalue}>{alpha}')\n",
    "    print('Количество уникальных дневных сессий в двух выборках не различается или различия не статистически значимы')\n",
    "\n",
    "else:\n",
    "    print(f'pvalue={mw_test.pvalue}<{alpha}')\n",
    "    print('Количество уникальных дневных сессий в двух выборках различается')"
   ]
  },
  {
   "cell_type": "markdown",
   "metadata": {
    "id": "7kwRxzg70eM3"
   },
   "source": [
    "#### 4.3. Сравнение доли успешных сессий\n"
   ]
  },
  {
   "cell_type": "code",
   "execution_count": null,
   "metadata": {
    "id": "Uku-V1CpPRCz"
   },
   "outputs": [
    {
     "name": "stdout",
     "output_type": "stream",
     "text": [
      "test_group\n",
      "A    0.307723\n",
      "B    0.318290\n",
      "Name: good_session, dtype: float64\n"
     ]
    }
   ],
   "source": [
    "group_good_share = sessions_test.groupby('test_group')['good_session'].mean()\n",
    "print(group_good_share)"
   ]
  },
  {
   "cell_type": "code",
   "execution_count": null,
   "metadata": {},
   "outputs": [
    {
     "name": "stdout",
     "output_type": "stream",
     "text": [
      "Доля успешных сессий в группе A: 30.77%\n",
      "Доля успешных сессий в группе B: 31.83%\n",
      "Разница в долях (B - A): 1.06%\n"
     ]
    }
   ],
   "source": [
    "# Найдем разницу значений\n",
    "share_A = group_good_share.get('A', 0)\n",
    "share_B = group_good_share.get('B', 0)\n",
    "\n",
    "diff = share_B - share_A\n",
    "\n",
    "print(f\"Доля успешных сессий в группе A: {share_A:.2%}\")\n",
    "print(f\"Доля успешных сессий в группе B: {share_B:.2%}\")\n",
    "print(f\"Разница в долях (B - A): {diff:.2%}\")"
   ]
  },
  {
   "cell_type": "markdown",
   "metadata": {},
   "source": [
    "**Разница составляет 1.06%. Доля успешных сессий в группе В больше, чем в группе А**"
   ]
  },
  {
   "cell_type": "markdown",
   "metadata": {
    "id": "9fMFuja10eM4"
   },
   "source": [
    "#### 4.4. Насколько статистически значимо изменение ключевой метрики\n"
   ]
  },
  {
   "cell_type": "code",
   "execution_count": null,
   "metadata": {
    "id": "gFvhRGwlPLS0"
   },
   "outputs": [
    {
     "name": "stdout",
     "output_type": "stream",
     "text": [
      "p-value: 0.000315\n",
      "Разница статистически значима (p < 0.05)\n"
     ]
    }
   ],
   "source": [
    "# Разделим данные на группы\n",
    "group_A = sessions_test[sessions_test['test_group'] == 'A']['good_session']\n",
    "group_B = sessions_test[sessions_test['test_group'] == 'B']['good_session']\n",
    "\n",
    "# Применим тест Манна-Уитни\n",
    "alpha = 0.05\n",
    "mw_test = mannwhitneyu(\n",
    "    group_A,\n",
    "    group_B,\n",
    "    alternative ='two-sided')\n",
    "\n",
    "print(f'p-value: {mw_test.pvalue:.4}') #Сократим до 4 знаков после запятой\n",
    "\n",
    "if mw_test.pvalue < alpha:\n",
    "    print(f'Разница статистически значима (p < {alpha})')\n",
    "else:\n",
    "    print(f'Нет статистически значимой разницы (p >= {alpha})')"
   ]
  },
  {
   "cell_type": "markdown",
   "metadata": {
    "id": "GnJrkY9Q63zS"
   },
   "source": [
    "#### 4.5. Вывод по результатам A/B-эксперимента\n"
   ]
  },
  {
   "cell_type": "markdown",
   "metadata": {
    "id": "rri8KRIgPMrW"
   },
   "source": [
    "### 4) Вывод по результатам эксперимента\n",
    "**Характеристики**\n",
    "- Тип: А/В\n",
    "- Цель: оценить новый алгоритм рекомендаций\n",
    "- Длительность: 2 дня\n",
    "- Количество задействованных пользователей: 9908/день\n",
    "\n",
    "**Влияние нового алгоритма рекомендаций на рост ключевой метрики**\n",
    "- В тестовой группе B доля успешных сессий оказалась на 1.06% выше, чем в контрольной группе A\n",
    "- Это свидетельствует о положительном эффекте от внедрения нового алгоритма\n",
    "\n",
    "**Статистическая значимость результата**\n",
    "- Полученное значение p-value = 0.000315\n",
    "\n",
    "**Рекомендация**\n",
    "- Нарушений в данных нет\n",
    "- Разница в метрике статистически значима\n",
    "- Направление эффекта положительное (рост успешных сессий в группе В)\n",
    "- Вывод: Рекомендуется внедрить новый алгоритм рекомендаций в приложение"
   ]
  }
 ],
 "metadata": {
  "ExecuteTimeLog": [
   {
    "duration": 377,
    "start_time": "2025-05-22T09:35:07.918Z"
   },
   {
    "duration": 2952,
    "start_time": "2025-05-22T09:36:59.476Z"
   },
   {
    "duration": 17,
    "start_time": "2025-05-22T09:37:16.585Z"
   },
   {
    "duration": 541,
    "start_time": "2025-05-22T09:38:57.768Z"
   },
   {
    "duration": 560,
    "start_time": "2025-05-22T09:39:04.679Z"
   },
   {
    "duration": 40,
    "start_time": "2025-05-22T09:41:41.338Z"
   },
   {
    "duration": 34,
    "start_time": "2025-05-22T09:43:31.008Z"
   },
   {
    "duration": 230,
    "start_time": "2025-05-22T09:55:37.940Z"
   },
   {
    "duration": 169,
    "start_time": "2025-05-22T09:55:43.542Z"
   },
   {
    "duration": 9,
    "start_time": "2025-05-22T09:57:57.257Z"
   },
   {
    "duration": 414,
    "start_time": "2025-05-22T09:58:53.278Z"
   },
   {
    "duration": 188,
    "start_time": "2025-05-22T09:58:54.792Z"
   },
   {
    "duration": 796,
    "start_time": "2025-05-22T09:58:55.401Z"
   },
   {
    "duration": 694,
    "start_time": "2025-05-22T10:01:31.490Z"
   },
   {
    "duration": 724,
    "start_time": "2025-05-22T10:06:07.651Z"
   },
   {
    "duration": 643,
    "start_time": "2025-05-22T10:06:31.899Z"
   },
   {
    "duration": 408,
    "start_time": "2025-05-22T10:14:21.662Z"
   },
   {
    "duration": 1621,
    "start_time": "2025-05-22T10:14:22.072Z"
   },
   {
    "duration": 17,
    "start_time": "2025-05-22T10:14:23.694Z"
   },
   {
    "duration": 545,
    "start_time": "2025-05-22T10:14:23.713Z"
   },
   {
    "duration": 35,
    "start_time": "2025-05-22T10:14:24.259Z"
   },
   {
    "duration": 272,
    "start_time": "2025-05-22T10:14:24.295Z"
   },
   {
    "duration": 183,
    "start_time": "2025-05-22T10:14:24.569Z"
   },
   {
    "duration": 713,
    "start_time": "2025-05-22T10:14:24.757Z"
   },
   {
    "duration": 651,
    "start_time": "2025-05-22T10:14:25.471Z"
   },
   {
    "duration": 610,
    "start_time": "2025-05-22T10:14:26.124Z"
   },
   {
    "duration": 0,
    "start_time": "2025-05-22T10:14:26.735Z"
   },
   {
    "duration": 432,
    "start_time": "2025-05-25T10:36:39.444Z"
   },
   {
    "duration": 1954,
    "start_time": "2025-05-25T10:36:39.877Z"
   },
   {
    "duration": 16,
    "start_time": "2025-05-25T10:36:41.832Z"
   },
   {
    "duration": 479,
    "start_time": "2025-05-25T10:36:41.849Z"
   },
   {
    "duration": 40,
    "start_time": "2025-05-25T10:36:42.329Z"
   },
   {
    "duration": 224,
    "start_time": "2025-05-25T10:36:42.370Z"
   },
   {
    "duration": 161,
    "start_time": "2025-05-25T10:36:42.596Z"
   },
   {
    "duration": 663,
    "start_time": "2025-05-25T10:36:42.759Z"
   },
   {
    "duration": 623,
    "start_time": "2025-05-25T10:36:43.424Z"
   },
   {
    "duration": 40,
    "start_time": "2025-05-25T10:36:44.050Z"
   },
   {
    "duration": 159,
    "start_time": "2025-05-25T10:36:44.091Z"
   },
   {
    "duration": 13,
    "start_time": "2025-05-25T10:36:44.252Z"
   },
   {
    "duration": 59,
    "start_time": "2025-05-25T10:36:44.268Z"
   },
   {
    "duration": 676,
    "start_time": "2025-05-25T10:36:44.329Z"
   },
   {
    "duration": 455,
    "start_time": "2025-05-25T10:36:45.006Z"
   },
   {
    "duration": 157,
    "start_time": "2025-05-25T10:36:45.463Z"
   },
   {
    "duration": 55,
    "start_time": "2025-05-25T10:36:45.622Z"
   },
   {
    "duration": 8,
    "start_time": "2025-05-25T10:36:45.679Z"
   },
   {
    "duration": 61,
    "start_time": "2025-05-25T10:36:45.689Z"
   },
   {
    "duration": 8,
    "start_time": "2025-05-25T10:36:45.751Z"
   },
   {
    "duration": 5,
    "start_time": "2025-05-25T10:36:45.760Z"
   },
   {
    "duration": 7,
    "start_time": "2025-05-25T10:36:45.766Z"
   },
   {
    "duration": 358,
    "start_time": "2025-05-25T10:36:45.774Z"
   },
   {
    "duration": 5,
    "start_time": "2025-05-25T10:36:46.133Z"
   },
   {
    "duration": 387,
    "start_time": "2025-05-25T10:36:46.140Z"
   },
   {
    "duration": 5,
    "start_time": "2025-05-25T10:36:46.528Z"
   },
   {
    "duration": 11,
    "start_time": "2025-05-25T10:37:13.737Z"
   },
   {
    "duration": 11,
    "start_time": "2025-05-25T10:39:50.824Z"
   },
   {
    "duration": 28,
    "start_time": "2025-05-25T10:43:32.446Z"
   },
   {
    "duration": 31,
    "start_time": "2025-05-25T10:43:48.747Z"
   },
   {
    "duration": 87,
    "start_time": "2025-05-25T10:44:39.577Z"
   },
   {
    "duration": 42,
    "start_time": "2025-05-25T10:45:55.667Z"
   },
   {
    "duration": 12,
    "start_time": "2025-05-25T10:53:43.104Z"
   },
   {
    "duration": 13,
    "start_time": "2025-05-25T10:55:09.971Z"
   },
   {
    "duration": 8,
    "start_time": "2025-05-25T10:55:32.730Z"
   },
   {
    "duration": 15,
    "start_time": "2025-05-25T10:58:46.220Z"
   },
   {
    "duration": 16,
    "start_time": "2025-05-25T10:58:55.770Z"
   },
   {
    "duration": 17,
    "start_time": "2025-05-25T10:59:54.281Z"
   },
   {
    "duration": 15,
    "start_time": "2025-05-25T11:04:10.638Z"
   },
   {
    "duration": 10,
    "start_time": "2025-05-25T11:04:38.466Z"
   },
   {
    "duration": 13,
    "start_time": "2025-05-25T11:04:53.756Z"
   },
   {
    "duration": 4,
    "start_time": "2025-05-25T11:05:41.879Z"
   },
   {
    "duration": 16,
    "start_time": "2025-05-25T11:06:19.418Z"
   },
   {
    "duration": 5,
    "start_time": "2025-05-25T11:06:20.459Z"
   },
   {
    "duration": 92,
    "start_time": "2025-05-25T11:11:13.128Z"
   },
   {
    "duration": 80,
    "start_time": "2025-05-25T11:13:12.156Z"
   },
   {
    "duration": 81,
    "start_time": "2025-05-25T11:14:09.737Z"
   },
   {
    "duration": 80,
    "start_time": "2025-05-25T11:14:22.237Z"
   },
   {
    "duration": 87,
    "start_time": "2025-05-25T11:15:07.328Z"
   },
   {
    "duration": 94,
    "start_time": "2025-05-25T11:15:20.025Z"
   },
   {
    "duration": 328,
    "start_time": "2025-05-25T11:27:06.421Z"
   },
   {
    "duration": 1734,
    "start_time": "2025-05-25T11:27:06.751Z"
   },
   {
    "duration": 16,
    "start_time": "2025-05-25T11:27:08.487Z"
   },
   {
    "duration": 492,
    "start_time": "2025-05-25T11:27:08.505Z"
   },
   {
    "duration": 31,
    "start_time": "2025-05-25T11:27:09.000Z"
   },
   {
    "duration": 267,
    "start_time": "2025-05-25T11:27:09.033Z"
   },
   {
    "duration": 160,
    "start_time": "2025-05-25T11:27:09.302Z"
   },
   {
    "duration": 667,
    "start_time": "2025-05-25T11:27:09.463Z"
   },
   {
    "duration": 646,
    "start_time": "2025-05-25T11:27:10.132Z"
   },
   {
    "duration": 35,
    "start_time": "2025-05-25T11:27:10.780Z"
   },
   {
    "duration": 169,
    "start_time": "2025-05-25T11:27:10.816Z"
   },
   {
    "duration": 5,
    "start_time": "2025-05-25T11:27:10.987Z"
   },
   {
    "duration": 47,
    "start_time": "2025-05-25T11:27:10.994Z"
   },
   {
    "duration": 627,
    "start_time": "2025-05-25T11:27:11.045Z"
   },
   {
    "duration": 399,
    "start_time": "2025-05-25T11:27:11.674Z"
   },
   {
    "duration": 141,
    "start_time": "2025-05-25T11:27:12.074Z"
   },
   {
    "duration": 116,
    "start_time": "2025-05-25T11:27:12.217Z"
   },
   {
    "duration": 12,
    "start_time": "2025-05-25T11:27:12.335Z"
   },
   {
    "duration": 5,
    "start_time": "2025-05-25T11:27:12.348Z"
   },
   {
    "duration": 28,
    "start_time": "2025-05-25T11:27:12.354Z"
   },
   {
    "duration": 3,
    "start_time": "2025-05-25T11:27:12.384Z"
   },
   {
    "duration": 5,
    "start_time": "2025-05-25T11:27:12.389Z"
   },
   {
    "duration": 339,
    "start_time": "2025-05-25T11:27:12.395Z"
   },
   {
    "duration": 5,
    "start_time": "2025-05-25T11:27:12.735Z"
   },
   {
    "duration": 644,
    "start_time": "2025-05-25T11:27:12.741Z"
   },
   {
    "duration": 4,
    "start_time": "2025-05-25T11:27:13.387Z"
   },
   {
    "duration": 26,
    "start_time": "2025-05-25T11:27:13.392Z"
   },
   {
    "duration": 43,
    "start_time": "2025-05-25T11:27:13.419Z"
   },
   {
    "duration": 7,
    "start_time": "2025-05-25T11:27:13.464Z"
   },
   {
    "duration": 23,
    "start_time": "2025-05-25T11:27:13.472Z"
   },
   {
    "duration": 3,
    "start_time": "2025-05-25T11:27:13.496Z"
   },
   {
    "duration": 186,
    "start_time": "2025-05-25T11:27:13.501Z"
   },
   {
    "duration": 82,
    "start_time": "2025-05-25T11:27:45.546Z"
   },
   {
    "duration": 81,
    "start_time": "2025-05-25T11:27:54.546Z"
   },
   {
    "duration": 80,
    "start_time": "2025-05-25T11:28:04.426Z"
   },
   {
    "duration": 408,
    "start_time": "2025-05-25T11:29:11.748Z"
   },
   {
    "duration": 2770,
    "start_time": "2025-05-25T11:29:12.158Z"
   },
   {
    "duration": 15,
    "start_time": "2025-05-25T11:29:14.930Z"
   },
   {
    "duration": 567,
    "start_time": "2025-05-25T11:29:14.946Z"
   },
   {
    "duration": 33,
    "start_time": "2025-05-25T11:29:15.516Z"
   },
   {
    "duration": 237,
    "start_time": "2025-05-25T11:29:15.550Z"
   },
   {
    "duration": 163,
    "start_time": "2025-05-25T11:29:15.789Z"
   },
   {
    "duration": 654,
    "start_time": "2025-05-25T11:29:15.954Z"
   },
   {
    "duration": 576,
    "start_time": "2025-05-25T11:29:16.610Z"
   },
   {
    "duration": 33,
    "start_time": "2025-05-25T11:29:17.188Z"
   },
   {
    "duration": 155,
    "start_time": "2025-05-25T11:29:17.223Z"
   },
   {
    "duration": 6,
    "start_time": "2025-05-25T11:29:17.379Z"
   },
   {
    "duration": 127,
    "start_time": "2025-05-25T11:29:17.386Z"
   },
   {
    "duration": 674,
    "start_time": "2025-05-25T11:29:17.515Z"
   },
   {
    "duration": 397,
    "start_time": "2025-05-25T11:29:18.191Z"
   },
   {
    "duration": 143,
    "start_time": "2025-05-25T11:29:18.589Z"
   },
   {
    "duration": 62,
    "start_time": "2025-05-25T11:29:18.734Z"
   },
   {
    "duration": 9,
    "start_time": "2025-05-25T11:29:18.797Z"
   },
   {
    "duration": 5,
    "start_time": "2025-05-25T11:29:18.807Z"
   },
   {
    "duration": 19,
    "start_time": "2025-05-25T11:29:18.813Z"
   },
   {
    "duration": 4,
    "start_time": "2025-05-25T11:29:18.833Z"
   },
   {
    "duration": 9,
    "start_time": "2025-05-25T11:29:18.839Z"
   },
   {
    "duration": 344,
    "start_time": "2025-05-25T11:29:18.849Z"
   },
   {
    "duration": 6,
    "start_time": "2025-05-25T11:29:19.195Z"
   },
   {
    "duration": 447,
    "start_time": "2025-05-25T11:29:19.202Z"
   },
   {
    "duration": 11,
    "start_time": "2025-05-25T11:29:19.651Z"
   },
   {
    "duration": 18,
    "start_time": "2025-05-25T11:29:19.663Z"
   },
   {
    "duration": 41,
    "start_time": "2025-05-25T11:29:19.683Z"
   },
   {
    "duration": 9,
    "start_time": "2025-05-25T11:29:19.726Z"
   },
   {
    "duration": 28,
    "start_time": "2025-05-25T11:29:19.737Z"
   },
   {
    "duration": 5,
    "start_time": "2025-05-25T11:29:19.766Z"
   },
   {
    "duration": 98,
    "start_time": "2025-05-25T11:29:19.772Z"
   },
   {
    "duration": 416,
    "start_time": "2025-05-26T03:19:09.312Z"
   },
   {
    "duration": 1793,
    "start_time": "2025-05-26T03:19:09.730Z"
   },
   {
    "duration": 20,
    "start_time": "2025-05-26T03:19:11.525Z"
   },
   {
    "duration": 518,
    "start_time": "2025-05-26T03:19:11.547Z"
   },
   {
    "duration": 35,
    "start_time": "2025-05-26T03:19:12.068Z"
   },
   {
    "duration": 434,
    "start_time": "2025-05-26T03:19:12.105Z"
   },
   {
    "duration": 210,
    "start_time": "2025-05-26T03:19:12.541Z"
   },
   {
    "duration": 695,
    "start_time": "2025-05-26T03:19:12.753Z"
   },
   {
    "duration": 608,
    "start_time": "2025-05-26T03:19:13.450Z"
   },
   {
    "duration": 44,
    "start_time": "2025-05-26T03:19:14.060Z"
   },
   {
    "duration": 213,
    "start_time": "2025-05-26T03:19:14.106Z"
   },
   {
    "duration": 18,
    "start_time": "2025-05-26T03:19:14.321Z"
   },
   {
    "duration": 36,
    "start_time": "2025-05-26T03:19:14.341Z"
   },
   {
    "duration": 577,
    "start_time": "2025-05-26T03:19:14.380Z"
   },
   {
    "duration": 406,
    "start_time": "2025-05-26T03:19:14.958Z"
   },
   {
    "duration": 154,
    "start_time": "2025-05-26T03:19:15.365Z"
   },
   {
    "duration": 37,
    "start_time": "2025-05-26T03:19:15.520Z"
   },
   {
    "duration": 7,
    "start_time": "2025-05-26T03:19:15.559Z"
   },
   {
    "duration": 17,
    "start_time": "2025-05-26T03:19:15.567Z"
   },
   {
    "duration": 34,
    "start_time": "2025-05-26T03:19:15.586Z"
   },
   {
    "duration": 7,
    "start_time": "2025-05-26T03:19:15.621Z"
   },
   {
    "duration": 5,
    "start_time": "2025-05-26T03:19:15.629Z"
   },
   {
    "duration": 340,
    "start_time": "2025-05-26T03:19:15.636Z"
   },
   {
    "duration": 5,
    "start_time": "2025-05-26T03:19:15.978Z"
   },
   {
    "duration": 495,
    "start_time": "2025-05-26T03:19:15.984Z"
   },
   {
    "duration": 5,
    "start_time": "2025-05-26T03:19:16.480Z"
   },
   {
    "duration": 12,
    "start_time": "2025-05-26T03:19:16.486Z"
   },
   {
    "duration": 55,
    "start_time": "2025-05-26T03:19:16.499Z"
   },
   {
    "duration": 8,
    "start_time": "2025-05-26T03:19:16.555Z"
   },
   {
    "duration": 40,
    "start_time": "2025-05-26T03:19:16.565Z"
   },
   {
    "duration": 15,
    "start_time": "2025-05-26T03:19:16.606Z"
   },
   {
    "duration": 80,
    "start_time": "2025-05-26T03:19:16.622Z"
   },
   {
    "duration": 96,
    "start_time": "2025-05-26T03:20:48.208Z"
   },
   {
    "duration": 50,
    "start_time": "2025-05-26T03:27:15.132Z"
   },
   {
    "duration": 39,
    "start_time": "2025-05-26T03:27:59.685Z"
   },
   {
    "duration": 413,
    "start_time": "2025-05-26T03:30:02.329Z"
   },
   {
    "duration": 1672,
    "start_time": "2025-05-26T03:30:02.744Z"
   },
   {
    "duration": 21,
    "start_time": "2025-05-26T03:30:04.418Z"
   },
   {
    "duration": 598,
    "start_time": "2025-05-26T03:30:04.441Z"
   },
   {
    "duration": 38,
    "start_time": "2025-05-26T03:30:05.040Z"
   },
   {
    "duration": 261,
    "start_time": "2025-05-26T03:30:05.079Z"
   },
   {
    "duration": 171,
    "start_time": "2025-05-26T03:30:05.341Z"
   },
   {
    "duration": 732,
    "start_time": "2025-05-26T03:30:05.513Z"
   },
   {
    "duration": 619,
    "start_time": "2025-05-26T03:30:06.246Z"
   },
   {
    "duration": 33,
    "start_time": "2025-05-26T03:30:06.867Z"
   },
   {
    "duration": 162,
    "start_time": "2025-05-26T03:30:06.902Z"
   },
   {
    "duration": 5,
    "start_time": "2025-05-26T03:30:07.066Z"
   },
   {
    "duration": 72,
    "start_time": "2025-05-26T03:30:07.073Z"
   },
   {
    "duration": 638,
    "start_time": "2025-05-26T03:30:07.147Z"
   },
   {
    "duration": 414,
    "start_time": "2025-05-26T03:30:07.786Z"
   },
   {
    "duration": 151,
    "start_time": "2025-05-26T03:30:08.202Z"
   },
   {
    "duration": 41,
    "start_time": "2025-05-26T03:30:08.354Z"
   },
   {
    "duration": 8,
    "start_time": "2025-05-26T03:30:08.397Z"
   },
   {
    "duration": 116,
    "start_time": "2025-05-26T03:30:08.407Z"
   },
   {
    "duration": 19,
    "start_time": "2025-05-26T03:30:08.525Z"
   },
   {
    "duration": 4,
    "start_time": "2025-05-26T03:30:08.546Z"
   },
   {
    "duration": 10,
    "start_time": "2025-05-26T03:30:08.551Z"
   },
   {
    "duration": 348,
    "start_time": "2025-05-26T03:30:08.563Z"
   },
   {
    "duration": 6,
    "start_time": "2025-05-26T03:30:08.913Z"
   },
   {
    "duration": 463,
    "start_time": "2025-05-26T03:30:08.920Z"
   },
   {
    "duration": 5,
    "start_time": "2025-05-26T03:30:09.385Z"
   },
   {
    "duration": 13,
    "start_time": "2025-05-26T03:30:09.392Z"
   },
   {
    "duration": 56,
    "start_time": "2025-05-26T03:30:09.408Z"
   },
   {
    "duration": 7,
    "start_time": "2025-05-26T03:30:09.466Z"
   },
   {
    "duration": 12,
    "start_time": "2025-05-26T03:30:09.474Z"
   },
   {
    "duration": 3,
    "start_time": "2025-05-26T03:30:09.488Z"
   },
   {
    "duration": 95,
    "start_time": "2025-05-26T03:30:09.493Z"
   }
  ],
  "colab": {
   "provenance": []
  },
  "kernelspec": {
   "display_name": "Python 3 (ipykernel)",
   "language": "python",
   "name": "python3"
  },
  "language_info": {
   "codemirror_mode": {
    "name": "ipython",
    "version": 3
   },
   "file_extension": ".py",
   "mimetype": "text/x-python",
   "name": "python",
   "nbconvert_exporter": "python",
   "pygments_lexer": "ipython3",
   "version": "3.9.13"
  },
  "toc": {
   "base_numbering": 1,
   "nav_menu": {},
   "number_sections": true,
   "sideBar": true,
   "skip_h1_title": true,
   "title_cell": "Table of Contents",
   "title_sidebar": "Contents",
   "toc_cell": false,
   "toc_position": {},
   "toc_section_display": true,
   "toc_window_display": false
  }
 },
 "nbformat": 4,
 "nbformat_minor": 4
}
