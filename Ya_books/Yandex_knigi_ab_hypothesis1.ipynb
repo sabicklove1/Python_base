{
 "cells": [
  {
   "cell_type": "markdown",
   "id": "_E41Wr5fqnFT",
   "metadata": {
    "id": "_E41Wr5fqnFT"
   },
   "source": [
    "# Часть 1. Проверка гипотезы в Python и составление аналитической записки"
   ]
  },
  {
   "cell_type": "markdown",
   "id": "Z5_6nf-FrY7o",
   "metadata": {
    "id": "Z5_6nf-FrY7o"
   },
   "source": [
    "Гипотеза: пользователи из Санкт-Петербурга проводят в среднем больше времени за чтением и прослушиванием книг в приложении, чем пользователи из Москвы.\n",
    "\n",
    "Нулевая гипотеза $H_0: \\mu_{\\text{СПб}} \\leq \\mu_{\\text{Москва}}$ <br> Среднее время активности пользователей в Санкт-Петербурге не больше, чем в Москве.\n",
    "\n",
    "Альтернативная гипотеза $H_1: \\mu_{\\text{СПб}} > \\mu_{\\text{Москва}}$ <br> Среднее время активности пользователей в Санкт-Петербурге больше, и это различие статистически значимо."
   ]
  },
  {
   "cell_type": "markdown",
   "id": "e06910dd",
   "metadata": {
    "id": "e06910dd"
   },
   "source": [
    "## Продолжительность активности пользователей из Санкт-Петербурга и Москвы \n",
    "- Автор: Сабурова Кристина\n",
    "- Дата: 05.06.2025"
   ]
  },
  {
   "cell_type": "markdown",
   "id": "4149134c",
   "metadata": {
    "id": "4149134c"
   },
   "source": [
    "## Цели и задачи проекта"
   ]
  },
  {
   "cell_type": "markdown",
   "id": "acc95063",
   "metadata": {},
   "source": [
    "### Цели\n",
    "Оценить, существует ли статистически значимое различие в средней продолжительности активности пользователей из Санкт-Петербурга и Москвы в приложении для чтения и прослушивания книг"
   ]
  },
  {
   "cell_type": "markdown",
   "id": "c3279333",
   "metadata": {},
   "source": [
    "### Задачи\n",
    "- Загрузить и проверить данные пользователей из файла yandex_knigi_data.csv.\n",
    "- Проверить наличие дубликатов по user_id.\n",
    "- Сравнить размеры групп по городам, рассчитать средние значения и визуализировать распределения.\n",
    "- Провести односторонний t-тест для сравнения средней активности.\n",
    "- Сделать выводы на основе значения p-value.\n",
    "- Предложить возможные объяснения выявленных результатов."
   ]
  },
  {
   "cell_type": "markdown",
   "id": "728986ea",
   "metadata": {
    "id": "728986ea"
   },
   "source": [
    "## Описание данных\n",
    "\n",
    "Для анализа были использованы данные из файла yandex_knigi_data.csv, содержащего информацию об активности пользователей в приложении для чтения и прослушивания книг\n",
    "- `city` - Город проживания пользователя (Москва или Санкт-Петербург)\n",
    "- `puid` - Уникальный идентификатор пользователя\n",
    "- `hours` - Суммарное время активности пользователя в приложении (в часах)"
   ]
  },
  {
   "cell_type": "markdown",
   "id": "4fecaf95",
   "metadata": {
    "id": "4fecaf95"
   },
   "source": [
    "## Содержимое проекта\n",
    "\n",
    "- Постановка задачи и цели исследования\n",
    "- Описание данных\n",
    "- Предварительный анализ данных\n",
    "- Проверка гипотезы\n",
    "- Составление аналитической записки\n",
    "\n",
    "---"
   ]
  },
  {
   "cell_type": "markdown",
   "id": "6f7d21d6",
   "metadata": {
    "id": "6f7d21d6"
   },
   "source": [
    "## 1. Загрузка данных и знакомство с ними\n"
   ]
  },
  {
   "cell_type": "code",
   "execution_count": null,
   "id": "f68a7419",
   "metadata": {
    "id": "f68a7419"
   },
   "outputs": [],
   "source": [
    "# Импортируем библиотеку и выгружаем данные\n",
    "import pandas as pd\n",
    "df = pd.read_csv('https://code.s3.yandex.net/datasets/yandex_knigi_data.csv')"
   ]
  },
  {
   "cell_type": "code",
   "execution_count": null,
   "id": "9db02915",
   "metadata": {},
   "outputs": [],
   "source": [
    "from scipy.stats import ttest_ind"
   ]
  },
  {
   "cell_type": "code",
   "execution_count": null,
   "id": "f6c617f0",
   "metadata": {},
   "outputs": [
    {
     "data": {
      "text/html": [
       "<div>\n",
       "<style scoped>\n",
       "    .dataframe tbody tr th:only-of-type {\n",
       "        vertical-align: middle;\n",
       "    }\n",
       "\n",
       "    .dataframe tbody tr th {\n",
       "        vertical-align: top;\n",
       "    }\n",
       "\n",
       "    .dataframe thead th {\n",
       "        text-align: right;\n",
       "    }\n",
       "</style>\n",
       "<table border=\"1\" class=\"dataframe\">\n",
       "  <thead>\n",
       "    <tr style=\"text-align: right;\">\n",
       "      <th></th>\n",
       "      <th>Unnamed: 0</th>\n",
       "      <th>city</th>\n",
       "      <th>puid</th>\n",
       "      <th>hours</th>\n",
       "    </tr>\n",
       "  </thead>\n",
       "  <tbody>\n",
       "    <tr>\n",
       "      <th>0</th>\n",
       "      <td>0</td>\n",
       "      <td>Москва</td>\n",
       "      <td>9668</td>\n",
       "      <td>26.167776</td>\n",
       "    </tr>\n",
       "    <tr>\n",
       "      <th>1</th>\n",
       "      <td>1</td>\n",
       "      <td>Москва</td>\n",
       "      <td>16598</td>\n",
       "      <td>82.111217</td>\n",
       "    </tr>\n",
       "    <tr>\n",
       "      <th>2</th>\n",
       "      <td>2</td>\n",
       "      <td>Москва</td>\n",
       "      <td>80401</td>\n",
       "      <td>4.656906</td>\n",
       "    </tr>\n",
       "    <tr>\n",
       "      <th>3</th>\n",
       "      <td>3</td>\n",
       "      <td>Москва</td>\n",
       "      <td>140205</td>\n",
       "      <td>1.840556</td>\n",
       "    </tr>\n",
       "    <tr>\n",
       "      <th>4</th>\n",
       "      <td>4</td>\n",
       "      <td>Москва</td>\n",
       "      <td>248755</td>\n",
       "      <td>151.326434</td>\n",
       "    </tr>\n",
       "  </tbody>\n",
       "</table>\n",
       "</div>"
      ],
      "text/plain": [
       "   Unnamed: 0    city    puid       hours\n",
       "0           0  Москва    9668   26.167776\n",
       "1           1  Москва   16598   82.111217\n",
       "2           2  Москва   80401    4.656906\n",
       "3           3  Москва  140205    1.840556\n",
       "4           4  Москва  248755  151.326434"
      ]
     },
     "metadata": {},
     "output_type": "display_data"
    },
    {
     "name": "stdout",
     "output_type": "stream",
     "text": [
      "<class 'pandas.core.frame.DataFrame'>\n",
      "RangeIndex: 8784 entries, 0 to 8783\n",
      "Data columns (total 4 columns):\n",
      " #   Column      Non-Null Count  Dtype  \n",
      "---  ------      --------------  -----  \n",
      " 0   Unnamed: 0  8784 non-null   int64  \n",
      " 1   city        8784 non-null   object \n",
      " 2   puid        8784 non-null   int64  \n",
      " 3   hours       8784 non-null   float64\n",
      "dtypes: float64(1), int64(2), object(1)\n",
      "memory usage: 274.6+ KB\n"
     ]
    },
    {
     "data": {
      "text/plain": [
       "None"
      ]
     },
     "metadata": {},
     "output_type": "display_data"
    }
   ],
   "source": [
    "display(df.head())\n",
    "display(df. info())"
   ]
  },
  {
   "cell_type": "markdown",
   "id": "956e82e2",
   "metadata": {
    "id": "956e82e2"
   },
   "source": [
    "## 2. Проверка гипотезы в Python\n",
    "\n",
    "Гипотеза: пользователи из Санкт-Петербурга проводят в среднем больше времени за чтением и прослушиванием книг в приложении, чем пользователи из Москвы. \n",
    "\n",
    "- H₀ (нулевая): Средняя активность пользователей из Санкт-Петербурга меньше или равна, чем у пользователей из Москвы.\n",
    "- H₁ (альтернативная): Средняя активность пользователей из Санкт-Петербурга больше, чем у пользователей из Москвы."
   ]
  },
  {
   "cell_type": "code",
   "execution_count": null,
   "id": "520f64d7",
   "metadata": {
    "id": "67956690"
   },
   "outputs": [],
   "source": [
    "from scipy import stats as st"
   ]
  },
  {
   "cell_type": "code",
   "execution_count": null,
   "id": "e9c1bf33",
   "metadata": {
    "id": "67956690"
   },
   "outputs": [],
   "source": [
    "# Отбираем пользователей по городам\n",
    "moscow = df[df['city'] == 'Москва']['hours']\n",
    "spb = df[df['city'] == 'Санкт-Петербург']['hours']"
   ]
  },
  {
   "cell_type": "code",
   "execution_count": null,
   "id": "7e9055f0",
   "metadata": {},
   "outputs": [
    {
     "name": "stdout",
     "output_type": "stream",
     "text": [
      "Размер группы Москва: 6234\n",
      "Размер группы СПб: 2550\n"
     ]
    }
   ],
   "source": [
    "# Посчитаем размеры выборок\n",
    "\n",
    "print(f\"Размер группы Москва: {len(moscow)}\")\n",
    "print(f\"Размер группы СПб: {len(spb)}\")"
   ]
  },
  {
   "cell_type": "code",
   "execution_count": null,
   "id": "f9b57b4c",
   "metadata": {},
   "outputs": [
    {
     "name": "stdout",
     "output_type": "stream",
     "text": [
      "Москва — среднее: 10.88109206345796 медиана: 0.9244980209724304 стандартное отклонение: 36.851682954030586\n",
      "СПб — среднее: 11.59269077702618 медиана: 0.9847812626262626 стандартное отклонение: 39.704992814303964\n"
     ]
    }
   ],
   "source": [
    "# Посчитаем основные статистики\n",
    "\n",
    "print(\"Москва — среднее:\", moscow.mean(), \"медиана:\", moscow.median(), \"стандартное отклонение:\", moscow.std())\n",
    "print(\"СПб — среднее:\", spb.mean(), \"медиана:\", spb.median(), \"стандартное отклонение:\", spb.std())"
   ]
  },
  {
   "cell_type": "markdown",
   "id": "c8453005",
   "metadata": {},
   "source": [
    "Выводы по результатам анализа размера групп и их статистик\n",
    "- Размеры выборок разные: в Москве пользователей больше, чем в Санкт-Петербурге\n",
    "- Во всех группах наблюдается значительное расхождение между средним и медианой, а также большое стандартное отклонение\n",
    "- Это говорит о наличии выбросов, а также о смещенном распределении данных\n",
    "- В такой ситуации классический t-тест может быть неустойчив к искажению результатов, проведем тест Манна-Уитни"
   ]
  },
  {
   "cell_type": "markdown",
   "id": "62b4587a",
   "metadata": {},
   "source": [
    "**Обоснование выбора теста**\n",
    "\n",
    "Для проверки гипотезы использован односторонний t-тест для независимых выборок. Он подходит, потому что:\n",
    "\n",
    "- сравниваются две независимые группы (Москва и Санкт-Петербург);\n",
    "- анализируется среднее время активности — количественный показатель;\n",
    "- гипотеза направленная: ожидается, что пользователи из СПб проводят больше времени, поэтому alternative='greater';\n",
    "- уровень значимости — 0.05"
   ]
  },
  {
   "cell_type": "code",
   "execution_count": null,
   "id": "1ae29140",
   "metadata": {},
   "outputs": [
    {
     "name": "stdout",
     "output_type": "stream",
     "text": [
      "t-статистика: 0.7782\n",
      "p-value: 0.2182\n",
      "Нет оснований отклонить нулевую гипотезу: данные не подтверждают, что пользователи из СПб более активны.\n"
     ]
    }
   ],
   "source": [
    "# Односторонний t-тест с поправкой Уэлча (equal_var=False)\n",
    "stat, p_value = ttest_ind(spb, moscow, equal_var=False, alternative='greater')\n",
    "\n",
    "print(f\"t-статистика: {stat:.4f}\")\n",
    "print(f\"p-value: {p_value:.4f}\")\n",
    "\n",
    "if p_value < 0.05:\n",
    "    print(\"Отклоняем нулевую гипотезу: пользователи из СПб проводят статистически значимо больше времени в приложении.\")\n",
    "else:\n",
    "    print(\"Нет оснований отклонить нулевую гипотезу: данные не подтверждают, что пользователи из СПб более активны.\")"
   ]
  },
  {
   "cell_type": "code",
   "execution_count": null,
   "id": "f79a7735",
   "metadata": {},
   "outputs": [
    {
     "name": "stdout",
     "output_type": "stream",
     "text": [
      "U-статистика: 8093616.0000\n",
      "p-value: 0.0891\n",
      "Нет оснований отклонить нулевую гипотезу: данные не подтверждают, что пользователи из Санкт-Петербурга более активны.\n"
     ]
    }
   ],
   "source": [
    "from scipy.stats import mannwhitneyu\n",
    "\n",
    "# Выполняем тест Манна-Уитни\n",
    "stat, p_value = mannwhitneyu(spb, moscow, alternative='greater')\n",
    "\n",
    "print(f\"U-статистика: {stat:.4f}\")\n",
    "print(f\"p-value: {p_value:.4f}\")\n",
    "\n",
    "# Интерпретация\n",
    "if p_value < 0.05:\n",
    "    print(\"Отклоняем нулевую гипотезу: пользователи из Санкт-Петербурга статистически значимо активнее.\")\n",
    "else:\n",
    "    print(\"Нет оснований отклонить нулевую гипотезу: данные не подтверждают, что пользователи из Санкт-Петербурга более активны.\")"
   ]
  },
  {
   "cell_type": "markdown",
   "id": "6953e84c",
   "metadata": {
    "id": "6953e84c"
   },
   "source": [
    "## 3. Аналитическая записка\n"
   ]
  },
  {
   "cell_type": "markdown",
   "id": "2cc6aa82",
   "metadata": {},
   "source": [
    "\n",
    "- Тип теста: Односторонний t-тест с поправкой Уэлча и тест Манна-Уитни. Уровень статистической значимости (α): 0.05\n",
    "- p-value: 0.2182\n",
    "- Поскольку p-value больше уровня значимости (0.2182 > 0.05), нет оснований отклонить нулевую гипотезу. Это означает, что статистически значимых различий в средней активности пользователей из Москвы и Санкт-Петербурга не выявлено\n",
    "- Результаты могут быть связаны с тем, что: \n",
    "  - пользователи из обоих городов используют приложение с одинаковой частотой и продолжительностью\n",
    "  - есть ограничения данных (возможна нехватка объёма выборки)"
   ]
  },
  {
   "cell_type": "markdown",
   "id": "hc1d6jVISegz",
   "metadata": {
    "id": "hc1d6jVISegz"
   },
   "source": [
    "----"
   ]
  },
  {
   "cell_type": "markdown",
   "id": "NqOUIYhbrIfC",
   "metadata": {
    "id": "NqOUIYhbrIfC"
   },
   "source": [
    "# Часть 2. Анализ результатов A/B-тестирования"
   ]
  },
  {
   "cell_type": "markdown",
   "id": "UNXAAyF5r9Rk",
   "metadata": {
    "id": "UNXAAyF5r9Rk"
   },
   "source": [
    "## 1. Описание целей исследования.\n",
    "\n"
   ]
  },
  {
   "cell_type": "markdown",
   "id": "kHx-51yES8bd",
   "metadata": {
    "id": "kHx-51yES8bd"
   },
   "source": [
    "Целью исследования является оценка эффективности нового интерфейса интернет-магазина BitMotion Kit, протестированного в формате A/B-теста.\n",
    "\n",
    "Гипотеза теста: упрощение интерфейса повысит конверсию зарегистрированных пользователей в покупку как минимум на 3 процентных пункта в течение первых 7 дней после регистрации."
   ]
  },
  {
   "cell_type": "markdown",
   "id": "_CZryx2OsH-s",
   "metadata": {
    "id": "_CZryx2OsH-s"
   },
   "source": [
    "## 2. Загрузка данных, оценка целостности.\n"
   ]
  },
  {
   "cell_type": "code",
   "execution_count": null,
   "id": "DjFcJbeGsTIg",
   "metadata": {
    "id": "DjFcJbeGsTIg"
   },
   "outputs": [],
   "source": [
    "participants = pd.read_csv('https://code.s3.yandex.net/datasets/ab_test_participants.csv')\n",
    "events = pd.read_csv('https://code.s3.yandex.net/datasets/ab_test_events.zip',\n",
    "                     parse_dates=['event_dt'], low_memory=False)"
   ]
  },
  {
   "cell_type": "code",
   "execution_count": null,
   "id": "1b8dee86",
   "metadata": {},
   "outputs": [
    {
     "data": {
      "text/html": [
       "<div>\n",
       "<style scoped>\n",
       "    .dataframe tbody tr th:only-of-type {\n",
       "        vertical-align: middle;\n",
       "    }\n",
       "\n",
       "    .dataframe tbody tr th {\n",
       "        vertical-align: top;\n",
       "    }\n",
       "\n",
       "    .dataframe thead th {\n",
       "        text-align: right;\n",
       "    }\n",
       "</style>\n",
       "<table border=\"1\" class=\"dataframe\">\n",
       "  <thead>\n",
       "    <tr style=\"text-align: right;\">\n",
       "      <th></th>\n",
       "      <th>user_id</th>\n",
       "      <th>group</th>\n",
       "      <th>ab_test</th>\n",
       "      <th>device</th>\n",
       "    </tr>\n",
       "  </thead>\n",
       "  <tbody>\n",
       "    <tr>\n",
       "      <th>0</th>\n",
       "      <td>0002CE61FF2C4011</td>\n",
       "      <td>B</td>\n",
       "      <td>interface_eu_test</td>\n",
       "      <td>Mac</td>\n",
       "    </tr>\n",
       "    <tr>\n",
       "      <th>1</th>\n",
       "      <td>001064FEAAB631A1</td>\n",
       "      <td>B</td>\n",
       "      <td>recommender_system_test</td>\n",
       "      <td>Android</td>\n",
       "    </tr>\n",
       "    <tr>\n",
       "      <th>2</th>\n",
       "      <td>001064FEAAB631A1</td>\n",
       "      <td>A</td>\n",
       "      <td>interface_eu_test</td>\n",
       "      <td>Android</td>\n",
       "    </tr>\n",
       "    <tr>\n",
       "      <th>3</th>\n",
       "      <td>0010A1C096941592</td>\n",
       "      <td>A</td>\n",
       "      <td>recommender_system_test</td>\n",
       "      <td>Android</td>\n",
       "    </tr>\n",
       "    <tr>\n",
       "      <th>4</th>\n",
       "      <td>001E72F50D1C48FA</td>\n",
       "      <td>A</td>\n",
       "      <td>interface_eu_test</td>\n",
       "      <td>Mac</td>\n",
       "    </tr>\n",
       "  </tbody>\n",
       "</table>\n",
       "</div>"
      ],
      "text/plain": [
       "            user_id group                  ab_test   device\n",
       "0  0002CE61FF2C4011     B        interface_eu_test      Mac\n",
       "1  001064FEAAB631A1     B  recommender_system_test  Android\n",
       "2  001064FEAAB631A1     A        interface_eu_test  Android\n",
       "3  0010A1C096941592     A  recommender_system_test  Android\n",
       "4  001E72F50D1C48FA     A        interface_eu_test      Mac"
      ]
     },
     "metadata": {},
     "output_type": "display_data"
    },
    {
     "name": "stdout",
     "output_type": "stream",
     "text": [
      "<class 'pandas.core.frame.DataFrame'>\n",
      "RangeIndex: 14525 entries, 0 to 14524\n",
      "Data columns (total 4 columns):\n",
      " #   Column   Non-Null Count  Dtype \n",
      "---  ------   --------------  ----- \n",
      " 0   user_id  14525 non-null  object\n",
      " 1   group    14525 non-null  object\n",
      " 2   ab_test  14525 non-null  object\n",
      " 3   device   14525 non-null  object\n",
      "dtypes: object(4)\n",
      "memory usage: 454.0+ KB\n"
     ]
    },
    {
     "data": {
      "text/plain": [
       "None"
      ]
     },
     "metadata": {},
     "output_type": "display_data"
    },
    {
     "data": {
      "text/html": [
       "<div>\n",
       "<style scoped>\n",
       "    .dataframe tbody tr th:only-of-type {\n",
       "        vertical-align: middle;\n",
       "    }\n",
       "\n",
       "    .dataframe tbody tr th {\n",
       "        vertical-align: top;\n",
       "    }\n",
       "\n",
       "    .dataframe thead th {\n",
       "        text-align: right;\n",
       "    }\n",
       "</style>\n",
       "<table border=\"1\" class=\"dataframe\">\n",
       "  <thead>\n",
       "    <tr style=\"text-align: right;\">\n",
       "      <th></th>\n",
       "      <th>user_id</th>\n",
       "      <th>event_dt</th>\n",
       "      <th>event_name</th>\n",
       "      <th>details</th>\n",
       "    </tr>\n",
       "  </thead>\n",
       "  <tbody>\n",
       "    <tr>\n",
       "      <th>0</th>\n",
       "      <td>GLOBAL</td>\n",
       "      <td>2020-12-01 00:00:00</td>\n",
       "      <td>End of Black Friday Ads Campaign</td>\n",
       "      <td>ZONE_CODE15</td>\n",
       "    </tr>\n",
       "    <tr>\n",
       "      <th>1</th>\n",
       "      <td>CCBE9E7E99F94A08</td>\n",
       "      <td>2020-12-01 00:00:11</td>\n",
       "      <td>registration</td>\n",
       "      <td>0.0</td>\n",
       "    </tr>\n",
       "    <tr>\n",
       "      <th>2</th>\n",
       "      <td>GLOBAL</td>\n",
       "      <td>2020-12-01 00:00:25</td>\n",
       "      <td>product_page</td>\n",
       "      <td>NaN</td>\n",
       "    </tr>\n",
       "    <tr>\n",
       "      <th>3</th>\n",
       "      <td>CCBE9E7E99F94A08</td>\n",
       "      <td>2020-12-01 00:00:33</td>\n",
       "      <td>login</td>\n",
       "      <td>NaN</td>\n",
       "    </tr>\n",
       "    <tr>\n",
       "      <th>4</th>\n",
       "      <td>CCBE9E7E99F94A08</td>\n",
       "      <td>2020-12-01 00:00:52</td>\n",
       "      <td>product_page</td>\n",
       "      <td>NaN</td>\n",
       "    </tr>\n",
       "  </tbody>\n",
       "</table>\n",
       "</div>"
      ],
      "text/plain": [
       "            user_id            event_dt                        event_name  \\\n",
       "0            GLOBAL 2020-12-01 00:00:00  End of Black Friday Ads Campaign   \n",
       "1  CCBE9E7E99F94A08 2020-12-01 00:00:11                      registration   \n",
       "2            GLOBAL 2020-12-01 00:00:25                      product_page   \n",
       "3  CCBE9E7E99F94A08 2020-12-01 00:00:33                             login   \n",
       "4  CCBE9E7E99F94A08 2020-12-01 00:00:52                      product_page   \n",
       "\n",
       "       details  \n",
       "0  ZONE_CODE15  \n",
       "1          0.0  \n",
       "2          NaN  \n",
       "3          NaN  \n",
       "4          NaN  "
      ]
     },
     "metadata": {},
     "output_type": "display_data"
    },
    {
     "name": "stdout",
     "output_type": "stream",
     "text": [
      "<class 'pandas.core.frame.DataFrame'>\n",
      "RangeIndex: 787286 entries, 0 to 787285\n",
      "Data columns (total 4 columns):\n",
      " #   Column      Non-Null Count   Dtype         \n",
      "---  ------      --------------   -----         \n",
      " 0   user_id     787286 non-null  object        \n",
      " 1   event_dt    787286 non-null  datetime64[ns]\n",
      " 2   event_name  787286 non-null  object        \n",
      " 3   details     249022 non-null  object        \n",
      "dtypes: datetime64[ns](1), object(3)\n",
      "memory usage: 24.0+ MB\n"
     ]
    },
    {
     "data": {
      "text/plain": [
       "None"
      ]
     },
     "metadata": {},
     "output_type": "display_data"
    }
   ],
   "source": [
    "# Информация о данных участников \n",
    "display(participants.head())\n",
    "display(participants. info())\n",
    "# Информация о данных событий\n",
    "display(events.head())\n",
    "display(events.info())"
   ]
  },
  {
   "cell_type": "code",
   "execution_count": null,
   "id": "3fc65d57",
   "metadata": {},
   "outputs": [
    {
     "name": "stdout",
     "output_type": "stream",
     "text": [
      "user_id    0\n",
      "group      0\n",
      "ab_test    0\n",
      "device     0\n",
      "dtype: int64\n"
     ]
    }
   ],
   "source": [
    "# Проверим пропуски\n",
    "print(participants.isnull().sum())"
   ]
  },
  {
   "cell_type": "code",
   "execution_count": null,
   "id": "dbb3b8b9",
   "metadata": {},
   "outputs": [
    {
     "name": "stdout",
     "output_type": "stream",
     "text": [
      "user_id            0\n",
      "event_dt           0\n",
      "event_name         0\n",
      "details       538264\n",
      "dtype: int64\n"
     ]
    }
   ],
   "source": [
    "# Проверим пропуски\n",
    "print(events.isnull().sum())"
   ]
  },
  {
   "cell_type": "code",
   "execution_count": null,
   "id": "19a94817",
   "metadata": {},
   "outputs": [],
   "source": [
    "# Удалим строки GLOBAL в user_id, так как они не имеют отношения к поведению конкретного пользователя и не участвуют в A/B-тесте\n",
    "events = events[events['user_id'] != 'GLOBAL']"
   ]
  },
  {
   "cell_type": "code",
   "execution_count": null,
   "id": "11210a9a",
   "metadata": {},
   "outputs": [
    {
     "name": "stdout",
     "output_type": "stream",
     "text": [
      "Количество дубликатов в events: 35473\n"
     ]
    }
   ],
   "source": [
    "# Проверим количество дубликатов по событиям\n",
    "duplicates = events.duplicated().sum()\n",
    "print(f\"Количество дубликатов в events: {duplicates}\")"
   ]
  },
  {
   "cell_type": "code",
   "execution_count": null,
   "id": "fb543655",
   "metadata": {},
   "outputs": [],
   "source": [
    "# Удалим дубликаты\n",
    "events = events.drop_duplicates()"
   ]
  },
  {
   "cell_type": "markdown",
   "id": "CnzA-efasUrk",
   "metadata": {
    "id": "CnzA-efasUrk"
   },
   "source": [
    "## 3. По таблице `ab_test_participants` оценим корректность проведения теста:"
   ]
  },
  {
   "cell_type": "code",
   "execution_count": null,
   "id": "aNa3zHrKslEN",
   "metadata": {
    "id": "aNa3zHrKslEN"
   },
   "outputs": [
    {
     "name": "stdout",
     "output_type": "stream",
     "text": [
      "['B' 'A']\n"
     ]
    }
   ],
   "source": [
    "# Оставим только нужный тест\n",
    "participants_eu = participants[participants['ab_test'] == 'interface_eu_test']\n",
    "\n",
    "# Проверим соответствие ТЗ: только группы A и B\n",
    "print(participants_eu['group'].unique())"
   ]
  },
  {
   "cell_type": "markdown",
   "id": "2c344c0e",
   "metadata": {},
   "source": [
    "Присутствуют только группы A и B, все верно"
   ]
  },
  {
   "cell_type": "code",
   "execution_count": null,
   "id": "b81aa33b",
   "metadata": {},
   "outputs": [
    {
     "data": {
      "text/plain": [
       "887"
      ]
     },
     "metadata": {},
     "output_type": "display_data"
    },
    {
     "data": {
      "text/plain": [
       "6.10671256454389"
      ]
     },
     "metadata": {},
     "output_type": "display_data"
    }
   ],
   "source": [
    "# Проверим датафрейм на наличие неявных дубликатов в user_id\n",
    "duplicates_id = participants['user_id'].duplicated().sum()\n",
    "\n",
    "# Также рассчитаем долю дубликатов\n",
    "share_id = duplicates_id / participants.shape[0] * 100\n",
    "\n",
    "display(duplicates_id)\n",
    "display(share_id)"
   ]
  },
  {
   "cell_type": "code",
   "execution_count": null,
   "id": "96ae1a9b",
   "metadata": {},
   "outputs": [
    {
     "name": "stdout",
     "output_type": "stream",
     "text": [
      "B    0.503871\n",
      "A    0.496129\n",
      "Name: group, dtype: float64\n"
     ]
    }
   ],
   "source": [
    "# Проверим равномерность распределения по группам\n",
    "group_counts = participants_eu['group'].value_counts(normalize=True)\n",
    "print(group_counts)"
   ]
  },
  {
   "cell_type": "markdown",
   "id": "4af5246d",
   "metadata": {},
   "source": [
    "Группы распределены примерно 50/50 - хорошо"
   ]
  },
  {
   "cell_type": "code",
   "execution_count": null,
   "id": "96bfa2ea",
   "metadata": {},
   "outputs": [
    {
     "name": "stdout",
     "output_type": "stream",
     "text": [
      "Количество пользователей в группе B более чем в одном тесте: 116\n",
      "Размер выборки после удаления проблемных пользователей: 10734\n"
     ]
    }
   ],
   "source": [
    "# Оставим пользователей из группы B\n",
    "group_b = participants[participants['group'] == 'B']\n",
    "\n",
    "# Найдём пользователей, попавших в группу B более чем в одном тесте\n",
    "b_multi_tests = group_b.groupby('user_id')['ab_test'].nunique()\n",
    "b_problem_users = b_multi_tests[b_multi_tests > 1].index\n",
    "\n",
    "print(f\"Количество пользователей в группе B более чем в одном тесте: {len(b_problem_users)}\")\n",
    "\n",
    "# Удалим таких пользователей из выборки по нашему тесту\n",
    "participants_eu_clean = participants_eu[~participants_eu['user_id'].isin(b_problem_users)]\n",
    "\n",
    "print(f\"Размер выборки после удаления проблемных пользователей: {participants_eu_clean.shape[0]}\")"
   ]
  },
  {
   "cell_type": "code",
   "execution_count": null,
   "id": "89b7833e",
   "metadata": {},
   "outputs": [
    {
     "name": "stdout",
     "output_type": "stream",
     "text": [
      "Количество пользователей, попавших одновременно в группы A и B: 0\n"
     ]
    }
   ],
   "source": [
    "# Проверим пересечения пользователей между группами A и B внутри теста interface_eu_test\n",
    "users_group_a = set(participants_eu[participants_eu['group'] == 'A']['user_id'])\n",
    "users_group_b = set(participants_eu[participants_eu['group'] == 'B']['user_id'])\n",
    "\n",
    "intersect_users = users_group_a.intersection(users_group_b)\n",
    "\n",
    "print(f\"Количество пользователей, попавших одновременно в группы A и B: {len(intersect_users)}\")"
   ]
  },
  {
   "cell_type": "markdown",
   "id": "442d165b",
   "metadata": {},
   "source": [
    "Пересечений пользователей нет"
   ]
  },
  {
   "cell_type": "markdown",
   "id": "GjulgSrlsqUU",
   "metadata": {
    "id": "GjulgSrlsqUU"
   },
   "source": [
    "### 3\\.2 Анализ данных о пользовательской активности по таблице `ab_test_events`:"
   ]
  },
  {
   "cell_type": "code",
   "execution_count": null,
   "id": "QMt0Ybo_swDK",
   "metadata": {
    "id": "QMt0Ybo_swDK"
   },
   "outputs": [
    {
     "name": "stdout",
     "output_type": "stream",
     "text": [
      "Всего событий: 72935\n",
      "                user_id            event_dt    event_name details\n",
      "64672  5F506CEBEDC05D30 2020-12-06 14:10:01  registration     0.0\n",
      "64946  51278A006E918D97 2020-12-06 14:37:25  registration    -3.8\n",
      "66585  A0C1E8EFAD874D8B 2020-12-06 17:20:22  registration   -3.32\n",
      "67873  275A8D6254ACF530 2020-12-06 19:36:54  registration   -0.48\n",
      "67930  0B704EB2DC7FCA4B 2020-12-06 19:42:20  registration     0.0\n"
     ]
    }
   ],
   "source": [
    "# Оставляем только участников нужного теста\n",
    "interface_users = participants_eu_clean[participants_eu_clean['ab_test'] == 'interface_eu_test']['user_id'].unique()\n",
    "\n",
    "# Фильтруем события по этим пользователям\n",
    "interface_events = events[events['user_id'].isin(interface_users)]\n",
    "\n",
    "# Проверим результат\n",
    "print(f\"Всего событий: {len(interface_events)}\")\n",
    "print(interface_events.head())"
   ]
  },
  {
   "cell_type": "code",
   "execution_count": null,
   "id": "398e30af",
   "metadata": {
    "id": "sES4-dKts0Yb"
   },
   "outputs": [
    {
     "name": "stderr",
     "output_type": "stream",
     "text": [
      "/tmp/ipykernel_164/14513223.py:2: SettingWithCopyWarning: \n",
      "A value is trying to be set on a copy of a slice from a DataFrame.\n",
      "Try using .loc[row_indexer,col_indexer] = value instead\n",
      "\n",
      "See the caveats in the documentation: https://pandas.pydata.org/pandas-docs/stable/user_guide/indexing.html#returning-a-view-versus-a-copy\n",
      "  interface_events['event_dt'] = pd.to_datetime(interface_events['event_dt'])\n"
     ]
    }
   ],
   "source": [
    "# Приводим дату события к нужному формату\n",
    "interface_events['event_dt'] = pd.to_datetime(interface_events['event_dt'])\n",
    "\n",
    "# Находим дату регистрации каждого пользователя — первое событие 'registration'\n",
    "registration = interface_events[interface_events['event_name'] == 'registration'].groupby('user_id')['event_dt'].min().reset_index()\n",
    "registration = registration.rename(columns={'event_dt': 'registration_dt'})"
   ]
  },
  {
   "cell_type": "code",
   "execution_count": null,
   "id": "sES4-dKts0Yb",
   "metadata": {
    "id": "sES4-dKts0Yb"
   },
   "outputs": [
    {
     "name": "stdout",
     "output_type": "stream",
     "text": [
      "Событий в первые 7 дней после регистрации: 62934\n"
     ]
    }
   ],
   "source": [
    "# Объединяем исходный датафрейм с датами регистрации\n",
    "interface_events = interface_events.merge(registration, on='user_id', how='left')\n",
    "\n",
    "# Считаем, сколько дней прошло от регистрации до каждого события\n",
    "interface_events['days_since_registration'] = (interface_events['event_dt'] - interface_events['registration_dt']).dt.days\n",
    "\n",
    "# Оставляем только события в первые 7 дней (включительно)\n",
    "events_7days = interface_events[(interface_events['days_since_registration'] >= 0) & (interface_events['days_since_registration'] <= 6)]\n",
    "\n",
    "print(f\"Событий в первые 7 дней после регистрации: {len(events_7days)}\")"
   ]
  },
  {
   "cell_type": "code",
   "execution_count": null,
   "id": "7d97b466",
   "metadata": {},
   "outputs": [
    {
     "name": "stdout",
     "output_type": "stream",
     "text": [
      "Минимальный размер выборки на каждую группу: 3761 пользователей\n"
     ]
    }
   ],
   "source": [
    "from statsmodels.stats.power import NormalIndPower\n",
    "from statsmodels.stats.proportion import proportion_effectsize\n",
    "\n",
    "# Задаём параметры\n",
    "baseline_conversion = 0.3  # 30%\n",
    "mde = 0.03  # Минимальный детектируемый эффект — можно менять\n",
    "alpha = 0.05  # Уровень значимости\n",
    "power = 0.8  # Мощность теста\n",
    "\n",
    "# Рассчитываем effect size из baseline и mde\n",
    "effect_size = proportion_effectsize(baseline_conversion, baseline_conversion + mde)\n",
    "\n",
    "# Инициализируем класс для анализа мощности теста\n",
    "power_analysis = NormalIndPower()\n",
    "\n",
    "# Рассчитываем размер выборки для каждой группы (A и B)\n",
    "sample_size_per_group = power_analysis.solve_power(effect_size=effect_size, power=power, alpha=alpha, ratio=1)\n",
    "\n",
    "print(f\"Минимальный размер выборки на каждую группу: {int(sample_size_per_group)} пользователей\")"
   ]
  },
  {
   "cell_type": "markdown",
   "id": "b77810c5",
   "metadata": {},
   "source": [
    "Если в каждой группе A и B фактически присутствует не меньше 3761 пользователя, то выборка считается достаточной для обнаружения статистически значимого изменения конверсии при условии корректного проведения теста и отсутствия других искажений.\n",
    "\n",
    "Если размер групп меньше этого значения, то тест может не иметь достаточной мощности — существует риск пропуска реального эффекта (ошибка второго рода)."
   ]
  },
  {
   "cell_type": "markdown",
   "id": "SadyUDgZs0t3",
   "metadata": {
    "id": "SadyUDgZs0t3"
   },
   "source": [
    "- рассчет для каждой группы количество посетителей, сделавших покупку, и общее количество посетителей."
   ]
  },
  {
   "cell_type": "code",
   "execution_count": null,
   "id": "af0b7ced",
   "metadata": {},
   "outputs": [
    {
     "name": "stdout",
     "output_type": "stream",
     "text": [
      "  group  buyers  total_users  conversion\n",
      "0     A    1480         5383     0.27494\n",
      "1     B    1579         5467     0.28882\n"
     ]
    }
   ],
   "source": [
    "# Фильтруем события покупки\n",
    "purchases = events_7days[(events_7days['user_id'].isin(interface_users)) & (events_7days['event_name'] == 'purchase')]\n",
    "\n",
    "# Добавляем информацию о группе\n",
    "purchases = purchases.merge(participants_eu[['user_id', 'group']], on='user_id', how='left')\n",
    "\n",
    "# Считаем количество уникальных покупателей по группам\n",
    "buyers_per_group = purchases.groupby('group')['user_id'].nunique().reset_index(name='buyers')\n",
    "\n",
    "# Считаем общее количество пользователей в каждой группе\n",
    "total_per_group = participants_eu.groupby('group')['user_id'].nunique().reset_index(name='total_users')\n",
    "\n",
    "# Объединяем результаты\n",
    "summary = buyers_per_group.merge(total_per_group, on='group')\n",
    "\n",
    "# Добавляем конверсию\n",
    "summary['conversion'] = (summary['buyers'] / summary['total_users']).round(5)\n",
    "\n",
    "print(summary)"
   ]
  },
  {
   "cell_type": "markdown",
   "id": "7f58564e",
   "metadata": {
    "id": "hHTHPkJYs8mE"
   },
   "source": [
    "- Конверсия в тестовой группе B составила 28.88%, в то время как в контрольной группе A — 27.49%.\n",
    "Разница в конверсии: 28.88% − 27.49% = 1.39 п.п.\n",
    "\n",
    "Таким образом, в тестовой группе наблюдается небольшой рост конверсии по сравнению с контрольной. Однако:\n",
    "  - прирост меньше целевого значения в 3 п.п., заданного в гипотезе;\n",
    "  - перед принятием решения необходимо проверить статистическую значимость этой разницы.\n"
   ]
  },
  {
   "cell_type": "markdown",
   "id": "IKZ1Oo3Ws919",
   "metadata": {
    "id": "IKZ1Oo3Ws919"
   },
   "source": [
    "## 4. Оценка результатов A/B-тестирования:"
   ]
  },
  {
   "cell_type": "markdown",
   "id": "dcUdBSmvtC-E",
   "metadata": {
    "id": "dcUdBSmvtC-E"
   },
   "source": [
    "- Проверка изменения конверсии"
   ]
  },
  {
   "cell_type": "code",
   "execution_count": null,
   "id": "l_KOziBQtL3t",
   "metadata": {
    "id": "l_KOziBQtL3t"
   },
   "outputs": [
    {
     "name": "stdout",
     "output_type": "stream",
     "text": [
      "Конверсия группы A: 0.2749\n",
      "Конверсия группы B: 0.2888\n"
     ]
    }
   ],
   "source": [
    "summary['conversion'] = summary['buyers'] / summary['total_users']\n",
    "\n",
    "# Выделим конверсии по группам\n",
    "conv_A = summary.loc[summary['group'] == 'A', 'conversion'].values[0]\n",
    "conv_B = summary.loc[summary['group'] == 'B', 'conversion'].values[0]\n",
    "\n",
    "print(f\"Конверсия группы A: {conv_A:.4f}\")\n",
    "print(f\"Конверсия группы B: {conv_B:.4f}\")"
   ]
  },
  {
   "cell_type": "markdown",
   "id": "6d782891",
   "metadata": {},
   "source": [
    "Гипотеза:\n",
    "\n",
    "- H0: Конверсия в группе B не выше, чем в группе A..\n",
    "- H1: Конверсия в группе B выше, чем в группе A."
   ]
  },
  {
   "cell_type": "code",
   "execution_count": null,
   "id": "2e1e42d6",
   "metadata": {},
   "outputs": [],
   "source": [
    "from statsmodels.stats.proportion import proportions_ztest"
   ]
  },
  {
   "cell_type": "code",
   "execution_count": null,
   "id": "a98a730c",
   "metadata": {},
   "outputs": [
    {
     "name": "stdout",
     "output_type": "stream",
     "text": [
      "Z-статистика: 1.6071\n",
      "p-value: 0.0540\n"
     ]
    }
   ],
   "source": [
    "# Сохраняем значения в нужном порядке: сначала B, потом A\n",
    "successes = summary.sort_values('group', ascending=False)['buyers'].values\n",
    "nobs = summary.sort_values('group', ascending=False)['total_users'].values\n",
    "\n",
    "# Односторонний z-тест: альтернативная гипотеза — конверсия B > конверсии A\n",
    "stat, p_value = proportions_ztest(successes, nobs, alternative='larger')\n",
    "\n",
    "print(f\"Z-статистика: {stat:.4f}\")\n",
    "print(f\"p-value: {p_value:.4f}\")"
   ]
  },
  {
   "cell_type": "code",
   "execution_count": null,
   "id": "2ac0c136",
   "metadata": {},
   "outputs": [
    {
     "name": "stdout",
     "output_type": "stream",
     "text": [
      "Z-статистика: 1.6071\n",
      "p-value: 0.0540\n",
      "Нет оснований отклонить H0: статистически значимых различий нет.\n"
     ]
    }
   ],
   "source": [
    "# Односторонний тест (alternative='larger' означает H1: конверсия B > A)\n",
    "stat, p_value = proportions_ztest(successes, nobs, alternative='larger')\n",
    "\n",
    "print(f\"Z-статистика: {stat:.4f}\")\n",
    "print(f\"p-value: {p_value:.4f}\")\n",
    "\n",
    "alpha = 0.05\n",
    "if p_value < alpha:\n",
    "    print(\"Отклоняем H0: Конверсия в группе B статистически значимо выше.\")\n",
    "else:\n",
    "    print(\"Нет оснований отклонить H0: статистически значимых различий нет.\")"
   ]
  },
  {
   "cell_type": "markdown",
   "id": "npoPPSKytKvR",
   "metadata": {
    "id": "npoPPSKytKvR"
   },
   "source": [
    "Конверсия в группе A составила 27.49%, а в группе B — 28.88%.\n",
    "Абсолютная разница — +1.39 п.п.\n",
    "\n",
    "Z-тест на пропорции показал пограничное значение статистической значимости:\n",
    "Z-статистика = 1.61, p-value = 0.0540, что немного превышает порог α = 0.05.\n",
    "\n",
    "Таким образом:\n",
    "\n",
    "- Оснований отклонить нулевую гипотезу нет — статистической значимости в пользу роста конверсии недостаточно.\n",
    "- Целевой прирост в 3 п.п. не достигнут (фактически прирост 1.39 п.п.).\n",
    "- Хотя наблюдается положительная динамика в тестовой группе, она неубедительна с точки зрения статистики и требований ТЗ.\n",
    "\n",
    "Вывод: на данном этапе внедрение нового интерфейса нецелесообразно. Рекомендуется либо провести тест с большей выборкой или длительностью, либо пересмотреть изменения в интерфейсе, чтобы достичь более выраженного эффекта."
   ]
  }
 ],
 "metadata": {
  "ExecuteTimeLog": [
   {
    "duration": 464,
    "start_time": "2025-06-04T14:11:01.590Z"
   },
   {
    "duration": 16,
    "start_time": "2025-06-04T14:12:11.270Z"
   },
   {
    "duration": 500,
    "start_time": "2025-06-04T14:17:39.145Z"
   },
   {
    "duration": 11,
    "start_time": "2025-06-04T14:18:34.154Z"
   },
   {
    "duration": 104,
    "start_time": "2025-06-04T14:21:37.726Z"
   },
   {
    "duration": 11,
    "start_time": "2025-06-04T14:23:43.047Z"
   },
   {
    "duration": 22,
    "start_time": "2025-06-04T14:24:07.856Z"
   },
   {
    "duration": 15,
    "start_time": "2025-06-04T14:25:05.269Z"
   },
   {
    "duration": 25,
    "start_time": "2025-06-04T14:25:43.028Z"
   },
   {
    "duration": 9,
    "start_time": "2025-06-04T14:26:00.695Z"
   },
   {
    "duration": 1551,
    "start_time": "2025-06-04T14:29:40.854Z"
   },
   {
    "duration": 13,
    "start_time": "2025-06-04T14:29:57.642Z"
   },
   {
    "duration": 10,
    "start_time": "2025-06-04T14:30:07.728Z"
   },
   {
    "duration": 11,
    "start_time": "2025-06-04T14:38:08.331Z"
   },
   {
    "duration": 11,
    "start_time": "2025-06-04T14:38:30.533Z"
   },
   {
    "duration": 23,
    "start_time": "2025-06-04T14:40:13.466Z"
   },
   {
    "duration": 9,
    "start_time": "2025-06-04T14:42:40.567Z"
   },
   {
    "duration": 14,
    "start_time": "2025-06-04T14:46:24.492Z"
   },
   {
    "duration": 110,
    "start_time": "2025-06-04T14:49:11.037Z"
   },
   {
    "duration": 360,
    "start_time": "2025-06-04T14:51:30.395Z"
   },
   {
    "duration": 1719,
    "start_time": "2025-06-04T14:51:52.603Z"
   },
   {
    "duration": 947,
    "start_time": "2025-06-04T14:53:17.423Z"
   },
   {
    "duration": 1819,
    "start_time": "2025-06-04T14:53:50.938Z"
   },
   {
    "duration": 910,
    "start_time": "2025-06-04T14:53:54.394Z"
   },
   {
    "duration": 33,
    "start_time": "2025-06-04T14:58:09.967Z"
   },
   {
    "duration": 121,
    "start_time": "2025-06-04T15:02:19.260Z"
   },
   {
    "duration": 4,
    "start_time": "2025-06-04T15:06:15.909Z"
   },
   {
    "duration": 7,
    "start_time": "2025-06-04T15:07:49.112Z"
   },
   {
    "duration": 128,
    "start_time": "2025-06-04T15:16:20.596Z"
   },
   {
    "duration": 10,
    "start_time": "2025-06-04T15:16:32.447Z"
   },
   {
    "duration": 120,
    "start_time": "2025-06-04T15:20:07.582Z"
   },
   {
    "duration": 596,
    "start_time": "2025-06-04T15:20:15.713Z"
   },
   {
    "duration": 16,
    "start_time": "2025-06-04T15:20:16.312Z"
   },
   {
    "duration": 584,
    "start_time": "2025-06-04T15:20:16.330Z"
   },
   {
    "duration": 1820,
    "start_time": "2025-06-04T15:20:16.916Z"
   },
   {
    "duration": 9,
    "start_time": "2025-06-04T15:20:18.738Z"
   },
   {
    "duration": 13,
    "start_time": "2025-06-04T15:20:18.750Z"
   },
   {
    "duration": 11,
    "start_time": "2025-06-04T15:20:18.765Z"
   },
   {
    "duration": 142,
    "start_time": "2025-06-04T15:20:18.778Z"
   },
   {
    "duration": 165,
    "start_time": "2025-06-04T15:20:18.922Z"
   },
   {
    "duration": 11,
    "start_time": "2025-06-04T15:20:19.090Z"
   },
   {
    "duration": 32,
    "start_time": "2025-06-04T15:20:19.104Z"
   },
   {
    "duration": 24,
    "start_time": "2025-06-04T15:20:19.138Z"
   },
   {
    "duration": 116,
    "start_time": "2025-06-04T15:20:19.165Z"
   },
   {
    "duration": 770,
    "start_time": "2025-06-04T15:20:19.283Z"
   },
   {
    "duration": 21,
    "start_time": "2025-06-04T15:20:20.054Z"
   },
   {
    "duration": 123,
    "start_time": "2025-06-04T15:20:20.077Z"
   },
   {
    "duration": 3,
    "start_time": "2025-06-04T15:20:20.202Z"
   },
   {
    "duration": 10,
    "start_time": "2025-06-04T15:20:20.207Z"
   },
   {
    "duration": 145,
    "start_time": "2025-06-04T15:22:17.475Z"
   },
   {
    "duration": 8,
    "start_time": "2025-06-04T15:34:43.769Z"
   },
   {
    "duration": 8,
    "start_time": "2025-06-04T15:35:36.971Z"
   },
   {
    "duration": 101,
    "start_time": "2025-06-04T15:35:51.722Z"
   },
   {
    "duration": 8,
    "start_time": "2025-06-04T15:36:05.237Z"
   },
   {
    "duration": 9,
    "start_time": "2025-06-04T15:36:26.212Z"
   },
   {
    "duration": 432,
    "start_time": "2025-06-04T15:36:56.989Z"
   },
   {
    "duration": 69,
    "start_time": "2025-06-04T15:36:57.423Z"
   },
   {
    "duration": 0,
    "start_time": "2025-06-04T15:36:57.494Z"
   },
   {
    "duration": 0,
    "start_time": "2025-06-04T15:36:57.496Z"
   },
   {
    "duration": 0,
    "start_time": "2025-06-04T15:36:57.497Z"
   },
   {
    "duration": 0,
    "start_time": "2025-06-04T15:36:57.498Z"
   },
   {
    "duration": 0,
    "start_time": "2025-06-04T15:36:57.499Z"
   },
   {
    "duration": 1,
    "start_time": "2025-06-04T15:36:57.500Z"
   },
   {
    "duration": 0,
    "start_time": "2025-06-04T15:36:57.502Z"
   },
   {
    "duration": 0,
    "start_time": "2025-06-04T15:36:57.503Z"
   },
   {
    "duration": 1,
    "start_time": "2025-06-04T15:36:57.504Z"
   },
   {
    "duration": 0,
    "start_time": "2025-06-04T15:36:57.505Z"
   },
   {
    "duration": 0,
    "start_time": "2025-06-04T15:36:57.506Z"
   },
   {
    "duration": 0,
    "start_time": "2025-06-04T15:36:57.508Z"
   },
   {
    "duration": 0,
    "start_time": "2025-06-04T15:36:57.509Z"
   },
   {
    "duration": 0,
    "start_time": "2025-06-04T15:36:57.510Z"
   },
   {
    "duration": 0,
    "start_time": "2025-06-04T15:36:57.537Z"
   },
   {
    "duration": 0,
    "start_time": "2025-06-04T15:36:57.538Z"
   },
   {
    "duration": 0,
    "start_time": "2025-06-04T15:36:57.539Z"
   },
   {
    "duration": 26,
    "start_time": "2025-06-04T15:38:50.190Z"
   },
   {
    "duration": 517,
    "start_time": "2025-06-04T15:39:48.716Z"
   },
   {
    "duration": 27,
    "start_time": "2025-06-04T15:39:49.235Z"
   },
   {
    "duration": 502,
    "start_time": "2025-06-04T15:39:49.264Z"
   },
   {
    "duration": 1515,
    "start_time": "2025-06-04T15:39:49.768Z"
   },
   {
    "duration": 160,
    "start_time": "2025-06-04T15:39:51.284Z"
   },
   {
    "duration": 8,
    "start_time": "2025-06-04T15:39:51.445Z"
   },
   {
    "duration": 151,
    "start_time": "2025-06-04T15:39:51.454Z"
   },
   {
    "duration": 111,
    "start_time": "2025-06-04T15:39:51.606Z"
   },
   {
    "duration": 20,
    "start_time": "2025-06-04T15:39:51.718Z"
   },
   {
    "duration": 8,
    "start_time": "2025-06-04T15:39:51.740Z"
   },
   {
    "duration": 39,
    "start_time": "2025-06-04T15:39:51.749Z"
   },
   {
    "duration": 32,
    "start_time": "2025-06-04T15:39:51.790Z"
   },
   {
    "duration": 84,
    "start_time": "2025-06-04T15:39:51.824Z"
   },
   {
    "duration": 775,
    "start_time": "2025-06-04T15:39:51.910Z"
   },
   {
    "duration": 22,
    "start_time": "2025-06-04T15:39:52.687Z"
   },
   {
    "duration": 150,
    "start_time": "2025-06-04T15:39:52.711Z"
   },
   {
    "duration": 4,
    "start_time": "2025-06-04T15:39:52.863Z"
   },
   {
    "duration": 14,
    "start_time": "2025-06-04T15:39:52.869Z"
   },
   {
    "duration": 473,
    "start_time": "2025-06-04T16:02:58.200Z"
   },
   {
    "duration": 25,
    "start_time": "2025-06-04T16:02:58.675Z"
   },
   {
    "duration": 615,
    "start_time": "2025-06-04T16:02:58.702Z"
   },
   {
    "duration": 1512,
    "start_time": "2025-06-04T16:02:59.319Z"
   },
   {
    "duration": 167,
    "start_time": "2025-06-04T16:03:00.834Z"
   },
   {
    "duration": 8,
    "start_time": "2025-06-04T16:03:01.002Z"
   },
   {
    "duration": 164,
    "start_time": "2025-06-04T16:03:01.012Z"
   },
   {
    "duration": 109,
    "start_time": "2025-06-04T16:03:01.177Z"
   },
   {
    "duration": 7,
    "start_time": "2025-06-04T16:03:01.288Z"
   },
   {
    "duration": 138,
    "start_time": "2025-06-04T16:03:01.296Z"
   },
   {
    "duration": 26,
    "start_time": "2025-06-04T16:03:01.436Z"
   },
   {
    "duration": 31,
    "start_time": "2025-06-04T16:03:01.464Z"
   },
   {
    "duration": 111,
    "start_time": "2025-06-04T16:03:01.497Z"
   },
   {
    "duration": 766,
    "start_time": "2025-06-04T16:03:01.612Z"
   },
   {
    "duration": 22,
    "start_time": "2025-06-04T16:03:02.379Z"
   },
   {
    "duration": 134,
    "start_time": "2025-06-04T16:03:02.402Z"
   },
   {
    "duration": 3,
    "start_time": "2025-06-04T16:03:02.538Z"
   },
   {
    "duration": 131,
    "start_time": "2025-06-04T16:03:02.543Z"
   },
   {
    "duration": 396,
    "start_time": "2025-06-05T17:07:57.609Z"
   },
   {
    "duration": 23,
    "start_time": "2025-06-05T17:07:58.007Z"
   },
   {
    "duration": 464,
    "start_time": "2025-06-05T17:07:58.031Z"
   },
   {
    "duration": 6,
    "start_time": "2025-06-05T17:07:58.496Z"
   },
   {
    "duration": 4,
    "start_time": "2025-06-05T17:07:58.504Z"
   },
   {
    "duration": 11,
    "start_time": "2025-06-05T17:07:58.509Z"
   },
   {
    "duration": 5,
    "start_time": "2025-06-05T17:07:58.521Z"
   },
   {
    "duration": 1478,
    "start_time": "2025-06-05T17:07:58.527Z"
   },
   {
    "duration": 140,
    "start_time": "2025-06-05T17:08:00.007Z"
   },
   {
    "duration": 87,
    "start_time": "2025-06-05T17:08:00.148Z"
   },
   {
    "duration": 113,
    "start_time": "2025-06-05T17:08:00.237Z"
   },
   {
    "duration": 85,
    "start_time": "2025-06-05T17:08:00.351Z"
   },
   {
    "duration": 6,
    "start_time": "2025-06-05T17:08:00.437Z"
   },
   {
    "duration": 34,
    "start_time": "2025-06-05T17:08:00.446Z"
   },
   {
    "duration": 37,
    "start_time": "2025-06-05T17:08:00.481Z"
   },
   {
    "duration": 39,
    "start_time": "2025-06-05T17:08:00.520Z"
   },
   {
    "duration": 121,
    "start_time": "2025-06-05T17:08:00.561Z"
   },
   {
    "duration": 290,
    "start_time": "2025-06-05T17:08:00.683Z"
   },
   {
    "duration": 413,
    "start_time": "2025-06-05T17:08:00.975Z"
   },
   {
    "duration": 20,
    "start_time": "2025-06-05T17:08:01.390Z"
   },
   {
    "duration": 87,
    "start_time": "2025-06-05T17:08:01.412Z"
   },
   {
    "duration": 29,
    "start_time": "2025-06-05T17:08:01.501Z"
   },
   {
    "duration": 18,
    "start_time": "2025-06-05T17:08:01.532Z"
   },
   {
    "duration": 61,
    "start_time": "2025-06-05T17:08:01.551Z"
   },
   {
    "duration": 131,
    "start_time": "2025-06-05T17:08:01.613Z"
   },
   {
    "duration": 352,
    "start_time": "2025-06-05T17:11:28.158Z"
   },
   {
    "duration": 345,
    "start_time": "2025-06-05T17:11:37.067Z"
   },
   {
    "duration": 377,
    "start_time": "2025-06-05T17:12:34.326Z"
   },
   {
    "duration": 337,
    "start_time": "2025-06-05T17:12:40.026Z"
   },
   {
    "duration": 83,
    "start_time": "2025-06-05T17:13:02.574Z"
   },
   {
    "duration": 12,
    "start_time": "2025-06-05T17:15:37.237Z"
   },
   {
    "duration": 12,
    "start_time": "2025-06-05T17:17:12.278Z"
   },
   {
    "duration": 12,
    "start_time": "2025-06-05T17:18:39.506Z"
   },
   {
    "duration": 10,
    "start_time": "2025-06-05T17:18:51.836Z"
   },
   {
    "duration": 35,
    "start_time": "2025-06-05T17:21:07.295Z"
   },
   {
    "duration": 38,
    "start_time": "2025-06-05T17:21:28.380Z"
   },
   {
    "duration": 93,
    "start_time": "2025-06-05T17:21:55.062Z"
   },
   {
    "duration": 1342,
    "start_time": "2025-06-05T17:22:18.098Z"
   },
   {
    "duration": 484,
    "start_time": "2025-06-05T17:22:40.173Z"
   },
   {
    "duration": 23,
    "start_time": "2025-06-05T17:22:40.658Z"
   },
   {
    "duration": 424,
    "start_time": "2025-06-05T17:22:40.683Z"
   },
   {
    "duration": 7,
    "start_time": "2025-06-05T17:22:41.108Z"
   },
   {
    "duration": 27,
    "start_time": "2025-06-05T17:22:41.117Z"
   },
   {
    "duration": 11,
    "start_time": "2025-06-05T17:22:41.146Z"
   },
   {
    "duration": 5,
    "start_time": "2025-06-05T17:22:41.158Z"
   },
   {
    "duration": 1408,
    "start_time": "2025-06-05T17:22:41.164Z"
   },
   {
    "duration": 138,
    "start_time": "2025-06-05T17:22:42.573Z"
   },
   {
    "duration": 6,
    "start_time": "2025-06-05T17:22:42.714Z"
   },
   {
    "duration": 112,
    "start_time": "2025-06-05T17:22:42.722Z"
   },
   {
    "duration": 98,
    "start_time": "2025-06-05T17:22:42.836Z"
   },
   {
    "duration": 297,
    "start_time": "2025-06-05T17:22:42.936Z"
   },
   {
    "duration": 306,
    "start_time": "2025-06-05T17:22:43.235Z"
   },
   {
    "duration": 8,
    "start_time": "2025-06-05T17:22:43.543Z"
   },
   {
    "duration": 13,
    "start_time": "2025-06-05T17:22:43.561Z"
   },
   {
    "duration": 17,
    "start_time": "2025-06-05T17:22:43.575Z"
   },
   {
    "duration": 13,
    "start_time": "2025-06-05T17:22:43.594Z"
   },
   {
    "duration": 10,
    "start_time": "2025-06-05T17:22:43.609Z"
   },
   {
    "duration": 93,
    "start_time": "2025-06-05T17:22:43.620Z"
   },
   {
    "duration": 34,
    "start_time": "2025-06-05T17:22:43.715Z"
   },
   {
    "duration": 36,
    "start_time": "2025-06-05T17:22:43.761Z"
   },
   {
    "duration": 20,
    "start_time": "2025-06-05T17:22:43.799Z"
   },
   {
    "duration": 92,
    "start_time": "2025-06-05T17:22:43.820Z"
   },
   {
    "duration": 34,
    "start_time": "2025-06-05T17:22:43.914Z"
   },
   {
    "duration": 85,
    "start_time": "2025-06-05T17:22:43.949Z"
   },
   {
    "duration": 8,
    "start_time": "2025-06-05T17:22:44.036Z"
   },
   {
    "duration": 14,
    "start_time": "2025-06-05T17:22:44.047Z"
   },
   {
    "duration": 66,
    "start_time": "2025-06-05T17:23:28.764Z"
   },
   {
    "duration": 3,
    "start_time": "2025-06-05T17:26:12.448Z"
   },
   {
    "duration": 58,
    "start_time": "2025-06-05T17:31:11.864Z"
   },
   {
    "duration": 36,
    "start_time": "2025-06-05T17:33:33.104Z"
   },
   {
    "duration": 1079,
    "start_time": "2025-06-05T17:33:55.583Z"
   },
   {
    "duration": 7,
    "start_time": "2025-06-05T17:34:43.952Z"
   },
   {
    "duration": 7,
    "start_time": "2025-06-05T17:34:51.301Z"
   },
   {
    "duration": 6,
    "start_time": "2025-06-05T17:39:24.087Z"
   },
   {
    "duration": 4,
    "start_time": "2025-06-05T17:42:40.157Z"
   },
   {
    "duration": 420,
    "start_time": "2025-06-05T17:44:04.590Z"
   },
   {
    "duration": 21,
    "start_time": "2025-06-05T17:44:05.013Z"
   },
   {
    "duration": 462,
    "start_time": "2025-06-05T17:44:05.035Z"
   },
   {
    "duration": 6,
    "start_time": "2025-06-05T17:44:05.499Z"
   },
   {
    "duration": 22,
    "start_time": "2025-06-05T17:44:05.507Z"
   },
   {
    "duration": 25,
    "start_time": "2025-06-05T17:44:05.531Z"
   },
   {
    "duration": 25,
    "start_time": "2025-06-05T17:44:05.557Z"
   },
   {
    "duration": 1369,
    "start_time": "2025-06-05T17:44:05.583Z"
   },
   {
    "duration": 139,
    "start_time": "2025-06-05T17:44:06.954Z"
   },
   {
    "duration": 6,
    "start_time": "2025-06-05T17:44:07.094Z"
   },
   {
    "duration": 146,
    "start_time": "2025-06-05T17:44:07.101Z"
   },
   {
    "duration": 94,
    "start_time": "2025-06-05T17:44:07.248Z"
   },
   {
    "duration": 289,
    "start_time": "2025-06-05T17:44:07.343Z"
   },
   {
    "duration": 307,
    "start_time": "2025-06-05T17:44:07.635Z"
   },
   {
    "duration": 6,
    "start_time": "2025-06-05T17:44:07.943Z"
   },
   {
    "duration": 97,
    "start_time": "2025-06-05T17:44:07.951Z"
   },
   {
    "duration": 80,
    "start_time": "2025-06-05T17:44:08.050Z"
   },
   {
    "duration": 59,
    "start_time": "2025-06-05T17:44:08.132Z"
   },
   {
    "duration": 9,
    "start_time": "2025-06-05T17:44:08.192Z"
   },
   {
    "duration": 78,
    "start_time": "2025-06-05T17:44:08.203Z"
   },
   {
    "duration": 30,
    "start_time": "2025-06-05T17:44:08.282Z"
   },
   {
    "duration": 81,
    "start_time": "2025-06-05T17:44:08.314Z"
   },
   {
    "duration": 20,
    "start_time": "2025-06-05T17:44:08.397Z"
   },
   {
    "duration": 102,
    "start_time": "2025-06-05T17:44:08.419Z"
   },
   {
    "duration": 0,
    "start_time": "2025-06-05T17:44:08.522Z"
   },
   {
    "duration": 0,
    "start_time": "2025-06-05T17:44:08.524Z"
   },
   {
    "duration": 0,
    "start_time": "2025-06-05T17:44:08.525Z"
   },
   {
    "duration": 0,
    "start_time": "2025-06-05T17:44:08.526Z"
   },
   {
    "duration": 408,
    "start_time": "2025-06-05T17:44:43.822Z"
   },
   {
    "duration": 26,
    "start_time": "2025-06-05T17:44:44.232Z"
   },
   {
    "duration": 524,
    "start_time": "2025-06-05T17:44:44.259Z"
   },
   {
    "duration": 6,
    "start_time": "2025-06-05T17:44:44.785Z"
   },
   {
    "duration": 99,
    "start_time": "2025-06-05T17:44:44.792Z"
   },
   {
    "duration": 38,
    "start_time": "2025-06-05T17:44:44.893Z"
   },
   {
    "duration": 6,
    "start_time": "2025-06-05T17:44:44.932Z"
   },
   {
    "duration": 1296,
    "start_time": "2025-06-05T17:44:44.940Z"
   },
   {
    "duration": 133,
    "start_time": "2025-06-05T17:44:46.238Z"
   },
   {
    "duration": 6,
    "start_time": "2025-06-05T17:44:46.374Z"
   },
   {
    "duration": 112,
    "start_time": "2025-06-05T17:44:46.381Z"
   },
   {
    "duration": 96,
    "start_time": "2025-06-05T17:44:46.495Z"
   },
   {
    "duration": 287,
    "start_time": "2025-06-05T17:44:46.592Z"
   },
   {
    "duration": 305,
    "start_time": "2025-06-05T17:44:46.880Z"
   },
   {
    "duration": 7,
    "start_time": "2025-06-05T17:44:47.187Z"
   },
   {
    "duration": 29,
    "start_time": "2025-06-05T17:44:47.196Z"
   },
   {
    "duration": 11,
    "start_time": "2025-06-05T17:44:47.227Z"
   },
   {
    "duration": 20,
    "start_time": "2025-06-05T17:44:47.239Z"
   },
   {
    "duration": 14,
    "start_time": "2025-06-05T17:44:47.261Z"
   },
   {
    "duration": 82,
    "start_time": "2025-06-05T17:44:47.277Z"
   },
   {
    "duration": 34,
    "start_time": "2025-06-05T17:44:47.360Z"
   },
   {
    "duration": 34,
    "start_time": "2025-06-05T17:44:47.396Z"
   },
   {
    "duration": 54,
    "start_time": "2025-06-05T17:44:47.431Z"
   },
   {
    "duration": 106,
    "start_time": "2025-06-05T17:44:47.488Z"
   },
   {
    "duration": 0,
    "start_time": "2025-06-05T17:44:47.596Z"
   },
   {
    "duration": 0,
    "start_time": "2025-06-05T17:44:47.597Z"
   },
   {
    "duration": 0,
    "start_time": "2025-06-05T17:44:47.599Z"
   },
   {
    "duration": 0,
    "start_time": "2025-06-05T17:44:47.600Z"
   },
   {
    "duration": 473,
    "start_time": "2025-06-05T17:45:23.941Z"
   },
   {
    "duration": 22,
    "start_time": "2025-06-05T17:45:24.416Z"
   },
   {
    "duration": 477,
    "start_time": "2025-06-05T17:45:24.440Z"
   },
   {
    "duration": 6,
    "start_time": "2025-06-05T17:45:24.918Z"
   },
   {
    "duration": 40,
    "start_time": "2025-06-05T17:45:24.926Z"
   },
   {
    "duration": 9,
    "start_time": "2025-06-05T17:45:24.968Z"
   },
   {
    "duration": 6,
    "start_time": "2025-06-05T17:45:24.978Z"
   },
   {
    "duration": 1352,
    "start_time": "2025-06-05T17:45:24.985Z"
   },
   {
    "duration": 137,
    "start_time": "2025-06-05T17:45:26.339Z"
   },
   {
    "duration": 7,
    "start_time": "2025-06-05T17:45:26.479Z"
   },
   {
    "duration": 113,
    "start_time": "2025-06-05T17:45:26.487Z"
   },
   {
    "duration": 100,
    "start_time": "2025-06-05T17:45:26.602Z"
   },
   {
    "duration": 301,
    "start_time": "2025-06-05T17:45:26.704Z"
   },
   {
    "duration": 311,
    "start_time": "2025-06-05T17:45:27.007Z"
   },
   {
    "duration": 6,
    "start_time": "2025-06-05T17:45:27.319Z"
   },
   {
    "duration": 26,
    "start_time": "2025-06-05T17:45:27.327Z"
   },
   {
    "duration": 14,
    "start_time": "2025-06-05T17:45:27.355Z"
   },
   {
    "duration": 13,
    "start_time": "2025-06-05T17:45:27.370Z"
   },
   {
    "duration": 9,
    "start_time": "2025-06-05T17:45:27.385Z"
   },
   {
    "duration": 91,
    "start_time": "2025-06-05T17:45:27.395Z"
   },
   {
    "duration": 52,
    "start_time": "2025-06-05T17:45:27.488Z"
   },
   {
    "duration": 55,
    "start_time": "2025-06-05T17:45:27.541Z"
   },
   {
    "duration": 20,
    "start_time": "2025-06-05T17:45:27.597Z"
   },
   {
    "duration": 74,
    "start_time": "2025-06-05T17:45:27.619Z"
   },
   {
    "duration": 103,
    "start_time": "2025-06-05T17:45:27.695Z"
   },
   {
    "duration": 0,
    "start_time": "2025-06-05T17:45:27.800Z"
   },
   {
    "duration": 0,
    "start_time": "2025-06-05T17:45:27.802Z"
   },
   {
    "duration": 0,
    "start_time": "2025-06-05T17:45:27.803Z"
   },
   {
    "duration": 0,
    "start_time": "2025-06-05T17:45:27.804Z"
   },
   {
    "duration": 432,
    "start_time": "2025-06-05T17:46:35.126Z"
   },
   {
    "duration": 24,
    "start_time": "2025-06-05T17:46:35.560Z"
   },
   {
    "duration": 426,
    "start_time": "2025-06-05T17:46:35.586Z"
   },
   {
    "duration": 6,
    "start_time": "2025-06-05T17:46:36.014Z"
   },
   {
    "duration": 157,
    "start_time": "2025-06-05T17:46:36.022Z"
   },
   {
    "duration": 53,
    "start_time": "2025-06-05T17:46:36.180Z"
   },
   {
    "duration": 31,
    "start_time": "2025-06-05T17:46:36.235Z"
   },
   {
    "duration": 1510,
    "start_time": "2025-06-05T17:46:36.267Z"
   },
   {
    "duration": 139,
    "start_time": "2025-06-05T17:46:37.779Z"
   },
   {
    "duration": 114,
    "start_time": "2025-06-05T17:46:37.920Z"
   },
   {
    "duration": 433,
    "start_time": "2025-06-05T17:46:38.035Z"
   },
   {
    "duration": 96,
    "start_time": "2025-06-05T17:46:38.469Z"
   },
   {
    "duration": 287,
    "start_time": "2025-06-05T17:46:38.567Z"
   },
   {
    "duration": 305,
    "start_time": "2025-06-05T17:46:38.860Z"
   },
   {
    "duration": 7,
    "start_time": "2025-06-05T17:46:39.166Z"
   },
   {
    "duration": 10,
    "start_time": "2025-06-05T17:46:39.174Z"
   },
   {
    "duration": 6,
    "start_time": "2025-06-05T17:46:39.186Z"
   },
   {
    "duration": 15,
    "start_time": "2025-06-05T17:46:39.194Z"
   },
   {
    "duration": 21,
    "start_time": "2025-06-05T17:46:39.211Z"
   },
   {
    "duration": 95,
    "start_time": "2025-06-05T17:46:39.234Z"
   },
   {
    "duration": 41,
    "start_time": "2025-06-05T17:46:39.331Z"
   },
   {
    "duration": 41,
    "start_time": "2025-06-05T17:46:39.373Z"
   },
   {
    "duration": 19,
    "start_time": "2025-06-05T17:46:39.415Z"
   },
   {
    "duration": 78,
    "start_time": "2025-06-05T17:46:39.435Z"
   },
   {
    "duration": 28,
    "start_time": "2025-06-05T17:46:39.515Z"
   },
   {
    "duration": 20,
    "start_time": "2025-06-05T17:46:39.545Z"
   },
   {
    "duration": 12,
    "start_time": "2025-06-05T17:46:39.567Z"
   },
   {
    "duration": 18,
    "start_time": "2025-06-05T17:46:39.582Z"
   },
   {
    "duration": 27,
    "start_time": "2025-06-05T17:46:39.602Z"
   },
   {
    "duration": 494,
    "start_time": "2025-06-05T17:48:57.037Z"
   },
   {
    "duration": 23,
    "start_time": "2025-06-05T17:48:57.533Z"
   },
   {
    "duration": 447,
    "start_time": "2025-06-05T17:48:57.558Z"
   },
   {
    "duration": 6,
    "start_time": "2025-06-05T17:48:58.006Z"
   },
   {
    "duration": 4,
    "start_time": "2025-06-05T17:48:58.013Z"
   },
   {
    "duration": 6,
    "start_time": "2025-06-05T17:48:58.019Z"
   },
   {
    "duration": 12,
    "start_time": "2025-06-05T17:48:58.027Z"
   },
   {
    "duration": 1428,
    "start_time": "2025-06-05T17:48:58.040Z"
   },
   {
    "duration": 141,
    "start_time": "2025-06-05T17:48:59.470Z"
   },
   {
    "duration": 7,
    "start_time": "2025-06-05T17:48:59.615Z"
   },
   {
    "duration": 108,
    "start_time": "2025-06-05T17:48:59.623Z"
   },
   {
    "duration": 100,
    "start_time": "2025-06-05T17:48:59.733Z"
   },
   {
    "duration": 280,
    "start_time": "2025-06-05T17:48:59.834Z"
   },
   {
    "duration": 323,
    "start_time": "2025-06-05T17:49:00.116Z"
   },
   {
    "duration": 7,
    "start_time": "2025-06-05T17:49:00.441Z"
   },
   {
    "duration": 22,
    "start_time": "2025-06-05T17:49:00.460Z"
   },
   {
    "duration": 8,
    "start_time": "2025-06-05T17:49:00.484Z"
   },
   {
    "duration": 11,
    "start_time": "2025-06-05T17:49:00.494Z"
   },
   {
    "duration": 11,
    "start_time": "2025-06-05T17:49:00.507Z"
   },
   {
    "duration": 83,
    "start_time": "2025-06-05T17:49:00.520Z"
   },
   {
    "duration": 33,
    "start_time": "2025-06-05T17:49:00.605Z"
   },
   {
    "duration": 46,
    "start_time": "2025-06-05T17:49:00.639Z"
   },
   {
    "duration": 19,
    "start_time": "2025-06-05T17:49:00.687Z"
   },
   {
    "duration": 82,
    "start_time": "2025-06-05T17:49:00.708Z"
   },
   {
    "duration": 27,
    "start_time": "2025-06-05T17:49:00.792Z"
   },
   {
    "duration": 5,
    "start_time": "2025-06-05T17:49:00.820Z"
   },
   {
    "duration": 102,
    "start_time": "2025-06-05T17:49:00.827Z"
   },
   {
    "duration": 37,
    "start_time": "2025-06-05T17:49:00.931Z"
   },
   {
    "duration": 8,
    "start_time": "2025-06-05T17:49:00.969Z"
   },
   {
    "duration": 609,
    "start_time": "2025-06-07T09:32:43.148Z"
   },
   {
    "duration": 494,
    "start_time": "2025-06-07T09:32:43.759Z"
   },
   {
    "duration": 31,
    "start_time": "2025-06-07T09:32:44.255Z"
   },
   {
    "duration": 2,
    "start_time": "2025-06-07T09:32:44.288Z"
   },
   {
    "duration": 10,
    "start_time": "2025-06-07T09:32:44.292Z"
   },
   {
    "duration": 4,
    "start_time": "2025-06-07T09:32:44.304Z"
   },
   {
    "duration": 8,
    "start_time": "2025-06-07T09:32:44.309Z"
   },
   {
    "duration": 6,
    "start_time": "2025-06-07T09:32:44.319Z"
   },
   {
    "duration": 45,
    "start_time": "2025-06-07T09:32:44.326Z"
   },
   {
    "duration": 1761,
    "start_time": "2025-06-07T09:32:44.374Z"
   },
   {
    "duration": 182,
    "start_time": "2025-06-07T09:32:46.137Z"
   },
   {
    "duration": 8,
    "start_time": "2025-06-07T09:32:46.322Z"
   },
   {
    "duration": 131,
    "start_time": "2025-06-07T09:32:46.331Z"
   },
   {
    "duration": 113,
    "start_time": "2025-06-07T09:32:46.472Z"
   },
   {
    "duration": 317,
    "start_time": "2025-06-07T09:32:46.586Z"
   },
   {
    "duration": 358,
    "start_time": "2025-06-07T09:32:46.905Z"
   },
   {
    "duration": 12,
    "start_time": "2025-06-07T09:32:47.265Z"
   },
   {
    "duration": 8,
    "start_time": "2025-06-07T09:32:47.278Z"
   },
   {
    "duration": 8,
    "start_time": "2025-06-07T09:32:47.288Z"
   },
   {
    "duration": 17,
    "start_time": "2025-06-07T09:32:47.298Z"
   },
   {
    "duration": 10,
    "start_time": "2025-06-07T09:32:47.316Z"
   },
   {
    "duration": 121,
    "start_time": "2025-06-07T09:32:47.328Z"
   },
   {
    "duration": 52,
    "start_time": "2025-06-07T09:32:47.451Z"
   },
   {
    "duration": 42,
    "start_time": "2025-06-07T09:32:47.505Z"
   },
   {
    "duration": 39,
    "start_time": "2025-06-07T09:32:47.549Z"
   },
   {
    "duration": 88,
    "start_time": "2025-06-07T09:32:47.590Z"
   },
   {
    "duration": 33,
    "start_time": "2025-06-07T09:32:47.680Z"
   },
   {
    "duration": 7,
    "start_time": "2025-06-07T09:32:47.716Z"
   },
   {
    "duration": 9,
    "start_time": "2025-06-07T09:32:47.725Z"
   },
   {
    "duration": 9,
    "start_time": "2025-06-07T09:32:47.736Z"
   },
   {
    "duration": 29,
    "start_time": "2025-06-07T09:32:47.747Z"
   },
   {
    "duration": 14,
    "start_time": "2025-06-07T09:35:22.648Z"
   },
   {
    "duration": 86,
    "start_time": "2025-06-07T09:46:50.775Z"
   },
   {
    "duration": 42,
    "start_time": "2025-06-07T09:50:04.198Z"
   },
   {
    "duration": 497,
    "start_time": "2025-06-07T09:50:40.817Z"
   },
   {
    "duration": 503,
    "start_time": "2025-06-07T09:50:41.316Z"
   },
   {
    "duration": 29,
    "start_time": "2025-06-07T09:50:41.821Z"
   },
   {
    "duration": 20,
    "start_time": "2025-06-07T09:50:41.852Z"
   },
   {
    "duration": 21,
    "start_time": "2025-06-07T09:50:41.876Z"
   },
   {
    "duration": 35,
    "start_time": "2025-06-07T09:50:41.899Z"
   },
   {
    "duration": 32,
    "start_time": "2025-06-07T09:50:41.937Z"
   },
   {
    "duration": 7,
    "start_time": "2025-06-07T09:50:41.971Z"
   },
   {
    "duration": 17,
    "start_time": "2025-06-07T09:50:41.980Z"
   },
   {
    "duration": 1706,
    "start_time": "2025-06-07T09:50:41.999Z"
   },
   {
    "duration": 165,
    "start_time": "2025-06-07T09:50:43.707Z"
   },
   {
    "duration": 8,
    "start_time": "2025-06-07T09:50:43.874Z"
   },
   {
    "duration": 129,
    "start_time": "2025-06-07T09:50:43.884Z"
   },
   {
    "duration": 110,
    "start_time": "2025-06-07T09:50:44.016Z"
   },
   {
    "duration": 322,
    "start_time": "2025-06-07T09:50:44.129Z"
   },
   {
    "duration": 361,
    "start_time": "2025-06-07T09:50:44.452Z"
   },
   {
    "duration": 7,
    "start_time": "2025-06-07T09:50:44.816Z"
   },
   {
    "duration": 20,
    "start_time": "2025-06-07T09:50:44.825Z"
   },
   {
    "duration": 8,
    "start_time": "2025-06-07T09:50:44.846Z"
   },
   {
    "duration": 30,
    "start_time": "2025-06-07T09:50:44.856Z"
   },
   {
    "duration": 10,
    "start_time": "2025-06-07T09:50:44.887Z"
   },
   {
    "duration": 105,
    "start_time": "2025-06-07T09:50:44.899Z"
   },
   {
    "duration": 37,
    "start_time": "2025-06-07T09:50:45.005Z"
   },
   {
    "duration": 123,
    "start_time": "2025-06-07T09:50:45.043Z"
   },
   {
    "duration": 36,
    "start_time": "2025-06-07T09:50:45.168Z"
   },
   {
    "duration": 54,
    "start_time": "2025-06-07T09:50:45.205Z"
   },
   {
    "duration": 6,
    "start_time": "2025-06-07T09:50:45.260Z"
   },
   {
    "duration": 9,
    "start_time": "2025-06-07T09:50:45.268Z"
   },
   {
    "duration": 9,
    "start_time": "2025-06-07T09:50:45.279Z"
   },
   {
    "duration": 88,
    "start_time": "2025-06-07T09:51:28.004Z"
   },
   {
    "duration": 104,
    "start_time": "2025-06-07T09:54:45.100Z"
   },
   {
    "duration": 8,
    "start_time": "2025-06-07T09:57:24.688Z"
   },
   {
    "duration": 5,
    "start_time": "2025-06-07T10:03:20.824Z"
   },
   {
    "duration": 560,
    "start_time": "2025-06-07T10:03:28.585Z"
   },
   {
    "duration": 489,
    "start_time": "2025-06-07T10:03:29.148Z"
   },
   {
    "duration": 40,
    "start_time": "2025-06-07T10:03:29.639Z"
   },
   {
    "duration": 4,
    "start_time": "2025-06-07T10:03:29.680Z"
   },
   {
    "duration": 24,
    "start_time": "2025-06-07T10:03:29.686Z"
   },
   {
    "duration": 5,
    "start_time": "2025-06-07T10:03:29.712Z"
   },
   {
    "duration": 7,
    "start_time": "2025-06-07T10:03:29.719Z"
   },
   {
    "duration": 24,
    "start_time": "2025-06-07T10:03:29.728Z"
   },
   {
    "duration": 26,
    "start_time": "2025-06-07T10:03:29.754Z"
   },
   {
    "duration": 1742,
    "start_time": "2025-06-07T10:03:29.782Z"
   },
   {
    "duration": 168,
    "start_time": "2025-06-07T10:03:31.527Z"
   },
   {
    "duration": 8,
    "start_time": "2025-06-07T10:03:31.697Z"
   },
   {
    "duration": 141,
    "start_time": "2025-06-07T10:03:31.707Z"
   },
   {
    "duration": 108,
    "start_time": "2025-06-07T10:03:31.851Z"
   },
   {
    "duration": 358,
    "start_time": "2025-06-07T10:03:31.961Z"
   },
   {
    "duration": 359,
    "start_time": "2025-06-07T10:03:32.321Z"
   },
   {
    "duration": 6,
    "start_time": "2025-06-07T10:03:32.682Z"
   },
   {
    "duration": 45,
    "start_time": "2025-06-07T10:03:32.690Z"
   },
   {
    "duration": 24,
    "start_time": "2025-06-07T10:03:32.737Z"
   },
   {
    "duration": 18,
    "start_time": "2025-06-07T10:03:32.763Z"
   },
   {
    "duration": 12,
    "start_time": "2025-06-07T10:03:32.783Z"
   },
   {
    "duration": 106,
    "start_time": "2025-06-07T10:03:32.797Z"
   },
   {
    "duration": 39,
    "start_time": "2025-06-07T10:03:32.905Z"
   },
   {
    "duration": 59,
    "start_time": "2025-06-07T10:03:32.946Z"
   },
   {
    "duration": 22,
    "start_time": "2025-06-07T10:03:33.007Z"
   },
   {
    "duration": 57,
    "start_time": "2025-06-07T10:03:33.031Z"
   },
   {
    "duration": 6,
    "start_time": "2025-06-07T10:03:33.090Z"
   },
   {
    "duration": 121,
    "start_time": "2025-06-07T10:03:33.098Z"
   },
   {
    "duration": 0,
    "start_time": "2025-06-07T10:03:33.221Z"
   },
   {
    "duration": 479,
    "start_time": "2025-06-07T10:04:54.928Z"
   },
   {
    "duration": 478,
    "start_time": "2025-06-07T10:04:55.409Z"
   },
   {
    "duration": 29,
    "start_time": "2025-06-07T10:04:55.889Z"
   },
   {
    "duration": 2,
    "start_time": "2025-06-07T10:04:55.922Z"
   },
   {
    "duration": 67,
    "start_time": "2025-06-07T10:04:55.926Z"
   },
   {
    "duration": 19,
    "start_time": "2025-06-07T10:04:55.995Z"
   },
   {
    "duration": 28,
    "start_time": "2025-06-07T10:04:56.016Z"
   },
   {
    "duration": 34,
    "start_time": "2025-06-07T10:04:56.046Z"
   },
   {
    "duration": 23,
    "start_time": "2025-06-07T10:04:56.082Z"
   },
   {
    "duration": 1596,
    "start_time": "2025-06-07T10:04:56.108Z"
   },
   {
    "duration": 157,
    "start_time": "2025-06-07T10:04:57.706Z"
   },
   {
    "duration": 8,
    "start_time": "2025-06-07T10:04:57.865Z"
   },
   {
    "duration": 147,
    "start_time": "2025-06-07T10:04:57.875Z"
   },
   {
    "duration": 112,
    "start_time": "2025-06-07T10:04:58.023Z"
   },
   {
    "duration": 334,
    "start_time": "2025-06-07T10:04:58.137Z"
   },
   {
    "duration": 375,
    "start_time": "2025-06-07T10:04:58.473Z"
   },
   {
    "duration": 10,
    "start_time": "2025-06-07T10:04:58.850Z"
   },
   {
    "duration": 10,
    "start_time": "2025-06-07T10:04:58.872Z"
   },
   {
    "duration": 11,
    "start_time": "2025-06-07T10:04:58.884Z"
   },
   {
    "duration": 16,
    "start_time": "2025-06-07T10:04:58.897Z"
   },
   {
    "duration": 11,
    "start_time": "2025-06-07T10:04:58.915Z"
   },
   {
    "duration": 124,
    "start_time": "2025-06-07T10:04:58.928Z"
   },
   {
    "duration": 53,
    "start_time": "2025-06-07T10:04:59.054Z"
   },
   {
    "duration": 41,
    "start_time": "2025-06-07T10:04:59.109Z"
   },
   {
    "duration": 40,
    "start_time": "2025-06-07T10:04:59.151Z"
   },
   {
    "duration": 41,
    "start_time": "2025-06-07T10:04:59.193Z"
   },
   {
    "duration": 35,
    "start_time": "2025-06-07T10:04:59.236Z"
   },
   {
    "duration": 11,
    "start_time": "2025-06-07T10:04:59.275Z"
   },
   {
    "duration": 10,
    "start_time": "2025-06-07T10:04:59.288Z"
   },
   {
    "duration": 11,
    "start_time": "2025-06-07T10:04:59.300Z"
   },
   {
    "duration": 530,
    "start_time": "2025-06-07T10:08:34.755Z"
   },
   {
    "duration": 473,
    "start_time": "2025-06-07T10:08:35.287Z"
   },
   {
    "duration": 32,
    "start_time": "2025-06-07T10:08:35.762Z"
   },
   {
    "duration": 8,
    "start_time": "2025-06-07T10:08:35.796Z"
   },
   {
    "duration": 20,
    "start_time": "2025-06-07T10:08:35.805Z"
   },
   {
    "duration": 66,
    "start_time": "2025-06-07T10:08:35.827Z"
   },
   {
    "duration": 10,
    "start_time": "2025-06-07T10:08:35.895Z"
   },
   {
    "duration": 10,
    "start_time": "2025-06-07T10:08:35.906Z"
   },
   {
    "duration": 37,
    "start_time": "2025-06-07T10:08:35.918Z"
   },
   {
    "duration": 1864,
    "start_time": "2025-06-07T10:08:35.958Z"
   },
   {
    "duration": 164,
    "start_time": "2025-06-07T10:08:37.824Z"
   },
   {
    "duration": 8,
    "start_time": "2025-06-07T10:08:37.989Z"
   },
   {
    "duration": 132,
    "start_time": "2025-06-07T10:08:37.999Z"
   },
   {
    "duration": 109,
    "start_time": "2025-06-07T10:08:38.133Z"
   },
   {
    "duration": 351,
    "start_time": "2025-06-07T10:08:38.244Z"
   },
   {
    "duration": 379,
    "start_time": "2025-06-07T10:08:38.597Z"
   },
   {
    "duration": 8,
    "start_time": "2025-06-07T10:08:38.978Z"
   },
   {
    "duration": 11,
    "start_time": "2025-06-07T10:08:38.987Z"
   },
   {
    "duration": 17,
    "start_time": "2025-06-07T10:08:38.999Z"
   },
   {
    "duration": 18,
    "start_time": "2025-06-07T10:08:39.018Z"
   },
   {
    "duration": 33,
    "start_time": "2025-06-07T10:08:39.038Z"
   },
   {
    "duration": 98,
    "start_time": "2025-06-07T10:08:39.074Z"
   },
   {
    "duration": 40,
    "start_time": "2025-06-07T10:08:39.174Z"
   },
   {
    "duration": 67,
    "start_time": "2025-06-07T10:08:39.216Z"
   },
   {
    "duration": 29,
    "start_time": "2025-06-07T10:08:39.286Z"
   },
   {
    "duration": 61,
    "start_time": "2025-06-07T10:08:39.317Z"
   },
   {
    "duration": 7,
    "start_time": "2025-06-07T10:08:39.381Z"
   },
   {
    "duration": 5,
    "start_time": "2025-06-07T10:08:39.392Z"
   },
   {
    "duration": 16,
    "start_time": "2025-06-07T10:08:39.399Z"
   },
   {
    "duration": 15,
    "start_time": "2025-06-07T10:08:39.417Z"
   }
  ],
  "colab": {
   "provenance": [],
   "toc_visible": true
  },
  "kernelspec": {
   "display_name": "Python 3 (ipykernel)",
   "language": "python",
   "name": "python3"
  },
  "language_info": {
   "codemirror_mode": {
    "name": "ipython",
    "version": 3
   },
   "file_extension": ".py",
   "mimetype": "text/x-python",
   "name": "python",
   "nbconvert_exporter": "python",
   "pygments_lexer": "ipython3",
   "version": "3.9.13"
  },
  "toc": {
   "base_numbering": 1,
   "nav_menu": {},
   "number_sections": true,
   "sideBar": true,
   "skip_h1_title": true,
   "title_cell": "Table of Contents",
   "title_sidebar": "Contents",
   "toc_cell": false,
   "toc_position": {},
   "toc_section_display": true,
   "toc_window_display": false
  }
 },
 "nbformat": 4,
 "nbformat_minor": 5
}
