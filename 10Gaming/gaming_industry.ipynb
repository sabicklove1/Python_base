{
 "cells": [
  {
   "cell_type": "markdown",
   "id": "e06910dd",
   "metadata": {
    "id": "e06910dd"
   },
   "source": [
    "# Анализ Игровой Индустрии (2003-2013) и Предоработка Данных\n",
    "\n",
    "- Автор: Кристина Сабурова\n",
    "- Дата: 05.02.2025"
   ]
  },
  {
   "cell_type": "markdown",
   "id": "4149134c",
   "metadata": {
    "id": "4149134c"
   },
   "source": [
    "### Цели и задачи проекта\n",
    "Цель проекта - изучить развитие игровой индустрии с 2000 по 2013 год, очистить данные, привести данные в удобное для аналитики состояние"
   ]
  },
  {
   "cell_type": "markdown",
   "id": "728986ea",
   "metadata": {
    "id": "728986ea"
   },
   "source": [
    "### Описание данных\n",
    "\n",
    "Описание данных\n",
    "\n",
    "* \t\tName — название игры.\n",
    "* \t\tPlatform — название платформы.\n",
    "* \t\tYear of Release — год выпуска игры.\n",
    "* \t\tGenre — жанр игры.\n",
    "* \t\tNA sales — продажи в Северной Америке (в миллионах проданных копий).\n",
    "* \t\tEU sales — продажи в Европе (в миллионах проданных копий).\n",
    "* \t\tJP sales — продажи в Японии (в миллионах проданных копий).\n",
    "* \t\tOther sales — продажи в других странах (в миллионах проданных копий).\n",
    "* \t\tCritic Score — оценка критиков (от 0 до 100).\n",
    "* \t\tUser Score — оценка пользователей (от 0 до 10).\n",
    "* \t\tRating — рейтинг организации ESRB (англ. Entertainment Software Rating Board). Эта ассоциация определяет рейтинг компьютерных игр и присваивает им подходящую возрастную категорию."
   ]
  },
  {
   "cell_type": "markdown",
   "id": "4fecaf95",
   "metadata": {
    "id": "4fecaf95"
   },
   "source": [
    "### Содержимое проекта\n",
    "\n",
    "1. Загрузка данных и знакомство с ними\n",
    "2. Проверка ошибок и предоработка\n",
    "3. Фильтрация\n",
    "4. Категоризация\n",
    "5. Вывод\n",
    "\n",
    "**Краткое описание проекта:** \n",
    "- Цель - анализировать игровую индустрию 2003-2013\n",
    "- Большая часть занимает предоработка данных: очистка, удаление дубликатов и тд\n",
    "- В итоге проекта мы выводим топ платформ по кол-ву игр"
   ]
  },
  {
   "cell_type": "markdown",
   "id": "6f7d21d6",
   "metadata": {
    "id": "6f7d21d6"
   },
   "source": [
    "## 1. Загрузка данных и знакомство с ними"
   ]
  },
  {
   "cell_type": "code",
   "execution_count": 1,
   "id": "ebb66dc5",
   "metadata": {
    "id": "ebb66dc5"
   },
   "outputs": [],
   "source": [
    "import pandas as pd"
   ]
  },
  {
   "cell_type": "code",
   "execution_count": 2,
   "id": "ce87c1db",
   "metadata": {
    "id": "ce87c1db"
   },
   "outputs": [],
   "source": [
    "df = pd.read_csv('https://code.s3.yandex.net/datasets/new_games.csv')"
   ]
  },
  {
   "cell_type": "code",
   "execution_count": 3,
   "id": "3937acf7",
   "metadata": {
    "id": "3937acf7"
   },
   "outputs": [
    {
     "name": "stdout",
     "output_type": "stream",
     "text": [
      "<class 'pandas.core.frame.DataFrame'>\n",
      "RangeIndex: 16956 entries, 0 to 16955\n",
      "Data columns (total 11 columns):\n",
      " #   Column           Non-Null Count  Dtype  \n",
      "---  ------           --------------  -----  \n",
      " 0   Name             16954 non-null  object \n",
      " 1   Platform         16956 non-null  object \n",
      " 2   Year of Release  16681 non-null  float64\n",
      " 3   Genre            16954 non-null  object \n",
      " 4   NA sales         16956 non-null  float64\n",
      " 5   EU sales         16956 non-null  object \n",
      " 6   JP sales         16956 non-null  object \n",
      " 7   Other sales      16956 non-null  float64\n",
      " 8   Critic Score     8242 non-null   float64\n",
      " 9   User Score       10152 non-null  object \n",
      " 10  Rating           10085 non-null  object \n",
      "dtypes: float64(4), object(7)\n",
      "memory usage: 1.4+ MB\n"
     ]
    }
   ],
   "source": [
    "df.info()"
   ]
  },
  {
   "cell_type": "code",
   "execution_count": 4,
   "id": "f1e395c2",
   "metadata": {},
   "outputs": [
    {
     "data": {
      "text/html": [
       "<div>\n",
       "<style scoped>\n",
       "    .dataframe tbody tr th:only-of-type {\n",
       "        vertical-align: middle;\n",
       "    }\n",
       "\n",
       "    .dataframe tbody tr th {\n",
       "        vertical-align: top;\n",
       "    }\n",
       "\n",
       "    .dataframe thead th {\n",
       "        text-align: right;\n",
       "    }\n",
       "</style>\n",
       "<table border=\"1\" class=\"dataframe\">\n",
       "  <thead>\n",
       "    <tr style=\"text-align: right;\">\n",
       "      <th></th>\n",
       "      <th>Name</th>\n",
       "      <th>Platform</th>\n",
       "      <th>Year of Release</th>\n",
       "      <th>Genre</th>\n",
       "      <th>NA sales</th>\n",
       "      <th>EU sales</th>\n",
       "      <th>JP sales</th>\n",
       "      <th>Other sales</th>\n",
       "      <th>Critic Score</th>\n",
       "      <th>User Score</th>\n",
       "      <th>Rating</th>\n",
       "    </tr>\n",
       "  </thead>\n",
       "  <tbody>\n",
       "    <tr>\n",
       "      <th>0</th>\n",
       "      <td>Wii Sports</td>\n",
       "      <td>Wii</td>\n",
       "      <td>2006.0</td>\n",
       "      <td>Sports</td>\n",
       "      <td>41.36</td>\n",
       "      <td>28.96</td>\n",
       "      <td>3.77</td>\n",
       "      <td>8.45</td>\n",
       "      <td>76.0</td>\n",
       "      <td>8</td>\n",
       "      <td>E</td>\n",
       "    </tr>\n",
       "    <tr>\n",
       "      <th>1</th>\n",
       "      <td>Super Mario Bros.</td>\n",
       "      <td>NES</td>\n",
       "      <td>1985.0</td>\n",
       "      <td>Platform</td>\n",
       "      <td>29.08</td>\n",
       "      <td>3.58</td>\n",
       "      <td>6.81</td>\n",
       "      <td>0.77</td>\n",
       "      <td>NaN</td>\n",
       "      <td>NaN</td>\n",
       "      <td>NaN</td>\n",
       "    </tr>\n",
       "    <tr>\n",
       "      <th>2</th>\n",
       "      <td>Mario Kart Wii</td>\n",
       "      <td>Wii</td>\n",
       "      <td>2008.0</td>\n",
       "      <td>Racing</td>\n",
       "      <td>15.68</td>\n",
       "      <td>12.76</td>\n",
       "      <td>3.79</td>\n",
       "      <td>3.29</td>\n",
       "      <td>82.0</td>\n",
       "      <td>8.3</td>\n",
       "      <td>E</td>\n",
       "    </tr>\n",
       "    <tr>\n",
       "      <th>3</th>\n",
       "      <td>Wii Sports Resort</td>\n",
       "      <td>Wii</td>\n",
       "      <td>2009.0</td>\n",
       "      <td>Sports</td>\n",
       "      <td>15.61</td>\n",
       "      <td>10.93</td>\n",
       "      <td>3.28</td>\n",
       "      <td>2.95</td>\n",
       "      <td>80.0</td>\n",
       "      <td>8</td>\n",
       "      <td>E</td>\n",
       "    </tr>\n",
       "    <tr>\n",
       "      <th>4</th>\n",
       "      <td>Pokemon Red/Pokemon Blue</td>\n",
       "      <td>GB</td>\n",
       "      <td>1996.0</td>\n",
       "      <td>Role-Playing</td>\n",
       "      <td>11.27</td>\n",
       "      <td>8.89</td>\n",
       "      <td>10.22</td>\n",
       "      <td>1.00</td>\n",
       "      <td>NaN</td>\n",
       "      <td>NaN</td>\n",
       "      <td>NaN</td>\n",
       "    </tr>\n",
       "  </tbody>\n",
       "</table>\n",
       "</div>"
      ],
      "text/plain": [
       "                       Name Platform  Year of Release         Genre  NA sales  \\\n",
       "0                Wii Sports      Wii           2006.0        Sports     41.36   \n",
       "1         Super Mario Bros.      NES           1985.0      Platform     29.08   \n",
       "2            Mario Kart Wii      Wii           2008.0        Racing     15.68   \n",
       "3         Wii Sports Resort      Wii           2009.0        Sports     15.61   \n",
       "4  Pokemon Red/Pokemon Blue       GB           1996.0  Role-Playing     11.27   \n",
       "\n",
       "  EU sales JP sales  Other sales  Critic Score User Score Rating  \n",
       "0    28.96     3.77         8.45          76.0          8      E  \n",
       "1     3.58     6.81         0.77           NaN        NaN    NaN  \n",
       "2    12.76     3.79         3.29          82.0        8.3      E  \n",
       "3    10.93     3.28         2.95          80.0          8      E  \n",
       "4     8.89    10.22         1.00           NaN        NaN    NaN  "
      ]
     },
     "execution_count": 4,
     "metadata": {},
     "output_type": "execute_result"
    }
   ],
   "source": [
    "df.head()"
   ]
  },
  {
   "cell_type": "markdown",
   "id": "54b075c2",
   "metadata": {
    "id": "81651b8d"
   },
   "source": [
    "**Промежуточный вывод**\n",
    "- Данные достаточно объемны\n",
    "- Всего у данных 11 столбцов, файл весит 1.4 мегабайта, выделены только 2 типа данных - float64 и object \n",
    "- Тип данных столбца year of release вызывает сомнение, потому что сейчас он выдает десятичное значение float64, скорее всего его нужно будет перевести в int64, то же самое нужно проверить для EU sales, JP sales  и User Score - у них тип object, нужен int64 \n",
    "- В последних трех столбцах больше всего пропусков - нужно будет их проанализировать \n",
    "- Нужно добавить к названиям столбцов нижнее подчеркивание для оптимизации работы и упорядоченного стиля, в целом, я бы дополнительно перевела их в lower_case"
   ]
  },
  {
   "cell_type": "markdown",
   "id": "774bf76e",
   "metadata": {
    "id": "774bf76e"
   },
   "source": [
    "---\n",
    "\n",
    "## 2.  Проверка ошибок в данных и их предобработка\n",
    "\n",
    "\n",
    "### 2.1. Названия, или метки, столбцов датафрейма"
   ]
  },
  {
   "cell_type": "code",
   "execution_count": 5,
   "id": "b9276a2b",
   "metadata": {
    "id": "b9276a2b"
   },
   "outputs": [
    {
     "name": "stdout",
     "output_type": "stream",
     "text": [
      "Index(['Name', 'Platform', 'Year of Release', 'Genre', 'NA sales', 'EU sales',\n",
      "       'JP sales', 'Other sales', 'Critic Score', 'User Score', 'Rating'],\n",
      "      dtype='object')\n"
     ]
    }
   ],
   "source": [
    "print(df.columns)"
   ]
  },
  {
   "cell_type": "code",
   "execution_count": 6,
   "id": "d554563c",
   "metadata": {
    "id": "d554563c"
   },
   "outputs": [],
   "source": [
    "df.columns = (df.columns\n",
    "              .str.lower()\n",
    "              .str.replace(' ', '_'))"
   ]
  },
  {
   "cell_type": "markdown",
   "id": "41bc6bf8",
   "metadata": {
    "id": "41bc6bf8"
   },
   "source": [
    "### 2.2. Типы данных"
   ]
  },
  {
   "cell_type": "code",
   "execution_count": 7,
   "id": "5d8bdfab",
   "metadata": {},
   "outputs": [],
   "source": [
    "# Конвертация столбцов с продажами и оценками в числовой формат\n",
    "sales_columns = [\"eu_sales\", \"jp_sales\", \"user_score\"]\n",
    "for col in sales_columns:\n",
    "    df[col] = pd.to_numeric(df[col], errors='coerce')\n",
    "\n",
    "# Преобразование года выпуска в целочисленный тип\n",
    "df[\"year_of_release\"] = df[\"year_of_release\"].dropna().astype(int)\n"
   ]
  },
  {
   "cell_type": "markdown",
   "id": "b39893cb",
   "metadata": {
    "id": "b39893cb"
   },
   "source": [
    "### 2.3. Наличие пропусков в данных"
   ]
  },
  {
   "cell_type": "code",
   "execution_count": 8,
   "id": "0f1c91a8",
   "metadata": {
    "id": "0f1c91a8"
   },
   "outputs": [
    {
     "data": {
      "text/plain": [
       "name                  2\n",
       "platform              0\n",
       "year_of_release     275\n",
       "genre                 2\n",
       "na_sales              0\n",
       "eu_sales              6\n",
       "jp_sales              4\n",
       "other_sales           0\n",
       "critic_score       8714\n",
       "user_score         9268\n",
       "rating             6871\n",
       "dtype: int64"
      ]
     },
     "execution_count": 8,
     "metadata": {},
     "output_type": "execute_result"
    }
   ],
   "source": [
    "# количество пропусков\n",
    "df.isna().sum() "
   ]
  },
  {
   "cell_type": "code",
   "execution_count": 9,
   "id": "dc0ab6ec",
   "metadata": {},
   "outputs": [
    {
     "name": "stdout",
     "output_type": "stream",
     "text": [
      "name               0.000118\n",
      "platform           0.000000\n",
      "year_of_release    0.016218\n",
      "genre              0.000118\n",
      "na_sales           0.000000\n",
      "eu_sales           0.000354\n",
      "jp_sales           0.000236\n",
      "other_sales        0.000000\n",
      "critic_score       0.513918\n",
      "user_score         0.546591\n",
      "rating             0.405225\n",
      "dtype: float64\n"
     ]
    }
   ],
   "source": [
    "# доля пропусков\n",
    "print(df.isna().sum() / len(df))"
   ]
  },
  {
   "cell_type": "markdown",
   "id": "65113d99",
   "metadata": {
    "id": "bd69e642"
   },
   "source": [
    "**Пропуски характерны для многих столбцов, однако больше всего пропусков в последних трех столбцах - почти 50%. Мы видим, что name, genre составляет меньше 1 процента, поэтому их можно удалить, sales можно заполнить средним с группировкой по платформе и году, rating можно заполнить unknown, score - -1**"
   ]
  },
  {
   "cell_type": "code",
   "execution_count": 10,
   "id": "154be65d",
   "metadata": {
    "id": "154be65d"
   },
   "outputs": [],
   "source": [
    "#в name, genre удалим строки с пропусками, потому что из незначетльное количетсво\n",
    "df = df.dropna(subset = ['name', 'genre'])"
   ]
  },
  {
   "cell_type": "code",
   "execution_count": 11,
   "id": "2784c760",
   "metadata": {
    "id": "2784c760"
   },
   "outputs": [],
   "source": [
    "# sales заполним средним значением\n",
    "df['jp_sales'] = df['jp_sales']\\\n",
    "    .fillna(df.groupby(['platform', 'year_of_release'])['jp_sales'].transform('mean'))"
   ]
  },
  {
   "cell_type": "markdown",
   "id": "a63363fd",
   "metadata": {
    "id": "a63363fd"
   },
   "source": [
    "### 2.4. Явные и неявные дубликаты в данных"
   ]
  },
  {
   "cell_type": "code",
   "execution_count": 12,
   "id": "491c9c39",
   "metadata": {
    "id": "491c9c39"
   },
   "outputs": [
    {
     "name": "stdout",
     "output_type": "stream",
     "text": [
      "Уникальные жанры: ['Sports' 'Platform' 'Racing' 'Role-Playing' 'Puzzle' 'Misc' 'Shooter'\n",
      " 'Simulation' 'Action' 'Fighting' 'Adventure' 'Strategy' 'MISC'\n",
      " 'ROLE-PLAYING' 'RACING' 'ACTION' 'SHOOTER' 'FIGHTING' 'SPORTS' 'PLATFORM'\n",
      " 'ADVENTURE' 'SIMULATION' 'PUZZLE' 'STRATEGY']\n",
      "Уникальные платформы: ['Wii' 'NES' 'GB' 'DS' 'X360' 'PS3' 'PS2' 'SNES' 'GBA' 'PS4' '3DS' 'N64'\n",
      " 'PS' 'XB' 'PC' '2600' 'PSP' 'XOne' 'WiiU' 'GC' 'GEN' 'DC' 'PSV' 'SAT'\n",
      " 'SCD' 'WS' 'NG' 'TG16' '3DO' 'GG' 'PCFX']\n",
      "Уникальные рейтинги: ['E' nan 'M' 'T' 'E10+' 'K-A' 'AO' 'EC' 'RP']\n",
      "Уникальные годы выпуска: [2006. 1985. 2008. 2009. 1996. 1989. 1984. 2005. 1999. 2007. 2010. 2013.\n",
      " 2004. 1990. 1988. 2002. 2001. 2011. 1998. 2015. 2012. 2014. 1992. 1997.\n",
      " 1993. 1994. 1982. 2016. 2003. 1986. 2000.   nan 1995. 1991. 1981. 1987.\n",
      " 1980. 1983.]\n"
     ]
    }
   ],
   "source": [
    "# Изучение уникальных значений в категориальных данных\n",
    "unique_genres = df['genre'].unique()\n",
    "unique_platforms = df['platform'].unique()\n",
    "unique_ratings = df['rating'].unique()\n",
    "unique_years = df['year_of_release'].unique()\n",
    "\n",
    "print(\"Уникальные жанры:\", unique_genres)\n",
    "print(\"Уникальные платформы:\", unique_platforms)\n",
    "print(\"Уникальные рейтинги:\", unique_ratings)\n",
    "print(\"Уникальные годы выпуска:\", unique_years)"
   ]
  },
  {
   "cell_type": "code",
   "execution_count": 13,
   "id": "f1627198",
   "metadata": {
    "id": "f1627198"
   },
   "outputs": [
    {
     "name": "stdout",
     "output_type": "stream",
     "text": [
      "Уникальные жанры (нижний регистр): ['sports' 'platform' 'racing' 'role-playing' 'puzzle' 'misc' 'shooter'\n",
      " 'simulation' 'action' 'fighting' 'adventure' 'strategy']\n",
      "Уникальные платформы (нижний регистр): ['wii' 'nes' 'gb' 'ds' 'x360' 'ps3' 'ps2' 'snes' 'gba' 'ps4' '3ds' 'n64'\n",
      " 'ps' 'xb' 'pc' '2600' 'psp' 'xone' 'wiiu' 'gc' 'gen' 'dc' 'psv' 'sat'\n",
      " 'scd' 'ws' 'ng' 'tg16' '3do' 'gg' 'pcfx']\n",
      "Уникальные рейтинги (нижний регистр): ['e' nan 'm' 't' 'e10+' 'k-a' 'ao' 'ec' 'rp']\n"
     ]
    }
   ],
   "source": [
    "unique_genres_lower = df['genre'].str.lower().unique()\n",
    "unique_platforms_lower = df['platform'].str.lower().unique()\n",
    "unique_ratings_lower = df['rating'].str.lower().unique()\n",
    "\n",
    "print(\"Уникальные жанры (нижний регистр):\", unique_genres_lower)\n",
    "print(\"Уникальные платформы (нижний регистр):\", unique_platforms_lower)\n",
    "print(\"Уникальные рейтинги (нижний регистр):\", unique_ratings_lower)"
   ]
  },
  {
   "cell_type": "code",
   "execution_count": 14,
   "id": "a0cac80c",
   "metadata": {
    "id": "a0cac80c"
   },
   "outputs": [],
   "source": [
    "# Приведение названий жанров и платформ к нижнему регистру\n",
    "df['genre'] = df['genre'].str.lower()\n",
    "df['platform'] = df['platform'].str.lower()\n",
    "\n",
    "# Приведение рейтингов к верхнему регистру\n",
    "df['rating'] = df['rating'].str.upper()"
   ]
  },
  {
   "cell_type": "code",
   "execution_count": 15,
   "id": "19997f11",
   "metadata": {},
   "outputs": [
    {
     "name": "stdout",
     "output_type": "stream",
     "text": [
      "Уникальные жанры после нормализации: ['sports' 'platform' 'racing' 'role-playing' 'puzzle' 'misc' 'shooter'\n",
      " 'simulation' 'action' 'fighting' 'adventure' 'strategy']\n",
      "Уникальные платформы после нормализации: ['wii' 'nes' 'gb' 'ds' 'x360' 'ps3' 'ps2' 'snes' 'gba' 'ps4' '3ds' 'n64'\n",
      " 'ps' 'xb' 'pc' '2600' 'psp' 'xone' 'wiiu' 'gc' 'gen' 'dc' 'psv' 'sat'\n",
      " 'scd' 'ws' 'ng' 'tg16' '3do' 'gg' 'pcfx']\n",
      "Уникальные рейтинги после нормализации: ['E' nan 'M' 'T' 'E10+' 'K-A' 'AO' 'EC' 'RP']\n"
     ]
    }
   ],
   "source": [
    "# Проверим приведение\n",
    "print(\"Уникальные жанры после нормализации:\", df['genre'].unique())\n",
    "print(\"Уникальные платформы после нормализации:\", df['platform'].unique())\n",
    "print(\"Уникальные рейтинги после нормализации:\", df['rating'].unique())"
   ]
  },
  {
   "cell_type": "code",
   "execution_count": 16,
   "id": "fc5c91b5",
   "metadata": {
    "id": "fc5c91b5"
   },
   "outputs": [
    {
     "name": "stdout",
     "output_type": "stream",
     "text": [
      "Количество явных дубликатов: 241\n"
     ]
    }
   ],
   "source": [
    "# Проверка на явные дубликаты\n",
    "duplicates = df[df.duplicated()]  # Находим дубликаты\n",
    "print(\"Количество явных дубликатов:\", duplicates.shape[0])"
   ]
  },
  {
   "cell_type": "code",
   "execution_count": 17,
   "id": "2f61e076",
   "metadata": {
    "id": "2f61e076"
   },
   "outputs": [],
   "source": [
    "# Удаление явных дубликатов\n",
    "df_cleaned = df.drop_duplicates()\n",
    "\n",
    "# Вычисление количества удалённых строк\n",
    "rows_removed = df.shape[0] - df_cleaned.shape[0]\n",
    "\n",
    "# Вычисление процента удалённых данных\n",
    "percentage_removed = (rows_removed / df.shape[0]) * 100"
   ]
  },
  {
   "cell_type": "code",
   "execution_count": 18,
   "id": "29e57705",
   "metadata": {
    "id": "29e57705"
   },
   "outputs": [
    {
     "name": "stdout",
     "output_type": "stream",
     "text": [
      "Количество строк в исходных данных: 16954\n",
      "Количество строк после удаления дубликатов: 16713\n",
      "Количество удалённых строк: 241\n",
      "Процент удалённых данных: 1.42%\n"
     ]
    }
   ],
   "source": [
    "print(\"Количество строк в исходных данных:\", df.shape[0])\n",
    "print(\"Количество строк после удаления дубликатов:\", df_cleaned.shape[0])\n",
    "print(\"Количество удалённых строк:\", rows_removed)\n",
    "print(\"Процент удалённых данных: {:.2f}%\".format(percentage_removed))"
   ]
  },
  {
   "cell_type": "markdown",
   "id": "9e3734f5",
   "metadata": {
    "id": "8548f894"
   },
   "source": [
    "**Промежуточный вывод**\n",
    "- Было выявлено 241 явных дубликатов\n",
    "- Удалили дубликаты с помощью функции drop_duplicates() \n",
    "- Выявили уникальные жанры,платформы, рейтинг и год выпуска в данных"
   ]
  },
  {
   "cell_type": "code",
   "execution_count": 19,
   "id": "f9d8ee19",
   "metadata": {
    "id": "f9d8ee19"
   },
   "outputs": [
    {
     "name": "stdout",
     "output_type": "stream",
     "text": [
      "Исходное количество строк: 16954\n"
     ]
    }
   ],
   "source": [
    "# Сохраняем исходное количество строк\n",
    "initial_row_count = df.shape[0]\n",
    "print(f\"Исходное количество строк: {initial_row_count}\")"
   ]
  },
  {
   "cell_type": "code",
   "execution_count": 20,
   "id": "3d7a9d8e",
   "metadata": {
    "id": "3d7a9d8e"
   },
   "outputs": [
    {
     "name": "stdout",
     "output_type": "stream",
     "text": [
      "Количество строк с пропусками: 10048 (59.27%)\n"
     ]
    }
   ],
   "source": [
    "# Подсчёт строк с пропусками\n",
    "rows_with_na = df.isna().any(axis=1).sum()\n",
    "print(f\"Количество строк с пропусками: {rows_with_na} ({(rows_with_na / initial_row_count) * 100:.2f}%)\")"
   ]
  },
  {
   "cell_type": "code",
   "execution_count": 21,
   "id": "1e48a7ce",
   "metadata": {
    "id": "1e48a7ce"
   },
   "outputs": [
    {
     "name": "stdout",
     "output_type": "stream",
     "text": [
      "Количество явных дубликатов: 241 (1.42%)\n"
     ]
    }
   ],
   "source": [
    "# Подсчёт явных дубликатов\n",
    "duplicate_rows = df.duplicated().sum()\n",
    "print(f\"Количество явных дубликатов: {duplicate_rows} ({(duplicate_rows / initial_row_count) * 100:.2f}%)\")"
   ]
  },
  {
   "cell_type": "code",
   "execution_count": 22,
   "id": "9bdce075",
   "metadata": {},
   "outputs": [
    {
     "name": "stdout",
     "output_type": "stream",
     "text": [
      "Всего строк к удалению: 10289 (60.69%)\n"
     ]
    }
   ],
   "source": [
    "# Общее количество строк, которые будут удалены (пропуски + дубликаты)\n",
    "total_rows_to_remove = rows_with_na + duplicate_rows\n",
    "print(f\"Всего строк к удалению: {total_rows_to_remove} ({(total_rows_to_remove / initial_row_count) * 100:.2f}%)\")"
   ]
  },
  {
   "cell_type": "markdown",
   "id": "aaf6cf8e",
   "metadata": {
    "id": "5166fdf8"
   },
   "source": [
    "**Промежуточный вывод**\n",
    "- Привели данные к удобному формату: перевели названия столбцов в нижний реестр и добавили нижнее подчеркивание, затем проверили тип данных и привели некоторые данных к нужному нам типу\n",
    "- В ходе предоработки мы увидели, что дупликатов достаточно много, явные дубликаты удалили, нашли уникальные значения столбцов"
   ]
  },
  {
   "cell_type": "code",
   "execution_count": 23,
   "id": "2344916d",
   "metadata": {
    "id": "2344916d"
   },
   "outputs": [
    {
     "name": "stdout",
     "output_type": "stream",
     "text": [
      "Количество строк в отфильтрованном датафрейме: 12980\n",
      "Минимальный год выпуска: 2000.0\n",
      "Максимальный год выпуска: 2013.0\n"
     ]
    }
   ],
   "source": [
    "# Фильтрация данных за период с 2000 по 2013 год включительно\n",
    "df_actual = df[(df['year_of_release'] >= 2000) & (df['year_of_release'] <= 2013)]\n",
    "\n",
    "# Проверка результата\n",
    "print(f\"Количество строк в отфильтрованном датафрейме: {df_actual.shape[0]}\")\n",
    "print(f\"Минимальный год выпуска: {df_actual['year_of_release'].min()}\")\n",
    "print(f\"Максимальный год выпуска: {df_actual['year_of_release'].max()}\")"
   ]
  },
  {
   "cell_type": "markdown",
   "id": "a6f10b01",
   "metadata": {
    "id": "a6f10b01"
   },
   "source": [
    "---\n",
    "\n",
    "## 4. Категоризация данных\n",
    "    "
   ]
  },
  {
   "cell_type": "code",
   "execution_count": 24,
   "id": "3db87229",
   "metadata": {
    "id": "3db87229"
   },
   "outputs": [
    {
     "name": "stdout",
     "output_type": "stream",
     "text": [
      "                       name  user_score user_score_category\n",
      "0                Wii Sports         8.0      Высокая оценка\n",
      "1         Super Mario Bros.         NaN       Низкая оценка\n",
      "2            Mario Kart Wii         8.3      Высокая оценка\n",
      "3         Wii Sports Resort         8.0      Высокая оценка\n",
      "4  Pokemon Red/Pokemon Blue         NaN       Низкая оценка\n"
     ]
    }
   ],
   "source": [
    "# Функция для категоризации по оценке пользователей\n",
    "def categorize_user_score(score):\n",
    "    if score >= 8:\n",
    "        return \"Высокая оценка\"\n",
    "    elif 3 <= score < 8:\n",
    "        return \"Средняя оценка\"\n",
    "    else:\n",
    "        return \"Низкая оценка\"\n",
    "\n",
    "# Применение функции к столбцу 'User Score'\n",
    "df[\"user_score_category\"] = df[\"user_score\"].apply(categorize_user_score)\n",
    "\n",
    "# Вывод первых строк для проверки\n",
    "print(df[[\"name\", \"user_score\", \"user_score_category\"]].head())"
   ]
  },
  {
   "cell_type": "code",
   "execution_count": 25,
   "id": "e3f7acb0",
   "metadata": {
    "id": "e3f7acb0"
   },
   "outputs": [
    {
     "name": "stdout",
     "output_type": "stream",
     "text": [
      "                       name  user_score user_score_category  critic_score  \\\n",
      "0                Wii Sports         8.0      Высокая оценка          76.0   \n",
      "1         Super Mario Bros.         NaN       Низкая оценка           NaN   \n",
      "2            Mario Kart Wii         8.3      Высокая оценка          82.0   \n",
      "3         Wii Sports Resort         8.0      Высокая оценка          80.0   \n",
      "4  Pokemon Red/Pokemon Blue         NaN       Низкая оценка           NaN   \n",
      "\n",
      "  critic_score_category  \n",
      "0        Средняя оценка  \n",
      "1         Низкая оценка  \n",
      "2        Высокая оценка  \n",
      "3        Высокая оценка  \n",
      "4         Низкая оценка  \n"
     ]
    }
   ],
   "source": [
    "# Функция для категоризации по оценке критиков\n",
    "def categorize_critic_score(score):\n",
    "    if score >= 80:\n",
    "        return \"Высокая оценка\"\n",
    "    elif 30 <= score < 80:\n",
    "        return \"Средняя оценка\"\n",
    "    else:\n",
    "        return \"Низкая оценка\"\n",
    "\n",
    "# Применение функций к соответствующим столбцам\n",
    "df[\"user_score_category\"] = df[\"user_score\"].apply(categorize_user_score)\n",
    "df[\"critic_score_category\"] = df[\"critic_score\"].apply(categorize_critic_score)\n",
    "\n",
    "# Вывод первых строк для проверки\n",
    "print(df[[\"name\", \"user_score\", \"user_score_category\", \"critic_score\", \"critic_score_category\"]].head())\n"
   ]
  },
  {
   "cell_type": "code",
   "execution_count": 26,
   "id": "HW0Nsp-4UMSL",
   "metadata": {
    "id": "HW0Nsp-4UMSL"
   },
   "outputs": [],
   "source": [
    "# Заполнение пропусков значением-заглушкой -1\n",
    "df['user_score'].fillna(-1, inplace=True)\n",
    "df['critic_score'].fillna(-1, inplace=True)"
   ]
  },
  {
   "cell_type": "code",
   "execution_count": 27,
   "id": "b2f7bef2",
   "metadata": {},
   "outputs": [],
   "source": [
    "# Обновленная функция категоризации оценок пользователей\n",
    "def categorize_user_score(score):\n",
    "    if score == -1:\n",
    "        return \"Нет данных\"\n",
    "    elif score >= 8:\n",
    "        return \"Высокая оценка\"\n",
    "    elif 3 <= score < 8:\n",
    "        return \"Средняя оценка\"\n",
    "    else:\n",
    "        return \"Низкая оценка\""
   ]
  },
  {
   "cell_type": "code",
   "execution_count": 28,
   "id": "ac8ad335",
   "metadata": {},
   "outputs": [],
   "source": [
    "# Обновленная функция категоризации оценок критиков\n",
    "def categorize_critic_score(score):\n",
    "    if score == -1:\n",
    "        return \"Нет данных\"\n",
    "    elif score >= 80:\n",
    "        return \"Высокая оценка\"\n",
    "    elif 30 <= score < 80:\n",
    "        return \"Средняя оценка\"\n",
    "    else:\n",
    "        return \"Низкая оценка\""
   ]
  },
  {
   "cell_type": "code",
   "execution_count": 29,
   "id": "85f44286",
   "metadata": {},
   "outputs": [
    {
     "name": "stdout",
     "output_type": "stream",
     "text": [
      "Распределение игр по оценкам пользователей:\n",
      "Нет данных        9266\n",
      "Средняя оценка    4932\n",
      "Высокая оценка    2610\n",
      "Низкая оценка      146\n",
      "Name: user_score_category, dtype: int64\n",
      "\n",
      "Распределение игр по оценкам критиков:\n",
      "Нет данных        8712\n",
      "Средняя оценка    6147\n",
      "Высокая оценка    2033\n",
      "Низкая оценка       62\n",
      "Name: critic_score_category, dtype: int64\n"
     ]
    }
   ],
   "source": [
    "df[\"user_score_category\"] = df[\"user_score\"].apply(categorize_user_score)\n",
    "df[\"critic_score_category\"] = df[\"critic_score\"].apply(categorize_critic_score)\n",
    "\n",
    "user_score_counts = df[\"user_score_category\"].value_counts()\n",
    "critic_score_counts = df[\"critic_score_category\"].value_counts()\n",
    "\n",
    "print(\"Распределение игр по оценкам пользователей:\")\n",
    "print(user_score_counts)\n",
    "print(\"\\nРаспределение игр по оценкам критиков:\")\n",
    "print(critic_score_counts)"
   ]
  },
  {
   "cell_type": "code",
   "execution_count": 30,
   "id": "003caa2c",
   "metadata": {
    "id": "003caa2c"
   },
   "outputs": [
    {
     "name": "stdout",
     "output_type": "stream",
     "text": [
      "Топ-7 платформ по кол-ву игр:\n"
     ]
    },
    {
     "data": {
      "text/plain": [
       "platform\n",
       "ps2     2154\n",
       "ds      2146\n",
       "wii     1294\n",
       "psp     1199\n",
       "x360    1138\n",
       "ps3     1107\n",
       "gba      826\n",
       "Name: platform, dtype: int64"
      ]
     },
     "execution_count": 30,
     "metadata": {},
     "output_type": "execute_result"
    }
   ],
   "source": [
    "count_platform = df_actual.groupby('platform')['platform'].count()\n",
    "sort_platform = count_platform.sort_values(ascending=False)\n",
    "print(\"Топ-7 платформ по кол-ву игр:\")\n",
    "sort_platform.head(7)"
   ]
  },
  {
   "cell_type": "markdown",
   "id": "c0158881",
   "metadata": {
    "id": "c0158881"
   },
   "source": [
    "---\n",
    "\n",
    "## 5. Итоговый вывод"
   ]
  },
  {
   "cell_type": "markdown",
   "id": "8ff2da6e",
   "metadata": {
    "id": "20175f5b"
   },
   "source": [
    "**В ходе проекта мы исследовали развитие игровой индустрии с 2000 по 2013 год. Основные этапы работы:**\n",
    "\n",
    "**Предобработка данных**\n",
    "- Преобразовали типы данных для корректного анализа\n",
    "- Заполнили пропуски в пользовательских и критических оценках, добавив категорию \"нет данных\"\n",
    "- Удалили дубликаты, устранив возможные ошибки в данных\n",
    "- Привели данные к единому формату, удобному для дальнейшего анализа\n",
    "\n",
    "**Категоризация и расширение данных**\n",
    "- Добавили новое поле user_score_category, разбив пользовательские оценки на три категории: высокая, средняя, низкая\n",
    "\n",
    "**Промежуточные выводы**\n",
    "- Количество игр в индустрии варьировалось по годам, с пиковыми значениями в определённые периоды\n",
    "- Средние пользовательские и критические оценки позволили выявить наиболее успешные и провальные игры\n",
    "- Анализ категорий оценок дал понимание о предпочтениях игроков и критиков\n"
   ]
  }
 ],
 "metadata": {
  "ExecuteTimeLog": [
   {
    "duration": 373,
    "start_time": "2025-02-03T17:09:23.088Z"
   },
   {
    "duration": 96,
    "start_time": "2025-02-03T17:09:25.236Z"
   },
   {
    "duration": 32,
    "start_time": "2025-02-03T17:09:57.547Z"
   },
   {
    "duration": 4,
    "start_time": "2025-02-03T17:31:07.014Z"
   },
   {
    "duration": 4,
    "start_time": "2025-02-03T17:31:12.755Z"
   },
   {
    "duration": 4,
    "start_time": "2025-02-03T17:31:28.839Z"
   },
   {
    "duration": 5,
    "start_time": "2025-02-03T17:33:11.743Z"
   },
   {
    "duration": 38,
    "start_time": "2025-02-03T17:44:43.429Z"
   },
   {
    "duration": 16,
    "start_time": "2025-02-03T17:45:02.059Z"
   },
   {
    "duration": 25,
    "start_time": "2025-02-03T17:49:21.288Z"
   },
   {
    "duration": 9,
    "start_time": "2025-02-03T17:49:43.963Z"
   },
   {
    "duration": 10,
    "start_time": "2025-02-03T17:51:32.951Z"
   },
   {
    "duration": 9,
    "start_time": "2025-02-04T08:20:54.423Z"
   },
   {
    "duration": 375,
    "start_time": "2025-02-04T08:21:06.543Z"
   },
   {
    "duration": 387,
    "start_time": "2025-02-04T08:21:06.920Z"
   },
   {
    "duration": 16,
    "start_time": "2025-02-04T08:21:07.309Z"
   },
   {
    "duration": 113,
    "start_time": "2025-02-04T08:21:07.327Z"
   },
   {
    "duration": 23,
    "start_time": "2025-02-04T08:21:07.442Z"
   },
   {
    "duration": 18,
    "start_time": "2025-02-04T08:21:07.467Z"
   },
   {
    "duration": 6,
    "start_time": "2025-02-04T08:21:07.487Z"
   },
   {
    "duration": 15,
    "start_time": "2025-02-04T08:21:33.087Z"
   },
   {
    "duration": 71,
    "start_time": "2025-02-04T08:23:35.321Z"
   },
   {
    "duration": 5,
    "start_time": "2025-02-04T08:24:21.170Z"
   },
   {
    "duration": 15,
    "start_time": "2025-02-04T08:24:29.321Z"
   },
   {
    "duration": 83,
    "start_time": "2025-02-04T08:25:24.354Z"
   },
   {
    "duration": 3,
    "start_time": "2025-02-04T08:25:27.938Z"
   },
   {
    "duration": 19,
    "start_time": "2025-02-04T08:25:29.370Z"
   },
   {
    "duration": 15,
    "start_time": "2025-02-04T08:27:37.190Z"
   },
   {
    "duration": 3,
    "start_time": "2025-02-04T08:28:38.855Z"
   },
   {
    "duration": 6,
    "start_time": "2025-02-04T08:34:52.008Z"
   },
   {
    "duration": 375,
    "start_time": "2025-02-04T08:35:09.627Z"
   },
   {
    "duration": 167,
    "start_time": "2025-02-04T08:35:10.004Z"
   },
   {
    "duration": 15,
    "start_time": "2025-02-04T08:35:10.173Z"
   },
   {
    "duration": 4,
    "start_time": "2025-02-04T08:35:10.189Z"
   },
   {
    "duration": 23,
    "start_time": "2025-02-04T08:35:10.195Z"
   },
   {
    "duration": 16,
    "start_time": "2025-02-04T08:35:10.220Z"
   },
   {
    "duration": 64,
    "start_time": "2025-02-04T08:38:07.411Z"
   },
   {
    "duration": 9,
    "start_time": "2025-02-04T08:38:25.901Z"
   },
   {
    "duration": 9,
    "start_time": "2025-02-04T08:39:07.361Z"
   },
   {
    "duration": 12,
    "start_time": "2025-02-04T08:39:37.378Z"
   },
   {
    "duration": 11,
    "start_time": "2025-02-04T08:40:12.011Z"
   },
   {
    "duration": 10,
    "start_time": "2025-02-04T08:40:13.980Z"
   },
   {
    "duration": 9,
    "start_time": "2025-02-04T08:46:33.484Z"
   },
   {
    "duration": 15,
    "start_time": "2025-02-04T08:46:37.315Z"
   },
   {
    "duration": 11,
    "start_time": "2025-02-04T08:46:41.483Z"
   },
   {
    "duration": 401,
    "start_time": "2025-02-04T09:01:36.062Z"
   },
   {
    "duration": 174,
    "start_time": "2025-02-04T09:01:36.465Z"
   },
   {
    "duration": 16,
    "start_time": "2025-02-04T09:01:36.640Z"
   },
   {
    "duration": 3,
    "start_time": "2025-02-04T09:01:36.658Z"
   },
   {
    "duration": 23,
    "start_time": "2025-02-04T09:01:36.663Z"
   },
   {
    "duration": 1091,
    "start_time": "2025-02-04T09:01:36.688Z"
   },
   {
    "duration": 0,
    "start_time": "2025-02-04T09:01:37.780Z"
   },
   {
    "duration": 0,
    "start_time": "2025-02-04T09:01:37.782Z"
   },
   {
    "duration": 2206,
    "start_time": "2025-02-04T09:05:16.607Z"
   },
   {
    "duration": 29,
    "start_time": "2025-02-04T09:10:27.195Z"
   },
   {
    "duration": 5,
    "start_time": "2025-02-04T09:10:48.851Z"
   },
   {
    "duration": 20,
    "start_time": "2025-02-04T09:10:54.693Z"
   },
   {
    "duration": 17,
    "start_time": "2025-02-04T09:10:59.878Z"
   },
   {
    "duration": 7,
    "start_time": "2025-02-04T09:15:16.065Z"
   },
   {
    "duration": 10,
    "start_time": "2025-02-04T09:15:19.646Z"
   },
   {
    "duration": 10,
    "start_time": "2025-02-04T09:15:22.551Z"
   },
   {
    "duration": 5,
    "start_time": "2025-02-04T09:15:32.529Z"
   },
   {
    "duration": 12,
    "start_time": "2025-02-04T09:15:34.730Z"
   },
   {
    "duration": 9,
    "start_time": "2025-02-04T09:15:36.627Z"
   },
   {
    "duration": 8,
    "start_time": "2025-02-04T09:18:10.966Z"
   },
   {
    "duration": 8,
    "start_time": "2025-02-04T09:18:22.437Z"
   },
   {
    "duration": 13,
    "start_time": "2025-02-04T09:25:04.982Z"
   },
   {
    "duration": 10,
    "start_time": "2025-02-04T09:25:21.064Z"
   },
   {
    "duration": 5,
    "start_time": "2025-02-04T09:27:48.916Z"
   },
   {
    "duration": 5,
    "start_time": "2025-02-04T09:28:29.561Z"
   },
   {
    "duration": 430,
    "start_time": "2025-02-10T13:45:02.374Z"
   },
   {
    "duration": 155,
    "start_time": "2025-02-10T13:45:02.808Z"
   },
   {
    "duration": 22,
    "start_time": "2025-02-10T13:45:02.965Z"
   },
   {
    "duration": 44,
    "start_time": "2025-02-10T13:45:02.990Z"
   },
   {
    "duration": 19,
    "start_time": "2025-02-10T13:45:03.037Z"
   },
   {
    "duration": 45,
    "start_time": "2025-02-10T13:45:03.058Z"
   },
   {
    "duration": 17,
    "start_time": "2025-02-10T13:45:03.105Z"
   },
   {
    "duration": 18,
    "start_time": "2025-02-10T13:45:03.123Z"
   },
   {
    "duration": 16,
    "start_time": "2025-02-10T13:45:03.143Z"
   },
   {
    "duration": 60,
    "start_time": "2025-02-10T13:45:03.161Z"
   },
   {
    "duration": 10,
    "start_time": "2025-02-10T13:45:16.515Z"
   },
   {
    "duration": 1234,
    "start_time": "2025-02-10T13:50:28.441Z"
   },
   {
    "duration": 10,
    "start_time": "2025-02-10T13:50:59.874Z"
   },
   {
    "duration": 23,
    "start_time": "2025-02-10T13:51:14.741Z"
   },
   {
    "duration": 16,
    "start_time": "2025-02-10T13:51:54.307Z"
   },
   {
    "duration": 1311,
    "start_time": "2025-02-10T13:52:11.648Z"
   },
   {
    "duration": 7,
    "start_time": "2025-02-10T13:52:24.700Z"
   },
   {
    "duration": 22,
    "start_time": "2025-02-10T13:53:44.749Z"
   },
   {
    "duration": 16,
    "start_time": "2025-02-10T13:53:59.383Z"
   },
   {
    "duration": 4,
    "start_time": "2025-02-10T13:54:07.041Z"
   },
   {
    "duration": 66,
    "start_time": "2025-02-10T13:56:52.793Z"
   },
   {
    "duration": 4,
    "start_time": "2025-02-10T14:00:28.107Z"
   },
   {
    "duration": 10,
    "start_time": "2025-02-10T14:00:36.206Z"
   },
   {
    "duration": 23,
    "start_time": "2025-02-10T14:00:48.992Z"
   },
   {
    "duration": 4,
    "start_time": "2025-02-10T14:00:59.485Z"
   },
   {
    "duration": 4,
    "start_time": "2025-02-10T14:01:35.851Z"
   },
   {
    "duration": 3,
    "start_time": "2025-02-10T14:01:45.434Z"
   },
   {
    "duration": 12,
    "start_time": "2025-02-10T14:09:43.615Z"
   },
   {
    "duration": 9,
    "start_time": "2025-02-10T14:09:51.787Z"
   },
   {
    "duration": 8,
    "start_time": "2025-02-10T14:11:20.738Z"
   },
   {
    "duration": 14,
    "start_time": "2025-02-10T14:12:29.603Z"
   },
   {
    "duration": 16,
    "start_time": "2025-02-10T14:15:16.305Z"
   },
   {
    "duration": 23,
    "start_time": "2025-02-10T14:18:28.098Z"
   },
   {
    "duration": 8,
    "start_time": "2025-02-10T14:20:20.917Z"
   },
   {
    "duration": 8,
    "start_time": "2025-02-10T14:20:36.184Z"
   },
   {
    "duration": 374,
    "start_time": "2025-02-10T14:27:36.352Z"
   },
   {
    "duration": 145,
    "start_time": "2025-02-10T14:27:36.728Z"
   },
   {
    "duration": 17,
    "start_time": "2025-02-10T14:27:36.875Z"
   },
   {
    "duration": 4,
    "start_time": "2025-02-10T14:27:36.894Z"
   },
   {
    "duration": 35,
    "start_time": "2025-02-10T14:27:36.900Z"
   },
   {
    "duration": 74,
    "start_time": "2025-02-10T14:27:36.936Z"
   },
   {
    "duration": 41,
    "start_time": "2025-02-10T14:27:37.012Z"
   },
   {
    "duration": 12,
    "start_time": "2025-02-10T14:27:37.054Z"
   },
   {
    "duration": 8,
    "start_time": "2025-02-10T14:27:37.067Z"
   },
   {
    "duration": 10,
    "start_time": "2025-02-10T14:27:37.077Z"
   },
   {
    "duration": 9,
    "start_time": "2025-02-10T14:27:37.088Z"
   },
   {
    "duration": 30,
    "start_time": "2025-02-10T14:27:37.099Z"
   },
   {
    "duration": 77,
    "start_time": "2025-02-10T14:27:37.130Z"
   },
   {
    "duration": 7,
    "start_time": "2025-02-10T14:27:37.210Z"
   },
   {
    "duration": 27,
    "start_time": "2025-02-10T14:27:37.219Z"
   },
   {
    "duration": 20,
    "start_time": "2025-02-10T14:27:37.248Z"
   },
   {
    "duration": 4,
    "start_time": "2025-02-10T14:27:37.271Z"
   },
   {
    "duration": 5,
    "start_time": "2025-02-10T14:27:37.278Z"
   },
   {
    "duration": 35,
    "start_time": "2025-02-10T14:27:37.285Z"
   },
   {
    "duration": 26,
    "start_time": "2025-02-10T14:27:37.322Z"
   },
   {
    "duration": 3,
    "start_time": "2025-02-10T14:27:37.350Z"
   },
   {
    "duration": 15,
    "start_time": "2025-02-10T14:27:37.354Z"
   },
   {
    "duration": 17,
    "start_time": "2025-02-10T14:27:37.370Z"
   },
   {
    "duration": 37,
    "start_time": "2025-02-10T14:27:37.388Z"
   },
   {
    "duration": 10,
    "start_time": "2025-02-10T14:27:37.426Z"
   },
   {
    "duration": 17,
    "start_time": "2025-02-10T14:27:37.437Z"
   },
   {
    "duration": 427,
    "start_time": "2025-02-10T14:56:56.948Z"
   },
   {
    "duration": 141,
    "start_time": "2025-02-10T14:56:57.377Z"
   },
   {
    "duration": 23,
    "start_time": "2025-02-10T14:56:57.520Z"
   },
   {
    "duration": 7,
    "start_time": "2025-02-10T14:56:57.547Z"
   },
   {
    "duration": 10,
    "start_time": "2025-02-10T14:56:57.556Z"
   },
   {
    "duration": 34,
    "start_time": "2025-02-10T14:56:57.569Z"
   },
   {
    "duration": 36,
    "start_time": "2025-02-10T14:56:57.605Z"
   },
   {
    "duration": 11,
    "start_time": "2025-02-10T14:56:57.642Z"
   },
   {
    "duration": 10,
    "start_time": "2025-02-10T14:56:57.655Z"
   },
   {
    "duration": 7,
    "start_time": "2025-02-10T14:56:57.668Z"
   },
   {
    "duration": 14,
    "start_time": "2025-02-10T14:56:57.677Z"
   },
   {
    "duration": 59,
    "start_time": "2025-02-10T14:56:57.694Z"
   },
   {
    "duration": 27,
    "start_time": "2025-02-10T14:56:57.756Z"
   },
   {
    "duration": 14,
    "start_time": "2025-02-10T14:56:57.785Z"
   },
   {
    "duration": 39,
    "start_time": "2025-02-10T14:56:57.800Z"
   },
   {
    "duration": 17,
    "start_time": "2025-02-10T14:56:57.840Z"
   },
   {
    "duration": 3,
    "start_time": "2025-02-10T14:56:57.859Z"
   },
   {
    "duration": 14,
    "start_time": "2025-02-10T14:56:57.864Z"
   },
   {
    "duration": 23,
    "start_time": "2025-02-10T14:56:57.880Z"
   },
   {
    "duration": 40,
    "start_time": "2025-02-10T14:56:57.905Z"
   },
   {
    "duration": 3,
    "start_time": "2025-02-10T14:56:57.947Z"
   },
   {
    "duration": 8,
    "start_time": "2025-02-10T14:56:57.952Z"
   },
   {
    "duration": 23,
    "start_time": "2025-02-10T14:56:57.962Z"
   },
   {
    "duration": 46,
    "start_time": "2025-02-10T14:56:57.987Z"
   },
   {
    "duration": 10,
    "start_time": "2025-02-10T14:56:58.035Z"
   },
   {
    "duration": 27,
    "start_time": "2025-02-10T14:56:58.046Z"
   },
   {
    "duration": 410,
    "start_time": "2025-02-11T04:25:15.019Z"
   },
   {
    "duration": 134,
    "start_time": "2025-02-11T04:25:15.432Z"
   },
   {
    "duration": 19,
    "start_time": "2025-02-11T04:25:15.568Z"
   },
   {
    "duration": 27,
    "start_time": "2025-02-11T04:25:15.589Z"
   },
   {
    "duration": 3,
    "start_time": "2025-02-11T04:25:15.617Z"
   },
   {
    "duration": 13,
    "start_time": "2025-02-11T04:25:15.622Z"
   },
   {
    "duration": 49,
    "start_time": "2025-02-11T04:25:15.637Z"
   },
   {
    "duration": 14,
    "start_time": "2025-02-11T04:25:15.688Z"
   },
   {
    "duration": 12,
    "start_time": "2025-02-11T04:25:15.703Z"
   },
   {
    "duration": 11,
    "start_time": "2025-02-11T04:25:15.718Z"
   },
   {
    "duration": 76,
    "start_time": "2025-02-11T04:25:15.731Z"
   },
   {
    "duration": 10,
    "start_time": "2025-02-11T04:25:15.809Z"
   },
   {
    "duration": 24,
    "start_time": "2025-02-11T04:25:15.821Z"
   },
   {
    "duration": 19,
    "start_time": "2025-02-11T04:25:15.848Z"
   },
   {
    "duration": 12,
    "start_time": "2025-02-11T04:25:15.868Z"
   },
   {
    "duration": 32,
    "start_time": "2025-02-11T04:25:15.881Z"
   },
   {
    "duration": 20,
    "start_time": "2025-02-11T04:25:15.915Z"
   },
   {
    "duration": 4,
    "start_time": "2025-02-11T04:25:15.937Z"
   },
   {
    "duration": 4,
    "start_time": "2025-02-11T04:25:15.943Z"
   },
   {
    "duration": 28,
    "start_time": "2025-02-11T04:25:15.949Z"
   },
   {
    "duration": 23,
    "start_time": "2025-02-11T04:25:15.979Z"
   },
   {
    "duration": 3,
    "start_time": "2025-02-11T04:25:16.004Z"
   },
   {
    "duration": 23,
    "start_time": "2025-02-11T04:25:16.009Z"
   },
   {
    "duration": 41,
    "start_time": "2025-02-11T04:25:16.034Z"
   },
   {
    "duration": 30,
    "start_time": "2025-02-11T04:25:16.078Z"
   },
   {
    "duration": 14,
    "start_time": "2025-02-11T04:25:16.111Z"
   },
   {
    "duration": 39,
    "start_time": "2025-02-11T04:25:16.126Z"
   },
   {
    "duration": 66,
    "start_time": "2025-02-11T04:31:08.065Z"
   },
   {
    "duration": 20,
    "start_time": "2025-02-11T04:32:00.913Z"
   },
   {
    "duration": 5,
    "start_time": "2025-02-11T04:32:12.671Z"
   },
   {
    "duration": 7,
    "start_time": "2025-02-11T04:37:59.920Z"
   },
   {
    "duration": 10,
    "start_time": "2025-02-11T04:38:01.219Z"
   },
   {
    "duration": 16,
    "start_time": "2025-02-11T04:38:27.335Z"
   },
   {
    "duration": 18,
    "start_time": "2025-02-11T04:38:47.760Z"
   },
   {
    "duration": 425,
    "start_time": "2025-02-11T04:41:04.860Z"
   },
   {
    "duration": 132,
    "start_time": "2025-02-11T04:41:05.287Z"
   },
   {
    "duration": 16,
    "start_time": "2025-02-11T04:41:05.421Z"
   },
   {
    "duration": 90,
    "start_time": "2025-02-11T04:41:05.440Z"
   },
   {
    "duration": 4,
    "start_time": "2025-02-11T04:41:05.531Z"
   },
   {
    "duration": 4,
    "start_time": "2025-02-11T04:41:05.536Z"
   },
   {
    "duration": 29,
    "start_time": "2025-02-11T04:41:05.542Z"
   },
   {
    "duration": 41,
    "start_time": "2025-02-11T04:41:05.573Z"
   },
   {
    "duration": 47,
    "start_time": "2025-02-11T04:41:05.616Z"
   },
   {
    "duration": 22,
    "start_time": "2025-02-11T04:41:05.666Z"
   },
   {
    "duration": 7,
    "start_time": "2025-02-11T04:41:05.690Z"
   },
   {
    "duration": 29,
    "start_time": "2025-02-11T04:41:05.698Z"
   },
   {
    "duration": 25,
    "start_time": "2025-02-11T04:41:05.728Z"
   },
   {
    "duration": 17,
    "start_time": "2025-02-11T04:41:05.754Z"
   },
   {
    "duration": 87,
    "start_time": "2025-02-11T04:41:05.773Z"
   },
   {
    "duration": 39,
    "start_time": "2025-02-11T04:41:05.861Z"
   },
   {
    "duration": 15,
    "start_time": "2025-02-11T04:41:05.901Z"
   },
   {
    "duration": 4,
    "start_time": "2025-02-11T04:41:05.918Z"
   },
   {
    "duration": 5,
    "start_time": "2025-02-11T04:41:05.924Z"
   },
   {
    "duration": 14,
    "start_time": "2025-02-11T04:41:05.931Z"
   },
   {
    "duration": 28,
    "start_time": "2025-02-11T04:41:05.947Z"
   },
   {
    "duration": 6,
    "start_time": "2025-02-11T04:41:05.976Z"
   },
   {
    "duration": 17,
    "start_time": "2025-02-11T04:41:05.983Z"
   },
   {
    "duration": 19,
    "start_time": "2025-02-11T04:41:06.001Z"
   },
   {
    "duration": 23,
    "start_time": "2025-02-11T04:41:06.021Z"
   },
   {
    "duration": 29,
    "start_time": "2025-02-11T04:41:06.046Z"
   },
   {
    "duration": 9,
    "start_time": "2025-02-11T04:41:06.077Z"
   },
   {
    "duration": 19,
    "start_time": "2025-02-11T04:41:06.089Z"
   },
   {
    "duration": 19,
    "start_time": "2025-02-11T04:41:06.110Z"
   },
   {
    "duration": 11,
    "start_time": "2025-02-11T04:43:50.868Z"
   },
   {
    "duration": 15,
    "start_time": "2025-02-11T04:44:03.447Z"
   },
   {
    "duration": 8,
    "start_time": "2025-02-11T04:48:53.529Z"
   },
   {
    "duration": 451,
    "start_time": "2025-02-11T04:56:27.874Z"
   },
   {
    "duration": 115,
    "start_time": "2025-02-11T04:56:28.327Z"
   },
   {
    "duration": 18,
    "start_time": "2025-02-11T04:56:28.444Z"
   },
   {
    "duration": 22,
    "start_time": "2025-02-11T04:56:28.465Z"
   },
   {
    "duration": 4,
    "start_time": "2025-02-11T04:56:28.489Z"
   },
   {
    "duration": 4,
    "start_time": "2025-02-11T04:56:28.494Z"
   },
   {
    "duration": 75,
    "start_time": "2025-02-11T04:56:28.500Z"
   },
   {
    "duration": 16,
    "start_time": "2025-02-11T04:56:28.577Z"
   },
   {
    "duration": 16,
    "start_time": "2025-02-11T04:56:28.595Z"
   },
   {
    "duration": 20,
    "start_time": "2025-02-11T04:56:28.615Z"
   },
   {
    "duration": 9,
    "start_time": "2025-02-11T04:56:28.637Z"
   },
   {
    "duration": 28,
    "start_time": "2025-02-11T04:56:28.648Z"
   },
   {
    "duration": 26,
    "start_time": "2025-02-11T04:56:28.678Z"
   },
   {
    "duration": 21,
    "start_time": "2025-02-11T04:56:28.706Z"
   },
   {
    "duration": 10,
    "start_time": "2025-02-11T04:56:28.730Z"
   },
   {
    "duration": 68,
    "start_time": "2025-02-11T04:56:28.775Z"
   },
   {
    "duration": 36,
    "start_time": "2025-02-11T04:56:28.845Z"
   },
   {
    "duration": 6,
    "start_time": "2025-02-11T04:56:28.883Z"
   },
   {
    "duration": 13,
    "start_time": "2025-02-11T04:56:28.891Z"
   },
   {
    "duration": 18,
    "start_time": "2025-02-11T04:56:28.906Z"
   },
   {
    "duration": 18,
    "start_time": "2025-02-11T04:56:28.927Z"
   },
   {
    "duration": 3,
    "start_time": "2025-02-11T04:56:28.947Z"
   },
   {
    "duration": 29,
    "start_time": "2025-02-11T04:56:28.952Z"
   },
   {
    "duration": 77,
    "start_time": "2025-02-11T04:56:28.983Z"
   },
   {
    "duration": 24,
    "start_time": "2025-02-11T04:56:29.062Z"
   },
   {
    "duration": 13,
    "start_time": "2025-02-11T04:56:29.088Z"
   },
   {
    "duration": 10,
    "start_time": "2025-02-11T04:56:29.103Z"
   },
   {
    "duration": 407,
    "start_time": "2025-02-11T08:55:31.530Z"
   },
   {
    "duration": 105,
    "start_time": "2025-02-11T08:55:31.940Z"
   },
   {
    "duration": 18,
    "start_time": "2025-02-11T08:55:32.048Z"
   },
   {
    "duration": 42,
    "start_time": "2025-02-11T08:55:32.068Z"
   },
   {
    "duration": 7,
    "start_time": "2025-02-11T08:55:32.112Z"
   },
   {
    "duration": 5,
    "start_time": "2025-02-11T08:55:32.121Z"
   },
   {
    "duration": 23,
    "start_time": "2025-02-11T08:55:32.127Z"
   },
   {
    "duration": 22,
    "start_time": "2025-02-11T08:55:32.152Z"
   },
   {
    "duration": 11,
    "start_time": "2025-02-11T08:55:32.175Z"
   },
   {
    "duration": 17,
    "start_time": "2025-02-11T08:55:32.188Z"
   },
   {
    "duration": 16,
    "start_time": "2025-02-11T08:55:32.207Z"
   },
   {
    "duration": 11,
    "start_time": "2025-02-11T08:55:32.225Z"
   },
   {
    "duration": 50,
    "start_time": "2025-02-11T08:55:32.238Z"
   },
   {
    "duration": 21,
    "start_time": "2025-02-11T08:55:32.290Z"
   },
   {
    "duration": 14,
    "start_time": "2025-02-11T08:55:32.313Z"
   },
   {
    "duration": 47,
    "start_time": "2025-02-11T08:55:32.329Z"
   },
   {
    "duration": 19,
    "start_time": "2025-02-11T08:55:32.379Z"
   },
   {
    "duration": 15,
    "start_time": "2025-02-11T08:55:32.400Z"
   },
   {
    "duration": 6,
    "start_time": "2025-02-11T08:55:32.416Z"
   },
   {
    "duration": 13,
    "start_time": "2025-02-11T08:55:32.424Z"
   },
   {
    "duration": 46,
    "start_time": "2025-02-11T08:55:32.440Z"
   },
   {
    "duration": 5,
    "start_time": "2025-02-11T08:55:32.488Z"
   },
   {
    "duration": 24,
    "start_time": "2025-02-11T08:55:32.496Z"
   },
   {
    "duration": 29,
    "start_time": "2025-02-11T08:55:32.522Z"
   },
   {
    "duration": 36,
    "start_time": "2025-02-11T08:55:32.553Z"
   },
   {
    "duration": 12,
    "start_time": "2025-02-11T08:55:32.592Z"
   },
   {
    "duration": 14,
    "start_time": "2025-02-11T08:55:32.607Z"
   },
   {
    "duration": 59,
    "start_time": "2025-02-11T15:03:00.212Z"
   },
   {
    "duration": 494,
    "start_time": "2025-02-11T15:03:06.522Z"
   },
   {
    "duration": 91,
    "start_time": "2025-02-11T15:03:07.018Z"
   },
   {
    "duration": 16,
    "start_time": "2025-02-11T15:03:07.111Z"
   },
   {
    "duration": 78,
    "start_time": "2025-02-11T15:03:07.130Z"
   },
   {
    "duration": 67,
    "start_time": "2025-02-11T15:03:07.209Z"
   },
   {
    "duration": 73,
    "start_time": "2025-02-11T15:03:07.277Z"
   },
   {
    "duration": 137,
    "start_time": "2025-02-11T15:03:07.352Z"
   },
   {
    "duration": 14,
    "start_time": "2025-02-11T15:03:07.492Z"
   },
   {
    "duration": 30,
    "start_time": "2025-02-11T15:03:07.509Z"
   },
   {
    "duration": 12,
    "start_time": "2025-02-11T15:03:07.543Z"
   },
   {
    "duration": 47,
    "start_time": "2025-02-11T15:03:07.557Z"
   },
   {
    "duration": 26,
    "start_time": "2025-02-11T15:03:07.605Z"
   },
   {
    "duration": 36,
    "start_time": "2025-02-11T15:03:07.632Z"
   },
   {
    "duration": 33,
    "start_time": "2025-02-11T15:03:07.672Z"
   },
   {
    "duration": 33,
    "start_time": "2025-02-11T15:03:07.706Z"
   },
   {
    "duration": 55,
    "start_time": "2025-02-11T15:03:07.740Z"
   },
   {
    "duration": 28,
    "start_time": "2025-02-11T15:03:07.797Z"
   },
   {
    "duration": 16,
    "start_time": "2025-02-11T15:03:07.827Z"
   },
   {
    "duration": 22,
    "start_time": "2025-02-11T15:03:07.845Z"
   },
   {
    "duration": 17,
    "start_time": "2025-02-11T15:03:07.872Z"
   },
   {
    "duration": 38,
    "start_time": "2025-02-11T15:03:07.891Z"
   },
   {
    "duration": 4,
    "start_time": "2025-02-11T15:03:07.931Z"
   },
   {
    "duration": 9,
    "start_time": "2025-02-11T15:03:07.936Z"
   },
   {
    "duration": 19,
    "start_time": "2025-02-11T15:03:07.946Z"
   },
   {
    "duration": 73,
    "start_time": "2025-02-11T15:03:07.966Z"
   },
   {
    "duration": 4,
    "start_time": "2025-02-11T15:03:08.041Z"
   },
   {
    "duration": 29,
    "start_time": "2025-02-11T15:03:08.047Z"
   },
   {
    "duration": 45,
    "start_time": "2025-02-11T15:03:08.079Z"
   },
   {
    "duration": 56,
    "start_time": "2025-02-11T15:03:08.126Z"
   },
   {
    "duration": 13,
    "start_time": "2025-02-11T15:04:32.854Z"
   },
   {
    "duration": 3,
    "start_time": "2025-02-11T15:04:33.600Z"
   },
   {
    "duration": 36,
    "start_time": "2025-02-11T15:04:34.551Z"
   },
   {
    "duration": 4,
    "start_time": "2025-02-11T15:04:58.831Z"
   },
   {
    "duration": 21,
    "start_time": "2025-02-11T15:04:59.362Z"
   },
   {
    "duration": 4,
    "start_time": "2025-02-11T15:09:07.822Z"
   },
   {
    "duration": 4,
    "start_time": "2025-02-11T15:09:08.620Z"
   },
   {
    "duration": 7,
    "start_time": "2025-02-11T15:09:10.852Z"
   },
   {
    "duration": 19,
    "start_time": "2025-02-11T15:09:13.192Z"
   },
   {
    "duration": 398,
    "start_time": "2025-02-11T18:12:26.482Z"
   },
   {
    "duration": 96,
    "start_time": "2025-02-11T18:12:26.882Z"
   },
   {
    "duration": 17,
    "start_time": "2025-02-11T18:12:26.979Z"
   },
   {
    "duration": 20,
    "start_time": "2025-02-11T18:12:26.998Z"
   },
   {
    "duration": 4,
    "start_time": "2025-02-11T18:12:27.020Z"
   },
   {
    "duration": 7,
    "start_time": "2025-02-11T18:12:27.025Z"
   },
   {
    "duration": 41,
    "start_time": "2025-02-11T18:12:27.033Z"
   },
   {
    "duration": 16,
    "start_time": "2025-02-11T18:12:27.076Z"
   },
   {
    "duration": 11,
    "start_time": "2025-02-11T18:12:27.093Z"
   },
   {
    "duration": 10,
    "start_time": "2025-02-11T18:12:27.105Z"
   },
   {
    "duration": 8,
    "start_time": "2025-02-11T18:12:27.117Z"
   },
   {
    "duration": 35,
    "start_time": "2025-02-11T18:12:27.126Z"
   },
   {
    "duration": 23,
    "start_time": "2025-02-11T18:12:27.164Z"
   },
   {
    "duration": 19,
    "start_time": "2025-02-11T18:12:27.189Z"
   },
   {
    "duration": 98,
    "start_time": "2025-02-11T18:12:27.209Z"
   },
   {
    "duration": 19,
    "start_time": "2025-02-11T18:12:27.308Z"
   },
   {
    "duration": 17,
    "start_time": "2025-02-11T18:12:27.328Z"
   },
   {
    "duration": 4,
    "start_time": "2025-02-11T18:12:27.347Z"
   },
   {
    "duration": 5,
    "start_time": "2025-02-11T18:12:27.353Z"
   },
   {
    "duration": 17,
    "start_time": "2025-02-11T18:12:27.359Z"
   },
   {
    "duration": 32,
    "start_time": "2025-02-11T18:12:27.377Z"
   },
   {
    "duration": 3,
    "start_time": "2025-02-11T18:12:27.411Z"
   },
   {
    "duration": 8,
    "start_time": "2025-02-11T18:12:27.415Z"
   },
   {
    "duration": 16,
    "start_time": "2025-02-11T18:12:27.424Z"
   },
   {
    "duration": 30,
    "start_time": "2025-02-11T18:12:27.442Z"
   },
   {
    "duration": 6,
    "start_time": "2025-02-11T18:12:27.474Z"
   },
   {
    "duration": 13,
    "start_time": "2025-02-11T18:12:27.482Z"
   },
   {
    "duration": 20,
    "start_time": "2025-02-11T18:12:27.497Z"
   },
   {
    "duration": 24,
    "start_time": "2025-02-11T18:12:27.518Z"
   },
   {
    "duration": 9,
    "start_time": "2025-02-11T18:12:27.544Z"
   }
  ],
  "colab": {
   "provenance": []
  },
  "kernelspec": {
   "display_name": "Python 3 (ipykernel)",
   "language": "python",
   "name": "python3"
  },
  "language_info": {
   "codemirror_mode": {
    "name": "ipython",
    "version": 3
   },
   "file_extension": ".py",
   "mimetype": "text/x-python",
   "name": "python",
   "nbconvert_exporter": "python",
   "pygments_lexer": "ipython3",
   "version": "3.9.13"
  },
  "toc": {
   "base_numbering": 1,
   "nav_menu": {},
   "number_sections": true,
   "sideBar": true,
   "skip_h1_title": true,
   "title_cell": "Table of Contents",
   "title_sidebar": "Contents",
   "toc_cell": false,
   "toc_position": {},
   "toc_section_display": true,
   "toc_window_display": true
  }
 },
 "nbformat": 4,
 "nbformat_minor": 5
}
