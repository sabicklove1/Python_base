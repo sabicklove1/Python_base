{
 "cells": [
  {
   "cell_type": "markdown",
   "id": "c69d6328-c99a-4044-af22-714eea8ee1b0",
   "metadata": {},
   "source": [
    "# Подготовка и Проверка Датасета для Финансовой Компании в Сфере Льготных Займов для Стартапов\n",
    "\n",
    "## Цель и задачи  \n",
    "\n",
    "**Цель:** Подготовить датасет и проверить, что данные в нём соответствуют здравому смыслу, а также ответить на вопросы заказчика как о предобработке, так и о значении данных для бизнеса.\n",
    "\n",
    "**Задачи:**\n",
    "1. Загрузить данные и познакомиться с их содержимым.\n",
    "2. Провести предобработку данных.\n",
    "3. Провести исследовательский анализ данных и объединение таблиц.\n",
    "4. Сформулировать выводы по проведённому анализу.\n",
    "\n",
    "\n",
    "## Данные\n",
    "\n",
    "Для анализа поступили данные с компаниями, сотрудниками и информацией о них:\n",
    "\n",
    "- `company_and_rounds.csv` — информация о компаниях и раундах финансирования;\n",
    "- `acquisition.csv` —  информация о покупках одними компаниями других компаний;\n",
    "- `people.csv` —  информация о сотрудниках;\n",
    "- `education.csv` —  информация об образовании сотрудника;\n",
    "- `degrees.csv` —  информация о типе образования сотрудника.\n",
    "\n",
    "\n",
    "Также поступили два ополнительных датасета, которые связаны с исследуемыми данными:\n",
    "\n",
    "- `fund.csv` —  информация о фондах;\n",
    "- `investment.csv` —  информация о раундах инвестирования.\n",
    "\n",
    "### Описание датасета `acquisition`\n",
    "- id — идентификатор покупки.\n",
    "- acquiring_company_id — идентификатор покупающей компании.\n",
    "- acquired_company_id — идентификатор покупаемой компании.\n",
    "- term_code — варианты расчёта.\n",
    "- price_amount — сумма сделки.\n",
    "- acquired_at — дата сделки.\n",
    "\n",
    "### Описание датасета `company_and_rounds`\n",
    "- company ID — идентификатор компании.\n",
    "- name — название компании.\n",
    "- category code — категория области деятельности компании.\n",
    "- status — статус компании.\n",
    "- founded at — дата инвестирования.\n",
    "- closed at — дата закрытия компании.\n",
    "- domain — официальный сайт компании.\n",
    "- network username — ник компании в сети.\n",
    "- country code — код страны компании.\n",
    "- investment rounds — число инвестиционных раундов.\n",
    "- funding rounds — число раундов финансирования.\n",
    "- funding total — сумма финансирования.\n",
    "- milestones — вехи финансирования.\n",
    "- funding round id — идентификатор этапа финансирования.\n",
    "- company id — идентификатор компании.\n",
    "- funded at — дата финансирования.\n",
    "- funding round type — тип финансирования.\n",
    "- raised amount — сумма финансирования.\n",
    "- pre money valuation — предварительная денежная оценка.\n",
    "- participants — число участников.\n",
    "- is first round — является ли раунд первым.\n",
    "- is last round — является раунд последним.\n",
    "\n",
    "### Описание датасета `education`\n",
    "- id — идентификатор записи об образовании.\n",
    "- person_id — идентификатор работника.\n",
    "- instituition — название учебного заведения.\n",
    "- graduated_at — дата получения образования.\n",
    "\n",
    "### Описание датасета `people`\n",
    "- id — идентификатор сотрудника.\n",
    "- first_name — имя сотрудника.\n",
    "- last_name — фамилия сотрудника.\n",
    "- company_id — идентификатор компании.\n",
    "- network_username — ник в социальных сетях.\n",
    "\n",
    "### Описание датасета `degrees`\n",
    "- id — идентификатор записи.\n",
    "- object_id — идентификатор сотрудника.\n",
    "- degree_type — тип образования.\n",
    "- subject — специальность.\n",
    "\n",
    "### Описание датасета `fund`\n",
    "- id — идентификатор фонда.\n",
    "- name — название фонда.\n",
    "- category_code — категория области деятельности компании.\n",
    "- founded_at — дата создания фонда.\n",
    "- domain — сайт фонда.\n",
    "- network_username — ник фонда в сети.\n",
    "- country_code — код страны фонда.\n",
    "- investment_rounds — число инвестиционных раундов.\n",
    "- invested_companies — число профинансированных компаний.\n",
    "- milestones — вехи финансирования.\n",
    "\n",
    "### Описание датасета `investment`\n",
    "- id — идентификатор этапа инвестирования.\n",
    "- funding_round_id — идентификатор раунда инвестирования.\n",
    "- company_id — индентификатор компании.\n",
    "- funding_round_type — тип финансирования.\n",
    "- fund_id — идентификатор фонда.\n",
    "\n",
    " \n",
    "## Структура проекта\n",
    "\n",
    "1. Загрузка данных и знакомство с ними.\n",
    "- Вывод общей информации, исправление названия столбцов\n",
    "- Смена типов и анализ пропусков\n",
    "   \n",
    "2. Предобработка данных.\n",
    "- Раунды финансирования по годам\n",
    "- Люди и их образование\n",
    "- Объединять или не объединять — вот в чём вопрос\n",
    "- Проблемный датасет и причина возникновения пропусков\n",
    "\n",
    "3. Исследовательский анализ объединённых таблиц\n",
    "- Объединение данных\n",
    "- Анализ выбросов\n",
    "- Куплены забесплатно?\n",
    "- Цены стартапов по категориям\n",
    "- Сколько раундов продержится стартап перед покупкой\n",
    "\n",
    "4. Итоговые выводы и рекомендации.\n",
    "\n",
    "---"
   ]
  },
  {
   "cell_type": "markdown",
   "id": "2d88b9af-f4d7-402c-b105-aed917aa55b1",
   "metadata": {},
   "source": [
    "## 1. Загрузка данных и знакомство с ними\n",
    "\n",
    "### 1.1 Вывод общей информации, исправление названия столбцов\n",
    "\n",
    "Начнём с загрузки библиотек и датасетов. Будем использовать pandas и библиотеки визуализации данных matplotlib и seaborn, а также phik для построения матрицы корреляции. Данные датасетов сохраним в переменных."
   ]
  },
  {
   "cell_type": "code",
   "execution_count": null,
   "id": "4e25109c-ac61-49e9-9a6e-25988e22882f",
   "metadata": {},
   "outputs": [
    {
     "name": "stdout",
     "output_type": "stream",
     "text": [
      "Requirement already satisfied: pandas in /opt/conda/lib/python3.9/site-packages (1.2.4)\n",
      "Requirement already satisfied: matplotlib in /opt/conda/lib/python3.9/site-packages (3.3.4)\n",
      "Requirement already satisfied: seaborn in /opt/conda/lib/python3.9/site-packages (0.11.1)\n",
      "Requirement already satisfied: matplotlib-venn in /opt/conda/lib/python3.9/site-packages (1.1.2)\n",
      "Requirement already satisfied: numpy in /opt/conda/lib/python3.9/site-packages (1.21.1)\n",
      "Requirement already satisfied: python-dateutil>=2.7.3 in /opt/conda/lib/python3.9/site-packages (from pandas) (2.8.1)\n",
      "Requirement already satisfied: pytz>=2017.3 in /opt/conda/lib/python3.9/site-packages (from pandas) (2021.1)\n",
      "Requirement already satisfied: six>=1.5 in /opt/conda/lib/python3.9/site-packages (from python-dateutil>=2.7.3->pandas) (1.16.0)\n",
      "Requirement already satisfied: pyparsing!=2.0.4,!=2.1.2,!=2.1.6,>=2.0.3 in /opt/conda/lib/python3.9/site-packages (from matplotlib) (2.4.7)\n",
      "Requirement already satisfied: pillow>=6.2.0 in /opt/conda/lib/python3.9/site-packages (from matplotlib) (8.4.0)\n",
      "Requirement already satisfied: cycler>=0.10 in /opt/conda/lib/python3.9/site-packages (from matplotlib) (0.11.0)\n",
      "Requirement already satisfied: kiwisolver>=1.0.1 in /opt/conda/lib/python3.9/site-packages (from matplotlib) (1.4.4)\n",
      "Requirement already satisfied: scipy>=1.0 in /opt/conda/lib/python3.9/site-packages (from seaborn) (1.9.1)\n"
     ]
    }
   ],
   "source": [
    "# Загружаем библиотеки\n",
    "!pip install pandas matplotlib seaborn matplotlib-venn numpy"
   ]
  },
  {
   "cell_type": "code",
   "execution_count": null,
   "id": "181d8b42-6abe-493f-a593-424deb539960",
   "metadata": {},
   "outputs": [],
   "source": [
    "# Импортируем библиотеки\n",
    "import pandas as pd\n",
    "import matplotlib.pyplot as plt\n",
    "import seaborn as sns\n",
    "import numpy as np"
   ]
  },
  {
   "cell_type": "code",
   "execution_count": null,
   "id": "51898df1-03fc-4033-82f9-1182aa02995d",
   "metadata": {},
   "outputs": [],
   "source": [
    "# Выгружаем данные в переменные \n",
    "company_and_rounds_df = pd.read_csv('https://code.s3.yandex.net/datasets/company_and_rounds.csv')\n",
    "acquisition_df = pd.read_csv('https://code.s3.yandex.net/datasets/acquisition.csv')\n",
    "people_df = pd.read_csv('https://code.s3.yandex.net/datasets/people.csv')\n",
    "education_df = pd.read_csv('https://code.s3.yandex.net/datasets/education.csv')\n",
    "degrees_df = pd.read_csv('https://code.s3.yandex.net/datasets/degrees.csv')\n",
    "fund_df = pd.read_csv('https://code.s3.yandex.net/datasets/fund.csv')\n",
    "investment_df = pd.read_csv('https://code.s3.yandex.net/datasets/investment.csv')"
   ]
  },
  {
   "cell_type": "markdown",
   "id": "3158097b-64bb-49c8-8db1-f2bc0c0e0bfc",
   "metadata": {},
   "source": [
    "Проверим названия столбцов в датасетах с названиями, которые можно изменить для удобства:"
   ]
  },
  {
   "cell_type": "code",
   "execution_count": null,
   "id": "a4f561be-2ca8-4538-b0c2-8e740942d1a0",
   "metadata": {},
   "outputs": [
    {
     "name": "stdout",
     "output_type": "stream",
     "text": [
      "Index(['company  ID', 'name', 'category  code', 'status', 'founded  at',\n",
      "       'closed  at', 'domain', 'network  username', 'country  code',\n",
      "       'investment  rounds', 'funding  rounds', 'funding  total', 'milestones',\n",
      "       'funding  round  id', 'company  id', 'funded  at',\n",
      "       'funding  round  type', 'raised  amount', 'pre  money  valuation',\n",
      "       'participants', 'is  first  round', 'is  last  round'],\n",
      "      dtype='object')\n"
     ]
    }
   ],
   "source": [
    "print(company_and_rounds_df.columns)"
   ]
  },
  {
   "cell_type": "markdown",
   "id": "95daa9a3-a499-4cda-8c99-c804d1c8487e",
   "metadata": {},
   "source": [
    "Мы видим, что есть названия, которые стоит изменить - привести столбцы к snake case и сделать заглавные буквы строчными, к этому этапу мы приступим в шаге 1.2.\n",
    "\n",
    "Сейчас познакомимся с данными датасетов — выведем информацию о них методом `info()`:"
   ]
  },
  {
   "cell_type": "code",
   "execution_count": null,
   "id": "847bf4d2-c9ce-4976-b30c-fd5411b94102",
   "metadata": {},
   "outputs": [
    {
     "name": "stdout",
     "output_type": "stream",
     "text": [
      "<class 'pandas.core.frame.DataFrame'>\n",
      "RangeIndex: 217774 entries, 0 to 217773\n",
      "Data columns (total 22 columns):\n",
      " #   Column                 Non-Null Count   Dtype  \n",
      "---  ------                 --------------   -----  \n",
      " 0   company  ID            217472 non-null  float64\n",
      " 1   name                   217472 non-null  object \n",
      " 2   category  code         143886 non-null  object \n",
      " 3   status                 217472 non-null  object \n",
      " 4   founded  at            109956 non-null  object \n",
      " 5   closed  at             3449 non-null    object \n",
      " 6   domain                 147159 non-null  object \n",
      " 7   network  username      95534 non-null   object \n",
      " 8   country  code          108607 non-null  object \n",
      " 9   investment  rounds     217472 non-null  float64\n",
      " 10  funding  rounds        217472 non-null  float64\n",
      " 11  funding  total         217472 non-null  float64\n",
      " 12  milestones             217472 non-null  float64\n",
      " 13  funding  round  id     52928 non-null   float64\n",
      " 14  company  id            52928 non-null   float64\n",
      " 15  funded  at             52680 non-null   object \n",
      " 16  funding  round  type   52928 non-null   object \n",
      " 17  raised  amount         52928 non-null   float64\n",
      " 18  pre  money  valuation  52928 non-null   float64\n",
      " 19  participants           52928 non-null   float64\n",
      " 20  is  first  round       52928 non-null   float64\n",
      " 21  is  last  round        52928 non-null   float64\n",
      "dtypes: float64(12), object(10)\n",
      "memory usage: 36.6+ MB\n",
      "<class 'pandas.core.frame.DataFrame'>\n",
      "RangeIndex: 9407 entries, 0 to 9406\n",
      "Data columns (total 6 columns):\n",
      " #   Column                Non-Null Count  Dtype \n",
      "---  ------                --------------  ----- \n",
      " 0   id                    9407 non-null   int64 \n",
      " 1   acquiring_company_id  9407 non-null   int64 \n",
      " 2   acquired_company_id   9407 non-null   int64 \n",
      " 3   term_code             1831 non-null   object\n",
      " 4   price_amount          9407 non-null   int64 \n",
      " 5   acquired_at           9378 non-null   object\n",
      "dtypes: int64(4), object(2)\n",
      "memory usage: 441.1+ KB\n",
      "<class 'pandas.core.frame.DataFrame'>\n",
      "RangeIndex: 226709 entries, 0 to 226708\n",
      "Data columns (total 5 columns):\n",
      " #   Column            Non-Null Count   Dtype  \n",
      "---  ------            --------------   -----  \n",
      " 0   id                226709 non-null  int64  \n",
      " 1   first_name        226704 non-null  object \n",
      " 2   last_name         226708 non-null  object \n",
      " 3   company_id        34615 non-null   float64\n",
      " 4   network_username  38867 non-null   object \n",
      "dtypes: float64(1), int64(1), object(3)\n",
      "memory usage: 8.6+ MB\n",
      "<class 'pandas.core.frame.DataFrame'>\n",
      "RangeIndex: 109610 entries, 0 to 109609\n",
      "Data columns (total 4 columns):\n",
      " #   Column        Non-Null Count   Dtype \n",
      "---  ------        --------------   ----- \n",
      " 0   id            109610 non-null  int64 \n",
      " 1   person_id     109610 non-null  int64 \n",
      " 2   instituition  109555 non-null  object\n",
      " 3   graduated_at  58054 non-null   object\n",
      "dtypes: int64(2), object(2)\n",
      "memory usage: 3.3+ MB\n",
      "<class 'pandas.core.frame.DataFrame'>\n",
      "RangeIndex: 109610 entries, 0 to 109609\n",
      "Data columns (total 4 columns):\n",
      " #   Column       Non-Null Count   Dtype \n",
      "---  ------       --------------   ----- \n",
      " 0   id           109610 non-null  int64 \n",
      " 1   object_id    109610 non-null  object\n",
      " 2   degree_type  98392 non-null   object\n",
      " 3   subject      81298 non-null   object\n",
      "dtypes: int64(1), object(3)\n",
      "memory usage: 3.3+ MB\n"
     ]
    }
   ],
   "source": [
    "# Выводим информацию о датафрейме\n",
    "company_and_rounds_df.info()\n",
    "acquisition_df.info()\n",
    "people_df.info()\n",
    "education_df.info()\n",
    "degrees_df.info()"
   ]
  },
  {
   "cell_type": "markdown",
   "id": "a5905bab-a12a-4884-b836-987e418835ed",
   "metadata": {},
   "source": [
    "Также проверим данные и выведем первые строки методом `head()`"
   ]
  },
  {
   "cell_type": "code",
   "execution_count": null,
   "id": "5ca405ab-f413-4e9f-8ba1-11bfe1a143b9",
   "metadata": {},
   "outputs": [
    {
     "data": {
      "text/html": [
       "<div>\n",
       "<style scoped>\n",
       "    .dataframe tbody tr th:only-of-type {\n",
       "        vertical-align: middle;\n",
       "    }\n",
       "\n",
       "    .dataframe tbody tr th {\n",
       "        vertical-align: top;\n",
       "    }\n",
       "\n",
       "    .dataframe thead th {\n",
       "        text-align: right;\n",
       "    }\n",
       "</style>\n",
       "<table border=\"1\" class=\"dataframe\">\n",
       "  <thead>\n",
       "    <tr style=\"text-align: right;\">\n",
       "      <th></th>\n",
       "      <th>company  ID</th>\n",
       "      <th>name</th>\n",
       "      <th>category  code</th>\n",
       "      <th>status</th>\n",
       "      <th>founded  at</th>\n",
       "      <th>closed  at</th>\n",
       "      <th>domain</th>\n",
       "      <th>network  username</th>\n",
       "      <th>country  code</th>\n",
       "      <th>investment  rounds</th>\n",
       "      <th>...</th>\n",
       "      <th>milestones</th>\n",
       "      <th>funding  round  id</th>\n",
       "      <th>company  id</th>\n",
       "      <th>funded  at</th>\n",
       "      <th>funding  round  type</th>\n",
       "      <th>raised  amount</th>\n",
       "      <th>pre  money  valuation</th>\n",
       "      <th>participants</th>\n",
       "      <th>is  first  round</th>\n",
       "      <th>is  last  round</th>\n",
       "    </tr>\n",
       "  </thead>\n",
       "  <tbody>\n",
       "    <tr>\n",
       "      <th>0</th>\n",
       "      <td>1.0</td>\n",
       "      <td>Wetpaint</td>\n",
       "      <td>web</td>\n",
       "      <td>operating</td>\n",
       "      <td>2005-10-17</td>\n",
       "      <td>NaN</td>\n",
       "      <td>wetpaint-inc.com</td>\n",
       "      <td>BachelrWetpaint</td>\n",
       "      <td>USA</td>\n",
       "      <td>0.0</td>\n",
       "      <td>...</td>\n",
       "      <td>5.0</td>\n",
       "      <td>888.0</td>\n",
       "      <td>1.0</td>\n",
       "      <td>2005-10-01</td>\n",
       "      <td>series-a</td>\n",
       "      <td>5250000.0</td>\n",
       "      <td>0.0</td>\n",
       "      <td>2.0</td>\n",
       "      <td>0.0</td>\n",
       "      <td>1.0</td>\n",
       "    </tr>\n",
       "    <tr>\n",
       "      <th>1</th>\n",
       "      <td>1.0</td>\n",
       "      <td>Wetpaint</td>\n",
       "      <td>web</td>\n",
       "      <td>operating</td>\n",
       "      <td>2005-10-17</td>\n",
       "      <td>NaN</td>\n",
       "      <td>wetpaint-inc.com</td>\n",
       "      <td>BachelrWetpaint</td>\n",
       "      <td>USA</td>\n",
       "      <td>0.0</td>\n",
       "      <td>...</td>\n",
       "      <td>5.0</td>\n",
       "      <td>889.0</td>\n",
       "      <td>1.0</td>\n",
       "      <td>2007-01-01</td>\n",
       "      <td>series-b</td>\n",
       "      <td>9500000.0</td>\n",
       "      <td>0.0</td>\n",
       "      <td>3.0</td>\n",
       "      <td>0.0</td>\n",
       "      <td>0.0</td>\n",
       "    </tr>\n",
       "    <tr>\n",
       "      <th>2</th>\n",
       "      <td>1.0</td>\n",
       "      <td>Wetpaint</td>\n",
       "      <td>web</td>\n",
       "      <td>operating</td>\n",
       "      <td>2005-10-17</td>\n",
       "      <td>NaN</td>\n",
       "      <td>wetpaint-inc.com</td>\n",
       "      <td>BachelrWetpaint</td>\n",
       "      <td>USA</td>\n",
       "      <td>0.0</td>\n",
       "      <td>...</td>\n",
       "      <td>5.0</td>\n",
       "      <td>2312.0</td>\n",
       "      <td>1.0</td>\n",
       "      <td>2008-05-19</td>\n",
       "      <td>series-c+</td>\n",
       "      <td>25000000.0</td>\n",
       "      <td>0.0</td>\n",
       "      <td>4.0</td>\n",
       "      <td>1.0</td>\n",
       "      <td>0.0</td>\n",
       "    </tr>\n",
       "    <tr>\n",
       "      <th>3</th>\n",
       "      <td>10.0</td>\n",
       "      <td>Flektor</td>\n",
       "      <td>games_video</td>\n",
       "      <td>acquired</td>\n",
       "      <td>NaN</td>\n",
       "      <td>NaN</td>\n",
       "      <td>flektor.com</td>\n",
       "      <td>NaN</td>\n",
       "      <td>USA</td>\n",
       "      <td>0.0</td>\n",
       "      <td>...</td>\n",
       "      <td>0.0</td>\n",
       "      <td>NaN</td>\n",
       "      <td>NaN</td>\n",
       "      <td>NaN</td>\n",
       "      <td>NaN</td>\n",
       "      <td>NaN</td>\n",
       "      <td>NaN</td>\n",
       "      <td>NaN</td>\n",
       "      <td>NaN</td>\n",
       "      <td>NaN</td>\n",
       "    </tr>\n",
       "    <tr>\n",
       "      <th>4</th>\n",
       "      <td>100.0</td>\n",
       "      <td>There</td>\n",
       "      <td>games_video</td>\n",
       "      <td>acquired</td>\n",
       "      <td>NaN</td>\n",
       "      <td>NaN</td>\n",
       "      <td>there.com</td>\n",
       "      <td>NaN</td>\n",
       "      <td>USA</td>\n",
       "      <td>0.0</td>\n",
       "      <td>...</td>\n",
       "      <td>4.0</td>\n",
       "      <td>NaN</td>\n",
       "      <td>NaN</td>\n",
       "      <td>NaN</td>\n",
       "      <td>NaN</td>\n",
       "      <td>NaN</td>\n",
       "      <td>NaN</td>\n",
       "      <td>NaN</td>\n",
       "      <td>NaN</td>\n",
       "      <td>NaN</td>\n",
       "    </tr>\n",
       "  </tbody>\n",
       "</table>\n",
       "<p>5 rows × 22 columns</p>\n",
       "</div>"
      ],
      "text/plain": [
       "   company  ID      name category  code     status founded  at closed  at  \\\n",
       "0          1.0  Wetpaint            web  operating  2005-10-17        NaN   \n",
       "1          1.0  Wetpaint            web  operating  2005-10-17        NaN   \n",
       "2          1.0  Wetpaint            web  operating  2005-10-17        NaN   \n",
       "3         10.0   Flektor    games_video   acquired         NaN        NaN   \n",
       "4        100.0     There    games_video   acquired         NaN        NaN   \n",
       "\n",
       "             domain network  username country  code  investment  rounds  ...  \\\n",
       "0  wetpaint-inc.com   BachelrWetpaint           USA                 0.0  ...   \n",
       "1  wetpaint-inc.com   BachelrWetpaint           USA                 0.0  ...   \n",
       "2  wetpaint-inc.com   BachelrWetpaint           USA                 0.0  ...   \n",
       "3       flektor.com               NaN           USA                 0.0  ...   \n",
       "4         there.com               NaN           USA                 0.0  ...   \n",
       "\n",
       "   milestones  funding  round  id  company  id  funded  at  \\\n",
       "0         5.0               888.0          1.0  2005-10-01   \n",
       "1         5.0               889.0          1.0  2007-01-01   \n",
       "2         5.0              2312.0          1.0  2008-05-19   \n",
       "3         0.0                 NaN          NaN         NaN   \n",
       "4         4.0                 NaN          NaN         NaN   \n",
       "\n",
       "   funding  round  type raised  amount pre  money  valuation  participants  \\\n",
       "0              series-a      5250000.0                   0.0           2.0   \n",
       "1              series-b      9500000.0                   0.0           3.0   \n",
       "2             series-c+     25000000.0                   0.0           4.0   \n",
       "3                   NaN            NaN                   NaN           NaN   \n",
       "4                   NaN            NaN                   NaN           NaN   \n",
       "\n",
       "   is  first  round  is  last  round  \n",
       "0               0.0              1.0  \n",
       "1               0.0              0.0  \n",
       "2               1.0              0.0  \n",
       "3               NaN              NaN  \n",
       "4               NaN              NaN  \n",
       "\n",
       "[5 rows x 22 columns]"
      ]
     },
     "execution_count": 6,
     "metadata": {},
     "output_type": "execute_result"
    }
   ],
   "source": [
    "# Выводим первые строки датафрейма на экран\n",
    "company_and_rounds_df.head()"
   ]
  },
  {
   "cell_type": "markdown",
   "id": "b4c98aa1-7207-4591-8be0-fe6d5fa325cd",
   "metadata": {},
   "source": [
    "В датафрейме `company_and_rounds_df` можно поменять `company ID` и `company id` на `int64`, потому что в данных присутствуют целые числа, а не десятичные. То же самое можно сделать со толбцом `participants`, потому что кол-во участников - целое число. Также нужно подробно рассмотерть столбцы `is first roud` и `is last round`, может, их нужно будет привести к булевому значению, так как они имеют значение да-нет.\n",
    "Столбец с датами имеет тип object, его нужно преобразовать в `datetime64`."
   ]
  },
  {
   "cell_type": "code",
   "execution_count": null,
   "id": "2e2bed04-bf17-4453-ace6-f6ad87b5ce20",
   "metadata": {},
   "outputs": [
    {
     "data": {
      "text/html": [
       "<div>\n",
       "<style scoped>\n",
       "    .dataframe tbody tr th:only-of-type {\n",
       "        vertical-align: middle;\n",
       "    }\n",
       "\n",
       "    .dataframe tbody tr th {\n",
       "        vertical-align: top;\n",
       "    }\n",
       "\n",
       "    .dataframe thead th {\n",
       "        text-align: right;\n",
       "    }\n",
       "</style>\n",
       "<table border=\"1\" class=\"dataframe\">\n",
       "  <thead>\n",
       "    <tr style=\"text-align: right;\">\n",
       "      <th></th>\n",
       "      <th>id</th>\n",
       "      <th>acquiring_company_id</th>\n",
       "      <th>acquired_company_id</th>\n",
       "      <th>term_code</th>\n",
       "      <th>price_amount</th>\n",
       "      <th>acquired_at</th>\n",
       "    </tr>\n",
       "  </thead>\n",
       "  <tbody>\n",
       "    <tr>\n",
       "      <th>0</th>\n",
       "      <td>1</td>\n",
       "      <td>11</td>\n",
       "      <td>10</td>\n",
       "      <td>NaN</td>\n",
       "      <td>20000000</td>\n",
       "      <td>2007-05-30</td>\n",
       "    </tr>\n",
       "    <tr>\n",
       "      <th>1</th>\n",
       "      <td>7</td>\n",
       "      <td>59</td>\n",
       "      <td>72</td>\n",
       "      <td>cash</td>\n",
       "      <td>60000000</td>\n",
       "      <td>2007-07-01</td>\n",
       "    </tr>\n",
       "    <tr>\n",
       "      <th>2</th>\n",
       "      <td>8</td>\n",
       "      <td>24</td>\n",
       "      <td>132</td>\n",
       "      <td>cash</td>\n",
       "      <td>280000000</td>\n",
       "      <td>2007-05-01</td>\n",
       "    </tr>\n",
       "    <tr>\n",
       "      <th>3</th>\n",
       "      <td>9</td>\n",
       "      <td>59</td>\n",
       "      <td>155</td>\n",
       "      <td>cash</td>\n",
       "      <td>100000000</td>\n",
       "      <td>2007-06-01</td>\n",
       "    </tr>\n",
       "    <tr>\n",
       "      <th>4</th>\n",
       "      <td>10</td>\n",
       "      <td>212</td>\n",
       "      <td>215</td>\n",
       "      <td>cash</td>\n",
       "      <td>25000000</td>\n",
       "      <td>2007-07-01</td>\n",
       "    </tr>\n",
       "  </tbody>\n",
       "</table>\n",
       "</div>"
      ],
      "text/plain": [
       "   id  acquiring_company_id  acquired_company_id term_code  price_amount  \\\n",
       "0   1                    11                   10       NaN      20000000   \n",
       "1   7                    59                   72      cash      60000000   \n",
       "2   8                    24                  132      cash     280000000   \n",
       "3   9                    59                  155      cash     100000000   \n",
       "4  10                   212                  215      cash      25000000   \n",
       "\n",
       "  acquired_at  \n",
       "0  2007-05-30  \n",
       "1  2007-07-01  \n",
       "2  2007-05-01  \n",
       "3  2007-06-01  \n",
       "4  2007-07-01  "
      ]
     },
     "execution_count": 7,
     "metadata": {},
     "output_type": "execute_result"
    }
   ],
   "source": [
    "acquisition_df.head()"
   ]
  },
  {
   "cell_type": "code",
   "execution_count": null,
   "id": "cd7f5f15-5af3-4326-af5e-5c1268fdeb0f",
   "metadata": {},
   "outputs": [
    {
     "data": {
      "text/html": [
       "<div>\n",
       "<style scoped>\n",
       "    .dataframe tbody tr th:only-of-type {\n",
       "        vertical-align: middle;\n",
       "    }\n",
       "\n",
       "    .dataframe tbody tr th {\n",
       "        vertical-align: top;\n",
       "    }\n",
       "\n",
       "    .dataframe thead th {\n",
       "        text-align: right;\n",
       "    }\n",
       "</style>\n",
       "<table border=\"1\" class=\"dataframe\">\n",
       "  <thead>\n",
       "    <tr style=\"text-align: right;\">\n",
       "      <th></th>\n",
       "      <th>id</th>\n",
       "      <th>first_name</th>\n",
       "      <th>last_name</th>\n",
       "      <th>company_id</th>\n",
       "      <th>network_username</th>\n",
       "    </tr>\n",
       "  </thead>\n",
       "  <tbody>\n",
       "    <tr>\n",
       "      <th>0</th>\n",
       "      <td>10</td>\n",
       "      <td>Mark</td>\n",
       "      <td>Zuckerberg</td>\n",
       "      <td>5.0</td>\n",
       "      <td>NaN</td>\n",
       "    </tr>\n",
       "    <tr>\n",
       "      <th>1</th>\n",
       "      <td>100</td>\n",
       "      <td>Peter</td>\n",
       "      <td>Lester</td>\n",
       "      <td>27.0</td>\n",
       "      <td>NaN</td>\n",
       "    </tr>\n",
       "    <tr>\n",
       "      <th>2</th>\n",
       "      <td>1000</td>\n",
       "      <td>Dr. Steven</td>\n",
       "      <td>E. Saunders</td>\n",
       "      <td>292.0</td>\n",
       "      <td>NaN</td>\n",
       "    </tr>\n",
       "    <tr>\n",
       "      <th>3</th>\n",
       "      <td>10000</td>\n",
       "      <td>Neil</td>\n",
       "      <td>Capel</td>\n",
       "      <td>2526.0</td>\n",
       "      <td>NaN</td>\n",
       "    </tr>\n",
       "    <tr>\n",
       "      <th>4</th>\n",
       "      <td>100000</td>\n",
       "      <td>Sue</td>\n",
       "      <td>Pilsch</td>\n",
       "      <td>NaN</td>\n",
       "      <td>NaN</td>\n",
       "    </tr>\n",
       "  </tbody>\n",
       "</table>\n",
       "</div>"
      ],
      "text/plain": [
       "       id  first_name    last_name  company_id network_username\n",
       "0      10        Mark   Zuckerberg         5.0              NaN\n",
       "1     100       Peter       Lester        27.0              NaN\n",
       "2    1000  Dr. Steven  E. Saunders       292.0              NaN\n",
       "3   10000        Neil        Capel      2526.0              NaN\n",
       "4  100000         Sue       Pilsch         NaN              NaN"
      ]
     },
     "execution_count": 8,
     "metadata": {},
     "output_type": "execute_result"
    }
   ],
   "source": [
    "people_df.head()"
   ]
  },
  {
   "cell_type": "markdown",
   "id": "03dae126-d41e-456a-81bc-3efdd1f910c7",
   "metadata": {},
   "source": [
    "В датафрейме `people_df` можно поменять `company_id` на тип int64."
   ]
  },
  {
   "cell_type": "code",
   "execution_count": null,
   "id": "61c9683c-f02f-4488-b15f-b65cab10a63e",
   "metadata": {},
   "outputs": [
    {
     "data": {
      "text/html": [
       "<div>\n",
       "<style scoped>\n",
       "    .dataframe tbody tr th:only-of-type {\n",
       "        vertical-align: middle;\n",
       "    }\n",
       "\n",
       "    .dataframe tbody tr th {\n",
       "        vertical-align: top;\n",
       "    }\n",
       "\n",
       "    .dataframe thead th {\n",
       "        text-align: right;\n",
       "    }\n",
       "</style>\n",
       "<table border=\"1\" class=\"dataframe\">\n",
       "  <thead>\n",
       "    <tr style=\"text-align: right;\">\n",
       "      <th></th>\n",
       "      <th>id</th>\n",
       "      <th>person_id</th>\n",
       "      <th>instituition</th>\n",
       "      <th>graduated_at</th>\n",
       "    </tr>\n",
       "  </thead>\n",
       "  <tbody>\n",
       "    <tr>\n",
       "      <th>0</th>\n",
       "      <td>1</td>\n",
       "      <td>6117</td>\n",
       "      <td>NaN</td>\n",
       "      <td>NaN</td>\n",
       "    </tr>\n",
       "    <tr>\n",
       "      <th>1</th>\n",
       "      <td>2</td>\n",
       "      <td>6136</td>\n",
       "      <td>Washington University, St. Louis</td>\n",
       "      <td>1990-01-01</td>\n",
       "    </tr>\n",
       "    <tr>\n",
       "      <th>2</th>\n",
       "      <td>3</td>\n",
       "      <td>6136</td>\n",
       "      <td>Boston University</td>\n",
       "      <td>1992-01-01</td>\n",
       "    </tr>\n",
       "    <tr>\n",
       "      <th>3</th>\n",
       "      <td>4</td>\n",
       "      <td>6005</td>\n",
       "      <td>University of Greenwich</td>\n",
       "      <td>2006-01-01</td>\n",
       "    </tr>\n",
       "    <tr>\n",
       "      <th>4</th>\n",
       "      <td>5</td>\n",
       "      <td>5832</td>\n",
       "      <td>Rice University</td>\n",
       "      <td>NaN</td>\n",
       "    </tr>\n",
       "  </tbody>\n",
       "</table>\n",
       "</div>"
      ],
      "text/plain": [
       "   id  person_id                      instituition graduated_at\n",
       "0   1       6117                               NaN          NaN\n",
       "1   2       6136  Washington University, St. Louis   1990-01-01\n",
       "2   3       6136                 Boston University   1992-01-01\n",
       "3   4       6005           University of Greenwich   2006-01-01\n",
       "4   5       5832                   Rice University          NaN"
      ]
     },
     "execution_count": 9,
     "metadata": {},
     "output_type": "execute_result"
    }
   ],
   "source": [
    "education_df.head()"
   ]
  },
  {
   "cell_type": "code",
   "execution_count": null,
   "id": "d6ed30eb-ab07-43b5-9f64-eac1a93e6d29",
   "metadata": {},
   "outputs": [
    {
     "data": {
      "text/html": [
       "<div>\n",
       "<style scoped>\n",
       "    .dataframe tbody tr th:only-of-type {\n",
       "        vertical-align: middle;\n",
       "    }\n",
       "\n",
       "    .dataframe tbody tr th {\n",
       "        vertical-align: top;\n",
       "    }\n",
       "\n",
       "    .dataframe thead th {\n",
       "        text-align: right;\n",
       "    }\n",
       "</style>\n",
       "<table border=\"1\" class=\"dataframe\">\n",
       "  <thead>\n",
       "    <tr style=\"text-align: right;\">\n",
       "      <th></th>\n",
       "      <th>id</th>\n",
       "      <th>object_id</th>\n",
       "      <th>degree_type</th>\n",
       "      <th>subject</th>\n",
       "    </tr>\n",
       "  </thead>\n",
       "  <tbody>\n",
       "    <tr>\n",
       "      <th>0</th>\n",
       "      <td>1</td>\n",
       "      <td>p:6117</td>\n",
       "      <td>MBA</td>\n",
       "      <td>NaN</td>\n",
       "    </tr>\n",
       "    <tr>\n",
       "      <th>1</th>\n",
       "      <td>2</td>\n",
       "      <td>p:6136</td>\n",
       "      <td>BA</td>\n",
       "      <td>English, French</td>\n",
       "    </tr>\n",
       "    <tr>\n",
       "      <th>2</th>\n",
       "      <td>3</td>\n",
       "      <td>p:6136</td>\n",
       "      <td>MS</td>\n",
       "      <td>Mass Communication</td>\n",
       "    </tr>\n",
       "    <tr>\n",
       "      <th>3</th>\n",
       "      <td>4</td>\n",
       "      <td>p:6005</td>\n",
       "      <td>MS</td>\n",
       "      <td>Internet Technology</td>\n",
       "    </tr>\n",
       "    <tr>\n",
       "      <th>4</th>\n",
       "      <td>5</td>\n",
       "      <td>p:5832</td>\n",
       "      <td>BCS</td>\n",
       "      <td>Computer Science, Psychology</td>\n",
       "    </tr>\n",
       "  </tbody>\n",
       "</table>\n",
       "</div>"
      ],
      "text/plain": [
       "   id object_id degree_type                       subject\n",
       "0   1    p:6117         MBA                           NaN\n",
       "1   2    p:6136          BA               English, French\n",
       "2   3    p:6136          MS            Mass Communication\n",
       "3   4    p:6005          MS           Internet Technology\n",
       "4   5    p:5832         BCS  Computer Science, Psychology"
      ]
     },
     "execution_count": 10,
     "metadata": {},
     "output_type": "execute_result"
    }
   ],
   "source": [
    "degrees_df.head()"
   ]
  },
  {
   "cell_type": "markdown",
   "id": "28976d1b-dd51-4485-8d8d-6511f269a503",
   "metadata": {},
   "source": [
    "### 1.2. Смена типов и анализ пропусков\n",
    "При первичном анализе мы обнаружили множество типов данных, которые можно и следует поменять, а также названия некоторых столбцов, которые также нужно привести в правильную форму:"
   ]
  },
  {
   "cell_type": "code",
   "execution_count": null,
   "id": "97f721a4-7ce6-40bf-803e-c7353a28c967",
   "metadata": {},
   "outputs": [],
   "source": [
    "# Очистка названий столбцов в company_and_rounds_df\n",
    "company_and_rounds_df.columns = (\n",
    "    company_and_rounds_df.columns\n",
    "    .str.strip()  # Убираем пробелы по краям\n",
    "    .str.replace(r'\\s+', '_', regex=True)  # Меняем пробелы на \"_\"\n",
    "    .str.lower()  # Делаем строчными\n",
    ")"
   ]
  },
  {
   "cell_type": "code",
   "execution_count": null,
   "id": "09b5722c-4a73-4c01-a5a6-230677abea92",
   "metadata": {},
   "outputs": [],
   "source": [
    "#Удалим один из столбцов с идентификатором компании, потому что они дублируются и имеют одинаковое название\n",
    "company_and_rounds_df = company_and_rounds_df.loc[:, ~company_and_rounds_df.columns.duplicated()]"
   ]
  },
  {
   "cell_type": "code",
   "execution_count": null,
   "id": "fcb692db-0814-4df3-b156-23a74de72541",
   "metadata": {},
   "outputs": [
    {
     "name": "stdout",
     "output_type": "stream",
     "text": [
      "Index(['company_id', 'name', 'category_code', 'status', 'founded_at',\n",
      "       'closed_at', 'domain', 'network_username', 'country_code',\n",
      "       'investment_rounds', 'funding_rounds', 'funding_total', 'milestones',\n",
      "       'funding_round_id', 'funded_at', 'funding_round_type', 'raised_amount',\n",
      "       'pre_money_valuation', 'participants', 'is_first_round',\n",
      "       'is_last_round'],\n",
      "      dtype='object')\n"
     ]
    }
   ],
   "source": [
    "# Проверим результат\n",
    "print(company_and_rounds_df.columns)"
   ]
  },
  {
   "cell_type": "markdown",
   "id": "5683427b-d169-49db-87f1-b574576257d5",
   "metadata": {},
   "source": [
    "Мы поменяли названия столбцов и удалили дублирующиеся столбцы, теперь попробуем привести типы данных к удобным для работы в `company_and_rounds_df`:"
   ]
  },
  {
   "cell_type": "code",
   "execution_count": null,
   "id": "c40164e7-c5fc-4bfb-9c30-776133ede5c1",
   "metadata": {},
   "outputs": [],
   "source": [
    "# Заменяем NaN в participants на -1 и поменяем тип\n",
    "company_and_rounds_df[\"participants\"] = company_and_rounds_df[\"participants\"].fillna(-1).astype(\"int64\")"
   ]
  },
  {
   "cell_type": "code",
   "execution_count": null,
   "id": "66e75c3a-388f-4978-b5cc-c686101cbd61",
   "metadata": {},
   "outputs": [],
   "source": [
    "# Преобразуем даты в datetime64\n",
    "date_columns = [\"founded_at\", \"closed_at\", \"funded_at\"]\n",
    "for col in date_columns:\n",
    "    company_and_rounds_df[col] = pd.to_datetime(company_and_rounds_df[col], errors=\"coerce\")"
   ]
  },
  {
   "cell_type": "code",
   "execution_count": null,
   "id": "55ed6843-8479-49ba-ac64-e206ebf99e43",
   "metadata": {},
   "outputs": [
    {
     "name": "stdout",
     "output_type": "stream",
     "text": [
      "<class 'pandas.core.frame.DataFrame'>\n",
      "RangeIndex: 217774 entries, 0 to 217773\n",
      "Data columns (total 21 columns):\n",
      " #   Column               Non-Null Count   Dtype         \n",
      "---  ------               --------------   -----         \n",
      " 0   company_id           217472 non-null  float64       \n",
      " 1   name                 217472 non-null  object        \n",
      " 2   category_code        143886 non-null  object        \n",
      " 3   status               217472 non-null  object        \n",
      " 4   founded_at           109956 non-null  datetime64[ns]\n",
      " 5   closed_at            3449 non-null    datetime64[ns]\n",
      " 6   domain               147159 non-null  object        \n",
      " 7   network_username     95534 non-null   object        \n",
      " 8   country_code         108607 non-null  object        \n",
      " 9   investment_rounds    217472 non-null  float64       \n",
      " 10  funding_rounds       217472 non-null  float64       \n",
      " 11  funding_total        217472 non-null  float64       \n",
      " 12  milestones           217472 non-null  float64       \n",
      " 13  funding_round_id     52928 non-null   float64       \n",
      " 14  funded_at            52680 non-null   datetime64[ns]\n",
      " 15  funding_round_type   52928 non-null   object        \n",
      " 16  raised_amount        52928 non-null   float64       \n",
      " 17  pre_money_valuation  52928 non-null   float64       \n",
      " 18  participants         217774 non-null  int64         \n",
      " 19  is_first_round       52928 non-null   float64       \n",
      " 20  is_last_round        52928 non-null   float64       \n",
      "dtypes: datetime64[ns](3), float64(10), int64(1), object(7)\n",
      "memory usage: 34.9+ MB\n"
     ]
    }
   ],
   "source": [
    "# Проверим результат\n",
    "company_and_rounds_df.info()"
   ]
  },
  {
   "cell_type": "markdown",
   "id": "8c31a0ee-d2ff-481d-a03a-2f572d56809b",
   "metadata": {},
   "source": [
    "В датафрейме `people_df` поменяем `company_id` на тип `int64`:"
   ]
  },
  {
   "cell_type": "markdown",
   "id": "6c0b037c-8b86-4cb6-8008-b535ec24c3c0",
   "metadata": {},
   "source": [
    "В оставшишхся датафреймах поменяем столбцы со временем на нужный тип данных:"
   ]
  },
  {
   "cell_type": "code",
   "execution_count": null,
   "id": "ef754f38-0fd9-411f-8cfb-6cc7c0cfcb25",
   "metadata": {},
   "outputs": [],
   "source": [
    "# Преобразуем даты из acquisition_df\n",
    "acquisition_df[\"acquired_at\"] = pd.to_datetime(acquisition_df[\"acquired_at\"], errors=\"coerce\")"
   ]
  },
  {
   "cell_type": "code",
   "execution_count": null,
   "id": "291c7cc1-ee08-41ca-a99f-e47e13a1ebf8",
   "metadata": {},
   "outputs": [
    {
     "name": "stdout",
     "output_type": "stream",
     "text": [
      "<class 'pandas.core.frame.DataFrame'>\n",
      "RangeIndex: 9407 entries, 0 to 9406\n",
      "Data columns (total 6 columns):\n",
      " #   Column                Non-Null Count  Dtype         \n",
      "---  ------                --------------  -----         \n",
      " 0   id                    9407 non-null   int64         \n",
      " 1   acquiring_company_id  9407 non-null   int64         \n",
      " 2   acquired_company_id   9407 non-null   int64         \n",
      " 3   term_code             1831 non-null   object        \n",
      " 4   price_amount          9407 non-null   int64         \n",
      " 5   acquired_at           9378 non-null   datetime64[ns]\n",
      "dtypes: datetime64[ns](1), int64(4), object(1)\n",
      "memory usage: 441.1+ KB\n"
     ]
    }
   ],
   "source": [
    "# Проверим результат\n",
    "acquisition_df.info()"
   ]
  },
  {
   "cell_type": "code",
   "execution_count": null,
   "id": "42fc8417-9011-4ceb-a979-6843c52c99ae",
   "metadata": {},
   "outputs": [],
   "source": [
    "# Преобразуем даты из education_df\n",
    "education_df[\"graduated_at\"] = pd.to_datetime(education_df[\"graduated_at\"], errors=\"coerce\")"
   ]
  },
  {
   "cell_type": "code",
   "execution_count": null,
   "id": "f46ab41a-1cc6-4a37-9c7c-e610840f5e97",
   "metadata": {},
   "outputs": [
    {
     "name": "stdout",
     "output_type": "stream",
     "text": [
      "<class 'pandas.core.frame.DataFrame'>\n",
      "RangeIndex: 109610 entries, 0 to 109609\n",
      "Data columns (total 4 columns):\n",
      " #   Column        Non-Null Count   Dtype         \n",
      "---  ------        --------------   -----         \n",
      " 0   id            109610 non-null  int64         \n",
      " 1   person_id     109610 non-null  int64         \n",
      " 2   instituition  109555 non-null  object        \n",
      " 3   graduated_at  58054 non-null   datetime64[ns]\n",
      "dtypes: datetime64[ns](1), int64(2), object(1)\n",
      "memory usage: 3.3+ MB\n"
     ]
    }
   ],
   "source": [
    "# Проверим результат\n",
    "education_df.info()"
   ]
  },
  {
   "cell_type": "markdown",
   "id": "2dd38ad8-a176-4560-975f-fededdba43b2",
   "metadata": {},
   "source": [
    "#### Промежуточные выводы\n",
    "\n",
    "В ходе знакомства с данными мы:\n",
    "- Выявили дублированные столбцы и неформальные наименования столбцов,\n",
    "- Привели к правильному формату названия столбцов и избавились от дубликатов столбцов,\n",
    "- Заменили формат `object` на `datetime` в столбцах и датафреймах, где это было необходимо,\n",
    "- Установили заглушки и поменяли некоторые данные из `float` в `int`."
   ]
  },
  {
   "cell_type": "markdown",
   "id": "f0f7b8af-797e-489a-b425-0d4210050aaf",
   "metadata": {},
   "source": [
    "## 2. Предобработка данных\n",
    "\n",
    "### 2.1. Раунды финансирования по годам\n",
    "\n",
    "Ответим на следующие вопросы:\n",
    "- В каком году типичный размер собранных в рамках одного раунда средств был максимален?\n",
    "- Какая тенденция по количеству раундов и выделяемых в рамках каждого раунда средств наблюдалась в 2013 году?\n",
    "\n",
    "Составим сводную таблицу по годам:"
   ]
  },
  {
   "cell_type": "code",
   "execution_count": null,
   "id": "f44c4da9-2844-4d3a-8ba3-95b1204e1436",
   "metadata": {},
   "outputs": [
    {
     "name": "stdout",
     "output_type": "stream",
     "text": [
      "      year  median_raised_amount  num_rounds\n",
      "0   1960.0                   0.0           9\n",
      "1   1973.0                   0.0           1\n",
      "2   1974.0                   0.0           2\n",
      "3   1984.0               41000.0           3\n",
      "4   1985.0                   0.0           1\n",
      "5   1987.0             1250000.0           2\n",
      "6   1989.0               15000.0           1\n",
      "7   1990.0             1000000.0           1\n",
      "8   1992.0             2000000.0           1\n",
      "9   1993.0               62500.0           2\n",
      "10  1994.0             6700000.0           2\n",
      "11  1995.0             2000000.0           7\n",
      "12  1996.0               12500.0           7\n",
      "13  1997.0             3300000.0           9\n",
      "14  1998.0              100000.0          29\n",
      "15  1999.0             2000000.0          76\n",
      "16  2000.0             4200000.0         125\n",
      "17  2001.0             3000000.0          96\n",
      "18  2002.0             4200000.0         116\n",
      "19  2003.0             3000000.0         159\n",
      "20  2004.0             5000000.0         291\n",
      "21  2005.0             5500000.0        1633\n",
      "22  2006.0             5000000.0        2436\n",
      "23  2007.0             3973320.0        3279\n",
      "24  2008.0             3110000.0        3774\n",
      "25  2009.0             2000000.0        4151\n",
      "26  2010.0             1602500.0        6221\n",
      "27  2011.0             1200000.0        9204\n",
      "28  2012.0             1000000.0        9970\n",
      "29  2013.0             1200000.0       11072\n"
     ]
    }
   ],
   "source": [
    "# Извлекаем год финансирования\n",
    "company_and_rounds_df[\"year\"] = company_and_rounds_df[\"funded_at\"].dt.year\n",
    "\n",
    "# Группируем данные по годам и вычисляем медианное значение и количество раундов\n",
    "summary = company_and_rounds_df.groupby(\"year\")[\"raised_amount\"].agg([\"median\", \"count\"]).reset_index()\n",
    "summary.columns = [\"year\", \"median_raised_amount\", \"num_rounds\"]\n",
    "\n",
    "# Вывод сводной таблицы\n",
    "print(summary)"
   ]
  },
  {
   "cell_type": "code",
   "execution_count": null,
   "id": "d38aa8c0-e951-4b7b-9946-229800ca75aa",
   "metadata": {},
   "outputs": [
    {
     "name": "stdout",
     "output_type": "stream",
     "text": [
      "      year  median_raised_amount  num_rounds\n",
      "15  1999.0             2000000.0          76\n",
      "16  2000.0             4200000.0         125\n",
      "17  2001.0             3000000.0          96\n",
      "18  2002.0             4200000.0         116\n",
      "19  2003.0             3000000.0         159\n",
      "20  2004.0             5000000.0         291\n",
      "21  2005.0             5500000.0        1633\n",
      "22  2006.0             5000000.0        2436\n",
      "23  2007.0             3973320.0        3279\n",
      "24  2008.0             3110000.0        3774\n",
      "25  2009.0             2000000.0        4151\n",
      "26  2010.0             1602500.0        6221\n",
      "27  2011.0             1200000.0        9204\n",
      "28  2012.0             1000000.0        9970\n",
      "29  2013.0             1200000.0       11072\n"
     ]
    }
   ],
   "source": [
    "# Оставляем только годы с более чем 50 раундами\n",
    "summary = summary[summary[\"num_rounds\"] > 50]\n",
    "print(summary)"
   ]
  },
  {
   "cell_type": "markdown",
   "id": "10abc705-06b5-49a4-94bb-60ec9c704a2b",
   "metadata": {},
   "source": [
    "Мы составили сводную таблицу по годам, в которой на основании столбца `raised_amount` для каждого года указан:\n",
    "- типичный размер средств, выделяемый в рамках одного раунда;\n",
    "- общее количество раундов финансирования за этот год.\n",
    "    \n",
    "Затем ставили в таблице информацию только для тех лет, для которых есть информация о более чем 50 раундах финансирования.\n",
    "\n",
    "Сделаем график, который будет отражать динамику типичного размера средств, которые стартапы получали в рамках одного раунда финансирования:"
   ]
  },
  {
   "cell_type": "code",
   "execution_count": null,
   "id": "9bd63ef8-580a-4495-ae16-a8b867cc062b",
   "metadata": {},
   "outputs": [
    {
     "data": {
      "image/png": "[encoded data removed]",
      "text/plain": [
       "<Figure size 720x360 with 1 Axes>"
      ]
     },
     "metadata": {
      "needs_background": "light"
     },
     "output_type": "display_data"
    }
   ],
   "source": [
    "# Визуализация\n",
    "plt.figure(figsize=(10, 5))\n",
    "plt.plot(summary[\"year\"], summary[\"median_raised_amount\"], marker='o', linestyle='-')\n",
    "plt.xlabel(\"Год\")\n",
    "plt.ylabel(\"Медианный размер финансирования\")\n",
    "plt.title(\"Динамика медианного размера финансирования по годам\")\n",
    "plt.grid()\n",
    "plt.show()"
   ]
  },
  {
   "cell_type": "markdown",
   "id": "a5ca93f1-093d-42bd-a7ed-f7f697fb4b8f",
   "metadata": {},
   "source": [
    "- Самый высокий типичный размер средств в рамках одного раунда был в 2005 году ($5,500,000).\n",
    "\n",
    "- Тенденция в 2013 году:\n",
    "    - Количество раундов финансирования продолжило увеличиваться и достигло 11,072, что является наибольшим значением за представленные годы.\n",
    "    - Однако типичный размер средств, выделяемых в рамках одного раунда, оставался относительно небольшим — $1,200,000, что ниже значений 2005–2008 годов.\n",
    "    - Это указывает на тренд: количество раундов росло, но средний размер инвестиций на один раунд снижался."
   ]
  },
  {
   "cell_type": "markdown",
   "id": "c7775b9a-9c93-444c-b799-2a5986e4c3ff",
   "metadata": {},
   "source": [
    "### 2.2. Люди и их образование\n",
    "\n",
    "Поймем, зависит ли полнота сведений о сотрудниках (например, об их образовании) от размера компаний."
   ]
  },
  {
   "cell_type": "code",
   "execution_count": null,
   "id": "d72a4fd5-c9de-4bf2-9669-0df6d7e6e1d3",
   "metadata": {},
   "outputs": [
    {
     "data": {
      "image/png": "[encoded data removed]",
      "text/plain": [
       "<Figure size 720x360 with 1 Axes>"
      ]
     },
     "metadata": {
      "needs_background": "light"
     },
     "output_type": "display_data"
    }
   ],
   "source": [
    "# Определяем сотрудников без информации об образовании\n",
    "people_with_edu = education_df[\"person_id\"].unique()\n",
    "people_df[\"has_education\"] = people_df[\"id\"].isin(people_with_edu)\n",
    "\n",
    "# Группировка по компаниям и расчет доли сотрудников без образования\n",
    "df_company_stats = people_df.groupby(\"company_id\")[\"has_education\"].agg([\"count\", \"sum\"]).reset_index()\n",
    "df_company_stats[\"no_education_ratio\"] = 1 - (df_company_stats[\"sum\"] / df_company_stats[\"count\"])\n",
    "\n",
    "# Анализ распределения размеров компаний\n",
    "plt.figure(figsize=(10, 5))\n",
    "sns.histplot(df_company_stats[\"count\"], bins=50, log_scale=(True, False))\n",
    "plt.xlabel(\"Количество сотрудников в компании\")\n",
    "plt.ylabel(\"Количество компаний\")\n",
    "plt.title(\"Распределение компаний по числу сотрудников\")\n",
    "plt.show()"
   ]
  },
  {
   "cell_type": "code",
   "execution_count": null,
   "id": "20dd1cc6",
   "metadata": {},
   "outputs": [
    {
     "name": "stdout",
     "output_type": "stream",
     "text": [
      "  company_size  no_education_ratio\n",
      "0            1            0.462604\n",
      "1            2            0.466039\n",
      "2            3            0.486790\n",
      "3          4-5            0.497307\n",
      "4         6-10            0.531828\n",
      "5        11-25            0.458760\n",
      "6          26+            0.265466\n"
     ]
    }
   ],
   "source": [
    "# Определение групп по размеру компании (на основе анализа распределения)\n",
    "bins = [0, 1, 2, 3, 5, 10, 25, float(\"inf\")]\n",
    "labels = [\"1\", \"2\", \"3\", \"4-5\", \"6-10\", \"11-25\", \"26+\"]\n",
    "\n",
    "df_company_stats[\"company_size\"] = pd.cut(df_company_stats[\"count\"], bins=bins, labels=labels, right=True)\n",
    "\n",
    "# Оценка доли сотрудников без образования по группам размеров компаний\n",
    "size_analysis = df_company_stats.groupby(\"company_size\")[\"no_education_ratio\"].mean().reset_index()\n",
    "\n",
    "# Вывод результатов\n",
    "print(size_analysis)"
   ]
  },
  {
   "cell_type": "code",
   "execution_count": null,
   "id": "c57a938f-8454-4dd4-b0e3-00474e90afc6",
   "metadata": {},
   "outputs": [
    {
     "name": "stdout",
     "output_type": "stream",
     "text": [
      "   id_x person_id                      instituition graduated_at  id_y  \\\n",
      "0     1      6117                               NaN          NaT     1   \n",
      "1     2      6136  Washington University, St. Louis   1990-01-01     2   \n",
      "2     2      6136  Washington University, St. Louis   1990-01-01     3   \n",
      "3     3      6136                 Boston University   1992-01-01     2   \n",
      "4     3      6136                 Boston University   1992-01-01     3   \n",
      "\n",
      "  object_id degree_type             subject  \n",
      "0      6117         MBA                 NaN  \n",
      "1      6136          BA     English, French  \n",
      "2      6136          MS  Mass Communication  \n",
      "3      6136          BA     English, French  \n",
      "4      6136          MS  Mass Communication  \n",
      "  company_size  no_education_ratio\n",
      "0            1            0.462604\n",
      "1            2            0.466039\n",
      "2            3            0.486790\n",
      "3          4-5            0.497307\n",
      "4         6-10            0.531828\n",
      "5        11-25            0.458760\n",
      "6          26+            0.265466\n"
     ]
    }
   ],
   "source": [
    "# Убираем префикс \"p:\" в столбце object_id в degrees_df\n",
    "degrees_df[\"object_id\"] = degrees_df[\"object_id\"].str.replace(\"p:\", \"\", regex=False)\n",
    "\n",
    "# Приводим типы данных к строковому\n",
    "education_df[\"person_id\"] = education_df[\"person_id\"].astype(str)\n",
    "degrees_df[\"object_id\"] = degrees_df[\"object_id\"].astype(str)\n",
    "\n",
    "# Проверка возможности присоединения degrees.csv\n",
    "merged_degrees = education_df.merge(degrees_df, left_on=\"person_id\", right_on=\"object_id\", how=\"left\")\n",
    "\n",
    "# Вывод первых строк для проверки\n",
    "print(merged_degrees.head())\n",
    "\n",
    "# Вывод size_analysis (если он ранее определен)\n",
    "print(size_analysis)"
   ]
  },
  {
   "cell_type": "markdown",
   "id": "04942dbc-e548-483d-81bc-9ad57b430505",
   "metadata": {},
   "source": [
    "Мы разделили информацию о сотрудниках и оценили, возможно ли присоединение таблиц. \n",
    "\n",
    "Обоснование выбора границ:\n",
    "- 1–10 (малые) → стартапы и небольшие фирмы, где часто не ведут строгий учет образования.\n",
    "- 11–100 (средние) → стабильные малые компании, где могут быть кадровые процессы.\n",
    "- 101–1000 (крупные) → бизнес, в котором кадровая отчетность более формализована.\n",
    "- 1001+ (очень крупные) → корпорации с формальными HR-процессами.\n",
    "\n",
    "Присоединение таблиц возможно при замене типа данных и объединению по `object_id`. В целом, в этом нет необходимости.\n",
    "\n",
    "Из поулченных данных мы видим, что в очень крупных компаниях доля людей без образования или без информации об образовании значительно выше, чем в остальных компаниях (0.74). Таким образом можно отметить, что полнота сведений о сотрудниках зависит от размера компании."
   ]
  },
  {
   "cell_type": "markdown",
   "id": "43b6a46c-f21a-4419-9d32-87738491f73b",
   "metadata": {},
   "source": [
    "### 2.3. Объединять или не объединять — вот в чём вопрос\n"
   ]
  },
  {
   "cell_type": "code",
   "execution_count": null,
   "id": "2703ddc1-b9b9-45cf-8218-fa762d456453",
   "metadata": {},
   "outputs": [
    {
     "name": "stdout",
     "output_type": "stream",
     "text": [
      "Уникальные network_username в people_df: 38421 из 226709\n",
      "Уникальные network_username в company_and_rounds_df: 79571 из 217774\n",
      "Уникальные network_username в fund_df: 2098 из 11652\n",
      "Дубли в people_df: 188287\n",
      "Дубли в company_and_rounds_df: 138202\n",
      "Дубли в fund_df: 9553\n",
      "Общие значения network_username между people_df и company_and_rounds_df: 2200\n",
      "Общие значения network_username между people_df и fund_df: 80\n",
      "Общие значения network_username между company_and_rounds_df и fund_df: 71\n"
     ]
    },
    {
     "data": {
      "image/png": "[encoded data removed]",
      "text/plain": [
       "<Figure size 432x432 with 1 Axes>"
      ]
     },
     "metadata": {},
     "output_type": "display_data"
    }
   ],
   "source": [
    "from matplotlib_venn import venn2\n",
    "\n",
    "# Проверка уникальности внутри каждого датасета\n",
    "print(\"Уникальные network_username в people_df:\", people_df[\"network_username\"].nunique(), \"из\", len(people_df))\n",
    "print(\"Уникальные network_username в company_and_rounds_df:\", company_and_rounds_df[\"network_username\"].nunique(), \"из\", len(company_and_rounds_df))\n",
    "print(\"Уникальные network_username в fund_df:\", fund_df[\"network_username\"].nunique(), \"из\", len(fund_df))\n",
    "\n",
    "# Проверка дубликатов\n",
    "people_duplicates = people_df[\"network_username\"].duplicated().sum()\n",
    "company_duplicates = company_and_rounds_df[\"network_username\"].duplicated().sum()\n",
    "fund_duplicates = fund_df[\"network_username\"].duplicated().sum()\n",
    "\n",
    "print(f\"Дубли в people_df: {people_duplicates}\")\n",
    "print(f\"Дубли в company_and_rounds_df: {company_duplicates}\")\n",
    "print(f\"Дубли в fund_df: {fund_duplicates}\")\n",
    "\n",
    "# Проверка пересечений между датасетами\n",
    "common_people_company = len(set(people_df[\"network_username\"]).intersection(set(company_and_rounds_df[\"network_username\"])))\n",
    "common_people_fund = len(set(people_df[\"network_username\"]).intersection(set(fund_df[\"network_username\"])))\n",
    "common_company_fund = len(set(company_and_rounds_df[\"network_username\"]).intersection(set(fund_df[\"network_username\"])))\n",
    "\n",
    "print(f\"Общие значения network_username между people_df и company_and_rounds_df: {common_people_company}\")\n",
    "print(f\"Общие значения network_username между people_df и fund_df: {common_people_fund}\")\n",
    "print(f\"Общие значения network_username между company_and_rounds_df и fund_df: {common_company_fund}\")\n",
    "\n",
    "# Визуализация пересечений с помощью диаграммы Венна\n",
    "plt.figure(figsize=(6,6))\n",
    "venn2(\n",
    "    [set(people_df[\"network_username\"].dropna()), set(company_and_rounds_df[\"network_username\"].dropna())],\n",
    "    set_labels=('people_df', 'company_and_rounds_df')\n",
    ")\n",
    "plt.title(\"Пересечение значений network_username между people_df и company_and_rounds_df\")\n",
    "plt.show()"
   ]
  },
  {
   "cell_type": "markdown",
   "id": "9e5cbc20-ec54-4f85-9e7e-37218c42e83b",
   "metadata": {},
   "source": [
    "- В таблице `people_df` — 38,421 уникальных значений `network_username` из 226,709 строк, а в таблице `company_and_rounds_df` — 79,571 уникальных из 217,774 строк.\n",
    "- В обеих таблицах много дублирующихся значений: 188,287 в people_df и 138,202 в `company_and_rounds_df`.\n",
    "- Между таблицами 2,200 общих значений `network_username`.\n",
    "- Столбец `network_username` не является уникальным идентификатором, поэтому его нельзя использовать для объединения данных. Лучше использовать `company_id`."
   ]
  },
  {
   "cell_type": "markdown",
   "id": "341706d3-981a-4524-a6cf-5d7988262222",
   "metadata": {},
   "source": [
    "### 2.4. Проблемный датасет и причина возникновения пропусков\n"
   ]
  },
  {
   "cell_type": "code",
   "execution_count": null,
   "id": "8015daac",
   "metadata": {},
   "outputs": [
    {
     "name": "stdout",
     "output_type": "stream",
     "text": [
      "Размер companies_df: (196554, 13)\n",
      "Размер funding_rounds_df: (217774, 9)\n"
     ]
    },
    {
     "data": {
      "text/html": [
       "<div>\n",
       "<style scoped>\n",
       "    .dataframe tbody tr th:only-of-type {\n",
       "        vertical-align: middle;\n",
       "    }\n",
       "\n",
       "    .dataframe tbody tr th {\n",
       "        vertical-align: top;\n",
       "    }\n",
       "\n",
       "    .dataframe thead th {\n",
       "        text-align: right;\n",
       "    }\n",
       "</style>\n",
       "<table border=\"1\" class=\"dataframe\">\n",
       "  <thead>\n",
       "    <tr style=\"text-align: right;\">\n",
       "      <th></th>\n",
       "      <th>company_id</th>\n",
       "      <th>name</th>\n",
       "      <th>category_code</th>\n",
       "      <th>status</th>\n",
       "      <th>founded_at</th>\n",
       "      <th>closed_at</th>\n",
       "      <th>domain</th>\n",
       "      <th>network_username</th>\n",
       "      <th>country_code</th>\n",
       "      <th>investment_rounds</th>\n",
       "      <th>funding_rounds</th>\n",
       "      <th>funding_total</th>\n",
       "      <th>milestones</th>\n",
       "    </tr>\n",
       "  </thead>\n",
       "  <tbody>\n",
       "    <tr>\n",
       "      <th>0</th>\n",
       "      <td>1.0</td>\n",
       "      <td>Wetpaint</td>\n",
       "      <td>web</td>\n",
       "      <td>operating</td>\n",
       "      <td>2005-10-17</td>\n",
       "      <td>NaT</td>\n",
       "      <td>wetpaint-inc.com</td>\n",
       "      <td>BachelrWetpaint</td>\n",
       "      <td>USA</td>\n",
       "      <td>0.0</td>\n",
       "      <td>3.0</td>\n",
       "      <td>39750000.0</td>\n",
       "      <td>5.0</td>\n",
       "    </tr>\n",
       "    <tr>\n",
       "      <th>1</th>\n",
       "      <td>10.0</td>\n",
       "      <td>Flektor</td>\n",
       "      <td>games_video</td>\n",
       "      <td>acquired</td>\n",
       "      <td>NaT</td>\n",
       "      <td>NaT</td>\n",
       "      <td>flektor.com</td>\n",
       "      <td>NaN</td>\n",
       "      <td>USA</td>\n",
       "      <td>0.0</td>\n",
       "      <td>0.0</td>\n",
       "      <td>0.0</td>\n",
       "      <td>0.0</td>\n",
       "    </tr>\n",
       "    <tr>\n",
       "      <th>2</th>\n",
       "      <td>100.0</td>\n",
       "      <td>There</td>\n",
       "      <td>games_video</td>\n",
       "      <td>acquired</td>\n",
       "      <td>NaT</td>\n",
       "      <td>NaT</td>\n",
       "      <td>there.com</td>\n",
       "      <td>NaN</td>\n",
       "      <td>USA</td>\n",
       "      <td>0.0</td>\n",
       "      <td>0.0</td>\n",
       "      <td>0.0</td>\n",
       "      <td>4.0</td>\n",
       "    </tr>\n",
       "    <tr>\n",
       "      <th>3</th>\n",
       "      <td>10000.0</td>\n",
       "      <td>MYWEBBO</td>\n",
       "      <td>network_hosting</td>\n",
       "      <td>operating</td>\n",
       "      <td>2008-07-26</td>\n",
       "      <td>NaT</td>\n",
       "      <td>mywebbo.com</td>\n",
       "      <td>NaN</td>\n",
       "      <td>NaN</td>\n",
       "      <td>0.0</td>\n",
       "      <td>0.0</td>\n",
       "      <td>0.0</td>\n",
       "      <td>0.0</td>\n",
       "    </tr>\n",
       "    <tr>\n",
       "      <th>4</th>\n",
       "      <td>10001.0</td>\n",
       "      <td>THE Movie Streamer</td>\n",
       "      <td>games_video</td>\n",
       "      <td>operating</td>\n",
       "      <td>2008-07-26</td>\n",
       "      <td>NaT</td>\n",
       "      <td>themoviestreamer.com</td>\n",
       "      <td>NaN</td>\n",
       "      <td>NaN</td>\n",
       "      <td>0.0</td>\n",
       "      <td>0.0</td>\n",
       "      <td>0.0</td>\n",
       "      <td>0.0</td>\n",
       "    </tr>\n",
       "  </tbody>\n",
       "</table>\n",
       "</div>"
      ],
      "text/plain": [
       "  company_id                name    category_code     status founded_at  \\\n",
       "0        1.0            Wetpaint              web  operating 2005-10-17   \n",
       "1       10.0             Flektor      games_video   acquired        NaT   \n",
       "2      100.0               There      games_video   acquired        NaT   \n",
       "3    10000.0             MYWEBBO  network_hosting  operating 2008-07-26   \n",
       "4    10001.0  THE Movie Streamer      games_video  operating 2008-07-26   \n",
       "\n",
       "  closed_at                domain network_username country_code  \\\n",
       "0       NaT      wetpaint-inc.com  BachelrWetpaint          USA   \n",
       "1       NaT           flektor.com              NaN          USA   \n",
       "2       NaT             there.com              NaN          USA   \n",
       "3       NaT           mywebbo.com              NaN          NaN   \n",
       "4       NaT  themoviestreamer.com              NaN          NaN   \n",
       "\n",
       "   investment_rounds  funding_rounds  funding_total  milestones  \n",
       "0                0.0             3.0     39750000.0         5.0  \n",
       "1                0.0             0.0            0.0         0.0  \n",
       "2                0.0             0.0            0.0         4.0  \n",
       "3                0.0             0.0            0.0         0.0  \n",
       "4                0.0             0.0            0.0         0.0  "
      ]
     },
     "metadata": {},
     "output_type": "display_data"
    },
    {
     "data": {
      "text/html": [
       "<div>\n",
       "<style scoped>\n",
       "    .dataframe tbody tr th:only-of-type {\n",
       "        vertical-align: middle;\n",
       "    }\n",
       "\n",
       "    .dataframe tbody tr th {\n",
       "        vertical-align: top;\n",
       "    }\n",
       "\n",
       "    .dataframe thead th {\n",
       "        text-align: right;\n",
       "    }\n",
       "</style>\n",
       "<table border=\"1\" class=\"dataframe\">\n",
       "  <thead>\n",
       "    <tr style=\"text-align: right;\">\n",
       "      <th></th>\n",
       "      <th>company_id</th>\n",
       "      <th>funding_round_id</th>\n",
       "      <th>funded_at</th>\n",
       "      <th>funding_round_type</th>\n",
       "      <th>raised_amount</th>\n",
       "      <th>pre_money_valuation</th>\n",
       "      <th>participants</th>\n",
       "      <th>is_first_round</th>\n",
       "      <th>is_last_round</th>\n",
       "    </tr>\n",
       "  </thead>\n",
       "  <tbody>\n",
       "    <tr>\n",
       "      <th>0</th>\n",
       "      <td>1.0</td>\n",
       "      <td>888.0</td>\n",
       "      <td>2005-10-01</td>\n",
       "      <td>series-a</td>\n",
       "      <td>5250000.0</td>\n",
       "      <td>0.0</td>\n",
       "      <td>2</td>\n",
       "      <td>0.0</td>\n",
       "      <td>1.0</td>\n",
       "    </tr>\n",
       "    <tr>\n",
       "      <th>1</th>\n",
       "      <td>1.0</td>\n",
       "      <td>889.0</td>\n",
       "      <td>2007-01-01</td>\n",
       "      <td>series-b</td>\n",
       "      <td>9500000.0</td>\n",
       "      <td>0.0</td>\n",
       "      <td>3</td>\n",
       "      <td>0.0</td>\n",
       "      <td>0.0</td>\n",
       "    </tr>\n",
       "    <tr>\n",
       "      <th>2</th>\n",
       "      <td>1.0</td>\n",
       "      <td>2312.0</td>\n",
       "      <td>2008-05-19</td>\n",
       "      <td>series-c+</td>\n",
       "      <td>25000000.0</td>\n",
       "      <td>0.0</td>\n",
       "      <td>4</td>\n",
       "      <td>1.0</td>\n",
       "      <td>0.0</td>\n",
       "    </tr>\n",
       "    <tr>\n",
       "      <th>3</th>\n",
       "      <td>10.0</td>\n",
       "      <td>nan</td>\n",
       "      <td>NaT</td>\n",
       "      <td>NaN</td>\n",
       "      <td>NaN</td>\n",
       "      <td>NaN</td>\n",
       "      <td>-1</td>\n",
       "      <td>NaN</td>\n",
       "      <td>NaN</td>\n",
       "    </tr>\n",
       "    <tr>\n",
       "      <th>4</th>\n",
       "      <td>100.0</td>\n",
       "      <td>nan</td>\n",
       "      <td>NaT</td>\n",
       "      <td>NaN</td>\n",
       "      <td>NaN</td>\n",
       "      <td>NaN</td>\n",
       "      <td>-1</td>\n",
       "      <td>NaN</td>\n",
       "      <td>NaN</td>\n",
       "    </tr>\n",
       "  </tbody>\n",
       "</table>\n",
       "</div>"
      ],
      "text/plain": [
       "  company_id funding_round_id  funded_at funding_round_type  raised_amount  \\\n",
       "0        1.0            888.0 2005-10-01           series-a      5250000.0   \n",
       "1        1.0            889.0 2007-01-01           series-b      9500000.0   \n",
       "2        1.0           2312.0 2008-05-19          series-c+     25000000.0   \n",
       "3       10.0              nan        NaT                NaN            NaN   \n",
       "4      100.0              nan        NaT                NaN            NaN   \n",
       "\n",
       "   pre_money_valuation  participants  is_first_round  is_last_round  \n",
       "0                  0.0             2             0.0            1.0  \n",
       "1                  0.0             3             0.0            0.0  \n",
       "2                  0.0             4             1.0            0.0  \n",
       "3                  NaN            -1             NaN            NaN  \n",
       "4                  NaN            -1             NaN            NaN  "
      ]
     },
     "metadata": {},
     "output_type": "display_data"
    }
   ],
   "source": [
    "# Приведение типов ID-столбцов к строковому формату\n",
    "company_and_rounds_df[\"company_id\"] = company_and_rounds_df[\"company_id\"].astype(str)\n",
    "company_and_rounds_df[\"funding_round_id\"] = company_and_rounds_df[\"funding_round_id\"].astype(str)\n",
    "\n",
    "# Создание датасета с информацией о компаниях (удаляем дубликаты)\n",
    "companies_df = company_and_rounds_df[\n",
    "    [\"company_id\", \"name\", \"category_code\", \"status\", \"founded_at\", \"closed_at\", \"domain\", \"network_username\", \"country_code\", \"investment_rounds\", \"funding_rounds\", \"funding_total\", \"milestones\"]\n",
    "].drop_duplicates().reset_index(drop=True)\n",
    "\n",
    "# Создание датасета с информацией о раундах финансирования\n",
    "funding_rounds_df = company_and_rounds_df[\n",
    "    [\"company_id\", \"funding_round_id\", \"funded_at\", \"funding_round_type\", \"raised_amount\", \"pre_money_valuation\", \"participants\", \"is_first_round\", \"is_last_round\"]\n",
    "].dropna(subset=[\"funding_round_id\"]).reset_index(drop=True)\n",
    "\n",
    "# Сортировка по company_id\n",
    "companies_df = companies_df.sort_values(by=\"company_id\").reset_index(drop=True)\n",
    "funding_rounds_df = funding_rounds_df.sort_values(by=[\"company_id\", \"funded_at\"]).reset_index(drop=True)\n",
    "\n",
    "# Вывод информации\n",
    "print(f\"Размер companies_df: {companies_df.shape}\")\n",
    "print(f\"Размер funding_rounds_df: {funding_rounds_df.shape}\")\n",
    "\n",
    "# Просмотр первых строк\n",
    "display(companies_df.head())\n",
    "display(funding_rounds_df.head())"
   ]
  },
  {
   "cell_type": "markdown",
   "id": "062f15ad-2417-485e-a0c4-e39ea2bafa6a",
   "metadata": {},
   "source": [
    "Данные в готовом состоянии. В пункте 1 мы уже обработали данные и привели их к нужному формату, а также удалили дублирующиеся столбцы и т.д."
   ]
  },
  {
   "cell_type": "markdown",
   "id": "96960d53",
   "metadata": {},
   "source": [
    "## 3. Исследовательский анализ объединённых таблиц\n",
    "\n",
    "### 3.1. Объединение данных\n"
   ]
  },
  {
   "cell_type": "markdown",
   "id": "9cf3b08f",
   "metadata": {},
   "source": [
    "Сделаем фильтрацию для столбцов `funding_rounds`, `investment_rounds`, `status`. Также проверим, чтобы после фильтрации количество компаний было больше 40000:"
   ]
  },
  {
   "cell_type": "code",
   "execution_count": null,
   "id": "b3dcc875-f68e-4824-9fc8-943e8e72419b",
   "metadata": {},
   "outputs": [
    {
     "data": {
      "text/html": [
       "<div>\n",
       "<style scoped>\n",
       "    .dataframe tbody tr th:only-of-type {\n",
       "        vertical-align: middle;\n",
       "    }\n",
       "\n",
       "    .dataframe tbody tr th {\n",
       "        vertical-align: top;\n",
       "    }\n",
       "\n",
       "    .dataframe thead th {\n",
       "        text-align: right;\n",
       "    }\n",
       "</style>\n",
       "<table border=\"1\" class=\"dataframe\">\n",
       "  <thead>\n",
       "    <tr style=\"text-align: right;\">\n",
       "      <th></th>\n",
       "      <th>company_id</th>\n",
       "      <th>name</th>\n",
       "      <th>category_code</th>\n",
       "      <th>status</th>\n",
       "      <th>founded_at</th>\n",
       "      <th>closed_at</th>\n",
       "      <th>domain</th>\n",
       "      <th>network_username</th>\n",
       "      <th>country_code</th>\n",
       "      <th>investment_rounds</th>\n",
       "      <th>funding_rounds</th>\n",
       "      <th>funding_total</th>\n",
       "      <th>milestones</th>\n",
       "    </tr>\n",
       "  </thead>\n",
       "  <tbody>\n",
       "    <tr>\n",
       "      <th>0</th>\n",
       "      <td>1.0</td>\n",
       "      <td>Wetpaint</td>\n",
       "      <td>web</td>\n",
       "      <td>operating</td>\n",
       "      <td>2005-10-17</td>\n",
       "      <td>NaT</td>\n",
       "      <td>wetpaint-inc.com</td>\n",
       "      <td>BachelrWetpaint</td>\n",
       "      <td>USA</td>\n",
       "      <td>0.0</td>\n",
       "      <td>3.0</td>\n",
       "      <td>39750000.0</td>\n",
       "      <td>5.0</td>\n",
       "    </tr>\n",
       "    <tr>\n",
       "      <th>1</th>\n",
       "      <td>10.0</td>\n",
       "      <td>Flektor</td>\n",
       "      <td>games_video</td>\n",
       "      <td>acquired</td>\n",
       "      <td>NaT</td>\n",
       "      <td>NaT</td>\n",
       "      <td>flektor.com</td>\n",
       "      <td>NaN</td>\n",
       "      <td>USA</td>\n",
       "      <td>0.0</td>\n",
       "      <td>0.0</td>\n",
       "      <td>0.0</td>\n",
       "      <td>0.0</td>\n",
       "    </tr>\n",
       "    <tr>\n",
       "      <th>2</th>\n",
       "      <td>100.0</td>\n",
       "      <td>There</td>\n",
       "      <td>games_video</td>\n",
       "      <td>acquired</td>\n",
       "      <td>NaT</td>\n",
       "      <td>NaT</td>\n",
       "      <td>there.com</td>\n",
       "      <td>NaN</td>\n",
       "      <td>USA</td>\n",
       "      <td>0.0</td>\n",
       "      <td>0.0</td>\n",
       "      <td>0.0</td>\n",
       "      <td>4.0</td>\n",
       "    </tr>\n",
       "    <tr>\n",
       "      <th>3</th>\n",
       "      <td>1001.0</td>\n",
       "      <td>FriendFeed</td>\n",
       "      <td>web</td>\n",
       "      <td>acquired</td>\n",
       "      <td>2007-10-01</td>\n",
       "      <td>NaT</td>\n",
       "      <td>friendfeed.com</td>\n",
       "      <td>friendfeed</td>\n",
       "      <td>USA</td>\n",
       "      <td>0.0</td>\n",
       "      <td>1.0</td>\n",
       "      <td>5000000.0</td>\n",
       "      <td>3.0</td>\n",
       "    </tr>\n",
       "    <tr>\n",
       "      <th>4</th>\n",
       "      <td>10014.0</td>\n",
       "      <td>Mobclix</td>\n",
       "      <td>mobile</td>\n",
       "      <td>acquired</td>\n",
       "      <td>2008-03-01</td>\n",
       "      <td>NaT</td>\n",
       "      <td>mobclix.com</td>\n",
       "      <td>mobclix</td>\n",
       "      <td>USA</td>\n",
       "      <td>0.0</td>\n",
       "      <td>1.0</td>\n",
       "      <td>0.0</td>\n",
       "      <td>4.0</td>\n",
       "    </tr>\n",
       "  </tbody>\n",
       "</table>\n",
       "</div>"
      ],
      "text/plain": [
       "  company_id        name category_code     status founded_at closed_at  \\\n",
       "0        1.0    Wetpaint           web  operating 2005-10-17       NaT   \n",
       "1       10.0     Flektor   games_video   acquired        NaT       NaT   \n",
       "2      100.0       There   games_video   acquired        NaT       NaT   \n",
       "3     1001.0  FriendFeed           web   acquired 2007-10-01       NaT   \n",
       "4    10014.0     Mobclix        mobile   acquired 2008-03-01       NaT   \n",
       "\n",
       "             domain network_username country_code  investment_rounds  \\\n",
       "0  wetpaint-inc.com  BachelrWetpaint          USA                0.0   \n",
       "1       flektor.com              NaN          USA                0.0   \n",
       "2         there.com              NaN          USA                0.0   \n",
       "3    friendfeed.com       friendfeed          USA                0.0   \n",
       "4       mobclix.com          mobclix          USA                0.0   \n",
       "\n",
       "   funding_rounds  funding_total  milestones  \n",
       "0             3.0     39750000.0         5.0  \n",
       "1             0.0            0.0         0.0  \n",
       "2             0.0            0.0         4.0  \n",
       "3             1.0      5000000.0         3.0  \n",
       "4             1.0            0.0         4.0  "
      ]
     },
     "metadata": {},
     "output_type": "display_data"
    }
   ],
   "source": [
    "# Фильтруем компании, которые имеют инвестиционные или финансовые раунды, либо были приобретены\n",
    "interested_companies = companies_df[\n",
    "    (companies_df[\"funding_rounds\"] > 0) |\n",
    "    (companies_df[\"investment_rounds\"] > 0) |\n",
    "    (companies_df[\"status\"] == \"acquired\")\n",
    "].reset_index(drop=True)\n",
    "\n",
    "# Просматриваем первые строки\n",
    "display(interested_companies.head())"
   ]
  },
  {
   "cell_type": "code",
   "execution_count": null,
   "id": "5ae5fd04-3696-4d58-b9e9-3080df4ab205",
   "metadata": {},
   "outputs": [
    {
     "name": "stdout",
     "output_type": "stream",
     "text": [
      "<class 'pandas.core.frame.DataFrame'>\n",
      "RangeIndex: 40747 entries, 0 to 40746\n",
      "Data columns (total 13 columns):\n",
      " #   Column             Non-Null Count  Dtype         \n",
      "---  ------             --------------  -----         \n",
      " 0   company_id         40747 non-null  object        \n",
      " 1   name               40747 non-null  object        \n",
      " 2   category_code      35315 non-null  object        \n",
      " 3   status             40747 non-null  object        \n",
      " 4   founded_at         27807 non-null  datetime64[ns]\n",
      " 5   closed_at          2128 non-null   datetime64[ns]\n",
      " 6   domain             35754 non-null  object        \n",
      " 7   network_username   20850 non-null  object        \n",
      " 8   country_code       34742 non-null  object        \n",
      " 9   investment_rounds  40747 non-null  float64       \n",
      " 10  funding_rounds     40747 non-null  float64       \n",
      " 11  funding_total      40747 non-null  float64       \n",
      " 12  milestones         40747 non-null  float64       \n",
      "dtypes: datetime64[ns](2), float64(4), object(7)\n",
      "memory usage: 4.0+ MB\n"
     ]
    },
    {
     "data": {
      "text/plain": [
       "None"
      ]
     },
     "metadata": {},
     "output_type": "display_data"
    }
   ],
   "source": [
    "# Проверяем количество отобранных компаний\n",
    "display(interested_companies.info())"
   ]
  },
  {
   "cell_type": "markdown",
   "id": "6f0ec719",
   "metadata": {},
   "source": [
    "Данные корректны, количество компаний превышает 40000. Соединим полученные данные с таблицей `acquisition`, это будет нужно для дальнейшей работы:"
   ]
  },
  {
   "cell_type": "code",
   "execution_count": null,
   "id": "7b4e4c70-69c2-4eb6-a0ce-d2459734e5c4",
   "metadata": {},
   "outputs": [],
   "source": [
    "# Приводим company_id и id к str\n",
    "interested_companies[\"company_id\"] = interested_companies[\"company_id\"].astype(float)\n",
    "acquisition_df[\"acquired_company_id\"] = acquisition_df[\"acquired_company_id\"].astype(float)\n",
    "\n",
    "# Выполняем объединение\n",
    "interested_companies = interested_companies.merge(\n",
    "    acquisition_df, left_on=\"company_id\", right_on=\"acquired_company_id\", how=\"left\"\n",
    ")"
   ]
  },
  {
   "cell_type": "code",
   "execution_count": null,
   "id": "4463f17a",
   "metadata": {},
   "outputs": [
    {
     "data": {
      "text/html": [
       "<div>\n",
       "<style scoped>\n",
       "    .dataframe tbody tr th:only-of-type {\n",
       "        vertical-align: middle;\n",
       "    }\n",
       "\n",
       "    .dataframe tbody tr th {\n",
       "        vertical-align: top;\n",
       "    }\n",
       "\n",
       "    .dataframe thead th {\n",
       "        text-align: right;\n",
       "    }\n",
       "</style>\n",
       "<table border=\"1\" class=\"dataframe\">\n",
       "  <thead>\n",
       "    <tr style=\"text-align: right;\">\n",
       "      <th></th>\n",
       "      <th>company_id</th>\n",
       "      <th>name</th>\n",
       "      <th>category_code</th>\n",
       "      <th>status</th>\n",
       "      <th>founded_at</th>\n",
       "      <th>closed_at</th>\n",
       "      <th>domain</th>\n",
       "      <th>network_username</th>\n",
       "      <th>country_code</th>\n",
       "      <th>investment_rounds</th>\n",
       "      <th>funding_rounds</th>\n",
       "      <th>funding_total</th>\n",
       "      <th>milestones</th>\n",
       "      <th>id</th>\n",
       "      <th>acquiring_company_id</th>\n",
       "      <th>acquired_company_id</th>\n",
       "      <th>term_code</th>\n",
       "      <th>price_amount</th>\n",
       "      <th>acquired_at</th>\n",
       "    </tr>\n",
       "  </thead>\n",
       "  <tbody>\n",
       "    <tr>\n",
       "      <th>0</th>\n",
       "      <td>1.0</td>\n",
       "      <td>Wetpaint</td>\n",
       "      <td>web</td>\n",
       "      <td>operating</td>\n",
       "      <td>2005-10-17</td>\n",
       "      <td>NaT</td>\n",
       "      <td>wetpaint-inc.com</td>\n",
       "      <td>BachelrWetpaint</td>\n",
       "      <td>USA</td>\n",
       "      <td>0.0</td>\n",
       "      <td>3.0</td>\n",
       "      <td>39750000.0</td>\n",
       "      <td>5.0</td>\n",
       "      <td>NaN</td>\n",
       "      <td>NaN</td>\n",
       "      <td>NaN</td>\n",
       "      <td>NaN</td>\n",
       "      <td>NaN</td>\n",
       "      <td>NaT</td>\n",
       "    </tr>\n",
       "    <tr>\n",
       "      <th>1</th>\n",
       "      <td>10.0</td>\n",
       "      <td>Flektor</td>\n",
       "      <td>games_video</td>\n",
       "      <td>acquired</td>\n",
       "      <td>NaT</td>\n",
       "      <td>NaT</td>\n",
       "      <td>flektor.com</td>\n",
       "      <td>NaN</td>\n",
       "      <td>USA</td>\n",
       "      <td>0.0</td>\n",
       "      <td>0.0</td>\n",
       "      <td>0.0</td>\n",
       "      <td>0.0</td>\n",
       "      <td>1.0</td>\n",
       "      <td>11.0</td>\n",
       "      <td>10.0</td>\n",
       "      <td>NaN</td>\n",
       "      <td>20000000.0</td>\n",
       "      <td>2007-05-30</td>\n",
       "    </tr>\n",
       "    <tr>\n",
       "      <th>2</th>\n",
       "      <td>100.0</td>\n",
       "      <td>There</td>\n",
       "      <td>games_video</td>\n",
       "      <td>acquired</td>\n",
       "      <td>NaT</td>\n",
       "      <td>NaT</td>\n",
       "      <td>there.com</td>\n",
       "      <td>NaN</td>\n",
       "      <td>USA</td>\n",
       "      <td>0.0</td>\n",
       "      <td>0.0</td>\n",
       "      <td>0.0</td>\n",
       "      <td>4.0</td>\n",
       "      <td>20.0</td>\n",
       "      <td>377.0</td>\n",
       "      <td>100.0</td>\n",
       "      <td>cash</td>\n",
       "      <td>0.0</td>\n",
       "      <td>2005-05-29</td>\n",
       "    </tr>\n",
       "    <tr>\n",
       "      <th>3</th>\n",
       "      <td>1001.0</td>\n",
       "      <td>FriendFeed</td>\n",
       "      <td>web</td>\n",
       "      <td>acquired</td>\n",
       "      <td>2007-10-01</td>\n",
       "      <td>NaT</td>\n",
       "      <td>friendfeed.com</td>\n",
       "      <td>friendfeed</td>\n",
       "      <td>USA</td>\n",
       "      <td>0.0</td>\n",
       "      <td>1.0</td>\n",
       "      <td>5000000.0</td>\n",
       "      <td>3.0</td>\n",
       "      <td>1901.0</td>\n",
       "      <td>5.0</td>\n",
       "      <td>1001.0</td>\n",
       "      <td>cash_and_stock</td>\n",
       "      <td>47500000.0</td>\n",
       "      <td>2009-08-10</td>\n",
       "    </tr>\n",
       "    <tr>\n",
       "      <th>4</th>\n",
       "      <td>10014.0</td>\n",
       "      <td>Mobclix</td>\n",
       "      <td>mobile</td>\n",
       "      <td>acquired</td>\n",
       "      <td>2008-03-01</td>\n",
       "      <td>NaT</td>\n",
       "      <td>mobclix.com</td>\n",
       "      <td>mobclix</td>\n",
       "      <td>USA</td>\n",
       "      <td>0.0</td>\n",
       "      <td>1.0</td>\n",
       "      <td>0.0</td>\n",
       "      <td>4.0</td>\n",
       "      <td>3878.0</td>\n",
       "      <td>23054.0</td>\n",
       "      <td>10014.0</td>\n",
       "      <td>NaN</td>\n",
       "      <td>0.0</td>\n",
       "      <td>2010-09-30</td>\n",
       "    </tr>\n",
       "    <tr>\n",
       "      <th>...</th>\n",
       "      <td>...</td>\n",
       "      <td>...</td>\n",
       "      <td>...</td>\n",
       "      <td>...</td>\n",
       "      <td>...</td>\n",
       "      <td>...</td>\n",
       "      <td>...</td>\n",
       "      <td>...</td>\n",
       "      <td>...</td>\n",
       "      <td>...</td>\n",
       "      <td>...</td>\n",
       "      <td>...</td>\n",
       "      <td>...</td>\n",
       "      <td>...</td>\n",
       "      <td>...</td>\n",
       "      <td>...</td>\n",
       "      <td>...</td>\n",
       "      <td>...</td>\n",
       "      <td>...</td>\n",
       "    </tr>\n",
       "    <tr>\n",
       "      <th>40885</th>\n",
       "      <td>9989.0</td>\n",
       "      <td>Shattered Reality Interactive</td>\n",
       "      <td>games_video</td>\n",
       "      <td>closed</td>\n",
       "      <td>2006-06-01</td>\n",
       "      <td>2012-07-03</td>\n",
       "      <td>srinteractive.com</td>\n",
       "      <td>NaN</td>\n",
       "      <td>USA</td>\n",
       "      <td>0.0</td>\n",
       "      <td>2.0</td>\n",
       "      <td>1100000.0</td>\n",
       "      <td>2.0</td>\n",
       "      <td>NaN</td>\n",
       "      <td>NaN</td>\n",
       "      <td>NaN</td>\n",
       "      <td>NaN</td>\n",
       "      <td>NaN</td>\n",
       "      <td>NaT</td>\n",
       "    </tr>\n",
       "    <tr>\n",
       "      <th>40886</th>\n",
       "      <td>999.0</td>\n",
       "      <td>buddystumbler</td>\n",
       "      <td>web</td>\n",
       "      <td>acquired</td>\n",
       "      <td>2007-01-01</td>\n",
       "      <td>NaT</td>\n",
       "      <td>buddystumbler.com</td>\n",
       "      <td>NaN</td>\n",
       "      <td>USA</td>\n",
       "      <td>0.0</td>\n",
       "      <td>0.0</td>\n",
       "      <td>0.0</td>\n",
       "      <td>1.0</td>\n",
       "      <td>1763.0</td>\n",
       "      <td>4447.0</td>\n",
       "      <td>999.0</td>\n",
       "      <td>NaN</td>\n",
       "      <td>113000.0</td>\n",
       "      <td>2008-07-09</td>\n",
       "    </tr>\n",
       "    <tr>\n",
       "      <th>40887</th>\n",
       "      <td>9994.0</td>\n",
       "      <td>Imindi</td>\n",
       "      <td>advertising</td>\n",
       "      <td>operating</td>\n",
       "      <td>2008-09-01</td>\n",
       "      <td>NaT</td>\n",
       "      <td>imindi.com</td>\n",
       "      <td>NaN</td>\n",
       "      <td>NaN</td>\n",
       "      <td>0.0</td>\n",
       "      <td>2.0</td>\n",
       "      <td>500000.0</td>\n",
       "      <td>1.0</td>\n",
       "      <td>NaN</td>\n",
       "      <td>NaN</td>\n",
       "      <td>NaN</td>\n",
       "      <td>NaN</td>\n",
       "      <td>NaN</td>\n",
       "      <td>NaT</td>\n",
       "    </tr>\n",
       "    <tr>\n",
       "      <th>40888</th>\n",
       "      <td>9995.0</td>\n",
       "      <td>FohBoh</td>\n",
       "      <td>public_relations</td>\n",
       "      <td>operating</td>\n",
       "      <td>2007-11-01</td>\n",
       "      <td>NaT</td>\n",
       "      <td>fohboh.com</td>\n",
       "      <td>fohboh</td>\n",
       "      <td>USA</td>\n",
       "      <td>0.0</td>\n",
       "      <td>1.0</td>\n",
       "      <td>750000.0</td>\n",
       "      <td>1.0</td>\n",
       "      <td>NaN</td>\n",
       "      <td>NaN</td>\n",
       "      <td>NaN</td>\n",
       "      <td>NaN</td>\n",
       "      <td>NaN</td>\n",
       "      <td>NaT</td>\n",
       "    </tr>\n",
       "    <tr>\n",
       "      <th>40889</th>\n",
       "      <td>9998.0</td>\n",
       "      <td>Closet Couture</td>\n",
       "      <td>ecommerce</td>\n",
       "      <td>operating</td>\n",
       "      <td>2007-09-01</td>\n",
       "      <td>NaT</td>\n",
       "      <td>closetcouture.com</td>\n",
       "      <td>ClosetCouture</td>\n",
       "      <td>USA</td>\n",
       "      <td>0.0</td>\n",
       "      <td>1.0</td>\n",
       "      <td>475000.0</td>\n",
       "      <td>2.0</td>\n",
       "      <td>NaN</td>\n",
       "      <td>NaN</td>\n",
       "      <td>NaN</td>\n",
       "      <td>NaN</td>\n",
       "      <td>NaN</td>\n",
       "      <td>NaT</td>\n",
       "    </tr>\n",
       "  </tbody>\n",
       "</table>\n",
       "<p>40890 rows × 19 columns</p>\n",
       "</div>"
      ],
      "text/plain": [
       "       company_id                           name     category_code     status  \\\n",
       "0             1.0                       Wetpaint               web  operating   \n",
       "1            10.0                        Flektor       games_video   acquired   \n",
       "2           100.0                          There       games_video   acquired   \n",
       "3          1001.0                     FriendFeed               web   acquired   \n",
       "4         10014.0                        Mobclix            mobile   acquired   \n",
       "...           ...                            ...               ...        ...   \n",
       "40885      9989.0  Shattered Reality Interactive       games_video     closed   \n",
       "40886       999.0                  buddystumbler               web   acquired   \n",
       "40887      9994.0                         Imindi       advertising  operating   \n",
       "40888      9995.0                         FohBoh  public_relations  operating   \n",
       "40889      9998.0                 Closet Couture         ecommerce  operating   \n",
       "\n",
       "      founded_at  closed_at             domain network_username country_code  \\\n",
       "0     2005-10-17        NaT   wetpaint-inc.com  BachelrWetpaint          USA   \n",
       "1            NaT        NaT        flektor.com              NaN          USA   \n",
       "2            NaT        NaT          there.com              NaN          USA   \n",
       "3     2007-10-01        NaT     friendfeed.com       friendfeed          USA   \n",
       "4     2008-03-01        NaT        mobclix.com          mobclix          USA   \n",
       "...          ...        ...                ...              ...          ...   \n",
       "40885 2006-06-01 2012-07-03  srinteractive.com              NaN          USA   \n",
       "40886 2007-01-01        NaT  buddystumbler.com              NaN          USA   \n",
       "40887 2008-09-01        NaT         imindi.com              NaN          NaN   \n",
       "40888 2007-11-01        NaT         fohboh.com           fohboh          USA   \n",
       "40889 2007-09-01        NaT  closetcouture.com    ClosetCouture          USA   \n",
       "\n",
       "       investment_rounds  funding_rounds  funding_total  milestones      id  \\\n",
       "0                    0.0             3.0     39750000.0         5.0     NaN   \n",
       "1                    0.0             0.0            0.0         0.0     1.0   \n",
       "2                    0.0             0.0            0.0         4.0    20.0   \n",
       "3                    0.0             1.0      5000000.0         3.0  1901.0   \n",
       "4                    0.0             1.0            0.0         4.0  3878.0   \n",
       "...                  ...             ...            ...         ...     ...   \n",
       "40885                0.0             2.0      1100000.0         2.0     NaN   \n",
       "40886                0.0             0.0            0.0         1.0  1763.0   \n",
       "40887                0.0             2.0       500000.0         1.0     NaN   \n",
       "40888                0.0             1.0       750000.0         1.0     NaN   \n",
       "40889                0.0             1.0       475000.0         2.0     NaN   \n",
       "\n",
       "       acquiring_company_id  acquired_company_id       term_code  \\\n",
       "0                       NaN                  NaN             NaN   \n",
       "1                      11.0                 10.0             NaN   \n",
       "2                     377.0                100.0            cash   \n",
       "3                       5.0               1001.0  cash_and_stock   \n",
       "4                   23054.0              10014.0             NaN   \n",
       "...                     ...                  ...             ...   \n",
       "40885                   NaN                  NaN             NaN   \n",
       "40886                4447.0                999.0             NaN   \n",
       "40887                   NaN                  NaN             NaN   \n",
       "40888                   NaN                  NaN             NaN   \n",
       "40889                   NaN                  NaN             NaN   \n",
       "\n",
       "       price_amount acquired_at  \n",
       "0               NaN         NaT  \n",
       "1        20000000.0  2007-05-30  \n",
       "2               0.0  2005-05-29  \n",
       "3        47500000.0  2009-08-10  \n",
       "4               0.0  2010-09-30  \n",
       "...             ...         ...  \n",
       "40885           NaN         NaT  \n",
       "40886      113000.0  2008-07-09  \n",
       "40887           NaN         NaT  \n",
       "40888           NaN         NaT  \n",
       "40889           NaN         NaT  \n",
       "\n",
       "[40890 rows x 19 columns]"
      ]
     },
     "execution_count": 32,
     "metadata": {},
     "output_type": "execute_result"
    }
   ],
   "source": [
    "interested_companies"
   ]
  },
  {
   "cell_type": "markdown",
   "id": "8c34800e",
   "metadata": {},
   "source": [
    "Проверим на дубликаты по `company_id`"
   ]
  },
  {
   "cell_type": "code",
   "execution_count": null,
   "id": "9cfe7049",
   "metadata": {},
   "outputs": [
    {
     "name": "stdout",
     "output_type": "stream",
     "text": [
      "Число дублирующихся company_id: 127\n"
     ]
    }
   ],
   "source": [
    "# Проверяем количество повторяющихся company_id\n",
    "duplicates = interested_companies[interested_companies.duplicated(subset=\"company_id\", keep=False)]\n",
    "\n",
    "# Выводим информацию о дубликатах\n",
    "print(f\"Число дублирующихся company_id: {duplicates['company_id'].nunique()}\")"
   ]
  },
  {
   "cell_type": "markdown",
   "id": "7973bc2b",
   "metadata": {},
   "source": [
    "### 3.2. Анализ выбросов\n"
   ]
  },
  {
   "cell_type": "markdown",
   "id": "f164dcc6",
   "metadata": {},
   "source": [
    "Сделаем Гистограмму и График рассеяния, чтобы оценить типичный и выбивающийся размер общего финансирования:"
   ]
  },
  {
   "cell_type": "code",
   "execution_count": null,
   "id": "3b004178",
   "metadata": {},
   "outputs": [
    {
     "data": {
      "image/png": "[encoded data removed]",
      "text/plain": [
       "<Figure size 720x360 with 1 Axes>"
      ]
     },
     "metadata": {
      "needs_background": "light"
     },
     "output_type": "display_data"
    }
   ],
   "source": [
    "# Гистограмма распределения финансирования\n",
    "plt.figure(figsize=(10, 5))\n",
    "sns.histplot(interested_companies[\"funding_total\"], bins=50, kde=True)\n",
    "plt.xlabel(\"Общий размер финансирования\")\n",
    "plt.ylabel(\"Количество компаний\")\n",
    "plt.title(\"Распределение общего финансирования\")\n",
    "plt.show()"
   ]
  },
  {
   "cell_type": "code",
   "execution_count": null,
   "id": "76ec70d7",
   "metadata": {},
   "outputs": [
    {
     "data": {
      "image/png": "[encoded data removed]",
      "text/plain": [
       "<Figure size 864x432 with 1 Axes>"
      ]
     },
     "metadata": {
      "needs_background": "light"
     },
     "output_type": "display_data"
    }
   ],
   "source": [
    "# Строим scatter plot для наглядности\n",
    "plt.figure(figsize=(12, 6))\n",
    "company_indices = np.arange(len(interested_companies))\n",
    "plt.scatter(company_indices, interested_companies[\"funding_total\"], alpha=0.5)\n",
    "plt.xlabel(\"Компании\")\n",
    "plt.ylabel(\"Общий размер финансирования\")\n",
    "plt.title(\"Scatter Plot общего финансирования компаний\")\n",
    "plt.yscale(\"log\")  # Логарифмируем ось Y, если данные сильно разбросаны\n",
    "plt.grid(True, which=\"both\", linestyle=\"--\", linewidth=0.5)\n",
    "plt.show()"
   ]
  },
  {
   "cell_type": "markdown",
   "id": "16b01b5b",
   "metadata": {},
   "source": [
    "Мы значительный разброс значений на графике рассеивания. На гистограмме можн заметить, что в общий размер финансирования преобладает на отметке 0."
   ]
  },
  {
   "cell_type": "code",
   "execution_count": null,
   "id": "850742f8",
   "metadata": {},
   "outputs": [
    {
     "name": "stdout",
     "output_type": "stream",
     "text": [
      "count    4.089000e+04\n",
      "mean     1.013559e+07\n",
      "std      5.641289e+07\n",
      "min      0.000000e+00\n",
      "25%      0.000000e+00\n",
      "50%      6.000000e+05\n",
      "75%      5.631320e+06\n",
      "max      5.700000e+09\n",
      "Name: funding_total, dtype: float64\n"
     ]
    }
   ],
   "source": [
    "# Статистика по столбцу funding_total\n",
    "funding_stats = interested_companies[\"funding_total\"].describe()\n",
    "print(funding_stats)"
   ]
  },
  {
   "cell_type": "markdown",
   "id": "29fc785d",
   "metadata": {},
   "source": [
    "- Среднее значение не является хорошим показателем центра распределения. Оно сильно завышено из-за наличия экстремально больших значений.\n",
    "- Медиана лучше отражает \"типичное\" финансирование, так как не чувствительна к выбросам.\n",
    "- Для оценки \"типичного\" финансирования лучше ориентироваться на медиану и межквартильный размах (IQR, от 25% до 75%)."
   ]
  },
  {
   "cell_type": "markdown",
   "id": "ee19f68c",
   "metadata": {},
   "source": [
    "### 3.3. Куплены забесплатно?\n",
    "- Исследуем компании, которые были проданы за ноль или за один доллар, и при этом известно, что у них был ненулевой общий объём финансирования.\n",
    "- Рассчитаем аналитически верхнюю и нижнюю границу выбросов для столбца funding_total и укажите, каким процентилям границы соответствуют.\n",
    "\n",
    "Для этого отфильтруем компании и рассчитает границы процентилей:"
   ]
  },
  {
   "cell_type": "code",
   "execution_count": null,
   "id": "047146de",
   "metadata": {},
   "outputs": [],
   "source": [
    "# Фильтруем компании, которые были проданы за 0 или 1 доллар\n",
    "sold_for_nothing = interested_companies[\n",
    "    (interested_companies[\"price_amount\"].isin([0, 1])) & \n",
    "    (interested_companies[\"funding_total\"] > 0)\n",
    "]"
   ]
  },
  {
   "cell_type": "code",
   "execution_count": null,
   "id": "2f5f2824",
   "metadata": {},
   "outputs": [],
   "source": [
    "# Рассчитываем границы выбросов для funding_total\n",
    "Q1 = interested_companies[\"funding_total\"].quantile(0.25)\n",
    "Q3 = interested_companies[\"funding_total\"].quantile(0.75)\n",
    "IQR = Q3 - Q1\n",
    "\n",
    "lower_bound = max(0, Q1 - 1.5 * IQR)  # Финансирование не может быть отрицательным\n",
    "upper_bound = Q3 + 1.5 * IQR"
   ]
  },
  {
   "cell_type": "code",
   "execution_count": null,
   "id": "7611c828",
   "metadata": {},
   "outputs": [],
   "source": [
    "# Определяем, каким процентилям соответствуют границы\n",
    "lower_percentile = (interested_companies[\"funding_total\"] <= lower_bound).mean() * 100\n",
    "upper_percentile = (interested_companies[\"funding_total\"] <= upper_bound).mean() * 100"
   ]
  },
  {
   "cell_type": "code",
   "execution_count": null,
   "id": "57c30d01",
   "metadata": {},
   "outputs": [
    {
     "name": "stdout",
     "output_type": "stream",
     "text": [
      "Компании, проданные за 0 или 1 доллар: 1618\n",
      "Нижняя граница выбросов: 0 (соответствует 31.72 процентилю)\n",
      "Верхняя граница выбросов: 14078300.0 (соответствует 85.60 процентилю)\n"
     ]
    }
   ],
   "source": [
    "print(f\"Компании, проданные за 0 или 1 доллар: {len(sold_for_nothing)}\")\n",
    "print(f\"Нижняя граница выбросов: {lower_bound} (соответствует {lower_percentile:.2f} процентилю)\")\n",
    "print(f\"Верхняя граница выбросов: {upper_bound} (соответствует {upper_percentile:.2f} процентилю)\")"
   ]
  },
  {
   "cell_type": "markdown",
   "id": "f61f2be6",
   "metadata": {},
   "source": [
    "- Компаний, проданных за 0 или 1 нет.\n",
    "- Нижняя граница выбросов - 0, а треть сделок в выборке (до 31.59%) приходится на нулевые или крайне низкие цены, что подтверждает распространённость номинальных сделок.\n",
    "- Верхняя граница выбросов говорит о том, что только около 14.38% сделок (100% – 85.62%) превышают сумму 14,126,625 долларов, что говорит о резком росте цен в \"хвосте\" распределения (характерно для редких крупных сделок)"
   ]
  },
  {
   "cell_type": "markdown",
   "id": "513949b2",
   "metadata": {},
   "source": [
    "### 3.4. Цены стартапов по категориям\n",
    "- Категории стартапов с типично высокими ценами покупки стартапов и значительным разбросом цен могут быть привлекательными для крупных инвесторов, которые готовы к высоким рискам ради потенциально больших доходов. Среди категорий стартапов выделим категории стартапов, характеризующиеся:\n",
    "   - типично высокими ценами;\n",
    "   - и наибольшим разбросом цен за стартап."
   ]
  },
  {
   "cell_type": "code",
   "execution_count": null,
   "id": "7c5bb450",
   "metadata": {},
   "outputs": [
    {
     "data": {
      "text/html": [
       "<div>\n",
       "<style scoped>\n",
       "    .dataframe tbody tr th:only-of-type {\n",
       "        vertical-align: middle;\n",
       "    }\n",
       "\n",
       "    .dataframe tbody tr th {\n",
       "        vertical-align: top;\n",
       "    }\n",
       "\n",
       "    .dataframe thead th {\n",
       "        text-align: right;\n",
       "    }\n",
       "</style>\n",
       "<table border=\"1\" class=\"dataframe\">\n",
       "  <thead>\n",
       "    <tr style=\"text-align: right;\">\n",
       "      <th></th>\n",
       "      <th>median</th>\n",
       "      <th>std</th>\n",
       "      <th>count</th>\n",
       "    </tr>\n",
       "    <tr>\n",
       "      <th>category_code</th>\n",
       "      <th></th>\n",
       "      <th></th>\n",
       "      <th></th>\n",
       "    </tr>\n",
       "  </thead>\n",
       "  <tbody>\n",
       "    <tr>\n",
       "      <th>manufacturing</th>\n",
       "      <td>72000000.0</td>\n",
       "      <td>9.696580e+08</td>\n",
       "      <td>29</td>\n",
       "    </tr>\n",
       "    <tr>\n",
       "      <th>real_estate</th>\n",
       "      <td>50000000.0</td>\n",
       "      <td>2.505123e+09</td>\n",
       "      <td>7</td>\n",
       "    </tr>\n",
       "    <tr>\n",
       "      <th>automotive</th>\n",
       "      <td>43000000.0</td>\n",
       "      <td>2.297758e+09</td>\n",
       "      <td>5</td>\n",
       "    </tr>\n",
       "    <tr>\n",
       "      <th>biotech</th>\n",
       "      <td>13200000.0</td>\n",
       "      <td>1.540374e+09</td>\n",
       "      <td>454</td>\n",
       "    </tr>\n",
       "    <tr>\n",
       "      <th>hospitality</th>\n",
       "      <td>12500000.0</td>\n",
       "      <td>6.514494e+08</td>\n",
       "      <td>11</td>\n",
       "    </tr>\n",
       "  </tbody>\n",
       "</table>\n",
       "</div>"
      ],
      "text/plain": [
       "                   median           std  count\n",
       "category_code                                 \n",
       "manufacturing  72000000.0  9.696580e+08     29\n",
       "real_estate    50000000.0  2.505123e+09      7\n",
       "automotive     43000000.0  2.297758e+09      5\n",
       "biotech        13200000.0  1.540374e+09    454\n",
       "hospitality    12500000.0  6.514494e+08     11"
      ]
     },
     "metadata": {},
     "output_type": "display_data"
    }
   ],
   "source": [
    "category_stats = (\n",
    "    interested_companies.groupby('category_code')['price_amount']\n",
    "    .agg(['median', 'std', 'count'])  # Здесь выполняется агрегация\n",
    "    .query(\"count >= 5\")  # Фильтруем категории, где количество сделок больше или равно 5\n",
    "    .sort_values(by='median', ascending=False)  # Сортируем по медиане\n",
    ")\n",
    "\n",
    "# Выведем топ-5 категорий по медианному финансированию\n",
    "display(category_stats.head(5))"
   ]
  },
  {
   "cell_type": "code",
   "execution_count": null,
   "id": "92eb5cdc",
   "metadata": {},
   "outputs": [
    {
     "name": "stdout",
     "output_type": "stream",
     "text": [
      "Количество строк с ненулевой ценой сделки: 9390\n"
     ]
    }
   ],
   "source": [
    "print(\"Количество строк с ненулевой ценой сделки:\", interested_companies['price_amount'].notna().sum())\n"
   ]
  },
  {
   "cell_type": "markdown",
   "id": "8d3d1ef6",
   "metadata": {},
   "source": [
    "### 3.5. Сколько раундов продержится стартап перед покупкой\n"
   ]
  },
  {
   "cell_type": "code",
   "execution_count": null,
   "id": "ddfc0704",
   "metadata": {},
   "outputs": [
    {
     "data": {
      "image/png": "[encoded data removed]",
      "text/plain": [
       "<Figure size 720x432 with 1 Axes>"
      ]
     },
     "metadata": {
      "needs_background": "light"
     },
     "output_type": "display_data"
    }
   ],
   "source": [
    "# Рассчитаем среднее количество раундов для каждого статуса стартапа\n",
    "rounds_by_status = interested_companies.groupby('status')['funding_rounds'].mean().reset_index()\n",
    "\n",
    "# Построим график\n",
    "plt.figure(figsize=(10, 6))\n",
    "sns.barplot(x='status', y='funding_rounds', data=rounds_by_status)\n",
    "plt.title('Среднее количество раундов финансирования по статусу стартапа')\n",
    "plt.xlabel('Статус стартапа')\n",
    "plt.ylabel('Среднее количество раундов')\n",
    "plt.xticks(rotation=45)\n",
    "\n",
    "plt.show()"
   ]
  },
  {
   "cell_type": "markdown",
   "id": "7ffb73a3",
   "metadata": {},
   "source": [
    "- Стартапы с статусом `ipo` имеют больше всего раундов. Это может говорить о том, что в стартапах в таком статусе чаще всего заинтересованы инвесторы.\n",
    "- Стартапы с статусом `acquired` имеют меньше всего раундов. Это говорит о меньшей привлекательности стартапов с таким статусом для финансирвоания."
   ]
  },
  {
   "cell_type": "markdown",
   "id": "8e35f549",
   "metadata": {},
   "source": [
    "# 4. Итоговый вывод и рекомендации\n",
    "\n",
    "- В ходе проекта мы сделали предоработку данных: изменили названия столбцов, типы данных, объединили нужные таблицы. Был проведен анализ пропусков, чтобы понять, насколько полно представлены данные.\n",
    "- Построена сводная таблица по годам, показана динамика типичного размера средств и общего числа раундов. Оценена полнота данных об образовании сотрудников, зависит от размера компании. Проверено, насколько можно объединить таблицы по столбцу network_username.\n",
    "- Оценены типичные и выбивающиеся значения для общего финансирования. Существуют значительные выбросы с высокими суммами. Исследованы компании, купленные за 0 или 1 доллар с ненулевым финансированием. Выделены категории стартапов с высокими ценами и значительным разбросом цен. Оценено среднее количество раундов для разных статусов стартапов.\n",
    "\n",
    "Общие выводы:\n",
    "- Высокие цены и большой разброс цен характерны для стартапов, привлекательных для крупных инвесторов.\n",
    "- Стартапы с большим количеством раундов финансирования чаще приобретаются.\n",
    "- Проект продемонстрировал взаимосвязь между размером финансирования, количеством раундов и покупкой стартапов, что подтверждает правильность используемых методов."
   ]
  }
 ],
 "metadata": {
  "ExecuteTimeLog": [
   {
    "duration": 2443,
    "start_time": "2025-03-25T06:52:10.631Z"
   },
   {
    "duration": 1731,
    "start_time": "2025-03-25T06:52:13.077Z"
   },
   {
    "duration": 3056,
    "start_time": "2025-03-25T06:52:14.809Z"
   },
   {
    "duration": 4,
    "start_time": "2025-03-25T06:52:17.867Z"
   },
   {
    "duration": 186,
    "start_time": "2025-03-25T06:52:17.872Z"
   },
   {
    "duration": 26,
    "start_time": "2025-03-25T06:52:18.059Z"
   },
   {
    "duration": 7,
    "start_time": "2025-03-25T06:52:18.087Z"
   },
   {
    "duration": 8,
    "start_time": "2025-03-25T06:52:18.096Z"
   },
   {
    "duration": 6,
    "start_time": "2025-03-25T06:52:18.106Z"
   },
   {
    "duration": 7,
    "start_time": "2025-03-25T06:52:18.115Z"
   },
   {
    "duration": 5,
    "start_time": "2025-03-25T06:52:18.158Z"
   },
   {
    "duration": 31,
    "start_time": "2025-03-25T06:52:18.164Z"
   },
   {
    "duration": 6,
    "start_time": "2025-03-25T06:52:18.196Z"
   },
   {
    "duration": 19,
    "start_time": "2025-03-25T06:52:18.203Z"
   },
   {
    "duration": 165,
    "start_time": "2025-03-25T06:52:18.223Z"
   },
   {
    "duration": 82,
    "start_time": "2025-03-25T06:52:18.390Z"
   },
   {
    "duration": 4,
    "start_time": "2025-03-25T06:52:18.474Z"
   },
   {
    "duration": 59,
    "start_time": "2025-03-25T06:52:18.480Z"
   },
   {
    "duration": 7,
    "start_time": "2025-03-25T06:52:18.541Z"
   },
   {
    "duration": 10,
    "start_time": "2025-03-25T06:52:18.558Z"
   },
   {
    "duration": 16,
    "start_time": "2025-03-25T06:52:18.570Z"
   },
   {
    "duration": 15,
    "start_time": "2025-03-25T06:52:18.588Z"
   },
   {
    "duration": 53,
    "start_time": "2025-03-25T06:52:18.605Z"
   },
   {
    "duration": 11,
    "start_time": "2025-03-25T06:52:18.660Z"
   },
   {
    "duration": 175,
    "start_time": "2025-03-25T06:52:18.672Z"
   },
   {
    "duration": 43,
    "start_time": "2025-03-25T06:52:18.849Z"
   },
   {
    "duration": 188,
    "start_time": "2025-03-25T06:52:18.894Z"
   },
   {
    "duration": 80,
    "start_time": "2025-03-25T06:52:19.085Z"
   },
   {
    "duration": 46,
    "start_time": "2025-03-25T06:52:19.166Z"
   },
   {
    "duration": 25,
    "start_time": "2025-03-25T06:52:19.213Z"
   },
   {
    "duration": 14,
    "start_time": "2025-03-25T07:02:25.446Z"
   },
   {
    "duration": 13,
    "start_time": "2025-03-25T07:03:25.190Z"
   },
   {
    "duration": 6,
    "start_time": "2025-03-25T07:04:13.405Z"
   },
   {
    "duration": 177,
    "start_time": "2025-03-25T07:11:56.482Z"
   },
   {
    "duration": 48,
    "start_time": "2025-03-29T03:44:10.478Z"
   },
   {
    "duration": 3594,
    "start_time": "2025-03-29T03:44:16.811Z"
   },
   {
    "duration": 1398,
    "start_time": "2025-03-29T03:44:20.407Z"
   },
   {
    "duration": 2204,
    "start_time": "2025-03-29T03:44:21.807Z"
   },
   {
    "duration": 4,
    "start_time": "2025-03-29T03:44:24.013Z"
   },
   {
    "duration": 191,
    "start_time": "2025-03-29T03:44:24.018Z"
   },
   {
    "duration": 24,
    "start_time": "2025-03-29T03:44:24.211Z"
   },
   {
    "duration": 16,
    "start_time": "2025-03-29T03:44:24.237Z"
   },
   {
    "duration": 19,
    "start_time": "2025-03-29T03:44:24.255Z"
   },
   {
    "duration": 50,
    "start_time": "2025-03-29T03:44:24.276Z"
   },
   {
    "duration": 19,
    "start_time": "2025-03-29T03:44:24.328Z"
   },
   {
    "duration": 10,
    "start_time": "2025-03-29T03:44:24.349Z"
   },
   {
    "duration": 44,
    "start_time": "2025-03-29T03:44:24.361Z"
   },
   {
    "duration": 25,
    "start_time": "2025-03-29T03:44:24.406Z"
   },
   {
    "duration": 33,
    "start_time": "2025-03-29T03:44:24.433Z"
   },
   {
    "duration": 127,
    "start_time": "2025-03-29T03:44:24.467Z"
   },
   {
    "duration": 73,
    "start_time": "2025-03-29T03:44:24.596Z"
   },
   {
    "duration": 7,
    "start_time": "2025-03-29T03:44:24.671Z"
   },
   {
    "duration": 63,
    "start_time": "2025-03-29T03:44:24.679Z"
   },
   {
    "duration": 6,
    "start_time": "2025-03-29T03:44:24.744Z"
   },
   {
    "duration": 43,
    "start_time": "2025-03-29T03:44:24.752Z"
   },
   {
    "duration": 31,
    "start_time": "2025-03-29T03:44:24.796Z"
   },
   {
    "duration": 27,
    "start_time": "2025-03-29T03:44:24.829Z"
   },
   {
    "duration": 50,
    "start_time": "2025-03-29T03:44:24.858Z"
   },
   {
    "duration": 11,
    "start_time": "2025-03-29T03:44:24.909Z"
   },
   {
    "duration": 159,
    "start_time": "2025-03-29T03:44:24.922Z"
   },
   {
    "duration": 581,
    "start_time": "2025-03-29T03:44:25.082Z"
   },
   {
    "duration": 266,
    "start_time": "2025-03-29T03:44:25.664Z"
   },
   {
    "duration": 0,
    "start_time": "2025-03-29T03:44:25.932Z"
   },
   {
    "duration": 0,
    "start_time": "2025-03-29T03:44:25.933Z"
   },
   {
    "duration": 0,
    "start_time": "2025-03-29T03:44:25.934Z"
   },
   {
    "duration": 150,
    "start_time": "2025-03-29T03:45:49.009Z"
   },
   {
    "duration": 15,
    "start_time": "2025-03-29T03:48:42.991Z"
   },
   {
    "duration": 186,
    "start_time": "2025-03-29T03:51:02.018Z"
   },
   {
    "duration": 82,
    "start_time": "2025-03-29T03:54:18.090Z"
   },
   {
    "duration": 157,
    "start_time": "2025-03-29T03:54:28.123Z"
   },
   {
    "duration": 96,
    "start_time": "2025-03-29T03:55:35.048Z"
   },
   {
    "duration": 7498,
    "start_time": "2025-03-29T03:55:40.846Z"
   },
   {
    "duration": 296,
    "start_time": "2025-03-29T03:55:56.867Z"
   },
   {
    "duration": 77,
    "start_time": "2025-03-29T03:58:45.602Z"
   },
   {
    "duration": 102,
    "start_time": "2025-03-29T03:59:01.835Z"
   },
   {
    "duration": 3,
    "start_time": "2025-03-29T03:59:12.051Z"
   },
   {
    "duration": 23,
    "start_time": "2025-03-29T03:59:32.664Z"
   },
   {
    "duration": 1045,
    "start_time": "2025-03-29T04:05:36.407Z"
   },
   {
    "duration": 2341,
    "start_time": "2025-03-29T04:09:52.881Z"
   },
   {
    "duration": 1111,
    "start_time": "2025-03-29T04:09:55.224Z"
   },
   {
    "duration": 2276,
    "start_time": "2025-03-29T04:09:56.337Z"
   },
   {
    "duration": 3,
    "start_time": "2025-03-29T04:09:58.615Z"
   },
   {
    "duration": 172,
    "start_time": "2025-03-29T04:09:58.620Z"
   },
   {
    "duration": 33,
    "start_time": "2025-03-29T04:09:58.793Z"
   },
   {
    "duration": 7,
    "start_time": "2025-03-29T04:09:58.827Z"
   },
   {
    "duration": 9,
    "start_time": "2025-03-29T04:09:58.836Z"
   },
   {
    "duration": 6,
    "start_time": "2025-03-29T04:09:58.846Z"
   },
   {
    "duration": 7,
    "start_time": "2025-03-29T04:09:58.854Z"
   },
   {
    "duration": 7,
    "start_time": "2025-03-29T04:09:58.863Z"
   },
   {
    "duration": 31,
    "start_time": "2025-03-29T04:09:58.907Z"
   },
   {
    "duration": 11,
    "start_time": "2025-03-29T04:09:58.940Z"
   },
   {
    "duration": 19,
    "start_time": "2025-03-29T04:09:58.954Z"
   },
   {
    "duration": 139,
    "start_time": "2025-03-29T04:09:58.975Z"
   },
   {
    "duration": 72,
    "start_time": "2025-03-29T04:09:59.115Z"
   },
   {
    "duration": 19,
    "start_time": "2025-03-29T04:09:59.188Z"
   },
   {
    "duration": 36,
    "start_time": "2025-03-29T04:09:59.208Z"
   },
   {
    "duration": 6,
    "start_time": "2025-03-29T04:09:59.246Z"
   },
   {
    "duration": 18,
    "start_time": "2025-03-29T04:09:59.254Z"
   },
   {
    "duration": 36,
    "start_time": "2025-03-29T04:09:59.273Z"
   },
   {
    "duration": 14,
    "start_time": "2025-03-29T04:09:59.310Z"
   },
   {
    "duration": 21,
    "start_time": "2025-03-29T04:09:59.325Z"
   },
   {
    "duration": 7,
    "start_time": "2025-03-29T04:09:59.347Z"
   },
   {
    "duration": 167,
    "start_time": "2025-03-29T04:09:59.356Z"
   },
   {
    "duration": 578,
    "start_time": "2025-03-29T04:09:59.524Z"
   },
   {
    "duration": 9,
    "start_time": "2025-03-29T04:10:00.107Z"
   },
   {
    "duration": 213,
    "start_time": "2025-03-29T04:10:00.118Z"
   },
   {
    "duration": 86,
    "start_time": "2025-03-29T04:10:00.333Z"
   },
   {
    "duration": 0,
    "start_time": "2025-03-29T04:10:00.421Z"
   },
   {
    "duration": 0,
    "start_time": "2025-03-29T04:10:00.422Z"
   },
   {
    "duration": 2244,
    "start_time": "2025-03-29T04:12:28.881Z"
   },
   {
    "duration": 1118,
    "start_time": "2025-03-29T04:12:31.127Z"
   },
   {
    "duration": 2058,
    "start_time": "2025-03-29T04:12:32.247Z"
   },
   {
    "duration": 5,
    "start_time": "2025-03-29T04:12:34.306Z"
   },
   {
    "duration": 176,
    "start_time": "2025-03-29T04:12:34.313Z"
   },
   {
    "duration": 29,
    "start_time": "2025-03-29T04:12:34.491Z"
   },
   {
    "duration": 8,
    "start_time": "2025-03-29T04:12:34.522Z"
   },
   {
    "duration": 12,
    "start_time": "2025-03-29T04:12:34.531Z"
   },
   {
    "duration": 43,
    "start_time": "2025-03-29T04:12:34.545Z"
   },
   {
    "duration": 16,
    "start_time": "2025-03-29T04:12:34.590Z"
   },
   {
    "duration": 4,
    "start_time": "2025-03-29T04:12:34.608Z"
   },
   {
    "duration": 33,
    "start_time": "2025-03-29T04:12:34.613Z"
   },
   {
    "duration": 4,
    "start_time": "2025-03-29T04:12:34.647Z"
   },
   {
    "duration": 19,
    "start_time": "2025-03-29T04:12:34.655Z"
   },
   {
    "duration": 126,
    "start_time": "2025-03-29T04:12:34.708Z"
   },
   {
    "duration": 80,
    "start_time": "2025-03-29T04:12:34.835Z"
   },
   {
    "duration": 5,
    "start_time": "2025-03-29T04:12:34.916Z"
   },
   {
    "duration": 36,
    "start_time": "2025-03-29T04:12:34.922Z"
   },
   {
    "duration": 6,
    "start_time": "2025-03-29T04:12:34.959Z"
   },
   {
    "duration": 8,
    "start_time": "2025-03-29T04:12:34.967Z"
   },
   {
    "duration": 16,
    "start_time": "2025-03-29T04:12:35.007Z"
   },
   {
    "duration": 18,
    "start_time": "2025-03-29T04:12:35.025Z"
   },
   {
    "duration": 29,
    "start_time": "2025-03-29T04:12:35.046Z"
   },
   {
    "duration": 8,
    "start_time": "2025-03-29T04:12:35.076Z"
   },
   {
    "duration": 142,
    "start_time": "2025-03-29T04:12:35.106Z"
   },
   {
    "duration": 568,
    "start_time": "2025-03-29T04:12:35.249Z"
   },
   {
    "duration": 12,
    "start_time": "2025-03-29T04:12:35.818Z"
   },
   {
    "duration": 208,
    "start_time": "2025-03-29T04:12:35.832Z"
   },
   {
    "duration": 101,
    "start_time": "2025-03-29T04:12:36.042Z"
   },
   {
    "duration": 0,
    "start_time": "2025-03-29T04:12:36.145Z"
   },
   {
    "duration": 0,
    "start_time": "2025-03-29T04:12:36.146Z"
   },
   {
    "duration": 81,
    "start_time": "2025-03-29T04:12:49.626Z"
   },
   {
    "duration": 100,
    "start_time": "2025-03-29T04:12:59.570Z"
   },
   {
    "duration": 2268,
    "start_time": "2025-03-29T04:13:23.403Z"
   },
   {
    "duration": 2260,
    "start_time": "2025-03-29T04:13:44.452Z"
   },
   {
    "duration": 1130,
    "start_time": "2025-03-29T04:13:46.714Z"
   },
   {
    "duration": 2067,
    "start_time": "2025-03-29T04:13:47.846Z"
   },
   {
    "duration": 3,
    "start_time": "2025-03-29T04:13:49.915Z"
   },
   {
    "duration": 175,
    "start_time": "2025-03-29T04:13:49.919Z"
   },
   {
    "duration": 33,
    "start_time": "2025-03-29T04:13:50.096Z"
   },
   {
    "duration": 7,
    "start_time": "2025-03-29T04:13:50.131Z"
   },
   {
    "duration": 9,
    "start_time": "2025-03-29T04:13:50.139Z"
   },
   {
    "duration": 10,
    "start_time": "2025-03-29T04:13:50.149Z"
   },
   {
    "duration": 8,
    "start_time": "2025-03-29T04:13:50.161Z"
   },
   {
    "duration": 36,
    "start_time": "2025-03-29T04:13:50.171Z"
   },
   {
    "duration": 31,
    "start_time": "2025-03-29T04:13:50.209Z"
   },
   {
    "duration": 3,
    "start_time": "2025-03-29T04:13:50.242Z"
   },
   {
    "duration": 22,
    "start_time": "2025-03-29T04:13:50.247Z"
   },
   {
    "duration": 147,
    "start_time": "2025-03-29T04:13:50.270Z"
   },
   {
    "duration": 73,
    "start_time": "2025-03-29T04:13:50.419Z"
   },
   {
    "duration": 15,
    "start_time": "2025-03-29T04:13:50.494Z"
   },
   {
    "duration": 36,
    "start_time": "2025-03-29T04:13:50.511Z"
   },
   {
    "duration": 14,
    "start_time": "2025-03-29T04:13:50.549Z"
   },
   {
    "duration": 31,
    "start_time": "2025-03-29T04:13:50.565Z"
   },
   {
    "duration": 22,
    "start_time": "2025-03-29T04:13:50.597Z"
   },
   {
    "duration": 28,
    "start_time": "2025-03-29T04:13:50.621Z"
   },
   {
    "duration": 22,
    "start_time": "2025-03-29T04:13:50.651Z"
   },
   {
    "duration": 7,
    "start_time": "2025-03-29T04:13:50.675Z"
   },
   {
    "duration": 158,
    "start_time": "2025-03-29T04:13:50.684Z"
   },
   {
    "duration": 587,
    "start_time": "2025-03-29T04:13:50.844Z"
   },
   {
    "duration": 10,
    "start_time": "2025-03-29T04:13:51.433Z"
   },
   {
    "duration": 195,
    "start_time": "2025-03-29T04:13:51.446Z"
   },
   {
    "duration": 365,
    "start_time": "2025-03-29T04:13:51.642Z"
   },
   {
    "duration": 1043,
    "start_time": "2025-03-29T04:13:52.008Z"
   },
   {
    "duration": 8243,
    "start_time": "2025-03-30T07:14:58.108Z"
   },
   {
    "duration": 1355,
    "start_time": "2025-03-30T07:15:06.353Z"
   },
   {
    "duration": 0,
    "start_time": "2025-03-30T07:15:07.710Z"
   },
   {
    "duration": 0,
    "start_time": "2025-03-30T07:15:07.712Z"
   },
   {
    "duration": 0,
    "start_time": "2025-03-30T07:15:07.713Z"
   },
   {
    "duration": 0,
    "start_time": "2025-03-30T07:15:07.714Z"
   },
   {
    "duration": 0,
    "start_time": "2025-03-30T07:15:07.715Z"
   },
   {
    "duration": 0,
    "start_time": "2025-03-30T07:15:07.716Z"
   },
   {
    "duration": 0,
    "start_time": "2025-03-30T07:15:07.717Z"
   },
   {
    "duration": 0,
    "start_time": "2025-03-30T07:15:07.719Z"
   },
   {
    "duration": 0,
    "start_time": "2025-03-30T07:15:07.720Z"
   },
   {
    "duration": 0,
    "start_time": "2025-03-30T07:15:07.721Z"
   },
   {
    "duration": 0,
    "start_time": "2025-03-30T07:15:07.722Z"
   },
   {
    "duration": 0,
    "start_time": "2025-03-30T07:15:07.723Z"
   },
   {
    "duration": 0,
    "start_time": "2025-03-30T07:15:07.724Z"
   },
   {
    "duration": 0,
    "start_time": "2025-03-30T07:15:07.725Z"
   },
   {
    "duration": 0,
    "start_time": "2025-03-30T07:15:07.726Z"
   },
   {
    "duration": 0,
    "start_time": "2025-03-30T07:15:07.728Z"
   },
   {
    "duration": 0,
    "start_time": "2025-03-30T07:15:07.729Z"
   },
   {
    "duration": 0,
    "start_time": "2025-03-30T07:15:07.730Z"
   },
   {
    "duration": 1,
    "start_time": "2025-03-30T07:15:07.731Z"
   },
   {
    "duration": 0,
    "start_time": "2025-03-30T07:15:07.733Z"
   },
   {
    "duration": 0,
    "start_time": "2025-03-30T07:15:07.734Z"
   },
   {
    "duration": 0,
    "start_time": "2025-03-30T07:15:07.735Z"
   },
   {
    "duration": 0,
    "start_time": "2025-03-30T07:15:07.736Z"
   },
   {
    "duration": 0,
    "start_time": "2025-03-30T07:15:07.737Z"
   },
   {
    "duration": 0,
    "start_time": "2025-03-30T07:15:07.739Z"
   },
   {
    "duration": 0,
    "start_time": "2025-03-30T07:15:07.740Z"
   },
   {
    "duration": 0,
    "start_time": "2025-03-30T07:15:07.741Z"
   },
   {
    "duration": 0,
    "start_time": "2025-03-30T07:15:07.742Z"
   },
   {
    "duration": 0,
    "start_time": "2025-03-30T07:15:07.743Z"
   },
   {
    "duration": 2227,
    "start_time": "2025-03-30T07:15:56.340Z"
   },
   {
    "duration": 1125,
    "start_time": "2025-03-30T07:15:58.570Z"
   },
   {
    "duration": 1978,
    "start_time": "2025-03-30T07:15:59.696Z"
   },
   {
    "duration": 4,
    "start_time": "2025-03-30T07:16:01.676Z"
   },
   {
    "duration": 194,
    "start_time": "2025-03-30T07:16:01.682Z"
   },
   {
    "duration": 34,
    "start_time": "2025-03-30T07:16:01.878Z"
   },
   {
    "duration": 8,
    "start_time": "2025-03-30T07:16:01.914Z"
   },
   {
    "duration": 17,
    "start_time": "2025-03-30T07:16:01.923Z"
   },
   {
    "duration": 33,
    "start_time": "2025-03-30T07:16:01.941Z"
   },
   {
    "duration": 16,
    "start_time": "2025-03-30T07:16:01.976Z"
   },
   {
    "duration": 11,
    "start_time": "2025-03-30T07:16:01.993Z"
   },
   {
    "duration": 47,
    "start_time": "2025-03-30T07:16:02.005Z"
   },
   {
    "duration": 3,
    "start_time": "2025-03-30T07:16:02.054Z"
   },
   {
    "duration": 27,
    "start_time": "2025-03-30T07:16:02.060Z"
   },
   {
    "duration": 126,
    "start_time": "2025-03-30T07:16:02.089Z"
   },
   {
    "duration": 71,
    "start_time": "2025-03-30T07:16:02.217Z"
   },
   {
    "duration": 111,
    "start_time": "2025-03-30T07:16:02.290Z"
   },
   {
    "duration": 0,
    "start_time": "2025-03-30T07:16:02.407Z"
   },
   {
    "duration": 0,
    "start_time": "2025-03-30T07:16:02.409Z"
   },
   {
    "duration": 0,
    "start_time": "2025-03-30T07:16:02.410Z"
   },
   {
    "duration": 0,
    "start_time": "2025-03-30T07:16:02.411Z"
   },
   {
    "duration": 0,
    "start_time": "2025-03-30T07:16:02.413Z"
   },
   {
    "duration": 0,
    "start_time": "2025-03-30T07:16:02.414Z"
   },
   {
    "duration": 0,
    "start_time": "2025-03-30T07:16:02.416Z"
   },
   {
    "duration": 0,
    "start_time": "2025-03-30T07:16:02.418Z"
   },
   {
    "duration": 0,
    "start_time": "2025-03-30T07:16:02.419Z"
   },
   {
    "duration": 0,
    "start_time": "2025-03-30T07:16:02.420Z"
   },
   {
    "duration": 0,
    "start_time": "2025-03-30T07:16:02.422Z"
   },
   {
    "duration": 0,
    "start_time": "2025-03-30T07:16:02.423Z"
   },
   {
    "duration": 0,
    "start_time": "2025-03-30T07:16:02.425Z"
   },
   {
    "duration": 0,
    "start_time": "2025-03-30T07:16:02.426Z"
   },
   {
    "duration": 2293,
    "start_time": "2025-03-30T07:16:49.070Z"
   },
   {
    "duration": 1065,
    "start_time": "2025-03-30T07:16:51.366Z"
   },
   {
    "duration": 2113,
    "start_time": "2025-03-30T07:16:52.433Z"
   },
   {
    "duration": 4,
    "start_time": "2025-03-30T07:16:54.548Z"
   },
   {
    "duration": 170,
    "start_time": "2025-03-30T07:16:54.553Z"
   },
   {
    "duration": 25,
    "start_time": "2025-03-30T07:16:54.725Z"
   },
   {
    "duration": 13,
    "start_time": "2025-03-30T07:16:54.751Z"
   },
   {
    "duration": 18,
    "start_time": "2025-03-30T07:16:54.765Z"
   },
   {
    "duration": 8,
    "start_time": "2025-03-30T07:16:54.785Z"
   },
   {
    "duration": 17,
    "start_time": "2025-03-30T07:16:54.795Z"
   },
   {
    "duration": 15,
    "start_time": "2025-03-30T07:16:54.813Z"
   },
   {
    "duration": 38,
    "start_time": "2025-03-30T07:16:54.829Z"
   },
   {
    "duration": 8,
    "start_time": "2025-03-30T07:16:54.868Z"
   },
   {
    "duration": 30,
    "start_time": "2025-03-30T07:16:54.878Z"
   },
   {
    "duration": 134,
    "start_time": "2025-03-30T07:16:54.909Z"
   },
   {
    "duration": 79,
    "start_time": "2025-03-30T07:16:55.044Z"
   },
   {
    "duration": 107,
    "start_time": "2025-03-30T07:16:55.124Z"
   },
   {
    "duration": 0,
    "start_time": "2025-03-30T07:16:55.234Z"
   },
   {
    "duration": 0,
    "start_time": "2025-03-30T07:16:55.235Z"
   },
   {
    "duration": 0,
    "start_time": "2025-03-30T07:16:55.236Z"
   },
   {
    "duration": 0,
    "start_time": "2025-03-30T07:16:55.237Z"
   },
   {
    "duration": 0,
    "start_time": "2025-03-30T07:16:55.238Z"
   },
   {
    "duration": 0,
    "start_time": "2025-03-30T07:16:55.239Z"
   },
   {
    "duration": 0,
    "start_time": "2025-03-30T07:16:55.240Z"
   },
   {
    "duration": 0,
    "start_time": "2025-03-30T07:16:55.241Z"
   },
   {
    "duration": 0,
    "start_time": "2025-03-30T07:16:55.242Z"
   },
   {
    "duration": 0,
    "start_time": "2025-03-30T07:16:55.243Z"
   },
   {
    "duration": 0,
    "start_time": "2025-03-30T07:16:55.244Z"
   },
   {
    "duration": 0,
    "start_time": "2025-03-30T07:16:55.245Z"
   },
   {
    "duration": 0,
    "start_time": "2025-03-30T07:16:55.246Z"
   },
   {
    "duration": 0,
    "start_time": "2025-03-30T07:16:55.247Z"
   },
   {
    "duration": 13,
    "start_time": "2025-03-30T07:17:28.770Z"
   },
   {
    "duration": 2271,
    "start_time": "2025-03-30T07:18:09.585Z"
   },
   {
    "duration": 1045,
    "start_time": "2025-03-30T07:18:11.858Z"
   },
   {
    "duration": 2307,
    "start_time": "2025-03-30T07:18:12.906Z"
   },
   {
    "duration": 4,
    "start_time": "2025-03-30T07:18:15.215Z"
   },
   {
    "duration": 183,
    "start_time": "2025-03-30T07:18:15.220Z"
   },
   {
    "duration": 24,
    "start_time": "2025-03-30T07:18:15.405Z"
   },
   {
    "duration": 6,
    "start_time": "2025-03-30T07:18:15.431Z"
   },
   {
    "duration": 8,
    "start_time": "2025-03-30T07:18:15.439Z"
   },
   {
    "duration": 7,
    "start_time": "2025-03-30T07:18:15.448Z"
   },
   {
    "duration": 11,
    "start_time": "2025-03-30T07:18:15.457Z"
   },
   {
    "duration": 7,
    "start_time": "2025-03-30T07:18:15.469Z"
   },
   {
    "duration": 58,
    "start_time": "2025-03-30T07:18:15.477Z"
   },
   {
    "duration": 7,
    "start_time": "2025-03-30T07:18:15.537Z"
   },
   {
    "duration": 14,
    "start_time": "2025-03-30T07:18:15.545Z"
   },
   {
    "duration": 134,
    "start_time": "2025-03-30T07:18:15.560Z"
   },
   {
    "duration": 76,
    "start_time": "2025-03-30T07:18:15.695Z"
   },
   {
    "duration": 6,
    "start_time": "2025-03-30T07:18:15.773Z"
   },
   {
    "duration": 15,
    "start_time": "2025-03-30T07:18:15.780Z"
   },
   {
    "duration": 22,
    "start_time": "2025-03-30T07:18:15.796Z"
   },
   {
    "duration": 15,
    "start_time": "2025-03-30T07:18:15.820Z"
   },
   {
    "duration": 22,
    "start_time": "2025-03-30T07:18:15.836Z"
   },
   {
    "duration": 7,
    "start_time": "2025-03-30T07:18:15.860Z"
   },
   {
    "duration": 168,
    "start_time": "2025-03-30T07:18:15.868Z"
   },
   {
    "duration": 450,
    "start_time": "2025-03-30T07:18:16.038Z"
   },
   {
    "duration": 19,
    "start_time": "2025-03-30T07:18:16.490Z"
   },
   {
    "duration": 185,
    "start_time": "2025-03-30T07:18:16.511Z"
   },
   {
    "duration": 282,
    "start_time": "2025-03-30T07:18:16.698Z"
   },
   {
    "duration": 1014,
    "start_time": "2025-03-30T07:18:16.983Z"
   },
   {
    "duration": 9694,
    "start_time": "2025-03-31T12:26:34.005Z"
   },
   {
    "duration": 1487,
    "start_time": "2025-03-31T12:26:43.701Z"
   },
   {
    "duration": 2495,
    "start_time": "2025-03-31T12:26:45.190Z"
   },
   {
    "duration": 4,
    "start_time": "2025-03-31T12:26:47.689Z"
   },
   {
    "duration": 278,
    "start_time": "2025-03-31T12:26:47.697Z"
   },
   {
    "duration": 50,
    "start_time": "2025-03-31T12:26:47.977Z"
   },
   {
    "duration": 13,
    "start_time": "2025-03-31T12:26:48.030Z"
   },
   {
    "duration": 35,
    "start_time": "2025-03-31T12:26:48.045Z"
   },
   {
    "duration": 8,
    "start_time": "2025-03-31T12:26:48.082Z"
   },
   {
    "duration": 20,
    "start_time": "2025-03-31T12:26:48.092Z"
   },
   {
    "duration": 21,
    "start_time": "2025-03-31T12:26:48.114Z"
   },
   {
    "duration": 41,
    "start_time": "2025-03-31T12:26:48.137Z"
   },
   {
    "duration": 14,
    "start_time": "2025-03-31T12:26:48.181Z"
   },
   {
    "duration": 23,
    "start_time": "2025-03-31T12:26:48.197Z"
   },
   {
    "duration": 152,
    "start_time": "2025-03-31T12:26:48.226Z"
   },
   {
    "duration": 117,
    "start_time": "2025-03-31T12:26:48.380Z"
   },
   {
    "duration": 10,
    "start_time": "2025-03-31T12:26:48.503Z"
   },
   {
    "duration": 29,
    "start_time": "2025-03-31T12:26:48.519Z"
   },
   {
    "duration": 23,
    "start_time": "2025-03-31T12:26:48.551Z"
   },
   {
    "duration": 21,
    "start_time": "2025-03-31T12:26:48.576Z"
   },
   {
    "duration": 34,
    "start_time": "2025-03-31T12:26:48.608Z"
   },
   {
    "duration": 11,
    "start_time": "2025-03-31T12:26:48.644Z"
   },
   {
    "duration": 212,
    "start_time": "2025-03-31T12:26:48.657Z"
   },
   {
    "duration": 691,
    "start_time": "2025-03-31T12:26:48.871Z"
   },
   {
    "duration": 14,
    "start_time": "2025-03-31T12:26:49.564Z"
   },
   {
    "duration": 336,
    "start_time": "2025-03-31T12:26:49.580Z"
   },
   {
    "duration": 400,
    "start_time": "2025-03-31T12:26:49.920Z"
   },
   {
    "duration": 1323,
    "start_time": "2025-03-31T12:26:50.327Z"
   },
   {
    "duration": 62,
    "start_time": "2025-03-31T12:26:51.653Z"
   },
   {
    "duration": 35,
    "start_time": "2025-03-31T12:27:16.222Z"
   },
   {
    "duration": 139,
    "start_time": "2025-03-31T12:27:46.190Z"
   },
   {
    "duration": 53,
    "start_time": "2025-03-31T12:28:56.138Z"
   },
   {
    "duration": 559,
    "start_time": "2025-03-31T12:29:33.973Z"
   },
   {
    "duration": 12,
    "start_time": "2025-03-31T12:29:45.856Z"
   },
   {
    "duration": 2597,
    "start_time": "2025-03-31T12:30:52.125Z"
   },
   {
    "duration": 1251,
    "start_time": "2025-03-31T12:30:54.725Z"
   },
   {
    "duration": 2455,
    "start_time": "2025-03-31T12:30:55.978Z"
   },
   {
    "duration": 4,
    "start_time": "2025-03-31T12:30:58.435Z"
   },
   {
    "duration": 215,
    "start_time": "2025-03-31T12:30:58.442Z"
   },
   {
    "duration": 28,
    "start_time": "2025-03-31T12:30:58.659Z"
   },
   {
    "duration": 27,
    "start_time": "2025-03-31T12:30:58.689Z"
   },
   {
    "duration": 11,
    "start_time": "2025-03-31T12:30:58.717Z"
   },
   {
    "duration": 12,
    "start_time": "2025-03-31T12:30:58.729Z"
   },
   {
    "duration": 28,
    "start_time": "2025-03-31T12:30:58.743Z"
   },
   {
    "duration": 12,
    "start_time": "2025-03-31T12:30:58.772Z"
   },
   {
    "duration": 42,
    "start_time": "2025-03-31T12:30:58.786Z"
   },
   {
    "duration": 29,
    "start_time": "2025-03-31T12:30:58.830Z"
   },
   {
    "duration": 18,
    "start_time": "2025-03-31T12:30:58.863Z"
   },
   {
    "duration": 178,
    "start_time": "2025-03-31T12:30:58.883Z"
   },
   {
    "duration": 96,
    "start_time": "2025-03-31T12:30:59.063Z"
   },
   {
    "duration": 7,
    "start_time": "2025-03-31T12:30:59.160Z"
   },
   {
    "duration": 16,
    "start_time": "2025-03-31T12:30:59.169Z"
   },
   {
    "duration": 40,
    "start_time": "2025-03-31T12:30:59.187Z"
   },
   {
    "duration": 16,
    "start_time": "2025-03-31T12:30:59.228Z"
   },
   {
    "duration": 26,
    "start_time": "2025-03-31T12:30:59.246Z"
   },
   {
    "duration": 8,
    "start_time": "2025-03-31T12:30:59.273Z"
   },
   {
    "duration": 198,
    "start_time": "2025-03-31T12:30:59.282Z"
   },
   {
    "duration": 570,
    "start_time": "2025-03-31T12:30:59.481Z"
   },
   {
    "duration": 10,
    "start_time": "2025-03-31T12:31:00.053Z"
   },
   {
    "duration": 236,
    "start_time": "2025-03-31T12:31:00.065Z"
   },
   {
    "duration": 345,
    "start_time": "2025-03-31T12:31:00.305Z"
   },
   {
    "duration": 1223,
    "start_time": "2025-03-31T12:31:00.651Z"
   },
   {
    "duration": 62,
    "start_time": "2025-03-31T12:31:01.876Z"
   },
   {
    "duration": 32,
    "start_time": "2025-03-31T12:31:01.940Z"
   },
   {
    "duration": 104,
    "start_time": "2025-03-31T12:31:01.974Z"
   },
   {
    "duration": 578,
    "start_time": "2025-03-31T12:31:02.080Z"
   },
   {
    "duration": 3,
    "start_time": "2025-03-31T12:31:02.660Z"
   },
   {
    "duration": 456,
    "start_time": "2025-03-31T12:31:02.665Z"
   },
   {
    "duration": 322,
    "start_time": "2025-03-31T12:31:33.666Z"
   },
   {
    "duration": 9,
    "start_time": "2025-03-31T12:32:17.879Z"
   },
   {
    "duration": 74,
    "start_time": "2025-03-31T12:33:12.536Z"
   },
   {
    "duration": 9,
    "start_time": "2025-03-31T12:33:21.416Z"
   },
   {
    "duration": 8,
    "start_time": "2025-03-31T12:33:29.362Z"
   },
   {
    "duration": 12,
    "start_time": "2025-03-31T12:33:43.698Z"
   },
   {
    "duration": 41,
    "start_time": "2025-03-31T12:34:46.500Z"
   },
   {
    "duration": 181,
    "start_time": "2025-03-31T12:36:01.681Z"
   },
   {
    "duration": 41,
    "start_time": "2025-03-31T12:38:29.784Z"
   },
   {
    "duration": 17,
    "start_time": "2025-03-31T12:39:06.000Z"
   },
   {
    "duration": 2689,
    "start_time": "2025-03-31T12:42:15.669Z"
   },
   {
    "duration": 1223,
    "start_time": "2025-03-31T12:42:18.360Z"
   },
   {
    "duration": 2200,
    "start_time": "2025-03-31T12:42:19.584Z"
   },
   {
    "duration": 4,
    "start_time": "2025-03-31T12:42:21.786Z"
   },
   {
    "duration": 203,
    "start_time": "2025-03-31T12:42:21.792Z"
   },
   {
    "duration": 39,
    "start_time": "2025-03-31T12:42:21.997Z"
   },
   {
    "duration": 8,
    "start_time": "2025-03-31T12:42:22.038Z"
   },
   {
    "duration": 12,
    "start_time": "2025-03-31T12:42:22.047Z"
   },
   {
    "duration": 12,
    "start_time": "2025-03-31T12:42:22.060Z"
   },
   {
    "duration": 21,
    "start_time": "2025-03-31T12:42:22.073Z"
   },
   {
    "duration": 23,
    "start_time": "2025-03-31T12:42:22.096Z"
   },
   {
    "duration": 62,
    "start_time": "2025-03-31T12:42:22.121Z"
   },
   {
    "duration": 30,
    "start_time": "2025-03-31T12:42:22.185Z"
   },
   {
    "duration": 34,
    "start_time": "2025-03-31T12:42:22.218Z"
   },
   {
    "duration": 162,
    "start_time": "2025-03-31T12:42:22.254Z"
   },
   {
    "duration": 96,
    "start_time": "2025-03-31T12:42:22.419Z"
   },
   {
    "duration": 7,
    "start_time": "2025-03-31T12:42:22.517Z"
   },
   {
    "duration": 46,
    "start_time": "2025-03-31T12:42:22.526Z"
   },
   {
    "duration": 20,
    "start_time": "2025-03-31T12:42:22.574Z"
   },
   {
    "duration": 62,
    "start_time": "2025-03-31T12:42:22.596Z"
   },
   {
    "duration": 42,
    "start_time": "2025-03-31T12:42:22.660Z"
   },
   {
    "duration": 11,
    "start_time": "2025-03-31T12:42:22.704Z"
   },
   {
    "duration": 173,
    "start_time": "2025-03-31T12:42:22.716Z"
   },
   {
    "duration": 537,
    "start_time": "2025-03-31T12:42:22.891Z"
   },
   {
    "duration": 11,
    "start_time": "2025-03-31T12:42:23.430Z"
   },
   {
    "duration": 234,
    "start_time": "2025-03-31T12:42:23.443Z"
   },
   {
    "duration": 346,
    "start_time": "2025-03-31T12:42:23.678Z"
   },
   {
    "duration": 1192,
    "start_time": "2025-03-31T12:42:24.025Z"
   },
   {
    "duration": 41,
    "start_time": "2025-03-31T12:42:25.219Z"
   },
   {
    "duration": 55,
    "start_time": "2025-03-31T12:42:25.261Z"
   },
   {
    "duration": 52,
    "start_time": "2025-03-31T12:42:25.318Z"
   },
   {
    "duration": 570,
    "start_time": "2025-03-31T12:42:25.371Z"
   },
   {
    "duration": 2,
    "start_time": "2025-03-31T12:42:25.943Z"
   },
   {
    "duration": 411,
    "start_time": "2025-03-31T12:42:25.946Z"
   },
   {
    "duration": 9,
    "start_time": "2025-03-31T12:42:26.359Z"
   },
   {
    "duration": 46,
    "start_time": "2025-03-31T12:42:26.370Z"
   },
   {
    "duration": 7,
    "start_time": "2025-03-31T12:42:26.418Z"
   },
   {
    "duration": 37,
    "start_time": "2025-03-31T12:42:26.426Z"
   },
   {
    "duration": 27,
    "start_time": "2025-03-31T12:42:26.465Z"
   },
   {
    "duration": 56,
    "start_time": "2025-03-31T12:42:26.494Z"
   },
   {
    "duration": 5,
    "start_time": "2025-03-31T12:42:26.553Z"
   },
   {
    "duration": 177,
    "start_time": "2025-03-31T12:42:26.559Z"
   },
   {
    "duration": 2714,
    "start_time": "2025-03-31T13:45:10.648Z"
   },
   {
    "duration": 1177,
    "start_time": "2025-03-31T13:45:13.364Z"
   },
   {
    "duration": 2207,
    "start_time": "2025-03-31T13:45:14.543Z"
   },
   {
    "duration": 4,
    "start_time": "2025-03-31T13:45:16.752Z"
   },
   {
    "duration": 209,
    "start_time": "2025-03-31T13:45:16.757Z"
   },
   {
    "duration": 37,
    "start_time": "2025-03-31T13:45:16.968Z"
   },
   {
    "duration": 9,
    "start_time": "2025-03-31T13:45:17.007Z"
   },
   {
    "duration": 21,
    "start_time": "2025-03-31T13:45:17.018Z"
   },
   {
    "duration": 9,
    "start_time": "2025-03-31T13:45:17.040Z"
   },
   {
    "duration": 37,
    "start_time": "2025-03-31T13:45:17.052Z"
   },
   {
    "duration": 30,
    "start_time": "2025-03-31T13:45:17.090Z"
   },
   {
    "duration": 81,
    "start_time": "2025-03-31T13:45:17.122Z"
   },
   {
    "duration": 4,
    "start_time": "2025-03-31T13:45:17.204Z"
   },
   {
    "duration": 51,
    "start_time": "2025-03-31T13:45:17.210Z"
   },
   {
    "duration": 129,
    "start_time": "2025-03-31T13:45:17.263Z"
   },
   {
    "duration": 75,
    "start_time": "2025-03-31T13:45:17.394Z"
   },
   {
    "duration": 6,
    "start_time": "2025-03-31T13:45:17.471Z"
   },
   {
    "duration": 15,
    "start_time": "2025-03-31T13:45:17.479Z"
   },
   {
    "duration": 19,
    "start_time": "2025-03-31T13:45:17.504Z"
   },
   {
    "duration": 17,
    "start_time": "2025-03-31T13:45:17.524Z"
   },
   {
    "duration": 32,
    "start_time": "2025-03-31T13:45:17.543Z"
   },
   {
    "duration": 27,
    "start_time": "2025-03-31T13:45:17.577Z"
   },
   {
    "duration": 189,
    "start_time": "2025-03-31T13:45:17.606Z"
   },
   {
    "duration": 514,
    "start_time": "2025-03-31T13:45:17.797Z"
   },
   {
    "duration": 12,
    "start_time": "2025-03-31T13:45:18.313Z"
   },
   {
    "duration": 240,
    "start_time": "2025-03-31T13:45:18.326Z"
   },
   {
    "duration": 336,
    "start_time": "2025-03-31T13:45:18.568Z"
   },
   {
    "duration": 1307,
    "start_time": "2025-03-31T13:45:18.908Z"
   },
   {
    "duration": 52,
    "start_time": "2025-03-31T13:45:20.218Z"
   },
   {
    "duration": 60,
    "start_time": "2025-03-31T13:45:20.273Z"
   },
   {
    "duration": 73,
    "start_time": "2025-03-31T13:45:20.335Z"
   },
   {
    "duration": 612,
    "start_time": "2025-03-31T13:45:20.410Z"
   },
   {
    "duration": 3,
    "start_time": "2025-03-31T13:45:21.025Z"
   },
   {
    "duration": 422,
    "start_time": "2025-03-31T13:45:21.029Z"
   },
   {
    "duration": 9,
    "start_time": "2025-03-31T13:45:21.453Z"
   },
   {
    "duration": 48,
    "start_time": "2025-03-31T13:45:21.464Z"
   },
   {
    "duration": 7,
    "start_time": "2025-03-31T13:45:21.513Z"
   },
   {
    "duration": 4,
    "start_time": "2025-03-31T13:45:21.521Z"
   },
   {
    "duration": 6,
    "start_time": "2025-03-31T13:45:21.527Z"
   },
   {
    "duration": 21,
    "start_time": "2025-03-31T13:45:21.534Z"
   },
   {
    "duration": 4,
    "start_time": "2025-03-31T13:45:21.556Z"
   },
   {
    "duration": 198,
    "start_time": "2025-03-31T13:45:21.561Z"
   },
   {
    "duration": 29,
    "start_time": "2025-03-31T13:45:46.486Z"
   },
   {
    "duration": 16,
    "start_time": "2025-03-31T13:48:52.020Z"
   },
   {
    "duration": 10,
    "start_time": "2025-03-31T13:49:06.199Z"
   },
   {
    "duration": 44,
    "start_time": "2025-03-31T13:50:23.537Z"
   },
   {
    "duration": 70,
    "start_time": "2025-03-31T13:50:42.591Z"
   },
   {
    "duration": 60,
    "start_time": "2025-03-31T13:50:51.969Z"
   },
   {
    "duration": 79,
    "start_time": "2025-03-31T13:50:55.390Z"
   },
   {
    "duration": 73,
    "start_time": "2025-03-31T13:51:05.524Z"
   },
   {
    "duration": 33,
    "start_time": "2025-03-31T13:51:15.566Z"
   },
   {
    "duration": 27,
    "start_time": "2025-03-31T13:51:35.647Z"
   },
   {
    "duration": 45,
    "start_time": "2025-03-31T13:51:50.238Z"
   },
   {
    "duration": 25,
    "start_time": "2025-03-31T13:52:22.073Z"
   },
   {
    "duration": 99,
    "start_time": "2025-03-31T13:52:32.156Z"
   },
   {
    "duration": 157,
    "start_time": "2025-03-31T13:53:10.848Z"
   },
   {
    "duration": 72,
    "start_time": "2025-03-31T13:53:15.568Z"
   },
   {
    "duration": 76,
    "start_time": "2025-03-31T13:53:32.463Z"
   },
   {
    "duration": 9,
    "start_time": "2025-03-31T13:53:52.022Z"
   },
   {
    "duration": 12,
    "start_time": "2025-03-31T13:53:56.716Z"
   },
   {
    "duration": 86,
    "start_time": "2025-03-31T13:54:13.469Z"
   },
   {
    "duration": 2859,
    "start_time": "2025-03-31T13:55:53.215Z"
   },
   {
    "duration": 4,
    "start_time": "2025-03-31T13:55:56.078Z"
   },
   {
    "duration": 2701,
    "start_time": "2025-03-31T13:56:02.848Z"
   },
   {
    "duration": 4,
    "start_time": "2025-03-31T13:56:05.557Z"
   },
   {
    "duration": 2262,
    "start_time": "2025-03-31T13:56:05.563Z"
   },
   {
    "duration": 4,
    "start_time": "2025-03-31T13:56:07.827Z"
   },
   {
    "duration": 365,
    "start_time": "2025-03-31T13:56:07.832Z"
   },
   {
    "duration": 27,
    "start_time": "2025-03-31T13:56:08.199Z"
   },
   {
    "duration": 10,
    "start_time": "2025-03-31T13:56:08.227Z"
   },
   {
    "duration": 22,
    "start_time": "2025-03-31T13:56:08.239Z"
   },
   {
    "duration": 20,
    "start_time": "2025-03-31T13:56:08.262Z"
   },
   {
    "duration": 14,
    "start_time": "2025-03-31T13:56:08.283Z"
   },
   {
    "duration": 7,
    "start_time": "2025-03-31T13:56:08.304Z"
   },
   {
    "duration": 32,
    "start_time": "2025-03-31T13:56:08.313Z"
   },
   {
    "duration": 4,
    "start_time": "2025-03-31T13:56:08.347Z"
   },
   {
    "duration": 19,
    "start_time": "2025-03-31T13:56:08.352Z"
   },
   {
    "duration": 155,
    "start_time": "2025-03-31T13:56:08.373Z"
   },
   {
    "duration": 89,
    "start_time": "2025-03-31T13:56:08.530Z"
   },
   {
    "duration": 7,
    "start_time": "2025-03-31T13:56:08.621Z"
   },
   {
    "duration": 19,
    "start_time": "2025-03-31T13:56:08.630Z"
   },
   {
    "duration": 23,
    "start_time": "2025-03-31T13:56:08.651Z"
   },
   {
    "duration": 36,
    "start_time": "2025-03-31T13:56:08.676Z"
   },
   {
    "duration": 25,
    "start_time": "2025-03-31T13:56:08.714Z"
   },
   {
    "duration": 7,
    "start_time": "2025-03-31T13:56:08.741Z"
   },
   {
    "duration": 172,
    "start_time": "2025-03-31T13:56:08.749Z"
   },
   {
    "duration": 439,
    "start_time": "2025-03-31T13:56:08.923Z"
   },
   {
    "duration": 11,
    "start_time": "2025-03-31T13:56:09.364Z"
   },
   {
    "duration": 282,
    "start_time": "2025-03-31T13:56:09.377Z"
   },
   {
    "duration": 371,
    "start_time": "2025-03-31T13:56:09.661Z"
   },
   {
    "duration": 1199,
    "start_time": "2025-03-31T13:56:10.033Z"
   },
   {
    "duration": 48,
    "start_time": "2025-03-31T13:56:11.234Z"
   },
   {
    "duration": 60,
    "start_time": "2025-03-31T13:56:11.284Z"
   },
   {
    "duration": 76,
    "start_time": "2025-03-31T13:56:11.347Z"
   },
   {
    "duration": 623,
    "start_time": "2025-03-31T13:56:11.424Z"
   },
   {
    "duration": 3,
    "start_time": "2025-03-31T13:56:12.049Z"
   },
   {
    "duration": 358,
    "start_time": "2025-03-31T13:56:12.054Z"
   },
   {
    "duration": 12,
    "start_time": "2025-03-31T13:56:12.414Z"
   },
   {
    "duration": 20,
    "start_time": "2025-03-31T13:56:12.428Z"
   },
   {
    "duration": 8,
    "start_time": "2025-03-31T13:56:12.450Z"
   },
   {
    "duration": 5,
    "start_time": "2025-03-31T13:56:12.460Z"
   },
   {
    "duration": 38,
    "start_time": "2025-03-31T13:56:12.468Z"
   },
   {
    "duration": 33,
    "start_time": "2025-03-31T13:56:14.290Z"
   },
   {
    "duration": 2528,
    "start_time": "2025-03-31T13:56:46.246Z"
   },
   {
    "duration": 3,
    "start_time": "2025-03-31T13:56:48.777Z"
   },
   {
    "duration": 2161,
    "start_time": "2025-03-31T13:56:48.782Z"
   },
   {
    "duration": 4,
    "start_time": "2025-03-31T13:56:50.946Z"
   },
   {
    "duration": 227,
    "start_time": "2025-03-31T13:56:50.952Z"
   },
   {
    "duration": 32,
    "start_time": "2025-03-31T13:56:51.181Z"
   },
   {
    "duration": 8,
    "start_time": "2025-03-31T13:56:51.215Z"
   },
   {
    "duration": 10,
    "start_time": "2025-03-31T13:56:51.225Z"
   },
   {
    "duration": 8,
    "start_time": "2025-03-31T13:56:51.237Z"
   },
   {
    "duration": 28,
    "start_time": "2025-03-31T13:56:51.247Z"
   },
   {
    "duration": 7,
    "start_time": "2025-03-31T13:56:51.277Z"
   },
   {
    "duration": 34,
    "start_time": "2025-03-31T13:56:51.286Z"
   },
   {
    "duration": 7,
    "start_time": "2025-03-31T13:56:51.322Z"
   },
   {
    "duration": 27,
    "start_time": "2025-03-31T13:56:51.330Z"
   },
   {
    "duration": 137,
    "start_time": "2025-03-31T13:56:51.359Z"
   },
   {
    "duration": 80,
    "start_time": "2025-03-31T13:56:51.503Z"
   },
   {
    "duration": 19,
    "start_time": "2025-03-31T13:56:51.585Z"
   },
   {
    "duration": 23,
    "start_time": "2025-03-31T13:56:51.606Z"
   },
   {
    "duration": 25,
    "start_time": "2025-03-31T13:56:51.630Z"
   },
   {
    "duration": 19,
    "start_time": "2025-03-31T13:56:51.657Z"
   },
   {
    "duration": 27,
    "start_time": "2025-03-31T13:56:51.677Z"
   },
   {
    "duration": 8,
    "start_time": "2025-03-31T13:56:51.705Z"
   },
   {
    "duration": 166,
    "start_time": "2025-03-31T13:56:51.715Z"
   },
   {
    "duration": 557,
    "start_time": "2025-03-31T13:56:51.882Z"
   },
   {
    "duration": 12,
    "start_time": "2025-03-31T13:56:52.441Z"
   },
   {
    "duration": 244,
    "start_time": "2025-03-31T13:56:52.455Z"
   },
   {
    "duration": 320,
    "start_time": "2025-03-31T13:56:52.704Z"
   },
   {
    "duration": 1158,
    "start_time": "2025-03-31T13:56:53.027Z"
   },
   {
    "duration": 35,
    "start_time": "2025-03-31T13:57:40.550Z"
   },
   {
    "duration": 8731,
    "start_time": "2025-04-02T06:49:00.449Z"
   },
   {
    "duration": 1395,
    "start_time": "2025-04-02T06:49:09.182Z"
   },
   {
    "duration": 2353,
    "start_time": "2025-04-02T06:49:10.579Z"
   },
   {
    "duration": 3,
    "start_time": "2025-04-02T06:49:12.934Z"
   },
   {
    "duration": 193,
    "start_time": "2025-04-02T06:49:12.939Z"
   },
   {
    "duration": 30,
    "start_time": "2025-04-02T06:49:13.135Z"
   },
   {
    "duration": 9,
    "start_time": "2025-04-02T06:49:13.166Z"
   },
   {
    "duration": 11,
    "start_time": "2025-04-02T06:49:13.176Z"
   },
   {
    "duration": 10,
    "start_time": "2025-04-02T06:49:13.188Z"
   },
   {
    "duration": 27,
    "start_time": "2025-04-02T06:49:13.201Z"
   },
   {
    "duration": 4,
    "start_time": "2025-04-02T06:49:13.230Z"
   },
   {
    "duration": 53,
    "start_time": "2025-04-02T06:49:13.236Z"
   },
   {
    "duration": 7,
    "start_time": "2025-04-02T06:49:13.291Z"
   },
   {
    "duration": 21,
    "start_time": "2025-04-02T06:49:13.300Z"
   },
   {
    "duration": 146,
    "start_time": "2025-04-02T06:49:13.322Z"
   },
   {
    "duration": 78,
    "start_time": "2025-04-02T06:49:13.469Z"
   },
   {
    "duration": 15,
    "start_time": "2025-04-02T06:49:13.548Z"
   },
   {
    "duration": 21,
    "start_time": "2025-04-02T06:49:13.565Z"
   },
   {
    "duration": 17,
    "start_time": "2025-04-02T06:49:13.587Z"
   },
   {
    "duration": 31,
    "start_time": "2025-04-02T06:49:13.606Z"
   },
   {
    "duration": 29,
    "start_time": "2025-04-02T06:49:13.639Z"
   },
   {
    "duration": 29,
    "start_time": "2025-04-02T06:49:13.670Z"
   },
   {
    "duration": 303,
    "start_time": "2025-04-02T06:49:13.701Z"
   },
   {
    "duration": 524,
    "start_time": "2025-04-02T06:49:14.005Z"
   },
   {
    "duration": 12,
    "start_time": "2025-04-02T06:49:14.531Z"
   },
   {
    "duration": 221,
    "start_time": "2025-04-02T06:49:14.545Z"
   },
   {
    "duration": 320,
    "start_time": "2025-04-02T06:49:14.767Z"
   },
   {
    "duration": 1137,
    "start_time": "2025-04-02T06:49:15.090Z"
   },
   {
    "duration": 51,
    "start_time": "2025-04-02T06:49:16.229Z"
   },
   {
    "duration": 31,
    "start_time": "2025-04-02T06:49:16.281Z"
   },
   {
    "duration": 128,
    "start_time": "2025-04-02T06:49:16.314Z"
   },
   {
    "duration": 630,
    "start_time": "2025-04-02T06:49:16.443Z"
   },
   {
    "duration": 3,
    "start_time": "2025-04-02T06:49:17.075Z"
   },
   {
    "duration": 429,
    "start_time": "2025-04-02T06:49:17.080Z"
   },
   {
    "duration": 12,
    "start_time": "2025-04-02T06:49:17.512Z"
   },
   {
    "duration": 48,
    "start_time": "2025-04-02T06:49:17.527Z"
   },
   {
    "duration": 10,
    "start_time": "2025-04-02T06:49:17.577Z"
   },
   {
    "duration": 7,
    "start_time": "2025-04-02T06:49:17.589Z"
   },
   {
    "duration": 16,
    "start_time": "2025-04-02T06:49:17.598Z"
   },
   {
    "duration": 41,
    "start_time": "2025-04-02T06:49:17.615Z"
   },
   {
    "duration": 72,
    "start_time": "2025-04-02T06:49:17.658Z"
   },
   {
    "duration": 255,
    "start_time": "2025-04-02T06:49:17.732Z"
   },
   {
    "duration": 80,
    "start_time": "2025-04-02T06:51:19.930Z"
   },
   {
    "duration": 2445,
    "start_time": "2025-04-02T06:52:16.262Z"
   },
   {
    "duration": 1186,
    "start_time": "2025-04-02T06:52:18.710Z"
   },
   {
    "duration": 3440,
    "start_time": "2025-04-02T06:52:19.899Z"
   },
   {
    "duration": 3,
    "start_time": "2025-04-02T06:52:23.342Z"
   },
   {
    "duration": 402,
    "start_time": "2025-04-02T06:52:23.347Z"
   },
   {
    "duration": 34,
    "start_time": "2025-04-02T06:52:23.750Z"
   },
   {
    "duration": 85,
    "start_time": "2025-04-02T06:52:23.785Z"
   },
   {
    "duration": 15,
    "start_time": "2025-04-02T06:52:23.872Z"
   },
   {
    "duration": 15,
    "start_time": "2025-04-02T06:52:23.889Z"
   },
   {
    "duration": 16,
    "start_time": "2025-04-02T06:52:23.907Z"
   },
   {
    "duration": 9,
    "start_time": "2025-04-02T06:52:23.924Z"
   },
   {
    "duration": 75,
    "start_time": "2025-04-02T06:52:23.935Z"
   },
   {
    "duration": 13,
    "start_time": "2025-04-02T06:52:24.012Z"
   },
   {
    "duration": 24,
    "start_time": "2025-04-02T06:52:24.027Z"
   },
   {
    "duration": 143,
    "start_time": "2025-04-02T06:52:24.053Z"
   },
   {
    "duration": 80,
    "start_time": "2025-04-02T06:52:24.198Z"
   },
   {
    "duration": 7,
    "start_time": "2025-04-02T06:52:24.280Z"
   },
   {
    "duration": 52,
    "start_time": "2025-04-02T06:52:24.288Z"
   },
   {
    "duration": 31,
    "start_time": "2025-04-02T06:52:24.342Z"
   },
   {
    "duration": 96,
    "start_time": "2025-04-02T06:52:24.375Z"
   },
   {
    "duration": 93,
    "start_time": "2025-04-02T06:52:24.473Z"
   },
   {
    "duration": 16,
    "start_time": "2025-04-02T06:52:24.568Z"
   },
   {
    "duration": 168,
    "start_time": "2025-04-02T06:52:24.586Z"
   },
   {
    "duration": 502,
    "start_time": "2025-04-02T06:52:24.755Z"
   },
   {
    "duration": 11,
    "start_time": "2025-04-02T06:52:25.261Z"
   },
   {
    "duration": 231,
    "start_time": "2025-04-02T06:52:25.274Z"
   },
   {
    "duration": 408,
    "start_time": "2025-04-02T06:52:25.507Z"
   },
   {
    "duration": 1116,
    "start_time": "2025-04-02T06:52:25.918Z"
   },
   {
    "duration": 55,
    "start_time": "2025-04-02T06:52:27.035Z"
   },
   {
    "duration": 31,
    "start_time": "2025-04-02T06:52:27.091Z"
   },
   {
    "duration": 69,
    "start_time": "2025-04-02T06:52:27.123Z"
   },
   {
    "duration": 607,
    "start_time": "2025-04-02T06:52:27.193Z"
   },
   {
    "duration": 3,
    "start_time": "2025-04-02T06:52:27.801Z"
   },
   {
    "duration": 439,
    "start_time": "2025-04-02T06:52:27.805Z"
   },
   {
    "duration": 21,
    "start_time": "2025-04-02T06:52:28.246Z"
   },
   {
    "duration": 19,
    "start_time": "2025-04-02T06:52:28.269Z"
   },
   {
    "duration": 8,
    "start_time": "2025-04-02T06:52:28.289Z"
   },
   {
    "duration": 7,
    "start_time": "2025-04-02T06:52:28.299Z"
   },
   {
    "duration": 4,
    "start_time": "2025-04-02T06:52:28.308Z"
   },
   {
    "duration": 50,
    "start_time": "2025-04-02T06:52:28.314Z"
   },
   {
    "duration": 6,
    "start_time": "2025-04-02T06:52:28.366Z"
   },
   {
    "duration": 176,
    "start_time": "2025-04-02T06:52:28.374Z"
   },
   {
    "duration": 34,
    "start_time": "2025-04-02T07:06:00.820Z"
   },
   {
    "duration": 24,
    "start_time": "2025-04-02T07:07:34.270Z"
   },
   {
    "duration": 2382,
    "start_time": "2025-04-02T07:08:08.384Z"
   },
   {
    "duration": 1207,
    "start_time": "2025-04-02T07:08:10.769Z"
   },
   {
    "duration": 1991,
    "start_time": "2025-04-02T07:08:11.977Z"
   },
   {
    "duration": 4,
    "start_time": "2025-04-02T07:08:13.970Z"
   },
   {
    "duration": 190,
    "start_time": "2025-04-02T07:08:13.975Z"
   },
   {
    "duration": 27,
    "start_time": "2025-04-02T07:08:14.166Z"
   },
   {
    "duration": 8,
    "start_time": "2025-04-02T07:08:14.195Z"
   },
   {
    "duration": 17,
    "start_time": "2025-04-02T07:08:14.205Z"
   },
   {
    "duration": 10,
    "start_time": "2025-04-02T07:08:14.223Z"
   },
   {
    "duration": 8,
    "start_time": "2025-04-02T07:08:14.264Z"
   },
   {
    "duration": 11,
    "start_time": "2025-04-02T07:08:14.274Z"
   },
   {
    "duration": 36,
    "start_time": "2025-04-02T07:08:14.287Z"
   },
   {
    "duration": 9,
    "start_time": "2025-04-02T07:08:14.324Z"
   },
   {
    "duration": 29,
    "start_time": "2025-04-02T07:08:14.334Z"
   },
   {
    "duration": 137,
    "start_time": "2025-04-02T07:08:14.364Z"
   },
   {
    "duration": 94,
    "start_time": "2025-04-02T07:08:14.503Z"
   },
   {
    "duration": 7,
    "start_time": "2025-04-02T07:08:14.599Z"
   },
   {
    "duration": 27,
    "start_time": "2025-04-02T07:08:14.607Z"
   },
   {
    "duration": 49,
    "start_time": "2025-04-02T07:08:14.636Z"
   },
   {
    "duration": 42,
    "start_time": "2025-04-02T07:08:14.686Z"
   },
   {
    "duration": 42,
    "start_time": "2025-04-02T07:08:14.730Z"
   },
   {
    "duration": 21,
    "start_time": "2025-04-02T07:08:14.774Z"
   },
   {
    "duration": 153,
    "start_time": "2025-04-02T07:08:14.797Z"
   },
   {
    "duration": 513,
    "start_time": "2025-04-02T07:08:14.951Z"
   },
   {
    "duration": 11,
    "start_time": "2025-04-02T07:08:15.465Z"
   },
   {
    "duration": 218,
    "start_time": "2025-04-02T07:08:15.478Z"
   },
   {
    "duration": 339,
    "start_time": "2025-04-02T07:08:15.700Z"
   },
   {
    "duration": 1100,
    "start_time": "2025-04-02T07:08:16.043Z"
   },
   {
    "duration": 49,
    "start_time": "2025-04-02T07:08:17.144Z"
   },
   {
    "duration": 31,
    "start_time": "2025-04-02T07:08:17.195Z"
   },
   {
    "duration": 76,
    "start_time": "2025-04-02T07:08:17.228Z"
   },
   {
    "duration": 35,
    "start_time": "2025-04-02T07:08:17.306Z"
   },
   {
    "duration": 533,
    "start_time": "2025-04-02T07:08:17.343Z"
   },
   {
    "duration": 3,
    "start_time": "2025-04-02T07:08:17.877Z"
   },
   {
    "duration": 393,
    "start_time": "2025-04-02T07:08:17.881Z"
   },
   {
    "duration": 9,
    "start_time": "2025-04-02T07:08:18.276Z"
   },
   {
    "duration": 18,
    "start_time": "2025-04-02T07:08:18.286Z"
   },
   {
    "duration": 12,
    "start_time": "2025-04-02T07:08:18.305Z"
   },
   {
    "duration": 23,
    "start_time": "2025-04-02T07:08:18.319Z"
   },
   {
    "duration": 188,
    "start_time": "2025-04-02T07:08:18.344Z"
   },
   {
    "duration": 74,
    "start_time": "2025-04-02T07:08:18.534Z"
   },
   {
    "duration": 30,
    "start_time": "2025-04-02T07:08:18.610Z"
   },
   {
    "duration": 169,
    "start_time": "2025-04-02T07:08:18.642Z"
   },
   {
    "duration": 19,
    "start_time": "2025-04-02T07:09:47.610Z"
   },
   {
    "duration": 2486,
    "start_time": "2025-04-02T07:16:43.719Z"
   },
   {
    "duration": 1184,
    "start_time": "2025-04-02T07:16:46.207Z"
   },
   {
    "duration": 2487,
    "start_time": "2025-04-02T07:16:47.392Z"
   },
   {
    "duration": 5,
    "start_time": "2025-04-02T07:16:49.882Z"
   },
   {
    "duration": 215,
    "start_time": "2025-04-02T07:16:49.889Z"
   },
   {
    "duration": 27,
    "start_time": "2025-04-02T07:16:50.106Z"
   },
   {
    "duration": 14,
    "start_time": "2025-04-02T07:16:50.135Z"
   },
   {
    "duration": 27,
    "start_time": "2025-04-02T07:16:50.162Z"
   },
   {
    "duration": 7,
    "start_time": "2025-04-02T07:16:50.192Z"
   },
   {
    "duration": 14,
    "start_time": "2025-04-02T07:16:50.202Z"
   },
   {
    "duration": 29,
    "start_time": "2025-04-02T07:16:50.218Z"
   },
   {
    "duration": 36,
    "start_time": "2025-04-02T07:16:50.249Z"
   },
   {
    "duration": 4,
    "start_time": "2025-04-02T07:16:50.286Z"
   },
   {
    "duration": 30,
    "start_time": "2025-04-02T07:16:50.291Z"
   },
   {
    "duration": 140,
    "start_time": "2025-04-02T07:16:50.322Z"
   },
   {
    "duration": 81,
    "start_time": "2025-04-02T07:16:50.464Z"
   },
   {
    "duration": 20,
    "start_time": "2025-04-02T07:16:50.546Z"
   },
   {
    "duration": 38,
    "start_time": "2025-04-02T07:16:50.567Z"
   },
   {
    "duration": 37,
    "start_time": "2025-04-02T07:16:50.607Z"
   },
   {
    "duration": 74,
    "start_time": "2025-04-02T07:16:50.646Z"
   },
   {
    "duration": 87,
    "start_time": "2025-04-02T07:16:50.722Z"
   },
   {
    "duration": 8,
    "start_time": "2025-04-02T07:16:50.811Z"
   },
   {
    "duration": 196,
    "start_time": "2025-04-02T07:16:50.820Z"
   },
   {
    "duration": 501,
    "start_time": "2025-04-02T07:16:51.018Z"
   },
   {
    "duration": 11,
    "start_time": "2025-04-02T07:16:51.520Z"
   },
   {
    "duration": 210,
    "start_time": "2025-04-02T07:16:51.532Z"
   },
   {
    "duration": 325,
    "start_time": "2025-04-02T07:16:51.743Z"
   },
   {
    "duration": 1118,
    "start_time": "2025-04-02T07:16:52.071Z"
   },
   {
    "duration": 45,
    "start_time": "2025-04-02T07:16:53.191Z"
   },
   {
    "duration": 47,
    "start_time": "2025-04-02T07:16:53.238Z"
   },
   {
    "duration": 120,
    "start_time": "2025-04-02T07:16:53.287Z"
   },
   {
    "duration": 31,
    "start_time": "2025-04-02T07:16:53.409Z"
   },
   {
    "duration": 545,
    "start_time": "2025-04-02T07:16:53.441Z"
   },
   {
    "duration": 392,
    "start_time": "2025-04-02T07:16:53.988Z"
   },
   {
    "duration": 9,
    "start_time": "2025-04-02T07:16:54.381Z"
   },
   {
    "duration": 22,
    "start_time": "2025-04-02T07:16:54.392Z"
   },
   {
    "duration": 26,
    "start_time": "2025-04-02T07:16:54.416Z"
   },
   {
    "duration": 11,
    "start_time": "2025-04-02T07:16:54.443Z"
   },
   {
    "duration": 64,
    "start_time": "2025-04-02T07:16:54.455Z"
   },
   {
    "duration": 50,
    "start_time": "2025-04-02T07:16:54.521Z"
   },
   {
    "duration": 5,
    "start_time": "2025-04-02T07:16:54.573Z"
   },
   {
    "duration": 168,
    "start_time": "2025-04-02T07:16:54.580Z"
   },
   {
    "duration": 2415,
    "start_time": "2025-04-02T07:20:01.244Z"
   },
   {
    "duration": 1336,
    "start_time": "2025-04-02T07:20:03.662Z"
   },
   {
    "duration": 2164,
    "start_time": "2025-04-02T07:20:05.000Z"
   },
   {
    "duration": 4,
    "start_time": "2025-04-02T07:20:07.166Z"
   },
   {
    "duration": 199,
    "start_time": "2025-04-02T07:20:07.171Z"
   },
   {
    "duration": 30,
    "start_time": "2025-04-02T07:20:07.372Z"
   },
   {
    "duration": 57,
    "start_time": "2025-04-02T07:20:07.403Z"
   },
   {
    "duration": 76,
    "start_time": "2025-04-02T07:20:07.462Z"
   },
   {
    "duration": 49,
    "start_time": "2025-04-02T07:20:07.539Z"
   },
   {
    "duration": 57,
    "start_time": "2025-04-02T07:20:07.591Z"
   },
   {
    "duration": 121,
    "start_time": "2025-04-02T07:20:07.650Z"
   },
   {
    "duration": 192,
    "start_time": "2025-04-02T07:20:07.773Z"
   },
   {
    "duration": 19,
    "start_time": "2025-04-02T07:20:07.967Z"
   },
   {
    "duration": 24,
    "start_time": "2025-04-02T07:20:07.987Z"
   },
   {
    "duration": 134,
    "start_time": "2025-04-02T07:20:08.013Z"
   },
   {
    "duration": 87,
    "start_time": "2025-04-02T07:20:08.149Z"
   },
   {
    "duration": 7,
    "start_time": "2025-04-02T07:20:08.237Z"
   },
   {
    "duration": 29,
    "start_time": "2025-04-02T07:20:08.246Z"
   },
   {
    "duration": 20,
    "start_time": "2025-04-02T07:20:08.277Z"
   },
   {
    "duration": 26,
    "start_time": "2025-04-02T07:20:08.299Z"
   },
   {
    "duration": 42,
    "start_time": "2025-04-02T07:20:08.326Z"
   },
   {
    "duration": 19,
    "start_time": "2025-04-02T07:20:08.370Z"
   },
   {
    "duration": 229,
    "start_time": "2025-04-02T07:20:08.390Z"
   },
   {
    "duration": 499,
    "start_time": "2025-04-02T07:20:08.620Z"
   },
   {
    "duration": 11,
    "start_time": "2025-04-02T07:20:09.121Z"
   },
   {
    "duration": 329,
    "start_time": "2025-04-02T07:20:09.133Z"
   },
   {
    "duration": 328,
    "start_time": "2025-04-02T07:20:09.464Z"
   },
   {
    "duration": 1133,
    "start_time": "2025-04-02T07:20:09.796Z"
   },
   {
    "duration": 51,
    "start_time": "2025-04-02T07:20:10.931Z"
   },
   {
    "duration": 33,
    "start_time": "2025-04-02T07:20:10.983Z"
   },
   {
    "duration": 36,
    "start_time": "2025-04-02T07:20:11.019Z"
   },
   {
    "duration": 532,
    "start_time": "2025-04-02T07:20:11.062Z"
   },
   {
    "duration": 397,
    "start_time": "2025-04-02T07:20:11.595Z"
   },
   {
    "duration": 9,
    "start_time": "2025-04-02T07:20:11.993Z"
   },
   {
    "duration": 1227,
    "start_time": "2025-04-02T07:20:12.004Z"
   },
   {
    "duration": 0,
    "start_time": "2025-04-02T07:20:13.232Z"
   },
   {
    "duration": 0,
    "start_time": "2025-04-02T07:20:13.234Z"
   },
   {
    "duration": 0,
    "start_time": "2025-04-02T07:20:13.235Z"
   },
   {
    "duration": 0,
    "start_time": "2025-04-02T07:20:13.236Z"
   },
   {
    "duration": 0,
    "start_time": "2025-04-02T07:20:13.237Z"
   },
   {
    "duration": 0,
    "start_time": "2025-04-02T07:20:13.238Z"
   },
   {
    "duration": 2446,
    "start_time": "2025-04-02T07:20:49.547Z"
   },
   {
    "duration": 1197,
    "start_time": "2025-04-02T07:20:51.995Z"
   },
   {
    "duration": 1953,
    "start_time": "2025-04-02T07:20:53.194Z"
   },
   {
    "duration": 4,
    "start_time": "2025-04-02T07:20:55.149Z"
   },
   {
    "duration": 204,
    "start_time": "2025-04-02T07:20:55.156Z"
   },
   {
    "duration": 26,
    "start_time": "2025-04-02T07:20:55.362Z"
   },
   {
    "duration": 9,
    "start_time": "2025-04-02T07:20:55.390Z"
   },
   {
    "duration": 32,
    "start_time": "2025-04-02T07:20:55.400Z"
   },
   {
    "duration": 8,
    "start_time": "2025-04-02T07:20:55.434Z"
   },
   {
    "duration": 33,
    "start_time": "2025-04-02T07:20:55.444Z"
   },
   {
    "duration": 10,
    "start_time": "2025-04-02T07:20:55.478Z"
   },
   {
    "duration": 64,
    "start_time": "2025-04-02T07:20:55.490Z"
   },
   {
    "duration": 21,
    "start_time": "2025-04-02T07:20:55.556Z"
   },
   {
    "duration": 18,
    "start_time": "2025-04-02T07:20:55.580Z"
   },
   {
    "duration": 141,
    "start_time": "2025-04-02T07:20:55.600Z"
   },
   {
    "duration": 91,
    "start_time": "2025-04-02T07:20:55.743Z"
   },
   {
    "duration": 6,
    "start_time": "2025-04-02T07:20:55.836Z"
   },
   {
    "duration": 120,
    "start_time": "2025-04-02T07:20:55.844Z"
   },
   {
    "duration": 38,
    "start_time": "2025-04-02T07:20:55.966Z"
   },
   {
    "duration": 27,
    "start_time": "2025-04-02T07:20:56.006Z"
   },
   {
    "duration": 32,
    "start_time": "2025-04-02T07:20:56.035Z"
   },
   {
    "duration": 16,
    "start_time": "2025-04-02T07:20:56.068Z"
   },
   {
    "duration": 164,
    "start_time": "2025-04-02T07:20:56.086Z"
   },
   {
    "duration": 501,
    "start_time": "2025-04-02T07:20:56.252Z"
   },
   {
    "duration": 16,
    "start_time": "2025-04-02T07:20:56.755Z"
   },
   {
    "duration": 210,
    "start_time": "2025-04-02T07:20:56.772Z"
   },
   {
    "duration": 327,
    "start_time": "2025-04-02T07:20:56.984Z"
   },
   {
    "duration": 1159,
    "start_time": "2025-04-02T07:20:57.312Z"
   },
   {
    "duration": 43,
    "start_time": "2025-04-02T07:20:58.472Z"
   },
   {
    "duration": 53,
    "start_time": "2025-04-02T07:20:58.517Z"
   },
   {
    "duration": 59,
    "start_time": "2025-04-02T07:20:58.572Z"
   },
   {
    "duration": 49,
    "start_time": "2025-04-02T07:20:58.633Z"
   },
   {
    "duration": 600,
    "start_time": "2025-04-02T07:20:58.684Z"
   },
   {
    "duration": 393,
    "start_time": "2025-04-02T07:20:59.286Z"
   },
   {
    "duration": 8,
    "start_time": "2025-04-02T07:20:59.681Z"
   },
   {
    "duration": 135,
    "start_time": "2025-04-02T07:20:59.691Z"
   },
   {
    "duration": 110,
    "start_time": "2025-04-02T07:20:59.828Z"
   },
   {
    "duration": 13,
    "start_time": "2025-04-02T07:20:59.940Z"
   },
   {
    "duration": 20,
    "start_time": "2025-04-02T07:20:59.955Z"
   },
   {
    "duration": 26,
    "start_time": "2025-04-02T07:20:59.976Z"
   },
   {
    "duration": 79,
    "start_time": "2025-04-02T07:21:00.006Z"
   },
   {
    "duration": 257,
    "start_time": "2025-04-02T07:21:00.086Z"
   },
   {
    "duration": 115,
    "start_time": "2025-04-02T07:21:40.672Z"
   },
   {
    "duration": 63,
    "start_time": "2025-04-02T07:22:35.463Z"
   },
   {
    "duration": 48,
    "start_time": "2025-04-02T07:22:42.887Z"
   },
   {
    "duration": 117,
    "start_time": "2025-04-02T07:28:25.101Z"
   },
   {
    "duration": 64,
    "start_time": "2025-04-02T07:28:33.616Z"
   },
   {
    "duration": 2469,
    "start_time": "2025-04-02T07:31:18.323Z"
   },
   {
    "duration": 1199,
    "start_time": "2025-04-02T07:31:20.795Z"
   },
   {
    "duration": 1904,
    "start_time": "2025-04-02T07:31:21.995Z"
   },
   {
    "duration": 4,
    "start_time": "2025-04-02T07:31:23.901Z"
   },
   {
    "duration": 199,
    "start_time": "2025-04-02T07:31:23.906Z"
   },
   {
    "duration": 26,
    "start_time": "2025-04-02T07:31:24.107Z"
   },
   {
    "duration": 8,
    "start_time": "2025-04-02T07:31:24.135Z"
   },
   {
    "duration": 28,
    "start_time": "2025-04-02T07:31:24.144Z"
   },
   {
    "duration": 8,
    "start_time": "2025-04-02T07:31:24.173Z"
   },
   {
    "duration": 7,
    "start_time": "2025-04-02T07:31:24.184Z"
   },
   {
    "duration": 4,
    "start_time": "2025-04-02T07:31:24.193Z"
   },
   {
    "duration": 64,
    "start_time": "2025-04-02T07:31:24.199Z"
   },
   {
    "duration": 3,
    "start_time": "2025-04-02T07:31:24.265Z"
   },
   {
    "duration": 61,
    "start_time": "2025-04-02T07:31:24.270Z"
   },
   {
    "duration": 134,
    "start_time": "2025-04-02T07:31:24.333Z"
   },
   {
    "duration": 79,
    "start_time": "2025-04-02T07:31:24.469Z"
   },
   {
    "duration": 14,
    "start_time": "2025-04-02T07:31:24.550Z"
   },
   {
    "duration": 30,
    "start_time": "2025-04-02T07:31:24.566Z"
   },
   {
    "duration": 18,
    "start_time": "2025-04-02T07:31:24.598Z"
   },
   {
    "duration": 15,
    "start_time": "2025-04-02T07:31:24.618Z"
   },
   {
    "duration": 70,
    "start_time": "2025-04-02T07:31:24.635Z"
   },
   {
    "duration": 8,
    "start_time": "2025-04-02T07:31:24.707Z"
   },
   {
    "duration": 166,
    "start_time": "2025-04-02T07:31:24.716Z"
   },
   {
    "duration": 513,
    "start_time": "2025-04-02T07:31:24.885Z"
   },
   {
    "duration": 12,
    "start_time": "2025-04-02T07:31:25.400Z"
   },
   {
    "duration": 221,
    "start_time": "2025-04-02T07:31:25.414Z"
   },
   {
    "duration": 378,
    "start_time": "2025-04-02T07:31:25.636Z"
   },
   {
    "duration": 1146,
    "start_time": "2025-04-02T07:31:26.018Z"
   },
   {
    "duration": 42,
    "start_time": "2025-04-02T07:31:27.166Z"
   },
   {
    "duration": 33,
    "start_time": "2025-04-02T07:31:27.209Z"
   },
   {
    "duration": 57,
    "start_time": "2025-04-02T07:31:27.263Z"
   },
   {
    "duration": 46,
    "start_time": "2025-04-02T07:31:27.322Z"
   },
   {
    "duration": 507,
    "start_time": "2025-04-02T07:31:27.370Z"
   },
   {
    "duration": 396,
    "start_time": "2025-04-02T07:31:27.879Z"
   },
   {
    "duration": 9,
    "start_time": "2025-04-02T07:31:28.277Z"
   },
   {
    "duration": 4,
    "start_time": "2025-04-02T07:31:28.288Z"
   },
   {
    "duration": 12,
    "start_time": "2025-04-02T07:31:28.294Z"
   },
   {
    "duration": 4,
    "start_time": "2025-04-02T07:31:28.307Z"
   },
   {
    "duration": 17,
    "start_time": "2025-04-02T07:31:28.313Z"
   },
   {
    "duration": 37,
    "start_time": "2025-04-02T07:31:28.332Z"
   },
   {
    "duration": 3,
    "start_time": "2025-04-02T07:31:28.371Z"
   },
   {
    "duration": 168,
    "start_time": "2025-04-02T07:31:28.376Z"
   },
   {
    "duration": 8593,
    "start_time": "2025-04-02T10:59:39.981Z"
   },
   {
    "duration": 1273,
    "start_time": "2025-04-02T10:59:48.576Z"
   },
   {
    "duration": 1952,
    "start_time": "2025-04-02T10:59:49.851Z"
   },
   {
    "duration": 4,
    "start_time": "2025-04-02T10:59:51.805Z"
   },
   {
    "duration": 145,
    "start_time": "2025-04-02T10:59:51.810Z"
   },
   {
    "duration": 29,
    "start_time": "2025-04-02T10:59:51.956Z"
   },
   {
    "duration": 8,
    "start_time": "2025-04-02T10:59:51.986Z"
   },
   {
    "duration": 29,
    "start_time": "2025-04-02T10:59:51.996Z"
   },
   {
    "duration": 35,
    "start_time": "2025-04-02T10:59:52.026Z"
   },
   {
    "duration": 55,
    "start_time": "2025-04-02T10:59:52.064Z"
   },
   {
    "duration": 29,
    "start_time": "2025-04-02T10:59:52.121Z"
   },
   {
    "duration": 45,
    "start_time": "2025-04-02T10:59:52.152Z"
   },
   {
    "duration": 5,
    "start_time": "2025-04-02T10:59:52.198Z"
   },
   {
    "duration": 59,
    "start_time": "2025-04-02T10:59:52.204Z"
   },
   {
    "duration": 143,
    "start_time": "2025-04-02T10:59:52.265Z"
   },
   {
    "duration": 70,
    "start_time": "2025-04-02T10:59:52.409Z"
   },
   {
    "duration": 6,
    "start_time": "2025-04-02T10:59:52.480Z"
   },
   {
    "duration": 17,
    "start_time": "2025-04-02T10:59:52.488Z"
   },
   {
    "duration": 69,
    "start_time": "2025-04-02T10:59:52.507Z"
   },
   {
    "duration": 38,
    "start_time": "2025-04-02T10:59:52.577Z"
   },
   {
    "duration": 34,
    "start_time": "2025-04-02T10:59:52.617Z"
   },
   {
    "duration": 16,
    "start_time": "2025-04-02T10:59:52.653Z"
   },
   {
    "duration": 155,
    "start_time": "2025-04-02T10:59:52.671Z"
   },
   {
    "duration": 453,
    "start_time": "2025-04-02T10:59:52.828Z"
   },
   {
    "duration": 11,
    "start_time": "2025-04-02T10:59:53.283Z"
   },
   {
    "duration": 297,
    "start_time": "2025-04-02T10:59:53.296Z"
   },
   {
    "duration": 303,
    "start_time": "2025-04-02T10:59:53.596Z"
   },
   {
    "duration": 1027,
    "start_time": "2025-04-02T10:59:53.902Z"
   },
   {
    "duration": 58,
    "start_time": "2025-04-02T10:59:54.931Z"
   },
   {
    "duration": 34,
    "start_time": "2025-04-02T10:59:54.991Z"
   },
   {
    "duration": 74,
    "start_time": "2025-04-02T10:59:55.026Z"
   },
   {
    "duration": 30,
    "start_time": "2025-04-02T10:59:55.102Z"
   },
   {
    "duration": 25,
    "start_time": "2025-04-02T11:00:06.614Z"
   },
   {
    "duration": 13,
    "start_time": "2025-04-02T11:00:28.590Z"
   },
   {
    "duration": 11,
    "start_time": "2025-04-02T11:00:45.118Z"
   },
   {
    "duration": 24,
    "start_time": "2025-04-02T11:00:50.406Z"
   },
   {
    "duration": 371,
    "start_time": "2025-04-02T11:01:24.062Z"
   },
   {
    "duration": 52,
    "start_time": "2025-04-02T11:01:34.198Z"
   },
   {
    "duration": 15,
    "start_time": "2025-04-02T11:02:09.022Z"
   },
   {
    "duration": 102,
    "start_time": "2025-04-02T11:02:14.062Z"
   },
   {
    "duration": 11138,
    "start_time": "2025-04-03T13:00:13.954Z"
   },
   {
    "duration": 1475,
    "start_time": "2025-04-03T13:00:25.094Z"
   },
   {
    "duration": 2637,
    "start_time": "2025-04-03T13:00:26.571Z"
   },
   {
    "duration": 4,
    "start_time": "2025-04-03T13:00:29.210Z"
   },
   {
    "duration": 229,
    "start_time": "2025-04-03T13:00:29.216Z"
   },
   {
    "duration": 42,
    "start_time": "2025-04-03T13:00:29.457Z"
   },
   {
    "duration": 8,
    "start_time": "2025-04-03T13:00:29.501Z"
   },
   {
    "duration": 11,
    "start_time": "2025-04-03T13:00:29.511Z"
   },
   {
    "duration": 44,
    "start_time": "2025-04-03T13:00:29.524Z"
   },
   {
    "duration": 14,
    "start_time": "2025-04-03T13:00:29.575Z"
   },
   {
    "duration": 11,
    "start_time": "2025-04-03T13:00:29.591Z"
   },
   {
    "duration": 95,
    "start_time": "2025-04-03T13:00:29.603Z"
   },
   {
    "duration": 4,
    "start_time": "2025-04-03T13:00:29.700Z"
   },
   {
    "duration": 33,
    "start_time": "2025-04-03T13:00:29.706Z"
   },
   {
    "duration": 150,
    "start_time": "2025-04-03T13:00:29.741Z"
   },
   {
    "duration": 99,
    "start_time": "2025-04-03T13:00:29.893Z"
   },
   {
    "duration": 7,
    "start_time": "2025-04-03T13:00:29.994Z"
   },
   {
    "duration": 79,
    "start_time": "2025-04-03T13:00:30.003Z"
   },
   {
    "duration": 25,
    "start_time": "2025-04-03T13:00:30.084Z"
   },
   {
    "duration": 53,
    "start_time": "2025-04-03T13:00:30.111Z"
   },
   {
    "duration": 47,
    "start_time": "2025-04-03T13:00:30.167Z"
   },
   {
    "duration": 37,
    "start_time": "2025-04-03T13:00:30.216Z"
   },
   {
    "duration": 244,
    "start_time": "2025-04-03T13:00:30.259Z"
   },
   {
    "duration": 592,
    "start_time": "2025-04-03T13:00:30.505Z"
   },
   {
    "duration": 15,
    "start_time": "2025-04-03T13:00:31.099Z"
   },
   {
    "duration": 256,
    "start_time": "2025-04-03T13:00:31.116Z"
   },
   {
    "duration": 402,
    "start_time": "2025-04-03T13:00:31.375Z"
   },
   {
    "duration": 1221,
    "start_time": "2025-04-03T13:00:31.782Z"
   },
   {
    "duration": 58,
    "start_time": "2025-04-03T13:00:33.004Z"
   },
   {
    "duration": 36,
    "start_time": "2025-04-03T13:00:33.063Z"
   },
   {
    "duration": 70,
    "start_time": "2025-04-03T13:00:33.101Z"
   },
   {
    "duration": 21,
    "start_time": "2025-04-03T13:00:33.174Z"
   },
   {
    "duration": 604,
    "start_time": "2025-04-03T13:00:33.196Z"
   },
   {
    "duration": 424,
    "start_time": "2025-04-03T13:00:33.802Z"
   },
   {
    "duration": 9,
    "start_time": "2025-04-03T13:00:34.228Z"
   },
   {
    "duration": 30,
    "start_time": "2025-04-03T13:00:34.239Z"
   },
   {
    "duration": 71,
    "start_time": "2025-04-03T13:00:34.272Z"
   },
   {
    "duration": 6,
    "start_time": "2025-04-03T13:00:34.345Z"
   },
   {
    "duration": 16,
    "start_time": "2025-04-03T13:00:34.352Z"
   },
   {
    "duration": 58,
    "start_time": "2025-04-03T13:00:34.370Z"
   },
   {
    "duration": 5,
    "start_time": "2025-04-03T13:00:34.430Z"
   },
   {
    "duration": 193,
    "start_time": "2025-04-03T13:00:34.437Z"
   },
   {
    "duration": 2422,
    "start_time": "2025-04-03T19:27:36.436Z"
   },
   {
    "duration": 1114,
    "start_time": "2025-04-03T19:27:38.861Z"
   },
   {
    "duration": 3014,
    "start_time": "2025-04-03T19:27:39.977Z"
   },
   {
    "duration": 4,
    "start_time": "2025-04-03T19:27:42.993Z"
   },
   {
    "duration": 174,
    "start_time": "2025-04-03T19:27:42.999Z"
   },
   {
    "duration": 28,
    "start_time": "2025-04-03T19:27:43.175Z"
   },
   {
    "duration": 9,
    "start_time": "2025-04-03T19:27:43.204Z"
   },
   {
    "duration": 9,
    "start_time": "2025-04-03T19:27:43.215Z"
   },
   {
    "duration": 36,
    "start_time": "2025-04-03T19:27:43.226Z"
   },
   {
    "duration": 7,
    "start_time": "2025-04-03T19:27:43.266Z"
   },
   {
    "duration": 4,
    "start_time": "2025-04-03T19:27:43.275Z"
   },
   {
    "duration": 30,
    "start_time": "2025-04-03T19:27:43.280Z"
   },
   {
    "duration": 4,
    "start_time": "2025-04-03T19:27:43.312Z"
   },
   {
    "duration": 105,
    "start_time": "2025-04-03T19:27:43.317Z"
   },
   {
    "duration": 128,
    "start_time": "2025-04-03T19:27:43.424Z"
   },
   {
    "duration": 74,
    "start_time": "2025-04-03T19:27:43.558Z"
   },
   {
    "duration": 7,
    "start_time": "2025-04-03T19:27:43.634Z"
   },
   {
    "duration": 11,
    "start_time": "2025-04-03T19:27:43.657Z"
   },
   {
    "duration": 19,
    "start_time": "2025-04-03T19:27:43.670Z"
   },
   {
    "duration": 16,
    "start_time": "2025-04-03T19:27:43.691Z"
   },
   {
    "duration": 23,
    "start_time": "2025-04-03T19:27:43.708Z"
   },
   {
    "duration": 9,
    "start_time": "2025-04-03T19:27:43.757Z"
   },
   {
    "duration": 170,
    "start_time": "2025-04-03T19:27:43.768Z"
   },
   {
    "duration": 497,
    "start_time": "2025-04-03T19:27:43.940Z"
   },
   {
    "duration": 19,
    "start_time": "2025-04-03T19:27:44.439Z"
   },
   {
    "duration": 194,
    "start_time": "2025-04-03T19:27:44.459Z"
   },
   {
    "duration": 322,
    "start_time": "2025-04-03T19:27:44.658Z"
   },
   {
    "duration": 1088,
    "start_time": "2025-04-03T19:27:44.983Z"
   },
   {
    "duration": 40,
    "start_time": "2025-04-03T19:27:46.073Z"
   },
   {
    "duration": 49,
    "start_time": "2025-04-03T19:27:46.114Z"
   },
   {
    "duration": 44,
    "start_time": "2025-04-03T19:27:46.165Z"
   },
   {
    "duration": 17,
    "start_time": "2025-04-03T19:27:46.210Z"
   },
   {
    "duration": 553,
    "start_time": "2025-04-03T19:27:46.228Z"
   },
   {
    "duration": 386,
    "start_time": "2025-04-03T19:27:46.782Z"
   },
   {
    "duration": 8,
    "start_time": "2025-04-03T19:27:47.169Z"
   },
   {
    "duration": 69,
    "start_time": "2025-04-03T19:27:47.179Z"
   },
   {
    "duration": 7,
    "start_time": "2025-04-03T19:27:47.250Z"
   },
   {
    "duration": 4,
    "start_time": "2025-04-03T19:27:47.258Z"
   },
   {
    "duration": 4,
    "start_time": "2025-04-03T19:27:47.263Z"
   },
   {
    "duration": 19,
    "start_time": "2025-04-03T19:27:47.268Z"
   },
   {
    "duration": 3,
    "start_time": "2025-04-03T19:27:47.288Z"
   },
   {
    "duration": 157,
    "start_time": "2025-04-03T19:27:47.293Z"
   },
   {
    "duration": 30,
    "start_time": "2025-04-03T19:28:14.306Z"
   },
   {
    "duration": 33,
    "start_time": "2025-04-03T19:28:20.391Z"
   },
   {
    "duration": 16,
    "start_time": "2025-04-03T19:28:38.946Z"
   },
   {
    "duration": 106,
    "start_time": "2025-04-03T19:29:18.808Z"
   },
   {
    "duration": 14,
    "start_time": "2025-04-03T19:29:40.200Z"
   },
   {
    "duration": 14,
    "start_time": "2025-04-03T19:29:51.063Z"
   },
   {
    "duration": 35,
    "start_time": "2025-04-03T19:30:11.480Z"
   },
   {
    "duration": 71,
    "start_time": "2025-04-03T19:30:12.704Z"
   },
   {
    "duration": 32,
    "start_time": "2025-04-03T19:30:27.399Z"
   },
   {
    "duration": 75,
    "start_time": "2025-04-03T19:30:27.832Z"
   },
   {
    "duration": 20,
    "start_time": "2025-04-03T19:30:43.416Z"
   },
   {
    "duration": 2389,
    "start_time": "2025-04-03T19:31:49.174Z"
   },
   {
    "duration": 1200,
    "start_time": "2025-04-03T19:31:51.566Z"
   },
   {
    "duration": 2247,
    "start_time": "2025-04-03T19:31:52.768Z"
   },
   {
    "duration": 3,
    "start_time": "2025-04-03T19:31:55.017Z"
   },
   {
    "duration": 208,
    "start_time": "2025-04-03T19:31:55.022Z"
   },
   {
    "duration": 31,
    "start_time": "2025-04-03T19:31:55.232Z"
   },
   {
    "duration": 7,
    "start_time": "2025-04-03T19:31:55.264Z"
   },
   {
    "duration": 9,
    "start_time": "2025-04-03T19:31:55.273Z"
   },
   {
    "duration": 11,
    "start_time": "2025-04-03T19:31:55.284Z"
   },
   {
    "duration": 7,
    "start_time": "2025-04-03T19:31:55.299Z"
   },
   {
    "duration": 30,
    "start_time": "2025-04-03T19:31:55.308Z"
   },
   {
    "duration": 87,
    "start_time": "2025-04-03T19:31:55.340Z"
   },
   {
    "duration": 4,
    "start_time": "2025-04-03T19:31:55.429Z"
   },
   {
    "duration": 14,
    "start_time": "2025-04-03T19:31:55.434Z"
   },
   {
    "duration": 126,
    "start_time": "2025-04-03T19:31:55.449Z"
   },
   {
    "duration": 84,
    "start_time": "2025-04-03T19:31:55.577Z"
   },
   {
    "duration": 7,
    "start_time": "2025-04-03T19:31:55.663Z"
   },
   {
    "duration": 13,
    "start_time": "2025-04-03T19:31:55.671Z"
   },
   {
    "duration": 16,
    "start_time": "2025-04-03T19:31:55.686Z"
   },
   {
    "duration": 16,
    "start_time": "2025-04-03T19:31:55.704Z"
   },
   {
    "duration": 49,
    "start_time": "2025-04-03T19:31:55.721Z"
   },
   {
    "duration": 8,
    "start_time": "2025-04-03T19:31:55.771Z"
   },
   {
    "duration": 169,
    "start_time": "2025-04-03T19:31:55.781Z"
   },
   {
    "duration": 493,
    "start_time": "2025-04-03T19:31:55.952Z"
   },
   {
    "duration": 19,
    "start_time": "2025-04-03T19:31:56.447Z"
   },
   {
    "duration": 198,
    "start_time": "2025-04-03T19:31:56.468Z"
   },
   {
    "duration": 312,
    "start_time": "2025-04-03T19:31:56.668Z"
   },
   {
    "duration": 1072,
    "start_time": "2025-04-03T19:31:56.985Z"
   },
   {
    "duration": 41,
    "start_time": "2025-04-03T19:31:58.059Z"
   },
   {
    "duration": 29,
    "start_time": "2025-04-03T19:31:58.102Z"
   },
   {
    "duration": 79,
    "start_time": "2025-04-03T19:31:58.132Z"
   },
   {
    "duration": 31,
    "start_time": "2025-04-03T19:31:58.214Z"
   },
   {
    "duration": 53,
    "start_time": "2025-04-03T19:31:58.247Z"
   },
   {
    "duration": 565,
    "start_time": "2025-04-03T19:31:58.301Z"
   },
   {
    "duration": 380,
    "start_time": "2025-04-03T19:31:58.868Z"
   },
   {
    "duration": 12,
    "start_time": "2025-04-03T19:31:59.250Z"
   },
   {
    "duration": 5,
    "start_time": "2025-04-03T19:31:59.264Z"
   },
   {
    "duration": 6,
    "start_time": "2025-04-03T19:31:59.270Z"
   },
   {
    "duration": 4,
    "start_time": "2025-04-03T19:31:59.278Z"
   },
   {
    "duration": 4,
    "start_time": "2025-04-03T19:31:59.283Z"
   },
   {
    "duration": 17,
    "start_time": "2025-04-03T19:31:59.288Z"
   },
   {
    "duration": 4,
    "start_time": "2025-04-03T19:31:59.307Z"
   },
   {
    "duration": 249,
    "start_time": "2025-04-03T19:31:59.312Z"
   },
   {
    "duration": 29,
    "start_time": "2025-04-03T19:32:34.116Z"
   }
  ],
  "kernelspec": {
   "display_name": "Python 3 (ipykernel)",
   "language": "python",
   "name": "python3"
  },
  "language_info": {
   "codemirror_mode": {
    "name": "ipython",
    "version": 3
   },
   "file_extension": ".py",
   "mimetype": "text/x-python",
   "name": "python",
   "nbconvert_exporter": "python",
   "pygments_lexer": "ipython3",
   "version": "3.9.13"
  },
  "toc": {
   "base_numbering": 1,
   "nav_menu": {},
   "number_sections": true,
   "sideBar": true,
   "skip_h1_title": true,
   "title_cell": "Table of Contents",
   "title_sidebar": "Contents",
   "toc_cell": false,
   "toc_position": {},
   "toc_section_display": true,
   "toc_window_display": true
  }
 },
 "nbformat": 4,
 "nbformat_minor": 5
}
