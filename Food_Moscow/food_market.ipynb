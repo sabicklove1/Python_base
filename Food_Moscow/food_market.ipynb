{
 "cells": [
  {
   "cell_type": "markdown",
   "id": "b6017f31-28ee-4543-87ee-2601f264796b",
   "metadata": {},
   "source": [
    "# Изучение рынка заведений общественного питания Москвы для Shut Up and Take My Money\n",
    "\n",
    "## Цель и задачи  \n",
    "\n",
    "**Цель:** Провести исследовательский анализ рынка общественного питания Москвы для выбора подходящего инвесторам места нового заведения общественного питания.\n",
    "\n",
    "**Задачи:**\n",
    "1. Загрузить данные и познакомиться с их содержимым.\n",
    "2. Провести предобработку данных.\n",
    "3. Провести исследовательский анализ данных.\n",
    "4. Сформулировать выводы по проведённому анализу.\n",
    "\n",
    "\n",
    "## Данные\n",
    "\n",
    "Для анализа поступили данные с заведениями общественного питания Москвы. Данные состоят из двух датасетов:\n",
    "\n",
    "- `rest_info.csv` — информация о заведениях общественного питания;\n",
    "- `rest_price.csv` —  информация о среднем чеке в заведениях общественного питания.\n",
    "\n",
    "### Описание датасета `rest_info`\n",
    "- name — название заведения;\n",
    "- address — адрес заведения;\n",
    "- district — административный район, в котором находится заведение, например Центральный административный округ;\n",
    "- category — категория заведения, например «кафе», «пиццерия» или «кофейня»;\n",
    "- hours — информация о днях и часах работы;\n",
    "- rating — рейтинг заведения по оценкам пользователей в Яндекс Картах (высшая оценка — 5.0);\n",
    "- chain — число, выраженное 0 или 1, которое показывает, является ли заведение сетевым (для маленьких сетей могут встречаться ошибки):\n",
    "  - 0 — заведение не является сетевым;\n",
    "  - 1 — заведение является сетевым.\n",
    "- seats — количество посадочных мест.\n",
    "\n",
    "### Описание датасета `clients_information`\n",
    "- price — категория цен в заведении, например «средние», «ниже среднего», «выше среднего» и так далее;\n",
    "- avg_bill — строка, которая хранит среднюю стоимость заказа в виде диапазона, например:\n",
    "  - «Средний счёт: 1000–1500 ₽»;\n",
    "  - «Цена чашки капучино: 130–220 ₽»;\n",
    "  - «Цена бокала пива: 400–600 ₽» и так далее;\n",
    "- middle_avg_bill — число с оценкой среднего чека, которое указано только для значений из столбца avg_bill, начинающихся с подстроки «Средний счёт»:\n",
    "  - Если в строке указан ценовой диапазон из двух значений, в столбец войдёт медиана этих двух значений.\n",
    "  - Если в строке указано одно число — цена без диапазона, то в столбец войдёт это число.\n",
    "  - Если значения нет или оно не начинается с подстроки «Средний счёт», то в столбец ничего не войдёт.\n",
    "- middle_coffee_cup — число с оценкой одной чашки капучино, которое указано только для значений из столбца avg_bill, начинающихся с подстроки «Цена одной чашки капучино»:\n",
    "  - Если в строке указан ценовой диапазон из двух значений, в столбец войдёт медиана этих двух значений.\n",
    "  - Если в строке указано одно число — цена без диапазона, то в столбец войдёт это число.\n",
    "  - Если значения нет или оно не начинается с подстроки «Цена одной чашки капучино», то в столбец ничего не войдёт.\n",
    " \n",
    "## Структура проекта\n",
    "\n",
    "1. Загрузка данных и знакомство с ними.\n",
    "2. Предобработка данных.\n",
    "3. Исследовательский анализ данных.\n",
    "4. Итоговые выводы.\n",
    "\n",
    "---\n"
   ]
  },
  {
   "cell_type": "markdown",
   "id": "4bcf4f69-f6d4-4fb0-ba55-4aac71794973",
   "metadata": {},
   "source": [
    "## 1. Загрузка данных и знакомство с ними\n",
    "\n",
    "Начнём с загрузки библиотек и датасетов `rest_info` и `rest_price`. Будем использовать pandas и библиотеки визуализации данных matplotlib и seaborn, а также phik для построения матрицы корреляции. Данные датасетов сохраним в двух переменных: `rest_df` и `price_df`."
   ]
  },
  {
   "cell_type": "code",
   "execution_count": 1,
   "id": "a97b1b2c-c926-4016-9a64-3db303a6a2e9",
   "metadata": {},
   "outputs": [
    {
     "name": "stdout",
     "output_type": "stream",
     "text": [
      "Requirement already satisfied: pandas in /opt/conda/lib/python3.9/site-packages (1.2.4)\n",
      "Requirement already satisfied: matplotlib in /opt/conda/lib/python3.9/site-packages (3.3.4)\n",
      "Requirement already satisfied: seaborn in /opt/conda/lib/python3.9/site-packages (0.11.1)\n",
      "Requirement already satisfied: phik in /opt/conda/lib/python3.9/site-packages (0.12.4)\n",
      "Requirement already satisfied: python-dateutil>=2.7.3 in /opt/conda/lib/python3.9/site-packages (from pandas) (2.8.1)\n",
      "Requirement already satisfied: pytz>=2017.3 in /opt/conda/lib/python3.9/site-packages (from pandas) (2021.1)\n",
      "Requirement already satisfied: numpy>=1.16.5 in /opt/conda/lib/python3.9/site-packages (from pandas) (1.21.1)\n",
      "Requirement already satisfied: six>=1.5 in /opt/conda/lib/python3.9/site-packages (from python-dateutil>=2.7.3->pandas) (1.16.0)\n",
      "Requirement already satisfied: pillow>=6.2.0 in /opt/conda/lib/python3.9/site-packages (from matplotlib) (8.4.0)\n",
      "Requirement already satisfied: kiwisolver>=1.0.1 in /opt/conda/lib/python3.9/site-packages (from matplotlib) (1.4.4)\n",
      "Requirement already satisfied: cycler>=0.10 in /opt/conda/lib/python3.9/site-packages (from matplotlib) (0.11.0)\n",
      "Requirement already satisfied: pyparsing!=2.0.4,!=2.1.2,!=2.1.6,>=2.0.3 in /opt/conda/lib/python3.9/site-packages (from matplotlib) (2.4.7)\n",
      "Requirement already satisfied: scipy>=1.0 in /opt/conda/lib/python3.9/site-packages (from seaborn) (1.9.1)\n",
      "Requirement already satisfied: joblib>=0.14.1 in /opt/conda/lib/python3.9/site-packages (from phik) (1.1.0)\n"
     ]
    }
   ],
   "source": [
    "# Загружаем библиотеки\n",
    "!pip install pandas matplotlib seaborn phik"
   ]
  },
  {
   "cell_type": "code",
   "execution_count": 2,
   "id": "a90bca9c-46c5-4689-bbd9-b22b108cb7df",
   "metadata": {},
   "outputs": [],
   "source": [
    "# Импортируем библиотеки\n",
    "import pandas as pd\n",
    "\n",
    "# Загружаем библиотеки для визуализации данных\n",
    "import matplotlib.pyplot as plt\n",
    "import seaborn as sns\n",
    "\n",
    "# Загружаем библиотеку для расчёта коэффициента корреляции phi_k\n",
    "from phik import phik_matrix"
   ]
  },
  {
   "cell_type": "code",
   "execution_count": 3,
   "id": "72f50014-cd5a-4364-874e-72e51bf58790",
   "metadata": {},
   "outputs": [],
   "source": [
    "# Выгружаем данные в переменные \n",
    "rest_df = pd.read_csv('https://code.s3.yandex.net/datasets/rest_info.csv ')\n",
    "price_df = pd.read_csv('https://code.s3.yandex.net/datasets/rest_price.csv')"
   ]
  },
  {
   "cell_type": "markdown",
   "id": "ef2beee2-a75d-47bb-8f90-c9b8d9a28ab8",
   "metadata": {},
   "source": [
    "Познакомимся с данными датасета `rest_info.csv` — выведем первые строки методом `head()`, а информацию о датафрейме методом `info()`:"
   ]
  },
  {
   "cell_type": "code",
   "execution_count": 4,
   "id": "5b3ee987-69ad-4fdf-9534-2c60ecd8ec6c",
   "metadata": {},
   "outputs": [
    {
     "data": {
      "text/html": [
       "<div>\n",
       "<style scoped>\n",
       "    .dataframe tbody tr th:only-of-type {\n",
       "        vertical-align: middle;\n",
       "    }\n",
       "\n",
       "    .dataframe tbody tr th {\n",
       "        vertical-align: top;\n",
       "    }\n",
       "\n",
       "    .dataframe thead th {\n",
       "        text-align: right;\n",
       "    }\n",
       "</style>\n",
       "<table border=\"1\" class=\"dataframe\">\n",
       "  <thead>\n",
       "    <tr style=\"text-align: right;\">\n",
       "      <th></th>\n",
       "      <th>id</th>\n",
       "      <th>name</th>\n",
       "      <th>category</th>\n",
       "      <th>address</th>\n",
       "      <th>district</th>\n",
       "      <th>hours</th>\n",
       "      <th>rating</th>\n",
       "      <th>chain</th>\n",
       "      <th>seats</th>\n",
       "    </tr>\n",
       "  </thead>\n",
       "  <tbody>\n",
       "    <tr>\n",
       "      <th>0</th>\n",
       "      <td>0c3e3439a8c64ea5bf6ecd6ca6ae19f0</td>\n",
       "      <td>WoWфли</td>\n",
       "      <td>кафе</td>\n",
       "      <td>Москва, улица Дыбенко, 7/1</td>\n",
       "      <td>Северный административный округ</td>\n",
       "      <td>ежедневно, 10:00–22:00</td>\n",
       "      <td>5.0</td>\n",
       "      <td>0</td>\n",
       "      <td>NaN</td>\n",
       "    </tr>\n",
       "    <tr>\n",
       "      <th>1</th>\n",
       "      <td>045780ada3474c57a2112e505d74b633</td>\n",
       "      <td>Четыре комнаты</td>\n",
       "      <td>ресторан</td>\n",
       "      <td>Москва, улица Дыбенко, 36, корп. 1</td>\n",
       "      <td>Северный административный округ</td>\n",
       "      <td>ежедневно, 10:00–22:00</td>\n",
       "      <td>4.5</td>\n",
       "      <td>0</td>\n",
       "      <td>4.0</td>\n",
       "    </tr>\n",
       "    <tr>\n",
       "      <th>2</th>\n",
       "      <td>1070b6b59144425896c65889347fcff6</td>\n",
       "      <td>Хазри</td>\n",
       "      <td>кафе</td>\n",
       "      <td>Москва, Клязьминская улица, 15</td>\n",
       "      <td>Северный административный округ</td>\n",
       "      <td>пн-чт 11:00–02:00; пт,сб 11:00–05:00; вс 11:00...</td>\n",
       "      <td>4.6</td>\n",
       "      <td>0</td>\n",
       "      <td>45.0</td>\n",
       "    </tr>\n",
       "    <tr>\n",
       "      <th>3</th>\n",
       "      <td>03ac7cd772104f65b58b349dc59f03ee</td>\n",
       "      <td>Dormouse Coffee Shop</td>\n",
       "      <td>кофейня</td>\n",
       "      <td>Москва, улица Маршала Федоренко, 12</td>\n",
       "      <td>Северный административный округ</td>\n",
       "      <td>ежедневно, 09:00–22:00</td>\n",
       "      <td>5.0</td>\n",
       "      <td>0</td>\n",
       "      <td>NaN</td>\n",
       "    </tr>\n",
       "    <tr>\n",
       "      <th>4</th>\n",
       "      <td>a163aada139c4c7f87b0b1c0b466a50f</td>\n",
       "      <td>Иль Марко</td>\n",
       "      <td>пиццерия</td>\n",
       "      <td>Москва, Правобережная улица, 1Б</td>\n",
       "      <td>Северный административный округ</td>\n",
       "      <td>ежедневно, 10:00–22:00</td>\n",
       "      <td>5.0</td>\n",
       "      <td>1</td>\n",
       "      <td>148.0</td>\n",
       "    </tr>\n",
       "  </tbody>\n",
       "</table>\n",
       "</div>"
      ],
      "text/plain": [
       "                                 id                  name  category  \\\n",
       "0  0c3e3439a8c64ea5bf6ecd6ca6ae19f0                WoWфли      кафе   \n",
       "1  045780ada3474c57a2112e505d74b633        Четыре комнаты  ресторан   \n",
       "2  1070b6b59144425896c65889347fcff6                 Хазри      кафе   \n",
       "3  03ac7cd772104f65b58b349dc59f03ee  Dormouse Coffee Shop   кофейня   \n",
       "4  a163aada139c4c7f87b0b1c0b466a50f             Иль Марко  пиццерия   \n",
       "\n",
       "                               address                         district  \\\n",
       "0           Москва, улица Дыбенко, 7/1  Северный административный округ   \n",
       "1   Москва, улица Дыбенко, 36, корп. 1  Северный административный округ   \n",
       "2       Москва, Клязьминская улица, 15  Северный административный округ   \n",
       "3  Москва, улица Маршала Федоренко, 12  Северный административный округ   \n",
       "4      Москва, Правобережная улица, 1Б  Северный административный округ   \n",
       "\n",
       "                                               hours  rating  chain  seats  \n",
       "0                             ежедневно, 10:00–22:00     5.0      0    NaN  \n",
       "1                             ежедневно, 10:00–22:00     4.5      0    4.0  \n",
       "2  пн-чт 11:00–02:00; пт,сб 11:00–05:00; вс 11:00...     4.6      0   45.0  \n",
       "3                             ежедневно, 09:00–22:00     5.0      0    NaN  \n",
       "4                             ежедневно, 10:00–22:00     5.0      1  148.0  "
      ]
     },
     "execution_count": 4,
     "metadata": {},
     "output_type": "execute_result"
    }
   ],
   "source": [
    "# Выводим первые строки датафрейма на экран\n",
    "rest_df.head()"
   ]
  },
  {
   "cell_type": "code",
   "execution_count": 5,
   "id": "3845d77b-6039-4466-8a15-b4c40fc0cef9",
   "metadata": {},
   "outputs": [
    {
     "name": "stdout",
     "output_type": "stream",
     "text": [
      "<class 'pandas.core.frame.DataFrame'>\n",
      "RangeIndex: 8406 entries, 0 to 8405\n",
      "Data columns (total 9 columns):\n",
      " #   Column    Non-Null Count  Dtype  \n",
      "---  ------    --------------  -----  \n",
      " 0   id        8406 non-null   object \n",
      " 1   name      8406 non-null   object \n",
      " 2   category  8406 non-null   object \n",
      " 3   address   8406 non-null   object \n",
      " 4   district  8406 non-null   object \n",
      " 5   hours     7870 non-null   object \n",
      " 6   rating    8406 non-null   float64\n",
      " 7   chain     8406 non-null   int64  \n",
      " 8   seats     4795 non-null   float64\n",
      "dtypes: float64(2), int64(1), object(6)\n",
      "memory usage: 591.2+ KB\n"
     ]
    }
   ],
   "source": [
    "# Выводим информацию о датафрейме\n",
    "rest_df.info()"
   ]
  },
  {
   "cell_type": "markdown",
   "id": "aceff673-4022-4e20-b459-5155f28ac1f2",
   "metadata": {},
   "source": [
    "Датасет `rest_info.csv` содержит 9 столбцов и 8406 строк, в которых представлена информация о заведениях общественного питания.\n",
    "\n",
    "После первичного анализа данных можно сделать следующие выводы:\n",
    "- Данные содержат как числовые, так и строковые значения и хранятся в типах данных `int64`, `float64` и `object`. Значения в столбцах `id`, `name`, `category`, `address`, `district` и `hours` представлены строками. Некоторые из них содержат числа, например, столбец `hours` с графигом работы заведения и при необходимости эти данные можно оптимизировать.\n",
    "- Пропуски содержатся в столбцах `hours`, `seats`. Однако следует проверить и другие столбцы: в них могут встречаться значения-индикаторы, которые будут говорить об отсутствии данных.\n",
    "- Судя по первому знакомству с данными, значения в столбцах соответствуют своему описанию.\n",
    "\n",
    "Теперь познакомимся с данными датасета `rest_price.csv`."
   ]
  },
  {
   "cell_type": "code",
   "execution_count": 6,
   "id": "dccde4be-52bc-4261-894e-0607925e73fc",
   "metadata": {},
   "outputs": [
    {
     "data": {
      "text/html": [
       "<div>\n",
       "<style scoped>\n",
       "    .dataframe tbody tr th:only-of-type {\n",
       "        vertical-align: middle;\n",
       "    }\n",
       "\n",
       "    .dataframe tbody tr th {\n",
       "        vertical-align: top;\n",
       "    }\n",
       "\n",
       "    .dataframe thead th {\n",
       "        text-align: right;\n",
       "    }\n",
       "</style>\n",
       "<table border=\"1\" class=\"dataframe\">\n",
       "  <thead>\n",
       "    <tr style=\"text-align: right;\">\n",
       "      <th></th>\n",
       "      <th>id</th>\n",
       "      <th>price</th>\n",
       "      <th>avg_bill</th>\n",
       "      <th>middle_avg_bill</th>\n",
       "      <th>middle_coffee_cup</th>\n",
       "    </tr>\n",
       "  </thead>\n",
       "  <tbody>\n",
       "    <tr>\n",
       "      <th>0</th>\n",
       "      <td>045780ada3474c57a2112e505d74b633</td>\n",
       "      <td>выше среднего</td>\n",
       "      <td>Средний счёт:1500–1600 ₽</td>\n",
       "      <td>1550.0</td>\n",
       "      <td>NaN</td>\n",
       "    </tr>\n",
       "    <tr>\n",
       "      <th>1</th>\n",
       "      <td>1070b6b59144425896c65889347fcff6</td>\n",
       "      <td>средние</td>\n",
       "      <td>Средний счёт:от 1000 ₽</td>\n",
       "      <td>1000.0</td>\n",
       "      <td>NaN</td>\n",
       "    </tr>\n",
       "    <tr>\n",
       "      <th>2</th>\n",
       "      <td>03ac7cd772104f65b58b349dc59f03ee</td>\n",
       "      <td>NaN</td>\n",
       "      <td>Цена чашки капучино:155–185 ₽</td>\n",
       "      <td>NaN</td>\n",
       "      <td>170.0</td>\n",
       "    </tr>\n",
       "    <tr>\n",
       "      <th>3</th>\n",
       "      <td>a163aada139c4c7f87b0b1c0b466a50f</td>\n",
       "      <td>средние</td>\n",
       "      <td>Средний счёт:400–600 ₽</td>\n",
       "      <td>500.0</td>\n",
       "      <td>NaN</td>\n",
       "    </tr>\n",
       "    <tr>\n",
       "      <th>4</th>\n",
       "      <td>8a343546b24e4a499ad96eb7d0797a8a</td>\n",
       "      <td>средние</td>\n",
       "      <td>NaN</td>\n",
       "      <td>NaN</td>\n",
       "      <td>NaN</td>\n",
       "    </tr>\n",
       "  </tbody>\n",
       "</table>\n",
       "</div>"
      ],
      "text/plain": [
       "                                 id          price  \\\n",
       "0  045780ada3474c57a2112e505d74b633  выше среднего   \n",
       "1  1070b6b59144425896c65889347fcff6        средние   \n",
       "2  03ac7cd772104f65b58b349dc59f03ee            NaN   \n",
       "3  a163aada139c4c7f87b0b1c0b466a50f        средние   \n",
       "4  8a343546b24e4a499ad96eb7d0797a8a        средние   \n",
       "\n",
       "                        avg_bill  middle_avg_bill  middle_coffee_cup  \n",
       "0       Средний счёт:1500–1600 ₽           1550.0                NaN  \n",
       "1         Средний счёт:от 1000 ₽           1000.0                NaN  \n",
       "2  Цена чашки капучино:155–185 ₽              NaN              170.0  \n",
       "3         Средний счёт:400–600 ₽            500.0                NaN  \n",
       "4                            NaN              NaN                NaN  "
      ]
     },
     "execution_count": 6,
     "metadata": {},
     "output_type": "execute_result"
    }
   ],
   "source": [
    "# Выводим первые строки датафрейма на экран\n",
    "price_df.head()"
   ]
  },
  {
   "cell_type": "code",
   "execution_count": 7,
   "id": "743efd69-46e4-48ef-8d55-e81393cd5bdf",
   "metadata": {},
   "outputs": [
    {
     "name": "stdout",
     "output_type": "stream",
     "text": [
      "<class 'pandas.core.frame.DataFrame'>\n",
      "RangeIndex: 4058 entries, 0 to 4057\n",
      "Data columns (total 5 columns):\n",
      " #   Column             Non-Null Count  Dtype  \n",
      "---  ------             --------------  -----  \n",
      " 0   id                 4058 non-null   object \n",
      " 1   price              3315 non-null   object \n",
      " 2   avg_bill           3816 non-null   object \n",
      " 3   middle_avg_bill    3149 non-null   float64\n",
      " 4   middle_coffee_cup  535 non-null    float64\n",
      "dtypes: float64(2), object(3)\n",
      "memory usage: 158.6+ KB\n"
     ]
    }
   ],
   "source": [
    "# Выводим информацию о датафрейме\n",
    "price_df.info()"
   ]
  },
  {
   "cell_type": "markdown",
   "id": "8ad21ad3-d3c0-4fbd-b1d5-ce7d9114a2a1",
   "metadata": {},
   "source": [
    "Датасет `rest_price.csv` содержит 5 столбцов и 4058 строк, в которых представлена информация о среднем чеке в заведениях общественного питания. По аналогии с предыдущим датасетом можно отметить, что:\n",
    "\n",
    "- Типы данных соответствуют содержимому. Тип данных для столбца `avg_bill` можно будет оптимизировать, если нам понадобятся данные для рассчета из этого столбца.\n",
    "- Пропусков на первый взгляд много, они содержатся почти во всех столбцах кроме `id`. Нужно выяснить, с чем это связано и заменить или удалить их для дальнейший рассчетов. \n",
    "- Значения в столбцах соответствуют описанию.\n",
    "\n",
    "Первичное знакомство показывает, что данные хорошего качества — они соответствуют описанию и выглядят корректными, однако стоит узнать, в чем причина частых пропусков во втором датасете.\n",
    "\n",
    "Прежде чем мы пойдем дальше, нужно объединить датафреймы в один."
   ]
  },
  {
   "cell_type": "code",
   "execution_count": 8,
   "id": "f608a986-826b-49d7-b229-a8bf52f55468",
   "metadata": {},
   "outputs": [],
   "source": [
    "# Объединяем датафреймы в единый df\n",
    "df = rest_df.merge(price_df, how='left', on='id')"
   ]
  },
  {
   "cell_type": "code",
   "execution_count": 9,
   "id": "0e1877a0-679b-48ba-8cc3-e47f9b39d09b",
   "metadata": {},
   "outputs": [
    {
     "name": "stdout",
     "output_type": "stream",
     "text": [
      "<class 'pandas.core.frame.DataFrame'>\n",
      "Int64Index: 8406 entries, 0 to 8405\n",
      "Data columns (total 13 columns):\n",
      " #   Column             Non-Null Count  Dtype  \n",
      "---  ------             --------------  -----  \n",
      " 0   id                 8406 non-null   object \n",
      " 1   name               8406 non-null   object \n",
      " 2   category           8406 non-null   object \n",
      " 3   address            8406 non-null   object \n",
      " 4   district           8406 non-null   object \n",
      " 5   hours              7870 non-null   object \n",
      " 6   rating             8406 non-null   float64\n",
      " 7   chain              8406 non-null   int64  \n",
      " 8   seats              4795 non-null   float64\n",
      " 9   price              3315 non-null   object \n",
      " 10  avg_bill           3816 non-null   object \n",
      " 11  middle_avg_bill    3149 non-null   float64\n",
      " 12  middle_coffee_cup  535 non-null    float64\n",
      "dtypes: float64(4), int64(1), object(8)\n",
      "memory usage: 919.4+ KB\n"
     ]
    }
   ],
   "source": [
    "# Выводим информацию о датафрейме\n",
    "df.info()"
   ]
  },
  {
   "cell_type": "markdown",
   "id": "618c862d-e80f-4ac5-bb56-9b04f7e9e3f0",
   "metadata": {},
   "source": [
    "Данные соединены, можно приступать к следующему шагу - предоработка данных\n",
    "___"
   ]
  },
  {
   "cell_type": "markdown",
   "id": "26a2e8dd-f9c3-49ff-817d-9a3c5ca8f5ef",
   "metadata": {},
   "source": [
    "## 2. Предобработка данных\n",
    "\n",
    "### 2.1. Изучение типов данных\n",
    "\n",
    "С данными здесь работы не так много — проверим типы данных, затем изучим пропуски, возможно, они как-то влияют на их тип."
   ]
  },
  {
   "cell_type": "code",
   "execution_count": 10,
   "id": "70dfbf67-d08d-482b-bcf3-a8f59436972f",
   "metadata": {},
   "outputs": [
    {
     "data": {
      "text/html": [
       "<div>\n",
       "<style scoped>\n",
       "    .dataframe tbody tr th:only-of-type {\n",
       "        vertical-align: middle;\n",
       "    }\n",
       "\n",
       "    .dataframe tbody tr th {\n",
       "        vertical-align: top;\n",
       "    }\n",
       "\n",
       "    .dataframe thead th {\n",
       "        text-align: right;\n",
       "    }\n",
       "</style>\n",
       "<table border=\"1\" class=\"dataframe\">\n",
       "  <thead>\n",
       "    <tr style=\"text-align: right;\">\n",
       "      <th></th>\n",
       "      <th>id</th>\n",
       "      <th>name</th>\n",
       "      <th>category</th>\n",
       "      <th>address</th>\n",
       "      <th>district</th>\n",
       "      <th>hours</th>\n",
       "      <th>rating</th>\n",
       "      <th>chain</th>\n",
       "      <th>seats</th>\n",
       "      <th>price</th>\n",
       "      <th>avg_bill</th>\n",
       "      <th>middle_avg_bill</th>\n",
       "      <th>middle_coffee_cup</th>\n",
       "    </tr>\n",
       "  </thead>\n",
       "  <tbody>\n",
       "    <tr>\n",
       "      <th>0</th>\n",
       "      <td>0c3e3439a8c64ea5bf6ecd6ca6ae19f0</td>\n",
       "      <td>WoWфли</td>\n",
       "      <td>кафе</td>\n",
       "      <td>Москва, улица Дыбенко, 7/1</td>\n",
       "      <td>Северный административный округ</td>\n",
       "      <td>ежедневно, 10:00–22:00</td>\n",
       "      <td>5.0</td>\n",
       "      <td>0</td>\n",
       "      <td>NaN</td>\n",
       "      <td>NaN</td>\n",
       "      <td>NaN</td>\n",
       "      <td>NaN</td>\n",
       "      <td>NaN</td>\n",
       "    </tr>\n",
       "    <tr>\n",
       "      <th>1</th>\n",
       "      <td>045780ada3474c57a2112e505d74b633</td>\n",
       "      <td>Четыре комнаты</td>\n",
       "      <td>ресторан</td>\n",
       "      <td>Москва, улица Дыбенко, 36, корп. 1</td>\n",
       "      <td>Северный административный округ</td>\n",
       "      <td>ежедневно, 10:00–22:00</td>\n",
       "      <td>4.5</td>\n",
       "      <td>0</td>\n",
       "      <td>4.0</td>\n",
       "      <td>выше среднего</td>\n",
       "      <td>Средний счёт:1500–1600 ₽</td>\n",
       "      <td>1550.0</td>\n",
       "      <td>NaN</td>\n",
       "    </tr>\n",
       "    <tr>\n",
       "      <th>2</th>\n",
       "      <td>1070b6b59144425896c65889347fcff6</td>\n",
       "      <td>Хазри</td>\n",
       "      <td>кафе</td>\n",
       "      <td>Москва, Клязьминская улица, 15</td>\n",
       "      <td>Северный административный округ</td>\n",
       "      <td>пн-чт 11:00–02:00; пт,сб 11:00–05:00; вс 11:00...</td>\n",
       "      <td>4.6</td>\n",
       "      <td>0</td>\n",
       "      <td>45.0</td>\n",
       "      <td>средние</td>\n",
       "      <td>Средний счёт:от 1000 ₽</td>\n",
       "      <td>1000.0</td>\n",
       "      <td>NaN</td>\n",
       "    </tr>\n",
       "    <tr>\n",
       "      <th>3</th>\n",
       "      <td>03ac7cd772104f65b58b349dc59f03ee</td>\n",
       "      <td>Dormouse Coffee Shop</td>\n",
       "      <td>кофейня</td>\n",
       "      <td>Москва, улица Маршала Федоренко, 12</td>\n",
       "      <td>Северный административный округ</td>\n",
       "      <td>ежедневно, 09:00–22:00</td>\n",
       "      <td>5.0</td>\n",
       "      <td>0</td>\n",
       "      <td>NaN</td>\n",
       "      <td>NaN</td>\n",
       "      <td>Цена чашки капучино:155–185 ₽</td>\n",
       "      <td>NaN</td>\n",
       "      <td>170.0</td>\n",
       "    </tr>\n",
       "    <tr>\n",
       "      <th>4</th>\n",
       "      <td>a163aada139c4c7f87b0b1c0b466a50f</td>\n",
       "      <td>Иль Марко</td>\n",
       "      <td>пиццерия</td>\n",
       "      <td>Москва, Правобережная улица, 1Б</td>\n",
       "      <td>Северный административный округ</td>\n",
       "      <td>ежедневно, 10:00–22:00</td>\n",
       "      <td>5.0</td>\n",
       "      <td>1</td>\n",
       "      <td>148.0</td>\n",
       "      <td>средние</td>\n",
       "      <td>Средний счёт:400–600 ₽</td>\n",
       "      <td>500.0</td>\n",
       "      <td>NaN</td>\n",
       "    </tr>\n",
       "  </tbody>\n",
       "</table>\n",
       "</div>"
      ],
      "text/plain": [
       "                                 id                  name  category  \\\n",
       "0  0c3e3439a8c64ea5bf6ecd6ca6ae19f0                WoWфли      кафе   \n",
       "1  045780ada3474c57a2112e505d74b633        Четыре комнаты  ресторан   \n",
       "2  1070b6b59144425896c65889347fcff6                 Хазри      кафе   \n",
       "3  03ac7cd772104f65b58b349dc59f03ee  Dormouse Coffee Shop   кофейня   \n",
       "4  a163aada139c4c7f87b0b1c0b466a50f             Иль Марко  пиццерия   \n",
       "\n",
       "                               address                         district  \\\n",
       "0           Москва, улица Дыбенко, 7/1  Северный административный округ   \n",
       "1   Москва, улица Дыбенко, 36, корп. 1  Северный административный округ   \n",
       "2       Москва, Клязьминская улица, 15  Северный административный округ   \n",
       "3  Москва, улица Маршала Федоренко, 12  Северный административный округ   \n",
       "4      Москва, Правобережная улица, 1Б  Северный административный округ   \n",
       "\n",
       "                                               hours  rating  chain  seats  \\\n",
       "0                             ежедневно, 10:00–22:00     5.0      0    NaN   \n",
       "1                             ежедневно, 10:00–22:00     4.5      0    4.0   \n",
       "2  пн-чт 11:00–02:00; пт,сб 11:00–05:00; вс 11:00...     4.6      0   45.0   \n",
       "3                             ежедневно, 09:00–22:00     5.0      0    NaN   \n",
       "4                             ежедневно, 10:00–22:00     5.0      1  148.0   \n",
       "\n",
       "           price                       avg_bill  middle_avg_bill  \\\n",
       "0            NaN                            NaN              NaN   \n",
       "1  выше среднего       Средний счёт:1500–1600 ₽           1550.0   \n",
       "2        средние         Средний счёт:от 1000 ₽           1000.0   \n",
       "3            NaN  Цена чашки капучино:155–185 ₽              NaN   \n",
       "4        средние         Средний счёт:400–600 ₽            500.0   \n",
       "\n",
       "   middle_coffee_cup  \n",
       "0                NaN  \n",
       "1                NaN  \n",
       "2                NaN  \n",
       "3              170.0  \n",
       "4                NaN  "
      ]
     },
     "execution_count": 10,
     "metadata": {},
     "output_type": "execute_result"
    }
   ],
   "source": [
    "# Выведем данные, чтобы сравить их с типом\n",
    "df.head()"
   ]
  },
  {
   "cell_type": "code",
   "execution_count": 11,
   "id": "59dacaed-3348-48d9-9003-eed966ae7bb0",
   "metadata": {},
   "outputs": [
    {
     "name": "stdout",
     "output_type": "stream",
     "text": [
      "Типы данных до преобразования:\n",
      "id                    object\n",
      "name                  object\n",
      "category              object\n",
      "address               object\n",
      "district              object\n",
      "hours                 object\n",
      "rating               float64\n",
      "chain                  int64\n",
      "seats                float64\n",
      "price                 object\n",
      "avg_bill              object\n",
      "middle_avg_bill      float64\n",
      "middle_coffee_cup    float64\n",
      "dtype: object\n"
     ]
    }
   ],
   "source": [
    "# Проверка типов данных\n",
    "print(\"Типы данных до преобразования:\")\n",
    "print(df.dtypes)"
   ]
  },
  {
   "cell_type": "markdown",
   "id": "5eab950d-5678-4201-86ce-67cffa89c548",
   "metadata": {},
   "source": [
    "Можно заметить, что в столбце `chain` тип данных `int64`, хотя он содержит бинарный признак (0 или 1),  можно привести к `bool`:"
   ]
  },
  {
   "cell_type": "code",
   "execution_count": 12,
   "id": "5b112534-2764-4787-a719-bcc1ec28475a",
   "metadata": {},
   "outputs": [],
   "source": [
    "# приведем chain к bool\n",
    "df['chain'] = df['chain'].astype(bool)"
   ]
  },
  {
   "cell_type": "code",
   "execution_count": 13,
   "id": "595fb512-e60a-4846-bb7a-7429023d230b",
   "metadata": {},
   "outputs": [
    {
     "name": "stdout",
     "output_type": "stream",
     "text": [
      "Типы данных после преобразования:\n",
      "id                    object\n",
      "name                  object\n",
      "category              object\n",
      "address               object\n",
      "district              object\n",
      "hours                 object\n",
      "rating               float64\n",
      "chain                   bool\n",
      "seats                float64\n",
      "price                 object\n",
      "avg_bill              object\n",
      "middle_avg_bill      float64\n",
      "middle_coffee_cup    float64\n",
      "dtype: object\n"
     ]
    }
   ],
   "source": [
    "# Проверим, произошло ли преобразование\n",
    "print(\"Типы данных после преобразования:\")\n",
    "print(df.dtypes)"
   ]
  },
  {
   "cell_type": "markdown",
   "id": "af4a7e21-dd40-4bd1-b39a-c76249a9c996",
   "metadata": {},
   "source": [
    "Можно было бы также поменять тип данных в столбце `seats`, однако он содержит множество пропусков, и, скорее всего именно из-за них его тип данных `float64`, однако это не критично и мы разберемся с `seats` дальше, когда будем работать непосредственно с пропусками"
   ]
  },
  {
   "cell_type": "markdown",
   "id": "4638cda4-d34a-4bc9-b8e6-9a614685e171",
   "metadata": {},
   "source": [
    "### 2.2. Проверяем наличие пропусков в данных\n",
    "При первичном анализе мы обнаружили множество пропусков. Узнаем их абсолютное и относительное количество."
   ]
  },
  {
   "cell_type": "code",
   "execution_count": 14,
   "id": "04cbcc34-4fcb-43d2-9681-72b5a3facaa4",
   "metadata": {},
   "outputs": [
    {
     "data": {
      "text/plain": [
       "id                      0\n",
       "name                    0\n",
       "category                0\n",
       "address                 0\n",
       "district                0\n",
       "hours                 536\n",
       "rating                  0\n",
       "chain                   0\n",
       "seats                3611\n",
       "price                5091\n",
       "avg_bill             4590\n",
       "middle_avg_bill      5257\n",
       "middle_coffee_cup    7871\n",
       "dtype: int64"
      ]
     },
     "execution_count": 14,
     "metadata": {},
     "output_type": "execute_result"
    }
   ],
   "source": [
    "# Применяем метод isna() к датафрейму df\n",
    "df.isna().sum()"
   ]
  },
  {
   "cell_type": "code",
   "execution_count": 15,
   "id": "de4ea866-af59-4e66-8ba6-4597299ab801",
   "metadata": {},
   "outputs": [
    {
     "data": {
      "text/plain": [
       "middle_coffee_cup    0.936355\n",
       "middle_avg_bill      0.625387\n",
       "price                0.605639\n",
       "avg_bill             0.546039\n",
       "seats                0.429574\n",
       "hours                0.063764\n",
       "id                   0.000000\n",
       "name                 0.000000\n",
       "category             0.000000\n",
       "address              0.000000\n",
       "district             0.000000\n",
       "rating               0.000000\n",
       "chain                0.000000\n",
       "dtype: float64"
      ]
     },
     "execution_count": 15,
     "metadata": {},
     "output_type": "execute_result"
    }
   ],
   "source": [
    "# Подсчитываем долю строк с пропусками\n",
    "df.isna().mean().sort_values(ascending=False)"
   ]
  },
  {
   "cell_type": "markdown",
   "id": "ff62170e-5045-4180-a09a-11b6247be527",
   "metadata": {},
   "source": [
    "В датафрейме `df` обнаружено 1539 пропусков в столбце `seats` — это 37% данных, а также 3523 пропусков в столбце `middle_coffee_cup` - это 87%. Количество пропусков достаточно большое, чтобы их просто удалить.\n",
    "\n",
    "Пропуски в этом столбце могут быть вызваны:\n",
    "- Отсутствием информации в источнике данных\n",
    "- Ошибки при сборе или обработке данных\n",
    "- Отсуствием значения в другом столбце, от которого зависит столбец с пропусками\n",
    "\n",
    "\n",
    "Чтобы разобраться с пропусками, выведем медиану для пропусков в столбце `seats` и среднее значение для `price`, а пропуски в столбце `middle_coffee_cup` заменим другим пустым значением, потмоу что, исходя из данных, значения в этом столбце зависят от столбца `avg_bill` (Если значения нет или оно не начинается с подстроки «Цена одной чашки капучино», то в столбец ничего не войдёт), поэтому это и не пропуски вовсе, мы заменим их другим значением, с `middle_avg_bill` та же ситуация, поэтому будем делать то же самое. Для столбцов `average_bill` и `hours` удалим пропуски, их незначительное количество."
   ]
  },
  {
   "cell_type": "code",
   "execution_count": 16,
   "id": "eb619ca5-4ff3-407f-8001-5a60a1b8833a",
   "metadata": {},
   "outputs": [],
   "source": [
    "# seats: заполняем медианным значением внутри категории заведения\n",
    "df['seats'] = df.groupby('category')['seats'].transform(lambda x: x.fillna(x.median()))"
   ]
  },
  {
   "cell_type": "code",
   "execution_count": 17,
   "id": "7e72d15a-a29b-4b43-9be3-9da052d46fa8",
   "metadata": {},
   "outputs": [],
   "source": [
    "# middle_coffee_cup и middle_avg_bill: заменяем NaN на -1, так как отсутствие данных означает их отсутствие, а не пропуск\n",
    "df['middle_coffee_cup'] = df['middle_coffee_cup'].fillna(-1)\n",
    "df['middle_avg_bill'] = df['middle_avg_bill'].fillna(-1)"
   ]
  },
  {
   "cell_type": "code",
   "execution_count": 18,
   "id": "3ce56a0c-14c8-46c2-99be-78ada1f9d20a",
   "metadata": {},
   "outputs": [],
   "source": [
    "# price: заполняем средним значением\n",
    "df['price'] = df['price'].fillna(df['price'].mode()[0])"
   ]
  },
  {
   "cell_type": "code",
   "execution_count": 19,
   "id": "c6261331-77eb-4dde-8c26-a3d89992de7e",
   "metadata": {},
   "outputs": [],
   "source": [
    "# Удаление строк с пропусками в столбце 'avg_bill' и 'hours'\n",
    "df.dropna(subset=['avg_bill'], inplace=True)\n",
    "df.dropna(subset=['hours'], inplace=True)"
   ]
  },
  {
   "cell_type": "code",
   "execution_count": 20,
   "id": "5ecf17f9-f256-4776-9efc-b669a96c5704",
   "metadata": {},
   "outputs": [
    {
     "data": {
      "text/plain": [
       "id                   0\n",
       "name                 0\n",
       "category             0\n",
       "address              0\n",
       "district             0\n",
       "hours                0\n",
       "rating               0\n",
       "chain                0\n",
       "seats                0\n",
       "price                0\n",
       "avg_bill             0\n",
       "middle_avg_bill      0\n",
       "middle_coffee_cup    0\n",
       "dtype: int64"
      ]
     },
     "execution_count": 20,
     "metadata": {},
     "output_type": "execute_result"
    }
   ],
   "source": [
    "# Проверяем выполненную работу\n",
    "df.isna().sum()"
   ]
  },
  {
   "cell_type": "markdown",
   "id": "ccb614d7-8900-4fc3-a695-133c68d2a38c",
   "metadata": {},
   "source": [
    "### 2.3. Проверяем наличие явных и неявных дубликатов в данных\n",
    "Проверим данные на наличие явных и неявных дубликатов. Начнём с полных дубликатов.\n",
    "Для начала ормализуем данные в текстовых столбцах."
   ]
  },
  {
   "cell_type": "code",
   "execution_count": 21,
   "id": "8f634fe8-e996-4f69-b3b1-61e5fb74f22c",
   "metadata": {},
   "outputs": [],
   "source": [
    "import re\n",
    "\n",
    "def normalize_text(text):\n",
    "    if pd.isna(text):  # Проверяем, что текст не пустой\n",
    "        return text\n",
    "    text = text.lower().strip()  # Приводим к нижнему регистру и убираем пробелы по краям\n",
    "    text = re.sub(r'\\s+', ' ', text)  # Убираем лишние пробелы между словами\n",
    "    text = re.sub(r'[^\\w\\s]', '', text)  # Убираем знаки препинания\n",
    "    text = text.replace('ё', 'е')  # Приводим \"ё\" к \"е\" для унификации\n",
    "    return text\n",
    "\n",
    "# Применяем к столбцу \"name\"\n",
    "df['name'] = df['name'].apply(normalize_text)\n"
   ]
  },
  {
   "cell_type": "code",
   "execution_count": 22,
   "id": "0d025be8-0d44-41b6-b895-c54f7262ac42",
   "metadata": {},
   "outputs": [
    {
     "data": {
      "text/plain": [
       "0"
      ]
     },
     "execution_count": 22,
     "metadata": {},
     "output_type": "execute_result"
    }
   ],
   "source": [
    "# Проверяем полные дубликаты\n",
    "df.duplicated().sum()"
   ]
  },
  {
   "cell_type": "markdown",
   "id": "a3f20e87-e80c-4b03-ad0c-2cbe44b3b7da",
   "metadata": {},
   "source": [
    "В датафреймах нет полных дубликатов строк. Проверим неявные дубликаты — значения по названию и адресу заведения"
   ]
  },
  {
   "cell_type": "code",
   "execution_count": 23,
   "id": "4a4d730e-1b21-40d0-8322-97069e73c82b",
   "metadata": {},
   "outputs": [
    {
     "data": {
      "text/plain": [
       "0"
      ]
     },
     "execution_count": 23,
     "metadata": {},
     "output_type": "execute_result"
    }
   ],
   "source": [
    "# Проверяем неявные дубликаты\n",
    "df.duplicated(subset=['name','address']).sum()"
   ]
  },
  {
   "cell_type": "markdown",
   "id": "d909891b-1462-4c70-85a7-0119cd4b22a3",
   "metadata": {},
   "source": [
    "Неявных дубликатов тоже нет. \n"
   ]
  },
  {
   "cell_type": "markdown",
   "id": "68c6cdde-069c-4e7c-ba9e-6a16d0ab0a91",
   "metadata": {},
   "source": [
    "### 2.4. Выделяем новые столбцы\n",
    "Для дальнейшей работы выделим новые столбцы:\n",
    "- Столбец is_24_7 с обозначением того, что заведение работает ежедневно и круглосуточно, то есть 24/7:\n",
    "  - логическое значение True — если заведение работает ежедневно и круглосуточно;\n",
    "  - логическое значение False — в противоположном случае."
   ]
  },
  {
   "cell_type": "code",
   "execution_count": 24,
   "id": "5edd431d-d747-4eca-b787-7a6ed33cf1ad",
   "metadata": {},
   "outputs": [
    {
     "data": {
      "text/html": [
       "<div>\n",
       "<style scoped>\n",
       "    .dataframe tbody tr th:only-of-type {\n",
       "        vertical-align: middle;\n",
       "    }\n",
       "\n",
       "    .dataframe tbody tr th {\n",
       "        vertical-align: top;\n",
       "    }\n",
       "\n",
       "    .dataframe thead th {\n",
       "        text-align: right;\n",
       "    }\n",
       "</style>\n",
       "<table border=\"1\" class=\"dataframe\">\n",
       "  <thead>\n",
       "    <tr style=\"text-align: right;\">\n",
       "      <th></th>\n",
       "      <th>hours</th>\n",
       "      <th>is_24_7</th>\n",
       "    </tr>\n",
       "  </thead>\n",
       "  <tbody>\n",
       "    <tr>\n",
       "      <th>1</th>\n",
       "      <td>ежедневно, 10:00–22:00</td>\n",
       "      <td>False</td>\n",
       "    </tr>\n",
       "    <tr>\n",
       "      <th>2</th>\n",
       "      <td>пн-чт 11:00–02:00; пт,сб 11:00–05:00; вс 11:00...</td>\n",
       "      <td>False</td>\n",
       "    </tr>\n",
       "    <tr>\n",
       "      <th>3</th>\n",
       "      <td>ежедневно, 09:00–22:00</td>\n",
       "      <td>False</td>\n",
       "    </tr>\n",
       "    <tr>\n",
       "      <th>4</th>\n",
       "      <td>ежедневно, 10:00–22:00</td>\n",
       "      <td>False</td>\n",
       "    </tr>\n",
       "    <tr>\n",
       "      <th>6</th>\n",
       "      <td>пн 15:00–04:00; вт-вс 15:00–05:00</td>\n",
       "      <td>False</td>\n",
       "    </tr>\n",
       "    <tr>\n",
       "      <th>7</th>\n",
       "      <td>пн-чт 10:00–22:00; пт,сб 10:00–23:00; вс 10:00...</td>\n",
       "      <td>False</td>\n",
       "    </tr>\n",
       "    <tr>\n",
       "      <th>8</th>\n",
       "      <td>ежедневно, 10:00–22:00</td>\n",
       "      <td>False</td>\n",
       "    </tr>\n",
       "    <tr>\n",
       "      <th>9</th>\n",
       "      <td>ежедневно, 12:00–00:00</td>\n",
       "      <td>False</td>\n",
       "    </tr>\n",
       "    <tr>\n",
       "      <th>10</th>\n",
       "      <td>ежедневно, круглосуточно</td>\n",
       "      <td>True</td>\n",
       "    </tr>\n",
       "    <tr>\n",
       "      <th>12</th>\n",
       "      <td>вт-сб 09:00–18:00</td>\n",
       "      <td>False</td>\n",
       "    </tr>\n",
       "    <tr>\n",
       "      <th>14</th>\n",
       "      <td>ежедневно, 13:00–00:00</td>\n",
       "      <td>False</td>\n",
       "    </tr>\n",
       "  </tbody>\n",
       "</table>\n",
       "</div>"
      ],
      "text/plain": [
       "                                                hours  is_24_7\n",
       "1                              ежедневно, 10:00–22:00    False\n",
       "2   пн-чт 11:00–02:00; пт,сб 11:00–05:00; вс 11:00...    False\n",
       "3                              ежедневно, 09:00–22:00    False\n",
       "4                              ежедневно, 10:00–22:00    False\n",
       "6                   пн 15:00–04:00; вт-вс 15:00–05:00    False\n",
       "7   пн-чт 10:00–22:00; пт,сб 10:00–23:00; вс 10:00...    False\n",
       "8                              ежедневно, 10:00–22:00    False\n",
       "9                              ежедневно, 12:00–00:00    False\n",
       "10                           ежедневно, круглосуточно     True\n",
       "12                                  вт-сб 09:00–18:00    False\n",
       "14                             ежедневно, 13:00–00:00    False"
      ]
     },
     "metadata": {},
     "output_type": "display_data"
    }
   ],
   "source": [
    "# Находим строки, содержащие оба слова 'ежедневно\" и 'круглосуточно' и создаём столбец 'is_24_7'\n",
    "df['is_24_7'] = df['hours'].str.contains('ежедневно', case=False, na=False) & \\\n",
    "    df['hours'].str.contains('круглосуточно', case=False, na=False)\n",
    "\n",
    "display (df[['hours', 'is_24_7']].head (11))"
   ]
  },
  {
   "cell_type": "markdown",
   "id": "f84c336e-ec2f-4669-afcf-cc697762c687",
   "metadata": {},
   "source": [
    "### 2.5. Промежуточный вывод\n",
    "В результате предобработки данных были выполнены следующие действия:\n",
    "\n",
    "- Изучены пропуски в данных. Пропуски обнаружились во многих столбцах, в трех из которых они составляли большую долю. Учитывая это количество, мы заменили пропуски на другие значения. В столбцах, где пропуски занимали незначительную часть, мы их удалили.\n",
    "- Данные проверили на явные и неявные дубликаты — в данных их нет.\n",
    "- Добавили столбец is_24_7 с обозначением того, что заведение работает ежедневно и круглосуточно, то есть 24/7.\n",
    "\n",
    "---"
   ]
  },
  {
   "cell_type": "markdown",
   "id": "41e6670f-63a0-4b26-9789-982325f6fe81",
   "metadata": {},
   "source": [
    "## 3. Исследовательский анализ данных\n",
    "\n",
    "Для выполнения анализа данных ответим на вопросы:"
   ]
  },
  {
   "cell_type": "markdown",
   "id": "5fe4f877-499b-4a19-996b-39cc28adf8e3",
   "metadata": {},
   "source": [
    "### 3.1 Задача 1\n",
    "Какие категории заведений представлены в данных? Исследуйте количество объектов общественного питания по каждой категории. Результат сопроводите подходящей визуализацией."
   ]
  },
  {
   "cell_type": "code",
   "execution_count": 25,
   "id": "bb5f60bd-fb69-4f3c-af37-57b57c721002",
   "metadata": {},
   "outputs": [
    {
     "name": "stdout",
     "output_type": "stream",
     "text": [
      "ресторан           1040\n",
      "кофейня             720\n",
      "кафе                693\n",
      "бар,паб             484\n",
      "пиццерия            400\n",
      "быстрое питание     237\n",
      "столовая            181\n",
      "булочная             53\n",
      "Name: category, dtype: int64\n"
     ]
    }
   ],
   "source": [
    "# Подсчёт количества заведений в каждой категории\n",
    "category_counts = df['category'].value_counts()\n",
    "\n",
    "# Выведем таблицу\n",
    "print(category_counts)"
   ]
  },
  {
   "cell_type": "code",
   "execution_count": 26,
   "id": "59512e89-e7c5-444f-8d2c-66650db406b8",
   "metadata": {},
   "outputs": [
    {
     "data": {
      "image/png": "[encoded data removed]",
      "text/plain": [
       "<Figure size 864x432 with 1 Axes>"
      ]
     },
     "metadata": {
      "needs_background": "light"
     },
     "output_type": "display_data"
    }
   ],
   "source": [
    "# Сделаем диаграмму\n",
    "plt.figure(figsize=(12, 6))\n",
    "sns.barplot(x=category_counts.values, y=category_counts.index)\n",
    "\n",
    "plt.xlabel(\"Количество заведений\")\n",
    "plt.ylabel(\"Категория\")\n",
    "plt.title(\"Распределение заведений по категориям\")\n",
    "plt.show()"
   ]
  },
  {
   "cell_type": "markdown",
   "id": "f9861f69-ee26-4221-b1e1-c8a4ff781815",
   "metadata": {},
   "source": [
    "На диаграмме можно с легкостью заметить, что ресторан - категория номер 1 среди заведений. За ней идут кофейня и кафе, занимая почти равнве позиции."
   ]
  },
  {
   "cell_type": "markdown",
   "id": "5872b8aa-0db8-4602-b067-245b41cba79c",
   "metadata": {},
   "source": [
    "### 3.2 Задача 2\n",
    "Какие административные районы Москвы присутствуют в данных? Исследуйте распределение количества заведений по административным районам Москвы, а также отдельно распределение заведений каждой категории в Центральном административном округе Москвы. Результат сопроводите подходящими визуализациями."
   ]
  },
  {
   "cell_type": "code",
   "execution_count": 27,
   "id": "0592634d-6779-4c74-acdf-4b51bd17ecdd",
   "metadata": {},
   "outputs": [
    {
     "name": "stdout",
     "output_type": "stream",
     "text": [
      "['Северный административный округ'\n",
      " 'Северо-Восточный административный округ'\n",
      " 'Северо-Западный административный округ'\n",
      " 'Западный административный округ' 'Центральный административный округ'\n",
      " 'Восточный административный округ' 'Юго-Восточный административный округ'\n",
      " 'Южный административный округ' 'Юго-Западный административный округ']\n"
     ]
    }
   ],
   "source": [
    "# Выведем список уникальных административных районов Москвы\n",
    "districts = df['district'].unique()\n",
    "print(districts)"
   ]
  },
  {
   "cell_type": "code",
   "execution_count": 28,
   "id": "11d512b0-655b-43a5-afa9-afddf5333c55",
   "metadata": {},
   "outputs": [
    {
     "name": "stdout",
     "output_type": "stream",
     "text": [
      "Центральный административный округ         1288\n",
      "Северный административный округ             413\n",
      "Южный административный округ                372\n",
      "Северо-Восточный административный округ     368\n",
      "Западный административный округ             360\n",
      "Восточный административный округ            310\n",
      "Юго-Западный административный округ         276\n",
      "Юго-Восточный административный округ        236\n",
      "Северо-Западный административный округ      185\n",
      "Name: district, dtype: int64\n"
     ]
    }
   ],
   "source": [
    "# Подсчёт количества заведений в каждом районе\n",
    "district_counts = df['district'].value_counts()\n",
    "\n",
    "print(district_counts)"
   ]
  },
  {
   "cell_type": "code",
   "execution_count": 29,
   "id": "a0acdc26-a9e8-473e-89be-2ec7ce884fda",
   "metadata": {},
   "outputs": [
    {
     "data": {
      "image/png": "[encoded data removed]",
      "text/plain": [
       "<Figure size 864x432 with 1 Axes>"
      ]
     },
     "metadata": {
      "needs_background": "light"
     },
     "output_type": "display_data"
    }
   ],
   "source": [
    "plt.figure(figsize=(12, 6))\n",
    "sns.barplot(x=district_counts.index, y=district_counts.values)\n",
    "\n",
    "plt.xlabel(\"Административный район\")\n",
    "plt.ylabel(\"Количество заведений\")\n",
    "plt.title(\"Распределение заведений по административным районам Москвы\")\n",
    "plt.xticks(rotation=45)  # Поворачиваем подписи для удобства\n",
    "plt.show()"
   ]
  },
  {
   "cell_type": "code",
   "execution_count": 30,
   "id": "df1fe539-b173-4df8-bea6-af33f0f7c1a7",
   "metadata": {},
   "outputs": [
    {
     "name": "stdout",
     "output_type": "stream",
     "text": [
      "ресторан           406\n",
      "кофейня            246\n",
      "бар,паб            243\n",
      "кафе               208\n",
      "пиццерия            81\n",
      "быстрое питание     48\n",
      "столовая            44\n",
      "булочная            12\n",
      "Name: category, dtype: int64\n"
     ]
    }
   ],
   "source": [
    "# Фильтруем данные по Центральному административному округу\n",
    "df_cao = df[df['district'] == 'Центральный административный округ']\n",
    "\n",
    "# Подсчёт количества заведений в каждой категории в ЦАО\n",
    "category_counts_cao = df_cao['category'].value_counts()\n",
    "\n",
    "print(category_counts_cao)"
   ]
  },
  {
   "cell_type": "code",
   "execution_count": 31,
   "id": "78e0196f-0a7e-47e5-8314-ea35bedbe7e7",
   "metadata": {},
   "outputs": [
    {
     "data": {
      "image/png": "[encoded data removed]",
      "text/plain": [
       "<Figure size 864x432 with 1 Axes>"
      ]
     },
     "metadata": {
      "needs_background": "light"
     },
     "output_type": "display_data"
    }
   ],
   "source": [
    "plt.figure(figsize=(12, 6))\n",
    "sns.barplot(y=category_counts_cao.index, x=category_counts_cao.values)\n",
    "\n",
    "plt.xlabel(\"Количество заведений\")\n",
    "plt.ylabel(\"Категория\")\n",
    "plt.title(\"Распределение заведений по категориям в ЦАО Москвы\")\n",
    "plt.show()"
   ]
  },
  {
   "cell_type": "markdown",
   "id": "7704c2b0-aeec-4562-b777-2c4e809fe96c",
   "metadata": {},
   "source": [
    "В ходе анализа мы увидели, что ЦАО - самый популярный район для заведений общетсвенного питания. Самая популярная категория заведений в ЦАО все так же остается ресторан. Однако нужно отметить, что на третьем месте теперь не кафе, а бар, паб. Это может значить, что в ЦАО больше любят отдохнуть в вечернее время или по выходным, а также выпить что-то алкогольное."
   ]
  },
  {
   "cell_type": "markdown",
   "id": "1d023c60-0d3c-4af9-986e-973335749ddc",
   "metadata": {},
   "source": [
    "### 3.3 Задача 3\n",
    "Изучите соотношение сетевых и несетевых заведений в целом по всем данным и в разрезе категорий заведения. Каких заведений больше — сетевых или несетевых? Какие категории заведений чаще являются сетевыми? Исследуйте данные, ответьте на вопросы и постройте необходимые визуализации."
   ]
  },
  {
   "cell_type": "code",
   "execution_count": 32,
   "id": "9bddbc58-11be-4504-91d0-11cc0b3bf1f4",
   "metadata": {},
   "outputs": [
    {
     "data": {
      "image/png": "[encoded data removed]",
      "text/plain": [
       "<Figure size 432x432 with 1 Axes>"
      ]
     },
     "metadata": {},
     "output_type": "display_data"
    }
   ],
   "source": [
    "# Подсчет долей сетевых и несетевых заведений\n",
    "chain_proportions = df['chain'].value_counts(normalize=True) * 100\n",
    "\n",
    "# Визуализация круговой диаграммой\n",
    "plt.figure(figsize=(6, 6))\n",
    "chain_proportions.plot(kind=\"pie\", autopct=\"%1.1f%%\", labels=['Несетевые', 'Сетевые'])\n",
    "\n",
    "plt.title(\"Доля сетевых и несетевых заведений\")\n",
    "plt.ylabel(\"\")\n",
    "plt.show()"
   ]
  },
  {
   "cell_type": "code",
   "execution_count": 33,
   "id": "1cda2607-be4b-4b0f-9f6f-8d2980fd09f1",
   "metadata": {},
   "outputs": [
    {
     "name": "stdout",
     "output_type": "stream",
     "text": [
      "                 Несетевые    Сетевые\n",
      "category                             \n",
      "бар,паб          77.685950  22.314050\n",
      "булочная         62.264151  37.735849\n",
      "быстрое питание  56.540084  43.459916\n",
      "кафе             62.626263  37.373737\n",
      "кофейня          51.388889  48.611111\n",
      "пиццерия         43.750000  56.250000\n",
      "ресторан         66.923077  33.076923\n",
      "столовая         69.613260  30.386740\n"
     ]
    }
   ],
   "source": [
    "# Группируем данные по категории и признаку chain\n",
    "category_chain_proportions = df.groupby('category')['chain'].value_counts(normalize=True).unstack(fill_value=0) * 100\n",
    "\n",
    "# Переименовываем столбцы для удобства\n",
    "category_chain_proportions.columns = ['Несетевые', 'Сетевые']\n",
    "\n",
    "# Выведем таблицу с данными\n",
    "print(category_chain_proportions)"
   ]
  },
  {
   "cell_type": "code",
   "execution_count": 34,
   "id": "4eb58dba-c06a-4930-8e35-4624ddb23d2f",
   "metadata": {},
   "outputs": [
    {
     "data": {
      "image/png": "[encoded data removed]",
      "text/plain": [
       "<Figure size 864x432 with 1 Axes>"
      ]
     },
     "metadata": {
      "needs_background": "light"
     },
     "output_type": "display_data"
    }
   ],
   "source": [
    "# Построим график\n",
    "category_chain_proportions.sort_values(by='Сетевые', ascending=False).plot(\n",
    "    kind='barh', stacked=True, figsize=(12, 6))\n",
    "\n",
    "plt.xlabel(\"Доля заведений (%)\")\n",
    "plt.ylabel(\"Категория\")\n",
    "plt.title(\"Доля сетевых и несетевых заведений по категориям\")\n",
    "plt.legend([\"Несетевые\", \"Сетевые\"])\n",
    "plt.show()"
   ]
  },
  {
   "cell_type": "markdown",
   "id": "ef083c6b-cdb2-486c-9232-7d97e89f3712",
   "metadata": {},
   "source": [
    "- По всем данным несетевых заведений больше - они составляют 61,6%\n",
    "- В разрезе категорий заведения несетевые заведения также лидируют\n",
    "- В категориях \"пиццерия\" и \"кофейня\" данные уходят в значение 50/50, что говорит о том, что эти заведения намного чаще являются сетевыми"
   ]
  },
  {
   "cell_type": "markdown",
   "id": "5073187e-37ff-4f48-a99d-a59dc8ce12cb",
   "metadata": {},
   "source": [
    "### 3.4 Задача 4\n",
    "Исследуйте количество посадочных мест в заведениях. Встречаются ли в данных аномальные значения или выбросы? Если да, то с чем они могут быть связаны? Приведите для каждой категории заведений наиболее типичное для него количество посадочных мест. Результат сопроводите подходящими визуализациями."
   ]
  },
  {
   "cell_type": "code",
   "execution_count": 35,
   "id": "f0dd8972-d8b6-4722-8503-5151ee6e4f6c",
   "metadata": {},
   "outputs": [
    {
     "name": "stdout",
     "output_type": "stream",
     "text": [
      "count    3808.000000\n",
      "mean       96.977022\n",
      "std        93.710463\n",
      "min         0.000000\n",
      "25%        55.000000\n",
      "50%        80.000000\n",
      "75%        95.000000\n",
      "max      1288.000000\n",
      "Name: seats, dtype: float64\n",
      "                                    id                        name  \\\n",
      "84    3793bd736bbb4dd08f734d53bfa57b24            meat doner kebab   \n",
      "306   6453f9dbe2e84457851a9f7a4b3a267d              everest coffee   \n",
      "424   074abbda7c9a47f29a6cbb394230657b                    паб 2813   \n",
      "519   a15c0ce652ec4fe9916dad97ce1ee330                      шаурма   \n",
      "521   ea7ade6597774dc9ac7d3c846c8faeb9                     рандеву   \n",
      "846   87d2d392a79842089b5116471290eee0               доминос пицца   \n",
      "1183  6698eacd72ab45b59c02b9a622aabd34           сладкая параллель   \n",
      "1187  247be910acbd4a238ef7971045cc11fd            рожь хлеб и кофе   \n",
      "1232  ee0cdda49fff40deab1cfa6a740c5602                    афросиаб   \n",
      "1623  d78740a2acc548d197a061af785fa209                        icup   \n",
      "2323  8e8c0caf170e48d4b688ef1d9d9850e0                9 bar coffee   \n",
      "2610  d3745e858e304c6e8de4e6989f6e47f8               street coffee   \n",
      "2631  795d7c6720b349e88bca2da298c45255                      о фобо   \n",
      "2744  c78d785c19be4be787853b2224ef3d54                      намшон   \n",
      "2780  bb2c1cc82b1f4a3f91f9cb27252de303               пицца и гирос   \n",
      "2906  b1ad1e0c70204b24ac8724b14119a6d0                кофе с собой   \n",
      "3204  4899711968d54396acb580985997b8c8                     органик   \n",
      "3287  08d2052ae2d942df948dc3699dadbc42            здоровое питание   \n",
      "4530  0a963ee8efda452397a36113f98d8339                 andy coffee   \n",
      "4841  081f89d9a93a4de492c0ffbfd4dccceb                     моремэй   \n",
      "5345  f578f28d661c4f47bde188ad4475d5da                   кинопицца   \n",
      "5410  cfa223de32294b84bfbcf4e6edd493f0                    sugarbey   \n",
      "5920  969c9bdbbcd54ef494edbe935d335f80                     таманно   \n",
      "6075  f2b4286d93e44faca1aae14540dff13d       столовая на шаболовке   \n",
      "6172  b586342dc7604480895e52262f699dbf                  кулинариум   \n",
      "6846  18b6db85eb4b4ceb9ea762613de1df5e                 пицца паоло   \n",
      "6989  2adf2b3121c642b89bd7f0093d29988e                     брокофе   \n",
      "7074  244a91b88aea434d861633039807cdd1              лайфхакер кофе   \n",
      "7259  669bc28d6683401ba43dc6078f6f970a                 пицца паоло   \n",
      "7266  6ff3af48decd4eca853b188a3ec20b7e                   шашлыкоff   \n",
      "7283  14f8b9b7215f499daa9a6186c4f59ebb                          bổ   \n",
      "7306  6564ccca7bb445c483d04f595da2231d               mannys burger   \n",
      "7321  f94c97e78e384e739eef263bad8a58d5              адыгская кухня   \n",
      "7340  db471b750a6a47e9be6480cf8f172b3e               take and wake   \n",
      "7360  16186a0efe4d4f988af3c89513c43da7                   иссыккуль   \n",
      "7387  944f455ebc004f9d9408b6a4e4ebba5f             крошка картошка   \n",
      "7403  ff7112ea39b045b2b3f3f617d4fd6236                  додо пицца   \n",
      "7465  32dcd264248345cf9bf96fb17fee9476                      сладко   \n",
      "7613  b96cdcf1add148f8b62fe3efe554c48f             чайхана ташкент   \n",
      "7657  50916a2ff89e48bca5ca4bbde11c6dd4         кафе халяль плов  1   \n",
      "7793  619a1c7b760e4f9eae41573a7a525342                      bravos   \n",
      "7838  a12f0496e28a4e999eff9f6bd00cd840                 пицца паоло   \n",
      "7915  36d2f53350334270a6f50773b52c5fc3                     куманек   \n",
      "8172  b1f7555a82a34a0fb7c42f0818addd99                  масса кофе   \n",
      "8336  595fefac108748ae9d158d93cf376c70  сочная шаурма в кузьминках   \n",
      "8362  6b613565645e4c05a70ddd7d2badd502                      достор   \n",
      "\n",
      "             category                                          address  \\\n",
      "84           булочная                        Москва, улица Лескова, 22   \n",
      "306           кофейня                    Москва, Сходненская улица, 50   \n",
      "424           бар,паб         Москва, проезд Стратонавтов, 11, корп. 1   \n",
      "519              кафе                     Москва, Туристская улица, 11   \n",
      "521              кафе          Москва, проезд Стратонавтов, 12, стр. 1   \n",
      "846          пиццерия                       Москва, Отрадная улица, 16   \n",
      "1183         пиццерия                     Москва, Таллинская улица, 26   \n",
      "1187          кофейня      Москва, улица Маршала Катукова, 24, корп. 1   \n",
      "1232             кафе                Москва, улица Маршала Катукова, 1   \n",
      "1623          кофейня                      Москва, Бутырская улица, 97   \n",
      "2323          кофейня                  Москва, Стромынский переулок, 4   \n",
      "2610          кофейня                  Москва, Первомайская улица, 105   \n",
      "2631             кафе        Москва, Семёновская площадь, 7, корп. 17А   \n",
      "2744         ресторан        Москва, Семёновская площадь, 7, корп. 17А   \n",
      "2780         пиццерия        Москва, Семёновская площадь, 7, корп. 17А   \n",
      "2906             кафе                   Москва, Сиреневый бульвар, 64А   \n",
      "3204         пиццерия             Москва, Карамышевская набережная, 34   \n",
      "3287         столовая                Москва, 1-й Силикатный проезд, 13   \n",
      "4530          кофейня          Москва, Новорязанская улица, 18, стр. 2   \n",
      "4841          кофейня                  Москва, Абельмановская улица, 7   \n",
      "5345         ресторан                   Москва, Мартеновская улица, 25   \n",
      "5410         ресторан              Москва, Красноказарменная улица, 23   \n",
      "5920         ресторан           Москва, улица Орджоникидзе, 12, стр. 4   \n",
      "6075         столовая                      Москва, улица Шаболовка, 20   \n",
      "6172         булочная              Москва, Ломоносовский проспект, 19А   \n",
      "6846         пиццерия                   Москва, Профсоюзная улица, 109   \n",
      "6989          кофейня                       Москва, улица Вавилова, 97   \n",
      "7074             кафе        Москва, Электролитный проезд, 16, корп. 1   \n",
      "7259         пиццерия           Москва, Коломенская улица, 19, корп. 2   \n",
      "7266          бар,паб                       Москва, Поречная улица, 10   \n",
      "7283  быстрое питание                   Москва, Мячковский бульвар, 3А   \n",
      "7306          бар,паб                   Москва, Мячковский бульвар, 3А   \n",
      "7321             кафе                   Москва, Мячковский бульвар, 3А   \n",
      "7340          кофейня                       Москва, Поречная улица, 10   \n",
      "7360             кафе  Москва, улица Верхние Поля, 11, корп. 1, стр. 3   \n",
      "7387  быстрое питание                       Москва, Поречная улица, 10   \n",
      "7403         пиццерия                    Москва, Паромная улица, 11/31   \n",
      "7465         булочная      Москва, Новочеркасский бульвар, 10, корп. 1   \n",
      "7613         ресторан                    Москва, Варшавское шоссе, 143   \n",
      "7657             кафе                       Москва, Дорожная улица, 30   \n",
      "7793          кофейня                  Москва, Домодедовская улица, 28   \n",
      "7838         пиццерия                       Москва, Медынская улица, 7   \n",
      "7915          кофейня                     Москва, Ореховый бульвар, 15   \n",
      "8172          кофейня                  Москва, Холодильный переулок, 2   \n",
      "8336  быстрое питание              Москва, Волгоградский проспект, 102   \n",
      "8362             кафе                   Москва, Вешняковская улица, 43   \n",
      "\n",
      "                                     district  \\\n",
      "84    Северо-Восточный административный округ   \n",
      "306    Северо-Западный административный округ   \n",
      "424    Северо-Западный административный округ   \n",
      "519    Северо-Западный административный округ   \n",
      "521    Северо-Западный административный округ   \n",
      "846   Северо-Восточный административный округ   \n",
      "1183   Северо-Западный административный округ   \n",
      "1187   Северо-Западный административный округ   \n",
      "1232   Северо-Западный административный округ   \n",
      "1623          Северный административный округ   \n",
      "2323         Восточный административный округ   \n",
      "2610         Восточный административный округ   \n",
      "2631         Восточный административный округ   \n",
      "2744         Восточный административный округ   \n",
      "2780         Восточный административный округ   \n",
      "2906         Восточный административный округ   \n",
      "3204   Северо-Западный административный округ   \n",
      "3287   Северо-Западный административный округ   \n",
      "4530       Центральный административный округ   \n",
      "4841       Центральный административный округ   \n",
      "5345         Восточный административный округ   \n",
      "5410     Юго-Восточный административный округ   \n",
      "5920             Южный административный округ   \n",
      "6075       Центральный административный округ   \n",
      "6172      Юго-Западный административный округ   \n",
      "6846      Юго-Западный административный округ   \n",
      "6989      Юго-Западный административный округ   \n",
      "7074             Южный административный округ   \n",
      "7259             Южный административный округ   \n",
      "7266     Юго-Восточный административный округ   \n",
      "7283     Юго-Восточный административный округ   \n",
      "7306     Юго-Восточный административный округ   \n",
      "7321     Юго-Восточный административный округ   \n",
      "7340     Юго-Восточный административный округ   \n",
      "7360     Юго-Восточный административный округ   \n",
      "7387     Юго-Восточный административный округ   \n",
      "7403             Южный административный округ   \n",
      "7465     Юго-Восточный административный округ   \n",
      "7613             Южный административный округ   \n",
      "7657             Южный административный округ   \n",
      "7793             Южный административный округ   \n",
      "7838             Южный административный округ   \n",
      "7915             Южный административный округ   \n",
      "8172             Южный административный округ   \n",
      "8336     Юго-Восточный административный округ   \n",
      "8362         Восточный административный округ   \n",
      "\n",
      "                                                  hours  rating  chain  seats  \\\n",
      "84                             ежедневно, круглосуточно     4.5  False    0.0   \n",
      "306   пн-чт 08:00–22:00; пт 08:00–23:00; сб,вс 09:00...     4.9  False    0.0   \n",
      "424                пн-пт 12:00–00:00; сб,вс 13:00–02:00     4.8  False    0.0   \n",
      "519                            ежедневно, круглосуточно     4.0  False    0.0   \n",
      "521                              ежедневно, 11:00–00:00     4.0   True    0.0   \n",
      "846                пн-пт 11:00–22:00; сб,вс 10:00–22:00     4.2   True    0.0   \n",
      "1183               пн-пт 08:00–21:00; сб,вс 09:00–21:00     4.4  False    0.0   \n",
      "1187               пн-пт 08:00–21:00; сб,вс 09:00–21:00     4.5  False    0.0   \n",
      "1232                             ежедневно, 11:00–00:00     3.9  False    0.0   \n",
      "1623                             ежедневно, 07:00–21:00     5.0   True    0.0   \n",
      "2323               пн-пт 08:00–20:00; сб,вс 08:00–18:00     4.3   True    0.0   \n",
      "2610                  пн-сб 08:00–22:00; вс 09:00–22:00     4.6  False    0.0   \n",
      "2631               пн-пт 11:00–22:00; сб,вс 12:00–22:00     4.8  False    0.0   \n",
      "2744                             ежедневно, 10:00–23:00     4.4  False    0.0   \n",
      "2780                           ежедневно, круглосуточно     4.3  False    0.0   \n",
      "2906                           ежедневно, круглосуточно     3.5   True    0.0   \n",
      "3204                             ежедневно, 10:00–22:30     4.3  False    0.0   \n",
      "3287                  пн-пт 09:00–18:00; сб 09:00–17:00     4.2  False    0.0   \n",
      "4530                                  пн-пт 08:00–18:00     4.4  False    0.0   \n",
      "4841                             ежедневно, 09:00–23:00     4.9  False    0.0   \n",
      "5345                             ежедневно, 10:00–22:00     4.4  False    0.0   \n",
      "5410               пн-пт 09:00–23:00; сб,вс 11:00–23:00     4.4  False    0.0   \n",
      "5920                             ежедневно, 09:00–00:00     4.4  False    0.0   \n",
      "6075                                  пн-пт 11:00–19:00     4.6  False    0.0   \n",
      "6172               пн-пт 09:00–22:00; сб,вс 09:00–21:00     4.1   True    0.0   \n",
      "6846                             ежедневно, 11:00–23:00     3.7   True    0.0   \n",
      "6989               пн-пт 08:00–20:00; сб,вс 09:00–20:00     4.1  False    0.0   \n",
      "7074                             ежедневно, 09:00–21:00     4.8  False    0.0   \n",
      "7259                                  вт-вс 10:30–22:00     3.7   True    0.0   \n",
      "7266  пн-чт 10:00–00:00; пт,сб 10:00–03:00; вс 10:00...     4.4   True    0.0   \n",
      "7283                             ежедневно, 10:00–22:00     4.7   True    0.0   \n",
      "7306                             ежедневно, 10:00–22:00     4.7   True    0.0   \n",
      "7321                             ежедневно, 11:00–20:00     4.3  False    0.0   \n",
      "7340                             ежедневно, 10:00–22:00     4.2   True    0.0   \n",
      "7360                             ежедневно, 09:00–23:00     4.2  False    0.0   \n",
      "7387                             ежедневно, 10:00–22:00     1.6   True    0.0   \n",
      "7403                             ежедневно, 10:00–22:30     4.3   True    0.0   \n",
      "7465                  пн-пт 10:00–20:00; сб 10:00–18:00     3.9  False    0.0   \n",
      "7613                           ежедневно, круглосуточно     4.2   True    0.0   \n",
      "7657                             ежедневно, 09:00–00:00     4.1  False    0.0   \n",
      "7793               пн-пт 08:00–22:00; сб,вс 10:00–22:00     4.9  False    0.0   \n",
      "7838                             ежедневно, 11:00–23:00     4.1   True    0.0   \n",
      "7915                             ежедневно, 10:00–22:00     4.0  False    0.0   \n",
      "8172               пн-пт 08:00–20:00; сб,вс 09:00–20:00     4.3  False    0.0   \n",
      "8336                           ежедневно, круглосуточно     3.9  False    0.0   \n",
      "8362                             ежедневно, 09:00–00:00     4.1  False    0.0   \n",
      "\n",
      "              price                       avg_bill  middle_avg_bill  \\\n",
      "84          средние             Средний счёт:300 ₽            300.0   \n",
      "306         средние  Цена чашки капучино:200–300 ₽             -1.0   \n",
      "424         средние     Цена бокала пива:150–450 ₽             -1.0   \n",
      "519         средние             Средний счёт:120 ₽            120.0   \n",
      "521         средние            Средний счёт:1000 ₽           1000.0   \n",
      "846         средние          Средний счёт:от 549 ₽            549.0   \n",
      "1183        средние  Цена чашки капучино:130–170 ₽             -1.0   \n",
      "1187        средние          Средний счёт:от 500 ₽            500.0   \n",
      "1232        средние            Средний счёт:1000 ₽           1000.0   \n",
      "1623         низкие   Цена чашки капучино:60–120 ₽             -1.0   \n",
      "2323        средние  Цена чашки капучино:130–230 ₽             -1.0   \n",
      "2610        средние      Цена чашки капучино:100 ₽             -1.0   \n",
      "2631        средние         Средний счёт:200–300 ₽            250.0   \n",
      "2744        средние         Средний счёт:300–500 ₽            400.0   \n",
      "2780        средние         Средний счёт:300–500 ₽            400.0   \n",
      "2906        средние          Средний счёт:90–450 ₽            270.0   \n",
      "3204  выше среднего  Цена чашки капучино:100–200 ₽             -1.0   \n",
      "3287        средние         Средний счёт:200–300 ₽            250.0   \n",
      "4530        средние  Цена чашки капучино:120–150 ₽             -1.0   \n",
      "4841        средние   Цена чашки капучино:99–200 ₽             -1.0   \n",
      "5345        средние        Средний счёт:500–1000 ₽            750.0   \n",
      "5410        средние         Средний счёт:300–600 ₽            450.0   \n",
      "5920        средние          Средний счёт:от 300 ₽            300.0   \n",
      "6075        средние         Средний счёт:270–400 ₽            335.0   \n",
      "6172        средние        Средний счёт:350–1000 ₽            675.0   \n",
      "6846        средние         Средний счёт:300–500 ₽            400.0   \n",
      "6989         низкие      Цена чашки капучино:150 ₽             -1.0   \n",
      "7074        средние  Цена чашки капучино:100–150 ₽             -1.0   \n",
      "7259        средние         Средний счёт:300–500 ₽            400.0   \n",
      "7266        средние         Средний счёт:500–700 ₽            600.0   \n",
      "7283        средние             Средний счёт:800 ₽            800.0   \n",
      "7306        средние         Средний счёт:350–550 ₽            450.0   \n",
      "7321        средние         Средний счёт:700–800 ₽            750.0   \n",
      "7340        средние  Цена чашки капучино:100–160 ₽             -1.0   \n",
      "7360        средние         Средний счёт:250–300 ₽            275.0   \n",
      "7387        средние             Средний счёт:200 ₽            200.0   \n",
      "7403        средние             Средний счёт:426 ₽            426.0   \n",
      "7465        средние             Средний счёт:350 ₽            350.0   \n",
      "7613         низкие         Средний счёт:200–500 ₽            350.0   \n",
      "7657        средние         Средний счёт:300–500 ₽            400.0   \n",
      "7793        средние  Цена чашки капучино:170–230 ₽             -1.0   \n",
      "7838        средние         Средний счёт:300–500 ₽            400.0   \n",
      "7915         низкие             Средний счёт:120 ₽            120.0   \n",
      "8172        средние  Цена чашки капучино:100–210 ₽             -1.0   \n",
      "8336        средние         Средний счёт:120–130 ₽            125.0   \n",
      "8362        средние         Средний счёт:300–800 ₽            550.0   \n",
      "\n",
      "      middle_coffee_cup  is_24_7  \n",
      "84                 -1.0     True  \n",
      "306               250.0    False  \n",
      "424                -1.0    False  \n",
      "519                -1.0     True  \n",
      "521                -1.0    False  \n",
      "846                -1.0    False  \n",
      "1183              150.0    False  \n",
      "1187               -1.0    False  \n",
      "1232               -1.0    False  \n",
      "1623               90.0    False  \n",
      "2323              180.0    False  \n",
      "2610              100.0    False  \n",
      "2631               -1.0    False  \n",
      "2744               -1.0    False  \n",
      "2780               -1.0     True  \n",
      "2906               -1.0     True  \n",
      "3204              150.0    False  \n",
      "3287               -1.0    False  \n",
      "4530              135.0    False  \n",
      "4841              149.0    False  \n",
      "5345               -1.0    False  \n",
      "5410               -1.0    False  \n",
      "5920               -1.0    False  \n",
      "6075               -1.0    False  \n",
      "6172               -1.0    False  \n",
      "6846               -1.0    False  \n",
      "6989              150.0    False  \n",
      "7074              125.0    False  \n",
      "7259               -1.0    False  \n",
      "7266               -1.0    False  \n",
      "7283               -1.0    False  \n",
      "7306               -1.0    False  \n",
      "7321               -1.0    False  \n",
      "7340              130.0    False  \n",
      "7360               -1.0    False  \n",
      "7387               -1.0    False  \n",
      "7403               -1.0    False  \n",
      "7465               -1.0    False  \n",
      "7613               -1.0     True  \n",
      "7657               -1.0    False  \n",
      "7793              200.0    False  \n",
      "7838               -1.0    False  \n",
      "7915               -1.0    False  \n",
      "8172              155.0    False  \n",
      "8336               -1.0     True  \n",
      "8362               -1.0    False  \n"
     ]
    }
   ],
   "source": [
    "# Основные статистические характеристики\n",
    "print(df['seats'].describe())\n",
    "\n",
    "# Проверим наличие нулевых или отрицательных значений\n",
    "print(df[df['seats'] <= 0])"
   ]
  },
  {
   "cell_type": "code",
   "execution_count": 36,
   "id": "9322aac7-29e2-49c4-9792-f63d83d9cfc5",
   "metadata": {},
   "outputs": [
    {
     "data": {
      "image/png": "[encoded data removed]",
      "text/plain": [
       "<Figure size 720x432 with 1 Axes>"
      ]
     },
     "metadata": {
      "needs_background": "light"
     },
     "output_type": "display_data"
    }
   ],
   "source": [
    "plt.figure(figsize=(10, 6))\n",
    "sns.boxplot(x=df['seats'])\n",
    "plt.xlabel(\"Количество посадочных мест\")\n",
    "plt.title(\"Распределение количества посадочных мест\")\n",
    "plt.show()"
   ]
  },
  {
   "cell_type": "code",
   "execution_count": 37,
   "id": "f2586063-b811-4d1a-ad99-d295a72435d8",
   "metadata": {},
   "outputs": [
    {
     "name": "stdout",
     "output_type": "stream",
     "text": [
      "                 median        mean\n",
      "category                           \n",
      "ресторан           86.0  112.043269\n",
      "бар,паб            82.5  107.123967\n",
      "кофейня            80.0   96.247222\n",
      "столовая           75.5   90.035912\n",
      "быстрое питание    65.0   90.751055\n",
      "кафе               60.0   77.744589\n",
      "пиццерия           55.0   88.380000\n",
      "булочная           50.0   86.490566\n"
     ]
    }
   ],
   "source": [
    "# Группировка по категории с расчетом медианы и среднего\n",
    "seats_by_category = df.groupby('category')['seats'].agg(['median', 'mean']).sort_values(by='median', ascending=False)\n",
    "\n",
    "print(seats_by_category)"
   ]
  },
  {
   "cell_type": "code",
   "execution_count": 38,
   "id": "03ca683f-a125-447b-aba1-25c7d48bb8c4",
   "metadata": {},
   "outputs": [
    {
     "data": {
      "image/png": "[encoded data removed]",
      "text/plain": [
       "<Figure size 864x432 with 1 Axes>"
      ]
     },
     "metadata": {
      "needs_background": "light"
     },
     "output_type": "display_data"
    }
   ],
   "source": [
    "plt.figure(figsize=(12, 6))\n",
    "sns.barplot(y=seats_by_category.index, x=seats_by_category['median'])\n",
    "\n",
    "plt.xlabel(\"Медианное количество посадочных мест\")\n",
    "plt.ylabel(\"Категория\")\n",
    "plt.title(\"Медианное количество посадочных мест по категориям\")\n",
    "plt.show()"
   ]
  },
  {
   "cell_type": "markdown",
   "id": "0b3d293a-1195-4aa9-823e-6c12c3571fdd",
   "metadata": {},
   "source": [
    "В данных присутствуют выбросы, это может быть связано с:\n",
    "- Фуд-корты, торговые центры, спортивные комплексы могут иметь тысячи мест,\n",
    "- Заведения в формате самообслуживания могут иметь слишком мало мест.\n",
    "\n",
    "Медиана и среднее значение также сильно отличаются в некоторых категориях, это может говорить о том, что в некоторых районах нет большого спроса или, наоборот, есть районы с очень большим посадочным спросом.\n",
    "\n",
    "В среднем больше всего посадочных мест приходится на категорию \"ресторан\", меньше всего на категории \"пицца\" и \"кафе\"."
   ]
  },
  {
   "cell_type": "markdown",
   "id": "f362b901-7a5b-4a1c-8787-ff3822472b5b",
   "metadata": {},
   "source": [
    "### 3.5 Задача 5\n",
    "Исследуйте рейтинг заведений. Визуализируйте распределение средних рейтингов по категориям заведений. Сильно ли различаются усреднённые рейтинги для разных типов общепита?"
   ]
  },
  {
   "cell_type": "code",
   "execution_count": 39,
   "id": "82b4ccba-0b82-42ab-83db-33e3667eb96f",
   "metadata": {},
   "outputs": [
    {
     "name": "stdout",
     "output_type": "stream",
     "text": [
      "count    3808.000000\n",
      "mean        4.302547\n",
      "std         0.321649\n",
      "min         1.000000\n",
      "25%         4.200000\n",
      "50%         4.300000\n",
      "75%         4.500000\n",
      "max         5.000000\n",
      "Name: rating, dtype: float64\n",
      "Empty DataFrame\n",
      "Columns: [id, name, category, address, district, hours, rating, chain, seats, price, avg_bill, middle_avg_bill, middle_coffee_cup, is_24_7]\n",
      "Index: []\n"
     ]
    }
   ],
   "source": [
    "# Проверим основные статистические характеристики рейтингов\n",
    "print(df['rating'].describe())\n",
    "\n",
    "# Проверим наличие пустых или некорректных значений\n",
    "print(df[df['rating'].isna()])"
   ]
  },
  {
   "cell_type": "code",
   "execution_count": 40,
   "id": "b8ae250e-5075-411d-8dd0-005d69f6a342",
   "metadata": {},
   "outputs": [
    {
     "name": "stdout",
     "output_type": "stream",
     "text": [
      "category\n",
      "бар,паб            4.430785\n",
      "ресторан           4.370000\n",
      "пиццерия           4.303250\n",
      "кофейня            4.302917\n",
      "столовая           4.243094\n",
      "кафе               4.197835\n",
      "булочная           4.164151\n",
      "быстрое питание    4.124895\n",
      "Name: rating, dtype: float64\n"
     ]
    }
   ],
   "source": [
    "# Рассчитаем средний рейтинг по категориям\n",
    "rating_by_category = df.groupby('category')['rating'].mean().sort_values(ascending=False)\n",
    "\n",
    "print(rating_by_category)"
   ]
  },
  {
   "cell_type": "code",
   "execution_count": 41,
   "id": "8b8119ca-3b39-49cc-9be3-007c4d5743ca",
   "metadata": {},
   "outputs": [
    {
     "data": {
      "image/png": "[encoded data removed]",
      "text/plain": [
       "<Figure size 864x432 with 1 Axes>"
      ]
     },
     "metadata": {
      "needs_background": "light"
     },
     "output_type": "display_data"
    }
   ],
   "source": [
    "plt.figure(figsize=(12, 6))\n",
    "sns.stripplot(x='category', y='rating', data=df, jitter=True)\n",
    "\n",
    "plt.xticks(rotation=90)\n",
    "plt.xlabel(\"Категория\")\n",
    "plt.ylabel(\"Рейтинг\")\n",
    "plt.title(\"Точечный график: распределение рейтингов по категориям\")\n",
    "plt.show()\n",
    "plt.show()"
   ]
  },
  {
   "cell_type": "markdown",
   "id": "35e8c0c0-185d-46e5-917d-1ee691a7541f",
   "metadata": {},
   "source": [
    "У всех категорий довольно хороший рейтинг. Усреднённые рейтинги не сильно различаются для разных типов общепита. \n",
    "\n",
    "Так как рейтинг почти одинаковый у всех категорий, можно обратить внимание на аномальные значения. Например, в категории \"кафе\" самое большое количество плохого рейтинга, хотя показателей и мало."
   ]
  },
  {
   "cell_type": "markdown",
   "id": "20c1ba79-7368-44b7-a4f3-527af9a05869",
   "metadata": {},
   "source": [
    "### 3.6 Задача 6\n",
    "Изучите, с какими данными показывают самую сильную корреляцию рейтинги заведений? Постройте и визуализируйте матрицу корреляции рейтинга заведения с разными данными: его категория, положение (административный район Москвы), статус сетевого заведения, количество мест, ценовая категория и признак, является ли заведения круглосуточным. Выберите самую сильную связь и проверьте её."
   ]
  },
  {
   "cell_type": "code",
   "execution_count": 42,
   "id": "031a4f0d-6a41-4be7-9942-f419632bd399",
   "metadata": {},
   "outputs": [
    {
     "name": "stdout",
     "output_type": "stream",
     "text": [
      "interval columns not set, guessing: ['seats', 'rating']\n"
     ]
    },
    {
     "data": {
      "text/html": [
       "<div>\n",
       "<style scoped>\n",
       "    .dataframe tbody tr th:only-of-type {\n",
       "        vertical-align: middle;\n",
       "    }\n",
       "\n",
       "    .dataframe tbody tr th {\n",
       "        vertical-align: top;\n",
       "    }\n",
       "\n",
       "    .dataframe thead th {\n",
       "        text-align: right;\n",
       "    }\n",
       "</style>\n",
       "<table border=\"1\" class=\"dataframe\">\n",
       "  <thead>\n",
       "    <tr style=\"text-align: right;\">\n",
       "      <th></th>\n",
       "      <th>rating</th>\n",
       "    </tr>\n",
       "  </thead>\n",
       "  <tbody>\n",
       "    <tr>\n",
       "      <th>price</th>\n",
       "      <td>0.215333</td>\n",
       "    </tr>\n",
       "    <tr>\n",
       "      <th>category</th>\n",
       "      <td>0.210145</td>\n",
       "    </tr>\n",
       "    <tr>\n",
       "      <th>district</th>\n",
       "      <td>0.188288</td>\n",
       "    </tr>\n",
       "    <tr>\n",
       "      <th>chain</th>\n",
       "      <td>0.138050</td>\n",
       "    </tr>\n",
       "    <tr>\n",
       "      <th>is_24_7</th>\n",
       "      <td>0.120925</td>\n",
       "    </tr>\n",
       "    <tr>\n",
       "      <th>seats</th>\n",
       "      <td>0.000000</td>\n",
       "    </tr>\n",
       "  </tbody>\n",
       "</table>\n",
       "</div>"
      ],
      "text/plain": [
       "            rating\n",
       "price     0.215333\n",
       "category  0.210145\n",
       "district  0.188288\n",
       "chain     0.138050\n",
       "is_24_7   0.120925\n",
       "seats     0.000000"
      ]
     },
     "execution_count": 42,
     "metadata": {},
     "output_type": "execute_result"
    }
   ],
   "source": [
    "correlation_matrix = df[['category', 'district', 'chain', 'seats', 'price', 'is_24_7', 'rating']].phik_matrix() # Cтроим корреляционную матрицу\n",
    "correlation_matrix.loc[correlation_matrix.index != 'rating'][['rating']].sort_values(by='rating', ascending=False)"
   ]
  },
  {
   "cell_type": "markdown",
   "id": "5f75a614-f295-474f-b7d7-fe24bdf9ab9e",
   "metadata": {},
   "source": [
    "Наибольшая корреляция рейтинга наблюдается в \"price\" (0.215), затем идет \"category\" (0.210) и \"distinct\" (0.188)"
   ]
  },
  {
   "cell_type": "code",
   "execution_count": 43,
   "id": "fe68772b-d912-4e06-ac56-c7c045e5987d",
   "metadata": {},
   "outputs": [
    {
     "data": {
      "image/png": "[encoded data removed]",
      "text/plain": [
       "<Figure size 864x576 with 2 Axes>"
      ]
     },
     "metadata": {
      "needs_background": "light"
     },
     "output_type": "display_data"
    }
   ],
   "source": [
    "# Визуализируем тепловую карту\n",
    "plt.figure(figsize=(12, 8))\n",
    "sns.heatmap(correlation_matrix, annot=True, fmt=\".2f\", linewidths=0.5)\n",
    "\n",
    "plt.title(\"Матрица корреляций для различных признаков и рейтинга заведений\")\n",
    "plt.show()"
   ]
  },
  {
   "cell_type": "markdown",
   "id": "825aa391-c2e7-47fe-975b-624cf02ec557",
   "metadata": {},
   "source": [
    "Мы проверили связь корреляционной матрицы, и самой сильной связью так и остались \"price\" и \"category\""
   ]
  },
  {
   "cell_type": "markdown",
   "id": "6dd61855-6e6d-4888-a425-794bb70efca5",
   "metadata": {},
   "source": [
    "### 3.7 Задача 7\n",
    "Сгруппируйте данные по названиям заведений и найдите топ-15 популярных сетей в Москве. Для них посчитайте значения среднего рейтинга. Под популярностью понимается количество заведений этой сети в регионе. К какой категории заведений они относятся? Результат сопроводите подходящими визуализациями."
   ]
  },
  {
   "cell_type": "code",
   "execution_count": 44,
   "id": "e0cb0710-b372-4707-bf4e-09510e4de308",
   "metadata": {},
   "outputs": [
    {
     "data": {
      "text/html": [
       "<div>\n",
       "<style scoped>\n",
       "    .dataframe tbody tr th:only-of-type {\n",
       "        vertical-align: middle;\n",
       "    }\n",
       "\n",
       "    .dataframe tbody tr th {\n",
       "        vertical-align: top;\n",
       "    }\n",
       "\n",
       "    .dataframe thead th {\n",
       "        text-align: right;\n",
       "    }\n",
       "</style>\n",
       "<table border=\"1\" class=\"dataframe\">\n",
       "  <thead>\n",
       "    <tr style=\"text-align: right;\">\n",
       "      <th></th>\n",
       "      <th>total_count</th>\n",
       "      <th>average_rating</th>\n",
       "      <th>category</th>\n",
       "    </tr>\n",
       "    <tr>\n",
       "      <th>name</th>\n",
       "      <th></th>\n",
       "      <th></th>\n",
       "      <th></th>\n",
       "    </tr>\n",
       "  </thead>\n",
       "  <tbody>\n",
       "    <tr>\n",
       "      <th>шоколадница</th>\n",
       "      <td>74</td>\n",
       "      <td>4.175676</td>\n",
       "      <td>кофейня</td>\n",
       "    </tr>\n",
       "    <tr>\n",
       "      <th>додо пицца</th>\n",
       "      <td>72</td>\n",
       "      <td>4.287500</td>\n",
       "      <td>пиццерия</td>\n",
       "    </tr>\n",
       "    <tr>\n",
       "      <th>доминос пицца</th>\n",
       "      <td>36</td>\n",
       "      <td>4.163889</td>\n",
       "      <td>пиццерия</td>\n",
       "    </tr>\n",
       "    <tr>\n",
       "      <th>cofix</th>\n",
       "      <td>35</td>\n",
       "      <td>4.082857</td>\n",
       "      <td>кофейня</td>\n",
       "    </tr>\n",
       "    <tr>\n",
       "      <th>кофепорт</th>\n",
       "      <td>30</td>\n",
       "      <td>4.120000</td>\n",
       "      <td>кофейня</td>\n",
       "    </tr>\n",
       "    <tr>\n",
       "      <th>кулинарная лавка братьев караваевых</th>\n",
       "      <td>29</td>\n",
       "      <td>4.396552</td>\n",
       "      <td>кафе</td>\n",
       "    </tr>\n",
       "    <tr>\n",
       "      <th>prime</th>\n",
       "      <td>25</td>\n",
       "      <td>4.124000</td>\n",
       "      <td>ресторан</td>\n",
       "    </tr>\n",
       "    <tr>\n",
       "      <th>теремок</th>\n",
       "      <td>23</td>\n",
       "      <td>4.182609</td>\n",
       "      <td>ресторан</td>\n",
       "    </tr>\n",
       "    <tr>\n",
       "      <th>муму</th>\n",
       "      <td>19</td>\n",
       "      <td>4.268421</td>\n",
       "      <td>кафе</td>\n",
       "    </tr>\n",
       "    <tr>\n",
       "      <th>хинкальная</th>\n",
       "      <td>19</td>\n",
       "      <td>4.336842</td>\n",
       "      <td>кафе</td>\n",
       "    </tr>\n",
       "    <tr>\n",
       "      <th>тануки</th>\n",
       "      <td>18</td>\n",
       "      <td>4.344444</td>\n",
       "      <td>ресторан</td>\n",
       "    </tr>\n",
       "    <tr>\n",
       "      <th>кофемания</th>\n",
       "      <td>16</td>\n",
       "      <td>4.412500</td>\n",
       "      <td>кофейня</td>\n",
       "    </tr>\n",
       "    <tr>\n",
       "      <th>мск lounge</th>\n",
       "      <td>15</td>\n",
       "      <td>4.413333</td>\n",
       "      <td>бар,паб</td>\n",
       "    </tr>\n",
       "    <tr>\n",
       "      <th>vasilchukí chaihona 1</th>\n",
       "      <td>15</td>\n",
       "      <td>4.360000</td>\n",
       "      <td>ресторан</td>\n",
       "    </tr>\n",
       "    <tr>\n",
       "      <th>андерсон</th>\n",
       "      <td>15</td>\n",
       "      <td>4.486667</td>\n",
       "      <td>ресторан</td>\n",
       "    </tr>\n",
       "  </tbody>\n",
       "</table>\n",
       "</div>"
      ],
      "text/plain": [
       "                                     total_count  average_rating  category\n",
       "name                                                                      \n",
       "шоколадница                                   74        4.175676   кофейня\n",
       "додо пицца                                    72        4.287500  пиццерия\n",
       "доминос пицца                                 36        4.163889  пиццерия\n",
       "cofix                                         35        4.082857   кофейня\n",
       "кофепорт                                      30        4.120000   кофейня\n",
       "кулинарная лавка братьев караваевых           29        4.396552      кафе\n",
       "prime                                         25        4.124000  ресторан\n",
       "теремок                                       23        4.182609  ресторан\n",
       "муму                                          19        4.268421      кафе\n",
       "хинкальная                                    19        4.336842      кафе\n",
       "тануки                                        18        4.344444  ресторан\n",
       "кофемания                                     16        4.412500   кофейня\n",
       "мск lounge                                    15        4.413333   бар,паб\n",
       "vasilchukí chaihona 1                         15        4.360000  ресторан\n",
       "андерсон                                      15        4.486667  ресторан"
      ]
     },
     "execution_count": 44,
     "metadata": {},
     "output_type": "execute_result"
    }
   ],
   "source": [
    "# Группируем данные по названию заведения\n",
    "grouped = df.groupby('name').agg(\n",
    "    total_count=('name', 'size'),\n",
    "    average_rating=('rating', 'mean'),\n",
    "    category=('category', 'first')\n",
    ")\n",
    "\n",
    "# Отсортируем по количеству заведений в сети\n",
    "top_15_popular_chains = grouped.sort_values(by='total_count', ascending=False).head(15)\n",
    "\n",
    "# Выводим топ-15 популярных сетей\n",
    "top_15_popular_chains[['total_count', 'average_rating', 'category']]"
   ]
  },
  {
   "cell_type": "code",
   "execution_count": 45,
   "id": "c849acab-c31e-4059-b818-f4696fc81297",
   "metadata": {},
   "outputs": [
    {
     "data": {
      "image/png": "[encoded data removed]",
      "text/plain": [
       "<Figure size 864x432 with 2 Axes>"
      ]
     },
     "metadata": {
      "needs_background": "light"
     },
     "output_type": "display_data"
    }
   ],
   "source": [
    "# Визуализируем количество заведений и средний рейтинг для топ-15 сетей\n",
    "fig, ax1 = plt.subplots(figsize=(12, 6))\n",
    "\n",
    "# Гистограмма для количества заведений\n",
    "ax1.bar(top_15_popular_chains.index, top_15_popular_chains['total_count'], color='b', alpha=0.6, label='Количество заведений')\n",
    "ax1.set_xlabel('Название сети')\n",
    "ax1.set_ylabel('Количество заведений', color='b')\n",
    "ax1.tick_params(axis='x', rotation=90)\n",
    "\n",
    "# Вторая ось для среднего рейтинга\n",
    "ax2 = ax1.twinx()\n",
    "ax2.plot(top_15_popular_chains.index, top_15_popular_chains['average_rating'], color='r', marker='o', label='Средний рейтинг')\n",
    "ax2.set_ylabel('Средний рейтинг', color='r')\n",
    "\n",
    "# Заголовок\n",
    "plt.title('Топ-15 популярных сетей в Москве по количеству заведений и среднему рейтингу')\n",
    "plt.tight_layout()\n",
    "plt.show()"
   ]
  },
  {
   "cell_type": "markdown",
   "id": "1bdb36a4-06b2-4453-baf3-d2f518ed8773",
   "metadata": {},
   "source": [
    "На первом месте по популярности \"шоколадница\" в категории \"кафе\", всего 74 заведения и средний рейтинг составляет 4.17.\n",
    "\n",
    "За ней следуют 2 пиццерии, за ними - 2 кофейни. Стоит отметить, что у сетевых кофеен в сравнении довольно низкий рейтинг, например, самый низкий рейтинг из всего топ-15 у \"cofix\", он составляет 4.0."
   ]
  },
  {
   "cell_type": "markdown",
   "id": "7eef0b2f-6a28-4e62-9038-0939ee14ea3f",
   "metadata": {},
   "source": [
    "### 3.8 Задача 8\n",
    "Изучите вариацию среднего чека заведения (столбец middle_avg_bill) в зависимости от района Москвы. Проанализируйте цены в центральном административном округе и других. Как удалённость от центра влияет на цены в заведениях? Результат сопроводите подходящими визуализациями."
   ]
  },
  {
   "cell_type": "code",
   "execution_count": 46,
   "id": "f5a09856-83a9-43fe-993b-5aa06c61d452",
   "metadata": {},
   "outputs": [
    {
     "name": "stdout",
     "output_type": "stream",
     "text": [
      "                                  district  mean_avg_bill  median_avg_bill\n",
      "0         Восточный административный округ     688.106452            450.0\n",
      "1          Западный административный округ     892.033333            610.0\n",
      "2          Северный административный округ     723.273608            450.0\n",
      "3  Северо-Восточный административный округ     585.959239            400.0\n",
      "4   Северо-Западный административный округ     697.627027            475.0\n",
      "5       Центральный административный округ     976.855590            800.0\n",
      "6     Юго-Восточный административный округ     537.512712            372.0\n",
      "7      Юго-Западный административный округ     674.677536            500.0\n",
      "8             Южный административный округ     701.252688            425.0\n"
     ]
    }
   ],
   "source": [
    "# Группировка по районам и расчет среднего и медианного чека\n",
    "avg_bill_by_district = df.groupby('district')['middle_avg_bill'].agg(['mean', 'median']).reset_index()\n",
    "\n",
    "# Переименуем столбцы для удобства\n",
    "avg_bill_by_district = avg_bill_by_district.rename(columns={'mean': 'mean_avg_bill', 'median': 'median_avg_bill'})\n",
    "\n",
    "print(avg_bill_by_district)"
   ]
  },
  {
   "cell_type": "code",
   "execution_count": 47,
   "id": "50cd5082-9caa-4217-83db-93dcd469ddbc",
   "metadata": {},
   "outputs": [
    {
     "name": "stdout",
     "output_type": "stream",
     "text": [
      "Средний чек в центральном округе: 976.8555900621118\n",
      "Средний чек в других округах: 695.1511904761904\n"
     ]
    }
   ],
   "source": [
    "# Данные для центрального округа\n",
    "central_district = df[df['district'] == 'Центральный административный округ']\n",
    "\n",
    "# Данные для остальных округов\n",
    "other_districts = df[df['district'] != 'Центральный административный округ']\n",
    "\n",
    "# Средний чек в центральном округе\n",
    "central_avg_bill = central_district['middle_avg_bill'].mean()\n",
    "\n",
    "# Средний чек в других округах\n",
    "other_avg_bill = other_districts['middle_avg_bill'].mean()\n",
    "\n",
    "print(f\"Средний чек в центральном округе: {central_avg_bill}\")\n",
    "print(f\"Средний чек в других округах: {other_avg_bill}\")"
   ]
  },
  {
   "cell_type": "code",
   "execution_count": 48,
   "id": "8edd5151-72c5-4dc0-b3f2-e5777aff624f",
   "metadata": {},
   "outputs": [
    {
     "data": {
      "image/png": "[encoded data removed]",
      "text/plain": [
       "<Figure size 1008x576 with 1 Axes>"
      ]
     },
     "metadata": {
      "needs_background": "light"
     },
     "output_type": "display_data"
    }
   ],
   "source": [
    "import numpy as np\n",
    "# Подготовка данных для визуализации\n",
    "districts = avg_bill_by_district['district']\n",
    "mean_values = avg_bill_by_district['mean_avg_bill']\n",
    "median_values = avg_bill_by_district['median_avg_bill']\n",
    "\n",
    "# Позиции для столбцов\n",
    "x = np.arange(len(districts))\n",
    "\n",
    "# Построение графика\n",
    "plt.figure(figsize=(14, 8))\n",
    "bar_width = 0.35\n",
    "\n",
    "plt.bar(x - bar_width/2, mean_values, width=bar_width, label='Средний чек', color='skyblue')\n",
    "plt.bar(x + bar_width/2, median_values, width=bar_width, label='Медианный чек', color='orange')\n",
    "\n",
    "plt.xticks(x, districts, rotation=90)\n",
    "plt.title('Сравнение среднего и медианного чека по районам Москвы')\n",
    "plt.xlabel('Район')\n",
    "plt.ylabel('Средний/медианный чек (руб)')\n",
    "plt.legend()\n",
    "plt.grid(axis='y', linestyle='--', alpha=0.7)\n",
    "plt.show()"
   ]
  },
  {
   "cell_type": "markdown",
   "id": "3ac65301-a980-4c66-9b00-d395ab8e1239",
   "metadata": {},
   "source": [
    "В ЦАО средний и медианный чеки намного выше. Можно сказать, что удаленность от центра сильно влияет на размер чека: чем дальше, тем средний чек бдует меньше."
   ]
  },
  {
   "cell_type": "markdown",
   "id": "4e6cff43-897c-40db-b0ff-990612c241b9",
   "metadata": {},
   "source": [
    "## Итоговый вывод и рекомендации\n",
    "\n",
    "В результате анализа данных были выявлены ключевые паттерны в соотношении цен, рейтингов, категорий заведений и их расположения в Москве. Учитывая эти выводы, заказчик может эффективно планировать открытие новых заведений, ориентируясь на экономические реалии и предпочтения московской аудитории.\n",
    "\n",
    "### Общий обзор проделанной работы\n",
    "В ходе исследовательского анализа данных о заведениях общественного питания в Москве были проведены следующие этапы:\n",
    "- Выполнена очистка данных, удаление пропусков и нормализация текстовых данных, таких как название заведения и адрес. Также были исправлены и обработаны аномальные значения в столбцах, таких как средний чек и количество посадочных мест.\n",
    "- Исследована вариация цен (среднего чека) в зависимости от района города и категории заведения.\n",
    "- Проведен анализ различий в ценах между Центральным административным округом (ЦАО) и остальными районами.\n",
    "- Проведён анализ распределения заведений по категориям, административным районам, а также соотношение сетевых и несетевых заведений.\n",
    "\n",
    "\n",
    "### Ответы на исследовательские вопросы, или главные выводы\n",
    "- Из данных видно, что большинство заведений — это кафе и рестораны, при этом наибольшее количество сетевых заведений сосредоточено в таких категориях, как «ресторан» и «кофейня».\n",
    "-  Заведения в Центральном административном округе демонстрируют более высокие средние чеки по сравнению с заведениями в других районах.\n",
    "-  В Москве наблюдается преобладание несетевых заведений в таких категориях, как кафе и рестораны, что подтверждается более высоким количеством заведений в этих категориях.\n",
    "\n",
    "### Рекомендации на основе анализа данных\n",
    "- Рекомендуется обратить внимание на ЦАО, так как заведениями в этом округе свойственен более высокий средний чек и спрос.\n",
    "- Для создания успешной сети стоит рассмотреть популярные категории, такие как кофейни и рестораны.\n",
    "- Для несетевых заведений стоит уделить особое внимание клиентскому сервису и улучшению репутации, так как высокий рейтинг напрямую влияет на популярность заведения"
   ]
  }
 ],
 "metadata": {
  "ExecuteTimeLog": [
   {
    "duration": 3484,
    "start_time": "2025-03-10T05:05:56.803Z"
   },
   {
    "duration": 1486,
    "start_time": "2025-03-10T05:06:00.289Z"
   },
   {
    "duration": 262,
    "start_time": "2025-03-10T05:06:01.777Z"
   },
   {
    "duration": 16,
    "start_time": "2025-03-10T05:06:02.040Z"
   },
   {
    "duration": 46,
    "start_time": "2025-03-10T05:06:02.058Z"
   },
   {
    "duration": 21,
    "start_time": "2025-03-10T05:06:02.105Z"
   },
   {
    "duration": 60,
    "start_time": "2025-03-10T05:06:02.128Z"
   },
   {
    "duration": 36,
    "start_time": "2025-03-10T05:06:02.189Z"
   },
   {
    "duration": 60,
    "start_time": "2025-03-10T05:06:02.226Z"
   },
   {
    "duration": 16,
    "start_time": "2025-03-10T05:06:02.287Z"
   },
   {
    "duration": 18,
    "start_time": "2025-03-10T05:06:02.304Z"
   },
   {
    "duration": 3,
    "start_time": "2025-03-10T05:06:02.324Z"
   },
   {
    "duration": 70,
    "start_time": "2025-03-10T05:06:02.328Z"
   },
   {
    "duration": 74,
    "start_time": "2025-03-10T05:06:02.401Z"
   },
   {
    "duration": 23,
    "start_time": "2025-03-10T05:06:02.477Z"
   },
   {
    "duration": 21,
    "start_time": "2025-03-10T05:06:02.502Z"
   },
   {
    "duration": 4,
    "start_time": "2025-03-10T05:06:02.524Z"
   },
   {
    "duration": 5,
    "start_time": "2025-03-10T05:06:02.530Z"
   },
   {
    "duration": 37,
    "start_time": "2025-03-10T05:06:02.537Z"
   },
   {
    "duration": 9,
    "start_time": "2025-03-10T05:06:02.576Z"
   },
   {
    "duration": 37,
    "start_time": "2025-03-10T05:06:02.586Z"
   },
   {
    "duration": 13,
    "start_time": "2025-03-10T05:06:02.625Z"
   },
   {
    "duration": 6,
    "start_time": "2025-03-10T05:06:02.639Z"
   },
   {
    "duration": 19,
    "start_time": "2025-03-10T05:06:02.646Z"
   },
   {
    "duration": 36,
    "start_time": "2025-03-10T05:06:02.666Z"
   },
   {
    "duration": 184,
    "start_time": "2025-03-10T05:06:02.703Z"
   },
   {
    "duration": 4,
    "start_time": "2025-03-10T05:06:02.888Z"
   },
   {
    "duration": 66,
    "start_time": "2025-03-10T05:06:02.893Z"
   },
   {
    "duration": 261,
    "start_time": "2025-03-10T05:06:02.961Z"
   },
   {
    "duration": 7,
    "start_time": "2025-03-10T05:06:03.223Z"
   },
   {
    "duration": 189,
    "start_time": "2025-03-10T05:06:03.231Z"
   },
   {
    "duration": 96,
    "start_time": "2025-03-10T05:06:03.422Z"
   },
   {
    "duration": 7,
    "start_time": "2025-03-10T05:06:03.520Z"
   },
   {
    "duration": 216,
    "start_time": "2025-03-10T05:06:03.529Z"
   },
   {
    "duration": 25,
    "start_time": "2025-03-10T05:06:03.746Z"
   },
   {
    "duration": 154,
    "start_time": "2025-03-10T05:06:03.773Z"
   },
   {
    "duration": 8,
    "start_time": "2025-03-10T05:06:03.929Z"
   },
   {
    "duration": 183,
    "start_time": "2025-03-10T05:06:03.938Z"
   },
   {
    "duration": 9,
    "start_time": "2025-03-10T05:06:04.122Z"
   },
   {
    "duration": 46,
    "start_time": "2025-03-10T05:06:04.132Z"
   },
   {
    "duration": 296,
    "start_time": "2025-03-10T05:06:04.182Z"
   },
   {
    "duration": 155,
    "start_time": "2025-03-10T05:06:04.480Z"
   },
   {
    "duration": 658,
    "start_time": "2025-03-10T05:06:04.637Z"
   },
   {
    "duration": 24,
    "start_time": "2025-03-10T05:06:05.296Z"
   },
   {
    "duration": 468,
    "start_time": "2025-03-10T05:06:05.321Z"
   },
   {
    "duration": 10,
    "start_time": "2025-03-10T05:06:05.790Z"
   },
   {
    "duration": 29,
    "start_time": "2025-03-10T05:06:05.802Z"
   },
   {
    "duration": 284,
    "start_time": "2025-03-10T05:06:05.832Z"
   },
   {
    "duration": 10,
    "start_time": "2025-03-10T05:09:55.107Z"
   },
   {
    "duration": 2368,
    "start_time": "2025-03-10T05:10:11.049Z"
   },
   {
    "duration": 1220,
    "start_time": "2025-03-10T05:10:13.419Z"
   },
   {
    "duration": 253,
    "start_time": "2025-03-10T05:10:14.641Z"
   },
   {
    "duration": 15,
    "start_time": "2025-03-10T05:10:14.896Z"
   },
   {
    "duration": 13,
    "start_time": "2025-03-10T05:10:14.913Z"
   },
   {
    "duration": 80,
    "start_time": "2025-03-10T05:10:14.927Z"
   },
   {
    "duration": 11,
    "start_time": "2025-03-10T05:10:15.008Z"
   },
   {
    "duration": 124,
    "start_time": "2025-03-10T05:10:15.020Z"
   },
   {
    "duration": 110,
    "start_time": "2025-03-10T05:10:15.146Z"
   },
   {
    "duration": 26,
    "start_time": "2025-03-10T05:10:15.259Z"
   },
   {
    "duration": 10,
    "start_time": "2025-03-10T05:10:15.287Z"
   },
   {
    "duration": 7,
    "start_time": "2025-03-10T05:10:15.299Z"
   },
   {
    "duration": 10,
    "start_time": "2025-03-10T05:10:15.308Z"
   },
   {
    "duration": 28,
    "start_time": "2025-03-10T05:10:15.320Z"
   },
   {
    "duration": 22,
    "start_time": "2025-03-10T05:10:15.350Z"
   },
   {
    "duration": 39,
    "start_time": "2025-03-10T05:10:15.374Z"
   },
   {
    "duration": 24,
    "start_time": "2025-03-10T05:10:15.415Z"
   },
   {
    "duration": 5,
    "start_time": "2025-03-10T05:10:15.441Z"
   },
   {
    "duration": 11,
    "start_time": "2025-03-10T05:10:15.447Z"
   },
   {
    "duration": 7,
    "start_time": "2025-03-10T05:10:15.460Z"
   },
   {
    "duration": 38,
    "start_time": "2025-03-10T05:10:15.468Z"
   },
   {
    "duration": 24,
    "start_time": "2025-03-10T05:10:15.508Z"
   },
   {
    "duration": 6,
    "start_time": "2025-03-10T05:10:15.534Z"
   },
   {
    "duration": 17,
    "start_time": "2025-03-10T05:10:15.541Z"
   },
   {
    "duration": 14,
    "start_time": "2025-03-10T05:10:15.560Z"
   },
   {
    "duration": 184,
    "start_time": "2025-03-10T05:10:15.575Z"
   },
   {
    "duration": 4,
    "start_time": "2025-03-10T05:10:15.762Z"
   },
   {
    "duration": 73,
    "start_time": "2025-03-10T05:10:15.771Z"
   },
   {
    "duration": 244,
    "start_time": "2025-03-10T05:10:15.845Z"
   },
   {
    "duration": 7,
    "start_time": "2025-03-10T05:10:16.091Z"
   },
   {
    "duration": 201,
    "start_time": "2025-03-10T05:10:16.099Z"
   },
   {
    "duration": 101,
    "start_time": "2025-03-10T05:10:16.302Z"
   },
   {
    "duration": 7,
    "start_time": "2025-03-10T05:10:16.405Z"
   },
   {
    "duration": 259,
    "start_time": "2025-03-10T05:10:16.414Z"
   },
   {
    "duration": 21,
    "start_time": "2025-03-10T05:10:16.675Z"
   },
   {
    "duration": 128,
    "start_time": "2025-03-10T05:10:16.698Z"
   },
   {
    "duration": 10,
    "start_time": "2025-03-10T05:10:16.828Z"
   },
   {
    "duration": 211,
    "start_time": "2025-03-10T05:10:16.840Z"
   },
   {
    "duration": 8,
    "start_time": "2025-03-10T05:10:17.057Z"
   },
   {
    "duration": 59,
    "start_time": "2025-03-10T05:10:17.067Z"
   },
   {
    "duration": 297,
    "start_time": "2025-03-10T05:10:17.128Z"
   },
   {
    "duration": 156,
    "start_time": "2025-03-10T05:10:17.427Z"
   },
   {
    "duration": 575,
    "start_time": "2025-03-10T05:10:17.585Z"
   },
   {
    "duration": 23,
    "start_time": "2025-03-10T05:10:18.162Z"
   },
   {
    "duration": 434,
    "start_time": "2025-03-10T05:10:18.187Z"
   },
   {
    "duration": 10,
    "start_time": "2025-03-10T05:10:18.622Z"
   },
   {
    "duration": 7,
    "start_time": "2025-03-10T05:10:18.634Z"
   },
   {
    "duration": 304,
    "start_time": "2025-03-10T05:10:18.642Z"
   },
   {
    "duration": 472,
    "start_time": "2025-03-10T05:10:48.079Z"
   },
   {
    "duration": 3646,
    "start_time": "2025-03-11T09:16:30.520Z"
   },
   {
    "duration": 1419,
    "start_time": "2025-03-11T09:16:34.169Z"
   },
   {
    "duration": 191,
    "start_time": "2025-03-11T09:16:35.590Z"
   },
   {
    "duration": 17,
    "start_time": "2025-03-11T09:16:35.783Z"
   },
   {
    "duration": 53,
    "start_time": "2025-03-11T09:16:35.801Z"
   },
   {
    "duration": 41,
    "start_time": "2025-03-11T09:16:35.856Z"
   },
   {
    "duration": 49,
    "start_time": "2025-03-11T09:16:35.899Z"
   },
   {
    "duration": 25,
    "start_time": "2025-03-11T09:16:35.950Z"
   },
   {
    "duration": 59,
    "start_time": "2025-03-11T09:16:35.976Z"
   },
   {
    "duration": 51,
    "start_time": "2025-03-11T09:16:36.037Z"
   },
   {
    "duration": 29,
    "start_time": "2025-03-11T09:16:36.089Z"
   },
   {
    "duration": 52,
    "start_time": "2025-03-11T09:16:36.120Z"
   },
   {
    "duration": 47,
    "start_time": "2025-03-11T09:16:36.173Z"
   },
   {
    "duration": 31,
    "start_time": "2025-03-11T09:16:36.222Z"
   },
   {
    "duration": 13,
    "start_time": "2025-03-11T09:16:36.255Z"
   },
   {
    "duration": 57,
    "start_time": "2025-03-11T09:16:36.269Z"
   },
   {
    "duration": 37,
    "start_time": "2025-03-11T09:16:36.328Z"
   },
   {
    "duration": 32,
    "start_time": "2025-03-11T09:16:36.367Z"
   },
   {
    "duration": 59,
    "start_time": "2025-03-11T09:16:36.401Z"
   },
   {
    "duration": 12,
    "start_time": "2025-03-11T09:16:36.462Z"
   },
   {
    "duration": 32,
    "start_time": "2025-03-11T09:16:36.476Z"
   },
   {
    "duration": 39,
    "start_time": "2025-03-11T09:16:36.510Z"
   },
   {
    "duration": 7,
    "start_time": "2025-03-11T09:16:36.551Z"
   },
   {
    "duration": 26,
    "start_time": "2025-03-11T09:16:36.559Z"
   },
   {
    "duration": 36,
    "start_time": "2025-03-11T09:16:36.587Z"
   },
   {
    "duration": 199,
    "start_time": "2025-03-11T09:16:36.625Z"
   },
   {
    "duration": 4,
    "start_time": "2025-03-11T09:16:36.826Z"
   },
   {
    "duration": 12,
    "start_time": "2025-03-11T09:16:36.834Z"
   },
   {
    "duration": 260,
    "start_time": "2025-03-11T09:16:36.848Z"
   },
   {
    "duration": 7,
    "start_time": "2025-03-11T09:16:37.110Z"
   },
   {
    "duration": 207,
    "start_time": "2025-03-11T09:16:37.119Z"
   },
   {
    "duration": 105,
    "start_time": "2025-03-11T09:16:37.328Z"
   },
   {
    "duration": 11,
    "start_time": "2025-03-11T09:16:37.435Z"
   },
   {
    "duration": 242,
    "start_time": "2025-03-11T09:16:37.447Z"
   },
   {
    "duration": 30,
    "start_time": "2025-03-11T09:16:37.691Z"
   },
   {
    "duration": 125,
    "start_time": "2025-03-11T09:16:37.723Z"
   },
   {
    "duration": 9,
    "start_time": "2025-03-11T09:16:37.849Z"
   },
   {
    "duration": 192,
    "start_time": "2025-03-11T09:16:37.859Z"
   },
   {
    "duration": 9,
    "start_time": "2025-03-11T09:16:38.052Z"
   },
   {
    "duration": 31,
    "start_time": "2025-03-11T09:16:38.063Z"
   },
   {
    "duration": 350,
    "start_time": "2025-03-11T09:16:38.096Z"
   },
   {
    "duration": 168,
    "start_time": "2025-03-11T09:16:38.448Z"
   },
   {
    "duration": 610,
    "start_time": "2025-03-11T09:16:38.618Z"
   },
   {
    "duration": 25,
    "start_time": "2025-03-11T09:16:39.230Z"
   },
   {
    "duration": 442,
    "start_time": "2025-03-11T09:16:39.257Z"
   },
   {
    "duration": 11,
    "start_time": "2025-03-11T09:16:39.703Z"
   },
   {
    "duration": 32,
    "start_time": "2025-03-11T09:16:39.716Z"
   },
   {
    "duration": 307,
    "start_time": "2025-03-11T09:16:39.750Z"
   },
   {
    "duration": 94,
    "start_time": "2025-03-11T09:17:19.698Z"
   },
   {
    "duration": 85,
    "start_time": "2025-03-11T09:17:26.490Z"
   },
   {
    "duration": 2502,
    "start_time": "2025-03-11T09:19:44.894Z"
   },
   {
    "duration": 1278,
    "start_time": "2025-03-11T09:19:47.399Z"
   },
   {
    "duration": 250,
    "start_time": "2025-03-11T09:19:48.679Z"
   },
   {
    "duration": 15,
    "start_time": "2025-03-11T09:19:48.932Z"
   },
   {
    "duration": 17,
    "start_time": "2025-03-11T09:19:48.948Z"
   },
   {
    "duration": 20,
    "start_time": "2025-03-11T09:19:48.967Z"
   },
   {
    "duration": 19,
    "start_time": "2025-03-11T09:19:48.988Z"
   },
   {
    "duration": 11,
    "start_time": "2025-03-11T09:19:49.009Z"
   },
   {
    "duration": 46,
    "start_time": "2025-03-11T09:19:49.021Z"
   },
   {
    "duration": 15,
    "start_time": "2025-03-11T09:19:49.071Z"
   },
   {
    "duration": 8,
    "start_time": "2025-03-11T09:19:49.088Z"
   },
   {
    "duration": 13,
    "start_time": "2025-03-11T09:19:49.098Z"
   },
   {
    "duration": 16,
    "start_time": "2025-03-11T09:19:49.113Z"
   },
   {
    "duration": 12,
    "start_time": "2025-03-11T09:19:49.130Z"
   },
   {
    "duration": 19,
    "start_time": "2025-03-11T09:19:49.143Z"
   },
   {
    "duration": 17,
    "start_time": "2025-03-11T09:19:49.164Z"
   },
   {
    "duration": 8,
    "start_time": "2025-03-11T09:19:49.182Z"
   },
   {
    "duration": 8,
    "start_time": "2025-03-11T09:19:49.191Z"
   },
   {
    "duration": 30,
    "start_time": "2025-03-11T09:19:49.200Z"
   },
   {
    "duration": 13,
    "start_time": "2025-03-11T09:19:49.231Z"
   },
   {
    "duration": 19,
    "start_time": "2025-03-11T09:19:49.245Z"
   },
   {
    "duration": 24,
    "start_time": "2025-03-11T09:19:49.266Z"
   },
   {
    "duration": 17,
    "start_time": "2025-03-11T09:19:49.291Z"
   },
   {
    "duration": 21,
    "start_time": "2025-03-11T09:19:49.309Z"
   },
   {
    "duration": 15,
    "start_time": "2025-03-11T09:19:49.331Z"
   },
   {
    "duration": 204,
    "start_time": "2025-03-11T09:19:49.347Z"
   },
   {
    "duration": 6,
    "start_time": "2025-03-11T09:19:49.553Z"
   },
   {
    "duration": 9,
    "start_time": "2025-03-11T09:19:49.563Z"
   },
   {
    "duration": 284,
    "start_time": "2025-03-11T09:19:49.575Z"
   },
   {
    "duration": 8,
    "start_time": "2025-03-11T09:19:49.861Z"
   },
   {
    "duration": 207,
    "start_time": "2025-03-11T09:19:49.872Z"
   },
   {
    "duration": 109,
    "start_time": "2025-03-11T09:19:50.081Z"
   },
   {
    "duration": 17,
    "start_time": "2025-03-11T09:19:50.192Z"
   },
   {
    "duration": 229,
    "start_time": "2025-03-11T09:19:50.211Z"
   },
   {
    "duration": 21,
    "start_time": "2025-03-11T09:19:50.441Z"
   },
   {
    "duration": 142,
    "start_time": "2025-03-11T09:19:50.463Z"
   },
   {
    "duration": 10,
    "start_time": "2025-03-11T09:19:50.607Z"
   },
   {
    "duration": 197,
    "start_time": "2025-03-11T09:19:50.619Z"
   },
   {
    "duration": 9,
    "start_time": "2025-03-11T09:19:50.818Z"
   },
   {
    "duration": 7,
    "start_time": "2025-03-11T09:19:50.829Z"
   },
   {
    "duration": 328,
    "start_time": "2025-03-11T09:19:50.838Z"
   },
   {
    "duration": 162,
    "start_time": "2025-03-11T09:19:51.168Z"
   },
   {
    "duration": 595,
    "start_time": "2025-03-11T09:19:51.332Z"
   },
   {
    "duration": 24,
    "start_time": "2025-03-11T09:19:51.929Z"
   },
   {
    "duration": 492,
    "start_time": "2025-03-11T09:19:51.955Z"
   },
   {
    "duration": 10,
    "start_time": "2025-03-11T09:19:52.449Z"
   },
   {
    "duration": 31,
    "start_time": "2025-03-11T09:19:52.460Z"
   },
   {
    "duration": 329,
    "start_time": "2025-03-11T09:19:52.493Z"
   }
  ],
  "kernelspec": {
   "display_name": "Python 3 (ipykernel)",
   "language": "python",
   "name": "python3"
  },
  "language_info": {
   "codemirror_mode": {
    "name": "ipython",
    "version": 3
   },
   "file_extension": ".py",
   "mimetype": "text/x-python",
   "name": "python",
   "nbconvert_exporter": "python",
   "pygments_lexer": "ipython3",
   "version": "3.9.13"
  },
  "toc": {
   "base_numbering": 1,
   "nav_menu": {},
   "number_sections": true,
   "sideBar": true,
   "skip_h1_title": true,
   "title_cell": "Table of Contents",
   "title_sidebar": "Contents",
   "toc_cell": false,
   "toc_position": {},
   "toc_section_display": true,
   "toc_window_display": false
  }
 },
 "nbformat": 4,
 "nbformat_minor": 5
}
